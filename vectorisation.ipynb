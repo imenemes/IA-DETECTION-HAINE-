{
  "nbformat": 4,
  "nbformat_minor": 0,
  "metadata": {
    "colab": {
      "name": "vectorisation.ipynb",
      "provenance": [],
      "authorship_tag": "ABX9TyP747KdTlc5/sHC2RdaD7JA"
    },
    "kernelspec": {
      "name": "python3",
      "display_name": "Python 3"
    },
    "language_info": {
      "name": "python"
    }
  },
  "cells": [
    {
      "cell_type": "code",
      "source": [
        "from google.colab import files\n",
        "import pandas as pd"
      ],
      "metadata": {
        "id": "zvQuBn82dDx7"
      },
      "execution_count": 11,
      "outputs": []
    },
    {
      "cell_type": "code",
      "source": [
        "uploaded = files.upload()"
      ],
      "metadata": {
        "colab": {
          "resources": {
            "http://localhost:8080/nbextensions/google.colab/files.js": {
              "data": "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",
              "ok": true,
              "headers": [
                [
                  "content-type",
                  "application/javascript"
                ]
              ],
              "status": 200,
              "status_text": "OK"
            }
          },
          "base_uri": "https://localhost:8080/",
          "height": 77
        },
        "id": "qcHAG0CTdF8Z",
        "outputId": "1552969c-a760-430a-f126-256fd674de5c"
      },
      "execution_count": 3,
      "outputs": [
        {
          "output_type": "display_data",
          "data": {
            "text/html": [
              "\n",
              "     <input type=\"file\" id=\"files-d7480727-e114-46b6-a4be-dc64158e2e75\" name=\"files[]\" multiple disabled\n",
              "        style=\"border:none\" />\n",
              "     <output id=\"result-d7480727-e114-46b6-a4be-dc64158e2e75\">\n",
              "      Upload widget is only available when the cell has been executed in the\n",
              "      current browser session. Please rerun this cell to enable.\n",
              "      </output>\n",
              "      <script src=\"/nbextensions/google.colab/files.js\"></script> "
            ],
            "text/plain": [
              "<IPython.core.display.HTML object>"
            ]
          },
          "metadata": {}
        },
        {
          "output_type": "stream",
          "name": "stdout",
          "text": [
            "Saving clean_data to clean_data\n"
          ]
        }
      ]
    },
    {
      "cell_type": "code",
      "execution_count": 61,
      "metadata": {
        "id": "jktxcbjoXgYR"
      },
      "outputs": [],
      "source": [
        "with open(\"clean_data\", \"r\") as file:\n",
        "    lines = file.readlines()\n",
        "    \n",
        "cleaned_tweet_list = [line.split() for line in lines]\n"
      ]
    },
    {
      "cell_type": "code",
      "source": [
        "cleaned_tweet=list(cleaned_tweet_list)\n",
        "for i in range(len(cleaned_tweet)):\n",
        "    cleaned_tweet[i] = ' '.join(cleaned_tweet[i])\n"
      ],
      "metadata": {
        "id": "rlXBZXhIf6Bd"
      },
      "execution_count": 60,
      "outputs": []
    },
    {
      "cell_type": "code",
      "source": [
        "# Transformer notre échantillon en dataframe\n",
        "df = pd.DataFrame(cleaned_tweet,columns =['cleaned_tweet'])\n",
        "print(df['cleaned_tweet'].head())"
      ],
      "metadata": {
        "colab": {
          "base_uri": "https://localhost:8080/"
        },
        "id": "YvarkTVkfT54",
        "outputId": "5f5323a5-18b3-49ba-a3b8-7711b5981e49"
      },
      "execution_count": 37,
      "outputs": [
        {
          "output_type": "stream",
          "name": "stdout",
          "text": [
            "0    être avoir culot venir jouer victime mécher gr...\n",
            "1    jslalsbd faisc taire veu dieuj llook effectvue...\n",
            "2                                                unise\n",
            "3    meme être fan puma aller vaincre milan ac team...\n",
            "4                                  regarde truc savoir\n",
            "Name: cleaned_tweet, dtype: object\n"
          ]
        }
      ]
    },
    {
      "cell_type": "markdown",
      "source": [
        "## 6 - **Vectorization** (featurization)"
      ],
      "metadata": {
        "id": "_Qhb5lol5tv5"
      }
    },
    {
      "cell_type": "code",
      "source": [
        "from sklearn.feature_extraction.text import TfidfVectorizer, CountVectorizer"
      ],
      "metadata": {
        "id": "TfeHs0u3eqK6"
      },
      "execution_count": 7,
      "outputs": []
    },
    {
      "cell_type": "markdown",
      "source": [
        "A- **Méthode BOW**"
      ],
      "metadata": {
        "id": "JmFgp4Hokl5w"
      }
    },
    {
      "cell_type": "code",
      "source": [
        "# définir le tokenizer\n",
        "def tokenizer(text):\n",
        "    return text\n"
      ],
      "metadata": {
        "id": "E0cvzKvyapM6"
      },
      "execution_count": 6,
      "outputs": []
    },
    {
      "cell_type": "code",
      "source": [
        "bow_vectorizer = CountVectorizer(analyzer='word',lowercase=False)\n",
        "print('Tweet before vectorization: {}'.format(cleaned_tweet[83]))\n",
        "bow = bow_vectorizer.fit_transform(cleaned_tweet)\n",
        "\n",
        "print('Tweet after vectorization: \\n{}'.format(bow[83]))\n",
        "bow.shape"
      ],
      "metadata": {
        "id": "k9t563yMkstE",
        "colab": {
          "base_uri": "https://localhost:8080/"
        },
        "outputId": "31533330-f579-45fe-bce6-2eca6074ee19"
      },
      "execution_count": 18,
      "outputs": [
        {
          "output_type": "stream",
          "name": "stdout",
          "text": [
            "Tweet before vectorization: monsieur député attention souffrance peuple iranien démocratie pouvoir apporter paix pays cnri soutenir œuvre obtenir\n",
            "Tweet after vectorization: \n",
            "  (0, 6727)\t1\n",
            "  (0, 8032)\t1\n",
            "  (0, 706)\t1\n",
            "  (0, 7611)\t1\n",
            "  (0, 3292)\t1\n",
            "  (0, 9671)\t1\n",
            "  (0, 7722)\t1\n",
            "  (0, 5313)\t1\n",
            "  (0, 3248)\t1\n",
            "  (0, 509)\t1\n",
            "  (0, 7442)\t1\n",
            "  (0, 1965)\t1\n",
            "  (0, 9700)\t1\n",
            "  (0, 11510)\t1\n",
            "  (0, 7214)\t1\n"
          ]
        },
        {
          "output_type": "execute_result",
          "data": {
            "text/plain": [
              "(5000, 11549)"
            ]
          },
          "metadata": {},
          "execution_count": 18
        }
      ]
    },
    {
      "cell_type": "code",
      "source": [
        "#Mots les plus courants et leur nombre respectif\n",
        "def get_most_freq_words(str, n=None):\n",
        "    vect = CountVectorizer().fit(cleaned_tweet)\n",
        "    bag_of_words = vect.transform(cleaned_tweet)\n",
        "    sum_words = bag_of_words.sum(axis=0) \n",
        "    freq = [(word, sum_words[0, idx]) for word, idx in vect.vocabulary_.items()]\n",
        "    freq =sorted(freq, key = lambda x: x[1], reverse=True)\n",
        "    return freq[:n]\n",
        "  \n",
        "get_most_freq_words([ word for tweet in cleaned_tweet for word in tweet],20)"
      ],
      "metadata": {
        "id": "4rItQIlB4QRI",
        "colab": {
          "base_uri": "https://localhost:8080/"
        },
        "outputId": "28e9c6b5-61b5-4ab8-eb84-f3999989abc0"
      },
      "execution_count": 17,
      "outputs": [
        {
          "output_type": "execute_result",
          "data": {
            "text/plain": [
              "[('être', 2532),\n",
              " ('avoir', 1688),\n",
              " ('faire', 548),\n",
              " ('aller', 356),\n",
              " ('pouvoir', 249),\n",
              " ('bien', 196),\n",
              " ('voir', 184),\n",
              " ('savoir', 151),\n",
              " ('vouloir', 146),\n",
              " ('jour', 134),\n",
              " ('devoir', 120),\n",
              " ('france', 118),\n",
              " ('falloir', 117),\n",
              " ('gagner', 100),\n",
              " ('vie', 99),\n",
              " ('amp', 99),\n",
              " ('prendre', 96),\n",
              " ('follow', 93),\n",
              " ('grand', 91),\n",
              " ('taire', 88)]"
            ]
          },
          "metadata": {},
          "execution_count": 17
        }
      ]
    },
    {
      "cell_type": "markdown",
      "source": [
        "J'essaie ici de jouer avec min_df et max_df de countvectorizer , et ça n'a pas l'air de marcher , car les tweets ont bien été nettoyé, de plus cela témoingne d'une grande diversité des mots au sein de notre corpus"
      ],
      "metadata": {
        "id": "iCGLJtfUhdAf"
      }
    },
    {
      "cell_type": "code",
      "source": [
        "#Mots les plus courants et leur nombre respectif\n",
        "def get_most_freq_words(str, n=None):\n",
        "    vect = CountVectorizer(max_df=0.3, min_df=5).fit(cleaned_tweet)\n",
        "    bag_of_words = vect.transform(cleaned_tweet)\n",
        "    sum_words = bag_of_words.sum(axis=0) \n",
        "    freq = [(word, sum_words[0, idx]) for word, idx in vect.vocabulary_.items()]\n",
        "    freq =sorted(freq, key = lambda x: x[1], reverse=True)\n",
        "    return freq[:n]\n",
        "  \n",
        "get_most_freq_words([ word for tweet in cleaned_tweet for word in tweet],20)"
      ],
      "metadata": {
        "colab": {
          "base_uri": "https://localhost:8080/"
        },
        "id": "x8u0wCHzgdQ1",
        "outputId": "fa62237e-7e38-4433-e1e7-ee2ad9adf7f1"
      },
      "execution_count": 24,
      "outputs": [
        {
          "output_type": "execute_result",
          "data": {
            "text/plain": [
              "[('avoir', 1688),\n",
              " ('faire', 548),\n",
              " ('aller', 356),\n",
              " ('pouvoir', 249),\n",
              " ('bien', 196),\n",
              " ('voir', 184),\n",
              " ('savoir', 151),\n",
              " ('vouloir', 146),\n",
              " ('jour', 134),\n",
              " ('devoir', 120),\n",
              " ('france', 118),\n",
              " ('falloir', 117),\n",
              " ('gagner', 100),\n",
              " ('vie', 99),\n",
              " ('amp', 99),\n",
              " ('prendre', 96),\n",
              " ('follow', 93),\n",
              " ('grand', 91),\n",
              " ('taire', 88),\n",
              " ('covid', 88)]"
            ]
          },
          "metadata": {},
          "execution_count": 24
        }
      ]
    },
    {
      "cell_type": "markdown",
      "source": [
        "On constate ici que les mots les plus courants avec BOW sont des verbes non conjugés tels que : être, faire, avoir, etc. "
      ],
      "metadata": {
        "id": "7DTqIxmd5Ig7"
      }
    },
    {
      "cell_type": "markdown",
      "source": [
        "B- **Méthode TFIDF**"
      ],
      "metadata": {
        "id": "hGqwHTyn58F0"
      }
    },
    {
      "cell_type": "code",
      "source": [
        "#from numpy.lib.function_base import vectorize\n",
        "#utiliser la méthode de Tfidfvectorizer avec:\n",
        "\"\"\" - les stopsword français importés depuis spacy\n",
        "    - le tokenizer définis plus haut\"\"\"\n",
        "vectorizer = TfidfVectorizer(lowercase=False)\n",
        "print('Tweet before vectorization: {}'.format(cleaned_tweet[83]))"
      ],
      "metadata": {
        "id": "smsdUUntlBiY",
        "colab": {
          "base_uri": "https://localhost:8080/"
        },
        "outputId": "4ad4f87c-0822-4795-e0e6-4ce9f5fef8dd"
      },
      "execution_count": 25,
      "outputs": [
        {
          "output_type": "stream",
          "name": "stdout",
          "text": [
            "Tweet before vectorization: monsieur député attention souffrance peuple iranien démocratie pouvoir apporter paix pays cnri soutenir œuvre obtenir\n"
          ]
        }
      ]
    },
    {
      "cell_type": "code",
      "source": [
        "# transformer les tweets en vecteurs\n",
        "# qui prend en argument les vecteurs de mots de l'ensemble des tweets nettoyés précédemment \n",
        "X = vectorizer.fit_transform(cleaned_tweet)\n",
        "print('Tweet after vectorization: \\n{}'.format(X[83]))\n",
        "\n",
        "#print ((X.todense()))"
      ],
      "metadata": {
        "id": "gidfHw67lY61",
        "colab": {
          "base_uri": "https://localhost:8080/"
        },
        "outputId": "4e3649ba-c050-46d2-ae38-24768db21c20"
      },
      "execution_count": 26,
      "outputs": [
        {
          "output_type": "stream",
          "name": "stdout",
          "text": [
            "Tweet after vectorization: \n",
            "  (0, 7214)\t0.2635719556164827\n",
            "  (0, 11510)\t0.2635719556164827\n",
            "  (0, 9700)\t0.21467099683579413\n",
            "  (0, 1965)\t0.3177281701587722\n",
            "  (0, 7442)\t0.28473596007380847\n",
            "  (0, 509)\t0.28473596007380847\n",
            "  (0, 3248)\t0.2726208503905979\n",
            "  (0, 5313)\t0.3177281701587722\n",
            "  (0, 7722)\t0.22978836711560893\n",
            "  (0, 9671)\t0.28473596007380847\n",
            "  (0, 3292)\t0.25033155846161137\n",
            "  (0, 7611)\t0.19350699237846838\n",
            "  (0, 706)\t0.25634655268237083\n",
            "  (0, 8032)\t0.14751257521431016\n",
            "  (0, 6727)\t0.23482067313412833\n"
          ]
        }
      ]
    },
    {
      "cell_type": "code",
      "source": [
        "idf=vectorizer.idf_"
      ],
      "metadata": {
        "id": "sQhXl5-rqQcI"
      },
      "execution_count": 27,
      "outputs": []
    },
    {
      "cell_type": "markdown",
      "source": [
        "C- **Word embeding with Spacy**"
      ],
      "metadata": {
        "id": "Eg82e4Yyqj_G"
      }
    },
    {
      "cell_type": "code",
      "source": [
        "def my_word_embedding(sentence):\n",
        "    # Tokeniser la phrase\n",
        "    doc = nlp(sentence)\n",
        "    # Retourner le vecteur lié à chaque token\n",
        "    return [(X.vector) for X in doc]\n",
        "\n",
        "#for n, snt in enumerate(s):\n",
        "    #print(n , \":\", my_word_embedding(snt), \"\\n\")\n",
        "\n",
        "    print(X)"
      ],
      "metadata": {
        "id": "rYaA0E7aoRi9"
      },
      "execution_count": 28,
      "outputs": []
    },
    {
      "cell_type": "markdown",
      "source": [
        "D- **Méthode W2Vec**"
      ],
      "metadata": {
        "id": "AUvbGV6_NROn"
      }
    },
    {
      "cell_type": "code",
      "source": [
        "import gensim\n",
        "\n",
        "\n",
        "#tokenized_tweet = s.apply(lambda x: x.split()) # tokenizing \n",
        "\n",
        "model_w2v = gensim.models.Word2Vec(\n",
        "            cleaned_tweet_list,\n",
        "            size=200, # desired no. of features/independent variables\n",
        "            window=5, # context window size\n",
        "            min_count=2, # Ignores all words with total frequency lower than 2.                                  \n",
        "            sg = 1, # 1 for skip-gram model\n",
        "            hs = 0,\n",
        "            negative = 10, # for negative sampling\n",
        "            workers= 32, # no.of cores\n",
        "            seed = 34\n",
        ") \n"
      ],
      "metadata": {
        "id": "txJlUHR5NQma"
      },
      "execution_count": 46,
      "outputs": []
    },
    {
      "cell_type": "code",
      "source": [
        "print(model_w2v)"
      ],
      "metadata": {
        "id": "wXGVsdYPs_c5",
        "colab": {
          "base_uri": "https://localhost:8080/"
        },
        "outputId": "07b181db-ce1a-415e-ec48-90f832a29b3b"
      },
      "execution_count": 47,
      "outputs": [
        {
          "output_type": "stream",
          "name": "stdout",
          "text": [
            "Word2Vec(vocab=4641, size=200, alpha=0.025)\n"
          ]
        }
      ]
    },
    {
      "cell_type": "code",
      "source": [
        "words = list(model_w2v.wv.vocab)\n",
        "print(words)"
      ],
      "metadata": {
        "id": "gF1ZmwWRtaor",
        "colab": {
          "base_uri": "https://localhost:8080/"
        },
        "outputId": "0be69986-c943-49b3-bcae-c281187dcb66"
      },
      "execution_count": 48,
      "outputs": [
        {
          "output_type": "stream",
          "name": "stdout",
          "text": [
            "['être', 'avoir', 'venir', 'jouer', 'victime', 'mécher', 'gros', 'compte', 'lancer', 'vague', 'abonné', 'insupportable', 'voir', 'faire', 'direct', 'taire', 'veu', 'mai', 'cest', 'mets', 'pression', 'rang', 'tablette', 'meme', 'fan', 'aller', 'vaincre', 'milan', 'ac', 'om', 'regarde', 'truc', 'savoir', 'file', 'minute', 'trottoir', 'quartier', 'alentours', 'bordeaux', 'chef', 'lieu', 'grand', 'région', 'administration', 'boîte', 'priver', 'no', 'es', 'devoir', 'mémoire', 'reprendre', 'vie', 'grâce', 'olivier', 'laurent', 'article', 'info', 'extrême', 'droite', 'rentrer', 'cas', 'reproche', 'gauche', 'préférer', 'soigner', 'aide', 'soignant', 'nonvacciné', 'perso', 'prendre', 'charge', 'manque', 'personnel', 'nonvacciner', 'hôpital', 'irresponsable', 'tchau', 'département', 'policier', 'intensifier', 'contrôle', 'passsanitair', 'établissement', 'recevoir', 'public', 'midi', 'centre', 'ville', 'lutter', 'covid', 'vue', 'saisissant', 'fort', 'mont', 'couleur', 'ilovenice', 'nice', 'cotedazurfrance', 'avis', 'journaliste', 'miracle', 'médecine', 'vaccin', 'pilule', 'hcq', 'revanche', 'diagnostic', 'patient', 'immense', 'majorité', 'arme', 'arsenal', 'existe', 'pose', 'souci', 'problème', 'rapport', 'penser', 'cul', 'limite', 'monsieur', 'hâter', 'brailler', 'mars', 'final', 'devenir', 'jurer', 'wsjhh', 'mauvais', 'qualité', 'croire', 'autruche', 'triste', 'bloquer', 'sens', 'perdu', 'regarder', 'as', 'photo', 'profil', 'journée', 'pleurer', 'aimerai', 'plaire', 'bienvenue', 'matricea', 'occasion', 'sortie', 'matrix', 'resurrections', 'fai', 'gagner', 'intégrale', 'blu', 'ray', 'tirage', 'sort', 'décembre', 'presse', 'premiere', 'mondial', 'scientifique', 'quarantaine', 'corps', 'humain', 'essayer', 'ensemble', 'contribuer', 'for', 'rappeler', 'présidentielle', 'joue', 'mois', 'impacter', 'immigration', 'wokisme', 'islam', 'semaine', 'transport', 'énergie', 'gratuit', 'lutte', 'évasion', 'fiscal', 'réchauffement', 'climatique', 'france', 'point', 'content', 'rater', 'taper', 'dérive', 'ramener', 'pouvoir', 'achat', 'justifier', 'fonctionne', 'live', 'heure', 'français', 'mdrrrr', 'jsuis', 'pareil', 'date', 'mtn', 'avai', 'pp', 'visage', 'complet', 'diff', 'confinement', 'vacciner', 'vaccinationobligatoir', 'graz', 'autriche', 'manifestation', 'vienne', 'hésitez', 'partager', 'corona', 'passesanitair', 'bras', 'fils', 'compagne', 'soyon', 'attaque', 'eme', 'feat', 'zumba', 'tuer', 'pense', 'injecter', 'dose', 'proposer', 'air', 'parler', 'puce', 'résultat', 'fume', 'vrai', 'yer', 'américain', 'plaindre', 'restaurant', 'paris', 'fermer', 'minuit', 'nuit', 'dimanche', 'lundi', 'commentaire', 'mode', 'code', 'travail', 'laissez', 'reposer', 'faite', 'voys', 'pâte', 'and', 'think', 'it', 'beautiful', 'espérer', 'aimer', 'meuf', 'rentre', 'steak', 'chien', 'monde', 'btsdiscography', 'btsdiamond', 'btsdynamite', 'bg', 'geste', 'barrièr', 'masque', 'précaution', 'taux', 'tousser', 'argentine', 'qualifier', 'coupe', 'porter', 'amour', 'clé', 'paradis', 'attention', 'incendie', 'dispo', 'vidéo', 'dérange', 'gouvernant', 'raconter', 'carabistouille', 'rmrkmsmj', 'sérieusement', 'rendre', 'connerie', 'écrire', 'delfraissy', 'échec', 'utiliser', 'bref', 'rappel', 'avril', 'coronavirus', 'maladie', 'défi', 'idiot', 'juger', 'didier', 'raoult', 'moment', 'péter', 'kiss', 'sérieux', 'sure', 'dis', 'enfant', 'immuniser', 'preuve', 'marche', 'affirmer', 'traitement', 'falloir', 'cohorte', 'protocole', 'phase', 'respecter', 'envie', 'tt', 'casser', 'wesh', 'inhumain', 'pays', 'droit', 'homme', 'caca', 'mourir', 'manger', 'pêche', 'round', 'décider', 'contacter', 'attendre', 'élève', 'présenter', 'élection', 'délégué', 'voiture', 'électrique', 'ok', 'nan', 'exporter', 'métal', 'type', 'terre', 'batterie', 'automobile', 'bt', 'leyenda', 'ct', 'millimètre', 'drôle', 'communauté', 'asiatique', 'révolte', 'tour', 'vouloir', 'guerre', 'diplomatie', 'durer', 'ambassadeur', 'us', 'intégration', 'maitrise', 'langue', 'respect', 'absolu', 'loi', 'républicain', 'absence', 'fait', 'délinquance', 'engagement', 'situation', 'mental', 'catastrophique', 'covidisme', 'ravage', 'alarmer', 'défenseur', 'gouvernement', 'coupable', 'maltraitance', 'lever', 'cesse', 'the', 'end', 'déteste', 'série', 'aime', 'termine', 'chose', 'fin', 'alger', 'pierre', 'mener', 'fifa', 'tweet', 'fidélité', 'mddrrr', 'quelqu', 'décide', 'venger', 'banque', 'confiance', 'mariage', 'organiser', 'arrêter', 'cours', 'jour', 'député', 'souffrance', 'peuple', 'démocratie', 'apporter', 'paix', 'soutenir', 'œuvre', 'obtenir', 'mec', 'hasard', 'goulag', 'mdddr', 'femme', 'famille', 'manqu', 'culture', 'tribune', 'président', 'tg', 'second', 'arturo', 'vidal', 'exclure', 'soir', 'equateur', 'ptdrrr', 'chopper', 'train', 'écouter', 'or', 'noir', 'parle', 'jeu', 'négatif', 'take', 'forza', 'face', 'lite', 'impossible', 'biais', 'sagacité', 'pcas', 'teamg', 'plateau', 'préférence', 'sony', 'xbox', 'porte', 'cœur', 'team', 'hit', 'session', 'bouyon', 'bruit', 'min', 'jubiler', 'fou', 'accusation', 'viol', 'avère', 'fausse', 'profitent', 'remettre', 'cause', 'témoignage', 'bizarre', 'union', 'climat', 'partenariat', 'll_amf', 'présence', 'accélérer', 'marne', 'talent', 'ouai', 'dépenser', 'argent', 'excellent', 'invite', 'promo', 'uber', 'eat', 'clairement', 'harcèlement', 'vais', 'sieste', 'smcl', 'conférence', 'territoire', 'réponse', 'général', 'arnaud', 'secrétaire', 'magasin', 'posséder', 'service', 'picouser', 'heu', 'vérité', 'pfizergate', 'tirer', 'participer', 'follow', 'novembre', 'odeur', 'essenceréaliser', 'david', 'tomaszewskiprod', 'skread', 'phazzhttpstcokvdgfpn', 'haha', 'meilleur', 'marcher', 'boule', 'bleu', 'bien', 'jme', 'souvenir', 'spectacle', 'frero', 'poster', 'part', 'instagram', 'fasciner', 'outil', 'permettre', 'retrouver', 'test', 'magazine', 'jv', 'tomber', 'perle', 'mélanger', 'différent', 'épisode', 'pique', 'douk', 'saga', 'entrée', 'objectif', 'tendance', 'petit', 'position', 'forcer', 'sp', 'résistance', 'inquiétant', 'décision', 'continuon', 'prier', 'liberté', 'traditionnel', 'pass', 'valable', 'événement', 'quotidien', 'restos', 'prouver', 'vacciné', 'contaminer', 'tester', 'mesure', 'appliquer', 'mineur', 'coucou', 'mickey', 'parade', 'disney', 'chial', 'combat', 'lycée', 'allemagne', 'blessé', 'grave', 'couteau', 'assaillir', 'interpeller', 'arriver', 'màj', 'islamique', 'animal', 'élu', 'souhaite', 'assemblée', 'national', 'mise', 'partie', 'réserver', 'civil', 'protection', 'marqueur', 'humanité', 'plaisir', 'enfance', 'inexplicable', 'augmenter', 'salaire', 'entreprise', 'santé', 'attal', 'gosse', 'développe', 'théorie', 'pokemon', 'réelle', 'disponible', 'yn', 'oboy', 'booba', 'tiakola', 'zed', 'bc', 'donne', 'idée', 'génie', 'vendre', 'skin', 'pro', 'league', 'saison', 'venez', 'dm', 'intéresser', 'post', 'recherche', 'structure', 'représenter', 'réseau', 'twitch', 'partenaire', 'tiktok', 'twitter', 'amp', 'ouvrir', 'débarquer', 'chinois', 'simple', 'eter', 'besoin', 'connaître', 'raremer', 'combattre', 'famine', 'orelsan', 'suicide', 'social', 'hyp', 'album', 'comprendre', 'mal', 'froid', 'mère', 'niveau', 'change', 'lâcher', 'di', 'adore', 'parent', 'couple', 'mixte', 'jours', 'important', 'accès', 'question', 'posent', 'arrivée', 'dg', 'urgent', 'sentir', 'sapin', 'système', 'doigt', 'menace', 'trouve', 'matin', 'tribunal', 'éric', 'zemmour', 'jesoutienszemmour', 'mdrrr', 'gérer', 'riche', 'fashion', 'icon', 'kimtaehyung', 'payer', 'bouteille', 'faut', 'donner', 'film', 'temps', 'compliquer', 'château', 'ciel', 'empire', 'glisser', 'préparer', 'scénario', 'chaos', 'bête', 'organisation', 'politique', 'local', 'mieux', 'valoir', 'dieu', 'cérémonie', 'bordel', 'merde', 'clip', 'vivement', 'conseil', 'acheter', 'oublier', 'vérifier', 'prix', 'benef', 'changer', 'séance', 'échange', 'partage', 'expérience', 'membre', 'commission', 'privilégier', 'échanger', 'agir', 'mandat', 'aim', 'let', 'be', 'friend', 'in', 'pokémon', 'go', 'my', 'trainer', 'is', 'retweeter', 'svp', '𝙏𝙤𝙪𝙨', '𝙡𝙚𝙨', '𝙥𝙖𝙮𝙨', '𝙣𝙤𝙪𝙨', '𝙚𝙣𝙫𝙞𝙚𝙣𝙩le', 'statistique', 'trident', 'offensif', 'ressusciter', 'pharaon', 'hâmân', 'qârûn', 'ubay', 'ibn', 'khalaf', 'mécréance', 'allah', 'ster', 'gravité', 'nom', 'prie', 'mort', 'rapproche', 'ref', 'yaz', 'officiel', 'rappeur', 'niçois', 'kiffer', 'parfait', 'illustration', 'facho', 'terme', 'sandrine', 'rousseau', 'viens', 'rebeudeter', 'donut', 'épicer', 'épice', 'courir', 'ouverture', 'mk', 'seine', 'inauguration', 'rénovation', 'aujourdhui', 'sale', 'époque', 'raison', 'honte', 'appeler', 'nuance', 'vocabulaire', 'robert', 'woke', 'kylian', 'mbappé', 'visite', 'surprise', 'europe', 'ouest', 'bisounour', 'sortir', 'rapidement', 'ue', 'survie', 'frexit', 'renforcer', 'écouler', 'simplement', 'business', 'chantage', 'autorité', 'bande', 'chemin', 'supprime', 'vite', 'continuer', 'reconnaissance', 'gravement', 'malade', 'ami', 'passion', 'servir', 'vide', 'personn', 'livre', 'déranger', 'macron', 'avoue', 'concours', 'skins', 'naruto', 'retweet', 'soirée', 'chance', 'travailler', 'hdpros', 'émission', 'invité', 'professeur', 'tenter', 'rétablir', 'année', 'reprise', 'réagir', 'promesse', 'faux', 'espoir', 'millier', 'attente', 'honteux', 'mds', 'day', 'effacer', 'recommence', 'remercier', 'chaleureusement', 'contribution', 'décisif', 'soutien', 'candidat', 'macronist', 'offrir', 'emmanuel', 'défaite', 'historique', 'snap', 'ajouter', 'réduction', 'impôt', 'profiter', 'sûr', 'crier', 'esprit', 'frère', 'samedi', 'empreinte', 'digital', 'identité', 'salah', 'découvrir', 'arrêt', 'délivrer', 'parquet', 'belge', 'sensation', 'incroyable', 'ya', 'balancer', 'vis', 'principalement', 'injuste', 'procès', 'illégitime', 'bosse', 'stp', 'guy', 'bezbar', 'perspective', 'intéressant', 'vivre', 'collectif', 'humiliation', 'jeune', 'fille', 'dramatique', 'ordre', 'imbécile', 'dénonce', 'karim', 'zeribi', 'punchline', 'propos', 'mentir', 'battlefieldxmicromania', 'colors', 'naturephotography', 'pov', 'vien', 'price', 'empêcher', 'reconstruction', 'prochain', 'essence', 'milieu', 'tomb', 'bébé', 'dragon', 'amateur', 'trouver', 'béber', 'œuf', 'dessin', 'main', 'diamant', 'dollar', 'allocation', 'baser', 'lz', 'utc', 'token', 'information', 'jt', 'rdv', 'partir', 'hashtag', 'melenchontf', 'agent', 'ratp', 'réforme', 'retraite', 'voter', 'quell', 'demander', 'propagande', 'répression', 'ba', 'tete', 'african', 'peur', 'propre', 'perdre', 'prêt', 'individu', 'refuse', 'produit', 'expérimental', 'réalité', 'félicitation', 'mettre', 'lumière', 'victoire', 'indépendant', 'rassembler', 'désaveu', 'liste', 'compatible', 'amf', 'école', 'demande', 'frérot', 'éduquer', 'connard', 'loyauté', 'cm', 'cv', 'circuit', 'we', 'dangereux', 'roule', 'autoroute', 'week', 'all', 'maillot', 'choix', 'commente', 'choisir', 'xvdefrance', 'barrage', 'eau', 'pluie', 'observer', 'médecin', 'bord', 'répondre', 'arrive', 'gorge', 'lettre', 'population', 'pourtant', 'épidémie', 'repart', 'brutalement', 'faute', 'million', 'nonvaccinés', 'définition', 'fréquentent', 'lieux', 'haute', 'contamination', 'bar', 'boitesmais', 'foutre', 'rue', 'débarrasser', 'tag', 'espéron', 'réparer', 'peux', 'more', 'show', 'concert', 'avance', 'patience', 'chanson', 'ca', 'muselier', 'disparaître', 'feu', 'ptdrrrr', 'lacoste', 'obliger', 'tennis', 'puriste', 'bonheur', 'ivoirien', 'bâtiment', 'couché', 'soleil', 'mer', 'nuages', 'dinguerie', 'filmer', 'tristan', 'heth', 'mexique', 'automne', 'bretagne', 'hiérarchie', 'concerner', 'scandale', 'askip', 'disais', 'exactemer', 'vouch', 'route', 'refuge', 'rapide', 'travers', 'côté', 'va', 'provoquer', 'chancelier', 'confiner', 'provoque', 'onde', 'choc', 'virer', 'exposé', 'chaotique', 'prof', 'classe', 'charb', 'dessinateur', 'lisnard', 'tête', 'association', 'maire', 'pain', 'court', 'employé', 'municipal', 'dégradation', 'ennemi', 'etat', 'laisse', 'impunité', 'euro', 'tourisme', 'masse', 'exister', 'directeur', 'alpesmaritime', 'hypocrite', 'oeil', 'replongez', 'matrice', 'affiche', 'resurrection', 'exclusivement', 'cinémer', 'isère', 'grenobl', 'agresser', 'armé', 'arrête', 'passage', 'piéton', 'dépêcher', 'traverser', 'gagne', 'manche', 'préserver', 'auteur', 'relation', 'veux', 'fonction', 'lampe', 'étoile', 'protéger', 'puissant', 'storie', 'insta', 'réviser', 'chèque', 'taff', 'mercredi', 'bu', 'dsl', 'raconte', 'like', 'pizza', 'crise', 'existentiel', 'constant', 'abandonner', 'étude', 'liké', 'malheur', 'tromperie', 'criminel', 'nuremberg', 'reconnaître', 'artiste', 'apprécier', 'fierté', 'projet', 'cadeau', 'tourner', 'top', 'équipe', 'épouse', 'cartel', 'marvel', 'écriture', 'personnage', 'commencer', 'retard', 'pondre', 'chapitre', 'lisez', 'suppression', 'recette', 'créer', 'emploi', 'somme', 'ménage', 'favoriser', 'largement', 'conclusion', 'net', 'clair', 'précis', 'chercheur', 'club', 'revient', 'ℹ', 'ski', 'montagne', 'alpe', 'mdrr', 'honnêtement', 'vax', 'gt', 'gueule', 'approche', 'hommage', 'bout', 'eren', 'update', 'site', 'jap', 'refonte', 'mission', 'goku', 'lr', 'priori', 'récupérer', 'news', 'data', 'dl', 'dcp', 'vêtement', 'appel', 'lucmontagnier', 'vaccination', 'urgence', 'faîte', 'message', 'survivre', 'genre', 'poursuivre', 'cousin', 'lâche', 'photoshop', 'cristiano', 'âgé', 'interview', 'phrase', 'coeur', 'transmettre', 'isolé', 'pognon', 'dingue', 'assembler', 'milliard', 'coût', 'revenir', 'congolais', 'présomption', 'conflit', 'intérêt', 'vanne', 'siècle', 'millénaire', 'envi', 'réussir', 'musique', 'move', 'bad', 'féministe', 'musical', 'imagine', 'sec', 'revue', 'régulation', 'intelligence', 'artificiel', 'domaine', 'éducatif', 'discours', 'soumission', 'restriction', 'suède', 'contraindre', 'faible', 'nb', 'habitant', 'rôle', 'immunité', 'acquérir', 'infection', 'libre', 'circulation', 'virus', 'lu', 'instant', 'football', 'universitaire', 'coup', 'opération', 'ciné', 'solidarité', 'profit', 'resto', 'groupe', 'place', 'cinéma', 'accueillir', 'projection', 'finale', 'tournoi', 'vs', 'generation', 'catherine', 'vivant', 'appartenir', 'locataire', 'responsable', 'commettre', 'louer', 'propriétaire', 'octobre', 'numéro', 'édition', 'polémique', 'introduction', 'iel', 'dictionnaire', 'ligne', 'éclairage', 'critère', 'présider', 'dictionnairehttpstcovilnmeqhiel', 'petitrobert', 'croyez', 'apprendre', 'consentement', 'jupe', 'garçon', 'tom', 'holland', 'zendaya', 'zendayer', 'modèle', 'consommateur', 'suite', 'spiderman', 'réellement', 'araignée', 'toile', 'messager', 'treidegeteeurovision', 'super', 'entendre', 'courbi', 'gilles', 'teamom', 'chéri', 'bêtise', 'character', 'psg', 'manchester', 'city', 'entraînement', 'jalousie', 'civilisation', 'oreille', 'savage', 'èm', 'exceptionnel', 'possibilité', 'remporter', 'exemplaire', 'sim', 'campagne', 'sims', 'thesims', 'annonce', 'anniversaire', 'louper', 'kcorp', 'lrem', 'embêter', 'expliquer', 'ministre', 'respecte', 'barrière', 'impose', 'enfants', 'poto', 'sha', 'bheemlanayak', 'baiser', 'couille', 'ilysm', 'der', 'dh', 'babi', 'meur', 'rencontrer', 'zevent', 'envoyer', 'audio', 'paniquer', 'quantité', 'répondent', 'moitié', 'trade', 'monter', 'kilimandjaro', 'descendre', 'bail', 'génération', 'effondrement', 'espérance', 'ensembl', 'bel', 'cool', 'continue', 'explorer', 'jungle', 'pantalon', 'cargo', 'suggérer', 'philippot', 'vacance', 'tendre', 'heureux', 'set', 'montre', 'djo', 'attentionner', 'dead', 'ptdrr', 'entent', 'benzema', 'mbappe', 'inchallah', 'coépouse', 'fête', 'black', 'cdiscount', 'trottinette', 'surpas', 'tas', 'central', 'capter', 'chris', 'eric', 'tromper', 'déclarer', 'histoire', 'totalitarisme', 'conscience', 'fondamental', 'mcu', 'davido', 'clique', 'centriste', 'subir', 'cuisant', 'revers', 'plébiscité', 'signe', 'presidentielle', 'peser', 'opinion', 'sondage', 'battre', 'populaire', 'banlieue', 'lesgiletsjaunesaveczemmour', 'atterrissage', 'roissy', 'violent', 'cité', 'dénué', 'saleté', 'sdf', 'taxis', 'communautariser', 'gare', 'nord', 'trace', 'inquiéter', 'entier', 'ère', 'gg', 'impressionner', 'décès', 'sportif', 'ds', 'signer', 'certificat', 'gentil', 'mi', 'enchaîner', 'polsker', 'ferme', 'bouche', 'maman', 'papa', 'myocardite', 'péricardite', 'signaler', 'australie', 'stv', 'inh', 'réfléchir', 'professionnel', 'retraité', 'ème', 'commerçant', 'exiger', 'moyen', 'harceler', 'emmerder', 'tweeter', 'intelligent', 'doute', 'panne', 'baver', 'jpp', 'encule', 'edouard', 'mendy', 'finir', 'vouliez', 'écoute', 'tema', 'lent', 'résister', 'totalitaire', 'réel', 'décrire', 'entrer', 'promettre', 'blague', 'police', 'consulté', 'freert', 'supplier', 'okay', 'muscler', 'unis', 'média', 'saut', 'fond', 'pr', 'pialoux', 'enlever', 'suédois', 'apprentissage', 'lier', 'masqu', 'fiche', 'revitaliser', 'ruralité', 'maintenir', 'commune', 'magnifique', 'gars', 'emoji', 'vote', 'vrmt', 'utilise', 'vrm', 'pronom', 'uniquement', 'manière', 'ty', 'dolla', 'sign', 'cogne', 'préféré', 'noel', 'coffret', 'qqun', 'jm', 'blanquer', 'ptn', 'rire', 'discontinuer', 'fake', 'accumuler', 'toxicité', 'hydroxychloroquine', 'rester', 'science', 'médical', 'énorme', 'tache', 'corruption', 'infamie', 'condoléances', 'larme', 'nn', 'pousser', 'jsp', 'flm', 'chiffre', 'hausse', 'résumé', 'ruedetrévise', 'annoncer', 'indemniser', 'épuiser', 'lesoubliesdetrevise', 'art', 'moderne', 'fonds', 'inédit', 'croissance', 'écosystème', 'industriel', 'atteindre', 'diriger', 'ps', 'mérite', 'vomir', 'moquer', 'augmentation', 'inquiétude', 'gâcher', 'laylow', 'ben', 'voyon', 'barrette', 'informe', 'percer', 'collaboration', 'styliste', 'derrièr', 'agacer', 'salut', 'marrer', 'omg', 'page', 'annuler', 'candidature', 'brunch', 'mail', 'pq', 'nintendo', 'switch', 'dialga', 'palkia', 'gagnez', 'pokémondiamantetincelant', 'pokémonperlescintillant', 'rtfollow', 'gagnant', 'bts', 'dominer', 'scène', 'amas', 'artist', 'of', 'débat', 'sénateur', 'risque', 'forme', 'grain', 'conversation', 'visiblement', 'syndicat', 'expression', 'prophète', 'ﷺ', 'accorder', 'serviteur', 'large', 'rapporter', 'authentifier', 'cheikh', 'albani', 'sahih', 'degré', 'promotion', 'orientation', 'scolaire', 'afrique', 'débattre', 'naître', 'réalisation', 'finaliste', 'orange', 'élite', 'réveiller', 'terroriste', 'oser', 'humour', 'pasteur', 'paie', 'bus', 'abonnement', 'logique', 'lit', 'pseudo', 'expert', 'canne', 'joyeux', 'nouvelle', 'lang', 'our', 'choice', 'rosémamavote', 'roser', 'dec', 'départ', 'perf', 'late', 'kpop', 'ball', 'mma', 'chienne', 'chat', 'évaluation', 'laviequilsméritent', 'boucle', 'bcp', 'réside', 'institution', 'communal', 'primaire', 'portée', 'tocqueville', 'blocage', 'zone', 'activité', 'toulon', 'sanitaire', 'mouvement', 'giletsjaune', 'rsi', 'marathonien', 'rock', 'election', 'davidlisnard', 'joli', 'bois', 'ériger', 'interdire', 'père', 'noël', 'obéissant', 'crypto', 'trouvée', 'bernard', 'nombre', 'baisser', 'légitimité', 'ancien', 'légende', 'arnaque', 'coach', 'foot', 'likes', 'choque', 'santorini', 'surprendre', 'télé', 'faveur', 'soeur', 'pote', 'ferai', 'juge', 'densité', 'exprès', 'max', 'canal', 'néonazi', 'revendiquer', 'salle', 'république', 'tolérance', 'violence', 'lire', 'récit', 'usage', 'croissant', 'étudier', 'analyse', 'texte', 'issu', 'source', 'exposition', 'passer', 'cov', 'immunitaire', 'viral', 'conserver', 'nature', 'purer', 'noustoutes', 'tdor', 'hôtel', 'génial', 'copine', 'alerte', 'concour', 'piece', 'ter', 'donde', 'reprocher', 'gestion', 'classifier', 'secret', 'défense', 'pandémie', 'planquer', 'dossier', 'décennie', 'magouille', 'noter', 'gueul', 'sembler', 'travaille', 'effectuer', 'sport', 'jss', 'giga', 'étai', 'roue', 'saint', 'atiny', 'tl', 'pue', 'frustration', 'putain', 'espérant', 'square', 'garden', 'cherche', 'hey', 'faillir', 'légume', 'rencontre', 'signature', 'discussion', 'envoie', 'love', 'accord', 'action', 'doux', 'job', 'web', 'autour', 'détail', 'empêche', 'florian', 'lci', 'prénom', 'irai', 'instinct', 'dites', 'tome', 'intégralité', 'vol', 'pauvre', 'tjr', 'alcool', 'ans', 'vincent', 'profondément', 'vélodrome', 'minable', 'sacrer', 'stade', 'rmcliv', 'combler', 'rp', 'refaire', 'actif', 'lien', 'visibilité', 'algérien', 'patrimoine', 'retweetez', 'cdm', 'facilité', 'qualification', 'michael', 'mini', 'fr', 'citoyen', 'do', 'quitter', 'sudradio', 'luc', 'montagnier', 'secondaire', 'abstient', 'pécresse', 'superbe', 'cacher', 'dépasser', 'partiel', 'pcq', 'présent', 'grécoromaine', 'osez', 'vin', 'rouge', 'accompagner', 'plat', 'viande', 'blanc', 'sauce', 'omar', 'confondre', 'demi', 'sœur', 'frr', 'marier', 'maroc', 'heures', 'journal', 'tv', 'lyon', 'françois', 'dénoncer', 'mensonge', 'médiatique', 'complicité', 'décret', 'youtube', 'abuser', 'allez', 'casse', 'éclater', 'danger', 'wsh', 'degrer', 'wtf', 'steph', 'kd', 'suisse', 'financer', 'antivaxx', 'parti', 'massivement', 'norme', 'diffusion', 'technique', 'vocal', 'convoquer', 'facile', 'assure', 'avancer', 'veut', 'consulter', 'chrétien', 'chante', 'coûte', 'story', 'menard', 'distance', 'admettre', 'ligue', 'match', 'record', 'rennes', 'total', 'askoptajean', 'vœu', 'succès', 'volonté', 'paysage', 'françaisamf', 'restaurer', 'veto', 'opérer', 'dzemmoureric', 'correctionnel', 'polémiste', 'appelé', 'comparaître', 'provocation', 'haine', 'confiant', 'issue', 'judiciaire', 'entrain', 'copier', 'grèce', 'musée', 'mae', 'amy', 'ndeye', 'marie', 'cache', 'coucher', 'assume', 'dessiner', 'ateez', 'resté', 'mardi', 'émouvoir', 'engager', 'congrèsdesmaire', 'jaloux', 'détermination', 'publicité', 'mouton', 'kilogramme', 'plu', 'combo', 'br', 'dvd', 'bazaar', 'epouvante', 'oeuvre', 'stephen', 'king', 'secours', 'battlefield', 'mégaoctet', 'lot', 'gagnants', 'manette', 'consolepour', 'usa', 'prison', 'cocorico', 'habille', 'pied', 'hiver', 'gl', 'faceeverything', 'lcsxgameward', 'lcsfamily', 'fav', 'laporta', 'messi', 'iniesta', 'dani', 'âge', 'dormir', 'folle', 'vois', 'chanteur', 'scandaleux', 'détruire', 'société', 'idéologie', 'jul', 'adresse', 'semestre', 'encourager', 'basique', 'maison', 'flashback', 'mystérieuse', 'apparaître', 'wuhan', 'chine', 'coronaviruscf', 'fêter', 'retrait', 'casino', 'visiter', 'collection', 'prise', 'fréquentation', 'chuter', 'précéder', 'secteur', 'fil', 'pute', 'exprimer', 'apprend', 'emote', 'animer', 'annehidalgo', 'jupiter', 'escroc', 'principe', 'représentation', 'propose', 'fout', 'cou', 'reuf', 'intervenir', 'suceur', 'single', 'voix', 'anti', 'capable', 'baffe', 'bonjour', 'trio', 'rêver', 'antoine', 'griezmann', 'grèv', 'bootcamp', 'organise', 'concourir', 'paire', 'jordan', 'retro', 'lightning', 'ohh', 'repartir', 'alves', 'lamentable', 'condamner', 'raciste', 'traiter', 'arabe', 'flash', 'idéal', 'limiter', 'doucher', 'minutes', 'machine', 'laver', 'linge', 'poulet', 'portionle', 'échos', 'afficher', 'réussite', 'œil', 'design', 'intérieur', 'marché', 'contact', 'problématique', 'intervention', 'salon', 'réunion', 'guetter', 'tayc', 'marseille', 'justice', 'squatte', 'attacher', 'radiateur', 'squatteur', 'témoigne', 'sauter', 'aéroport', 'auj', 'pu', 'nike', 'patta', 'condition', 'twet', 'boutique', 'melanchon', 'giveaway', 'spécial', 'goodie', 'at', 'to', 'get', 'too', 'much', 'space', 'your', 'tentative', 'échouer', 'bureau', 'comité', 'lamf', 'vielle', 'exclusif', 'mathieu', 'réveille', 'gastronomie', 'cadre', 'charlotte', 'ornellas', 'relever', 'handicap', 'météo', 'handicapé', 'démarche', 'jungkook', 'financier', 'salam', 'image', 'voiler', 'master', 'ressemble', 'video', 'mohamed', 'intellectuel', 'laïcité', 'jvais', 'tactique', 'liverpool', 'fixateur', 'horizontal', 'vertical', 'libérer', 'taa', 'indéfendable', 'macos', 'appli', 'nsm', 'iphone', 'gode', 'french', 'lego', 'starwar', 'découvrez', 'boites', 'métropolitain', 'hidalgo', 'saccageparis', 'pack', 'dark', 'base', 'loop', 'mm', 'alimentation', 'power', 'lt', 'mamavote', 'lisa', 'crédit', 'long', 'potentiel', 'discriminatoire', 'score', 'attribuer', 'flemme', 'sch', 'fusil', 'épaule', 'est', 'chaud', 'hh', 'trashtalk', 'burgerkinginfogouv', 'auxquelle', 'donnez', 'pensez', 'amplement', 'mériter', 'affirmation', 'léger', 'nft', 'ethereum', 'négotraining', 'participant', 'négocier', 'prime', 'avantage', 'légitime', 'chevet', 'chantier', 'souris', 'opposant', 'sentiment', 'insécurité', 'grandir', 'braquage', 'agression', 'désacraliser', 'vient', 'approuver', 'mexicain', 'unanimité', 'titre', 'juin', 'beauty', 'caisse', 'exception', 'chercher', 'trouverez', 'jérémie', 'imaginez', 'masterclas', 'squatter', 'rythme', 'vann', 'accident', 'conséquence', 'applaudir', 'jeter', 'changement', 'sexe', 'craignez', 'bz', 'collabo', 'aider', 'timing', 'construire', 'sensibilité', 'ep', 'recoupe', 'cheveu', 'réjouir', 'réconciliation', 'jumeau', 'potter', 'tourne', 'tenue', 'biathlon', 'fedfranceski', 'adorer', 'delphine', 'désorganiser', 'loin', 'empathie', 'leader', 'sympathisant', 'barnier', 'bertrand', 'ciotti', 'attendez', 'bancaire', 'troller', 'loool', 'inde', 'ldc', 'dur', 'défendre', 'joueur', 'fun', 'viser', 'programme', 'neige', 'charlie', 'cible', 'mimi', 'lourd', 'fauteuil', 'turcs', 'stupide', 'fonctionner', 'janvier', 'accor', 'availabl', 'cleannft', 'hen', 'nfts', 'dribbl', 'insulte', 'décevoir', 'franchement', 'vision', 'plumage', 'concept', 'variant', 'masculin', 'indique', 'singulier', 'censé', 'évidemment', 'rdc', 'personnalité', 'acteur', 'diaspora', 'recommandation', 'pratique', 'intégrer', 'kingdom', 'thibault', 'montbrial', 'représente', 'vendredi', 'frankistaner', 'encontre', 'connotation', 'islamo', 'terro', 'fraude', 'montrer', 'sais', 'endroit', 'futur', 'ambiance', 'occuper', 'consécutif', 'parlement', 'melbourne', 'manifestant', 'camper', 'croi', 'chapeau', 'prend', 'martin', 'couche', 'affirme', 'considérer', 'gueux', 'inconscient', 'gamo', 'mérité', 'spider', 'verse', 'bâton', 'band', 'déplacer', 'difficile', 'aurais', 'attend', 'poing', 'rate', 'cibl', 'efficacité', 'ko', 'dent', 'tfacon', 'bruno', 'courage', 'ultra', 'transformation', 'concurrencer', 'beerus', 'jure', 'mur', 'jean', 'marque', 'recrutement', 'rh', 'google', 'restent', 'collecte', 'débloquer', 'palier', 'lbcjrbgw', 'drone', 'boy', 'magie', 'scott', 'pts', 'proverbe', 'camerounais', 'congrès', 'appui', 'fous', 'mobilisation', 'préfecture', 'horrible', 'imprimerie', 'antisémitisme', 'moralement', 'détourner', 'regard', 'new', 'time', 'giletsjaunes', 'racaille', 'écope', 'suspension', 'ucl', 'carton', 'purger', 'manquer', 'défaire', 'nazi', 'échelle', 'continent', 'prouve', 'racine', 'connai', 'libération', 'dommage', 'souhaiter', 'expérimentation', 'cnews', 'ggrmc', 'beyoncé', 'akhy', 'louis', 'arthur', 'participent', 'impression', 'partagez', 'maximum', 'rer', 'régime', 'jamai', 'rendez', 'madame', 'compétition', 'clash', 'star', 'colis', 'royalepour', 'ashta', 'horaire', 'simson', 'continuez', 'tranquillement', 'con', 'gourou', 'chicken', 'spot', 'menu', 'conservateur', 'royal', 'inscrire', 'toucher', 'wow', 'miss', 'wade', 'ohhh', 'puré', 'assembl', 'comportement', 'sexiste', 'sexuel', 'plomb', 'etre', 'mhd', 'définitivement', 'escroquerie', 'morale', 'windjammer', 'rejoindre', 'xbo', 'game', 'lancement', 'raslebol', 'racket', 'méprendre', 'elue', 'améliorer', 'référendum', 'tranquille', 'snk', 'élément', 'bracelet', 'yeezy', 'boost', 'zyon', 'retrouvez', 'qatar', 'choquer', 'revoir', 'hetero', 'misogyne', 'rancune', 'gtgtgtgt', 'fascisme', 'nazisme', 'entourage', 'énerver', 'noah', 'gratuite', 'sophie', 'librairie', 'internet', 'constituer', 'positif', 'dé', 'li', 'dou', 'ségrégation', 'tobey', 'andrew', 'serrer', 'milliardaire', 'spidermannowayhome', 'bissau', 'affaire', 'benjamin', 'mcdo', 'explosif', 'retourner', 'balle', 'curry', 'james', 'trêve', 'international', 'terminer', 'pochettino', 'vuitton', 'ss', 'canard', 'reportage', 'dame', 'habiller', 'amie', 'préciser', 'xavier', 'niel', 'oubli', 'insiste', 'solution', 'humanitaire', 'org', 'migrant', 'origine', 'flic', 'colombienne', 'trafiquant', 'drogue', 'sousmarin', 'transporter', 'détecter', 'existence', 'légend', 'urbaine', 'corriger', 'retrouve', 'calme', 'castex', 'cesser', 'combinaison', 'japon', 'frais', 'pétition', 'rachel', 'khan', 'fondre', 'essentiel', 'seigneur', 'révéler', 'contenir', 'bf', 'shock', 'blue', 'xboxseries', 'tweetez', 'battlefieldxmicromaniater', 'côte', 'ivoire', 'congo', 'embaucher', 'chaîne', 'digne', 'buzz', 'borjan', 'imagin', 'rigole', 'lis', 'tartine', 'avocat', 'cer', 'pointer', 'souligner', 'immigré', 'operer', 'garnier', 'frança', 'foto', 'jb', 'perraudin', 'fraud', 'blancs', 'rabi', 'thanile', 'thani', 'jeûne', 'nasai', 'damn', 'marketing', 'prétendre', 'mépris', 'vire', 'dômien', 'up', 'fragile', 'fidèle', 'téléphone', 'facilite', 'racisme', 'effectivement', 'suffire', 'sommeil', 'radio', 'replay', 'hongrois', 'garde', 'hospitalisation', 'andré', 'hyper', 'fameu', 'lgbt', 'démarre', 'gramme', 'version', 'sang', 'hawkeye', 'streaming', 'collectivité', 'vache', 'académie', 'dat', 'solitude', 'angle', 'rivoli', 'relais', 'contrôler', 'cycliste', 'poids', 'gaara', 'balader', 'tonneau', 'sable', 'sunna', 'valider', 'ticket', 'not', 'hard', 'installe', 'usb', 'julian', 'assange', 'lentement', 'sauver', 'stella', 'parer', 'nantes', 'poignarder', 'récitation', 'bonne', 'tombe', 'dégage', 'jai', 'lenteur', 'stabilité', 'bce', 'christine', 'planche', 'billet', 'délirant', 'menacer', 'kgttlipu', 'hâte', 'utile', 'original', 'parfaire', 'sncf', 'sui', 'avenir', 'commun', 'prévoir', 'russie', 'espace', 'cfmtl', 'congresdesmaires', 'suspendre', 'covid_', 'donnée', 'castexgate', 'faisensemblepourlesliberter', 'monopoly', 'crossing', 'grimper', 'physique', 'meurt', 'étais', 'ravir', 'peter', 'bouffon', 'vert', 'pourri', 'peine', 'archi', 'commence', 'location', 'été', 'village', 'moche', 'sor', 'rêve', 'ultime', 'température', 'marc', 'allon', 'polaire', 'suicider', 'cut', 'étonner', 'bd', 'iré', 'justin', 'bieber', 'montpellier', 'avez', 'douche', 'religieux', 'musulman', 'entend', 'production', 'crâne', 'vai', 'politicien', 'étrange', 'masquer', 'maquillage', 'forcément', 'enquête', 'habitude', 'décéder', 'période', 'fatigue', 'recueillir', 'gifl', 'magistrale', 'acolyte', 'macroniste', 'opa', 'triche', 'antibiotique', 'm²', 'terrain', 'are', 'lorient', 'transaction', 'traître', 'différence', 'vac', 'mondeensemblepourlesliberté', 'mv', 'marine', 'ptdrrrrr', 'nuire', 'col', 'mp', 'agence', 'latin', 'grec', 'gré', 'comparer', 'londres', 'transporte', 'normandie', 'niemen', 'avion', 'abattre', 'rey', 'kohlanta', 'déposer', 'plainte', 'témoigner', 'tpmp', 'passe', 'congreslr', 'win', 'gold', 'kekwshutdown', 'meta', 'frustrationfix', 'piqué', 'claude', 'bourret', 'rosé', 'félicitations', 'pfizer', 'technologie', 'vaccinal', 'normal', 'géant', 'polqc', 'septembre', 'camp', 'désastreux', 'respirer', 'tue', 'continuation', 'citer', 'création', 'sécurité', 'contenu', 'interroger', 'tlsi', 'récemment', 'cambrioler', 'sindia', 'majeur', 'khonkoma', 'disant', 'metaverse', 'virtuel', 'met', 'constamment', 'revenu', 'moyenne', 'précaire', 'communautariste', 'communautaire', 'étranger', 'ouer', 'triple', 'hésiter', 'réaction', 'pénal', 'café', 'soin', 'coffrer', 'kilomètre', 'attends', 'indigne', 'tjrs', 'com', 'application', 'cyclone', 'dégât', 'excellente', 'suffrage', 'indépendance', 'pensée', 'inspirer', 'sébastien', 'lecornu', 'apéro', 'réunir', 'strict', 'déplacement', 'rassemblement', 'enceinte', 'gloire', 'exploser', 'écran', 'coque', 'lacron', 'ladron', 'tiiiiiiime', 'honneur', 'knife', 'croquer', 'espèr', 'plan', 'real', 'madrid', 'vinicius', 'paul', 'juif', 'catholique', 'franc', 'ronaldo', 'trophée', 'ballon', 'renoncer', 'diversité', 'cameroun', 'éliminer', 'cote', 'qualifié', 'imposer', 'utilité', 'cauchemar', 'homophobie', 'enseignant', 'qag', 'loialerte', 'présente', 'ptdrrrrrrrrrr', 'buteur', 'supporte', 'réveil', 'pleure', 'proposent', 'électronique', 'enjeu', 'octopus', 'goût', 'course', 'shiny', 'sélection', 'certification', 'riaa', 'platinum', 'burkina', 'serai', 'trailer', 'los', 'usine', 'fameux', 'église', 'kid', 'flex', 'pharma', 'italien', 'el', 'coin', 'gq', 'zéro', 'compassion', 'trooop', 've', 'frapper', 'rio', 'transfert', 'congénère', 'oral', 'angoisse', 'valu', 'by', 'charles', 'arena', 'haineux', 'inefficacité', 'contraire', 'décalage', 'bitcoin', 'acte', 'gilet', 'jaune', 'recaler', 'maître', 'misère', 'empoisonner', 'psy', 'tristesse', 'finales', 'européen', 'yes', 'réussi', 'fp', 'oe', 'goat', 'journalist', 'you', 'palestinien', 'armée', 'vraie', 'ziak', 'copain', 'finance', 'utilisateur', 'pitié', 'profond', 'mêler', 'destiner', 'malheureux', 'probowlvote', 'donte', 'jackson', 'discuter', 'effort', 'japonais', 'special', 'initiative', 'territorial', 'dispositif', 'mobile', 'xx', 'rond', 'jimin', 'bonsoir', 'ace', 'grace', 'minecraft', 'rap', 'marocain', 'enfer', 'écarter', 'lendemain', 'gêner', 'estime', 'informatique', 'renaud', 'transféré', 'tatouer', 'doucement', 'rachida', 'dati', 'placer', 'budgétaire', 'capitale', 'manquent', 'fruit', 'résidence', 'réaliser', 'espagne', 'tkt', 'graphisme', 'communication', 'apprenti', 'departure', 'kmedia', 'cannes', 'shonen', 'frisson', 'baisé', 'tricoter', 'vas', 'coco', 'étonne', 'estrosi', 'nourrir', 'silence', 'éveil', 'trou', 'duc', 'déclassement', 'détresse', 'françaiszemmoureric', 'thread', 'détester', 'lewan', 'malheureusement', 'but', 'muller', 'éliminatoire', 'sors', 'africain', 'fier', 'hamdoulilah', 'automobiliste', 'unevoitur', 'excès', 'vitesse', 'torse', 'fac', 'caen', 'naissance', 'réflexion', 'avc', 'sonic', 'artisans', 'entrepreneur', 'collège', 'lève', 'doudou', 'habit', 'poser', 'jus', 'avancée', 'ft', 'instruction', 'pris', 'délire', 'retirer', 'coma', 'barcelone', 'régionale', 'économiser', 'piscine', 'gamin', 'ménès', 'hagra', 'stylé', 'tentez', 'canapé', 'choisie', 'jeuconcour', 'contrat', 'client', 'incapacité', 'sincère', 'dévoiler', 'bangtan', 'patron', 'actu', 'ahhh', 'creativ', 'viennent', 'best', 'performance', 'gay', 'corrompre', 'figaro', 'auchan', 'verre', 'collector', 'bourg', 'axe', 'collégien', 'commerce', 'proximité', 'accepte', 'chaussette', 'support', 'chômage', 'aurai', 'sto', 'prv', 'horizon', 'actualité', 'plier', 'visca', 'barca', 'airpod', 'israël', 'rafal', 'spas', 'furieux', 'buter', 'vieux', 'corp', 'supermarché', 'merciiii', 'abonner', 'désolé', 'littéralement', 'aveugle', 'nuage', 'beal', 'argument', 'carte', 'vital', 'musiqu', 'officiellement', 'torture', 'direction', 'situer', 'drop', 'bye', 'compter', 'minimum', 'bisou', 'adulte', 'respire', 'wshh', 'sensibilisation', 'accent', 'bisous', 'bague', 'baisse', 'favorable', 'pen', 'métropole', 'former', 'pascal', 'accuse', 'tqt', 'fauci', 'monkey', 'island', 'breaking', 'cancer', 'tort', 'finalement', 'stand', 'remplacement', 'xtb', 'lenasituation', 'bute', 'renvoyer', 'âme', 'soyez', 'royaume', 'uni', 'ambassade', 'australien', 'univers', 'spirituel', 'jargon', 'zenkai', 'cycle', 'vulnérable', 'frontière', 'affronter', 'flippant', 'chelou', 'sah', 'ptdrrrrrrr', 'instaurer', 'discord', 'impressionnant', 'subitemer', 'courrier', 'stratège', 'exact', 'legend', 'bateau', 'proposition', 'fiat', 'fortunedays', 'nk', 'cp', 'opportunité', 'développement', 'amphi', 'campus', 'pont', 'anglais', 'capital', 'invitation', 'cc', 'appart', 'diminuer', 'harry', 'style', 'cerveau', 'sûre', 'arn', 'voie', 'voire', 'éradiquer', 'connaissance', 'exemple', 'moindre', 'féliciter', 'mentionner', 'user', 'présidence', 'formidable', 'victoir', 'accomplir', 'audit', 'megan', 'coldplay', 'mme', 'transparence', 'bénéficier', 'rémunération', 'lorsqu', 'nier', 'prépare', 'formation', 'guerrier', 'rapière', 'muser', 'réactionnaire', 'bb', 'bouger', 'md', 'constitue', 'lourde', 'st', 'mr', 'arcane', 'qanon', 'shaman', 'capitole', 'afp', 'malaise', 'indispensable', 'opposition', 'clôture', 'propice', 'laurence', 'antonio', 'vente', 'panique', 'mortalité', 'récent', 'drame', 'amener', 'réclamer', 'carrière', 'entraîneur', 'classer', 'mans', 'audi', 'jcroi', 'pck', 'manifester', 'ost', 'pc', 'leak', 'omggg', 'inutile', 'imo', 'tonton', 'incheon', 'airport', 'margiela', 'chrome', 'heart', 'celine', 'gucci', 'fila', 'versace', 'btsairportfashion', 'pitier', 'levez', 'nou', 'biontech', 'moderna', 'engranger', 'missfrance', 'lecture', 'lyonnais', 'médiocrité', 'catastrophe', 'inverse', 'économie', 'fa', 'tante', 'reproduire', 'way', 'home', 'maguire', 'mosquée', 'tawhid', 'emmerde', 'adrien', 'rabiot', 'titulaire', 'fortnite', 'rappelle', 'effrayer', 'tabac', 'fumer', 'amoureux', 'mmmh', 'marqu', 'arrière', 'savai', 'séduire', 'vitamine', 'typique', 'coller', 'sou', 'abus', 'potion', 'quelqun', 'violer', 'tétanie', 'obéir', 'chaussure', 'newsletter', 'lepointfr', 'morceau', 'carbone', 'carbon', 'lewandowski', 'wolfsburg', 'bolloré', 'terreur', 'abonnez', 'presidentielles', 'conseildeparis', 'roma', 'dévoile', 'third', 'bha', 'agressif', 'mention', 'sf', 'islamiste', 'construction', 'legoland', 'complexe', 'composer', 'thème', 'emblématique', 'parc', 'sai', 'bet', 'nba', 'mamelon', 'boire', 'pardon', 'secte', 'adorateur', 'zoro', 'ellipse', 'régis', 'fbmayenne', 'sédentarité', 'collègue', 'publier', 'parlementaire', 'supplémentaire', 'samuel', 'nonsense', 'réchauffe', 'adolescent', 'éloigner', 'vrer', 'immersion', 'accuser', 'relancer', 'poste', 'supprimer', 'excus', 'immédiat', 'principal', 'call', 'out', 'valide', 'shopping', 'acer', 'chromebook', 'découvre', 'supérieur', 'étudiant', 'inégalité', 'indignation', 'héran', 'meylan', 'asseoir', 'table', 'kim', 'taehyung', 'portugais', 'gitan', 'voler', 'ptdr', 'pharmaceutique', 'accepter', 'diffuser', 'autoriser', 'dédié', 'shib', 'douter', 'apercevoir', 'explique', 'sobriété', 'individuel', 'responsabilité', 'maîtrise', 'consommation', 'paraître', 'dure', 'mn', 'motivation', 'heureuse', 'breton', 'bh', 'allumer', 'chaine', 'croyais', 'riboku', 'chier', 'bataille', 'packs', 'apparat', 'dofus', 'panoplies', 'boucliers', 'montures', 'familiers', 'fatal', 'coiffe', 'followrt', 'survivant', 'holocauste', 'infectieux', 'utilisaient', 'diaboliser', 'propagateur', 'augment', 'follower', 'danse', 'psk', 'dépendre', 'pharmacien', 'virginie', 'dizaine', 'reconfinementmoijamais', 'amiens', 'maurice', 'devient', 'terrible', 'poutine', 'indiquer', 'viceprésident', 'démissionner', 'garder', 'préfère', 'fonder', 'foi', 'sourire', 'étaler', 'contrairement', 'inviter', 'daniel', 'roi', 'écrase', 'spéculo', 'gato', 'conseiller', 'mystère', 'autrichien', 'évoque', 'faim', 'têtu', 'renseigne', 'fédéral', 'rembourser', 'scintillant', 'os', 'relâcher', 'publient', 'arthrite', 'dj', 'égard', 'systémique', 'dés', 'militant', 'attentat', 'évoquer', 'para', 'creuser', 'fresnes', 'rumeur', 'britney', 'spears', 'oprah', 'winfrey', 'annéesfreebritney', 'mystérieux', 'aventure', 'anne', 'crack', 'gabon', 'dignité', 'rupture', 'québec', 'assurer', 'éme', 'beauté', 'missile', 'eco', 'pleur', 'divertir', 'pompe', 'rwanda', 'pv', 'françoise', 'claque', 'miguel', 'santos', 'edit', 'xd', 'percher', 'erreur', 'rédaction', 'darmanin', 'extraire', 'calvados', 'remplir', 'époqu', 'mauricette', 'occupation', 'am', 'maj', 'université', 'motif', 'écout', 'tué', 'piéger', 'demais', 'kkkkkkk', 'confirmer', 'connecter', 'marburg', 'métier', 'innovant', 'mouvemer', 'produire', 'connaissent', 'marre', 'vaccins', 'auditeur', 'flèche', 'drapeau', 'instance', 'nation', 'tam', 'familial', 'forêt', 'option', 'règle', 'instruit', 'dororo', 'prestige', 'manga', 'osamu', 'tezuka', 'reconstruire', 'konoha', 'absent', 'véridique', 'mignon', 'attitude', 'parisien', 'sage', 'politiquement', 'élire', 'goûter', 'goûte', 'luis', 'glorifier', 'rager', 'indice', 'moque', 'intuition', 'mélenchon', 'monstre', 'dirigeant', 'réfléchi', 'adapter', 'dérèglement', 'refuser', 'complice', 'implantation', 'amazon', 'pologne', 'coûteux', 'culpabilise', 'guignol', 'devien', 'parker', 'hype', 'mem', 'onana', 'champion', 'thérapie', 'poison', 'mecha', 'questionnaire', 'étudiante', 'émotion', 'menotter', 'souhaité', 'tran', 'transition', 'ignorance', 'chute', 'ira', 'bfmtv', 'giveway', 'cissé', 'sorare', 'démarrer', 'dgsn', 'parlon', 'aspirateur', 'robot', 'deebot', 'offre', 'double', 'livraison', 'wouaf', 'maquis', 'montmartre', 'gvt', 'porc', 'nommer', 'tient', 'flow', 'prisonnier', 'congresdesmaire', 'résistant', 'écologique', 'éducation', 'tribun', 'désastre', 'déforestation', 'importer', 'contactez', 'observation', 'démolir', 'gen', 'déménagé', 'hivernal', 'spécialiser', 'présentation', 'immédiatement', 'ridicule', 'fernando', 'parfum', 'citation', 'souveraineté', 'gober', 'muter', 'aviation', 'véritable', 'fatiguer', 'hola', 'pk', 'naïvement', 'silencieux', 'surement', 'guadeloupe', 'pompier', 'colère', 'obligatoire', 'veran', 'dorothée', 'jacob', 'chansley', 'figure', 'hello', 'kai', 'impliquer', 'safari', 'épargner', 'numérique', 'man', 'challenge', 'participation', 'patriote', 'dembéler', 'barça', 'maths', 'seconde', 'supporter', 'ooh', 'championnat', 'raffinerie', 'fossurmer', 'bouchesdurhône', 'kibaro', 'civ', 'militaire', 'azerbaïdjan', 'syunik', 'recommencer', 'arménien', 'obsession', 'crie', 'pleine', 'cliché', 'saisir', 'nma', 'tf', 'nrj', 'assister', 'infirmier', 'contribue', 'cfa', 'fascinant', 'islamogauchist', 'économique', 'œuvrent', 'choeur', 'triomphe', 'fasciser', 'émerveiller', 'lune', 'maritime', 'travailleur', 'ennuie', 'stream', 'boeuf', 'drag', 'halloween', 'ol', 'galerie', 'dédiée', 'colloqu', 'tw', 'obligation', 'punir', 'théâtre', 'cyber', 'algérie', 'grosse', 'oise', 'podcasts', 'jo', 'tape', 'momer', 'enchère', 'facebook', 'magistrat', 'prat', 'ampleur', 'assumer', 'education', 'remporte', 'déprimer', 'kiffe', 'blesser', 'fillon', 'manifsnovembre', 'bannièr', 'blinder', 'décidémer', 'nerf', 'communiquer', 'préfet', 'dakar', 'possession', 'ancelotti', 'éviter', 'aespa', 'spoil', 'viewer', 'tonne', 'kaler', 'mitwaba', 'eric_monga', 'kipay', 'promoteur', 'impact', 'visible', 'distingue', 'utilement', 'panneau', 'kalash', 'daron', 'portugal', 'belges', 'moral', 'cour', 'espèce', 'connaisseur', 'renseignez', 'fédération', 'allemand', 'parcours', 'plateforme', 'nd', 'papillon', 'gouvernance', 'égide', 'onu', 'lula', 'stupéfaire', 'déception', 'cr', 'hôte', 'fortement', 'op', 'prochainement', 'gain', 'exagérer', 'jeudi', 'débile', 'sponsor', 'fromage', 'christian', 'participe', 'vid', 'snard', 'blanchiment', 'contexte', 'introduire', 'accorde', 'critique', 'karma', 'scooter', 'commande', 'attribution', 'désoler', 'trkl', 'talentueux', 'notion', 'wish', 'sourate', 'verset', 'riz', 'hésit', 'marrant', 'rir', 'créateur', 'look', 'coiffure', 'toulouse', 'héros', 'costume', 'préparatoire', 'transmission', 'giroud', 'bac', 'limoges', 'écraser', 'marquant', 'quinquennat', 'édouard', 'philippe', 'hilare', 'cendre', 'avertissement', 'impensable', 'approprier', 'sortent', 'siri', 'sacré', 'vendeur', 'poursuite', 'justement', 'potentiellement', 'livrer', 'inventeur', 'renseigner', 'jolie', 'valisette', 'celebration', 'manipulation', 'lebron', 'lasser', 'environnemental', 'rejeter', 'cmt', 'pathétique', 'ressource', 'février', 'btc', 'fournir', 'cluster', 'pis', 'allergie', 'cmp', 'vaulx', 'charger', 'maes', 'tracklist', 'yns', 'fanion', 'chasse', 'lécher', 'menteur', 'désinformateur', 'répèter', 'grandremplacement', 'camus', 'christchurch', 'curieusement', 'mari', 'concurrent', 'piste', 'ler', 'plante', 'pépite', 'répons', 'déni', 'finlande', 'box', 'désabonner', 'rapporte', 'complotiste', 'excuser', 'neymar', 'çer', 'ouvrage', 'persévérance', 'belgique', 'chemise', 'thérapeutique', 'jet', 'pub', 'lient', 'abject', 'chambre', 'intimité', 'touche', 'tramway', 'manu', 'prévenir', 'plombesil', 'marinemoi', 'loire', 'heureusement', 'oncle', 'défoncer', 'sénat', 'critiquer', 'sir', 'neveu', 'carburer', 'minion', 'dégoûter', 'saviez', 'craquer', 'gibraltar', 'lac', 'grv', 'actuel', 'licencier', 'christophe', 'contagieux', 'good', 'bahahaha', 'agenda', 'mobilise', 'présidentiel', 'vélo', 'nez', 'fer', 'armer', 'refusent', 'joindre', 'shaa', 'allai', 'chapelle', 'laboratoire', 'stocker', 'séduction', 'meu', 'douleur', 'grossesse', 'larmer', 'mangez', 'slogan', 'distraire', 'marquer', 'martiniquais', 'protègent', 'riencc', 'nana', 'excuse', 'côter', 'clivage', 'enjeux', 'jlm', 'ajd', 'boulot', 'chauve', 'favorite', 'maxime', 'psychopathe', 'larmont', 'voyage', 'with', 'vou', 'loichervepublic', 'directsénat', 'passesanitairehttpstcokdwapnxxog', 'franchir', 'cap', 'pause', 'réconcilier', 'inclusif', 'compétence', 'voisin', 'xptdrrrr', 'convention', 'genève', 'pl', 'prêtre', 'preynat', 'innovation', 'startup', 'gilbert', 'déborder', 'west', 'soumettre', 'ignoble', 'ment', 'culturel', 'sûrement', 'souhaitent', 'stopper', 'radcliffe', 'rupert', 'grint', 'emma', 'watson', 'casting', 'sagala', 'sortira', 'hbo', 'sortle', 'garfield', 'doubler', 'lycéen', 'accueil', 'ouii', 'touché', 'etienne', 'aimez', 'destruction', 'biodiversité', 'bloqu', 'gagné', 'calmez', 'montebourg', 'vocation', 'cop', 'hauteur', 'casas', 'mettez', 'emporter', 'abri', 'priorité', 'médiéval', 'fairy', 'franchise', 'dc', 'entraîne', 'carnet', 'relayer', 'cracher', 'wii', 'camera', 'logitech', 'mentionn', 'casque', 'micro', 'aisé', 'drake', 'burna', 'flop', 'music', 'consomme', 'drama', 'renseignement', 'michel', 'sublime', 'crislun', 'phénomène', 'négligeable', 'compote', 'jr', 'prorogation', 'ituri', 'célébrer', 'publication', 'urologue', 'bloc', 'engagemer', 'archéologie', 'fouille', 'port', 'explosion', 'île', 'duo', 'finfra', 'conjugal', 'russe', 'émoi', 'politico', 'terrorisme', 'agrandir', 'camarade', 'comprend', 'villas', 'boa', 'spectaculaire', 'polonais', 'résulte', 'solide', 'gironde', 'telegram', 'investissement', 'poche', 'dépendant', 'vent', 'stopdictaturesanitair', 'équilibre', 'red', 'sympa', 'sorry', 'efficace', 'paille', 'porno', 'partout', 'concrètement', 'prolonger', 'ml', 'intime', 'identifier', 'woah', 'global', 'tir', 'antisatellite', 'capacité', 'passeport', 'laure', 'neu', 'saouler', 'ad', 'gâteau', 'paiement', 'réessayer', 'mnt', 'spotify', 'avoskin', 'acne', 'serum', 'miraculous', 'répète', 'fdp', 'jealous', 'hospis', 'attaquer', 'naze', 'résident', 'ventre', 'téléphoner', 'généralement', 'sol', 'méline', 'muselière', 'favorise', 'lymphocyte', 'subsister', 'oppositionhttpstcomwcurbdd', 'patrick', 'guerin', 'nouara', 'yahi', 'lie', 'anime', 'tte', 'larem', 'évènement', 'acquis', 'habite', 'enfermer', 'chasser', 'aléatoire', '𝕟𝕠𝕞𝕚𝕟', 'deal', 'tah', 'charte', 'environnement', 'nette', 'intégrité', 'noble', 'belle', 'extrait', 'imposteur', 'égalité', 'rekkle', 'pers', 'chômeur', 'metz', 'concertation', 'djoko', 'facilement', 'consultation', 'classique', 'matière', 'arrêtez', 'sponsoriser', 'repasser', 'risquer', 'mairie', 'silent', 'meurtre', 'montage', 'augure', 'napoléon', 'tair', 'rimbaud', 'sud', 'séquence', 'improvisation', 'communiste', 'adopter', 'miroir', 'play', 'subvention', 'entraide', 'loue', 'refiler', 'retenir', 'per', 'univer', 'mixer', 'platine', 'medier', 'sinner', 'idem', 'jardin', 'thé', 'renne', 'denis', 'journer', 'brillante', 'concentration', 'mécréant', 'écologie', 'redevenir', 'élitisme', 'po', 'agréable', 'employer', 'daronne', 'déterminer', 'arc', 'retourne', 'co', 'iade', 'italie', 're', 'mépriser', 'juillet', 'développer', 'luffy', 'conviction', 'expérimenté', 'trône', 'autel', 'foyer', 'souffrir', 'bouchon', 'racli', 'jesu', 'arriv', 'diplômer', 'extraordinaire', 'piouuuu', 'rouler', 'exil', 'bjr', 'nomination', 'consternation', 'enceint', 'accoucher', 'inhumanité', 'irréflexion', 'artisanal', 'défilé', 'assise', 'alerter', 'facetime', 'comte', 'toplane', 'lfl', 'atinys', 'sorte', 'aprèsmidi', 'mentionnez', 'lance', 'manouchian', 'amitié', 'matériel', 'religion', 'difficulté', 'canada', 'inscrivez', 'mètre', 'aménagement', 'occupe', 'weekend', 'province', 'julien', 'turc', 'outrage', 'cursus', 'concitoyen', 'veste', 'lequipebiathlon', 'cross', 'ramenner', 'hécatombe', 'ptdrrrrrr', 'bug', 'cardiaque', 'ramasser', 'ninho', 'banger', 'bosser', 'inscription', 'rattrape', 'rassurer', 'couper', 'section', 'permanence', 'carlos', 'verrouillage', 'vaccinés', 'hdpro', 'noussavon', 'assaut', 'chaman', 'corne', 'note', 'durable', 'quitte', 'trocadéro', 'faiblesse', 'parcourir', 'quoient', 'race', 'agresseur', 'macronie', 'votez', 'algorithme', 'don', 'dissimuler', 'patte', 'abandonne', 'spike', 'pulmonaire', 'sar', 'papier', 'installer', 'communiqué', 'penseur', 'pipeau', 'santana', 'fenouil', 'justificatif', 'envois', 'revendre', 'guadeloupéen', 'dispute', 'défaut', 'examen', 'peut', 'milice', 'sénégal', 'gra', 'dragracefrance', 'transformer', 'spatial', 'oklm', 'raiola', 'pogba', 'angleterre', 'united', 'tmw', 'alignement', 'arbre', 'ftg', 'netfli', 'ose', 'arranger', 'pollue', 'dico', 'égoïste', 'bueno', 'forzahorizon', 'adaptation', 'lézard', 'sûremer', 'humilier', 'hotel', 'anticorps', 'her', 'van', 'lacrim', 'stéphane', 'ravier', 'doublevacciné', 'personneshttpstcoxayrycro', 'déjouer', 'processus', 'achèt', 'apple', 'intersectionnalité', 'prière', 'doublement', 'ursula', 'von', 'leyen', 'mondialiste', 'conf', 'foutage', 'censure', 'bélier', 'juninho', 'mediabook', 'pilote', 'attire', 'huile', 'bayern', 'neuer', 'deeptech', 'similaire', 'shop', 'copenhague', 'qd', 'designer', 'aline', 'webinaire', 'soldat', 'trouble', 'dinos', 'remontada', 'socialiste', 'atelier', 'pb', 'consacrer', 'cis', 'avertir', 'centaine', 'intéresse', 'inventer', 'condamne', 'tension', 'causer', 'liberticide', 'leclerc', 'piège', 'voyez', 'aggravation', 'électoral', 'volume', 'quon', 'speed', 'nourriture', 'crime', 'ascension', 'réaffirmer', 'group', 'chart', 'élevage', 'sonner', 'temporaire', 'puissance', 'tenez', 'pls', 'ralphellarawrawards', 'rawrralphellaoo', 'catch', 'qualitatif', 'lez', 'esport', 'statut', 'hope', 'opus', 'terf', 'iii', 'chang', 'clinique', 'jeanne', 'ido', 'dragonkart', 'jambe', 'jérusalem', 'déclin', 'thi', 'enhypenmamavot', 'enhypen', 'manœuvre', 'fumée', 'mam', 'potichat', 'potizanimo', 'cha', 'voile', 'désindustrialisation', 'ascoval', 'actionnair', 'délocaliser', 'acier', 'charbon', 'veille', 'gobeur', 'chomp', 'learning', 'climate', 'biblio', 'butbetclicedf', 'freebet', 'sucer', 'tingry', 'véran', 'incantation', 'illimité', 'nante', 'nhl', 'classement', 'jh', 'sic', 'ura', 'tobizaru', 'notredame', 'repost']\n"
          ]
        }
      ]
    },
    {
      "cell_type": "code",
      "source": [
        "#Nombre de mots dans le vocabulaire \n",
        "\n",
        "vocab_len = len(model_w2v.wv.vocab)\n",
        "print(vocab_len)"
      ],
      "metadata": {
        "id": "M1vF2EC6R4qR",
        "colab": {
          "base_uri": "https://localhost:8080/"
        },
        "outputId": "8974e424-6464-4778-8898-29641d7cff19"
      },
      "execution_count": 49,
      "outputs": [
        {
          "output_type": "stream",
          "name": "stdout",
          "text": [
            "4641\n"
          ]
        }
      ]
    },
    {
      "cell_type": "code",
      "source": [
        "model_w2v['haine']"
      ],
      "metadata": {
        "id": "0AZVM5rFPjNF",
        "colab": {
          "base_uri": "https://localhost:8080/"
        },
        "outputId": "b6932dea-56ae-455c-af08-2b0e3435c6b7"
      },
      "execution_count": 50,
      "outputs": [
        {
          "output_type": "stream",
          "name": "stderr",
          "text": [
            "/usr/local/lib/python3.7/dist-packages/ipykernel_launcher.py:1: DeprecationWarning: Call to deprecated `__getitem__` (Method will be removed in 4.0.0, use self.wv.__getitem__() instead).\n",
            "  \"\"\"Entry point for launching an IPython kernel.\n"
          ]
        },
        {
          "output_type": "execute_result",
          "data": {
            "text/plain": [
              "array([ 6.24008887e-02, -4.01063561e-02, -5.81204779e-02,  2.59715542e-02,\n",
              "        9.80506092e-02, -8.36496279e-02,  1.18035443e-01, -5.04827015e-02,\n",
              "       -1.33620858e-01,  1.01981081e-01,  3.39286439e-02,  6.27613142e-02,\n",
              "        3.07428949e-02, -2.15686619e-01, -1.53206259e-01,  3.99127938e-02,\n",
              "       -5.44108301e-02,  1.17917672e-01, -5.00415899e-02,  1.07102133e-01,\n",
              "        1.15598276e-01, -1.83084011e-02,  1.24082658e-02,  2.76882648e-01,\n",
              "        1.51289599e-02,  7.71661401e-02,  2.74327416e-02,  1.33635588e-02,\n",
              "        9.19034064e-04, -2.68162310e-01,  2.07554474e-02, -1.46591648e-01,\n",
              "       -4.09845710e-02, -8.63641351e-02,  8.16857889e-02,  9.62626263e-02,\n",
              "       -6.03522398e-02, -5.66906743e-02, -9.65556949e-02, -3.70929658e-01,\n",
              "       -6.23883121e-02, -6.51803752e-03, -5.62752523e-02,  2.18960434e-01,\n",
              "       -1.70065518e-02, -2.98029743e-02, -2.02314574e-02, -1.32267118e-01,\n",
              "       -8.22221041e-02,  8.23857337e-02, -4.57786024e-02,  1.90132856e-02,\n",
              "       -5.75115085e-02,  8.57202858e-02, -3.00867353e-02, -6.67458400e-02,\n",
              "       -9.35705751e-02,  3.32252756e-02, -1.97453611e-02,  4.82408069e-02,\n",
              "       -2.52598803e-02,  1.60484806e-01,  1.84120789e-01,  1.08917281e-01,\n",
              "        7.39167556e-02, -4.06530313e-02,  1.45260990e-01, -7.17491508e-02,\n",
              "        2.44625404e-01,  2.73245543e-01,  1.12326585e-01,  6.79389164e-02,\n",
              "       -1.70834720e-01,  7.89148211e-02, -1.50447637e-01,  3.30909729e-01,\n",
              "       -1.04103731e-02, -1.22480102e-01, -8.18744022e-03, -1.08374670e-01,\n",
              "        1.13380872e-01,  4.97535355e-02, -4.75042537e-02, -1.71531085e-02,\n",
              "       -1.88622013e-01, -2.43811347e-02, -1.02819659e-01, -1.06358014e-01,\n",
              "       -2.65532471e-02,  7.63286948e-02,  6.11943975e-02,  4.85070385e-02,\n",
              "        1.22139759e-01,  2.05204055e-01,  2.17816398e-01, -1.49955377e-01,\n",
              "       -6.77678958e-02,  1.09717948e-02, -3.83530520e-02, -3.81197073e-02,\n",
              "        9.59337354e-02,  8.88436586e-02,  1.06673747e-01,  6.36339113e-02,\n",
              "        1.04821451e-01, -1.58885106e-01, -2.19713062e-01,  2.03799486e-01,\n",
              "        3.24781358e-01,  9.02933925e-02,  3.26859891e-01, -5.01651876e-02,\n",
              "        1.51781887e-02, -2.04806309e-02, -2.54277319e-01, -1.46217600e-01,\n",
              "       -1.96607634e-01, -3.32024368e-03, -2.52898354e-02, -2.20043927e-01,\n",
              "        7.21876249e-02, -9.42443311e-02,  9.68358368e-02,  5.91068864e-02,\n",
              "       -1.43948626e-02,  2.09904745e-01,  8.87793377e-02,  1.01711765e-01,\n",
              "       -6.22219816e-02,  9.12848711e-02,  4.35456857e-02,  2.20692018e-03,\n",
              "        2.57166713e-01,  1.08672855e-02, -1.60059243e-01,  7.92313442e-02,\n",
              "        1.01174414e-01, -1.18526265e-01, -1.92942798e-01, -2.22258896e-01,\n",
              "        5.79078160e-02, -2.12695986e-01,  6.78901151e-02,  4.39924039e-02,\n",
              "        9.24850926e-02,  1.07099444e-01,  2.47906461e-01, -2.56398227e-02,\n",
              "        7.89529905e-02, -1.70884244e-02,  4.40821908e-02,  4.05008867e-02,\n",
              "       -1.00594506e-01, -4.01693918e-02,  2.66186539e-02,  6.73882067e-02,\n",
              "       -2.20239460e-01, -2.54058778e-01, -1.93334520e-02, -6.65288121e-02,\n",
              "        2.05674723e-01, -4.95641418e-02, -1.81736559e-01,  9.40739810e-02,\n",
              "        5.91837801e-02, -4.52654483e-03, -4.40943167e-02, -5.09508029e-02,\n",
              "        1.94573984e-01,  1.26792677e-02, -7.98889548e-02,  5.05462140e-02,\n",
              "       -1.03909768e-01,  2.14629352e-01,  2.23876443e-03,  5.93035556e-02,\n",
              "        7.01016979e-03,  1.10140285e-02, -4.69935052e-02,  2.82837570e-01,\n",
              "        1.11611910e-01, -7.05683827e-02,  1.10475812e-04,  9.06276256e-02,\n",
              "        1.32967550e-02,  1.87372893e-01,  1.72521565e-02, -8.54358524e-02,\n",
              "       -8.66715387e-02, -6.76295832e-02,  1.09171219e-01,  2.15444311e-01,\n",
              "       -1.00824967e-01,  6.23680763e-02,  7.61189684e-02, -4.75215539e-02,\n",
              "        4.45004813e-02,  3.67381647e-02,  1.95584074e-01, -1.03537887e-02],\n",
              "      dtype=float32)"
            ]
          },
          "metadata": {},
          "execution_count": 50
        }
      ]
    },
    {
      "cell_type": "code",
      "source": [
        "model_w2v.wv.most_similar(positive=\"finir\")"
      ],
      "metadata": {
        "id": "E1E-ehOjOpip",
        "colab": {
          "base_uri": "https://localhost:8080/"
        },
        "outputId": "01a78077-9d3e-48f0-e043-df423f191ad4"
      },
      "execution_count": 59,
      "outputs": [
        {
          "output_type": "execute_result",
          "data": {
            "text/plain": [
              "[('train', 0.9997788667678833),\n",
              " ('donner', 0.9997481107711792),\n",
              " ('connaître', 0.9997479319572449),\n",
              " ('mal', 0.9997469782829285),\n",
              " ('sortir', 0.9997106790542603),\n",
              " ('place', 0.9997091293334961),\n",
              " ('enfant', 0.999683141708374),\n",
              " ('arriver', 0.9996689558029175),\n",
              " ('moment', 0.9996660351753235),\n",
              " ('problème', 0.9996576905250549)]"
            ]
          },
          "metadata": {},
          "execution_count": 59
        }
      ]
    }
  ]
}