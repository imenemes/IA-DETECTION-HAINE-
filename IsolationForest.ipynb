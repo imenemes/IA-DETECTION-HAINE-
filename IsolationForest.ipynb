{
  "cells": [
    {
      "cell_type": "code",
      "execution_count": null,
      "metadata": {
        "id": "y-ketQ-qCSy1"
      },
      "outputs": [],
      "source": [
        "import pandas as pd"
      ]
    },
    {
      "cell_type": "code",
      "execution_count": null,
      "metadata": {
        "colab": {
          "base_uri": "https://localhost:8080/"
        },
        "id": "NC5JlNsXb0Dl",
        "outputId": "cb0a7306-28b0-4657-868f-316008d8aa77"
      },
      "outputs": [
        {
          "output_type": "stream",
          "name": "stdout",
          "text": [
            "Mounted at /content/drive\n"
          ]
        }
      ],
      "source": [
        "from google.colab import drive\n",
        "drive.mount('/content/drive')"
      ]
    },
    {
      "cell_type": "code",
      "execution_count": null,
      "metadata": {
        "id": "ZpnaHDQJoBxT"
      },
      "outputs": [],
      "source": [
        "#récupérer les tweets brut\n",
        "data_brut= '/content/drive/MyDrive/Colab Notebooks/raw_1milliontweet.txt'\n",
        "with open(data_brut, \"r\") as file:\n",
        "    lines_brut = file.readlines()\n",
        "    \n",
        "data_full = [line.split() for line in lines_brut]"
      ]
    },
    {
      "cell_type": "code",
      "execution_count": null,
      "metadata": {
        "id": "R5qyxGfMcJVl"
      },
      "outputs": [],
      "source": [
        "#récupérer les tweets nettoyés\n",
        "clean_data= '/content/drive/MyDrive/Colab Notebooks/clean_1milliontweet.txt'\n",
        "with open(clean_data, \"r\") as file:\n",
        "    lines = file.readlines()\n",
        "    \n",
        "clean_full = [line.split() for line in lines]"
      ]
    },
    {
      "cell_type": "code",
      "execution_count": null,
      "metadata": {
        "id": "fMymLS7XCjbx"
      },
      "outputs": [],
      "source": [
        "# transformer en dataframe\n",
        "data = pd.DataFrame(lines_brut, columns = ['tweet'])"
      ]
    },
    {
      "cell_type": "code",
      "execution_count": null,
      "metadata": {
        "colab": {
          "base_uri": "https://localhost:8080/"
        },
        "id": "2DS1LguqkP7E",
        "outputId": "9122f064-4882-424d-fd67-0f7d9ebd68b0"
      },
      "outputs": [
        {
          "output_type": "stream",
          "name": "stdout",
          "text": [
            "658132\n"
          ]
        }
      ],
      "source": [
        "print(len(data['tweet']))"
      ]
    },
    {
      "cell_type": "code",
      "execution_count": null,
      "metadata": {
        "colab": {
          "base_uri": "https://localhost:8080/"
        },
        "id": "F2SqXpMYkv3X",
        "outputId": "753d241a-9ccf-4bb6-a474-06c23882faf4"
      },
      "outputs": [
        {
          "output_type": "stream",
          "name": "stdout",
          "text": [
            "0                                                        \\n\n",
            "1                                                       🥺\\n\n",
            "2                                                🥳🥳🥳🥳🏃‍♂️\\n\n",
            "3                                                       !\\n\n",
            "4                                                      !!\\n\n",
            "                                ...                        \n",
            "658127    【自動】→ C'est Mademoiselle Hortense qui est dans...\n",
            "658128    ⠀⠀⠀⠀⠀⠀⠀⠀⠀©! 自然⠀by 𝘃𝗼𝗴𝘂𝗲𝗽𝗹𝗲𝘂𝗿𝘀.⠀⠀⠀𝗻𝗼𝘁𝗲𝘀 1 oƒ 3 ...\n",
            "658129    花見 ✧ ৶ ⋄ 𖧧 ;〘18.11 ࿁ 09:30〙 ༘✶ ⋆｡ 𝖮𝗅𝗂𝗏𝗂𝖺’𝗌 𝖲𝗉𝖺...\n",
            "658130    金玉 : testicules soit : or + bijou/joyau (ou ba...\n",
            "658131    #魈空 #xiaoaether Zombie AU https://t.co/zb4n87C...\n",
            "Name: tweet, Length: 658132, dtype: object\n"
          ]
        }
      ],
      "source": [
        "print(data.tweet)"
      ]
    },
    {
      "cell_type": "code",
      "source": [
        "data['clean_twt']= lines"
      ],
      "metadata": {
        "id": "c84aNC2Tso7b"
      },
      "execution_count": null,
      "outputs": []
    },
    {
      "cell_type": "code",
      "source": [
        "data.head(20)"
      ],
      "metadata": {
        "id": "hEEckquK_iAo"
      },
      "execution_count": null,
      "outputs": []
    },
    {
      "cell_type": "code",
      "execution_count": null,
      "metadata": {
        "id": "vTrhLmsXc-zm"
      },
      "outputs": [],
      "source": [
        "!pip install gensim==4.0\n",
        "!pip install python-Levenshtein"
      ]
    },
    {
      "cell_type": "code",
      "execution_count": null,
      "metadata": {
        "id": "D7_sV7SbDuhQ"
      },
      "outputs": [],
      "source": [
        "from gensim.models import KeyedVectors"
      ]
    },
    {
      "cell_type": "code",
      "execution_count": null,
      "metadata": {
        "id": "I1yZQP5dJP8L"
      },
      "outputs": [],
      "source": [
        "# récupérer les embeddings entrainés sur nos données\n",
        "w2v = KeyedVectors.load('/content/drive/MyDrive/Colab Notebooks/w2vec_model_d300_1M')"
      ]
    },
    {
      "cell_type": "code",
      "execution_count": null,
      "metadata": {
        "id": "z8b5pRSDN6eb"
      },
      "outputs": [],
      "source": [
        "import numpy as np"
      ]
    },
    {
      "cell_type": "code",
      "execution_count": null,
      "metadata": {
        "id": "POuffGvENwVh"
      },
      "outputs": [],
      "source": [
        "#encode un message\n",
        "def encode(msg):\n",
        "    return np.mean([w2v[word] for word in msg if word in w2v] or [np.zeros(300)], axis = 0)"
      ]
    },
    {
      "cell_type": "code",
      "execution_count": null,
      "metadata": {
        "colab": {
          "base_uri": "https://localhost:8080/"
        },
        "id": "QHb_AjRKQsZe",
        "outputId": "6aed91d2-4ddb-4b01-ff95-428b54a7be9b"
      },
      "outputs": [
        {
          "output_type": "execute_result",
          "data": {
            "text/plain": [
              "[('sal', 0.6782066822052002),\n",
              " ('pvte', 0.629138708114624),\n",
              " ('mèrde', 0.6162537336349487),\n",
              " ('pute', 0.6096962094306946),\n",
              " ('pte', 0.6044666767120361),\n",
              " ('clochard', 0.6014346480369568),\n",
              " ('slp', 0.6004031896591187),\n",
              " ('crasseux', 0.5957321524620056),\n",
              " ('puent', 0.5908592939376831),\n",
              " ('daronn', 0.5900101661682129)]"
            ]
          },
          "metadata": {},
          "execution_count": 17
        }
      ],
      "source": [
        "w2v.similar_by_word(\"sale\")"
      ]
    },
    {
      "cell_type": "code",
      "execution_count": null,
      "metadata": {
        "colab": {
          "base_uri": "https://localhost:8080/"
        },
        "id": "7-WWO8SbNzow",
        "outputId": "d6c1547b-26a3-45f4-dd94-246d989c68e4"
      },
      "outputs": [
        {
          "output_type": "stream",
          "name": "stdout",
          "text": [
            "CPU times: user 29.5 s, sys: 1.88 s, total: 31.4 s\n",
            "Wall time: 31.5 s\n"
          ]
        }
      ],
      "source": [
        "%%time\n",
        "#encodage des données pour créer le jeu de données\n",
        "dataset_encoded = np.array([encode(msg) for msg in clean_full])"
      ]
    },
    {
      "cell_type": "code",
      "execution_count": null,
      "metadata": {
        "colab": {
          "base_uri": "https://localhost:8080/"
        },
        "id": "L0EXntvo6QhB",
        "outputId": "fd77ae11-4ca2-49b1-f1da-a079af67ca63"
      },
      "outputs": [
        {
          "output_type": "stream",
          "name": "stdout",
          "text": [
            "CPU times: user 8min 22s, sys: 10.5 s, total: 8min 32s\n",
            "Wall time: 4min 30s\n"
          ]
        }
      ],
      "source": [
        "%%time\n",
        "from sklearn.ensemble import IsolationForest\n",
        "# definir le modèle ainsi que ses paramètres\n",
        "clf=IsolationForest(n_estimators=100, max_samples='auto', \\\n",
        "                        max_features=1.0, bootstrap=False, n_jobs=-1, random_state=42, verbose=0)\n",
        "# Entrainer le modèle\n",
        "clf.fit(dataset_encoded)"
      ]
    },
    {
      "cell_type": "code",
      "execution_count": null,
      "metadata": {
        "colab": {
          "base_uri": "https://localhost:8080/"
        },
        "id": "s7ryXl2tBgSF",
        "outputId": "47d35d35-4fb5-42f5-f8e9-568fff47223a"
      },
      "outputs": [
        {
          "output_type": "stream",
          "name": "stdout",
          "text": [
            "CPU times: user 2min 21s, sys: 5.75 s, total: 2min 27s\n",
            "Wall time: 2min 26s\n"
          ]
        }
      ],
      "source": [
        "%%time\n",
        "# faire des prédictions sur nos données\n",
        "pred = clf.predict(dataset_encoded)"
      ]
    },
    {
      "cell_type": "code",
      "execution_count": null,
      "metadata": {
        "id": "196-bkDCB46a"
      },
      "outputs": [],
      "source": [
        "# rajouter une colonne dans le dataframe\n",
        "data['pred']= pred"
      ]
    },
    {
      "cell_type": "code",
      "execution_count": null,
      "metadata": {
        "colab": {
          "base_uri": "https://localhost:8080/",
          "height": 626
        },
        "id": "UBAkvlMtuBl0",
        "outputId": "1777f905-2b16-440a-e248-47946b1f11f4"
      },
      "outputs": [
        {
          "output_type": "execute_result",
          "data": {
            "text/plain": [
              "                                                tweet\n",
              "0                                                  \\n\n",
              "1                                                 🥺\\n\n",
              "2                                          🥳🥳🥳🥳🏃‍♂️\\n\n",
              "3                                                 !\\n\n",
              "4                                                !!\\n\n",
              "5   📸ー #KUN ➥ 171121 ; INSTAGRAM Kun a posté sur s...\n",
              "6   ⠀⠀⠀⠀ ⠀ ┄ー 𝐋𝐨𝐮𝐢𝐬𝐨𝐢𝐱 𝐋𝐞𝐯𝐞𝐢𝐥𝐥𝐞𝐮𝐫’𝐬 𝐋𝐞𝐠𝐚𝐜𝐲 ー┄⠀⠀⠀ ⠀...\n",
              "7   📸ー #SUNGCHAN ➥ 141121 ; SNSMC Sungchan à Inkig...\n",
              "8   📸ー #TAEYONG➥ 171121 ; INSTAGRAM Taeyong a post...\n",
              "9   📰 ー #TEN ➥ 181121 ; SNS Ten sera sur la couver...\n",
              "10  📸ー #TEN #WINWIN ➥ 191121 ; SNSTen et Winwin po...\n",
              "11  ¤ UPDATE WEVERSE ¤Commentaire :[#HWANWOONG]Com...\n",
              "12        $$$$ gros chèque de paie tous les deux...\\n\n",
              "13                            $$$$TF esse tribunal?\\n\n",
              "14                              $$$ 2.5t market cap\\n\n",
              "15  $$ bonus change $$ #SuperMarioMaker2 #Nintendo...\n",
              "16                      $0.50-$0.70 range possible?\\n\n",
              "17  $ 1000,00/seconde ! Et vous pensez qu’ils s’ar...\n",
              "18  $100 | 1.4 jt idr | Gcash⏳24H☑️ Rt + Follow Ch...\n",
              "19                          $11.7 million profit? 😳\\n"
            ],
            "text/html": [
              "\n",
              "  <div id=\"df-416c0793-da53-4601-91a5-be716400d276\">\n",
              "    <div class=\"colab-df-container\">\n",
              "      <div>\n",
              "<style scoped>\n",
              "    .dataframe tbody tr th:only-of-type {\n",
              "        vertical-align: middle;\n",
              "    }\n",
              "\n",
              "    .dataframe tbody tr th {\n",
              "        vertical-align: top;\n",
              "    }\n",
              "\n",
              "    .dataframe thead th {\n",
              "        text-align: right;\n",
              "    }\n",
              "</style>\n",
              "<table border=\"1\" class=\"dataframe\">\n",
              "  <thead>\n",
              "    <tr style=\"text-align: right;\">\n",
              "      <th></th>\n",
              "      <th>tweet</th>\n",
              "    </tr>\n",
              "  </thead>\n",
              "  <tbody>\n",
              "    <tr>\n",
              "      <th>0</th>\n",
              "      <td>\\n</td>\n",
              "    </tr>\n",
              "    <tr>\n",
              "      <th>1</th>\n",
              "      <td>🥺\\n</td>\n",
              "    </tr>\n",
              "    <tr>\n",
              "      <th>2</th>\n",
              "      <td>🥳🥳🥳🥳🏃‍♂️\\n</td>\n",
              "    </tr>\n",
              "    <tr>\n",
              "      <th>3</th>\n",
              "      <td>!\\n</td>\n",
              "    </tr>\n",
              "    <tr>\n",
              "      <th>4</th>\n",
              "      <td>!!\\n</td>\n",
              "    </tr>\n",
              "    <tr>\n",
              "      <th>5</th>\n",
              "      <td>📸ー #KUN ➥ 171121 ; INSTAGRAM Kun a posté sur s...</td>\n",
              "    </tr>\n",
              "    <tr>\n",
              "      <th>6</th>\n",
              "      <td>⠀⠀⠀⠀ ⠀ ┄ー 𝐋𝐨𝐮𝐢𝐬𝐨𝐢𝐱 𝐋𝐞𝐯𝐞𝐢𝐥𝐥𝐞𝐮𝐫’𝐬 𝐋𝐞𝐠𝐚𝐜𝐲 ー┄⠀⠀⠀ ⠀...</td>\n",
              "    </tr>\n",
              "    <tr>\n",
              "      <th>7</th>\n",
              "      <td>📸ー #SUNGCHAN ➥ 141121 ; SNSMC Sungchan à Inkig...</td>\n",
              "    </tr>\n",
              "    <tr>\n",
              "      <th>8</th>\n",
              "      <td>📸ー #TAEYONG➥ 171121 ; INSTAGRAM Taeyong a post...</td>\n",
              "    </tr>\n",
              "    <tr>\n",
              "      <th>9</th>\n",
              "      <td>📰 ー #TEN ➥ 181121 ; SNS Ten sera sur la couver...</td>\n",
              "    </tr>\n",
              "    <tr>\n",
              "      <th>10</th>\n",
              "      <td>📸ー #TEN #WINWIN ➥ 191121 ; SNSTen et Winwin po...</td>\n",
              "    </tr>\n",
              "    <tr>\n",
              "      <th>11</th>\n",
              "      <td>¤ UPDATE WEVERSE ¤Commentaire :[#HWANWOONG]Com...</td>\n",
              "    </tr>\n",
              "    <tr>\n",
              "      <th>12</th>\n",
              "      <td>$$$$ gros chèque de paie tous les deux...\\n</td>\n",
              "    </tr>\n",
              "    <tr>\n",
              "      <th>13</th>\n",
              "      <td>$$$$TF esse tribunal?\\n</td>\n",
              "    </tr>\n",
              "    <tr>\n",
              "      <th>14</th>\n",
              "      <td>$$$ 2.5t market cap\\n</td>\n",
              "    </tr>\n",
              "    <tr>\n",
              "      <th>15</th>\n",
              "      <td>$$ bonus change $$ #SuperMarioMaker2 #Nintendo...</td>\n",
              "    </tr>\n",
              "    <tr>\n",
              "      <th>16</th>\n",
              "      <td>$0.50-$0.70 range possible?\\n</td>\n",
              "    </tr>\n",
              "    <tr>\n",
              "      <th>17</th>\n",
              "      <td>$ 1000,00/seconde ! Et vous pensez qu’ils s’ar...</td>\n",
              "    </tr>\n",
              "    <tr>\n",
              "      <th>18</th>\n",
              "      <td>$100 | 1.4 jt idr | Gcash⏳24H☑️ Rt + Follow Ch...</td>\n",
              "    </tr>\n",
              "    <tr>\n",
              "      <th>19</th>\n",
              "      <td>$11.7 million profit? 😳\\n</td>\n",
              "    </tr>\n",
              "  </tbody>\n",
              "</table>\n",
              "</div>\n",
              "      <button class=\"colab-df-convert\" onclick=\"convertToInteractive('df-416c0793-da53-4601-91a5-be716400d276')\"\n",
              "              title=\"Convert this dataframe to an interactive table.\"\n",
              "              style=\"display:none;\">\n",
              "        \n",
              "  <svg xmlns=\"http://www.w3.org/2000/svg\" height=\"24px\"viewBox=\"0 0 24 24\"\n",
              "       width=\"24px\">\n",
              "    <path d=\"M0 0h24v24H0V0z\" fill=\"none\"/>\n",
              "    <path d=\"M18.56 5.44l.94 2.06.94-2.06 2.06-.94-2.06-.94-.94-2.06-.94 2.06-2.06.94zm-11 1L8.5 8.5l.94-2.06 2.06-.94-2.06-.94L8.5 2.5l-.94 2.06-2.06.94zm10 10l.94 2.06.94-2.06 2.06-.94-2.06-.94-.94-2.06-.94 2.06-2.06.94z\"/><path d=\"M17.41 7.96l-1.37-1.37c-.4-.4-.92-.59-1.43-.59-.52 0-1.04.2-1.43.59L10.3 9.45l-7.72 7.72c-.78.78-.78 2.05 0 2.83L4 21.41c.39.39.9.59 1.41.59.51 0 1.02-.2 1.41-.59l7.78-7.78 2.81-2.81c.8-.78.8-2.07 0-2.86zM5.41 20L4 18.59l7.72-7.72 1.47 1.35L5.41 20z\"/>\n",
              "  </svg>\n",
              "      </button>\n",
              "      \n",
              "  <style>\n",
              "    .colab-df-container {\n",
              "      display:flex;\n",
              "      flex-wrap:wrap;\n",
              "      gap: 12px;\n",
              "    }\n",
              "\n",
              "    .colab-df-convert {\n",
              "      background-color: #E8F0FE;\n",
              "      border: none;\n",
              "      border-radius: 50%;\n",
              "      cursor: pointer;\n",
              "      display: none;\n",
              "      fill: #1967D2;\n",
              "      height: 32px;\n",
              "      padding: 0 0 0 0;\n",
              "      width: 32px;\n",
              "    }\n",
              "\n",
              "    .colab-df-convert:hover {\n",
              "      background-color: #E2EBFA;\n",
              "      box-shadow: 0px 1px 2px rgba(60, 64, 67, 0.3), 0px 1px 3px 1px rgba(60, 64, 67, 0.15);\n",
              "      fill: #174EA6;\n",
              "    }\n",
              "\n",
              "    [theme=dark] .colab-df-convert {\n",
              "      background-color: #3B4455;\n",
              "      fill: #D2E3FC;\n",
              "    }\n",
              "\n",
              "    [theme=dark] .colab-df-convert:hover {\n",
              "      background-color: #434B5C;\n",
              "      box-shadow: 0px 1px 3px 1px rgba(0, 0, 0, 0.15);\n",
              "      filter: drop-shadow(0px 1px 2px rgba(0, 0, 0, 0.3));\n",
              "      fill: #FFFFFF;\n",
              "    }\n",
              "  </style>\n",
              "\n",
              "      <script>\n",
              "        const buttonEl =\n",
              "          document.querySelector('#df-416c0793-da53-4601-91a5-be716400d276 button.colab-df-convert');\n",
              "        buttonEl.style.display =\n",
              "          google.colab.kernel.accessAllowed ? 'block' : 'none';\n",
              "\n",
              "        async function convertToInteractive(key) {\n",
              "          const element = document.querySelector('#df-416c0793-da53-4601-91a5-be716400d276');\n",
              "          const dataTable =\n",
              "            await google.colab.kernel.invokeFunction('convertToInteractive',\n",
              "                                                     [key], {});\n",
              "          if (!dataTable) return;\n",
              "\n",
              "          const docLinkHtml = 'Like what you see? Visit the ' +\n",
              "            '<a target=\"_blank\" href=https://colab.research.google.com/notebooks/data_table.ipynb>data table notebook</a>'\n",
              "            + ' to learn more about interactive tables.';\n",
              "          element.innerHTML = '';\n",
              "          dataTable['output_type'] = 'display_data';\n",
              "          await google.colab.output.renderOutput(dataTable, element);\n",
              "          const docLink = document.createElement('div');\n",
              "          docLink.innerHTML = docLinkHtml;\n",
              "          element.appendChild(docLink);\n",
              "        }\n",
              "      </script>\n",
              "    </div>\n",
              "  </div>\n",
              "  "
            ]
          },
          "metadata": {},
          "execution_count": 43
        }
      ],
      "source": [
        "data.head(20)"
      ]
    },
    {
      "cell_type": "code",
      "execution_count": null,
      "metadata": {
        "colab": {
          "base_uri": "https://localhost:8080/"
        },
        "id": "B6KfbLjeuLmz",
        "outputId": "9353d8fd-3caa-4dca-d2af-725d306e25a7"
      },
      "outputs": [
        {
          "output_type": "execute_result",
          "data": {
            "text/plain": [
              " 1    618400\n",
              "-1     39732\n",
              "Name: pred, dtype: int64"
            ]
          },
          "metadata": {},
          "execution_count": 29
        }
      ],
      "source": [
        "#localiser les outliers dans le dataframe\n",
        "outliers=data['tweet'].loc[data['pred']==-1]\n",
        "outlier_index=list(outliers.index)\n",
        "data['pred'].value_counts()"
      ]
    },
    {
      "cell_type": "code",
      "execution_count": null,
      "metadata": {
        "colab": {
          "base_uri": "https://localhost:8080/",
          "height": 284
        },
        "id": "TMBbLnyjuZbV",
        "outputId": "a7728b29-1c9e-4777-e113-158808c16b3a"
      },
      "outputs": [
        {
          "output_type": "display_data",
          "data": {
            "text/plain": [
              "<Figure size 432x288 with 1 Axes>"
            ],
            "image/png": "[encoded data removed]"
          },
          "metadata": {
            "needs_background": "light"
          }
        },
        {
          "output_type": "stream",
          "name": "stdout",
          "text": [
            "CPU times: user 47.7 s, sys: 7.39 s, total: 55.1 s\n",
            "Wall time: 40.2 s\n"
          ]
        }
      ],
      "source": [
        "# Visulaliser les outliers 3 dimensions\n",
        "%%time\n",
        "import matplotlib.pyplot as plt\n",
        "from sklearn.decomposition import PCA\n",
        "from sklearn.preprocessing import StandardScaler\n",
        "from mpl_toolkits.mplot3d import Axes3D\n",
        "pca = PCA(n_components=3)  # Reduce to k=3 dimensions\n",
        "scaler = StandardScaler()\n",
        "#normalize the metrics\n",
        "X = scaler.fit_transform(dataset_encoded)\n",
        "X_reduce = pca.fit_transform(X)\n",
        "\n",
        "fig = plt.figure()\n",
        "figsize=(12, 12,12)\n",
        "ax = fig.add_subplot(111, projection='3d')\n",
        "ax.set_zlabel(\"x_composite_3\")\n",
        "\n",
        "# Plot the compressed data points\n",
        "ax.scatter(X_reduce[:, 0], X_reduce[:, 1], zs=X_reduce[:, 2], s=4, lw=1, label=\"inliers\",c=\"green\")\n",
        "\n",
        "# Plot x's for the ground truth outliers\n",
        "ax.scatter(X_reduce[outlier_index,0],X_reduce[outlier_index,1], X_reduce[outlier_index,2],\n",
        "           lw=2, s=60, marker=\"x\", c=\"red\", label=\"outliers\")\n",
        "ax.legend()\n",
        "plt.show()"
      ]
    },
    {
      "cell_type": "code",
      "execution_count": null,
      "metadata": {
        "colab": {
          "base_uri": "https://localhost:8080/",
          "height": 480
        },
        "id": "J32VxKHDvXfX",
        "outputId": "43b8508e-fc72-4b13-d9a5-848bb26fcd7c"
      },
      "outputs": [
        {
          "output_type": "display_data",
          "data": {
            "text/plain": [
              "<Figure size 864x504 with 1 Axes>"
            ],
            "image/png": "[encoded data removed]"
          },
          "metadata": {
            "needs_background": "light"
          }
        },
        {
          "output_type": "stream",
          "name": "stdout",
          "text": [
            "CPU times: user 34.8 s, sys: 5.14 s, total: 39.9 s\n",
            "Wall time: 35.9 s\n"
          ]
        }
      ],
      "source": [
        "# Visulaliser les outliers 2 dimensions\n",
        "%%time\n",
        "pca = PCA(2)\n",
        "pca.fit(dataset_encoded)\n",
        "\n",
        "\n",
        "res=pd.DataFrame(pca.transform(dataset_encoded))\n",
        "\n",
        "Z = np.array(res)\n",
        "figsize=(12, 7)\n",
        "plt.figure(figsize=figsize)\n",
        "plt.title(\"IsolationForest\")\n",
        "plt.contourf( Z, cmap=plt.cm.Blues_r)\n",
        "\n",
        "b1 = plt.scatter(res[0], res[1], c='blue',\n",
        "                 s=40,label=\"normal points\")\n",
        "\n",
        "b1 = plt.scatter(res.iloc[outlier_index,0],res.iloc[outlier_index,1], c='red',\n",
        "                 s=40,  edgecolor=\"red\",label=\"predicted outliers\")\n",
        "plt.legend(loc=\"upper right\")\n",
        "plt.show()"
      ]
    },
    {
      "cell_type": "code",
      "execution_count": null,
      "metadata": {
        "colab": {
          "base_uri": "https://localhost:8080/"
        },
        "id": "AEEfH33PwLt8",
        "outputId": "64c3d308-f624-4532-dddc-d0e8878d85d0"
      },
      "outputs": [
        {
          "output_type": "execute_result",
          "data": {
            "text/plain": [
              "12          $$$$ gros chèque de paie tous les deux...\\n\n",
              "13                              $$$$TF esse tribunal?\\n\n",
              "14                                $$$ 2.5t market cap\\n\n",
              "15    $$ bonus change $$ #SuperMarioMaker2 #Nintendo...\n",
              "16                        $0.50-$0.70 range possible?\\n\n",
              "Name: tweet, dtype: object"
            ]
          },
          "metadata": {},
          "execution_count": 49
        }
      ],
      "source": [
        "outliers.head()"
      ]
    },
    {
      "cell_type": "markdown",
      "metadata": {
        "id": "Wxf14SFcf_Ss"
      },
      "source": [
        "On remarque que les outliers sont des tweets  contenant les mots dollars , des mots en coréen"
      ]
    },
    {
      "cell_type": "code",
      "execution_count": null,
      "metadata": {
        "id": "q-PiwgPyxRXe"
      },
      "outputs": [],
      "source": [
        "with open(\"outliers.txt\", 'w') as f:\n",
        "  for line in outliers:\n",
        "    f.write(line)"
      ]
    }
  ],
  "metadata": {
    "colab": {
      "name": "IsolationForest.ipynb",
      "provenance": [],
      "authorship_tag": "ABX9TyMjo5l6Utp55vwhhIH3kcc9"
    },
    "kernelspec": {
      "display_name": "Python 3",
      "name": "python3"
    },
    "language_info": {
      "name": "python"
    }
  },
  "nbformat": 4,
  "nbformat_minor": 0
}