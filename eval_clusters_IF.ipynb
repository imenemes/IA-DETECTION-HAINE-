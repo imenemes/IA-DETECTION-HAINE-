{
  "nbformat": 4,
  "nbformat_minor": 0,
  "metadata": {
    "colab": {
      "name": "eval_clusters_IF.ipynb",
      "provenance": [],
      "authorship_tag": "ABX9TyMHxxhC7w36Wx/jS4R4aqaH"
    },
    "kernelspec": {
      "name": "python3",
      "display_name": "Python 3"
    },
    "language_info": {
      "name": "python"
    }
  },
  "cells": [
    {
      "cell_type": "code",
      "execution_count": 1,
      "metadata": {
        "id": "sBAVaH1UBHXv"
      },
      "outputs": [],
      "source": [
        "import pandas as pd\n",
        "import glob"
      ]
    },
    {
      "cell_type": "code",
      "source": [
        "from google.colab import drive\n",
        "drive.mount('/content/drive')"
      ],
      "metadata": {
        "colab": {
          "base_uri": "https://localhost:8080/"
        },
        "id": "eJZ6V8NGBI7B",
        "outputId": "17b32194-d5d1-4f4f-d6b9-d8a9ef2a5f15"
      },
      "execution_count": 2,
      "outputs": [
        {
          "output_type": "stream",
          "name": "stdout",
          "text": [
            "Mounted at /content/drive\n"
          ]
        }
      ]
    },
    {
      "cell_type": "markdown",
      "source": [
        "**Récupérer les fichiers d'outliers**"
      ],
      "metadata": {
        "id": "5o4aXvVaofO7"
      }
    },
    {
      "cell_type": "code",
      "execution_count": 3,
      "metadata": {
        "id": "eaNKVb9tz_O2"
      },
      "outputs": [],
      "source": [
        "# récupérer les fihcier d'outliers\n",
        "# glob aide à faire un trie par regex afin d'en choisir les fichiers nettoyés\n",
        "list_out= glob.glob('/content/drive/MyDrive/outliers/*outliers*')"
      ]
    },
    {
      "cell_type": "code",
      "source": [
        "list_out_25= glob.glob('/content/drive/MyDrive/outliers25/*outliers*')"
      ],
      "metadata": {
        "id": "9XPrsMm5odOe"
      },
      "execution_count": 4,
      "outputs": []
    },
    {
      "cell_type": "code",
      "source": [
        "list_out_25"
      ],
      "metadata": {
        "colab": {
          "base_uri": "https://localhost:8080/"
        },
        "id": "_jUKX3tQdBpY",
        "outputId": "46fc66b4-f2fb-478a-9c1b-edaae824738a"
      },
      "execution_count": 5,
      "outputs": [
        {
          "output_type": "execute_result",
          "data": {
            "text/plain": [
              "['/content/drive/MyDrive/outliers25/outliers3',\n",
              " '/content/drive/MyDrive/outliers25/outliers2',\n",
              " '/content/drive/MyDrive/outliers25/outliers0',\n",
              " '/content/drive/MyDrive/outliers25/outliers13',\n",
              " '/content/drive/MyDrive/outliers25/outliers10',\n",
              " '/content/drive/MyDrive/outliers25/outliers1',\n",
              " '/content/drive/MyDrive/outliers25/outliers14',\n",
              " '/content/drive/MyDrive/outliers25/outliers9',\n",
              " '/content/drive/MyDrive/outliers25/outliers11',\n",
              " '/content/drive/MyDrive/outliers25/outliers6',\n",
              " '/content/drive/MyDrive/outliers25/outliers5',\n",
              " '/content/drive/MyDrive/outliers25/outliers7',\n",
              " '/content/drive/MyDrive/outliers25/outliers4',\n",
              " '/content/drive/MyDrive/outliers25/outliers8',\n",
              " '/content/drive/MyDrive/outliers25/outliers12',\n",
              " '/content/drive/MyDrive/outliers25/outliers22',\n",
              " '/content/drive/MyDrive/outliers25/outliers24',\n",
              " '/content/drive/MyDrive/outliers25/outliers21',\n",
              " '/content/drive/MyDrive/outliers25/outliers23',\n",
              " '/content/drive/MyDrive/outliers25/outliers16',\n",
              " '/content/drive/MyDrive/outliers25/outliers18',\n",
              " '/content/drive/MyDrive/outliers25/outliers17',\n",
              " '/content/drive/MyDrive/outliers25/outliers20',\n",
              " '/content/drive/MyDrive/outliers25/outliers15',\n",
              " '/content/drive/MyDrive/outliers25/outliers19']"
            ]
          },
          "metadata": {},
          "execution_count": 5
        }
      ]
    },
    {
      "cell_type": "markdown",
      "source": [
        "**Fonction de lecture de fichiers**"
      ],
      "metadata": {
        "id": "pIhHKjgEgqxt"
      }
    },
    {
      "cell_type": "code",
      "source": [
        "def read_cluster(files):\n",
        "  liste=[]\n",
        "  for i,cluster in enumerate(files):\n",
        "    with open(cluster, \"r\") as file:\n",
        "      liste.append(file.readlines())\n",
        "  return liste"
      ],
      "metadata": {
        "id": "CaY0cTlXeCNO"
      },
      "execution_count": 6,
      "outputs": []
    },
    {
      "cell_type": "markdown",
      "source": [
        "**Fonction de detection de la haine les outliers de chaque cluster**"
      ],
      "metadata": {
        "id": "g61M_af-g47G"
      }
    },
    {
      "cell_type": "code",
      "source": [
        "def search_hate_words(mlists, file):\n",
        "    ret = {}\n",
        "    with open(file, \"r\") as f:\n",
        "        kws = f.read().splitlines()\n",
        "    for i, mlist in enumerate(mlists):\n",
        "        n_msg = 0\n",
        "        for msg in mlist:\n",
        "            for kw in kws:\n",
        "                if kw in msg:\n",
        "                    n_msg += 1\n",
        "                    break\n",
        "        if len(mlist)>0:\n",
        "          perc = (n_msg / len(mlist))*100\n",
        "          ret[i] = (n_msg, perc)\n",
        "    return ret"
      ],
      "metadata": {
        "id": "0FhxFFQ-dK2G"
      },
      "execution_count": 7,
      "outputs": []
    },
    {
      "cell_type": "markdown",
      "source": [
        "**1- Cas d'application d'IF  sur toutes les données**"
      ],
      "metadata": {
        "id": "H58hjlv_hQgn"
      }
    },
    {
      "cell_type": "code",
      "source": [
        "with open('/content/drive/MyDrive/Data_M/outliers.txt', \"r\") as f:\n",
        "        outliers_IF = f.read().splitlines()"
      ],
      "metadata": {
        "id": "jB04ASu0iqO1"
      },
      "execution_count": 9,
      "outputs": []
    },
    {
      "cell_type": "code",
      "source": [
        "search_hate_words([outliers_IF],'/content/drive/MyDrive/Data_M/keyword')"
      ],
      "metadata": {
        "colab": {
          "base_uri": "https://localhost:8080/"
        },
        "id": "MYDtgnIjgGE3",
        "outputId": "7ceebe2b-c0bc-4d6a-b4f0-04c363508ce3"
      },
      "execution_count": 11,
      "outputs": [
        {
          "output_type": "execute_result",
          "data": {
            "text/plain": [
              "{0: (145, 0.36494513238699283)}"
            ]
          },
          "metadata": {},
          "execution_count": 11
        }
      ]
    },
    {
      "cell_type": "markdown",
      "source": [
        "**2- Cas de 10 clusters**"
      ],
      "metadata": {
        "id": "x4_wlUmrhH0x"
      }
    },
    {
      "cell_type": "code",
      "source": [
        "liste_outliers= read_cluster(list_out)"
      ],
      "metadata": {
        "id": "kvDWYCV-oL-J"
      },
      "execution_count": 12,
      "outputs": []
    },
    {
      "cell_type": "code",
      "source": [
        "search_hate_words(liste_outliers,'/content/drive/MyDrive/Data_M/keyword')"
      ],
      "metadata": {
        "colab": {
          "base_uri": "https://localhost:8080/"
        },
        "id": "u4OCzyNUoVmI",
        "outputId": "d365b1de-c6ec-4b4b-f8bf-017786e8fa13"
      },
      "execution_count": 13,
      "outputs": [
        {
          "output_type": "execute_result",
          "data": {
            "text/plain": [
              "{0: (4, 0.12558869701726844),\n",
              " 1: (1, 0.029171528588098013),\n",
              " 2: (9, 0.14935280451377364),\n",
              " 4: (19, 0.25938566552901027),\n",
              " 5: (5, 0.17464198393293748),\n",
              " 6: (8, 0.2486016159105034),\n",
              " 7: (76, 1.4612574504902904),\n",
              " 8: (0, 0.0),\n",
              " 9: (6, 0.19071837253655435)}"
            ]
          },
          "metadata": {},
          "execution_count": 13
        }
      ]
    },
    {
      "cell_type": "markdown",
      "source": [
        "**3- Cas de 25 clusters**"
      ],
      "metadata": {
        "id": "ZAXkmmlhoO0o"
      }
    },
    {
      "cell_type": "code",
      "source": [
        "outliers_25= read_cluster(list_out_25)"
      ],
      "metadata": {
        "id": "ySISv8-feEQJ"
      },
      "execution_count": 14,
      "outputs": []
    },
    {
      "cell_type": "code",
      "source": [
        "search_hate_words(outliers_25,'/content/drive/MyDrive/Data_M/keyword')"
      ],
      "metadata": {
        "colab": {
          "base_uri": "https://localhost:8080/"
        },
        "id": "aec7N8waeave",
        "outputId": "ba6f91d1-15c6-4bb3-f262-b189119b7485"
      },
      "execution_count": 17,
      "outputs": [
        {
          "output_type": "execute_result",
          "data": {
            "text/plain": [
              "{0: (593, 1.0748595251042234),\n",
              " 1: (4, 0.24183796856106407),\n",
              " 2: (438, 0.8196874707588659),\n",
              " 3: (43, 0.5538382277176712),\n",
              " 4: (285, 1.3728323699421965),\n",
              " 5: (346, 1.0289350819282124),\n",
              " 6: (16, 0.5208333333333333),\n",
              " 7: (145, 0.7376131854715637),\n",
              " 8: (841, 1.742030366427077),\n",
              " 9: (1158, 1.2429693873169894),\n",
              " 10: (12, 0.44876589379207177),\n",
              " 11: (1, 0.034952813701502966),\n",
              " 12: (265, 1.2915488839068134),\n",
              " 13: (4, 0.19047619047619047),\n",
              " 14: (4, 0.40816326530612246),\n",
              " 15: (4, 0.19389238972370335),\n",
              " 16: (0, 0.0),\n",
              " 17: (38, 0.30593349971821915),\n",
              " 18: (1455, 2.45470189290414),\n",
              " 19: (12, 0.2663706992230854),\n",
              " 20: (32, 0.31025790188093855),\n",
              " 21: (0, 0.0),\n",
              " 22: (693, 2.3545800489263384),\n",
              " 23: (815, 2.647909288800806),\n",
              " 24: (17, 0.5007363770250368)}"
            ]
          },
          "metadata": {},
          "execution_count": 17
        }
      ]
    },
    {
      "cell_type": "markdown",
      "source": [
        "Nous remarquons que quelque soit la variante , le pourcentage de mots haineux dans les fichiers outliers est marginale , on conclu que IF n'arrive pas à isoler les tweets haineux comme voulu."
      ],
      "metadata": {
        "id": "aEPhXB7ChYBI"
      }
    }
  ]
}