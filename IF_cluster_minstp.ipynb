{
  "cells": [
    {
      "cell_type": "code",
      "execution_count": 2,
      "metadata": {
        "id": "y-ketQ-qCSy1"
      },
      "outputs": [],
      "source": [
        "import pandas as pd\n",
        "import glob"
      ]
    },
    {
      "cell_type": "code",
      "execution_count": 3,
      "metadata": {
        "colab": {
          "base_uri": "https://localhost:8080/"
        },
        "id": "NC5JlNsXb0Dl",
        "outputId": "db36a036-8003-4581-f0f1-c56e8000bdd9"
      },
      "outputs": [
        {
          "output_type": "stream",
          "name": "stdout",
          "text": [
            "Drive already mounted at /content/drive; to attempt to forcibly remount, call drive.mount(\"/content/drive\", force_remount=True).\n"
          ]
        }
      ],
      "source": [
        "from google.colab import drive\n",
        "drive.mount('/content/drive')"
      ]
    },
    {
      "cell_type": "code",
      "source": [
        "path_files = r\"/content/drive/MyDrive/Colab Notebooks/1M_MinStp_clusters/\""
      ],
      "metadata": {
        "id": "1slR4akM8nZK"
      },
      "execution_count": 4,
      "outputs": []
    },
    {
      "cell_type": "code",
      "execution_count": 5,
      "metadata": {
        "id": "eaNKVb9tz_O2"
      },
      "outputs": [],
      "source": [
        "# récupérer les fichier du dossier contenant les fihcier de clusters\n",
        "# glob aide à faire un trie par regex afin d'en choisir les fichiers nettoyés\n",
        "list_km= glob.glob(f\"{path_files}*km*\")\n",
        "list_som= glob.glob(f\"{path_files}*som*\")"
      ]
    },
    {
      "cell_type": "code",
      "source": [
        "list_km"
      ],
      "metadata": {
        "colab": {
          "base_uri": "https://localhost:8080/"
        },
        "id": "bV-AceuE8mJA",
        "outputId": "25ed2405-be11-481e-e5a1-bbce74c1b05d"
      },
      "execution_count": 6,
      "outputs": [
        {
          "output_type": "execute_result",
          "data": {
            "text/plain": [
              "['/content/drive/MyDrive/Colab Notebooks/1M_MinStp_clusters/km_25',\n",
              " '/content/drive/MyDrive/Colab Notebooks/1M_MinStp_clusters/km_100',\n",
              " '/content/drive/MyDrive/Colab Notebooks/1M_MinStp_clusters/km_50']"
            ]
          },
          "metadata": {},
          "execution_count": 6
        }
      ]
    },
    {
      "cell_type": "code",
      "source": [
        "import re\n",
        "\n",
        "def extr_num(string):\n",
        "    num = re.search(\"([0-9]+)\", string)\n",
        "    return int(num.group(1)) if num else -1"
      ],
      "metadata": {
        "id": "Y-NiyejAJ4Ts"
      },
      "execution_count": 7,
      "outputs": []
    },
    {
      "cell_type": "code",
      "execution_count": 8,
      "metadata": {
        "id": "ufrbbAv80bQ7"
      },
      "outputs": [],
      "source": [
        "def make_liste(liste):\n",
        "  liste_clean=[]\n",
        "  liste_brut=[]\n",
        "  liste.sort(key=extr_num)\n",
        "  for cluster in liste:\n",
        "    liste_clean.append(glob.glob(cluster+'/*clean*'))\n",
        "    liste_brut.append(glob.glob(cluster+'/*raw*'))\n",
        "  return liste_clean, liste_brut"
      ]
    },
    {
      "cell_type": "code",
      "source": [
        "liste_clean_som , liste_brut_som = make_liste(list_som)"
      ],
      "metadata": {
        "id": "7vnfdB1TcMRv"
      },
      "execution_count": 9,
      "outputs": []
    },
    {
      "cell_type": "code",
      "source": [
        "liste_clean_km , liste_brut_km = make_liste(list_km)"
      ],
      "metadata": {
        "id": "AmOQs6mpLclr"
      },
      "execution_count": 10,
      "outputs": []
    },
    {
      "cell_type": "code",
      "source": [
        "def extr_num2(string):\n",
        "    num = re.search(\"cluster_([0-9]+)_\", string)\n",
        "    return int(num.group(1)) if num else -1"
      ],
      "metadata": {
        "id": "_Q3oggpWNipJ"
      },
      "execution_count": 11,
      "outputs": []
    },
    {
      "cell_type": "code",
      "execution_count": 12,
      "metadata": {
        "id": "R5qyxGfMcJVl"
      },
      "outputs": [],
      "source": [
        "# fonction pour lire une liste de fichier \n",
        "# argument : une liste de fichiers\n",
        "# sortie: liste\n",
        "def read_cluster(files):\n",
        "  liste=[]\n",
        "  for i,cluster in enumerate(files):\n",
        "    with open(cluster, \"r\") as file:\n",
        "      liste.append(file.readlines())\n",
        "  return liste"
      ]
    },
    {
      "cell_type": "code",
      "execution_count": 13,
      "metadata": {
        "id": "7DqNmzR820fl"
      },
      "outputs": [],
      "source": [
        "def matrice(liste):\n",
        "  cluster_km=[]\n",
        "  for file in liste:\n",
        "    file.sort(key=extr_num2)\n",
        "    cluster_km.append(read_cluster(file))\n",
        "  return cluster_km"
      ]
    },
    {
      "cell_type": "code",
      "source": [
        "clean_cluster_km= matrice(liste_clean_km)"
      ],
      "metadata": {
        "id": "g83I9zWrQbij"
      },
      "execution_count": 14,
      "outputs": []
    },
    {
      "cell_type": "code",
      "source": [
        "clean_cluster_km[0][24]"
      ],
      "metadata": {
        "id": "_CBmqtFiByI7"
      },
      "execution_count": null,
      "outputs": []
    },
    {
      "cell_type": "code",
      "source": [
        "brut_cluster_km= matrice(liste_brut_km)"
      ],
      "metadata": {
        "id": "ykPUhGFiBuk3"
      },
      "execution_count": 15,
      "outputs": []
    },
    {
      "cell_type": "code",
      "source": [
        "clean_cluster_som= matrice(liste_clean_som)"
      ],
      "metadata": {
        "id": "oAClES6Q7h8R"
      },
      "execution_count": 16,
      "outputs": []
    },
    {
      "cell_type": "code",
      "source": [
        "brut_cluster_som= matrice(liste_brut_som)"
      ],
      "metadata": {
        "id": "F_469HOOO9qN"
      },
      "execution_count": 17,
      "outputs": []
    },
    {
      "cell_type": "code",
      "source": [
        "brut_cluster_km[0]"
      ],
      "metadata": {
        "id": "JrVzwcPHnjS7"
      },
      "execution_count": null,
      "outputs": []
    },
    {
      "cell_type": "code",
      "source": [
        "def make_df(liste_brut , liste_clean):\n",
        "  df=[[] for _ in range(len(liste_brut))]\n",
        "  for i in range(len(liste_brut)):\n",
        "    for n in range(len(liste_brut[i])):\n",
        "      df[i].append(pd.DataFrame(list(zip(liste_brut[i][n] ,liste_clean[i][n])), columns = ['tweet', 'clean_twt']))\n",
        "  return df"
      ],
      "metadata": {
        "id": "KyQT9rAOeibQ"
      },
      "execution_count": 18,
      "outputs": []
    },
    {
      "cell_type": "code",
      "source": [
        "data_km = make_df(brut_cluster_km, clean_cluster_km)"
      ],
      "metadata": {
        "id": "A0ZbONGmfcwY"
      },
      "execution_count": 19,
      "outputs": []
    },
    {
      "cell_type": "code",
      "source": [
        "data_som= make_df(brut_cluster_som,clean_cluster_som)"
      ],
      "metadata": {
        "id": "dRupEU6OgckH"
      },
      "execution_count": 20,
      "outputs": []
    },
    {
      "cell_type": "markdown",
      "source": [
        "data_SOM : \n",
        "1.   index 0 : som100\n",
        "2.   index 1: som225\n",
        "3.   index 2: som400\n",
        "\n",
        "\n",
        "data_km : \n",
        "1.   index 0 : km25\n",
        "2.   index 1: km50\n",
        "3.   index 2: km100"
      ],
      "metadata": {
        "id": "ZvjvB-QHTg0o"
      }
    },
    {
      "cell_type": "code",
      "execution_count": null,
      "metadata": {
        "id": "vTrhLmsXc-zm"
      },
      "outputs": [],
      "source": [
        "!pip install gensim==4.0\n",
        "!pip install python-Levenshtein"
      ]
    },
    {
      "cell_type": "code",
      "execution_count": 23,
      "metadata": {
        "id": "D7_sV7SbDuhQ"
      },
      "outputs": [],
      "source": [
        "from gensim.models import KeyedVectors"
      ]
    },
    {
      "cell_type": "code",
      "execution_count": 24,
      "metadata": {
        "id": "I1yZQP5dJP8L"
      },
      "outputs": [],
      "source": [
        "# récupérer les embeddings entrainés sur nos données\n",
        "w2v_minstp = KeyedVectors.load('/content/drive/MyDrive/Colab Notebooks/w2v/w2vec_model_d300_1M_MinStp')"
      ]
    },
    {
      "cell_type": "code",
      "execution_count": 25,
      "metadata": {
        "id": "z8b5pRSDN6eb"
      },
      "outputs": [],
      "source": [
        "import numpy as np"
      ]
    },
    {
      "cell_type": "code",
      "execution_count": 26,
      "metadata": {
        "id": "POuffGvENwVh"
      },
      "outputs": [],
      "source": [
        "#encode un message\n",
        "def encode(msg):\n",
        "    return np.mean([w2v_minstp[word] for word in msg if word in w2v_minstp] or [np.zeros(300)], axis = 0)"
      ]
    },
    {
      "cell_type": "code",
      "execution_count": null,
      "metadata": {
        "id": "QHb_AjRKQsZe"
      },
      "outputs": [],
      "source": [
        "w2v_minstp.similar_by_word(\"sale\")"
      ]
    },
    {
      "cell_type": "code",
      "execution_count": 28,
      "metadata": {
        "id": "SkTP5_y6TtX8"
      },
      "outputs": [],
      "source": [
        "# Encoder une liste de messages \n",
        "def encoded(liste):\n",
        "  w2v=[]\n",
        "  for i in range(len(liste)):\n",
        "    w2v.append(np.array([encode(msg.split()) for msg in liste[i]]))\n",
        "  return w2v"
      ]
    },
    {
      "cell_type": "markdown",
      "source": [
        "Encodage des différents set de clusters"
      ],
      "metadata": {
        "id": "-C6RjNlHwtMQ"
      }
    },
    {
      "cell_type": "code",
      "source": [
        "len(clean_cluster_km)"
      ],
      "metadata": {
        "colab": {
          "base_uri": "https://localhost:8080/"
        },
        "id": "BZg5exCLSnXx",
        "outputId": "a54923d1-ae3d-4cf4-daed-f9110dfefe59"
      },
      "execution_count": 338,
      "outputs": [
        {
          "output_type": "execute_result",
          "data": {
            "text/plain": [
              "3"
            ]
          },
          "metadata": {},
          "execution_count": 338
        }
      ]
    },
    {
      "cell_type": "code",
      "source": [
        "def liste_encoded(liste_cluster):\n",
        "  dataset_encoded=[]\n",
        "  for i in range(len(liste_cluster)):\n",
        "    dataset_encoded.append(encoded(liste_cluster[i]))\n",
        "  return dataset_encoded"
      ],
      "metadata": {
        "id": "y1p8ZaKdR2WH"
      },
      "execution_count": 33,
      "outputs": []
    },
    {
      "cell_type": "code",
      "source": [
        "dataset_encoded_km= liste_encoded(clean_cluster_km)"
      ],
      "metadata": {
        "id": "hcQCGJEaSuFy"
      },
      "execution_count": 34,
      "outputs": []
    },
    {
      "cell_type": "code",
      "source": [
        "dataset_encoded_km[0][1]"
      ],
      "metadata": {
        "id": "FT39wUAQUNE-"
      },
      "execution_count": null,
      "outputs": []
    },
    {
      "cell_type": "code",
      "source": [
        "dataset_encoded_som= liste_encoded(clean_cluster_som)"
      ],
      "metadata": {
        "id": "hbVN24_dVky-"
      },
      "execution_count": 42,
      "outputs": []
    },
    {
      "cell_type": "code",
      "execution_count": 39,
      "metadata": {
        "colab": {
          "base_uri": "https://localhost:8080/"
        },
        "id": "7-WWO8SbNzow",
        "outputId": "34f72773-6782-40ef-8068-5103ac9b9255"
      },
      "outputs": [
        {
          "output_type": "stream",
          "name": "stdout",
          "text": [
            "CPU times: user 28.2 s, sys: 790 ms, total: 29 s\n",
            "Wall time: 28.9 s\n"
          ]
        }
      ],
      "source": [
        "%%time\n",
        "#encodage de l'échantillon pour créer le jeu de données\n",
        "dataset_encoded_km_25 = encoded(clean_cluster_km[0])"
      ]
    },
    {
      "cell_type": "code",
      "source": [
        "dataset_encoded_km_25[1]"
      ],
      "metadata": {
        "id": "Yx7BiJlQVFfV"
      },
      "execution_count": null,
      "outputs": []
    },
    {
      "cell_type": "markdown",
      "source": [
        "Entrainement des différents set de clusters"
      ],
      "metadata": {
        "id": "tW5Zihz2w-7P"
      }
    },
    {
      "cell_type": "code",
      "execution_count": 44,
      "metadata": {
        "id": "L0EXntvo6QhB"
      },
      "outputs": [],
      "source": [
        "from sklearn.ensemble import IsolationForest\n",
        "\n",
        "# definir le modèle ainsi que ses paramètres\n",
        "if_model=IsolationForest(n_jobs=-1, random_state=42)\n"
      ]
    },
    {
      "cell_type": "markdown",
      "source": [
        "Créer une matrice qui stock les différents models d'IF correspondant aux différents clusters"
      ],
      "metadata": {
        "id": "E_7I5UIicZbR"
      }
    },
    {
      "cell_type": "code",
      "source": [
        "def train_if (dataset):\n",
        "  models=[[] for _ in range(len(dataset))]\n",
        "  for i in range(len(dataset)):\n",
        "    for n in range(len(dataset[i])):\n",
        "      if_model=IsolationForest(n_jobs=-1, random_state=42)\n",
        "      models[i].append(if_model.fit(dataset[i][n]))\n",
        "  return models"
      ],
      "metadata": {
        "id": "HuBZOclLXARE"
      },
      "execution_count": 48,
      "outputs": []
    },
    {
      "cell_type": "markdown",
      "source": [
        "Appliquer IF sur les clusters de Km"
      ],
      "metadata": {
        "id": "ifZKXEnNYpht"
      }
    },
    {
      "cell_type": "code",
      "source": [
        "models = train_if(dataset_encoded_km)"
      ],
      "metadata": {
        "id": "yFxr0_mnaVt1"
      },
      "execution_count": 49,
      "outputs": []
    },
    {
      "cell_type": "markdown",
      "source": [
        "Appliquer IF sur les clusters de SOM"
      ],
      "metadata": {
        "id": "IY1sEIZuY4la"
      }
    },
    {
      "cell_type": "code",
      "source": [
        "models_som = train_if(dataset_encoded_som)"
      ],
      "metadata": {
        "id": "WpYBxyUfb80q"
      },
      "execution_count": 50,
      "outputs": []
    },
    {
      "cell_type": "code",
      "source": [
        "from sklearn.externals import joblib\n",
        "from google.colab import files\n",
        "\n",
        "#you can save variable into file on colab files\n",
        "\n",
        "joblib.dump(models,  'models_if_km.pkl')   \n",
        " \n",
        "#this will download file to your local downloads\n",
        "\n",
        "files.download('models_if_km.pkl')       \n",
        "\n",
        "#reload your saved data.\n",
        "\n",
        "#var = joblib.load('var.pkl')    "
      ],
      "metadata": {
        "id": "g1afrI0-eVve"
      },
      "execution_count": null,
      "outputs": []
    },
    {
      "cell_type": "markdown",
      "source": [
        "Prédictions pour les différents modèles"
      ],
      "metadata": {
        "id": "VIxce-wMySxp"
      }
    },
    {
      "cell_type": "code",
      "source": [
        "def pred(dataset,model):\n",
        "  preds=[[] for _ in range(len(dataset))]\n",
        "  for i in range(len(dataset)):\n",
        "    for n in range(len(dataset[i])):\n",
        "      preds[i].append(model[i][n].predict(dataset[i][n]))\n",
        "  return preds"
      ],
      "metadata": {
        "id": "e2X74fsfdO6c"
      },
      "execution_count": 53,
      "outputs": []
    },
    {
      "cell_type": "code",
      "source": [
        "pred_km= pred(dataset_encoded_km, models)"
      ],
      "metadata": {
        "id": "-M8CAVVCe-3y"
      },
      "execution_count": 54,
      "outputs": []
    },
    {
      "cell_type": "code",
      "source": [
        "pred_som= pred(dataset_encoded_som, models_som)"
      ],
      "metadata": {
        "id": "oZ0KDyX8g0Yb"
      },
      "execution_count": 57,
      "outputs": []
    },
    {
      "cell_type": "code",
      "execution_count": 71,
      "metadata": {
        "id": "RDImXxsAhFbb",
        "colab": {
          "base_uri": "https://localhost:8080/"
        },
        "outputId": "6ce36e36-e1f4-4e88-f566-94d4db25947a"
      },
      "outputs": [
        {
          "output_type": "execute_result",
          "data": {
            "text/plain": [
              "array([1, 1, 1, ..., 1, 1, 1])"
            ]
          },
          "metadata": {},
          "execution_count": 71
        }
      ],
      "source": [
        "pred_km[1][99]"
      ]
    },
    {
      "cell_type": "code",
      "source": [
        "def add_pred_to_df(dataset,pred):\n",
        "  for i in range(len(pred)):\n",
        "    for n in range(len(pred[i])):\n",
        "      dataset[i][n]['pred']= pred[i][n]"
      ],
      "metadata": {
        "id": "RSQqOdm-hEHq"
      },
      "execution_count": 62,
      "outputs": []
    },
    {
      "cell_type": "code",
      "source": [
        "add_pred_to_df(data_km, pred_km)"
      ],
      "metadata": {
        "id": "u8CyQ2XViEKS"
      },
      "execution_count": 63,
      "outputs": []
    },
    {
      "cell_type": "code",
      "source": [
        "add_pred_to_df(data_som, pred_som)"
      ],
      "metadata": {
        "id": "r1O0IRswiT-L"
      },
      "execution_count": 65,
      "outputs": []
    },
    {
      "cell_type": "code",
      "source": [
        "data_km[0][24]"
      ],
      "metadata": {
        "colab": {
          "base_uri": "https://localhost:8080/",
          "height": 424
        },
        "id": "vYVNV26C0Jwe",
        "outputId": "a81cc3ab-ae28-4731-fb41-b1d1c4a536d5"
      },
      "execution_count": 64,
      "outputs": [
        {
          "output_type": "execute_result",
          "data": {
            "text/plain": [
              "                                                  tweet  \\\n",
              "0                            cette journée m’a épuisé\\n   \n",
              "1      https://t.co/uys4y8Zt1W Très bonne analyse!...\\n   \n",
              "2                    Bonne chance !Et bonne journée !\\n   \n",
              "3     Suis-je la bonne personne vu que je m'aime ? h...   \n",
              "4               Bonne journée https://t.co/GCHxxvuFuZ\\n   \n",
              "...                                                 ...   \n",
              "3262                                  bonne journée ♡\\n   \n",
              "3263                                Bonne route à toi\\n   \n",
              "3264                     La journée est refaite merci\\n   \n",
              "3265                         Bonne journée Roxane 😊😘😘\\n   \n",
              "3266  Salam Aleykum passez une bonne journée sous la...   \n",
              "\n",
              "                                              clean_twt  pred  \n",
              "0                                    journée m’épuisé\\n     1  \n",
              "1                                  bonne analyse! ...\\n     1  \n",
              "2                        bonne chance! bonne journée!\\n     1  \n",
              "3                                   -je bonne m'aime?\\n     1  \n",
              "4                                       bonne journée\\n     1  \n",
              "...                                                 ...   ...  \n",
              "3262                                    bonne journée\\n     1  \n",
              "3263                                      bonne route\\n     1  \n",
              "3264                                  journée refaite\\n     1  \n",
              "3265                             bonne journée roxane\\n     1  \n",
              "3266  salam aleykum passez bonne journée protection ...     1  \n",
              "\n",
              "[3267 rows x 3 columns]"
            ],
            "text/html": [
              "\n",
              "  <div id=\"df-c4f2fa36-b4f7-45ec-9272-a00d32f374c7\">\n",
              "    <div class=\"colab-df-container\">\n",
              "      <div>\n",
              "<style scoped>\n",
              "    .dataframe tbody tr th:only-of-type {\n",
              "        vertical-align: middle;\n",
              "    }\n",
              "\n",
              "    .dataframe tbody tr th {\n",
              "        vertical-align: top;\n",
              "    }\n",
              "\n",
              "    .dataframe thead th {\n",
              "        text-align: right;\n",
              "    }\n",
              "</style>\n",
              "<table border=\"1\" class=\"dataframe\">\n",
              "  <thead>\n",
              "    <tr style=\"text-align: right;\">\n",
              "      <th></th>\n",
              "      <th>tweet</th>\n",
              "      <th>clean_twt</th>\n",
              "      <th>pred</th>\n",
              "    </tr>\n",
              "  </thead>\n",
              "  <tbody>\n",
              "    <tr>\n",
              "      <th>0</th>\n",
              "      <td>cette journée m’a épuisé\\n</td>\n",
              "      <td>journée m’épuisé\\n</td>\n",
              "      <td>1</td>\n",
              "    </tr>\n",
              "    <tr>\n",
              "      <th>1</th>\n",
              "      <td>https://t.co/uys4y8Zt1W Très bonne analyse!...\\n</td>\n",
              "      <td>bonne analyse! ...\\n</td>\n",
              "      <td>1</td>\n",
              "    </tr>\n",
              "    <tr>\n",
              "      <th>2</th>\n",
              "      <td>Bonne chance !Et bonne journée !\\n</td>\n",
              "      <td>bonne chance! bonne journée!\\n</td>\n",
              "      <td>1</td>\n",
              "    </tr>\n",
              "    <tr>\n",
              "      <th>3</th>\n",
              "      <td>Suis-je la bonne personne vu que je m'aime ? h...</td>\n",
              "      <td>-je bonne m'aime?\\n</td>\n",
              "      <td>1</td>\n",
              "    </tr>\n",
              "    <tr>\n",
              "      <th>4</th>\n",
              "      <td>Bonne journée https://t.co/GCHxxvuFuZ\\n</td>\n",
              "      <td>bonne journée\\n</td>\n",
              "      <td>1</td>\n",
              "    </tr>\n",
              "    <tr>\n",
              "      <th>...</th>\n",
              "      <td>...</td>\n",
              "      <td>...</td>\n",
              "      <td>...</td>\n",
              "    </tr>\n",
              "    <tr>\n",
              "      <th>3262</th>\n",
              "      <td>bonne journée ♡\\n</td>\n",
              "      <td>bonne journée\\n</td>\n",
              "      <td>1</td>\n",
              "    </tr>\n",
              "    <tr>\n",
              "      <th>3263</th>\n",
              "      <td>Bonne route à toi\\n</td>\n",
              "      <td>bonne route\\n</td>\n",
              "      <td>1</td>\n",
              "    </tr>\n",
              "    <tr>\n",
              "      <th>3264</th>\n",
              "      <td>La journée est refaite merci\\n</td>\n",
              "      <td>journée refaite\\n</td>\n",
              "      <td>1</td>\n",
              "    </tr>\n",
              "    <tr>\n",
              "      <th>3265</th>\n",
              "      <td>Bonne journée Roxane 😊😘😘\\n</td>\n",
              "      <td>bonne journée roxane\\n</td>\n",
              "      <td>1</td>\n",
              "    </tr>\n",
              "    <tr>\n",
              "      <th>3266</th>\n",
              "      <td>Salam Aleykum passez une bonne journée sous la...</td>\n",
              "      <td>salam aleykum passez bonne journée protection ...</td>\n",
              "      <td>1</td>\n",
              "    </tr>\n",
              "  </tbody>\n",
              "</table>\n",
              "<p>3267 rows × 3 columns</p>\n",
              "</div>\n",
              "      <button class=\"colab-df-convert\" onclick=\"convertToInteractive('df-c4f2fa36-b4f7-45ec-9272-a00d32f374c7')\"\n",
              "              title=\"Convert this dataframe to an interactive table.\"\n",
              "              style=\"display:none;\">\n",
              "        \n",
              "  <svg xmlns=\"http://www.w3.org/2000/svg\" height=\"24px\"viewBox=\"0 0 24 24\"\n",
              "       width=\"24px\">\n",
              "    <path d=\"M0 0h24v24H0V0z\" fill=\"none\"/>\n",
              "    <path d=\"M18.56 5.44l.94 2.06.94-2.06 2.06-.94-2.06-.94-.94-2.06-.94 2.06-2.06.94zm-11 1L8.5 8.5l.94-2.06 2.06-.94-2.06-.94L8.5 2.5l-.94 2.06-2.06.94zm10 10l.94 2.06.94-2.06 2.06-.94-2.06-.94-.94-2.06-.94 2.06-2.06.94z\"/><path d=\"M17.41 7.96l-1.37-1.37c-.4-.4-.92-.59-1.43-.59-.52 0-1.04.2-1.43.59L10.3 9.45l-7.72 7.72c-.78.78-.78 2.05 0 2.83L4 21.41c.39.39.9.59 1.41.59.51 0 1.02-.2 1.41-.59l7.78-7.78 2.81-2.81c.8-.78.8-2.07 0-2.86zM5.41 20L4 18.59l7.72-7.72 1.47 1.35L5.41 20z\"/>\n",
              "  </svg>\n",
              "      </button>\n",
              "      \n",
              "  <style>\n",
              "    .colab-df-container {\n",
              "      display:flex;\n",
              "      flex-wrap:wrap;\n",
              "      gap: 12px;\n",
              "    }\n",
              "\n",
              "    .colab-df-convert {\n",
              "      background-color: #E8F0FE;\n",
              "      border: none;\n",
              "      border-radius: 50%;\n",
              "      cursor: pointer;\n",
              "      display: none;\n",
              "      fill: #1967D2;\n",
              "      height: 32px;\n",
              "      padding: 0 0 0 0;\n",
              "      width: 32px;\n",
              "    }\n",
              "\n",
              "    .colab-df-convert:hover {\n",
              "      background-color: #E2EBFA;\n",
              "      box-shadow: 0px 1px 2px rgba(60, 64, 67, 0.3), 0px 1px 3px 1px rgba(60, 64, 67, 0.15);\n",
              "      fill: #174EA6;\n",
              "    }\n",
              "\n",
              "    [theme=dark] .colab-df-convert {\n",
              "      background-color: #3B4455;\n",
              "      fill: #D2E3FC;\n",
              "    }\n",
              "\n",
              "    [theme=dark] .colab-df-convert:hover {\n",
              "      background-color: #434B5C;\n",
              "      box-shadow: 0px 1px 3px 1px rgba(0, 0, 0, 0.15);\n",
              "      filter: drop-shadow(0px 1px 2px rgba(0, 0, 0, 0.3));\n",
              "      fill: #FFFFFF;\n",
              "    }\n",
              "  </style>\n",
              "\n",
              "      <script>\n",
              "        const buttonEl =\n",
              "          document.querySelector('#df-c4f2fa36-b4f7-45ec-9272-a00d32f374c7 button.colab-df-convert');\n",
              "        buttonEl.style.display =\n",
              "          google.colab.kernel.accessAllowed ? 'block' : 'none';\n",
              "\n",
              "        async function convertToInteractive(key) {\n",
              "          const element = document.querySelector('#df-c4f2fa36-b4f7-45ec-9272-a00d32f374c7');\n",
              "          const dataTable =\n",
              "            await google.colab.kernel.invokeFunction('convertToInteractive',\n",
              "                                                     [key], {});\n",
              "          if (!dataTable) return;\n",
              "\n",
              "          const docLinkHtml = 'Like what you see? Visit the ' +\n",
              "            '<a target=\"_blank\" href=https://colab.research.google.com/notebooks/data_table.ipynb>data table notebook</a>'\n",
              "            + ' to learn more about interactive tables.';\n",
              "          element.innerHTML = '';\n",
              "          dataTable['output_type'] = 'display_data';\n",
              "          await google.colab.output.renderOutput(dataTable, element);\n",
              "          const docLink = document.createElement('div');\n",
              "          docLink.innerHTML = docLinkHtml;\n",
              "          element.appendChild(docLink);\n",
              "        }\n",
              "      </script>\n",
              "    </div>\n",
              "  </div>\n",
              "  "
            ]
          },
          "metadata": {},
          "execution_count": 64
        }
      ]
    },
    {
      "cell_type": "code",
      "source": [
        "data_km[2][3]"
      ],
      "metadata": {
        "colab": {
          "base_uri": "https://localhost:8080/",
          "height": 424
        },
        "id": "cpRZOYICjCQ6",
        "outputId": "6e4b84af-d444-4f97-b720-bd790adfb223"
      },
      "execution_count": 86,
      "outputs": [
        {
          "output_type": "execute_result",
          "data": {
            "text/plain": [
              "                                                  tweet  \\\n",
              "0                                         mds ele 😭😭😭\\n   \n",
              "1                                   QUE DOR MDS 😭😭😭😭😭\\n   \n",
              "2     mds q agoniante esperar vai logo mds vou infar...   \n",
              "3                                        Mds que amor\\n   \n",
              "4                o george mds https://t.co/mgJdDQNIqM\\n   \n",
              "...                                                 ...   \n",
              "3169                                     Mds, denovo?\\n   \n",
              "3170                                    mds amiga que\\n   \n",
              "3171                             Mds eu to gordaaaa 😥\\n   \n",
              "3172                                     KKKKKKKK MDS\\n   \n",
              "3173                             Ai mds Deus me livre\\n   \n",
              "\n",
              "                                              clean_twt  pred  \n",
              "0                                             mds ele\\n     1  \n",
              "1                                             dor mds\\n     1  \n",
              "2     mds agoniante esperar vai logo mds vou infartar\\n     1  \n",
              "3                                            mds amor\\n     1  \n",
              "4                                          george mds\\n     1  \n",
              "...                                                 ...   ...  \n",
              "3169                                     mds, denovo?\\n     1  \n",
              "3170                                        mds amiga\\n     1  \n",
              "3171                                  mds to gordaaaa\\n    -1  \n",
              "3172                                     kkkkkkkk mds\\n     1  \n",
              "3173                                   mds deus livre\\n    -1  \n",
              "\n",
              "[3174 rows x 3 columns]"
            ],
            "text/html": [
              "\n",
              "  <div id=\"df-42c9b33e-f25a-45d0-b9af-3e5c98b63231\">\n",
              "    <div class=\"colab-df-container\">\n",
              "      <div>\n",
              "<style scoped>\n",
              "    .dataframe tbody tr th:only-of-type {\n",
              "        vertical-align: middle;\n",
              "    }\n",
              "\n",
              "    .dataframe tbody tr th {\n",
              "        vertical-align: top;\n",
              "    }\n",
              "\n",
              "    .dataframe thead th {\n",
              "        text-align: right;\n",
              "    }\n",
              "</style>\n",
              "<table border=\"1\" class=\"dataframe\">\n",
              "  <thead>\n",
              "    <tr style=\"text-align: right;\">\n",
              "      <th></th>\n",
              "      <th>tweet</th>\n",
              "      <th>clean_twt</th>\n",
              "      <th>pred</th>\n",
              "    </tr>\n",
              "  </thead>\n",
              "  <tbody>\n",
              "    <tr>\n",
              "      <th>0</th>\n",
              "      <td>mds ele 😭😭😭\\n</td>\n",
              "      <td>mds ele\\n</td>\n",
              "      <td>1</td>\n",
              "    </tr>\n",
              "    <tr>\n",
              "      <th>1</th>\n",
              "      <td>QUE DOR MDS 😭😭😭😭😭\\n</td>\n",
              "      <td>dor mds\\n</td>\n",
              "      <td>1</td>\n",
              "    </tr>\n",
              "    <tr>\n",
              "      <th>2</th>\n",
              "      <td>mds q agoniante esperar vai logo mds vou infar...</td>\n",
              "      <td>mds agoniante esperar vai logo mds vou infartar\\n</td>\n",
              "      <td>1</td>\n",
              "    </tr>\n",
              "    <tr>\n",
              "      <th>3</th>\n",
              "      <td>Mds que amor\\n</td>\n",
              "      <td>mds amor\\n</td>\n",
              "      <td>1</td>\n",
              "    </tr>\n",
              "    <tr>\n",
              "      <th>4</th>\n",
              "      <td>o george mds https://t.co/mgJdDQNIqM\\n</td>\n",
              "      <td>george mds\\n</td>\n",
              "      <td>1</td>\n",
              "    </tr>\n",
              "    <tr>\n",
              "      <th>...</th>\n",
              "      <td>...</td>\n",
              "      <td>...</td>\n",
              "      <td>...</td>\n",
              "    </tr>\n",
              "    <tr>\n",
              "      <th>3169</th>\n",
              "      <td>Mds, denovo?\\n</td>\n",
              "      <td>mds, denovo?\\n</td>\n",
              "      <td>1</td>\n",
              "    </tr>\n",
              "    <tr>\n",
              "      <th>3170</th>\n",
              "      <td>mds amiga que\\n</td>\n",
              "      <td>mds amiga\\n</td>\n",
              "      <td>1</td>\n",
              "    </tr>\n",
              "    <tr>\n",
              "      <th>3171</th>\n",
              "      <td>Mds eu to gordaaaa 😥\\n</td>\n",
              "      <td>mds to gordaaaa\\n</td>\n",
              "      <td>-1</td>\n",
              "    </tr>\n",
              "    <tr>\n",
              "      <th>3172</th>\n",
              "      <td>KKKKKKKK MDS\\n</td>\n",
              "      <td>kkkkkkkk mds\\n</td>\n",
              "      <td>1</td>\n",
              "    </tr>\n",
              "    <tr>\n",
              "      <th>3173</th>\n",
              "      <td>Ai mds Deus me livre\\n</td>\n",
              "      <td>mds deus livre\\n</td>\n",
              "      <td>-1</td>\n",
              "    </tr>\n",
              "  </tbody>\n",
              "</table>\n",
              "<p>3174 rows × 3 columns</p>\n",
              "</div>\n",
              "      <button class=\"colab-df-convert\" onclick=\"convertToInteractive('df-42c9b33e-f25a-45d0-b9af-3e5c98b63231')\"\n",
              "              title=\"Convert this dataframe to an interactive table.\"\n",
              "              style=\"display:none;\">\n",
              "        \n",
              "  <svg xmlns=\"http://www.w3.org/2000/svg\" height=\"24px\"viewBox=\"0 0 24 24\"\n",
              "       width=\"24px\">\n",
              "    <path d=\"M0 0h24v24H0V0z\" fill=\"none\"/>\n",
              "    <path d=\"M18.56 5.44l.94 2.06.94-2.06 2.06-.94-2.06-.94-.94-2.06-.94 2.06-2.06.94zm-11 1L8.5 8.5l.94-2.06 2.06-.94-2.06-.94L8.5 2.5l-.94 2.06-2.06.94zm10 10l.94 2.06.94-2.06 2.06-.94-2.06-.94-.94-2.06-.94 2.06-2.06.94z\"/><path d=\"M17.41 7.96l-1.37-1.37c-.4-.4-.92-.59-1.43-.59-.52 0-1.04.2-1.43.59L10.3 9.45l-7.72 7.72c-.78.78-.78 2.05 0 2.83L4 21.41c.39.39.9.59 1.41.59.51 0 1.02-.2 1.41-.59l7.78-7.78 2.81-2.81c.8-.78.8-2.07 0-2.86zM5.41 20L4 18.59l7.72-7.72 1.47 1.35L5.41 20z\"/>\n",
              "  </svg>\n",
              "      </button>\n",
              "      \n",
              "  <style>\n",
              "    .colab-df-container {\n",
              "      display:flex;\n",
              "      flex-wrap:wrap;\n",
              "      gap: 12px;\n",
              "    }\n",
              "\n",
              "    .colab-df-convert {\n",
              "      background-color: #E8F0FE;\n",
              "      border: none;\n",
              "      border-radius: 50%;\n",
              "      cursor: pointer;\n",
              "      display: none;\n",
              "      fill: #1967D2;\n",
              "      height: 32px;\n",
              "      padding: 0 0 0 0;\n",
              "      width: 32px;\n",
              "    }\n",
              "\n",
              "    .colab-df-convert:hover {\n",
              "      background-color: #E2EBFA;\n",
              "      box-shadow: 0px 1px 2px rgba(60, 64, 67, 0.3), 0px 1px 3px 1px rgba(60, 64, 67, 0.15);\n",
              "      fill: #174EA6;\n",
              "    }\n",
              "\n",
              "    [theme=dark] .colab-df-convert {\n",
              "      background-color: #3B4455;\n",
              "      fill: #D2E3FC;\n",
              "    }\n",
              "\n",
              "    [theme=dark] .colab-df-convert:hover {\n",
              "      background-color: #434B5C;\n",
              "      box-shadow: 0px 1px 3px 1px rgba(0, 0, 0, 0.15);\n",
              "      filter: drop-shadow(0px 1px 2px rgba(0, 0, 0, 0.3));\n",
              "      fill: #FFFFFF;\n",
              "    }\n",
              "  </style>\n",
              "\n",
              "      <script>\n",
              "        const buttonEl =\n",
              "          document.querySelector('#df-42c9b33e-f25a-45d0-b9af-3e5c98b63231 button.colab-df-convert');\n",
              "        buttonEl.style.display =\n",
              "          google.colab.kernel.accessAllowed ? 'block' : 'none';\n",
              "\n",
              "        async function convertToInteractive(key) {\n",
              "          const element = document.querySelector('#df-42c9b33e-f25a-45d0-b9af-3e5c98b63231');\n",
              "          const dataTable =\n",
              "            await google.colab.kernel.invokeFunction('convertToInteractive',\n",
              "                                                     [key], {});\n",
              "          if (!dataTable) return;\n",
              "\n",
              "          const docLinkHtml = 'Like what you see? Visit the ' +\n",
              "            '<a target=\"_blank\" href=https://colab.research.google.com/notebooks/data_table.ipynb>data table notebook</a>'\n",
              "            + ' to learn more about interactive tables.';\n",
              "          element.innerHTML = '';\n",
              "          dataTable['output_type'] = 'display_data';\n",
              "          await google.colab.output.renderOutput(dataTable, element);\n",
              "          const docLink = document.createElement('div');\n",
              "          docLink.innerHTML = docLinkHtml;\n",
              "          element.appendChild(docLink);\n",
              "        }\n",
              "      </script>\n",
              "    </div>\n",
              "  </div>\n",
              "  "
            ]
          },
          "metadata": {},
          "execution_count": 86
        }
      ]
    },
    {
      "cell_type": "code",
      "source": [
        "# Trouver les outliers de chaque cluster\n",
        "# ceux dont l'index est -1\n",
        "def outliers(df):\n",
        "  outliers=[]\n",
        "  for i in range(len(df)):\n",
        "    outliers.append(df[i]['tweet'].loc[df[i]['pred']==-1])\n",
        "    outlier_index=list(outliers[i].index)\n",
        "    print(\"cluster\"+str(i)+\":\"+\"\\n\")\n",
        "    print(df[i]['pred'].value_counts())\n",
        "    print(\"\\n\")\n",
        "  return outliers"
      ],
      "metadata": {
        "id": "pf6ZCC9jm0jW"
      },
      "execution_count": 93,
      "outputs": []
    },
    {
      "cell_type": "code",
      "source": [
        "outliers_km_25 = outliers(data_km[0])"
      ],
      "metadata": {
        "id": "IqxCSz_dn-tK"
      },
      "execution_count": null,
      "outputs": []
    },
    {
      "cell_type": "code",
      "source": [
        "outliers_km_50 = outliers(data_km[2])"
      ],
      "metadata": {
        "id": "IRVslfFX1_x3"
      },
      "execution_count": null,
      "outputs": []
    },
    {
      "cell_type": "code",
      "source": [
        "outliers_km_100 = outliers(data_km[1])"
      ],
      "metadata": {
        "id": "jXBeBPGJ2IME"
      },
      "execution_count": null,
      "outputs": []
    },
    {
      "cell_type": "code",
      "source": [
        "outliers_som_100 = outliers(data_som[0])"
      ],
      "metadata": {
        "id": "AuBhkXj8kYld"
      },
      "execution_count": null,
      "outputs": []
    },
    {
      "cell_type": "code",
      "source": [
        "outliers_som_400 = outliers(data_som[1])"
      ],
      "metadata": {
        "id": "UVDcVp_Kk6Bg"
      },
      "execution_count": null,
      "outputs": []
    },
    {
      "cell_type": "code",
      "source": [
        "outliers_som_225 = outliers(data_som[2])"
      ],
      "metadata": {
        "id": "Rx4gQ5ALlU51"
      },
      "execution_count": null,
      "outputs": []
    },
    {
      "cell_type": "code",
      "execution_count": 107,
      "metadata": {
        "id": "MjIFW46YAzB5"
      },
      "outputs": [],
      "source": [
        "def save_outliers(outliers,string):\n",
        "  for i in range(len(outliers)):\n",
        "    with open(f\"drive/MyDrive/minstp/\"+string+f\"/outliers{i}\", 'w') as f:\n",
        "      for line in outliers[i]:\n",
        "        f.write(line)"
      ]
    },
    {
      "cell_type": "code",
      "source": [
        "save_outliers(outliers_km_25,\"km25\")"
      ],
      "metadata": {
        "id": "c9jtaqUu2t3q"
      },
      "execution_count": 108,
      "outputs": []
    },
    {
      "cell_type": "code",
      "source": [
        "save_outliers(outliers_km_50,\"km50\")"
      ],
      "metadata": {
        "id": "Wl_9U10R5ItR"
      },
      "execution_count": 109,
      "outputs": []
    },
    {
      "cell_type": "code",
      "source": [
        "save_outliers(outliers_km_100,\"km100\")"
      ],
      "metadata": {
        "id": "L1X3Vwow5JZz"
      },
      "execution_count": 110,
      "outputs": []
    },
    {
      "cell_type": "code",
      "source": [
        "save_outliers(outliers_som_100,\"som100\")"
      ],
      "metadata": {
        "id": "Skc-nuLBnY4a"
      },
      "execution_count": 111,
      "outputs": []
    },
    {
      "cell_type": "code",
      "source": [
        "save_outliers(outliers_som_400,\"som400\")"
      ],
      "metadata": {
        "id": "_8E1fb2QnYtx"
      },
      "execution_count": 112,
      "outputs": []
    },
    {
      "cell_type": "code",
      "source": [
        "save_outliers(outliers_som_100,\"som100\")"
      ],
      "metadata": {
        "id": "JBjqCImQnYgt"
      },
      "execution_count": 113,
      "outputs": []
    }
  ],
  "metadata": {
    "colab": {
      "name": "IF_cluster_minstp.ipynb",
      "provenance": []
    },
    "kernelspec": {
      "display_name": "Python 3",
      "name": "python3"
    },
    "language_info": {
      "name": "python"
    }
  },
  "nbformat": 4,
  "nbformat_minor": 0
}