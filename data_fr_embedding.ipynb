{
  "nbformat": 4,
  "nbformat_minor": 0,
  "metadata": {
    "colab": {
      "name": "data_fr_embedding.ipynb",
      "provenance": [],
      "authorship_tag": "ABX9TyNdMH7DkLevOQfaz/kuoXBx"
    },
    "kernelspec": {
      "name": "python3",
      "display_name": "Python 3"
    },
    "language_info": {
      "name": "python"
    }
  },
  "cells": [
    {
      "cell_type": "code",
      "execution_count": 1,
      "metadata": {
        "id": "sBAVaH1UBHXv"
      },
      "outputs": [],
      "source": [
        "import pandas as pd\n",
        "import glob"
      ]
    },
    {
      "cell_type": "code",
      "source": [
        "from google.colab import drive\n",
        "drive.mount('/content/drive')"
      ],
      "metadata": {
        "colab": {
          "base_uri": "https://localhost:8080/"
        },
        "id": "eJZ6V8NGBI7B",
        "outputId": "29cddc7e-5979-4a34-c05b-2202db9bd73f"
      },
      "execution_count": 2,
      "outputs": [
        {
          "output_type": "stream",
          "name": "stdout",
          "text": [
            "Mounted at /content/drive\n"
          ]
        }
      ]
    },
    {
      "cell_type": "code",
      "source": [
        "path_files = r\"/content/drive/MyDrive/Data_M/\""
      ],
      "metadata": {
        "id": "5bK_XzqVBb36"
      },
      "execution_count": 3,
      "outputs": []
    },
    {
      "cell_type": "code",
      "execution_count": 4,
      "metadata": {
        "id": "ooERHaMT9_zv"
      },
      "outputs": [],
      "source": [
        "data_hate = pd.read_pickle(f\"{path_files}dataset_fr/data_hate.pkl\")"
      ]
    },
    {
      "cell_type": "code",
      "execution_count": 5,
      "metadata": {
        "id": "XeKVcJyqwMt0",
        "colab": {
          "base_uri": "https://localhost:8080/",
          "height": 407
        },
        "outputId": "0e033ad8-21a3-4c7d-c4fe-87a82a37f83c"
      },
      "outputs": [
        {
          "output_type": "execute_result",
          "data": {
            "text/plain": [
              "   HITId                                              tweet  sentiment  \\\n",
              "0      1  rt @user personnage ainsi q tte la clique gauc...          1   \n",
              "1      2  @user @user @user bah oui t'as raison l'autre ...          1   \n",
              "2      3  moi j'ai personne à qui m'adresser pour réclam...          1   \n",
              "3      4  @user @user c...est vrai que les anchois sont ...          0   \n",
              "4      5            eh les renois faut se réveiller la @url          0   \n",
              "5      6  @user @user en algerie les migrants sont expul...          1   \n",
              "6      7       @user sjw et féministe twitter un sale combo          0   \n",
              "7      8  @user @user tu sais aussi pourquoi est au dess...          0   \n",
              "8      9  @user @user mytho t'as juste voulu te faire ke...          1   \n",
              "9     10  c’est un giga attardé mdrrr ils va vraiment se...          1   \n",
              "\n",
              "   text length                                    clean_tweet_min  \\\n",
              "0          128  personnage ainsi q tte la clique gauchiste deg...   \n",
              "1           62       bah oui t'as raison l'autre c'est un mongol.   \n",
              "2          120  moi j'ai personne à qui m'adresser pour réclam...   \n",
              "3          102  c ... est vrai que les anchois sont aller sur ...   \n",
              "4           39                 eh les renois faut se réveiller la   \n",
              "5          112  en algerie les migrants sont expulsés dans le ...   \n",
              "6           44             sjw et féministe twitter un sale combo   \n",
              "7          101  tu sais aussi pourquoi est au dessus? parce qu...   \n",
              "8          105  mytho t'as juste voulu te faire ken par les re...   \n",
              "9           64  c’est un giga attardé mdrrr ils va vraiment se...   \n",
              "\n",
              "                                     clean_tweet_std  \\\n",
              "0  personnag tte cliqu gauchist deguis 1 macron!!...   \n",
              "1                                     raison mongol.   \n",
              "2  m'adress réclam. voisin attard pu brui adminis...   \n",
              "3  ... vrai anchois aller lun invent million tech...   \n",
              "4                                 renois faut réveil   \n",
              "5      alger migr expuls désert crois bien qu'vision   \n",
              "6                          sjw fémin twitt sal combo   \n",
              "7                            sais? veut ya d'ani ...   \n",
              "8           mytho voulu fair ken renois lyc voulu to   \n",
              "9                     gig attard mdrrr va fair shoot   \n",
              "\n",
              "                                     clean_tweet_lem  \n",
              "0  personnage tout cliqu gauchiste deguise 1 macr...  \n",
              "1                                     raison mongol.  \n",
              "2  me adresser réclamer. voisin attarder puant br...  \n",
              "3  ... vrai anchois aller lune invent million tec...  \n",
              "4                           renois falloir réveiller  \n",
              "5  algerie migrant expulser désert croi bien que ...  \n",
              "6                   sjw féministe twitter sale combo  \n",
              "7                         sai? vouloir ya de ani ...  \n",
              "8    mytho vouloir faire ken renois lycer vouloir to  \n",
              "9       giga-octet attarder mdrrr aller faire shoote  "
            ],
            "text/html": [
              "\n",
              "  <div id=\"df-b78a00a0-4422-40b4-b3d0-b712a814998f\">\n",
              "    <div class=\"colab-df-container\">\n",
              "      <div>\n",
              "<style scoped>\n",
              "    .dataframe tbody tr th:only-of-type {\n",
              "        vertical-align: middle;\n",
              "    }\n",
              "\n",
              "    .dataframe tbody tr th {\n",
              "        vertical-align: top;\n",
              "    }\n",
              "\n",
              "    .dataframe thead th {\n",
              "        text-align: right;\n",
              "    }\n",
              "</style>\n",
              "<table border=\"1\" class=\"dataframe\">\n",
              "  <thead>\n",
              "    <tr style=\"text-align: right;\">\n",
              "      <th></th>\n",
              "      <th>HITId</th>\n",
              "      <th>tweet</th>\n",
              "      <th>sentiment</th>\n",
              "      <th>text length</th>\n",
              "      <th>clean_tweet_min</th>\n",
              "      <th>clean_tweet_std</th>\n",
              "      <th>clean_tweet_lem</th>\n",
              "    </tr>\n",
              "  </thead>\n",
              "  <tbody>\n",
              "    <tr>\n",
              "      <th>0</th>\n",
              "      <td>1</td>\n",
              "      <td>rt @user personnage ainsi q tte la clique gauc...</td>\n",
              "      <td>1</td>\n",
              "      <td>128</td>\n",
              "      <td>personnage ainsi q tte la clique gauchiste deg...</td>\n",
              "      <td>personnag tte cliqu gauchist deguis 1 macron!!...</td>\n",
              "      <td>personnage tout cliqu gauchiste deguise 1 macr...</td>\n",
              "    </tr>\n",
              "    <tr>\n",
              "      <th>1</th>\n",
              "      <td>2</td>\n",
              "      <td>@user @user @user bah oui t'as raison l'autre ...</td>\n",
              "      <td>1</td>\n",
              "      <td>62</td>\n",
              "      <td>bah oui t'as raison l'autre c'est un mongol.</td>\n",
              "      <td>raison mongol.</td>\n",
              "      <td>raison mongol.</td>\n",
              "    </tr>\n",
              "    <tr>\n",
              "      <th>2</th>\n",
              "      <td>3</td>\n",
              "      <td>moi j'ai personne à qui m'adresser pour réclam...</td>\n",
              "      <td>1</td>\n",
              "      <td>120</td>\n",
              "      <td>moi j'ai personne à qui m'adresser pour réclam...</td>\n",
              "      <td>m'adress réclam. voisin attard pu brui adminis...</td>\n",
              "      <td>me adresser réclamer. voisin attarder puant br...</td>\n",
              "    </tr>\n",
              "    <tr>\n",
              "      <th>3</th>\n",
              "      <td>4</td>\n",
              "      <td>@user @user c...est vrai que les anchois sont ...</td>\n",
              "      <td>0</td>\n",
              "      <td>102</td>\n",
              "      <td>c ... est vrai que les anchois sont aller sur ...</td>\n",
              "      <td>... vrai anchois aller lun invent million tech...</td>\n",
              "      <td>... vrai anchois aller lune invent million tec...</td>\n",
              "    </tr>\n",
              "    <tr>\n",
              "      <th>4</th>\n",
              "      <td>5</td>\n",
              "      <td>eh les renois faut se réveiller la @url</td>\n",
              "      <td>0</td>\n",
              "      <td>39</td>\n",
              "      <td>eh les renois faut se réveiller la</td>\n",
              "      <td>renois faut réveil</td>\n",
              "      <td>renois falloir réveiller</td>\n",
              "    </tr>\n",
              "    <tr>\n",
              "      <th>5</th>\n",
              "      <td>6</td>\n",
              "      <td>@user @user en algerie les migrants sont expul...</td>\n",
              "      <td>1</td>\n",
              "      <td>112</td>\n",
              "      <td>en algerie les migrants sont expulsés dans le ...</td>\n",
              "      <td>alger migr expuls désert crois bien qu'vision</td>\n",
              "      <td>algerie migrant expulser désert croi bien que ...</td>\n",
              "    </tr>\n",
              "    <tr>\n",
              "      <th>6</th>\n",
              "      <td>7</td>\n",
              "      <td>@user sjw et féministe twitter un sale combo</td>\n",
              "      <td>0</td>\n",
              "      <td>44</td>\n",
              "      <td>sjw et féministe twitter un sale combo</td>\n",
              "      <td>sjw fémin twitt sal combo</td>\n",
              "      <td>sjw féministe twitter sale combo</td>\n",
              "    </tr>\n",
              "    <tr>\n",
              "      <th>7</th>\n",
              "      <td>8</td>\n",
              "      <td>@user @user tu sais aussi pourquoi est au dess...</td>\n",
              "      <td>0</td>\n",
              "      <td>101</td>\n",
              "      <td>tu sais aussi pourquoi est au dessus? parce qu...</td>\n",
              "      <td>sais? veut ya d'ani ...</td>\n",
              "      <td>sai? vouloir ya de ani ...</td>\n",
              "    </tr>\n",
              "    <tr>\n",
              "      <th>8</th>\n",
              "      <td>9</td>\n",
              "      <td>@user @user mytho t'as juste voulu te faire ke...</td>\n",
              "      <td>1</td>\n",
              "      <td>105</td>\n",
              "      <td>mytho t'as juste voulu te faire ken par les re...</td>\n",
              "      <td>mytho voulu fair ken renois lyc voulu to</td>\n",
              "      <td>mytho vouloir faire ken renois lycer vouloir to</td>\n",
              "    </tr>\n",
              "    <tr>\n",
              "      <th>9</th>\n",
              "      <td>10</td>\n",
              "      <td>c’est un giga attardé mdrrr ils va vraiment se...</td>\n",
              "      <td>1</td>\n",
              "      <td>64</td>\n",
              "      <td>c’est un giga attardé mdrrr ils va vraiment se...</td>\n",
              "      <td>gig attard mdrrr va fair shoot</td>\n",
              "      <td>giga-octet attarder mdrrr aller faire shoote</td>\n",
              "    </tr>\n",
              "  </tbody>\n",
              "</table>\n",
              "</div>\n",
              "      <button class=\"colab-df-convert\" onclick=\"convertToInteractive('df-b78a00a0-4422-40b4-b3d0-b712a814998f')\"\n",
              "              title=\"Convert this dataframe to an interactive table.\"\n",
              "              style=\"display:none;\">\n",
              "        \n",
              "  <svg xmlns=\"http://www.w3.org/2000/svg\" height=\"24px\"viewBox=\"0 0 24 24\"\n",
              "       width=\"24px\">\n",
              "    <path d=\"M0 0h24v24H0V0z\" fill=\"none\"/>\n",
              "    <path d=\"M18.56 5.44l.94 2.06.94-2.06 2.06-.94-2.06-.94-.94-2.06-.94 2.06-2.06.94zm-11 1L8.5 8.5l.94-2.06 2.06-.94-2.06-.94L8.5 2.5l-.94 2.06-2.06.94zm10 10l.94 2.06.94-2.06 2.06-.94-2.06-.94-.94-2.06-.94 2.06-2.06.94z\"/><path d=\"M17.41 7.96l-1.37-1.37c-.4-.4-.92-.59-1.43-.59-.52 0-1.04.2-1.43.59L10.3 9.45l-7.72 7.72c-.78.78-.78 2.05 0 2.83L4 21.41c.39.39.9.59 1.41.59.51 0 1.02-.2 1.41-.59l7.78-7.78 2.81-2.81c.8-.78.8-2.07 0-2.86zM5.41 20L4 18.59l7.72-7.72 1.47 1.35L5.41 20z\"/>\n",
              "  </svg>\n",
              "      </button>\n",
              "      \n",
              "  <style>\n",
              "    .colab-df-container {\n",
              "      display:flex;\n",
              "      flex-wrap:wrap;\n",
              "      gap: 12px;\n",
              "    }\n",
              "\n",
              "    .colab-df-convert {\n",
              "      background-color: #E8F0FE;\n",
              "      border: none;\n",
              "      border-radius: 50%;\n",
              "      cursor: pointer;\n",
              "      display: none;\n",
              "      fill: #1967D2;\n",
              "      height: 32px;\n",
              "      padding: 0 0 0 0;\n",
              "      width: 32px;\n",
              "    }\n",
              "\n",
              "    .colab-df-convert:hover {\n",
              "      background-color: #E2EBFA;\n",
              "      box-shadow: 0px 1px 2px rgba(60, 64, 67, 0.3), 0px 1px 3px 1px rgba(60, 64, 67, 0.15);\n",
              "      fill: #174EA6;\n",
              "    }\n",
              "\n",
              "    [theme=dark] .colab-df-convert {\n",
              "      background-color: #3B4455;\n",
              "      fill: #D2E3FC;\n",
              "    }\n",
              "\n",
              "    [theme=dark] .colab-df-convert:hover {\n",
              "      background-color: #434B5C;\n",
              "      box-shadow: 0px 1px 3px 1px rgba(0, 0, 0, 0.15);\n",
              "      filter: drop-shadow(0px 1px 2px rgba(0, 0, 0, 0.3));\n",
              "      fill: #FFFFFF;\n",
              "    }\n",
              "  </style>\n",
              "\n",
              "      <script>\n",
              "        const buttonEl =\n",
              "          document.querySelector('#df-b78a00a0-4422-40b4-b3d0-b712a814998f button.colab-df-convert');\n",
              "        buttonEl.style.display =\n",
              "          google.colab.kernel.accessAllowed ? 'block' : 'none';\n",
              "\n",
              "        async function convertToInteractive(key) {\n",
              "          const element = document.querySelector('#df-b78a00a0-4422-40b4-b3d0-b712a814998f');\n",
              "          const dataTable =\n",
              "            await google.colab.kernel.invokeFunction('convertToInteractive',\n",
              "                                                     [key], {});\n",
              "          if (!dataTable) return;\n",
              "\n",
              "          const docLinkHtml = 'Like what you see? Visit the ' +\n",
              "            '<a target=\"_blank\" href=https://colab.research.google.com/notebooks/data_table.ipynb>data table notebook</a>'\n",
              "            + ' to learn more about interactive tables.';\n",
              "          element.innerHTML = '';\n",
              "          dataTable['output_type'] = 'display_data';\n",
              "          await google.colab.output.renderOutput(dataTable, element);\n",
              "          const docLink = document.createElement('div');\n",
              "          docLink.innerHTML = docLinkHtml;\n",
              "          element.appendChild(docLink);\n",
              "        }\n",
              "      </script>\n",
              "    </div>\n",
              "  </div>\n",
              "  "
            ]
          },
          "metadata": {},
          "execution_count": 5
        }
      ],
      "source": [
        "data_hate.head(10)"
      ]
    },
    {
      "cell_type": "code",
      "source": [
        "target= data_hate[\"sentiment\"]"
      ],
      "metadata": {
        "id": "Bz8mpt_wU3QS"
      },
      "execution_count": 6,
      "outputs": []
    },
    {
      "cell_type": "code",
      "execution_count": null,
      "metadata": {
        "id": "vTrhLmsXc-zm"
      },
      "outputs": [],
      "source": [
        "!pip install gensim==4.0\n",
        "!pip install python-Levenshtein"
      ]
    },
    {
      "cell_type": "code",
      "execution_count": 8,
      "metadata": {
        "id": "D7_sV7SbDuhQ"
      },
      "outputs": [],
      "source": [
        "from gensim.models.word2vec import Word2Vec\n",
        "from gensim.models import KeyedVectors\n",
        "import numpy as np"
      ]
    },
    {
      "cell_type": "code",
      "source": [
        "tweets=[line.split() for line in data_hate[\"clean_tweet_min\"]]"
      ],
      "metadata": {
        "id": "OtK869HPHKLH"
      },
      "execution_count": 9,
      "outputs": []
    },
    {
      "cell_type": "code",
      "source": [
        "# Feed a word2vec with the ingredients\n",
        "model = Word2Vec(tweets, window=10, min_count=2, workers=8, sg=1)"
      ],
      "metadata": {
        "id": "-q7fRJY2X26i"
      },
      "execution_count": 10,
      "outputs": []
    },
    {
      "cell_type": "code",
      "source": [
        "wv=model.wv\n",
        "wv.save(\"model_dataset_fr\")"
      ],
      "metadata": {
        "id": "AtDq8bYsQK4H"
      },
      "execution_count": 11,
      "outputs": []
    },
    {
      "cell_type": "code",
      "source": [
        "# récupérer les embeddings entrainés sur nos données\n",
        "w2v_data4k = KeyedVectors.load('model_dataset_fr')"
      ],
      "metadata": {
        "id": "9RApVlKnO54l"
      },
      "execution_count": 15,
      "outputs": []
    },
    {
      "cell_type": "code",
      "source": [
        "w2v = KeyedVectors.load(f\"{path_files}w2v/w2vec_model_d300_global_Min\")"
      ],
      "metadata": {
        "id": "TfTqIcGge0VC"
      },
      "execution_count": 13,
      "outputs": []
    },
    {
      "cell_type": "code",
      "source": [
        "w2v.similar_by_word(\"noir\")"
      ],
      "metadata": {
        "colab": {
          "base_uri": "https://localhost:8080/"
        },
        "id": "ef5xCFK2Ifm2",
        "outputId": "f6ccc0d2-4ea6-473f-ba9a-0befa4e73570"
      },
      "execution_count": 16,
      "outputs": [
        {
          "output_type": "execute_result",
          "data": {
            "text/plain": [
              "[('blanc', 0.6659490466117859),\n",
              " ('noir,', 0.6475639343261719),\n",
              " ('blanc,', 0.6131015419960022),\n",
              " ('roux', 0.6044836640357971),\n",
              " ('noir.', 0.603306770324707),\n",
              " ('bandeau', 0.5998969674110413),\n",
              " ('marron', 0.5980905890464783),\n",
              " ('beige', 0.5841408967971802),\n",
              " ('blanc.', 0.5792201161384583),\n",
              " ('noir?', 0.575861930847168)]"
            ]
          },
          "metadata": {},
          "execution_count": 16
        }
      ]
    },
    {
      "cell_type": "code",
      "source": [
        "w2v_data4k.similar_by_word(\"noir\")"
      ],
      "metadata": {
        "colab": {
          "base_uri": "https://localhost:8080/"
        },
        "id": "KB4j4xWkXRTI",
        "outputId": "45dac043-9060-4dc7-c3b7-4ceebc68a919"
      },
      "execution_count": 17,
      "outputs": [
        {
          "output_type": "execute_result",
          "data": {
            "text/plain": [
              "[('traite', 0.9878836870193481),\n",
              " ('merde', 0.9844604730606079),\n",
              " ('pute', 0.983635663986206),\n",
              " ('ou', 0.9822825193405151),\n",
              " ('t’es', 0.9814529418945312),\n",
              " ('blanc', 0.9789896607398987),\n",
              " ('traiter', 0.9788126945495605),\n",
              " (\"t'as\", 0.9784077405929565),\n",
              " ('ton', 0.9778554439544678),\n",
              " ('espèce', 0.9776104688644409)]"
            ]
          },
          "metadata": {},
          "execution_count": 17
        }
      ]
    },
    {
      "cell_type": "code",
      "source": [
        "def encode(msg, model, dim):\n",
        "    return np.mean([model[word] for word in msg if word in model] or [np.zeros(dim)], axis = 0)"
      ],
      "metadata": {
        "id": "1zlADsKDsOdy"
      },
      "execution_count": 19,
      "outputs": []
    },
    {
      "cell_type": "code",
      "source": [
        "clean_dataset = tweets"
      ],
      "metadata": {
        "id": "jAZw7Soks_rQ"
      },
      "execution_count": 23,
      "outputs": []
    },
    {
      "cell_type": "code",
      "source": [
        "dataset_encoded = np.array([encode(msg, w2v, 300) for msg in tweets])"
      ],
      "metadata": {
        "id": "PunTN9kMsV_2"
      },
      "execution_count": 21,
      "outputs": []
    },
    {
      "cell_type": "code",
      "source": [
        "dataset_encoded.shape"
      ],
      "metadata": {
        "colab": {
          "base_uri": "https://localhost:8080/"
        },
        "id": "n_HGIJqoswVx",
        "outputId": "aefc6cd6-1a48-47a7-9b39-0c1d78ac2d72"
      },
      "execution_count": 22,
      "outputs": [
        {
          "output_type": "execute_result",
          "data": {
            "text/plain": [
              "(4014, 300)"
            ]
          },
          "metadata": {},
          "execution_count": 22
        }
      ]
    },
    {
      "cell_type": "code",
      "source": [
        "data_hate.head()"
      ],
      "metadata": {
        "id": "DUoQxoR2aLJu"
      },
      "execution_count": null,
      "outputs": []
    },
    {
      "cell_type": "code",
      "source": [
        "X= dataset_encoded"
      ],
      "metadata": {
        "id": "cH-m69hfZdRM"
      },
      "execution_count": 35,
      "outputs": []
    },
    {
      "cell_type": "markdown",
      "source": [
        "MODÈLE ENSEMBLISTE"
      ],
      "metadata": {
        "id": "Nn0jsujEkTBT"
      }
    },
    {
      "cell_type": "code",
      "source": [
        "from sklearn.preprocessing import MinMaxScaler\n",
        "from sklearn.pipeline import Pipeline\n",
        "from sklearn.linear_model import LogisticRegression\n",
        "from sklearn.ensemble import HistGradientBoostingClassifier\n",
        "from sklearn.model_selection import GridSearchCV\n",
        "from sklearn.model_selection import cross_val_predict\n",
        "from sklearn.metrics import confusion_matrix\n",
        "import matplotlib.pyplot as plt\n",
        "import seaborn as sns"
      ],
      "metadata": {
        "id": "31XnIzY-YxcK"
      },
      "execution_count": 77,
      "outputs": []
    },
    {
      "cell_type": "code",
      "source": [
        "model = Pipeline([\n",
        "    (\n",
        "        \"classifier\",\n",
        "        HistGradientBoostingClassifier(\n",
        "            random_state=42,scoring=\"balanced_accuracy\"\n",
        "        )\n",
        "    ),\n",
        "])"
      ],
      "metadata": {
        "id": "Qd8Xj_sodMMs"
      },
      "execution_count": 38,
      "outputs": []
    },
    {
      "cell_type": "code",
      "source": [
        "param_grid = {\n",
        "    'classifier__learning_rate': [0.05, 0.5],    'classifier__max_leaf_nodes': (10, 30),\n",
        "}\n",
        "model_grid_search = GridSearchCV(\n",
        "    model, param_grid=param_grid, n_jobs=2, cv=2\n",
        ")\n",
        "model_grid_search.fit(X, target)"
      ],
      "metadata": {
        "colab": {
          "base_uri": "https://localhost:8080/"
        },
        "id": "X2u_wNeAIka9",
        "outputId": "f1b7e132-cc29-4d6a-cc20-2ba39538c46c"
      },
      "execution_count": 39,
      "outputs": [
        {
          "output_type": "execute_result",
          "data": {
            "text/plain": [
              "GridSearchCV(cv=2,\n",
              "             estimator=Pipeline(steps=[('classifier',\n",
              "                                        HistGradientBoostingClassifier(random_state=42,\n",
              "                                                                       scoring='balanced_accuracy'))]),\n",
              "             n_jobs=2,\n",
              "             param_grid={'classifier__learning_rate': [0.05, 0.5],\n",
              "                         'classifier__max_leaf_nodes': (10, 30)})"
            ]
          },
          "metadata": {},
          "execution_count": 39
        }
      ]
    },
    {
      "cell_type": "code",
      "source": [
        "cv_results = pd.DataFrame(model_grid_search.cv_results_)\n",
        "cv_results[[\n",
        "    \"param_classifier__learning_rate\",\n",
        "    \"param_classifier__max_leaf_nodes\",\n",
        "    \"mean_test_score\",\n",
        "    \"std_test_score\",\n",
        "    \"rank_test_score\"\n",
        "]]"
      ],
      "metadata": {
        "colab": {
          "base_uri": "https://localhost:8080/",
          "height": 175
        },
        "id": "Ieq4Mg3UdvLP",
        "outputId": "d098d50a-62ac-408e-ba36-16340d232ad7"
      },
      "execution_count": 42,
      "outputs": [
        {
          "output_type": "execute_result",
          "data": {
            "text/plain": [
              "  param_classifier__learning_rate param_classifier__max_leaf_nodes  \\\n",
              "0                            0.05                               10   \n",
              "1                            0.05                               30   \n",
              "2                             0.5                               10   \n",
              "3                             0.5                               30   \n",
              "\n",
              "   mean_test_score  std_test_score  rank_test_score  \n",
              "0         0.791978        0.005232                1  \n",
              "1         0.786746        0.003986                2  \n",
              "2         0.775536        0.004733                4  \n",
              "3         0.784255        0.003488                3  "
            ],
            "text/html": [
              "\n",
              "  <div id=\"df-d5f509ad-3533-4da3-8e32-a0a5ceb2d2a7\">\n",
              "    <div class=\"colab-df-container\">\n",
              "      <div>\n",
              "<style scoped>\n",
              "    .dataframe tbody tr th:only-of-type {\n",
              "        vertical-align: middle;\n",
              "    }\n",
              "\n",
              "    .dataframe tbody tr th {\n",
              "        vertical-align: top;\n",
              "    }\n",
              "\n",
              "    .dataframe thead th {\n",
              "        text-align: right;\n",
              "    }\n",
              "</style>\n",
              "<table border=\"1\" class=\"dataframe\">\n",
              "  <thead>\n",
              "    <tr style=\"text-align: right;\">\n",
              "      <th></th>\n",
              "      <th>param_classifier__learning_rate</th>\n",
              "      <th>param_classifier__max_leaf_nodes</th>\n",
              "      <th>mean_test_score</th>\n",
              "      <th>std_test_score</th>\n",
              "      <th>rank_test_score</th>\n",
              "    </tr>\n",
              "  </thead>\n",
              "  <tbody>\n",
              "    <tr>\n",
              "      <th>0</th>\n",
              "      <td>0.05</td>\n",
              "      <td>10</td>\n",
              "      <td>0.791978</td>\n",
              "      <td>0.005232</td>\n",
              "      <td>1</td>\n",
              "    </tr>\n",
              "    <tr>\n",
              "      <th>1</th>\n",
              "      <td>0.05</td>\n",
              "      <td>30</td>\n",
              "      <td>0.786746</td>\n",
              "      <td>0.003986</td>\n",
              "      <td>2</td>\n",
              "    </tr>\n",
              "    <tr>\n",
              "      <th>2</th>\n",
              "      <td>0.5</td>\n",
              "      <td>10</td>\n",
              "      <td>0.775536</td>\n",
              "      <td>0.004733</td>\n",
              "      <td>4</td>\n",
              "    </tr>\n",
              "    <tr>\n",
              "      <th>3</th>\n",
              "      <td>0.5</td>\n",
              "      <td>30</td>\n",
              "      <td>0.784255</td>\n",
              "      <td>0.003488</td>\n",
              "      <td>3</td>\n",
              "    </tr>\n",
              "  </tbody>\n",
              "</table>\n",
              "</div>\n",
              "      <button class=\"colab-df-convert\" onclick=\"convertToInteractive('df-d5f509ad-3533-4da3-8e32-a0a5ceb2d2a7')\"\n",
              "              title=\"Convert this dataframe to an interactive table.\"\n",
              "              style=\"display:none;\">\n",
              "        \n",
              "  <svg xmlns=\"http://www.w3.org/2000/svg\" height=\"24px\"viewBox=\"0 0 24 24\"\n",
              "       width=\"24px\">\n",
              "    <path d=\"M0 0h24v24H0V0z\" fill=\"none\"/>\n",
              "    <path d=\"M18.56 5.44l.94 2.06.94-2.06 2.06-.94-2.06-.94-.94-2.06-.94 2.06-2.06.94zm-11 1L8.5 8.5l.94-2.06 2.06-.94-2.06-.94L8.5 2.5l-.94 2.06-2.06.94zm10 10l.94 2.06.94-2.06 2.06-.94-2.06-.94-.94-2.06-.94 2.06-2.06.94z\"/><path d=\"M17.41 7.96l-1.37-1.37c-.4-.4-.92-.59-1.43-.59-.52 0-1.04.2-1.43.59L10.3 9.45l-7.72 7.72c-.78.78-.78 2.05 0 2.83L4 21.41c.39.39.9.59 1.41.59.51 0 1.02-.2 1.41-.59l7.78-7.78 2.81-2.81c.8-.78.8-2.07 0-2.86zM5.41 20L4 18.59l7.72-7.72 1.47 1.35L5.41 20z\"/>\n",
              "  </svg>\n",
              "      </button>\n",
              "      \n",
              "  <style>\n",
              "    .colab-df-container {\n",
              "      display:flex;\n",
              "      flex-wrap:wrap;\n",
              "      gap: 12px;\n",
              "    }\n",
              "\n",
              "    .colab-df-convert {\n",
              "      background-color: #E8F0FE;\n",
              "      border: none;\n",
              "      border-radius: 50%;\n",
              "      cursor: pointer;\n",
              "      display: none;\n",
              "      fill: #1967D2;\n",
              "      height: 32px;\n",
              "      padding: 0 0 0 0;\n",
              "      width: 32px;\n",
              "    }\n",
              "\n",
              "    .colab-df-convert:hover {\n",
              "      background-color: #E2EBFA;\n",
              "      box-shadow: 0px 1px 2px rgba(60, 64, 67, 0.3), 0px 1px 3px 1px rgba(60, 64, 67, 0.15);\n",
              "      fill: #174EA6;\n",
              "    }\n",
              "\n",
              "    [theme=dark] .colab-df-convert {\n",
              "      background-color: #3B4455;\n",
              "      fill: #D2E3FC;\n",
              "    }\n",
              "\n",
              "    [theme=dark] .colab-df-convert:hover {\n",
              "      background-color: #434B5C;\n",
              "      box-shadow: 0px 1px 3px 1px rgba(0, 0, 0, 0.15);\n",
              "      filter: drop-shadow(0px 1px 2px rgba(0, 0, 0, 0.3));\n",
              "      fill: #FFFFFF;\n",
              "    }\n",
              "  </style>\n",
              "\n",
              "      <script>\n",
              "        const buttonEl =\n",
              "          document.querySelector('#df-d5f509ad-3533-4da3-8e32-a0a5ceb2d2a7 button.colab-df-convert');\n",
              "        buttonEl.style.display =\n",
              "          google.colab.kernel.accessAllowed ? 'block' : 'none';\n",
              "\n",
              "        async function convertToInteractive(key) {\n",
              "          const element = document.querySelector('#df-d5f509ad-3533-4da3-8e32-a0a5ceb2d2a7');\n",
              "          const dataTable =\n",
              "            await google.colab.kernel.invokeFunction('convertToInteractive',\n",
              "                                                     [key], {});\n",
              "          if (!dataTable) return;\n",
              "\n",
              "          const docLinkHtml = 'Like what you see? Visit the ' +\n",
              "            '<a target=\"_blank\" href=https://colab.research.google.com/notebooks/data_table.ipynb>data table notebook</a>'\n",
              "            + ' to learn more about interactive tables.';\n",
              "          element.innerHTML = '';\n",
              "          dataTable['output_type'] = 'display_data';\n",
              "          await google.colab.output.renderOutput(dataTable, element);\n",
              "          const docLink = document.createElement('div');\n",
              "          docLink.innerHTML = docLinkHtml;\n",
              "          element.appendChild(docLink);\n",
              "        }\n",
              "      </script>\n",
              "    </div>\n",
              "  </div>\n",
              "  "
            ]
          },
          "metadata": {},
          "execution_count": 42
        }
      ]
    },
    {
      "cell_type": "code",
      "source": [
        "from sklearn.model_selection import cross_validate\n",
        "\n",
        "cv_results = cross_validate(model, X, target, cv=5,scoring=\"balanced_accuracy\")\n",
        "cv_results = pd.DataFrame(cv_results)\n",
        "cv_results"
      ],
      "metadata": {
        "colab": {
          "base_uri": "https://localhost:8080/",
          "height": 206
        },
        "id": "clogukXtdeU2",
        "outputId": "105a40aa-dfe4-438d-feb4-85ff3f1f3e39"
      },
      "execution_count": 43,
      "outputs": [
        {
          "output_type": "execute_result",
          "data": {
            "text/plain": [
              "   fit_time  score_time  test_score\n",
              "0  5.118547    0.014528    0.500215\n",
              "1  5.074957    0.013691    0.500215\n",
              "2  4.984132    0.013480    0.523985\n",
              "3  5.081445    0.014374    0.528788\n",
              "4  4.963029    0.013792    0.533279"
            ],
            "text/html": [
              "\n",
              "  <div id=\"df-18c9904f-37f0-421e-b9ce-d760701e3842\">\n",
              "    <div class=\"colab-df-container\">\n",
              "      <div>\n",
              "<style scoped>\n",
              "    .dataframe tbody tr th:only-of-type {\n",
              "        vertical-align: middle;\n",
              "    }\n",
              "\n",
              "    .dataframe tbody tr th {\n",
              "        vertical-align: top;\n",
              "    }\n",
              "\n",
              "    .dataframe thead th {\n",
              "        text-align: right;\n",
              "    }\n",
              "</style>\n",
              "<table border=\"1\" class=\"dataframe\">\n",
              "  <thead>\n",
              "    <tr style=\"text-align: right;\">\n",
              "      <th></th>\n",
              "      <th>fit_time</th>\n",
              "      <th>score_time</th>\n",
              "      <th>test_score</th>\n",
              "    </tr>\n",
              "  </thead>\n",
              "  <tbody>\n",
              "    <tr>\n",
              "      <th>0</th>\n",
              "      <td>5.118547</td>\n",
              "      <td>0.014528</td>\n",
              "      <td>0.500215</td>\n",
              "    </tr>\n",
              "    <tr>\n",
              "      <th>1</th>\n",
              "      <td>5.074957</td>\n",
              "      <td>0.013691</td>\n",
              "      <td>0.500215</td>\n",
              "    </tr>\n",
              "    <tr>\n",
              "      <th>2</th>\n",
              "      <td>4.984132</td>\n",
              "      <td>0.013480</td>\n",
              "      <td>0.523985</td>\n",
              "    </tr>\n",
              "    <tr>\n",
              "      <th>3</th>\n",
              "      <td>5.081445</td>\n",
              "      <td>0.014374</td>\n",
              "      <td>0.528788</td>\n",
              "    </tr>\n",
              "    <tr>\n",
              "      <th>4</th>\n",
              "      <td>4.963029</td>\n",
              "      <td>0.013792</td>\n",
              "      <td>0.533279</td>\n",
              "    </tr>\n",
              "  </tbody>\n",
              "</table>\n",
              "</div>\n",
              "      <button class=\"colab-df-convert\" onclick=\"convertToInteractive('df-18c9904f-37f0-421e-b9ce-d760701e3842')\"\n",
              "              title=\"Convert this dataframe to an interactive table.\"\n",
              "              style=\"display:none;\">\n",
              "        \n",
              "  <svg xmlns=\"http://www.w3.org/2000/svg\" height=\"24px\"viewBox=\"0 0 24 24\"\n",
              "       width=\"24px\">\n",
              "    <path d=\"M0 0h24v24H0V0z\" fill=\"none\"/>\n",
              "    <path d=\"M18.56 5.44l.94 2.06.94-2.06 2.06-.94-2.06-.94-.94-2.06-.94 2.06-2.06.94zm-11 1L8.5 8.5l.94-2.06 2.06-.94-2.06-.94L8.5 2.5l-.94 2.06-2.06.94zm10 10l.94 2.06.94-2.06 2.06-.94-2.06-.94-.94-2.06-.94 2.06-2.06.94z\"/><path d=\"M17.41 7.96l-1.37-1.37c-.4-.4-.92-.59-1.43-.59-.52 0-1.04.2-1.43.59L10.3 9.45l-7.72 7.72c-.78.78-.78 2.05 0 2.83L4 21.41c.39.39.9.59 1.41.59.51 0 1.02-.2 1.41-.59l7.78-7.78 2.81-2.81c.8-.78.8-2.07 0-2.86zM5.41 20L4 18.59l7.72-7.72 1.47 1.35L5.41 20z\"/>\n",
              "  </svg>\n",
              "      </button>\n",
              "      \n",
              "  <style>\n",
              "    .colab-df-container {\n",
              "      display:flex;\n",
              "      flex-wrap:wrap;\n",
              "      gap: 12px;\n",
              "    }\n",
              "\n",
              "    .colab-df-convert {\n",
              "      background-color: #E8F0FE;\n",
              "      border: none;\n",
              "      border-radius: 50%;\n",
              "      cursor: pointer;\n",
              "      display: none;\n",
              "      fill: #1967D2;\n",
              "      height: 32px;\n",
              "      padding: 0 0 0 0;\n",
              "      width: 32px;\n",
              "    }\n",
              "\n",
              "    .colab-df-convert:hover {\n",
              "      background-color: #E2EBFA;\n",
              "      box-shadow: 0px 1px 2px rgba(60, 64, 67, 0.3), 0px 1px 3px 1px rgba(60, 64, 67, 0.15);\n",
              "      fill: #174EA6;\n",
              "    }\n",
              "\n",
              "    [theme=dark] .colab-df-convert {\n",
              "      background-color: #3B4455;\n",
              "      fill: #D2E3FC;\n",
              "    }\n",
              "\n",
              "    [theme=dark] .colab-df-convert:hover {\n",
              "      background-color: #434B5C;\n",
              "      box-shadow: 0px 1px 3px 1px rgba(0, 0, 0, 0.15);\n",
              "      filter: drop-shadow(0px 1px 2px rgba(0, 0, 0, 0.3));\n",
              "      fill: #FFFFFF;\n",
              "    }\n",
              "  </style>\n",
              "\n",
              "      <script>\n",
              "        const buttonEl =\n",
              "          document.querySelector('#df-18c9904f-37f0-421e-b9ce-d760701e3842 button.colab-df-convert');\n",
              "        buttonEl.style.display =\n",
              "          google.colab.kernel.accessAllowed ? 'block' : 'none';\n",
              "\n",
              "        async function convertToInteractive(key) {\n",
              "          const element = document.querySelector('#df-18c9904f-37f0-421e-b9ce-d760701e3842');\n",
              "          const dataTable =\n",
              "            await google.colab.kernel.invokeFunction('convertToInteractive',\n",
              "                                                     [key], {});\n",
              "          if (!dataTable) return;\n",
              "\n",
              "          const docLinkHtml = 'Like what you see? Visit the ' +\n",
              "            '<a target=\"_blank\" href=https://colab.research.google.com/notebooks/data_table.ipynb>data table notebook</a>'\n",
              "            + ' to learn more about interactive tables.';\n",
              "          element.innerHTML = '';\n",
              "          dataTable['output_type'] = 'display_data';\n",
              "          await google.colab.output.renderOutput(dataTable, element);\n",
              "          const docLink = document.createElement('div');\n",
              "          docLink.innerHTML = docLinkHtml;\n",
              "          element.appendChild(docLink);\n",
              "        }\n",
              "      </script>\n",
              "    </div>\n",
              "  </div>\n",
              "  "
            ]
          },
          "metadata": {},
          "execution_count": 43
        }
      ]
    },
    {
      "cell_type": "code",
      "source": [
        "model_grid_search.best_params_"
      ],
      "metadata": {
        "colab": {
          "base_uri": "https://localhost:8080/"
        },
        "id": "dlCx2Eacbbwi",
        "outputId": "3d3a2639-0923-438a-8c83-21ee5e492856"
      },
      "execution_count": 45,
      "outputs": [
        {
          "output_type": "execute_result",
          "data": {
            "text/plain": [
              "{'classifier__learning_rate': 0.05, 'classifier__max_leaf_nodes': 10}"
            ]
          },
          "metadata": {},
          "execution_count": 45
        }
      ]
    },
    {
      "cell_type": "code",
      "source": [
        "model_grid_search.best_estimator_\n"
      ],
      "metadata": {
        "colab": {
          "base_uri": "https://localhost:8080/"
        },
        "id": "Fw6qwB_wb9oo",
        "outputId": "4ee3bce3-9ca2-4c95-c856-3be6180eb252"
      },
      "execution_count": 46,
      "outputs": [
        {
          "output_type": "execute_result",
          "data": {
            "text/plain": [
              "Pipeline(steps=[('classifier',\n",
              "                 HistGradientBoostingClassifier(learning_rate=0.05,\n",
              "                                                max_leaf_nodes=10,\n",
              "                                                random_state=42,\n",
              "                                                scoring='balanced_accuracy'))])"
            ]
          },
          "metadata": {},
          "execution_count": 46
        }
      ]
    },
    {
      "cell_type": "code",
      "source": [
        "cv_results = cross_validate(\n",
        "    model_grid_search.best_estimator_, X, target, cv=5, n_jobs=2, return_estimator=True,scoring=\"balanced_accuracy\"\n",
        ")"
      ],
      "metadata": {
        "id": "F8-TUh8Qd5Qg"
      },
      "execution_count": 47,
      "outputs": []
    },
    {
      "cell_type": "code",
      "source": [
        "cv_results = pd.DataFrame(cv_results)\n",
        "cv_test_scores = cv_results['test_score']\n",
        "print(\n",
        "    \"Generalization score with hyperparameters tuning:\\n\"\n",
        "    f\"{cv_test_scores.mean():.3f} +/- {cv_test_scores.std():.3f}\"\n",
        ")"
      ],
      "metadata": {
        "colab": {
          "base_uri": "https://localhost:8080/"
        },
        "id": "vumeYlcxeNzC",
        "outputId": "e8f2e873-ac84-4c3d-a244-e41ab917b2f4"
      },
      "execution_count": 48,
      "outputs": [
        {
          "output_type": "stream",
          "name": "stdout",
          "text": [
            "Generalization score with hyperparameters tuning:\n",
            "0.512 +/- 0.005\n"
          ]
        }
      ]
    },
    {
      "cell_type": "markdown",
      "source": [
        "Regression logistic+embedding"
      ],
      "metadata": {
        "id": "udreZsAahdLl"
      }
    },
    {
      "cell_type": "code",
      "source": [
        "model_lr = Pipeline([\n",
        "     ('scaler',MinMaxScaler()) ,                                    \n",
        "    ('classifier', LogisticRegression(random_state=42,class_weight='balanced', max_iter= 10000))\n",
        "])\n",
        "  "
      ],
      "metadata": {
        "id": "2c4dAf0FH-1J"
      },
      "execution_count": 49,
      "outputs": []
    },
    {
      "cell_type": "code",
      "source": [
        "cv_results = cross_validate(model_lr, X, target, cv=5)\n",
        "cv_results = pd.DataFrame(cv_results)\n",
        "cv_results"
      ],
      "metadata": {
        "colab": {
          "base_uri": "https://localhost:8080/",
          "height": 206
        },
        "id": "MtZlIJjPlb1z",
        "outputId": "95bbfbe6-2d6d-4918-daa1-8053a974e9d0"
      },
      "execution_count": 50,
      "outputs": [
        {
          "output_type": "execute_result",
          "data": {
            "text/plain": [
              "   fit_time  score_time  test_score\n",
              "0  0.661319    0.002408    0.623910\n",
              "1  0.597026    0.002332    0.622665\n",
              "2  0.731312    0.002321    0.616438\n",
              "3  0.596101    0.002338    0.585305\n",
              "4  0.649592    0.002403    0.678304"
            ],
            "text/html": [
              "\n",
              "  <div id=\"df-4807c2ce-2216-4100-ae8d-03724a5fd668\">\n",
              "    <div class=\"colab-df-container\">\n",
              "      <div>\n",
              "<style scoped>\n",
              "    .dataframe tbody tr th:only-of-type {\n",
              "        vertical-align: middle;\n",
              "    }\n",
              "\n",
              "    .dataframe tbody tr th {\n",
              "        vertical-align: top;\n",
              "    }\n",
              "\n",
              "    .dataframe thead th {\n",
              "        text-align: right;\n",
              "    }\n",
              "</style>\n",
              "<table border=\"1\" class=\"dataframe\">\n",
              "  <thead>\n",
              "    <tr style=\"text-align: right;\">\n",
              "      <th></th>\n",
              "      <th>fit_time</th>\n",
              "      <th>score_time</th>\n",
              "      <th>test_score</th>\n",
              "    </tr>\n",
              "  </thead>\n",
              "  <tbody>\n",
              "    <tr>\n",
              "      <th>0</th>\n",
              "      <td>0.661319</td>\n",
              "      <td>0.002408</td>\n",
              "      <td>0.623910</td>\n",
              "    </tr>\n",
              "    <tr>\n",
              "      <th>1</th>\n",
              "      <td>0.597026</td>\n",
              "      <td>0.002332</td>\n",
              "      <td>0.622665</td>\n",
              "    </tr>\n",
              "    <tr>\n",
              "      <th>2</th>\n",
              "      <td>0.731312</td>\n",
              "      <td>0.002321</td>\n",
              "      <td>0.616438</td>\n",
              "    </tr>\n",
              "    <tr>\n",
              "      <th>3</th>\n",
              "      <td>0.596101</td>\n",
              "      <td>0.002338</td>\n",
              "      <td>0.585305</td>\n",
              "    </tr>\n",
              "    <tr>\n",
              "      <th>4</th>\n",
              "      <td>0.649592</td>\n",
              "      <td>0.002403</td>\n",
              "      <td>0.678304</td>\n",
              "    </tr>\n",
              "  </tbody>\n",
              "</table>\n",
              "</div>\n",
              "      <button class=\"colab-df-convert\" onclick=\"convertToInteractive('df-4807c2ce-2216-4100-ae8d-03724a5fd668')\"\n",
              "              title=\"Convert this dataframe to an interactive table.\"\n",
              "              style=\"display:none;\">\n",
              "        \n",
              "  <svg xmlns=\"http://www.w3.org/2000/svg\" height=\"24px\"viewBox=\"0 0 24 24\"\n",
              "       width=\"24px\">\n",
              "    <path d=\"M0 0h24v24H0V0z\" fill=\"none\"/>\n",
              "    <path d=\"M18.56 5.44l.94 2.06.94-2.06 2.06-.94-2.06-.94-.94-2.06-.94 2.06-2.06.94zm-11 1L8.5 8.5l.94-2.06 2.06-.94-2.06-.94L8.5 2.5l-.94 2.06-2.06.94zm10 10l.94 2.06.94-2.06 2.06-.94-2.06-.94-.94-2.06-.94 2.06-2.06.94z\"/><path d=\"M17.41 7.96l-1.37-1.37c-.4-.4-.92-.59-1.43-.59-.52 0-1.04.2-1.43.59L10.3 9.45l-7.72 7.72c-.78.78-.78 2.05 0 2.83L4 21.41c.39.39.9.59 1.41.59.51 0 1.02-.2 1.41-.59l7.78-7.78 2.81-2.81c.8-.78.8-2.07 0-2.86zM5.41 20L4 18.59l7.72-7.72 1.47 1.35L5.41 20z\"/>\n",
              "  </svg>\n",
              "      </button>\n",
              "      \n",
              "  <style>\n",
              "    .colab-df-container {\n",
              "      display:flex;\n",
              "      flex-wrap:wrap;\n",
              "      gap: 12px;\n",
              "    }\n",
              "\n",
              "    .colab-df-convert {\n",
              "      background-color: #E8F0FE;\n",
              "      border: none;\n",
              "      border-radius: 50%;\n",
              "      cursor: pointer;\n",
              "      display: none;\n",
              "      fill: #1967D2;\n",
              "      height: 32px;\n",
              "      padding: 0 0 0 0;\n",
              "      width: 32px;\n",
              "    }\n",
              "\n",
              "    .colab-df-convert:hover {\n",
              "      background-color: #E2EBFA;\n",
              "      box-shadow: 0px 1px 2px rgba(60, 64, 67, 0.3), 0px 1px 3px 1px rgba(60, 64, 67, 0.15);\n",
              "      fill: #174EA6;\n",
              "    }\n",
              "\n",
              "    [theme=dark] .colab-df-convert {\n",
              "      background-color: #3B4455;\n",
              "      fill: #D2E3FC;\n",
              "    }\n",
              "\n",
              "    [theme=dark] .colab-df-convert:hover {\n",
              "      background-color: #434B5C;\n",
              "      box-shadow: 0px 1px 3px 1px rgba(0, 0, 0, 0.15);\n",
              "      filter: drop-shadow(0px 1px 2px rgba(0, 0, 0, 0.3));\n",
              "      fill: #FFFFFF;\n",
              "    }\n",
              "  </style>\n",
              "\n",
              "      <script>\n",
              "        const buttonEl =\n",
              "          document.querySelector('#df-4807c2ce-2216-4100-ae8d-03724a5fd668 button.colab-df-convert');\n",
              "        buttonEl.style.display =\n",
              "          google.colab.kernel.accessAllowed ? 'block' : 'none';\n",
              "\n",
              "        async function convertToInteractive(key) {\n",
              "          const element = document.querySelector('#df-4807c2ce-2216-4100-ae8d-03724a5fd668');\n",
              "          const dataTable =\n",
              "            await google.colab.kernel.invokeFunction('convertToInteractive',\n",
              "                                                     [key], {});\n",
              "          if (!dataTable) return;\n",
              "\n",
              "          const docLinkHtml = 'Like what you see? Visit the ' +\n",
              "            '<a target=\"_blank\" href=https://colab.research.google.com/notebooks/data_table.ipynb>data table notebook</a>'\n",
              "            + ' to learn more about interactive tables.';\n",
              "          element.innerHTML = '';\n",
              "          dataTable['output_type'] = 'display_data';\n",
              "          await google.colab.output.renderOutput(dataTable, element);\n",
              "          const docLink = document.createElement('div');\n",
              "          docLink.innerHTML = docLinkHtml;\n",
              "          element.appendChild(docLink);\n",
              "        }\n",
              "      </script>\n",
              "    </div>\n",
              "  </div>\n",
              "  "
            ]
          },
          "metadata": {},
          "execution_count": 50
        }
      ]
    },
    {
      "cell_type": "code",
      "source": [
        "cv_test_scores = cv_results['test_score']\n",
        "print(\n",
        "    \"Generalization score with hyperparameters tuning:\\n\"\n",
        "    f\"{cv_test_scores.mean():.3f} +/- {cv_test_scores.std():.3f}\"\n",
        ")"
      ],
      "metadata": {
        "colab": {
          "base_uri": "https://localhost:8080/"
        },
        "id": "OR4evSTNqZYw",
        "outputId": "fdec966b-64e8-46aa-abd6-04cd7e1a73ae"
      },
      "execution_count": 51,
      "outputs": [
        {
          "output_type": "stream",
          "name": "stdout",
          "text": [
            "Generalization score with hyperparameters tuning:\n",
            "0.625 +/- 0.034\n"
          ]
        }
      ]
    },
    {
      "cell_type": "markdown",
      "source": [
        "la normalisation fait passer le score moyen de 0.62"
      ],
      "metadata": {
        "id": "p9ymBMFQq6Ap"
      }
    },
    {
      "cell_type": "code",
      "source": [
        "from sklearn.model_selection import GridSearchCV\n",
        "\n",
        "param_grid = {\n",
        "    'classifier__C': (0.1,1,5)}\n",
        "model_grid_search_lr = GridSearchCV(model_lr, param_grid=param_grid,\n",
        "                                 n_jobs=2, cv=10,scoring=\"balanced_accuracy\")\n"
      ],
      "metadata": {
        "id": "3npoEKSGiKdB"
      },
      "execution_count": 68,
      "outputs": []
    },
    {
      "cell_type": "code",
      "source": [
        "model_grid_search_lr.fit(X, target)"
      ],
      "metadata": {
        "colab": {
          "base_uri": "https://localhost:8080/"
        },
        "id": "XVkzhPwbeYvh",
        "outputId": "5da09f30-de3e-4341-a5d0-d8361bf6b946"
      },
      "execution_count": 69,
      "outputs": [
        {
          "output_type": "execute_result",
          "data": {
            "text/plain": [
              "GridSearchCV(cv=10,\n",
              "             estimator=Pipeline(steps=[('scaler', MinMaxScaler()),\n",
              "                                       ('classifier',\n",
              "                                        LogisticRegression(class_weight='balanced',\n",
              "                                                           max_iter=10000,\n",
              "                                                           random_state=42))]),\n",
              "             n_jobs=2, param_grid={'classifier__C': (0.1, 1, 5)},\n",
              "             scoring='balanced_accuracy')"
            ]
          },
          "metadata": {},
          "execution_count": 69
        }
      ]
    },
    {
      "cell_type": "code",
      "source": [
        "model_grid_search_lr.best_params_"
      ],
      "metadata": {
        "colab": {
          "base_uri": "https://localhost:8080/"
        },
        "id": "g1lxVIeIdn3C",
        "outputId": "1be37745-4919-40c2-d37a-ca4c8b761e35"
      },
      "execution_count": 70,
      "outputs": [
        {
          "output_type": "execute_result",
          "data": {
            "text/plain": [
              "{'classifier__C': 0.1}"
            ]
          },
          "metadata": {},
          "execution_count": 70
        }
      ]
    },
    {
      "cell_type": "code",
      "source": [
        "cv_results = pd.DataFrame(model_grid_search_lr.cv_results_)\n",
        "cv_results[[\n",
        "    \"param_classifier__C\",\n",
        "    \"mean_test_score\",\n",
        "    \"std_test_score\",\n",
        "    \"rank_test_score\"\n",
        "]]"
      ],
      "metadata": {
        "colab": {
          "base_uri": "https://localhost:8080/",
          "height": 143
        },
        "id": "dHufK4fAd8t7",
        "outputId": "75eaffcc-0d0b-4501-8f01-e3c51543e1b9"
      },
      "execution_count": 71,
      "outputs": [
        {
          "output_type": "execute_result",
          "data": {
            "text/plain": [
              "  param_classifier__C  mean_test_score  std_test_score  rank_test_score\n",
              "0                 0.1         0.655110        0.048856                1\n",
              "1                   1         0.626249        0.047362                2\n",
              "2                   5         0.608696        0.046236                3"
            ],
            "text/html": [
              "\n",
              "  <div id=\"df-3a3fc065-ae48-49fc-84c8-119ad65d17cb\">\n",
              "    <div class=\"colab-df-container\">\n",
              "      <div>\n",
              "<style scoped>\n",
              "    .dataframe tbody tr th:only-of-type {\n",
              "        vertical-align: middle;\n",
              "    }\n",
              "\n",
              "    .dataframe tbody tr th {\n",
              "        vertical-align: top;\n",
              "    }\n",
              "\n",
              "    .dataframe thead th {\n",
              "        text-align: right;\n",
              "    }\n",
              "</style>\n",
              "<table border=\"1\" class=\"dataframe\">\n",
              "  <thead>\n",
              "    <tr style=\"text-align: right;\">\n",
              "      <th></th>\n",
              "      <th>param_classifier__C</th>\n",
              "      <th>mean_test_score</th>\n",
              "      <th>std_test_score</th>\n",
              "      <th>rank_test_score</th>\n",
              "    </tr>\n",
              "  </thead>\n",
              "  <tbody>\n",
              "    <tr>\n",
              "      <th>0</th>\n",
              "      <td>0.1</td>\n",
              "      <td>0.655110</td>\n",
              "      <td>0.048856</td>\n",
              "      <td>1</td>\n",
              "    </tr>\n",
              "    <tr>\n",
              "      <th>1</th>\n",
              "      <td>1</td>\n",
              "      <td>0.626249</td>\n",
              "      <td>0.047362</td>\n",
              "      <td>2</td>\n",
              "    </tr>\n",
              "    <tr>\n",
              "      <th>2</th>\n",
              "      <td>5</td>\n",
              "      <td>0.608696</td>\n",
              "      <td>0.046236</td>\n",
              "      <td>3</td>\n",
              "    </tr>\n",
              "  </tbody>\n",
              "</table>\n",
              "</div>\n",
              "      <button class=\"colab-df-convert\" onclick=\"convertToInteractive('df-3a3fc065-ae48-49fc-84c8-119ad65d17cb')\"\n",
              "              title=\"Convert this dataframe to an interactive table.\"\n",
              "              style=\"display:none;\">\n",
              "        \n",
              "  <svg xmlns=\"http://www.w3.org/2000/svg\" height=\"24px\"viewBox=\"0 0 24 24\"\n",
              "       width=\"24px\">\n",
              "    <path d=\"M0 0h24v24H0V0z\" fill=\"none\"/>\n",
              "    <path d=\"M18.56 5.44l.94 2.06.94-2.06 2.06-.94-2.06-.94-.94-2.06-.94 2.06-2.06.94zm-11 1L8.5 8.5l.94-2.06 2.06-.94-2.06-.94L8.5 2.5l-.94 2.06-2.06.94zm10 10l.94 2.06.94-2.06 2.06-.94-2.06-.94-.94-2.06-.94 2.06-2.06.94z\"/><path d=\"M17.41 7.96l-1.37-1.37c-.4-.4-.92-.59-1.43-.59-.52 0-1.04.2-1.43.59L10.3 9.45l-7.72 7.72c-.78.78-.78 2.05 0 2.83L4 21.41c.39.39.9.59 1.41.59.51 0 1.02-.2 1.41-.59l7.78-7.78 2.81-2.81c.8-.78.8-2.07 0-2.86zM5.41 20L4 18.59l7.72-7.72 1.47 1.35L5.41 20z\"/>\n",
              "  </svg>\n",
              "      </button>\n",
              "      \n",
              "  <style>\n",
              "    .colab-df-container {\n",
              "      display:flex;\n",
              "      flex-wrap:wrap;\n",
              "      gap: 12px;\n",
              "    }\n",
              "\n",
              "    .colab-df-convert {\n",
              "      background-color: #E8F0FE;\n",
              "      border: none;\n",
              "      border-radius: 50%;\n",
              "      cursor: pointer;\n",
              "      display: none;\n",
              "      fill: #1967D2;\n",
              "      height: 32px;\n",
              "      padding: 0 0 0 0;\n",
              "      width: 32px;\n",
              "    }\n",
              "\n",
              "    .colab-df-convert:hover {\n",
              "      background-color: #E2EBFA;\n",
              "      box-shadow: 0px 1px 2px rgba(60, 64, 67, 0.3), 0px 1px 3px 1px rgba(60, 64, 67, 0.15);\n",
              "      fill: #174EA6;\n",
              "    }\n",
              "\n",
              "    [theme=dark] .colab-df-convert {\n",
              "      background-color: #3B4455;\n",
              "      fill: #D2E3FC;\n",
              "    }\n",
              "\n",
              "    [theme=dark] .colab-df-convert:hover {\n",
              "      background-color: #434B5C;\n",
              "      box-shadow: 0px 1px 3px 1px rgba(0, 0, 0, 0.15);\n",
              "      filter: drop-shadow(0px 1px 2px rgba(0, 0, 0, 0.3));\n",
              "      fill: #FFFFFF;\n",
              "    }\n",
              "  </style>\n",
              "\n",
              "      <script>\n",
              "        const buttonEl =\n",
              "          document.querySelector('#df-3a3fc065-ae48-49fc-84c8-119ad65d17cb button.colab-df-convert');\n",
              "        buttonEl.style.display =\n",
              "          google.colab.kernel.accessAllowed ? 'block' : 'none';\n",
              "\n",
              "        async function convertToInteractive(key) {\n",
              "          const element = document.querySelector('#df-3a3fc065-ae48-49fc-84c8-119ad65d17cb');\n",
              "          const dataTable =\n",
              "            await google.colab.kernel.invokeFunction('convertToInteractive',\n",
              "                                                     [key], {});\n",
              "          if (!dataTable) return;\n",
              "\n",
              "          const docLinkHtml = 'Like what you see? Visit the ' +\n",
              "            '<a target=\"_blank\" href=https://colab.research.google.com/notebooks/data_table.ipynb>data table notebook</a>'\n",
              "            + ' to learn more about interactive tables.';\n",
              "          element.innerHTML = '';\n",
              "          dataTable['output_type'] = 'display_data';\n",
              "          await google.colab.output.renderOutput(dataTable, element);\n",
              "          const docLink = document.createElement('div');\n",
              "          docLink.innerHTML = docLinkHtml;\n",
              "          element.appendChild(docLink);\n",
              "        }\n",
              "      </script>\n",
              "    </div>\n",
              "  </div>\n",
              "  "
            ]
          },
          "metadata": {},
          "execution_count": 71
        }
      ]
    },
    {
      "cell_type": "code",
      "source": [
        "cv_results = cross_validate(\n",
        "    model_grid_search_lr.best_estimator_, X, target, cv=5, n_jobs=2, return_estimator=True,scoring=\"balanced_accuracy\"\n",
        ")"
      ],
      "metadata": {
        "id": "TdEX7BKbfKVS"
      },
      "execution_count": 72,
      "outputs": []
    },
    {
      "cell_type": "code",
      "source": [
        "cv_results = pd.DataFrame(cv_results)\n",
        "cv_test_scores = cv_results['test_score']\n",
        "print(\n",
        "    \"Generalization score with hyperparameters tuning:\\n\"\n",
        "    f\"{cv_test_scores.mean():.3f} +/- {cv_test_scores.std():.3f}\"\n",
        ")"
      ],
      "metadata": {
        "colab": {
          "base_uri": "https://localhost:8080/"
        },
        "id": "4e8Zf63kfVxX",
        "outputId": "2f5bbd49-729c-4c57-f7c9-4e6faf8ec5f0"
      },
      "execution_count": 73,
      "outputs": [
        {
          "output_type": "stream",
          "name": "stdout",
          "text": [
            "Generalization score with hyperparameters tuning:\n",
            "0.653 +/- 0.036\n"
          ]
        }
      ]
    },
    {
      "cell_type": "markdown",
      "source": [
        "très nette augmentation avec regression logistique +embedding 0.65\n",
        "le w2vec avec 300 donnent de meilleures résultats 0.65 vs 0.62\n",
        "la normalisation n'agit pas beaucoup sur les résultats avec gridsearch, la regression logistique sans normalisation donne des résultats similaires voire légèrement meilleures 0.659"
      ],
      "metadata": {
        "id": "VBtxUjkOgoxB"
      }
    },
    {
      "cell_type": "code",
      "source": [
        "y_pred = cross_val_predict(model_grid_search_lr.best_estimator_, X, target, cv=10)\n",
        "conf_mat = confusion_matrix(target, y_pred)"
      ],
      "metadata": {
        "id": "huswK_DDRuHG"
      },
      "execution_count": 75,
      "outputs": []
    },
    {
      "cell_type": "code",
      "source": [
        "def draw_mat(conf_mat,string):\n",
        "  print(string)\n",
        "  matrice_proportions = np.zeros((2,2))\n",
        "  for i in range(0,2):\n",
        "      matrice_proportions[i,:] = conf_mat[i,:]/float(conf_mat[i,:].sum())\n",
        "  names=['Neutre','Haineux']\n",
        "  confusion_df = pd.DataFrame(matrice_proportions, index=names,columns=names)\n",
        "  plt.figure(figsize=(5,5))\n",
        "  sns.heatmap(confusion_df,annot=True,annot_kws={\"size\": 12},cmap='YlGnBu',cbar=False, square=True,fmt='.2f')\n",
        "  plt.ylabel(r'Valeur réelle',fontsize=14)\n",
        "  plt.xlabel(r'Valeur prédite',fontsize=14)\n",
        "  plt.tick_params(labelsize=12)"
      ],
      "metadata": {
        "id": "cfvYzeznSLpt"
      },
      "execution_count": 76,
      "outputs": []
    },
    {
      "cell_type": "code",
      "source": [
        "draw_mat(conf_mat, \"matrice de confusion : LR avec embedding\")"
      ],
      "metadata": {
        "colab": {
          "base_uri": "https://localhost:8080/",
          "height": 359
        },
        "id": "-DOy1eQokAu7",
        "outputId": "f5062f98-9e0a-4416-bb55-d04da8f1db0b"
      },
      "execution_count": 78,
      "outputs": [
        {
          "output_type": "stream",
          "name": "stdout",
          "text": [
            "matrice de confusion : LR avec embedding\n"
          ]
        },
        {
          "output_type": "display_data",
          "data": {
            "text/plain": [
              "<Figure size 360x360 with 1 Axes>"
            ],
            "image/png": "[encoded data removed]"
          },
          "metadata": {
            "needs_background": "light"
          }
        }
      ]
    },
    {
      "cell_type": "markdown",
      "source": [
        "Detection d'anomalies"
      ],
      "metadata": {
        "id": "P5k4aCNmxVBf"
      }
    },
    {
      "cell_type": "code",
      "source": [
        "from sklearn.metrics import classification_report,accuracy_score\n",
        "from sklearn.ensemble import IsolationForest\n",
        "from sklearn.neighbors import LocalOutlierFactor\n",
        "from sklearn.svm import OneClassSVM\n",
        "from pylab import rcParams"
      ],
      "metadata": {
        "id": "5e5DSNx9xd_c"
      },
      "execution_count": 79,
      "outputs": []
    },
    {
      "cell_type": "code",
      "source": [
        "##Define the outlier detection methods\n",
        "\n",
        "classifiers = {\n",
        "    \"Isolation Forest\":IsolationForest(n_estimators=100, \n",
        "                                       contamination=0.2, random_state=5, verbose=0),\n",
        "    \"Local Outlier Factor\":LocalOutlierFactor(n_neighbors=20, algorithm='auto', \n",
        "                                              leaf_size=30, metric='minkowski',\n",
        "                                              p=2, metric_params=None, contamination=0.2),\n",
        "    \"Support Vector Machine\":OneClassSVM(kernel='rbf', degree=3, gamma=0.1,nu=0.05, \n",
        "                                         max_iter=-1)\n",
        "   \n",
        "}"
      ],
      "metadata": {
        "id": "Algx4ErSxUqU"
      },
      "execution_count": 80,
      "outputs": []
    },
    {
      "cell_type": "code",
      "source": [
        "def multiple_non_supervised_models(X):\n",
        "  for i, (clf_name,clf) in enumerate(classifiers.items()):\n",
        "      #Fit the data and tag outliers\n",
        "      if clf_name == \"Local Outlier Factor\":\n",
        "          y_pred = clf.fit_predict(X)\n",
        "          scores_prediction = clf.negative_outlier_factor_\n",
        "      elif clf_name == \"Support Vector Machine\":\n",
        "          clf.fit(X)\n",
        "          y_pred = clf.predict(X)\n",
        "      else:    \n",
        "          clf.fit(X)\n",
        "          scores_prediction = clf.decision_function(X)\n",
        "          y_pred = clf.predict(X)\n",
        "      #Reshape the prediction values to 0 for Valid transactions , 1 for Fraud transactions\n",
        "      y_pred[y_pred == 1] = 1\n",
        "      y_pred[y_pred == -1] = 0\n",
        "      n_errors = (y_pred != target).sum()\n",
        "      # Run Classification Metrics\n",
        "      print(\"{}: {}\".format(clf_name,n_errors))\n",
        "      print(\"Accuracy Score :\")\n",
        "      print(accuracy_score(target,y_pred))\n",
        "      print(\"Classification Report :\")\n",
        "      print(classification_report(target,y_pred))"
      ],
      "metadata": {
        "id": "JtlFBc8oxiWp"
      },
      "execution_count": 85,
      "outputs": []
    },
    {
      "cell_type": "code",
      "source": [
        "multiple_non_supervised_models(X)"
      ],
      "metadata": {
        "colab": {
          "base_uri": "https://localhost:8080/"
        },
        "id": "pZ7jQKJxmTz5",
        "outputId": "76a331c9-c129-4bb9-ad76-0b1cda9335ed"
      },
      "execution_count": 86,
      "outputs": [
        {
          "output_type": "stream",
          "name": "stdout",
          "text": [
            "Isolation Forest: 1358\n",
            "Accuracy Score :\n",
            "0.661684105630294\n",
            "Classification Report :\n",
            "              precision    recall  f1-score   support\n",
            "\n",
            "           0       0.17      0.16      0.16       821\n",
            "           1       0.79      0.79      0.79      3193\n",
            "\n",
            "    accuracy                           0.66      4014\n",
            "   macro avg       0.48      0.48      0.48      4014\n",
            "weighted avg       0.66      0.66      0.66      4014\n",
            "\n",
            "Local Outlier Factor: 1322\n",
            "Accuracy Score :\n",
            "0.6706527154957648\n",
            "Classification Report :\n",
            "              precision    recall  f1-score   support\n",
            "\n",
            "           0       0.19      0.18      0.19       821\n",
            "           1       0.79      0.80      0.79      3193\n",
            "\n",
            "    accuracy                           0.67      4014\n",
            "   macro avg       0.49      0.49      0.49      4014\n",
            "weighted avg       0.67      0.67      0.67      4014\n",
            "\n",
            "Support Vector Machine: 951\n",
            "Accuracy Score :\n",
            "0.7630792227204783\n",
            "Classification Report :\n",
            "              precision    recall  f1-score   support\n",
            "\n",
            "           0       0.18      0.05      0.07       821\n",
            "           1       0.79      0.95      0.86      3193\n",
            "\n",
            "    accuracy                           0.76      4014\n",
            "   macro avg       0.49      0.50      0.47      4014\n",
            "weighted avg       0.67      0.76      0.70      4014\n",
            "\n"
          ]
        }
      ]
    },
    {
      "cell_type": "code",
      "source": [
        "from tensorflow import keras\n",
        "import random"
      ],
      "metadata": {
        "id": "WnjofM5Sh739"
      },
      "execution_count": 87,
      "outputs": []
    },
    {
      "cell_type": "code",
      "source": [
        "autoencoder = keras.models.load_model(f\"{path_files}dataset_fr/autoencoder/ae_Min_feature_extr\")"
      ],
      "metadata": {
        "id": "t64Y6Zfgh-3W"
      },
      "execution_count": 88,
      "outputs": []
    },
    {
      "cell_type": "code",
      "source": [
        "inp = keras.Input(shape=(300,))\n",
        "outp = autoencoder.layers[1](inp)\n",
        "outp = autoencoder.layers[2](outp)\n",
        "outp = autoencoder.layers[3](outp)\n",
        "encoder = keras.Model(inp, outp)"
      ],
      "metadata": {
        "id": "1H_axN1XuuJD"
      },
      "execution_count": 89,
      "outputs": []
    },
    {
      "cell_type": "code",
      "source": [
        "dataset_16_features = encoder.predict(dataset_encoded)"
      ],
      "metadata": {
        "id": "qcnlVvFnrAZj"
      },
      "execution_count": 90,
      "outputs": []
    },
    {
      "cell_type": "code",
      "source": [
        "X_ae= dataset_16_features"
      ],
      "metadata": {
        "id": "HiOxouNOrTzf"
      },
      "execution_count": 91,
      "outputs": []
    },
    {
      "cell_type": "code",
      "source": [
        "multiple_non_supervised_models(X_ae)"
      ],
      "metadata": {
        "colab": {
          "base_uri": "https://localhost:8080/"
        },
        "id": "i_KXHaApmn0E",
        "outputId": "9a2fc13e-05a2-4802-eb4d-a0b73c97f9e3"
      },
      "execution_count": 92,
      "outputs": [
        {
          "output_type": "stream",
          "name": "stdout",
          "text": [
            "Isolation Forest: 1366\n",
            "Accuracy Score :\n",
            "0.6596910812157449\n",
            "Classification Report :\n",
            "              precision    recall  f1-score   support\n",
            "\n",
            "           0       0.16      0.16      0.16       821\n",
            "           1       0.78      0.79      0.79      3193\n",
            "\n",
            "    accuracy                           0.66      4014\n",
            "   macro avg       0.47      0.47      0.47      4014\n",
            "weighted avg       0.66      0.66      0.66      4014\n",
            "\n",
            "Local Outlier Factor: 1268\n",
            "Accuracy Score :\n",
            "0.6841056302939711\n",
            "Classification Report :\n",
            "              precision    recall  f1-score   support\n",
            "\n",
            "           0       0.22      0.22      0.22       821\n",
            "           1       0.80      0.80      0.80      3193\n",
            "\n",
            "    accuracy                           0.68      4014\n",
            "   macro avg       0.51      0.51      0.51      4014\n",
            "weighted avg       0.68      0.68      0.68      4014\n",
            "\n",
            "Support Vector Machine: 968\n",
            "Accuracy Score :\n",
            "0.7588440458395616\n",
            "Classification Report :\n",
            "              precision    recall  f1-score   support\n",
            "\n",
            "           0       0.13      0.03      0.05       821\n",
            "           1       0.79      0.95      0.86      3193\n",
            "\n",
            "    accuracy                           0.76      4014\n",
            "   macro avg       0.46      0.49      0.46      4014\n",
            "weighted avg       0.66      0.76      0.70      4014\n",
            "\n"
          ]
        }
      ]
    }
  ]
}