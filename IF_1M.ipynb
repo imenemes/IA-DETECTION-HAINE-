{
  "cells": [
    {
      "cell_type": "code",
      "execution_count": null,
      "metadata": {
        "id": "y-ketQ-qCSy1"
      },
      "outputs": [],
      "source": [
        "import pandas as pd\n",
        "import numpy as np"
      ]
    },
    {
      "cell_type": "code",
      "execution_count": null,
      "metadata": {
        "colab": {
          "base_uri": "https://localhost:8080/"
        },
        "id": "NC5JlNsXb0Dl",
        "outputId": "be25f660-3954-44b1-ff25-be6503439907"
      },
      "outputs": [
        {
          "output_type": "stream",
          "name": "stdout",
          "text": [
            "Mounted at /content/drive\n"
          ]
        }
      ],
      "source": [
        "from google.colab import drive\n",
        "drive.mount('/content/drive')"
      ]
    },
    {
      "cell_type": "markdown",
      "source": [
        "### 1- **Lire les données et les stocker dans un dataframe**"
      ],
      "metadata": {
        "id": "zSaU9HA_dYCd"
      }
    },
    {
      "cell_type": "code",
      "execution_count": null,
      "metadata": {
        "id": "ZpnaHDQJoBxT"
      },
      "outputs": [],
      "source": [
        "#récupérer les tweets brut\n",
        "data_brut= '/content/drive/MyDrive/Data_M/raw_1milliontweet.txt'\n",
        "with open(data_brut, \"r\") as file:\n",
        "    lines_brut = file.readlines()\n",
        "    \n",
        "data_full = [line.split() for line in lines_brut]"
      ]
    },
    {
      "cell_type": "code",
      "execution_count": null,
      "metadata": {
        "id": "R5qyxGfMcJVl"
      },
      "outputs": [],
      "source": [
        "#récupérer les tweets nettoyés\n",
        "clean_data= '/content/drive/MyDrive/Data_M/clean_1milliontweet.txt'\n",
        "with open(clean_data, \"r\") as file:\n",
        "    lines = file.readlines()\n",
        "    \n",
        "clean_full = [line.split() for line in lines]"
      ]
    },
    {
      "cell_type": "code",
      "execution_count": null,
      "metadata": {
        "id": "fMymLS7XCjbx"
      },
      "outputs": [],
      "source": [
        "# transformer en dataframe\n",
        "data = pd.DataFrame(lines_brut, columns = ['tweet'])"
      ]
    },
    {
      "cell_type": "code",
      "execution_count": null,
      "metadata": {
        "colab": {
          "base_uri": "https://localhost:8080/"
        },
        "id": "2DS1LguqkP7E",
        "outputId": "12c35e72-1fd2-42a5-e813-b0afc4d871bb"
      },
      "outputs": [
        {
          "output_type": "execute_result",
          "data": {
            "text/plain": [
              "658132"
            ]
          },
          "metadata": {},
          "execution_count": 63
        }
      ],
      "source": [
        "len(data['tweet'])"
      ]
    },
    {
      "cell_type": "code",
      "execution_count": null,
      "metadata": {
        "colab": {
          "base_uri": "https://localhost:8080/"
        },
        "id": "F2SqXpMYkv3X",
        "outputId": "a4a29933-de35-4a3f-c4f3-a02aa43d262f"
      },
      "outputs": [
        {
          "output_type": "execute_result",
          "data": {
            "text/plain": [
              "0                                                        \\n\n",
              "1                                                       🥺\\n\n",
              "2                                                🥳🥳🥳🥳🏃‍♂️\\n\n",
              "3                                                       !\\n\n",
              "4                                                      !!\\n\n",
              "                                ...                        \n",
              "658127    【自動】→ C'est Mademoiselle Hortense qui est dans...\n",
              "658128    ⠀⠀⠀⠀⠀⠀⠀⠀⠀©! 自然⠀by 𝘃𝗼𝗴𝘂𝗲𝗽𝗹𝗲𝘂𝗿𝘀.⠀⠀⠀𝗻𝗼𝘁𝗲𝘀 1 oƒ 3 ...\n",
              "658129    花見 ✧ ৶ ⋄ 𖧧 ;〘18.11 ࿁ 09:30〙 ༘✶ ⋆｡ 𝖮𝗅𝗂𝗏𝗂𝖺’𝗌 𝖲𝗉𝖺...\n",
              "658130    金玉 : testicules soit : or + bijou/joyau (ou ba...\n",
              "658131    #魈空 #xiaoaether Zombie AU https://t.co/zb4n87C...\n",
              "Name: tweet, Length: 658132, dtype: object"
            ]
          },
          "metadata": {},
          "execution_count": 64
        }
      ],
      "source": [
        "data.tweet"
      ]
    },
    {
      "cell_type": "markdown",
      "source": [
        "Ajouter une colonne de tweets nettoyés à notre dataframe"
      ],
      "metadata": {
        "id": "gEItY1X6fCSy"
      }
    },
    {
      "cell_type": "code",
      "source": [
        "data['clean_twt']= lines"
      ],
      "metadata": {
        "id": "c84aNC2Tso7b"
      },
      "execution_count": null,
      "outputs": []
    },
    {
      "cell_type": "code",
      "source": [
        "data.head(10)"
      ],
      "metadata": {
        "id": "hEEckquK_iAo",
        "colab": {
          "base_uri": "https://localhost:8080/",
          "height": 363
        },
        "outputId": "e47e2512-7a20-42ee-b4ca-545b15667bf7"
      },
      "execution_count": null,
      "outputs": [
        {
          "output_type": "execute_result",
          "data": {
            "text/plain": [
              "                                               tweet  \\\n",
              "0                                                 \\n   \n",
              "1                                                🥺\\n   \n",
              "2                                         🥳🥳🥳🥳🏃‍♂️\\n   \n",
              "3                                                !\\n   \n",
              "4                                               !!\\n   \n",
              "5  📸ー #KUN ➥ 171121 ; INSTAGRAM Kun a posté sur s...   \n",
              "6  ⠀⠀⠀⠀ ⠀ ┄ー 𝐋𝐨𝐮𝐢𝐬𝐨𝐢𝐱 𝐋𝐞𝐯𝐞𝐢𝐥𝐥𝐞𝐮𝐫’𝐬 𝐋𝐞𝐠𝐚𝐜𝐲 ー┄⠀⠀⠀ ⠀...   \n",
              "7  📸ー #SUNGCHAN ➥ 141121 ; SNSMC Sungchan à Inkig...   \n",
              "8  📸ー #TAEYONG➥ 171121 ; INSTAGRAM Taeyong a post...   \n",
              "9  📰 ー #TEN ➥ 181121 ; SNS Ten sera sur la couver...   \n",
              "\n",
              "                                           clean_twt  \n",
              "0                                                 \\n  \n",
              "1                                                 \\n  \n",
              "2                                                 \\n  \n",
              "3                                                 \\n  \n",
              "4                                                 \\n  \n",
              "5   ー kun   instagram kun poster compte  nct   nc...  \n",
              "6        ー 𝐋𝐨𝐮𝐢𝐬𝐨𝐢𝐱 𝐋𝐞𝐯𝐞𝐢𝐥𝐥𝐞𝐮𝐫𝐬 𝐋𝐞𝐠𝐚𝐜𝐲 ー         ...  \n",
              "7   ー sungchan   snsmc sungchan inkigayo  nctsmto...  \n",
              "8   ー taeyong   instagram taeyong poster compte  ...  \n",
              "9   ー ten   sn ten couverture magazine monsieur f...  "
            ],
            "text/html": [
              "\n",
              "  <div id=\"df-9a593133-a7c4-46b9-95cc-2f334643819c\">\n",
              "    <div class=\"colab-df-container\">\n",
              "      <div>\n",
              "<style scoped>\n",
              "    .dataframe tbody tr th:only-of-type {\n",
              "        vertical-align: middle;\n",
              "    }\n",
              "\n",
              "    .dataframe tbody tr th {\n",
              "        vertical-align: top;\n",
              "    }\n",
              "\n",
              "    .dataframe thead th {\n",
              "        text-align: right;\n",
              "    }\n",
              "</style>\n",
              "<table border=\"1\" class=\"dataframe\">\n",
              "  <thead>\n",
              "    <tr style=\"text-align: right;\">\n",
              "      <th></th>\n",
              "      <th>tweet</th>\n",
              "      <th>clean_twt</th>\n",
              "    </tr>\n",
              "  </thead>\n",
              "  <tbody>\n",
              "    <tr>\n",
              "      <th>0</th>\n",
              "      <td>\\n</td>\n",
              "      <td>\\n</td>\n",
              "    </tr>\n",
              "    <tr>\n",
              "      <th>1</th>\n",
              "      <td>🥺\\n</td>\n",
              "      <td>\\n</td>\n",
              "    </tr>\n",
              "    <tr>\n",
              "      <th>2</th>\n",
              "      <td>🥳🥳🥳🥳🏃‍♂️\\n</td>\n",
              "      <td>\\n</td>\n",
              "    </tr>\n",
              "    <tr>\n",
              "      <th>3</th>\n",
              "      <td>!\\n</td>\n",
              "      <td>\\n</td>\n",
              "    </tr>\n",
              "    <tr>\n",
              "      <th>4</th>\n",
              "      <td>!!\\n</td>\n",
              "      <td>\\n</td>\n",
              "    </tr>\n",
              "    <tr>\n",
              "      <th>5</th>\n",
              "      <td>📸ー #KUN ➥ 171121 ; INSTAGRAM Kun a posté sur s...</td>\n",
              "      <td>ー kun   instagram kun poster compte  nct   nc...</td>\n",
              "    </tr>\n",
              "    <tr>\n",
              "      <th>6</th>\n",
              "      <td>⠀⠀⠀⠀ ⠀ ┄ー 𝐋𝐨𝐮𝐢𝐬𝐨𝐢𝐱 𝐋𝐞𝐯𝐞𝐢𝐥𝐥𝐞𝐮𝐫’𝐬 𝐋𝐞𝐠𝐚𝐜𝐲 ー┄⠀⠀⠀ ⠀...</td>\n",
              "      <td>ー 𝐋𝐨𝐮𝐢𝐬𝐨𝐢𝐱 𝐋𝐞𝐯𝐞𝐢𝐥𝐥𝐞𝐮𝐫𝐬 𝐋𝐞𝐠𝐚𝐜𝐲 ー         ...</td>\n",
              "    </tr>\n",
              "    <tr>\n",
              "      <th>7</th>\n",
              "      <td>📸ー #SUNGCHAN ➥ 141121 ; SNSMC Sungchan à Inkig...</td>\n",
              "      <td>ー sungchan   snsmc sungchan inkigayo  nctsmto...</td>\n",
              "    </tr>\n",
              "    <tr>\n",
              "      <th>8</th>\n",
              "      <td>📸ー #TAEYONG➥ 171121 ; INSTAGRAM Taeyong a post...</td>\n",
              "      <td>ー taeyong   instagram taeyong poster compte  ...</td>\n",
              "    </tr>\n",
              "    <tr>\n",
              "      <th>9</th>\n",
              "      <td>📰 ー #TEN ➥ 181121 ; SNS Ten sera sur la couver...</td>\n",
              "      <td>ー ten   sn ten couverture magazine monsieur f...</td>\n",
              "    </tr>\n",
              "  </tbody>\n",
              "</table>\n",
              "</div>\n",
              "      <button class=\"colab-df-convert\" onclick=\"convertToInteractive('df-9a593133-a7c4-46b9-95cc-2f334643819c')\"\n",
              "              title=\"Convert this dataframe to an interactive table.\"\n",
              "              style=\"display:none;\">\n",
              "        \n",
              "  <svg xmlns=\"http://www.w3.org/2000/svg\" height=\"24px\"viewBox=\"0 0 24 24\"\n",
              "       width=\"24px\">\n",
              "    <path d=\"M0 0h24v24H0V0z\" fill=\"none\"/>\n",
              "    <path d=\"M18.56 5.44l.94 2.06.94-2.06 2.06-.94-2.06-.94-.94-2.06-.94 2.06-2.06.94zm-11 1L8.5 8.5l.94-2.06 2.06-.94-2.06-.94L8.5 2.5l-.94 2.06-2.06.94zm10 10l.94 2.06.94-2.06 2.06-.94-2.06-.94-.94-2.06-.94 2.06-2.06.94z\"/><path d=\"M17.41 7.96l-1.37-1.37c-.4-.4-.92-.59-1.43-.59-.52 0-1.04.2-1.43.59L10.3 9.45l-7.72 7.72c-.78.78-.78 2.05 0 2.83L4 21.41c.39.39.9.59 1.41.59.51 0 1.02-.2 1.41-.59l7.78-7.78 2.81-2.81c.8-.78.8-2.07 0-2.86zM5.41 20L4 18.59l7.72-7.72 1.47 1.35L5.41 20z\"/>\n",
              "  </svg>\n",
              "      </button>\n",
              "      \n",
              "  <style>\n",
              "    .colab-df-container {\n",
              "      display:flex;\n",
              "      flex-wrap:wrap;\n",
              "      gap: 12px;\n",
              "    }\n",
              "\n",
              "    .colab-df-convert {\n",
              "      background-color: #E8F0FE;\n",
              "      border: none;\n",
              "      border-radius: 50%;\n",
              "      cursor: pointer;\n",
              "      display: none;\n",
              "      fill: #1967D2;\n",
              "      height: 32px;\n",
              "      padding: 0 0 0 0;\n",
              "      width: 32px;\n",
              "    }\n",
              "\n",
              "    .colab-df-convert:hover {\n",
              "      background-color: #E2EBFA;\n",
              "      box-shadow: 0px 1px 2px rgba(60, 64, 67, 0.3), 0px 1px 3px 1px rgba(60, 64, 67, 0.15);\n",
              "      fill: #174EA6;\n",
              "    }\n",
              "\n",
              "    [theme=dark] .colab-df-convert {\n",
              "      background-color: #3B4455;\n",
              "      fill: #D2E3FC;\n",
              "    }\n",
              "\n",
              "    [theme=dark] .colab-df-convert:hover {\n",
              "      background-color: #434B5C;\n",
              "      box-shadow: 0px 1px 3px 1px rgba(0, 0, 0, 0.15);\n",
              "      filter: drop-shadow(0px 1px 2px rgba(0, 0, 0, 0.3));\n",
              "      fill: #FFFFFF;\n",
              "    }\n",
              "  </style>\n",
              "\n",
              "      <script>\n",
              "        const buttonEl =\n",
              "          document.querySelector('#df-9a593133-a7c4-46b9-95cc-2f334643819c button.colab-df-convert');\n",
              "        buttonEl.style.display =\n",
              "          google.colab.kernel.accessAllowed ? 'block' : 'none';\n",
              "\n",
              "        async function convertToInteractive(key) {\n",
              "          const element = document.querySelector('#df-9a593133-a7c4-46b9-95cc-2f334643819c');\n",
              "          const dataTable =\n",
              "            await google.colab.kernel.invokeFunction('convertToInteractive',\n",
              "                                                     [key], {});\n",
              "          if (!dataTable) return;\n",
              "\n",
              "          const docLinkHtml = 'Like what you see? Visit the ' +\n",
              "            '<a target=\"_blank\" href=https://colab.research.google.com/notebooks/data_table.ipynb>data table notebook</a>'\n",
              "            + ' to learn more about interactive tables.';\n",
              "          element.innerHTML = '';\n",
              "          dataTable['output_type'] = 'display_data';\n",
              "          await google.colab.output.renderOutput(dataTable, element);\n",
              "          const docLink = document.createElement('div');\n",
              "          docLink.innerHTML = docLinkHtml;\n",
              "          element.appendChild(docLink);\n",
              "        }\n",
              "      </script>\n",
              "    </div>\n",
              "  </div>\n",
              "  "
            ]
          },
          "metadata": {},
          "execution_count": 74
        }
      ]
    },
    {
      "cell_type": "markdown",
      "source": [
        "### 2- **Récupérer le modèle W2VEC encodés sur notre jeu de données**"
      ],
      "metadata": {
        "id": "Oo5bEwntpUL8"
      }
    },
    {
      "cell_type": "code",
      "execution_count": null,
      "metadata": {
        "id": "vTrhLmsXc-zm"
      },
      "outputs": [],
      "source": [
        "!pip install gensim==4.0\n",
        "!pip install python-Levenshtein"
      ]
    },
    {
      "cell_type": "code",
      "execution_count": null,
      "metadata": {
        "id": "D7_sV7SbDuhQ"
      },
      "outputs": [],
      "source": [
        "from gensim.models import KeyedVectors"
      ]
    },
    {
      "cell_type": "code",
      "execution_count": null,
      "metadata": {
        "id": "I1yZQP5dJP8L"
      },
      "outputs": [],
      "source": [
        "# récupérer les embeddings entrainés sur nos données\n",
        "w2v = KeyedVectors.load('/content/drive/MyDrive/Data_M/w2vec_model_d300_1M')"
      ]
    },
    {
      "cell_type": "code",
      "execution_count": null,
      "metadata": {
        "id": "POuffGvENwVh"
      },
      "outputs": [],
      "source": [
        "#encode un message\n",
        "def encode(msg):\n",
        "    return np.mean([w2v[word] for word in msg if word in w2v] or [np.zeros(300)], axis = 0)"
      ]
    },
    {
      "cell_type": "code",
      "execution_count": null,
      "metadata": {
        "id": "QHb_AjRKQsZe",
        "colab": {
          "base_uri": "https://localhost:8080/"
        },
        "outputId": "23f04cac-0ae6-4a68-b6be-49c87a4f4b94"
      },
      "outputs": [
        {
          "output_type": "execute_result",
          "data": {
            "text/plain": [
              "[('sal', 0.6782066822052002),\n",
              " ('pvte', 0.629138708114624),\n",
              " ('mèrde', 0.6162537336349487),\n",
              " ('pute', 0.6096962094306946),\n",
              " ('pte', 0.6044666767120361),\n",
              " ('clochard', 0.6014346480369568),\n",
              " ('slp', 0.6004031896591187),\n",
              " ('crasseux', 0.5957321524620056),\n",
              " ('puent', 0.5908592939376831),\n",
              " ('daronn', 0.5900101661682129)]"
            ]
          },
          "metadata": {},
          "execution_count": 72
        }
      ],
      "source": [
        "w2v.similar_by_word(\"sale\")"
      ]
    },
    {
      "cell_type": "code",
      "execution_count": null,
      "metadata": {
        "colab": {
          "base_uri": "https://localhost:8080/"
        },
        "id": "7-WWO8SbNzow",
        "outputId": "5abf35f5-d8a0-452a-d9bb-f720525f6bb0"
      },
      "outputs": [
        {
          "output_type": "stream",
          "name": "stdout",
          "text": [
            "CPU times: user 1min 2s, sys: 6.96 s, total: 1min 9s\n",
            "Wall time: 1min 2s\n"
          ]
        }
      ],
      "source": [
        "%%time\n",
        "#encodage des données pour créer le jeu de données\n",
        "dataset_encoded = np.array([encode(msg) for msg in clean_full])"
      ]
    },
    {
      "cell_type": "markdown",
      "source": [
        "### 3- **Entrainement des données avec Isolation Forest**"
      ],
      "metadata": {
        "id": "uCG4CbmoplEf"
      }
    },
    {
      "cell_type": "code",
      "execution_count": null,
      "metadata": {
        "colab": {
          "base_uri": "https://localhost:8080/"
        },
        "id": "L0EXntvo6QhB",
        "outputId": "d1c822f3-143a-429a-cb7b-09982b8b6bb0"
      },
      "outputs": [
        {
          "output_type": "stream",
          "name": "stdout",
          "text": [
            "CPU times: user 147 ms, sys: 126 ms, total: 273 ms\n",
            "Wall time: 822 ms\n"
          ]
        }
      ],
      "source": [
        "%%time\n",
        "from sklearn.ensemble import IsolationForest\n",
        "# definir le modèle ainsi que ses paramètres\n",
        "clf=IsolationForest(n_estimators=100, max_samples='auto', \\\n",
        "                        max_features=1.0, bootstrap=False, n_jobs=-1, random_state=42, verbose=0)"
      ]
    },
    {
      "cell_type": "code",
      "source": [
        "# Entrainer le modèle\n",
        "clf.fit(dataset_encoded)"
      ],
      "metadata": {
        "colab": {
          "base_uri": "https://localhost:8080/"
        },
        "id": "g8u3CGGNn4Cc",
        "outputId": "d4fea8d0-e7ff-4e98-f300-0e70f69b57d7"
      },
      "execution_count": null,
      "outputs": [
        {
          "output_type": "execute_result",
          "data": {
            "text/plain": [
              "IsolationForest(n_jobs=-1, random_state=42)"
            ]
          },
          "metadata": {},
          "execution_count": 78
        }
      ]
    },
    {
      "cell_type": "code",
      "execution_count": null,
      "metadata": {
        "colab": {
          "base_uri": "https://localhost:8080/"
        },
        "id": "s7ryXl2tBgSF",
        "outputId": "d552de0c-28b9-47b2-d269-143057a44a19"
      },
      "outputs": [
        {
          "output_type": "stream",
          "name": "stdout",
          "text": [
            "CPU times: user 2min 5s, sys: 2.17 s, total: 2min 7s\n",
            "Wall time: 2min 8s\n"
          ]
        }
      ],
      "source": [
        "%%time\n",
        "# faire des prédictions sur nos données\n",
        "pred = clf.predict(dataset_encoded)"
      ]
    },
    {
      "cell_type": "code",
      "execution_count": null,
      "metadata": {
        "id": "196-bkDCB46a"
      },
      "outputs": [],
      "source": [
        "# rajouter une colonne dans le dataframe\n",
        "data['pred']= pred"
      ]
    },
    {
      "cell_type": "markdown",
      "source": [
        "### 4- **Localiser les tweets considérés comme outliers**"
      ],
      "metadata": {
        "id": "AqhrwF1esO_j"
      }
    },
    {
      "cell_type": "code",
      "execution_count": null,
      "metadata": {
        "colab": {
          "base_uri": "https://localhost:8080/",
          "height": 677
        },
        "id": "UBAkvlMtuBl0",
        "outputId": "ea742e28-74e9-4956-a69f-12e486f95067"
      },
      "outputs": [
        {
          "output_type": "execute_result",
          "data": {
            "text/plain": [
              "                                                tweet  \\\n",
              "0                                                  \\n   \n",
              "1                                                 🥺\\n   \n",
              "2                                          🥳🥳🥳🥳🏃‍♂️\\n   \n",
              "3                                                 !\\n   \n",
              "4                                                !!\\n   \n",
              "5   📸ー #KUN ➥ 171121 ; INSTAGRAM Kun a posté sur s...   \n",
              "6   ⠀⠀⠀⠀ ⠀ ┄ー 𝐋𝐨𝐮𝐢𝐬𝐨𝐢𝐱 𝐋𝐞𝐯𝐞𝐢𝐥𝐥𝐞𝐮𝐫’𝐬 𝐋𝐞𝐠𝐚𝐜𝐲 ー┄⠀⠀⠀ ⠀...   \n",
              "7   📸ー #SUNGCHAN ➥ 141121 ; SNSMC Sungchan à Inkig...   \n",
              "8   📸ー #TAEYONG➥ 171121 ; INSTAGRAM Taeyong a post...   \n",
              "9   📰 ー #TEN ➥ 181121 ; SNS Ten sera sur la couver...   \n",
              "10  📸ー #TEN #WINWIN ➥ 191121 ; SNSTen et Winwin po...   \n",
              "11  ¤ UPDATE WEVERSE ¤Commentaire :[#HWANWOONG]Com...   \n",
              "12        $$$$ gros chèque de paie tous les deux...\\n   \n",
              "13                            $$$$TF esse tribunal?\\n   \n",
              "14                              $$$ 2.5t market cap\\n   \n",
              "15  $$ bonus change $$ #SuperMarioMaker2 #Nintendo...   \n",
              "16                      $0.50-$0.70 range possible?\\n   \n",
              "17  $ 1000,00/seconde ! Et vous pensez qu’ils s’ar...   \n",
              "18  $100 | 1.4 jt idr | Gcash⏳24H☑️ Rt + Follow Ch...   \n",
              "19                          $11.7 million profit? 😳\\n   \n",
              "\n",
              "                                            clean_twt  pred  \n",
              "0                                                  \\n     1  \n",
              "1                                                  \\n     1  \n",
              "2                                                  \\n     1  \n",
              "3                                                  \\n     1  \n",
              "4                                                  \\n     1  \n",
              "5    ー kun   instagram kun poster compte  nct   nc...     1  \n",
              "6         ー 𝐋𝐨𝐮𝐢𝐬𝐨𝐢𝐱 𝐋𝐞𝐯𝐞𝐢𝐥𝐥𝐞𝐮𝐫𝐬 𝐋𝐞𝐠𝐚𝐜𝐲 ー         ...     1  \n",
              "7    ー sungchan   snsmc sungchan inkigayo  nctsmto...     1  \n",
              "8    ー taeyong   instagram taeyong poster compte  ...     1  \n",
              "9    ー ten   sn ten couverture magazine monsieur f...     1  \n",
              "10   ー ten winwin   snsten winwin monsieur figaro ...     1  \n",
              "11   updat wevers commentaire hwanwoongcomme sembl...     1  \n",
              "12     dollar dollar dollar dollar gros chèque paie\\n    -1  \n",
              "13      dollar dollar dollar dollar tf ess tribunal\\n    -1  \n",
              "14                 dollar dollar dollar  market cap\\n    -1  \n",
              "15   dollar bonus change  dollar supermariomaker n...    -1  \n",
              "16                                    dollar  range\\n    -1  \n",
              "17  dollar  second penser arrêter  dose  puissant ...     1  \n",
              "18  dollar    jt idr  gcash    follow change profi...     1  \n",
              "19                          dollar  million profit \\n    -1  "
            ],
            "text/html": [
              "\n",
              "  <div id=\"df-bc5b92af-008f-473a-8548-e0a3a18d8fde\">\n",
              "    <div class=\"colab-df-container\">\n",
              "      <div>\n",
              "<style scoped>\n",
              "    .dataframe tbody tr th:only-of-type {\n",
              "        vertical-align: middle;\n",
              "    }\n",
              "\n",
              "    .dataframe tbody tr th {\n",
              "        vertical-align: top;\n",
              "    }\n",
              "\n",
              "    .dataframe thead th {\n",
              "        text-align: right;\n",
              "    }\n",
              "</style>\n",
              "<table border=\"1\" class=\"dataframe\">\n",
              "  <thead>\n",
              "    <tr style=\"text-align: right;\">\n",
              "      <th></th>\n",
              "      <th>tweet</th>\n",
              "      <th>clean_twt</th>\n",
              "      <th>pred</th>\n",
              "    </tr>\n",
              "  </thead>\n",
              "  <tbody>\n",
              "    <tr>\n",
              "      <th>0</th>\n",
              "      <td>\\n</td>\n",
              "      <td>\\n</td>\n",
              "      <td>1</td>\n",
              "    </tr>\n",
              "    <tr>\n",
              "      <th>1</th>\n",
              "      <td>🥺\\n</td>\n",
              "      <td>\\n</td>\n",
              "      <td>1</td>\n",
              "    </tr>\n",
              "    <tr>\n",
              "      <th>2</th>\n",
              "      <td>🥳🥳🥳🥳🏃‍♂️\\n</td>\n",
              "      <td>\\n</td>\n",
              "      <td>1</td>\n",
              "    </tr>\n",
              "    <tr>\n",
              "      <th>3</th>\n",
              "      <td>!\\n</td>\n",
              "      <td>\\n</td>\n",
              "      <td>1</td>\n",
              "    </tr>\n",
              "    <tr>\n",
              "      <th>4</th>\n",
              "      <td>!!\\n</td>\n",
              "      <td>\\n</td>\n",
              "      <td>1</td>\n",
              "    </tr>\n",
              "    <tr>\n",
              "      <th>5</th>\n",
              "      <td>📸ー #KUN ➥ 171121 ; INSTAGRAM Kun a posté sur s...</td>\n",
              "      <td>ー kun   instagram kun poster compte  nct   nc...</td>\n",
              "      <td>1</td>\n",
              "    </tr>\n",
              "    <tr>\n",
              "      <th>6</th>\n",
              "      <td>⠀⠀⠀⠀ ⠀ ┄ー 𝐋𝐨𝐮𝐢𝐬𝐨𝐢𝐱 𝐋𝐞𝐯𝐞𝐢𝐥𝐥𝐞𝐮𝐫’𝐬 𝐋𝐞𝐠𝐚𝐜𝐲 ー┄⠀⠀⠀ ⠀...</td>\n",
              "      <td>ー 𝐋𝐨𝐮𝐢𝐬𝐨𝐢𝐱 𝐋𝐞𝐯𝐞𝐢𝐥𝐥𝐞𝐮𝐫𝐬 𝐋𝐞𝐠𝐚𝐜𝐲 ー         ...</td>\n",
              "      <td>1</td>\n",
              "    </tr>\n",
              "    <tr>\n",
              "      <th>7</th>\n",
              "      <td>📸ー #SUNGCHAN ➥ 141121 ; SNSMC Sungchan à Inkig...</td>\n",
              "      <td>ー sungchan   snsmc sungchan inkigayo  nctsmto...</td>\n",
              "      <td>1</td>\n",
              "    </tr>\n",
              "    <tr>\n",
              "      <th>8</th>\n",
              "      <td>📸ー #TAEYONG➥ 171121 ; INSTAGRAM Taeyong a post...</td>\n",
              "      <td>ー taeyong   instagram taeyong poster compte  ...</td>\n",
              "      <td>1</td>\n",
              "    </tr>\n",
              "    <tr>\n",
              "      <th>9</th>\n",
              "      <td>📰 ー #TEN ➥ 181121 ; SNS Ten sera sur la couver...</td>\n",
              "      <td>ー ten   sn ten couverture magazine monsieur f...</td>\n",
              "      <td>1</td>\n",
              "    </tr>\n",
              "    <tr>\n",
              "      <th>10</th>\n",
              "      <td>📸ー #TEN #WINWIN ➥ 191121 ; SNSTen et Winwin po...</td>\n",
              "      <td>ー ten winwin   snsten winwin monsieur figaro ...</td>\n",
              "      <td>1</td>\n",
              "    </tr>\n",
              "    <tr>\n",
              "      <th>11</th>\n",
              "      <td>¤ UPDATE WEVERSE ¤Commentaire :[#HWANWOONG]Com...</td>\n",
              "      <td>updat wevers commentaire hwanwoongcomme sembl...</td>\n",
              "      <td>1</td>\n",
              "    </tr>\n",
              "    <tr>\n",
              "      <th>12</th>\n",
              "      <td>$$$$ gros chèque de paie tous les deux...\\n</td>\n",
              "      <td>dollar dollar dollar dollar gros chèque paie\\n</td>\n",
              "      <td>-1</td>\n",
              "    </tr>\n",
              "    <tr>\n",
              "      <th>13</th>\n",
              "      <td>$$$$TF esse tribunal?\\n</td>\n",
              "      <td>dollar dollar dollar dollar tf ess tribunal\\n</td>\n",
              "      <td>-1</td>\n",
              "    </tr>\n",
              "    <tr>\n",
              "      <th>14</th>\n",
              "      <td>$$$ 2.5t market cap\\n</td>\n",
              "      <td>dollar dollar dollar  market cap\\n</td>\n",
              "      <td>-1</td>\n",
              "    </tr>\n",
              "    <tr>\n",
              "      <th>15</th>\n",
              "      <td>$$ bonus change $$ #SuperMarioMaker2 #Nintendo...</td>\n",
              "      <td>dollar bonus change  dollar supermariomaker n...</td>\n",
              "      <td>-1</td>\n",
              "    </tr>\n",
              "    <tr>\n",
              "      <th>16</th>\n",
              "      <td>$0.50-$0.70 range possible?\\n</td>\n",
              "      <td>dollar  range\\n</td>\n",
              "      <td>-1</td>\n",
              "    </tr>\n",
              "    <tr>\n",
              "      <th>17</th>\n",
              "      <td>$ 1000,00/seconde ! Et vous pensez qu’ils s’ar...</td>\n",
              "      <td>dollar  second penser arrêter  dose  puissant ...</td>\n",
              "      <td>1</td>\n",
              "    </tr>\n",
              "    <tr>\n",
              "      <th>18</th>\n",
              "      <td>$100 | 1.4 jt idr | Gcash⏳24H☑️ Rt + Follow Ch...</td>\n",
              "      <td>dollar    jt idr  gcash    follow change profi...</td>\n",
              "      <td>1</td>\n",
              "    </tr>\n",
              "    <tr>\n",
              "      <th>19</th>\n",
              "      <td>$11.7 million profit? 😳\\n</td>\n",
              "      <td>dollar  million profit \\n</td>\n",
              "      <td>-1</td>\n",
              "    </tr>\n",
              "  </tbody>\n",
              "</table>\n",
              "</div>\n",
              "      <button class=\"colab-df-convert\" onclick=\"convertToInteractive('df-bc5b92af-008f-473a-8548-e0a3a18d8fde')\"\n",
              "              title=\"Convert this dataframe to an interactive table.\"\n",
              "              style=\"display:none;\">\n",
              "        \n",
              "  <svg xmlns=\"http://www.w3.org/2000/svg\" height=\"24px\"viewBox=\"0 0 24 24\"\n",
              "       width=\"24px\">\n",
              "    <path d=\"M0 0h24v24H0V0z\" fill=\"none\"/>\n",
              "    <path d=\"M18.56 5.44l.94 2.06.94-2.06 2.06-.94-2.06-.94-.94-2.06-.94 2.06-2.06.94zm-11 1L8.5 8.5l.94-2.06 2.06-.94-2.06-.94L8.5 2.5l-.94 2.06-2.06.94zm10 10l.94 2.06.94-2.06 2.06-.94-2.06-.94-.94-2.06-.94 2.06-2.06.94z\"/><path d=\"M17.41 7.96l-1.37-1.37c-.4-.4-.92-.59-1.43-.59-.52 0-1.04.2-1.43.59L10.3 9.45l-7.72 7.72c-.78.78-.78 2.05 0 2.83L4 21.41c.39.39.9.59 1.41.59.51 0 1.02-.2 1.41-.59l7.78-7.78 2.81-2.81c.8-.78.8-2.07 0-2.86zM5.41 20L4 18.59l7.72-7.72 1.47 1.35L5.41 20z\"/>\n",
              "  </svg>\n",
              "      </button>\n",
              "      \n",
              "  <style>\n",
              "    .colab-df-container {\n",
              "      display:flex;\n",
              "      flex-wrap:wrap;\n",
              "      gap: 12px;\n",
              "    }\n",
              "\n",
              "    .colab-df-convert {\n",
              "      background-color: #E8F0FE;\n",
              "      border: none;\n",
              "      border-radius: 50%;\n",
              "      cursor: pointer;\n",
              "      display: none;\n",
              "      fill: #1967D2;\n",
              "      height: 32px;\n",
              "      padding: 0 0 0 0;\n",
              "      width: 32px;\n",
              "    }\n",
              "\n",
              "    .colab-df-convert:hover {\n",
              "      background-color: #E2EBFA;\n",
              "      box-shadow: 0px 1px 2px rgba(60, 64, 67, 0.3), 0px 1px 3px 1px rgba(60, 64, 67, 0.15);\n",
              "      fill: #174EA6;\n",
              "    }\n",
              "\n",
              "    [theme=dark] .colab-df-convert {\n",
              "      background-color: #3B4455;\n",
              "      fill: #D2E3FC;\n",
              "    }\n",
              "\n",
              "    [theme=dark] .colab-df-convert:hover {\n",
              "      background-color: #434B5C;\n",
              "      box-shadow: 0px 1px 3px 1px rgba(0, 0, 0, 0.15);\n",
              "      filter: drop-shadow(0px 1px 2px rgba(0, 0, 0, 0.3));\n",
              "      fill: #FFFFFF;\n",
              "    }\n",
              "  </style>\n",
              "\n",
              "      <script>\n",
              "        const buttonEl =\n",
              "          document.querySelector('#df-bc5b92af-008f-473a-8548-e0a3a18d8fde button.colab-df-convert');\n",
              "        buttonEl.style.display =\n",
              "          google.colab.kernel.accessAllowed ? 'block' : 'none';\n",
              "\n",
              "        async function convertToInteractive(key) {\n",
              "          const element = document.querySelector('#df-bc5b92af-008f-473a-8548-e0a3a18d8fde');\n",
              "          const dataTable =\n",
              "            await google.colab.kernel.invokeFunction('convertToInteractive',\n",
              "                                                     [key], {});\n",
              "          if (!dataTable) return;\n",
              "\n",
              "          const docLinkHtml = 'Like what you see? Visit the ' +\n",
              "            '<a target=\"_blank\" href=https://colab.research.google.com/notebooks/data_table.ipynb>data table notebook</a>'\n",
              "            + ' to learn more about interactive tables.';\n",
              "          element.innerHTML = '';\n",
              "          dataTable['output_type'] = 'display_data';\n",
              "          await google.colab.output.renderOutput(dataTable, element);\n",
              "          const docLink = document.createElement('div');\n",
              "          docLink.innerHTML = docLinkHtml;\n",
              "          element.appendChild(docLink);\n",
              "        }\n",
              "      </script>\n",
              "    </div>\n",
              "  </div>\n",
              "  "
            ]
          },
          "metadata": {},
          "execution_count": 20
        }
      ],
      "source": [
        "data.head(20)"
      ]
    },
    {
      "cell_type": "code",
      "execution_count": null,
      "metadata": {
        "colab": {
          "base_uri": "https://localhost:8080/"
        },
        "id": "B6KfbLjeuLmz",
        "outputId": "1c9b0b61-38f8-4731-c702-f51e43029103"
      },
      "outputs": [
        {
          "output_type": "execute_result",
          "data": {
            "text/plain": [
              " 1    618400\n",
              "-1     39732\n",
              "Name: pred, dtype: int64"
            ]
          },
          "metadata": {},
          "execution_count": 84
        }
      ],
      "source": [
        "#localiser les outliers dans le dataframe\n",
        "outliers=data['tweet'].loc[data['pred']==-1]\n",
        "outlier_index=list(outliers.index)\n",
        "data['pred'].value_counts()"
      ]
    },
    {
      "cell_type": "markdown",
      "source": [
        "### 5- **Visualisation des données avec PCA**"
      ],
      "metadata": {
        "id": "pAAz3lIVsXwI"
      }
    },
    {
      "cell_type": "code",
      "execution_count": null,
      "metadata": {
        "colab": {
          "base_uri": "https://localhost:8080/",
          "height": 284
        },
        "id": "TMBbLnyjuZbV",
        "outputId": "81b0e7e2-5e1a-4cfd-d4b0-a30e39cd6ab1"
      },
      "outputs": [
        {
          "output_type": "display_data",
          "data": {
            "text/plain": [
              "<Figure size 432x288 with 1 Axes>"
            ],
            "image/png": "[encoded data removed]"
          },
          "metadata": {
            "needs_background": "light"
          }
        },
        {
          "output_type": "stream",
          "name": "stdout",
          "text": [
            "CPU times: user 48.6 s, sys: 6.18 s, total: 54.8 s\n",
            "Wall time: 38 s\n"
          ]
        }
      ],
      "source": [
        "# Visulaliser les outliers 3 dimensions\n",
        "%%time\n",
        "import matplotlib.pyplot as plt\n",
        "from sklearn.decomposition import PCA\n",
        "from sklearn.preprocessing import StandardScaler\n",
        "from mpl_toolkits.mplot3d import Axes3D\n",
        "pca = PCA(n_components=3)  # Reduce to k=3 dimensions\n",
        "scaler = StandardScaler()\n",
        "#normalize the metrics\n",
        "X = scaler.fit_transform(dataset_encoded)\n",
        "X_reduce = pca.fit_transform(X)\n",
        "\n",
        "fig = plt.figure()\n",
        "figsize=(12, 12,12)\n",
        "ax = fig.add_subplot(111, projection='3d')\n",
        "ax.set_zlabel(\"x_composite_3\")\n",
        "\n",
        "# Plot the compressed data points\n",
        "ax.scatter(X_reduce[:, 0], X_reduce[:, 1], zs=X_reduce[:, 2], s=4, lw=1, label=\"inliers\",c=\"green\")\n",
        "\n",
        "# Plot x's for the ground truth outliers\n",
        "ax.scatter(X_reduce[outlier_index,0],X_reduce[outlier_index,1], X_reduce[outlier_index,2],\n",
        "           lw=2, s=60, marker=\"x\", c=\"red\", label=\"outliers\")\n",
        "ax.legend()\n",
        "plt.show()"
      ]
    },
    {
      "cell_type": "markdown",
      "source": [
        "Ayant beaucoup de données considérés comme outliers , la visualisation n'est pas vraiment informative , les données normales et anormale sur superposent sur le graphique."
      ],
      "metadata": {
        "id": "hB7X-oK5qRFd"
      }
    },
    {
      "cell_type": "code",
      "execution_count": null,
      "metadata": {
        "colab": {
          "base_uri": "https://localhost:8080/"
        },
        "id": "J32VxKHDvXfX",
        "outputId": "5453d258-0779-4759-ab93-f6913665ed0c"
      },
      "outputs": [
        {
          "output_type": "stream",
          "name": "stdout",
          "text": [
            "CPU times: user 29.7 s, sys: 3.81 s, total: 33.5 s\n",
            "Wall time: 20.4 s\n"
          ]
        }
      ],
      "source": [
        "# Visulaliser les outliers 2 dimensions\n",
        "%%time\n",
        "pca = PCA(2)\n",
        "pca.fit(dataset_encoded)\n",
        "\n",
        "\n",
        "res=pd.DataFrame(pca.transform(dataset_encoded))"
      ]
    },
    {
      "cell_type": "code",
      "source": [
        "res.head(20)"
      ],
      "metadata": {
        "colab": {
          "base_uri": "https://localhost:8080/",
          "height": 677
        },
        "id": "IGKx5Rcrq7TJ",
        "outputId": "132562a8-e8f7-46f6-8ff3-779e3dd270bc"
      },
      "execution_count": null,
      "outputs": [
        {
          "output_type": "execute_result",
          "data": {
            "text/plain": [
              "           0         1\n",
              "0  -1.235646 -0.827943\n",
              "1  -1.235646 -0.827943\n",
              "2  -1.235646 -0.827943\n",
              "3  -1.235646 -0.827943\n",
              "4  -1.235646 -0.827943\n",
              "5  -0.737662  0.246284\n",
              "6  -1.072929  0.035024\n",
              "7  -1.222140 -0.324680\n",
              "8  -0.279343 -0.119721\n",
              "9  -0.363524 -0.216607\n",
              "10 -0.423825 -0.225917\n",
              "11 -0.317823 -0.087355\n",
              "12 -0.202411 -0.075584\n",
              "13 -0.743559 -0.188275\n",
              "14 -0.742038 -0.240348\n",
              "15 -0.679309  0.115574\n",
              "16 -0.817700  0.026298\n",
              "17  0.316202 -0.360400\n",
              "18 -0.850698  0.371107\n",
              "19 -0.072205 -0.623942"
            ],
            "text/html": [
              "\n",
              "  <div id=\"df-9078caee-3c67-4714-a777-5c4ade356cd3\">\n",
              "    <div class=\"colab-df-container\">\n",
              "      <div>\n",
              "<style scoped>\n",
              "    .dataframe tbody tr th:only-of-type {\n",
              "        vertical-align: middle;\n",
              "    }\n",
              "\n",
              "    .dataframe tbody tr th {\n",
              "        vertical-align: top;\n",
              "    }\n",
              "\n",
              "    .dataframe thead th {\n",
              "        text-align: right;\n",
              "    }\n",
              "</style>\n",
              "<table border=\"1\" class=\"dataframe\">\n",
              "  <thead>\n",
              "    <tr style=\"text-align: right;\">\n",
              "      <th></th>\n",
              "      <th>0</th>\n",
              "      <th>1</th>\n",
              "    </tr>\n",
              "  </thead>\n",
              "  <tbody>\n",
              "    <tr>\n",
              "      <th>0</th>\n",
              "      <td>-1.235646</td>\n",
              "      <td>-0.827943</td>\n",
              "    </tr>\n",
              "    <tr>\n",
              "      <th>1</th>\n",
              "      <td>-1.235646</td>\n",
              "      <td>-0.827943</td>\n",
              "    </tr>\n",
              "    <tr>\n",
              "      <th>2</th>\n",
              "      <td>-1.235646</td>\n",
              "      <td>-0.827943</td>\n",
              "    </tr>\n",
              "    <tr>\n",
              "      <th>3</th>\n",
              "      <td>-1.235646</td>\n",
              "      <td>-0.827943</td>\n",
              "    </tr>\n",
              "    <tr>\n",
              "      <th>4</th>\n",
              "      <td>-1.235646</td>\n",
              "      <td>-0.827943</td>\n",
              "    </tr>\n",
              "    <tr>\n",
              "      <th>5</th>\n",
              "      <td>-0.737662</td>\n",
              "      <td>0.246284</td>\n",
              "    </tr>\n",
              "    <tr>\n",
              "      <th>6</th>\n",
              "      <td>-1.072929</td>\n",
              "      <td>0.035024</td>\n",
              "    </tr>\n",
              "    <tr>\n",
              "      <th>7</th>\n",
              "      <td>-1.222140</td>\n",
              "      <td>-0.324680</td>\n",
              "    </tr>\n",
              "    <tr>\n",
              "      <th>8</th>\n",
              "      <td>-0.279343</td>\n",
              "      <td>-0.119721</td>\n",
              "    </tr>\n",
              "    <tr>\n",
              "      <th>9</th>\n",
              "      <td>-0.363524</td>\n",
              "      <td>-0.216607</td>\n",
              "    </tr>\n",
              "    <tr>\n",
              "      <th>10</th>\n",
              "      <td>-0.423825</td>\n",
              "      <td>-0.225917</td>\n",
              "    </tr>\n",
              "    <tr>\n",
              "      <th>11</th>\n",
              "      <td>-0.317823</td>\n",
              "      <td>-0.087355</td>\n",
              "    </tr>\n",
              "    <tr>\n",
              "      <th>12</th>\n",
              "      <td>-0.202411</td>\n",
              "      <td>-0.075584</td>\n",
              "    </tr>\n",
              "    <tr>\n",
              "      <th>13</th>\n",
              "      <td>-0.743559</td>\n",
              "      <td>-0.188275</td>\n",
              "    </tr>\n",
              "    <tr>\n",
              "      <th>14</th>\n",
              "      <td>-0.742038</td>\n",
              "      <td>-0.240348</td>\n",
              "    </tr>\n",
              "    <tr>\n",
              "      <th>15</th>\n",
              "      <td>-0.679309</td>\n",
              "      <td>0.115574</td>\n",
              "    </tr>\n",
              "    <tr>\n",
              "      <th>16</th>\n",
              "      <td>-0.817700</td>\n",
              "      <td>0.026298</td>\n",
              "    </tr>\n",
              "    <tr>\n",
              "      <th>17</th>\n",
              "      <td>0.316202</td>\n",
              "      <td>-0.360400</td>\n",
              "    </tr>\n",
              "    <tr>\n",
              "      <th>18</th>\n",
              "      <td>-0.850698</td>\n",
              "      <td>0.371107</td>\n",
              "    </tr>\n",
              "    <tr>\n",
              "      <th>19</th>\n",
              "      <td>-0.072205</td>\n",
              "      <td>-0.623942</td>\n",
              "    </tr>\n",
              "  </tbody>\n",
              "</table>\n",
              "</div>\n",
              "      <button class=\"colab-df-convert\" onclick=\"convertToInteractive('df-9078caee-3c67-4714-a777-5c4ade356cd3')\"\n",
              "              title=\"Convert this dataframe to an interactive table.\"\n",
              "              style=\"display:none;\">\n",
              "        \n",
              "  <svg xmlns=\"http://www.w3.org/2000/svg\" height=\"24px\"viewBox=\"0 0 24 24\"\n",
              "       width=\"24px\">\n",
              "    <path d=\"M0 0h24v24H0V0z\" fill=\"none\"/>\n",
              "    <path d=\"M18.56 5.44l.94 2.06.94-2.06 2.06-.94-2.06-.94-.94-2.06-.94 2.06-2.06.94zm-11 1L8.5 8.5l.94-2.06 2.06-.94-2.06-.94L8.5 2.5l-.94 2.06-2.06.94zm10 10l.94 2.06.94-2.06 2.06-.94-2.06-.94-.94-2.06-.94 2.06-2.06.94z\"/><path d=\"M17.41 7.96l-1.37-1.37c-.4-.4-.92-.59-1.43-.59-.52 0-1.04.2-1.43.59L10.3 9.45l-7.72 7.72c-.78.78-.78 2.05 0 2.83L4 21.41c.39.39.9.59 1.41.59.51 0 1.02-.2 1.41-.59l7.78-7.78 2.81-2.81c.8-.78.8-2.07 0-2.86zM5.41 20L4 18.59l7.72-7.72 1.47 1.35L5.41 20z\"/>\n",
              "  </svg>\n",
              "      </button>\n",
              "      \n",
              "  <style>\n",
              "    .colab-df-container {\n",
              "      display:flex;\n",
              "      flex-wrap:wrap;\n",
              "      gap: 12px;\n",
              "    }\n",
              "\n",
              "    .colab-df-convert {\n",
              "      background-color: #E8F0FE;\n",
              "      border: none;\n",
              "      border-radius: 50%;\n",
              "      cursor: pointer;\n",
              "      display: none;\n",
              "      fill: #1967D2;\n",
              "      height: 32px;\n",
              "      padding: 0 0 0 0;\n",
              "      width: 32px;\n",
              "    }\n",
              "\n",
              "    .colab-df-convert:hover {\n",
              "      background-color: #E2EBFA;\n",
              "      box-shadow: 0px 1px 2px rgba(60, 64, 67, 0.3), 0px 1px 3px 1px rgba(60, 64, 67, 0.15);\n",
              "      fill: #174EA6;\n",
              "    }\n",
              "\n",
              "    [theme=dark] .colab-df-convert {\n",
              "      background-color: #3B4455;\n",
              "      fill: #D2E3FC;\n",
              "    }\n",
              "\n",
              "    [theme=dark] .colab-df-convert:hover {\n",
              "      background-color: #434B5C;\n",
              "      box-shadow: 0px 1px 3px 1px rgba(0, 0, 0, 0.15);\n",
              "      filter: drop-shadow(0px 1px 2px rgba(0, 0, 0, 0.3));\n",
              "      fill: #FFFFFF;\n",
              "    }\n",
              "  </style>\n",
              "\n",
              "      <script>\n",
              "        const buttonEl =\n",
              "          document.querySelector('#df-9078caee-3c67-4714-a777-5c4ade356cd3 button.colab-df-convert');\n",
              "        buttonEl.style.display =\n",
              "          google.colab.kernel.accessAllowed ? 'block' : 'none';\n",
              "\n",
              "        async function convertToInteractive(key) {\n",
              "          const element = document.querySelector('#df-9078caee-3c67-4714-a777-5c4ade356cd3');\n",
              "          const dataTable =\n",
              "            await google.colab.kernel.invokeFunction('convertToInteractive',\n",
              "                                                     [key], {});\n",
              "          if (!dataTable) return;\n",
              "\n",
              "          const docLinkHtml = 'Like what you see? Visit the ' +\n",
              "            '<a target=\"_blank\" href=https://colab.research.google.com/notebooks/data_table.ipynb>data table notebook</a>'\n",
              "            + ' to learn more about interactive tables.';\n",
              "          element.innerHTML = '';\n",
              "          dataTable['output_type'] = 'display_data';\n",
              "          await google.colab.output.renderOutput(dataTable, element);\n",
              "          const docLink = document.createElement('div');\n",
              "          docLink.innerHTML = docLinkHtml;\n",
              "          element.appendChild(docLink);\n",
              "        }\n",
              "      </script>\n",
              "    </div>\n",
              "  </div>\n",
              "  "
            ]
          },
          "metadata": {},
          "execution_count": 88
        }
      ]
    },
    {
      "cell_type": "code",
      "source": [
        "Z = np.array(res)\n",
        "plt.figure(figsize=(12, 7))\n",
        "plt.title(\"IsolationForest\")\n",
        "plt.contourf( Z, cmap=plt.cm.Blues_r)\n",
        "b1 = plt.scatter(res[0], res[1], c='blue',\n",
        "                 s=40,label=\"normal points\")\n",
        "\n",
        "b1 = plt.scatter(res.iloc[outlier_index,0],res.iloc[outlier_index,1], c='red',\n",
        "                 s=40,  edgecolor=\"red\",label=\"predicted outliers\")\n",
        "plt.legend(loc=\"upper right\")\n",
        "plt.show()"
      ],
      "metadata": {
        "colab": {
          "base_uri": "https://localhost:8080/",
          "height": 444
        },
        "id": "klVbjUDyrUY9",
        "outputId": "570fd39d-ca7c-4033-ab5f-a5dfce1fb9ab"
      },
      "execution_count": null,
      "outputs": [
        {
          "output_type": "display_data",
          "data": {
            "text/plain": [
              "<Figure size 864x504 with 1 Axes>"
            ],
            "image/png": "[encoded data removed]"
          },
          "metadata": {
            "needs_background": "light"
          }
        }
      ]
    },
    {
      "cell_type": "markdown",
      "source": [
        "### 6- **Enregistrer les tweets considérés comme outliers**"
      ],
      "metadata": {
        "id": "yRdfh1IEsjXz"
      }
    },
    {
      "cell_type": "code",
      "execution_count": null,
      "metadata": {
        "colab": {
          "base_uri": "https://localhost:8080/"
        },
        "id": "AEEfH33PwLt8",
        "outputId": "dfb6dde6-8e53-4260-aac4-4515753d39b1"
      },
      "outputs": [
        {
          "output_type": "execute_result",
          "data": {
            "text/plain": [
              "12          $$$$ gros chèque de paie tous les deux...\\n\n",
              "13                              $$$$TF esse tribunal?\\n\n",
              "14                                $$$ 2.5t market cap\\n\n",
              "15    $$ bonus change $$ #SuperMarioMaker2 #Nintendo...\n",
              "16                        $0.50-$0.70 range possible?\\n\n",
              "Name: tweet, dtype: object"
            ]
          },
          "metadata": {},
          "execution_count": 90
        }
      ],
      "source": [
        "outliers.head()"
      ]
    },
    {
      "cell_type": "markdown",
      "metadata": {
        "id": "Wxf14SFcf_Ss"
      },
      "source": [
        "On remarque que les outliers sont des tweets  contenant les mots dollars , des mots en coréen"
      ]
    },
    {
      "cell_type": "markdown",
      "source": [
        ""
      ],
      "metadata": {
        "id": "beJ2QsAjsHnk"
      }
    },
    {
      "cell_type": "code",
      "source": [
        "outliers.to_pickle('/content/drive/MyDrive/Data_M/outliers_IF_1M.txt')"
      ],
      "metadata": {
        "id": "31zsVAeZr46u"
      },
      "execution_count": null,
      "outputs": []
    },
    {
      "cell_type": "code",
      "execution_count": null,
      "metadata": {
        "id": "q-PiwgPyxRXe"
      },
      "outputs": [],
      "source": [
        "with open(\"outliers.txt\", 'w') as f:\n",
        "  for line in outliers:\n",
        "    f.write(line)"
      ]
    }
  ],
  "metadata": {
    "colab": {
      "name": "IF_1M.ipynb",
      "provenance": [],
      "collapsed_sections": [],
      "authorship_tag": "ABX9TyNYsq6N6IgRgqMi9MUBGEoa"
    },
    "kernelspec": {
      "display_name": "Python 3",
      "name": "python3"
    },
    "language_info": {
      "name": "python"
    }
  },
  "nbformat": 4,
  "nbformat_minor": 0
}