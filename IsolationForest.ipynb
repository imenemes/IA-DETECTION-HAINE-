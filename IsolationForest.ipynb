{
  "cells": [
    {
      "cell_type": "code",
      "execution_count": null,
      "metadata": {
        "id": "y-ketQ-qCSy1"
      },
      "outputs": [],
      "source": [
        "import pandas as pd"
      ]
    },
    {
      "cell_type": "code",
      "execution_count": null,
      "metadata": {
        "colab": {
          "base_uri": "https://localhost:8080/"
        },
        "id": "NC5JlNsXb0Dl",
        "outputId": "350b1911-2b43-44d9-e478-83dbe2b4c390"
      },
      "outputs": [
        {
          "name": "stdout",
          "output_type": "stream",
          "text": [
            "Mounted at /content/drive\n"
          ]
        }
      ],
      "source": [
        "from google.colab import drive\n",
        "drive.mount('/content/drive')"
      ]
    },
    {
      "cell_type": "code",
      "execution_count": null,
      "metadata": {
        "id": "R5qyxGfMcJVl"
      },
      "outputs": [],
      "source": [
        "#récupérer les tweets nettoyés\n",
        "clean_data= '/content/drive/MyDrive/Colab Notebooks/clean_1milliontweet.txt'\n",
        "with open(clean_data, \"r\") as file:\n",
        "    lines = file.readlines()\n",
        "    \n",
        "clean_full = [line.split() for line in lines]"
      ]
    },
    {
      "cell_type": "code",
      "execution_count": null,
      "metadata": {
        "id": "fMymLS7XCjbx"
      },
      "outputs": [],
      "source": [
        "# transformer en dataframe\n",
        "data = pd.DataFrame(lines, columns = ['tweet'])"
      ]
    },
    {
      "cell_type": "code",
      "execution_count": null,
      "metadata": {
        "colab": {
          "base_uri": "https://localhost:8080/"
        },
        "id": "2DS1LguqkP7E",
        "outputId": "16ff3499-c95c-4560-f188-daa62fe58907"
      },
      "outputs": [
        {
          "name": "stdout",
          "output_type": "stream",
          "text": [
            "658132\n"
          ]
        }
      ],
      "source": [
        "print(len(data['tweet']))"
      ]
    },
    {
      "cell_type": "code",
      "execution_count": null,
      "metadata": {
        "colab": {
          "base_uri": "https://localhost:8080/"
        },
        "id": "F2SqXpMYkv3X",
        "outputId": "c3bc4522-3f63-446a-a942-0232c1d47b82"
      },
      "outputs": [
        {
          "name": "stdout",
          "output_type": "stream",
          "text": [
            "0                                                        \\n\n",
            "1                                                        \\n\n",
            "2                                                        \\n\n",
            "3                                                        \\n\n",
            "4                                                        \\n\n",
            "                                ...                        \n",
            "658127               自動 mademoiselle hortense bras gauche\\n\n",
            "658128              自然  by 𝘃𝗼𝗴𝘂𝗲𝗽𝗹𝗲𝘂𝗿𝘀    𝗻𝗼𝘁𝗲𝘀  oƒ  𝖮𝗇𝗅...\n",
            "658129    花見  ৶  𖧧       𝖮𝗅𝗂𝗏𝗂𝖺𝗌 𝖲𝗉𝖺𝖼𝖾 𖤐 new updat  vía ...\n",
            "658130                   金玉 testicule bijou joyau balle  \\n\n",
            "658131                               魈空 xiaoaether zombie\\n\n",
            "Name: tweet, Length: 658132, dtype: object\n"
          ]
        }
      ],
      "source": [
        "print(data.tweet)"
      ]
    },
    {
      "cell_type": "code",
      "execution_count": null,
      "metadata": {
        "id": "vTrhLmsXc-zm"
      },
      "outputs": [],
      "source": [
        "!pip install gensim==4.0"
      ]
    },
    {
      "cell_type": "code",
      "execution_count": null,
      "metadata": {
        "colab": {
          "base_uri": "https://localhost:8080/"
        },
        "id": "D7_sV7SbDuhQ",
        "outputId": "70dec027-b695-4a26-f1f4-4b4c75fad5bf"
      },
      "outputs": [
        {
          "name": "stderr",
          "output_type": "stream",
          "text": [
            "/usr/local/lib/python3.7/dist-packages/gensim/similarities/__init__.py:15: UserWarning: The gensim.similarities.levenshtein submodule is disabled, because the optional Levenshtein package <https://pypi.org/project/python-Levenshtein/> is unavailable. Install Levenhstein (e.g. `pip install python-Levenshtein`) to suppress this warning.\n",
            "  warnings.warn(msg)\n"
          ]
        }
      ],
      "source": [
        "from gensim.models import KeyedVectors"
      ]
    },
    {
      "cell_type": "code",
      "execution_count": null,
      "metadata": {
        "id": "I1yZQP5dJP8L"
      },
      "outputs": [],
      "source": [
        "# récupérer les embeddings entrainés sur nos données\n",
        "w2v = KeyedVectors.load('/content/drive/MyDrive/Colab Notebooks/w2vec_model_d300_1M')"
      ]
    },
    {
      "cell_type": "code",
      "execution_count": null,
      "metadata": {
        "id": "z8b5pRSDN6eb"
      },
      "outputs": [],
      "source": [
        "import numpy as np"
      ]
    },
    {
      "cell_type": "code",
      "execution_count": null,
      "metadata": {
        "id": "POuffGvENwVh"
      },
      "outputs": [],
      "source": [
        "#encode un message\n",
        "def encode(msg):\n",
        "    return np.mean([w2v[word] for word in msg if word in w2v] or [np.zeros(300)], axis = 0)"
      ]
    },
    {
      "cell_type": "code",
      "execution_count": null,
      "metadata": {
        "colab": {
          "base_uri": "https://localhost:8080/"
        },
        "id": "QHb_AjRKQsZe",
        "outputId": "79eff64b-409d-4782-e9f1-6524b1cc7901"
      },
      "outputs": [
        {
          "data": {
            "text/plain": [
              "[('sal', 0.6782066822052002),\n",
              " ('pvte', 0.629138708114624),\n",
              " ('mèrde', 0.6162537336349487),\n",
              " ('pute', 0.6096962094306946),\n",
              " ('pte', 0.6044666767120361),\n",
              " ('clochard', 0.6014346480369568),\n",
              " ('slp', 0.6004031896591187),\n",
              " ('crasseux', 0.5957321524620056),\n",
              " ('puent', 0.5908592939376831),\n",
              " ('daronn', 0.5900101661682129)]"
            ]
          },
          "execution_count": 17,
          "metadata": {},
          "output_type": "execute_result"
        }
      ],
      "source": [
        "w2v.similar_by_word(\"sale\")"
      ]
    },
    {
      "cell_type": "code",
      "execution_count": null,
      "metadata": {
        "colab": {
          "base_uri": "https://localhost:8080/"
        },
        "id": "7-WWO8SbNzow",
        "outputId": "0dc3f20f-e29c-42f0-84b6-9f7424e60d6d"
      },
      "outputs": [
        {
          "name": "stdout",
          "output_type": "stream",
          "text": [
            "CPU times: user 25.9 s, sys: 1.64 s, total: 27.6 s\n",
            "Wall time: 27.4 s\n"
          ]
        }
      ],
      "source": [
        "%%time\n",
        "#encodage des données pour créer le jeu de données\n",
        "dataset_encoded = np.array([encode(msg) for msg in clean_full])"
      ]
    },
    {
      "cell_type": "code",
      "execution_count": null,
      "metadata": {
        "colab": {
          "background_save": true
        },
        "id": "L0EXntvo6QhB",
        "outputId": "f87690ff-ce41-46bc-95de-1a89c5b166f6"
      },
      "outputs": [
        {
          "name": "stdout",
          "output_type": "stream",
          "text": [
            "CPU times: user 7min 30s, sys: 9.22 s, total: 7min 39s\n",
            "Wall time: 4min 2s\n"
          ]
        }
      ],
      "source": [
        "%%time\n",
        "from sklearn.ensemble import IsolationForest\n",
        "# definir le modèle ainsi que ses paramètres\n",
        "clf=IsolationForest(n_estimators=100, max_samples='auto', \\\n",
        "                        max_features=1.0, bootstrap=False, n_jobs=-1, random_state=42, verbose=0)\n",
        "# Entrainer le modèle\n",
        "clf.fit(dataset_encoded)"
      ]
    },
    {
      "cell_type": "code",
      "execution_count": null,
      "metadata": {
        "colab": {
          "base_uri": "https://localhost:8080/"
        },
        "id": "s7ryXl2tBgSF",
        "outputId": "08a23d5a-76ce-4cbf-dc25-ca2450fce449"
      },
      "outputs": [
        {
          "output_type": "stream",
          "name": "stdout",
          "text": [
            "CPU times: user 1min 59s, sys: 7.38 s, total: 2min 6s\n",
            "Wall time: 2min 8s\n"
          ]
        }
      ],
      "source": [
        "%%time\n",
        "# faire des prédictions sur nos données\n",
        "pred = clf.predict(dataset_encoded)"
      ]
    },
    {
      "cell_type": "code",
      "execution_count": null,
      "metadata": {
        "id": "196-bkDCB46a"
      },
      "outputs": [],
      "source": [
        "# rajouter une colonne dans le dataframe\n",
        "data['pred']= pred"
      ]
    },
    {
      "cell_type": "code",
      "execution_count": null,
      "metadata": {
        "colab": {
          "base_uri": "https://localhost:8080/"
        },
        "id": "UBAkvlMtuBl0",
        "outputId": "512c158e-d570-4411-c4fd-2c710c4b569c"
      },
      "outputs": [
        {
          "output_type": "stream",
          "name": "stdout",
          "text": [
            "                                                tweet  pred\n",
            "0                                                  \\n     1\n",
            "1                                                  \\n     1\n",
            "2                                                  \\n     1\n",
            "3                                                  \\n     1\n",
            "4                                                  \\n     1\n",
            "5    ー kun   instagram kun poster compte  nct   nc...     1\n",
            "6         ー 𝐋𝐨𝐮𝐢𝐬𝐨𝐢𝐱 𝐋𝐞𝐯𝐞𝐢𝐥𝐥𝐞𝐮𝐫𝐬 𝐋𝐞𝐠𝐚𝐜𝐲 ー         ...     1\n",
            "7    ー sungchan   snsmc sungchan inkigayo  nctsmto...     1\n",
            "8    ー taeyong   instagram taeyong poster compte  ...     1\n",
            "9    ー ten   sn ten couverture magazine monsieur f...     1\n",
            "10   ー ten winwin   snsten winwin monsieur figaro ...     1\n",
            "11   updat wevers commentaire hwanwoongcomme sembl...     1\n",
            "12     dollar dollar dollar dollar gros chèque paie\\n    -1\n",
            "13      dollar dollar dollar dollar tf ess tribunal\\n    -1\n",
            "14                 dollar dollar dollar  market cap\\n    -1\n",
            "15   dollar bonus change  dollar supermariomaker n...    -1\n",
            "16                                    dollar  range\\n    -1\n",
            "17  dollar  second penser arrêter  dose  puissant ...     1\n",
            "18  dollar    jt idr  gcash    follow change profi...     1\n",
            "19                          dollar  million profit \\n    -1\n"
          ]
        }
      ],
      "source": [
        "print(data.head(20))"
      ]
    },
    {
      "cell_type": "code",
      "execution_count": null,
      "metadata": {
        "colab": {
          "base_uri": "https://localhost:8080/"
        },
        "id": "B6KfbLjeuLmz",
        "outputId": "33953edd-5ac0-49ce-dfa2-307a79e373ae"
      },
      "outputs": [
        {
          "output_type": "stream",
          "name": "stdout",
          "text": [
            " 1    618400\n",
            "-1     39732\n",
            "Name: pred, dtype: int64\n"
          ]
        }
      ],
      "source": [
        "#localiser les outliers dans le dataframe\n",
        "outliers=data.loc[data['pred']==-1]\n",
        "outlier_index=list(outliers.index)\n",
        "print(data['pred'].value_counts())"
      ]
    },
    {
      "cell_type": "code",
      "execution_count": null,
      "metadata": {
        "colab": {
          "base_uri": "https://localhost:8080/",
          "height": 284
        },
        "id": "TMBbLnyjuZbV",
        "outputId": "e59aa931-29cd-451a-a17f-c2f6bc36562c"
      },
      "outputs": [
        {
          "output_type": "display_data",
          "data": {
            "text/plain": [
              "<Figure size 432x288 with 1 Axes>"
            ],
            "image/png": "[encoded data removed]"
          },
          "metadata": {
            "needs_background": "light"
          }
        },
        {
          "output_type": "stream",
          "name": "stdout",
          "text": [
            "CPU times: user 43.5 s, sys: 8.28 s, total: 51.8 s\n",
            "Wall time: 38.2 s\n"
          ]
        }
      ],
      "source": [
        "# Visulaliser les outliers 3 dimensions\n",
        "%%time\n",
        "import matplotlib.pyplot as plt\n",
        "from sklearn.decomposition import PCA\n",
        "from sklearn.preprocessing import StandardScaler\n",
        "from mpl_toolkits.mplot3d import Axes3D\n",
        "pca = PCA(n_components=3)  # Reduce to k=3 dimensions\n",
        "scaler = StandardScaler()\n",
        "#normalize the metrics\n",
        "X = scaler.fit_transform(dataset_encoded)\n",
        "X_reduce = pca.fit_transform(X)\n",
        "\n",
        "fig = plt.figure()\n",
        "ax = fig.add_subplot(111, projection='3d')\n",
        "ax.set_zlabel(\"x_composite_3\")\n",
        "\n",
        "# Plot the compressed data points\n",
        "ax.scatter(X_reduce[:, 0], X_reduce[:, 1], zs=X_reduce[:, 2], s=4, lw=1, label=\"inliers\",c=\"green\")\n",
        "\n",
        "# Plot x's for the ground truth outliers\n",
        "ax.scatter(X_reduce[outlier_index,0],X_reduce[outlier_index,1], X_reduce[outlier_index,2],\n",
        "           lw=2, s=60, marker=\"x\", c=\"red\", label=\"outliers\")\n",
        "ax.legend()\n",
        "plt.show()"
      ]
    },
    {
      "cell_type": "code",
      "execution_count": null,
      "metadata": {
        "colab": {
          "base_uri": "https://localhost:8080/",
          "height": 480
        },
        "id": "J32VxKHDvXfX",
        "outputId": "e9e0d210-d788-42ca-eb23-e78cad329398"
      },
      "outputs": [
        {
          "output_type": "display_data",
          "data": {
            "text/plain": [
              "<Figure size 864x504 with 1 Axes>"
            ],
            "image/png": "[encoded data removed]"
          },
          "metadata": {
            "needs_background": "light"
          }
        },
        {
          "output_type": "stream",
          "name": "stdout",
          "text": [
            "CPU times: user 30.8 s, sys: 4.34 s, total: 35.2 s\n",
            "Wall time: 29.7 s\n"
          ]
        }
      ],
      "source": [
        "# Visulaliser les outliers 2 dimensions\n",
        "%%time\n",
        "pca = PCA(2)\n",
        "pca.fit(dataset_encoded)\n",
        "\n",
        "\n",
        "res=pd.DataFrame(pca.transform(dataset_encoded))\n",
        "\n",
        "Z = np.array(res)\n",
        "figsize=(12, 7)\n",
        "plt.figure(figsize=figsize)\n",
        "plt.title(\"IsolationForest\")\n",
        "plt.contourf( Z, cmap=plt.cm.Blues_r)\n",
        "\n",
        "b1 = plt.scatter(res[0], res[1], c='blue',\n",
        "                 s=40,label=\"normal points\")\n",
        "\n",
        "b1 = plt.scatter(res.iloc[outlier_index,0],res.iloc[outlier_index,1], c='red',\n",
        "                 s=40,  edgecolor=\"red\",label=\"predicted outliers\")\n",
        "plt.legend(loc=\"upper right\")\n",
        "plt.show()"
      ]
    },
    {
      "cell_type": "code",
      "execution_count": null,
      "metadata": {
        "colab": {
          "base_uri": "https://localhost:8080/"
        },
        "id": "AEEfH33PwLt8",
        "outputId": "668b70c2-0dfd-401e-eb28-402019ca2730"
      },
      "outputs": [
        {
          "name": "stdout",
          "output_type": "stream",
          "text": [
            "<bound method NDFrame.head of                                                     tweet  pred\n",
            "12         dollar dollar dollar dollar gros chèque paie\\n    -1\n",
            "13          dollar dollar dollar dollar tf ess tribunal\\n    -1\n",
            "14                     dollar dollar dollar  market cap\\n    -1\n",
            "15       dollar bonus change  dollar supermariomaker n...    -1\n",
            "16                                        dollar  range\\n    -1\n",
            "...                                                   ...   ...\n",
            "657976     일탈 섹트 조건만남 조건 ㅈㄱ 광주조건 광주만남 섹트 일탈 전남 광주 jcbdo\\n    -1\n",
            "657984   일탈 섹트 조건만남 조건 ㅈㄱ 광주조건 광주만남 섹트 일탈 전남 광주 mettgvo\\n    -1\n",
            "657985  일탈 섹트 조건만남 조건 ㅈㄱ 광주조건 광주만남 섹트 일탈 전남 광주 mdjmyfp...    -1\n",
            "657988     일탈 섹트 조건만남 조건 ㅈㄱ 광주조건 광주만남 섹트 일탈 전남 광주 oyhlu\\n    -1\n",
            "658067                                ㅡjikook one tweet\\n    -1\n",
            "\n",
            "[39732 rows x 2 columns]>\n"
          ]
        }
      ],
      "source": [
        "print(outliers.head)"
      ]
    },
    {
      "cell_type": "markdown",
      "source": [
        "On remarque que les outliers sont des tweets  contenant les mots dollars , des mots en coréen"
      ],
      "metadata": {
        "id": "Wxf14SFcf_Ss"
      }
    },
    {
      "cell_type": "code",
      "execution_count": null,
      "metadata": {
        "id": "q-PiwgPyxRXe"
      },
      "outputs": [],
      "source": [
        "with open(\"outliers.txt\", 'a') as f:\n",
        "    dfAsString = outliers.to_string(header=False, index=False)\n",
        "    f.write(dfAsString)"
      ]
    }
  ],
  "metadata": {
    "colab": {
      "name": "IsolationForest.ipynb",
      "provenance": [],
      "authorship_tag": "ABX9TyN4J78wSfniiWZvnkRuPssl"
    },
    "kernelspec": {
      "display_name": "Python 3",
      "name": "python3"
    },
    "language_info": {
      "name": "python"
    }
  },
  "nbformat": 4,
  "nbformat_minor": 0
}