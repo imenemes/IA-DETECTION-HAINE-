{
  "nbformat": 4,
  "nbformat_minor": 0,
  "metadata": {
    "colab": {
      "name": "dataset_final_bert.ipynb",
      "provenance": [],
      "authorship_tag": "ABX9TyNTXoFNI4K2E77RBwrdsxmd"
    },
    "kernelspec": {
      "name": "python3",
      "display_name": "Python 3"
    },
    "language_info": {
      "name": "python"
    }
  },
  "cells": [
    {
      "cell_type": "code",
      "execution_count": null,
      "metadata": {
        "id": "sBAVaH1UBHXv"
      },
      "outputs": [],
      "source": [
        "import pandas as pd\n",
        "import glob\n",
        "import numpy as np"
      ]
    },
    {
      "cell_type": "code",
      "source": [
        "from sklearn.pipeline import Pipeline\n",
        "from sklearn.ensemble import HistGradientBoostingClassifier\n",
        "from sklearn.model_selection import GridSearchCV\n",
        "from sklearn.model_selection import cross_validate\n",
        "from sklearn.preprocessing import MinMaxScaler\n",
        "from sklearn.linear_model import LogisticRegression\n",
        "from sklearn.model_selection import train_test_split\n",
        "from sklearn.model_selection import cross_val_predict\n",
        "from sklearn.metrics import confusion_matrix\n",
        "import matplotlib.pyplot as plt\n",
        "import seaborn as sns"
      ],
      "metadata": {
        "id": "A9aeHgMGoRaw"
      },
      "execution_count": null,
      "outputs": []
    },
    {
      "cell_type": "code",
      "source": [
        "from google.colab import drive\n",
        "drive.mount('/content/drive')"
      ],
      "metadata": {
        "colab": {
          "base_uri": "https://localhost:8080/"
        },
        "id": "eJZ6V8NGBI7B",
        "outputId": "c5f2aab6-2f64-46c2-f95c-4a07bf33e21e"
      },
      "execution_count": null,
      "outputs": [
        {
          "output_type": "stream",
          "name": "stdout",
          "text": [
            "Mounted at /content/drive\n"
          ]
        }
      ]
    },
    {
      "cell_type": "code",
      "source": [
        "path_files = r\"/content/drive/MyDrive/Data_M/\""
      ],
      "metadata": {
        "id": "5bK_XzqVBb36"
      },
      "execution_count": null,
      "outputs": []
    },
    {
      "cell_type": "code",
      "execution_count": null,
      "metadata": {
        "id": "ooERHaMT9_zv"
      },
      "outputs": [],
      "source": [
        "data_hate = pd.read_pickle(f\"{path_files}dataset_final.pkl\")"
      ]
    },
    {
      "cell_type": "code",
      "execution_count": null,
      "metadata": {
        "id": "XeKVcJyqwMt0",
        "colab": {
          "base_uri": "https://localhost:8080/",
          "height": 363
        },
        "outputId": "815bb0c4-335c-4ee1-d5d4-1a27dbaba356"
      },
      "outputs": [
        {
          "output_type": "execute_result",
          "data": {
            "text/plain": [
              "                                               tweet  lenght  labels\n",
              "0                                      J'adore !! 👍👍      13       0\n",
              "1        😂 donc disons tout seulement t'es un skynni      43       0\n",
              "2  Ah non, la violence de ce comeback..Il attenda...     180       1\n",
              "3                  Ville/Village : LEPETIT-PRESSIGNY      33       1\n",
              "4  Encore une nuit sans dormir et je finis à 18h ...      58       1\n",
              "5  Je regarde ses video en 1.75 ... T'es juste tr...     110       1\n",
              "6  Nous jeunesse africaine très consciente, avons...     255       0\n",
              "7  C'est la vie . Mais ce n'est pas la fin , et p...      75       0\n",
              "8  #The_dream_of_Mars#elon_musk#doge#elon#mars#do...     197       1\n",
              "9  Merde n’a pas aimé ma réflexion…😂 https://t.co...      81       0"
            ],
            "text/html": [
              "\n",
              "  <div id=\"df-5ec2db88-d422-4ae8-a00d-ea34ed3bf9a5\">\n",
              "    <div class=\"colab-df-container\">\n",
              "      <div>\n",
              "<style scoped>\n",
              "    .dataframe tbody tr th:only-of-type {\n",
              "        vertical-align: middle;\n",
              "    }\n",
              "\n",
              "    .dataframe tbody tr th {\n",
              "        vertical-align: top;\n",
              "    }\n",
              "\n",
              "    .dataframe thead th {\n",
              "        text-align: right;\n",
              "    }\n",
              "</style>\n",
              "<table border=\"1\" class=\"dataframe\">\n",
              "  <thead>\n",
              "    <tr style=\"text-align: right;\">\n",
              "      <th></th>\n",
              "      <th>tweet</th>\n",
              "      <th>lenght</th>\n",
              "      <th>labels</th>\n",
              "    </tr>\n",
              "  </thead>\n",
              "  <tbody>\n",
              "    <tr>\n",
              "      <th>0</th>\n",
              "      <td>J'adore !! 👍👍</td>\n",
              "      <td>13</td>\n",
              "      <td>0</td>\n",
              "    </tr>\n",
              "    <tr>\n",
              "      <th>1</th>\n",
              "      <td>😂 donc disons tout seulement t'es un skynni</td>\n",
              "      <td>43</td>\n",
              "      <td>0</td>\n",
              "    </tr>\n",
              "    <tr>\n",
              "      <th>2</th>\n",
              "      <td>Ah non, la violence de ce comeback..Il attenda...</td>\n",
              "      <td>180</td>\n",
              "      <td>1</td>\n",
              "    </tr>\n",
              "    <tr>\n",
              "      <th>3</th>\n",
              "      <td>Ville/Village : LEPETIT-PRESSIGNY</td>\n",
              "      <td>33</td>\n",
              "      <td>1</td>\n",
              "    </tr>\n",
              "    <tr>\n",
              "      <th>4</th>\n",
              "      <td>Encore une nuit sans dormir et je finis à 18h ...</td>\n",
              "      <td>58</td>\n",
              "      <td>1</td>\n",
              "    </tr>\n",
              "    <tr>\n",
              "      <th>5</th>\n",
              "      <td>Je regarde ses video en 1.75 ... T'es juste tr...</td>\n",
              "      <td>110</td>\n",
              "      <td>1</td>\n",
              "    </tr>\n",
              "    <tr>\n",
              "      <th>6</th>\n",
              "      <td>Nous jeunesse africaine très consciente, avons...</td>\n",
              "      <td>255</td>\n",
              "      <td>0</td>\n",
              "    </tr>\n",
              "    <tr>\n",
              "      <th>7</th>\n",
              "      <td>C'est la vie . Mais ce n'est pas la fin , et p...</td>\n",
              "      <td>75</td>\n",
              "      <td>0</td>\n",
              "    </tr>\n",
              "    <tr>\n",
              "      <th>8</th>\n",
              "      <td>#The_dream_of_Mars#elon_musk#doge#elon#mars#do...</td>\n",
              "      <td>197</td>\n",
              "      <td>1</td>\n",
              "    </tr>\n",
              "    <tr>\n",
              "      <th>9</th>\n",
              "      <td>Merde n’a pas aimé ma réflexion…😂 https://t.co...</td>\n",
              "      <td>81</td>\n",
              "      <td>0</td>\n",
              "    </tr>\n",
              "  </tbody>\n",
              "</table>\n",
              "</div>\n",
              "      <button class=\"colab-df-convert\" onclick=\"convertToInteractive('df-5ec2db88-d422-4ae8-a00d-ea34ed3bf9a5')\"\n",
              "              title=\"Convert this dataframe to an interactive table.\"\n",
              "              style=\"display:none;\">\n",
              "        \n",
              "  <svg xmlns=\"http://www.w3.org/2000/svg\" height=\"24px\"viewBox=\"0 0 24 24\"\n",
              "       width=\"24px\">\n",
              "    <path d=\"M0 0h24v24H0V0z\" fill=\"none\"/>\n",
              "    <path d=\"M18.56 5.44l.94 2.06.94-2.06 2.06-.94-2.06-.94-.94-2.06-.94 2.06-2.06.94zm-11 1L8.5 8.5l.94-2.06 2.06-.94-2.06-.94L8.5 2.5l-.94 2.06-2.06.94zm10 10l.94 2.06.94-2.06 2.06-.94-2.06-.94-.94-2.06-.94 2.06-2.06.94z\"/><path d=\"M17.41 7.96l-1.37-1.37c-.4-.4-.92-.59-1.43-.59-.52 0-1.04.2-1.43.59L10.3 9.45l-7.72 7.72c-.78.78-.78 2.05 0 2.83L4 21.41c.39.39.9.59 1.41.59.51 0 1.02-.2 1.41-.59l7.78-7.78 2.81-2.81c.8-.78.8-2.07 0-2.86zM5.41 20L4 18.59l7.72-7.72 1.47 1.35L5.41 20z\"/>\n",
              "  </svg>\n",
              "      </button>\n",
              "      \n",
              "  <style>\n",
              "    .colab-df-container {\n",
              "      display:flex;\n",
              "      flex-wrap:wrap;\n",
              "      gap: 12px;\n",
              "    }\n",
              "\n",
              "    .colab-df-convert {\n",
              "      background-color: #E8F0FE;\n",
              "      border: none;\n",
              "      border-radius: 50%;\n",
              "      cursor: pointer;\n",
              "      display: none;\n",
              "      fill: #1967D2;\n",
              "      height: 32px;\n",
              "      padding: 0 0 0 0;\n",
              "      width: 32px;\n",
              "    }\n",
              "\n",
              "    .colab-df-convert:hover {\n",
              "      background-color: #E2EBFA;\n",
              "      box-shadow: 0px 1px 2px rgba(60, 64, 67, 0.3), 0px 1px 3px 1px rgba(60, 64, 67, 0.15);\n",
              "      fill: #174EA6;\n",
              "    }\n",
              "\n",
              "    [theme=dark] .colab-df-convert {\n",
              "      background-color: #3B4455;\n",
              "      fill: #D2E3FC;\n",
              "    }\n",
              "\n",
              "    [theme=dark] .colab-df-convert:hover {\n",
              "      background-color: #434B5C;\n",
              "      box-shadow: 0px 1px 3px 1px rgba(0, 0, 0, 0.15);\n",
              "      filter: drop-shadow(0px 1px 2px rgba(0, 0, 0, 0.3));\n",
              "      fill: #FFFFFF;\n",
              "    }\n",
              "  </style>\n",
              "\n",
              "      <script>\n",
              "        const buttonEl =\n",
              "          document.querySelector('#df-5ec2db88-d422-4ae8-a00d-ea34ed3bf9a5 button.colab-df-convert');\n",
              "        buttonEl.style.display =\n",
              "          google.colab.kernel.accessAllowed ? 'block' : 'none';\n",
              "\n",
              "        async function convertToInteractive(key) {\n",
              "          const element = document.querySelector('#df-5ec2db88-d422-4ae8-a00d-ea34ed3bf9a5');\n",
              "          const dataTable =\n",
              "            await google.colab.kernel.invokeFunction('convertToInteractive',\n",
              "                                                     [key], {});\n",
              "          if (!dataTable) return;\n",
              "\n",
              "          const docLinkHtml = 'Like what you see? Visit the ' +\n",
              "            '<a target=\"_blank\" href=https://colab.research.google.com/notebooks/data_table.ipynb>data table notebook</a>'\n",
              "            + ' to learn more about interactive tables.';\n",
              "          element.innerHTML = '';\n",
              "          dataTable['output_type'] = 'display_data';\n",
              "          await google.colab.output.renderOutput(dataTable, element);\n",
              "          const docLink = document.createElement('div');\n",
              "          docLink.innerHTML = docLinkHtml;\n",
              "          element.appendChild(docLink);\n",
              "        }\n",
              "      </script>\n",
              "    </div>\n",
              "  </div>\n",
              "  "
            ]
          },
          "metadata": {},
          "execution_count": 6
        }
      ],
      "source": [
        "data_hate.head(10)"
      ]
    },
    {
      "cell_type": "code",
      "source": [
        "target= data_hate[\"labels\"]"
      ],
      "metadata": {
        "id": "Bz8mpt_wU3QS"
      },
      "execution_count": null,
      "outputs": []
    },
    {
      "cell_type": "code",
      "source": [
        "encoded = np.load(f\"{path_files}final_dataset_encoded.npy\")"
      ],
      "metadata": {
        "id": "3Vt7ac59sJlv"
      },
      "execution_count": null,
      "outputs": []
    },
    {
      "cell_type": "code",
      "source": [
        "X=encoded"
      ],
      "metadata": {
        "id": "u_pzcFh3n1eg"
      },
      "execution_count": null,
      "outputs": []
    },
    {
      "cell_type": "markdown",
      "source": [
        "Regression logistic+encodage bert"
      ],
      "metadata": {
        "id": "udreZsAahdLl"
      }
    },
    {
      "cell_type": "code",
      "source": [
        "model_lr = Pipeline([                                    \n",
        "    ('classifier', LogisticRegression(C= 0.1, random_state=42,class_weight='balanced', max_iter= 10000))\n",
        "])\n",
        "  "
      ],
      "metadata": {
        "id": "2c4dAf0FH-1J"
      },
      "execution_count": null,
      "outputs": []
    },
    {
      "cell_type": "code",
      "source": [
        "model_lr = Pipeline([                                   \n",
        "    ('classifier', LogisticRegression(random_state=42,class_weight='balanced', max_iter= 10000))\n",
        "])"
      ],
      "metadata": {
        "id": "ycVFxzmVN4La"
      },
      "execution_count": null,
      "outputs": []
    },
    {
      "cell_type": "code",
      "source": [
        "%%time\n",
        "clf = model_lr.fit(X, target)"
      ],
      "metadata": {
        "colab": {
          "base_uri": "https://localhost:8080/"
        },
        "id": "tar5tL6TN9mo",
        "outputId": "589b03c4-96eb-4b9a-abef-c709d7ab3a83"
      },
      "execution_count": null,
      "outputs": [
        {
          "output_type": "stream",
          "name": "stdout",
          "text": [
            "CPU times: user 23.3 s, sys: 1.55 s, total: 24.8 s\n",
            "Wall time: 13 s\n"
          ]
        }
      ]
    },
    {
      "cell_type": "code",
      "source": [
        "%%time\n",
        "cv_results = cross_validate(model_lr, X, target, cv=5)"
      ],
      "metadata": {
        "colab": {
          "base_uri": "https://localhost:8080/"
        },
        "id": "MtZlIJjPlb1z",
        "outputId": "7ad2b2d7-9666-4959-d60d-1b7379798f9e"
      },
      "execution_count": null,
      "outputs": [
        {
          "output_type": "stream",
          "name": "stdout",
          "text": [
            "CPU times: user 1min 34s, sys: 6.99 s, total: 1min 41s\n",
            "Wall time: 52.3 s\n"
          ]
        }
      ]
    },
    {
      "cell_type": "code",
      "source": [
        "cv_results = pd.DataFrame(cv_results)\n",
        "cv_results"
      ],
      "metadata": {
        "id": "Z8AL4HPzHQv1",
        "colab": {
          "base_uri": "https://localhost:8080/",
          "height": 206
        },
        "outputId": "d6a28870-99c7-404f-863d-78afc02733a2"
      },
      "execution_count": null,
      "outputs": [
        {
          "output_type": "execute_result",
          "data": {
            "text/plain": [
              "    fit_time  score_time  test_score\n",
              "0   9.205609    0.022333    0.952690\n",
              "1  11.212885    0.016087    0.953737\n",
              "2  10.391031    0.015960    0.956030\n",
              "3  11.368282    0.016222    0.953099\n",
              "4  10.066461    0.016088    0.948283"
            ],
            "text/html": [
              "\n",
              "  <div id=\"df-9ea66cdc-e51b-464b-9768-28bd09c4ef53\">\n",
              "    <div class=\"colab-df-container\">\n",
              "      <div>\n",
              "<style scoped>\n",
              "    .dataframe tbody tr th:only-of-type {\n",
              "        vertical-align: middle;\n",
              "    }\n",
              "\n",
              "    .dataframe tbody tr th {\n",
              "        vertical-align: top;\n",
              "    }\n",
              "\n",
              "    .dataframe thead th {\n",
              "        text-align: right;\n",
              "    }\n",
              "</style>\n",
              "<table border=\"1\" class=\"dataframe\">\n",
              "  <thead>\n",
              "    <tr style=\"text-align: right;\">\n",
              "      <th></th>\n",
              "      <th>fit_time</th>\n",
              "      <th>score_time</th>\n",
              "      <th>test_score</th>\n",
              "    </tr>\n",
              "  </thead>\n",
              "  <tbody>\n",
              "    <tr>\n",
              "      <th>0</th>\n",
              "      <td>9.205609</td>\n",
              "      <td>0.022333</td>\n",
              "      <td>0.952690</td>\n",
              "    </tr>\n",
              "    <tr>\n",
              "      <th>1</th>\n",
              "      <td>11.212885</td>\n",
              "      <td>0.016087</td>\n",
              "      <td>0.953737</td>\n",
              "    </tr>\n",
              "    <tr>\n",
              "      <th>2</th>\n",
              "      <td>10.391031</td>\n",
              "      <td>0.015960</td>\n",
              "      <td>0.956030</td>\n",
              "    </tr>\n",
              "    <tr>\n",
              "      <th>3</th>\n",
              "      <td>11.368282</td>\n",
              "      <td>0.016222</td>\n",
              "      <td>0.953099</td>\n",
              "    </tr>\n",
              "    <tr>\n",
              "      <th>4</th>\n",
              "      <td>10.066461</td>\n",
              "      <td>0.016088</td>\n",
              "      <td>0.948283</td>\n",
              "    </tr>\n",
              "  </tbody>\n",
              "</table>\n",
              "</div>\n",
              "      <button class=\"colab-df-convert\" onclick=\"convertToInteractive('df-9ea66cdc-e51b-464b-9768-28bd09c4ef53')\"\n",
              "              title=\"Convert this dataframe to an interactive table.\"\n",
              "              style=\"display:none;\">\n",
              "        \n",
              "  <svg xmlns=\"http://www.w3.org/2000/svg\" height=\"24px\"viewBox=\"0 0 24 24\"\n",
              "       width=\"24px\">\n",
              "    <path d=\"M0 0h24v24H0V0z\" fill=\"none\"/>\n",
              "    <path d=\"M18.56 5.44l.94 2.06.94-2.06 2.06-.94-2.06-.94-.94-2.06-.94 2.06-2.06.94zm-11 1L8.5 8.5l.94-2.06 2.06-.94-2.06-.94L8.5 2.5l-.94 2.06-2.06.94zm10 10l.94 2.06.94-2.06 2.06-.94-2.06-.94-.94-2.06-.94 2.06-2.06.94z\"/><path d=\"M17.41 7.96l-1.37-1.37c-.4-.4-.92-.59-1.43-.59-.52 0-1.04.2-1.43.59L10.3 9.45l-7.72 7.72c-.78.78-.78 2.05 0 2.83L4 21.41c.39.39.9.59 1.41.59.51 0 1.02-.2 1.41-.59l7.78-7.78 2.81-2.81c.8-.78.8-2.07 0-2.86zM5.41 20L4 18.59l7.72-7.72 1.47 1.35L5.41 20z\"/>\n",
              "  </svg>\n",
              "      </button>\n",
              "      \n",
              "  <style>\n",
              "    .colab-df-container {\n",
              "      display:flex;\n",
              "      flex-wrap:wrap;\n",
              "      gap: 12px;\n",
              "    }\n",
              "\n",
              "    .colab-df-convert {\n",
              "      background-color: #E8F0FE;\n",
              "      border: none;\n",
              "      border-radius: 50%;\n",
              "      cursor: pointer;\n",
              "      display: none;\n",
              "      fill: #1967D2;\n",
              "      height: 32px;\n",
              "      padding: 0 0 0 0;\n",
              "      width: 32px;\n",
              "    }\n",
              "\n",
              "    .colab-df-convert:hover {\n",
              "      background-color: #E2EBFA;\n",
              "      box-shadow: 0px 1px 2px rgba(60, 64, 67, 0.3), 0px 1px 3px 1px rgba(60, 64, 67, 0.15);\n",
              "      fill: #174EA6;\n",
              "    }\n",
              "\n",
              "    [theme=dark] .colab-df-convert {\n",
              "      background-color: #3B4455;\n",
              "      fill: #D2E3FC;\n",
              "    }\n",
              "\n",
              "    [theme=dark] .colab-df-convert:hover {\n",
              "      background-color: #434B5C;\n",
              "      box-shadow: 0px 1px 3px 1px rgba(0, 0, 0, 0.15);\n",
              "      filter: drop-shadow(0px 1px 2px rgba(0, 0, 0, 0.3));\n",
              "      fill: #FFFFFF;\n",
              "    }\n",
              "  </style>\n",
              "\n",
              "      <script>\n",
              "        const buttonEl =\n",
              "          document.querySelector('#df-9ea66cdc-e51b-464b-9768-28bd09c4ef53 button.colab-df-convert');\n",
              "        buttonEl.style.display =\n",
              "          google.colab.kernel.accessAllowed ? 'block' : 'none';\n",
              "\n",
              "        async function convertToInteractive(key) {\n",
              "          const element = document.querySelector('#df-9ea66cdc-e51b-464b-9768-28bd09c4ef53');\n",
              "          const dataTable =\n",
              "            await google.colab.kernel.invokeFunction('convertToInteractive',\n",
              "                                                     [key], {});\n",
              "          if (!dataTable) return;\n",
              "\n",
              "          const docLinkHtml = 'Like what you see? Visit the ' +\n",
              "            '<a target=\"_blank\" href=https://colab.research.google.com/notebooks/data_table.ipynb>data table notebook</a>'\n",
              "            + ' to learn more about interactive tables.';\n",
              "          element.innerHTML = '';\n",
              "          dataTable['output_type'] = 'display_data';\n",
              "          await google.colab.output.renderOutput(dataTable, element);\n",
              "          const docLink = document.createElement('div');\n",
              "          docLink.innerHTML = docLinkHtml;\n",
              "          element.appendChild(docLink);\n",
              "        }\n",
              "      </script>\n",
              "    </div>\n",
              "  </div>\n",
              "  "
            ]
          },
          "metadata": {},
          "execution_count": 26
        }
      ]
    },
    {
      "cell_type": "code",
      "source": [
        "cv_test_scores = cv_results['test_score']\n",
        "print(\n",
        "    \"Moyenne du score:\\n\"\n",
        "    f\"{cv_test_scores.mean():.3f} +/- {cv_test_scores.std():.3f}\"\n",
        ")"
      ],
      "metadata": {
        "colab": {
          "base_uri": "https://localhost:8080/"
        },
        "id": "OR4evSTNqZYw",
        "outputId": "0f5101fd-de34-446b-d9af-2dd4c24a1ef3"
      },
      "execution_count": null,
      "outputs": [
        {
          "output_type": "stream",
          "name": "stdout",
          "text": [
            "Moyenne du score:\n",
            "0.953 +/- 0.003\n"
          ]
        }
      ]
    },
    {
      "cell_type": "markdown",
      "source": [
        "Très bons résultats avec la regression logistique avec un encodage Bert"
      ],
      "metadata": {
        "id": "VBtxUjkOgoxB"
      }
    },
    {
      "cell_type": "code",
      "source": [
        "X_train, X_test, y_train, y_test = train_test_split(X, target, random_state=0, train_size = .75)"
      ],
      "metadata": {
        "id": "SZLy5S7O4RB_"
      },
      "execution_count": null,
      "outputs": []
    },
    {
      "cell_type": "code",
      "source": [
        "%%time\n",
        "y_pred = cross_val_predict(model_lr, X_test, y_test, cv=10)\n",
        "conf_mat = confusion_matrix(y_test, y_pred)"
      ],
      "metadata": {
        "id": "huswK_DDRuHG",
        "colab": {
          "base_uri": "https://localhost:8080/"
        },
        "outputId": "aad7e445-9c44-4e25-8e40-bd363f460f46"
      },
      "execution_count": null,
      "outputs": [
        {
          "output_type": "stream",
          "name": "stdout",
          "text": [
            "CPU times: user 23.7 s, sys: 4.54 s, total: 28.2 s\n",
            "Wall time: 20.7 s\n"
          ]
        }
      ]
    },
    {
      "cell_type": "code",
      "source": [
        "def draw_mat(conf_mat):\n",
        "  matrice_proportions = np.zeros((2,2))\n",
        "  for i in range(0,2):\n",
        "      matrice_proportions[i,:] = conf_mat[i,:]/float(conf_mat[i,:].sum())\n",
        "  names=['Neutre','Haineux']\n",
        "  confusion_df = pd.DataFrame(matrice_proportions, index=names,columns=names)\n",
        "  plt.figure(figsize=(5,5))\n",
        "  sns.heatmap(confusion_df,annot=True,annot_kws={\"size\": 12},cmap='YlGnBu',cbar=False, square=True,fmt='.2f')\n",
        "  plt.ylabel(r'Valeur réelle',fontsize=14)\n",
        "  plt.xlabel(r'Valeur prédite',fontsize=14)\n",
        "  plt.tick_params(labelsize=12)"
      ],
      "metadata": {
        "id": "cfvYzeznSLpt"
      },
      "execution_count": null,
      "outputs": []
    },
    {
      "cell_type": "code",
      "source": [
        "draw_mat(conf_mat)"
      ],
      "metadata": {
        "colab": {
          "base_uri": "https://localhost:8080/",
          "height": 341
        },
        "id": "ejF2FRj66TAN",
        "outputId": "35d9e4f5-02e2-4321-baca-0498af61cfe7"
      },
      "execution_count": null,
      "outputs": [
        {
          "output_type": "display_data",
          "data": {
            "text/plain": [
              "<Figure size 360x360 with 1 Axes>"
            ],
            "image/png": "[encoded data removed]"
          },
          "metadata": {
            "needs_background": "light"
          }
        }
      ]
    },
    {
      "cell_type": "markdown",
      "source": [
        "Tester le modèlesur les données du dataset 4k"
      ],
      "metadata": {
        "id": "R4bZ9yJLvI7i"
      }
    },
    {
      "cell_type": "code",
      "source": [
        "X_4k = np.load(f\"{path_files}4k_dataset_encoded.npy\")"
      ],
      "metadata": {
        "id": "S2_Bw1Um5QAL"
      },
      "execution_count": null,
      "outputs": []
    },
    {
      "cell_type": "code",
      "source": [
        "data_4k = pd.read_pickle(f\"{path_files}dataset_fr/data_hate.pkl\")"
      ],
      "metadata": {
        "id": "wRqQK5mc9Bwn"
      },
      "execution_count": null,
      "outputs": []
    },
    {
      "cell_type": "code",
      "source": [
        "data_4k.head()"
      ],
      "metadata": {
        "id": "JRRPmUOW9bcp",
        "colab": {
          "base_uri": "https://localhost:8080/",
          "height": 250
        },
        "outputId": "01fc00e3-84b7-4ee5-c2f8-3446fea8b5ca"
      },
      "execution_count": null,
      "outputs": [
        {
          "output_type": "execute_result",
          "data": {
            "text/plain": [
              "   HITId                                              tweet  sentiment  \\\n",
              "0      1  rt @user personnage ainsi q tte la clique gauc...          1   \n",
              "1      2  @user @user @user bah oui t'as raison l'autre ...          1   \n",
              "2      3  moi j'ai personne à qui m'adresser pour réclam...          1   \n",
              "3      4  @user @user c...est vrai que les anchois sont ...          0   \n",
              "4      5            eh les renois faut se réveiller la @url          0   \n",
              "\n",
              "   text length                                    clean_tweet_min  \\\n",
              "0          128  personnage ainsi q tte la clique gauchiste deg...   \n",
              "1           62       bah oui t'as raison l'autre c'est un mongol.   \n",
              "2          120  moi j'ai personne à qui m'adresser pour réclam...   \n",
              "3          102  c ... est vrai que les anchois sont aller sur ...   \n",
              "4           39                 eh les renois faut se réveiller la   \n",
              "\n",
              "                                     clean_tweet_std  \\\n",
              "0  personnag tte cliqu gauchist deguis 1 macron!!...   \n",
              "1                                     raison mongol.   \n",
              "2  m'adress réclam. voisin attard pu brui adminis...   \n",
              "3  ... vrai anchois aller lun invent million tech...   \n",
              "4                                 renois faut réveil   \n",
              "\n",
              "                                     clean_tweet_lem  \n",
              "0  personnage tout cliqu gauchiste deguise 1 macr...  \n",
              "1                                     raison mongol.  \n",
              "2  me adresser réclamer. voisin attarder puant br...  \n",
              "3  ... vrai anchois aller lune invent million tec...  \n",
              "4                           renois falloir réveiller  "
            ],
            "text/html": [
              "\n",
              "  <div id=\"df-fc70d176-7202-4134-905d-a9092827ec29\">\n",
              "    <div class=\"colab-df-container\">\n",
              "      <div>\n",
              "<style scoped>\n",
              "    .dataframe tbody tr th:only-of-type {\n",
              "        vertical-align: middle;\n",
              "    }\n",
              "\n",
              "    .dataframe tbody tr th {\n",
              "        vertical-align: top;\n",
              "    }\n",
              "\n",
              "    .dataframe thead th {\n",
              "        text-align: right;\n",
              "    }\n",
              "</style>\n",
              "<table border=\"1\" class=\"dataframe\">\n",
              "  <thead>\n",
              "    <tr style=\"text-align: right;\">\n",
              "      <th></th>\n",
              "      <th>HITId</th>\n",
              "      <th>tweet</th>\n",
              "      <th>sentiment</th>\n",
              "      <th>text length</th>\n",
              "      <th>clean_tweet_min</th>\n",
              "      <th>clean_tweet_std</th>\n",
              "      <th>clean_tweet_lem</th>\n",
              "    </tr>\n",
              "  </thead>\n",
              "  <tbody>\n",
              "    <tr>\n",
              "      <th>0</th>\n",
              "      <td>1</td>\n",
              "      <td>rt @user personnage ainsi q tte la clique gauc...</td>\n",
              "      <td>1</td>\n",
              "      <td>128</td>\n",
              "      <td>personnage ainsi q tte la clique gauchiste deg...</td>\n",
              "      <td>personnag tte cliqu gauchist deguis 1 macron!!...</td>\n",
              "      <td>personnage tout cliqu gauchiste deguise 1 macr...</td>\n",
              "    </tr>\n",
              "    <tr>\n",
              "      <th>1</th>\n",
              "      <td>2</td>\n",
              "      <td>@user @user @user bah oui t'as raison l'autre ...</td>\n",
              "      <td>1</td>\n",
              "      <td>62</td>\n",
              "      <td>bah oui t'as raison l'autre c'est un mongol.</td>\n",
              "      <td>raison mongol.</td>\n",
              "      <td>raison mongol.</td>\n",
              "    </tr>\n",
              "    <tr>\n",
              "      <th>2</th>\n",
              "      <td>3</td>\n",
              "      <td>moi j'ai personne à qui m'adresser pour réclam...</td>\n",
              "      <td>1</td>\n",
              "      <td>120</td>\n",
              "      <td>moi j'ai personne à qui m'adresser pour réclam...</td>\n",
              "      <td>m'adress réclam. voisin attard pu brui adminis...</td>\n",
              "      <td>me adresser réclamer. voisin attarder puant br...</td>\n",
              "    </tr>\n",
              "    <tr>\n",
              "      <th>3</th>\n",
              "      <td>4</td>\n",
              "      <td>@user @user c...est vrai que les anchois sont ...</td>\n",
              "      <td>0</td>\n",
              "      <td>102</td>\n",
              "      <td>c ... est vrai que les anchois sont aller sur ...</td>\n",
              "      <td>... vrai anchois aller lun invent million tech...</td>\n",
              "      <td>... vrai anchois aller lune invent million tec...</td>\n",
              "    </tr>\n",
              "    <tr>\n",
              "      <th>4</th>\n",
              "      <td>5</td>\n",
              "      <td>eh les renois faut se réveiller la @url</td>\n",
              "      <td>0</td>\n",
              "      <td>39</td>\n",
              "      <td>eh les renois faut se réveiller la</td>\n",
              "      <td>renois faut réveil</td>\n",
              "      <td>renois falloir réveiller</td>\n",
              "    </tr>\n",
              "  </tbody>\n",
              "</table>\n",
              "</div>\n",
              "      <button class=\"colab-df-convert\" onclick=\"convertToInteractive('df-fc70d176-7202-4134-905d-a9092827ec29')\"\n",
              "              title=\"Convert this dataframe to an interactive table.\"\n",
              "              style=\"display:none;\">\n",
              "        \n",
              "  <svg xmlns=\"http://www.w3.org/2000/svg\" height=\"24px\"viewBox=\"0 0 24 24\"\n",
              "       width=\"24px\">\n",
              "    <path d=\"M0 0h24v24H0V0z\" fill=\"none\"/>\n",
              "    <path d=\"M18.56 5.44l.94 2.06.94-2.06 2.06-.94-2.06-.94-.94-2.06-.94 2.06-2.06.94zm-11 1L8.5 8.5l.94-2.06 2.06-.94-2.06-.94L8.5 2.5l-.94 2.06-2.06.94zm10 10l.94 2.06.94-2.06 2.06-.94-2.06-.94-.94-2.06-.94 2.06-2.06.94z\"/><path d=\"M17.41 7.96l-1.37-1.37c-.4-.4-.92-.59-1.43-.59-.52 0-1.04.2-1.43.59L10.3 9.45l-7.72 7.72c-.78.78-.78 2.05 0 2.83L4 21.41c.39.39.9.59 1.41.59.51 0 1.02-.2 1.41-.59l7.78-7.78 2.81-2.81c.8-.78.8-2.07 0-2.86zM5.41 20L4 18.59l7.72-7.72 1.47 1.35L5.41 20z\"/>\n",
              "  </svg>\n",
              "      </button>\n",
              "      \n",
              "  <style>\n",
              "    .colab-df-container {\n",
              "      display:flex;\n",
              "      flex-wrap:wrap;\n",
              "      gap: 12px;\n",
              "    }\n",
              "\n",
              "    .colab-df-convert {\n",
              "      background-color: #E8F0FE;\n",
              "      border: none;\n",
              "      border-radius: 50%;\n",
              "      cursor: pointer;\n",
              "      display: none;\n",
              "      fill: #1967D2;\n",
              "      height: 32px;\n",
              "      padding: 0 0 0 0;\n",
              "      width: 32px;\n",
              "    }\n",
              "\n",
              "    .colab-df-convert:hover {\n",
              "      background-color: #E2EBFA;\n",
              "      box-shadow: 0px 1px 2px rgba(60, 64, 67, 0.3), 0px 1px 3px 1px rgba(60, 64, 67, 0.15);\n",
              "      fill: #174EA6;\n",
              "    }\n",
              "\n",
              "    [theme=dark] .colab-df-convert {\n",
              "      background-color: #3B4455;\n",
              "      fill: #D2E3FC;\n",
              "    }\n",
              "\n",
              "    [theme=dark] .colab-df-convert:hover {\n",
              "      background-color: #434B5C;\n",
              "      box-shadow: 0px 1px 3px 1px rgba(0, 0, 0, 0.15);\n",
              "      filter: drop-shadow(0px 1px 2px rgba(0, 0, 0, 0.3));\n",
              "      fill: #FFFFFF;\n",
              "    }\n",
              "  </style>\n",
              "\n",
              "      <script>\n",
              "        const buttonEl =\n",
              "          document.querySelector('#df-fc70d176-7202-4134-905d-a9092827ec29 button.colab-df-convert');\n",
              "        buttonEl.style.display =\n",
              "          google.colab.kernel.accessAllowed ? 'block' : 'none';\n",
              "\n",
              "        async function convertToInteractive(key) {\n",
              "          const element = document.querySelector('#df-fc70d176-7202-4134-905d-a9092827ec29');\n",
              "          const dataTable =\n",
              "            await google.colab.kernel.invokeFunction('convertToInteractive',\n",
              "                                                     [key], {});\n",
              "          if (!dataTable) return;\n",
              "\n",
              "          const docLinkHtml = 'Like what you see? Visit the ' +\n",
              "            '<a target=\"_blank\" href=https://colab.research.google.com/notebooks/data_table.ipynb>data table notebook</a>'\n",
              "            + ' to learn more about interactive tables.';\n",
              "          element.innerHTML = '';\n",
              "          dataTable['output_type'] = 'display_data';\n",
              "          await google.colab.output.renderOutput(dataTable, element);\n",
              "          const docLink = document.createElement('div');\n",
              "          docLink.innerHTML = docLinkHtml;\n",
              "          element.appendChild(docLink);\n",
              "        }\n",
              "      </script>\n",
              "    </div>\n",
              "  </div>\n",
              "  "
            ]
          },
          "metadata": {},
          "execution_count": 18
        }
      ]
    },
    {
      "cell_type": "code",
      "source": [
        "y_4k= data_4k['sentiment']"
      ],
      "metadata": {
        "id": "Ec9GVodP54k3"
      },
      "execution_count": null,
      "outputs": []
    },
    {
      "cell_type": "code",
      "source": [
        "pred_4k = cross_val_predict(model_lr, X_4k, y_4k, cv=10)\n",
        "conf_mat_4k = confusion_matrix(y_4k, pred_4k)"
      ],
      "metadata": {
        "id": "RH_OhV1v5XDc"
      },
      "execution_count": null,
      "outputs": []
    },
    {
      "cell_type": "code",
      "source": [
        "draw_mat(conf_mat_4k)"
      ],
      "metadata": {
        "colab": {
          "base_uri": "https://localhost:8080/",
          "height": 341
        },
        "id": "UhELYssk9nx3",
        "outputId": "f2b0dc2b-2f6e-4a88-9a3a-657723754b6f"
      },
      "execution_count": null,
      "outputs": [
        {
          "output_type": "display_data",
          "data": {
            "text/plain": [
              "<Figure size 360x360 with 1 Axes>"
            ],
            "image/png": "[encoded data removed]"
          },
          "metadata": {
            "needs_background": "light"
          }
        }
      ]
    },
    {
      "cell_type": "markdown",
      "source": [
        "Modèle à partir du dataset français"
      ],
      "metadata": {
        "id": "T_hnjFrVndKJ"
      }
    },
    {
      "cell_type": "code",
      "source": [
        "result = model_lr.predict(X_4k)"
      ],
      "metadata": {
        "id": "9-gKbsuAI_JK"
      },
      "execution_count": null,
      "outputs": []
    },
    {
      "cell_type": "code",
      "source": [
        "result=pd.DataFrame(result)"
      ],
      "metadata": {
        "id": "Xb5DMspMO11o"
      },
      "execution_count": null,
      "outputs": []
    },
    {
      "cell_type": "code",
      "source": [
        "conf_mat = confusion_matrix(y_4k, result)"
      ],
      "metadata": {
        "id": "NhbwX0MHPAMe"
      },
      "execution_count": null,
      "outputs": []
    },
    {
      "cell_type": "code",
      "source": [
        "draw_mat(conf_mat)"
      ],
      "metadata": {
        "id": "XQkAJJg-PSqZ",
        "outputId": "9652824e-3dd0-44cf-bbef-f7d90f42fd24",
        "colab": {
          "base_uri": "https://localhost:8080/",
          "height": 341
        }
      },
      "execution_count": null,
      "outputs": [
        {
          "output_type": "display_data",
          "data": {
            "text/plain": [
              "<Figure size 360x360 with 1 Axes>"
            ],
            "image/png": "[encoded data removed]"
          },
          "metadata": {
            "needs_background": "light"
          }
        }
      ]
    },
    {
      "cell_type": "code",
      "source": [
        "clf.score(X_4k, y_4k)"
      ],
      "metadata": {
        "colab": {
          "base_uri": "https://localhost:8080/"
        },
        "id": "e7izwp7iOdyt",
        "outputId": "6341eee8-5c7e-4134-bfa4-6d28cc7078a9"
      },
      "execution_count": null,
      "outputs": [
        {
          "output_type": "execute_result",
          "data": {
            "text/plain": [
              "0.7528649725959143"
            ]
          },
          "metadata": {},
          "execution_count": 30
        }
      ]
    },
    {
      "cell_type": "markdown",
      "source": [
        "Nous remarquons que malgrès de très bonnes performance de la regression logistique sur les données de test de notre dataset , le modèle n'est pas efficace sur les données lébélisés à la main par des experts , le modèle detecte bien les tweets haineux mais pas les tweets neutre .\n",
        "\n",
        "Il faut toutefois nuancer car le dataset français labelisé ne contient pas de tweets neutre à proprement dit , mais surtout des tweets neutres qui peuvent porter à confusion (discours haineux rapporté , négation de tweets haineux...) qui contiennent toujours des mots clés haineux .\n",
        "\n",
        "Sur ce point précis le modèle neuronales et malgrès le temps de calculs necessaires à le régler , performe beaucoup mieux avec une detection des tweets neutres à 78%."
      ],
      "metadata": {
        "id": "7s2O7iuA1bwd"
      }
    },
    {
      "cell_type": "markdown",
      "source": [
        "Entrainer un modèle de regression logistique avec les données 4k et un encodage neuronale"
      ],
      "metadata": {
        "id": "musqfFDS3BNZ"
      }
    },
    {
      "cell_type": "code",
      "source": [
        "X4k_train, X4k_test, y4k_train, y4k_test = train_test_split(X_4k, y_4k, random_state=0, train_size = .75)"
      ],
      "metadata": {
        "id": "5aHgYpRNnWCw"
      },
      "execution_count": null,
      "outputs": []
    },
    {
      "cell_type": "code",
      "source": [
        "model_lr_4k = Pipeline([                                   \n",
        "    ('classifier', LogisticRegression(random_state=42,class_weight='balanced', max_iter= 10000))\n",
        "])"
      ],
      "metadata": {
        "id": "564dENWBnzDS"
      },
      "execution_count": null,
      "outputs": []
    },
    {
      "cell_type": "code",
      "source": [
        "%%time\n",
        "cv_results = cross_validate(\n",
        "    model_lr_4k, X_4k, y_4k, cv=5, n_jobs=2, return_estimator=True,scoring=\"balanced_accuracy\"\n",
        ")"
      ],
      "metadata": {
        "colab": {
          "base_uri": "https://localhost:8080/"
        },
        "id": "LYslt6WUo15S",
        "outputId": "e661e029-273d-4587-cfcd-aff138b70c5f"
      },
      "execution_count": null,
      "outputs": [
        {
          "output_type": "stream",
          "name": "stdout",
          "text": [
            "CPU times: user 84.9 ms, sys: 33.1 ms, total: 118 ms\n",
            "Wall time: 5.93 s\n"
          ]
        }
      ]
    },
    {
      "cell_type": "code",
      "source": [
        "cv_results = pd.DataFrame(cv_results)\n",
        "cv_results"
      ],
      "metadata": {
        "colab": {
          "base_uri": "https://localhost:8080/",
          "height": 206
        },
        "id": "7JgYzvWrpbVe",
        "outputId": "3309a5f4-4047-47db-f514-d326bea9bd8f"
      },
      "execution_count": null,
      "outputs": [
        {
          "output_type": "execute_result",
          "data": {
            "text/plain": [
              "   fit_time  score_time                                          estimator  \\\n",
              "0  1.569093    0.004981  (LogisticRegression(class_weight='balanced', m...   \n",
              "1  2.014118    0.004851  (LogisticRegression(class_weight='balanced', m...   \n",
              "2  1.921068    0.004558  (LogisticRegression(class_weight='balanced', m...   \n",
              "3  1.975590    0.008324  (LogisticRegression(class_weight='balanced', m...   \n",
              "4  1.008043    0.002537  (LogisticRegression(class_weight='balanced', m...   \n",
              "\n",
              "   test_score  \n",
              "0    0.645740  \n",
              "1    0.629308  \n",
              "2    0.653241  \n",
              "3    0.620481  \n",
              "4    0.686377  "
            ],
            "text/html": [
              "\n",
              "  <div id=\"df-60ae8002-d6ef-4cd9-a100-d72d5193dcb3\">\n",
              "    <div class=\"colab-df-container\">\n",
              "      <div>\n",
              "<style scoped>\n",
              "    .dataframe tbody tr th:only-of-type {\n",
              "        vertical-align: middle;\n",
              "    }\n",
              "\n",
              "    .dataframe tbody tr th {\n",
              "        vertical-align: top;\n",
              "    }\n",
              "\n",
              "    .dataframe thead th {\n",
              "        text-align: right;\n",
              "    }\n",
              "</style>\n",
              "<table border=\"1\" class=\"dataframe\">\n",
              "  <thead>\n",
              "    <tr style=\"text-align: right;\">\n",
              "      <th></th>\n",
              "      <th>fit_time</th>\n",
              "      <th>score_time</th>\n",
              "      <th>estimator</th>\n",
              "      <th>test_score</th>\n",
              "    </tr>\n",
              "  </thead>\n",
              "  <tbody>\n",
              "    <tr>\n",
              "      <th>0</th>\n",
              "      <td>1.569093</td>\n",
              "      <td>0.004981</td>\n",
              "      <td>(LogisticRegression(class_weight='balanced', m...</td>\n",
              "      <td>0.645740</td>\n",
              "    </tr>\n",
              "    <tr>\n",
              "      <th>1</th>\n",
              "      <td>2.014118</td>\n",
              "      <td>0.004851</td>\n",
              "      <td>(LogisticRegression(class_weight='balanced', m...</td>\n",
              "      <td>0.629308</td>\n",
              "    </tr>\n",
              "    <tr>\n",
              "      <th>2</th>\n",
              "      <td>1.921068</td>\n",
              "      <td>0.004558</td>\n",
              "      <td>(LogisticRegression(class_weight='balanced', m...</td>\n",
              "      <td>0.653241</td>\n",
              "    </tr>\n",
              "    <tr>\n",
              "      <th>3</th>\n",
              "      <td>1.975590</td>\n",
              "      <td>0.008324</td>\n",
              "      <td>(LogisticRegression(class_weight='balanced', m...</td>\n",
              "      <td>0.620481</td>\n",
              "    </tr>\n",
              "    <tr>\n",
              "      <th>4</th>\n",
              "      <td>1.008043</td>\n",
              "      <td>0.002537</td>\n",
              "      <td>(LogisticRegression(class_weight='balanced', m...</td>\n",
              "      <td>0.686377</td>\n",
              "    </tr>\n",
              "  </tbody>\n",
              "</table>\n",
              "</div>\n",
              "      <button class=\"colab-df-convert\" onclick=\"convertToInteractive('df-60ae8002-d6ef-4cd9-a100-d72d5193dcb3')\"\n",
              "              title=\"Convert this dataframe to an interactive table.\"\n",
              "              style=\"display:none;\">\n",
              "        \n",
              "  <svg xmlns=\"http://www.w3.org/2000/svg\" height=\"24px\"viewBox=\"0 0 24 24\"\n",
              "       width=\"24px\">\n",
              "    <path d=\"M0 0h24v24H0V0z\" fill=\"none\"/>\n",
              "    <path d=\"M18.56 5.44l.94 2.06.94-2.06 2.06-.94-2.06-.94-.94-2.06-.94 2.06-2.06.94zm-11 1L8.5 8.5l.94-2.06 2.06-.94-2.06-.94L8.5 2.5l-.94 2.06-2.06.94zm10 10l.94 2.06.94-2.06 2.06-.94-2.06-.94-.94-2.06-.94 2.06-2.06.94z\"/><path d=\"M17.41 7.96l-1.37-1.37c-.4-.4-.92-.59-1.43-.59-.52 0-1.04.2-1.43.59L10.3 9.45l-7.72 7.72c-.78.78-.78 2.05 0 2.83L4 21.41c.39.39.9.59 1.41.59.51 0 1.02-.2 1.41-.59l7.78-7.78 2.81-2.81c.8-.78.8-2.07 0-2.86zM5.41 20L4 18.59l7.72-7.72 1.47 1.35L5.41 20z\"/>\n",
              "  </svg>\n",
              "      </button>\n",
              "      \n",
              "  <style>\n",
              "    .colab-df-container {\n",
              "      display:flex;\n",
              "      flex-wrap:wrap;\n",
              "      gap: 12px;\n",
              "    }\n",
              "\n",
              "    .colab-df-convert {\n",
              "      background-color: #E8F0FE;\n",
              "      border: none;\n",
              "      border-radius: 50%;\n",
              "      cursor: pointer;\n",
              "      display: none;\n",
              "      fill: #1967D2;\n",
              "      height: 32px;\n",
              "      padding: 0 0 0 0;\n",
              "      width: 32px;\n",
              "    }\n",
              "\n",
              "    .colab-df-convert:hover {\n",
              "      background-color: #E2EBFA;\n",
              "      box-shadow: 0px 1px 2px rgba(60, 64, 67, 0.3), 0px 1px 3px 1px rgba(60, 64, 67, 0.15);\n",
              "      fill: #174EA6;\n",
              "    }\n",
              "\n",
              "    [theme=dark] .colab-df-convert {\n",
              "      background-color: #3B4455;\n",
              "      fill: #D2E3FC;\n",
              "    }\n",
              "\n",
              "    [theme=dark] .colab-df-convert:hover {\n",
              "      background-color: #434B5C;\n",
              "      box-shadow: 0px 1px 3px 1px rgba(0, 0, 0, 0.15);\n",
              "      filter: drop-shadow(0px 1px 2px rgba(0, 0, 0, 0.3));\n",
              "      fill: #FFFFFF;\n",
              "    }\n",
              "  </style>\n",
              "\n",
              "      <script>\n",
              "        const buttonEl =\n",
              "          document.querySelector('#df-60ae8002-d6ef-4cd9-a100-d72d5193dcb3 button.colab-df-convert');\n",
              "        buttonEl.style.display =\n",
              "          google.colab.kernel.accessAllowed ? 'block' : 'none';\n",
              "\n",
              "        async function convertToInteractive(key) {\n",
              "          const element = document.querySelector('#df-60ae8002-d6ef-4cd9-a100-d72d5193dcb3');\n",
              "          const dataTable =\n",
              "            await google.colab.kernel.invokeFunction('convertToInteractive',\n",
              "                                                     [key], {});\n",
              "          if (!dataTable) return;\n",
              "\n",
              "          const docLinkHtml = 'Like what you see? Visit the ' +\n",
              "            '<a target=\"_blank\" href=https://colab.research.google.com/notebooks/data_table.ipynb>data table notebook</a>'\n",
              "            + ' to learn more about interactive tables.';\n",
              "          element.innerHTML = '';\n",
              "          dataTable['output_type'] = 'display_data';\n",
              "          await google.colab.output.renderOutput(dataTable, element);\n",
              "          const docLink = document.createElement('div');\n",
              "          docLink.innerHTML = docLinkHtml;\n",
              "          element.appendChild(docLink);\n",
              "        }\n",
              "      </script>\n",
              "    </div>\n",
              "  </div>\n",
              "  "
            ]
          },
          "metadata": {},
          "execution_count": 48
        }
      ]
    },
    {
      "cell_type": "code",
      "source": [
        "y_pred_test = cross_val_predict(model_lr_4k, X4k_test, y4k_test, cv=10)\n",
        "conf_mat = confusion_matrix(y4k_test, y_pred_test)"
      ],
      "metadata": {
        "id": "bahVBrY6piic"
      },
      "execution_count": null,
      "outputs": []
    },
    {
      "cell_type": "code",
      "source": [
        "draw_mat(conf_mat)"
      ],
      "metadata": {
        "colab": {
          "base_uri": "https://localhost:8080/",
          "height": 341
        },
        "id": "PtkzPP3IqKr6",
        "outputId": "d309393c-c503-439e-c5b0-b34692a16f09"
      },
      "execution_count": null,
      "outputs": [
        {
          "output_type": "display_data",
          "data": {
            "text/plain": [
              "<Figure size 360x360 with 1 Axes>"
            ],
            "image/png": "[encoded data removed]"
          },
          "metadata": {
            "needs_background": "light"
          }
        }
      ]
    }
  ]
}