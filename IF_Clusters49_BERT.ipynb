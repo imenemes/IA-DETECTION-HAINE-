{
  "cells": [
    {
      "cell_type": "markdown",
      "source": [
        "**1- Importation des librairies**"
      ],
      "metadata": {
        "id": "a-PyRFUm05kE"
      }
    },
    {
      "cell_type": "code",
      "execution_count": 1,
      "metadata": {
        "id": "yEJEhqEwgXpE"
      },
      "outputs": [],
      "source": [
        "import pandas as pd\n",
        "import glob\n",
        "import numpy as np\n",
        "import sys\n",
        "import os\n",
        "import re\n",
        "from sklearn.ensemble import IsolationForest"
      ]
    },
    {
      "cell_type": "markdown",
      "source": [
        "**Monter le drive**"
      ],
      "metadata": {
        "id": "w-tpHsgt1BzG"
      }
    },
    {
      "cell_type": "code",
      "execution_count": 2,
      "metadata": {
        "colab": {
          "base_uri": "https://localhost:8080/"
        },
        "outputId": "c048271f-331c-441e-964e-655b51ac8d71",
        "id": "_rR96oncgXpI"
      },
      "outputs": [
        {
          "output_type": "stream",
          "name": "stdout",
          "text": [
            "Mounted at /content/drive\n"
          ]
        }
      ],
      "source": [
        "from google.colab import drive\n",
        "drive.mount('/content/drive')"
      ]
    },
    {
      "cell_type": "markdown",
      "source": [
        "Importer un fichier .Py contenant des fonctions utiles"
      ],
      "metadata": {
        "id": "anN4I25Q3Qd4"
      }
    },
    {
      "cell_type": "code",
      "source": [
        "py_file_location = \"/content/drive/MyDrive\"\n",
        "sys.path.append(os.path.abspath(py_file_location))"
      ],
      "metadata": {
        "id": "nqnK-6oNFfgd"
      },
      "execution_count": 3,
      "outputs": []
    },
    {
      "cell_type": "code",
      "source": [
        "from function_tools import *"
      ],
      "metadata": {
        "id": "8y0Wfa6bFyvy"
      },
      "execution_count": 4,
      "outputs": []
    },
    {
      "cell_type": "code",
      "source": [
        "path_files = r\"/content/drive/MyDrive/Data_M/bertsom49/\""
      ],
      "metadata": {
        "id": "WPvtstJBjuRj"
      },
      "execution_count": 5,
      "outputs": []
    },
    {
      "cell_type": "code",
      "source": [
        "# récupérer les clusters \n",
        "# glob aide à faire un trie par regex afin d'en choisir les fichiers nettoyés\n",
        "list_file= glob.glob(f\"{path_files}*\")"
      ],
      "metadata": {
        "id": "uTtaYNJvjfG3"
      },
      "execution_count": 6,
      "outputs": []
    },
    {
      "cell_type": "code",
      "source": [
        "list_file"
      ],
      "metadata": {
        "colab": {
          "base_uri": "https://localhost:8080/"
        },
        "id": "_J5OFUcGj0aU",
        "outputId": "5e52b925-a921-49bb-8ee7-81727809cd85"
      },
      "execution_count": 7,
      "outputs": [
        {
          "output_type": "execute_result",
          "data": {
            "text/plain": [
              "['/content/drive/MyDrive/Data_M/bertsom49/musulman_bertsom49',\n",
              " '/content/drive/MyDrive/Data_M/bertsom49/miso_bertsom49',\n",
              " '/content/drive/MyDrive/Data_M/bertsom49/gitan_bertsom49',\n",
              " '/content/drive/MyDrive/Data_M/bertsom49/chretien_bertsom49',\n",
              " '/content/drive/MyDrive/Data_M/bertsom49/capacitiste_bertsom49',\n",
              " '/content/drive/MyDrive/Data_M/bertsom49/arabe_bertsom49',\n",
              " '/content/drive/MyDrive/Data_M/bertsom49/antisemite_bertsom49',\n",
              " '/content/drive/MyDrive/Data_M/bertsom49/africain_bertsom49']"
            ]
          },
          "metadata": {},
          "execution_count": 7
        }
      ]
    },
    {
      "cell_type": "markdown",
      "source": [
        "**Extraction des clusters pertinent**"
      ],
      "metadata": {
        "id": "fql7ZJhfW27U"
      }
    },
    {
      "cell_type": "code",
      "source": [
        "def make_liste_pertinent(liste):\n",
        "  liste_brut=[]\n",
        "  liste_vec=[]\n",
        "  liste_info=[]\n",
        "  for file in liste:\n",
        "    liste_brut.append(glob.glob(file+\"/*raw*\"))\n",
        "    liste_vec.append(glob.glob(file+\"/*encoded*\"))\n",
        "    liste_info.append(glob.glob(file+\"/*info*\"))\n",
        "  return liste_vec, liste_brut,liste_info"
      ],
      "metadata": {
        "id": "nZ8sgcmBmPhO"
      },
      "execution_count": 8,
      "outputs": []
    },
    {
      "cell_type": "code",
      "source": [
        "def extract_pourcentage(filename):\n",
        "  pourcentage_haineux = []\n",
        "  with open(filename, \"r\") as f:\n",
        "    lines = f.read().split('\\n\\n')\n",
        "  for line in lines[:-1]: \n",
        "    hper = re.findall('(\\d*.\\d*)% de', line)\n",
        "    hper = float(hper[0]) if len(hper) > 0 else 0\n",
        "    pourcentage_haineux.append(hper)\n",
        "  return pourcentage_haineux"
      ],
      "metadata": {
        "id": "orsCdK5W8mgs"
      },
      "execution_count": 9,
      "outputs": []
    },
    {
      "cell_type": "code",
      "source": [
        "liste_vec, liste_brut, liste_info =make_liste_pertinent(list_file)"
      ],
      "metadata": {
        "id": "NA1UNKWnl6b9"
      },
      "execution_count": 10,
      "outputs": []
    },
    {
      "cell_type": "code",
      "source": [
        "for liste in liste_vec:\n",
        "  liste.sort(key=extr_num2)"
      ],
      "metadata": {
        "id": "4t3TlywkeKZG"
      },
      "execution_count": 11,
      "outputs": []
    },
    {
      "cell_type": "code",
      "source": [
        "liste_vec"
      ],
      "metadata": {
        "id": "Or9WQE8IhyL0"
      },
      "execution_count": null,
      "outputs": []
    },
    {
      "cell_type": "code",
      "source": [
        "liste_brut"
      ],
      "metadata": {
        "id": "KiPZLcClGHmA"
      },
      "execution_count": null,
      "outputs": []
    },
    {
      "cell_type": "code",
      "source": [
        "liste_info"
      ],
      "metadata": {
        "colab": {
          "base_uri": "https://localhost:8080/"
        },
        "id": "N124ZSwSq06F",
        "outputId": "e3ca7ac1-10a4-4603-e47f-ea5f25279846"
      },
      "execution_count": null,
      "outputs": [
        {
          "output_type": "execute_result",
          "data": {
            "text/plain": [
              "[['/content/drive/MyDrive/Data_M/bertsom49/musulman_bertsom49/musulman_bertsom49_clusters_info.txt'],\n",
              " ['/content/drive/MyDrive/Data_M/bertsom49/miso_bertsom49/miso_bertsom49_clusters_info.txt'],\n",
              " ['/content/drive/MyDrive/Data_M/bertsom49/gitan_bertsom49/gitan_bertsom49_clusters_info.txt'],\n",
              " ['/content/drive/MyDrive/Data_M/bertsom49/chretien_bertsom49/chretien_bertsom49_clusters_info.txt'],\n",
              " ['/content/drive/MyDrive/Data_M/bertsom49/capacitiste_bertsom49/capacitiste_bertsom49_clusters_info.txt'],\n",
              " ['/content/drive/MyDrive/Data_M/bertsom49/arabe_bertsom49/arabe_bertsom49_clusters_info.txt'],\n",
              " ['/content/drive/MyDrive/Data_M/bertsom49/antisemite_bertsom49/antisemite_bertsom49_clusters_info.txt'],\n",
              " ['/content/drive/MyDrive/Data_M/bertsom49/africain_bertsom49/africain_bertsom49_clusters_info.txt']]"
            ]
          },
          "metadata": {},
          "execution_count": 20
        }
      ]
    },
    {
      "cell_type": "code",
      "source": [
        "def extract_all(liste):\n",
        "  taux=[]\n",
        "  for el in liste:\n",
        "    taux.append(extract_pourcentage(el[0]))\n",
        "  return taux"
      ],
      "metadata": {
        "id": "a6kqgx57kjDh"
      },
      "execution_count": 12,
      "outputs": []
    },
    {
      "cell_type": "code",
      "source": [
        "pourcentage_haineux= extract_all(liste_info)"
      ],
      "metadata": {
        "id": "IJTBJoLu8md5"
      },
      "execution_count": 13,
      "outputs": []
    },
    {
      "cell_type": "code",
      "source": [
        "pourcentage_haineux"
      ],
      "metadata": {
        "id": "ePYFcRvSrQVM"
      },
      "execution_count": null,
      "outputs": []
    },
    {
      "cell_type": "code",
      "source": [
        "def filtre_cluster_pertinent(cont):\n",
        "  pertinent_cluster=[]\n",
        "  for i in range(len(cont)):\n",
        "    if cont[i]!= 0 and cont[i] < 20 or cont[i] > 80 :\n",
        "      pertinent_cluster.append(i)\n",
        "  return pertinent_cluster"
      ],
      "metadata": {
        "id": "a4SB75PZBEFG"
      },
      "execution_count": 15,
      "outputs": []
    },
    {
      "cell_type": "code",
      "source": [
        "def filter_all(liste):\n",
        "  clusters=[]\n",
        "  for el in liste:\n",
        "    clusters.append(filtre_cluster_pertinent(el))\n",
        "  return clusters    "
      ],
      "metadata": {
        "id": "9IwrgfMoEOmZ"
      },
      "execution_count": 16,
      "outputs": []
    },
    {
      "cell_type": "code",
      "source": [
        "pertinent_cluster=filter_all(pourcentage_haineux)"
      ],
      "metadata": {
        "id": "pzVk1tyeCGsh"
      },
      "execution_count": 17,
      "outputs": []
    },
    {
      "cell_type": "code",
      "source": [
        "len(pertinent_cluster)"
      ],
      "metadata": {
        "colab": {
          "base_uri": "https://localhost:8080/"
        },
        "id": "W44ZLYX-YP8D",
        "outputId": "0efc0e39-fb0a-4baa-96fa-1fdb530ff6a5"
      },
      "execution_count": null,
      "outputs": [
        {
          "output_type": "execute_result",
          "data": {
            "text/plain": [
              "8"
            ]
          },
          "metadata": {},
          "execution_count": 19
        }
      ]
    },
    {
      "cell_type": "markdown",
      "source": [
        "**2- Lire le contenu des clusters**"
      ],
      "metadata": {
        "id": "yERoysx44a3t"
      }
    },
    {
      "cell_type": "code",
      "source": [
        "pertinent_cluster[0]"
      ],
      "metadata": {
        "colab": {
          "base_uri": "https://localhost:8080/"
        },
        "id": "u1Ex_R6VMy-d",
        "outputId": "3d9dc26a-bdfe-4929-dce5-8a89240ee24b"
      },
      "execution_count": 18,
      "outputs": [
        {
          "output_type": "execute_result",
          "data": {
            "text/plain": [
              "[8, 9, 10, 15, 17, 21, 24, 31, 38, 46]"
            ]
          },
          "metadata": {},
          "execution_count": 18
        }
      ]
    },
    {
      "cell_type": "code",
      "source": [
        "def read_cluster_df(files):\n",
        "  liste=[]\n",
        "  for i,cluster in enumerate(files):\n",
        "    with open(cluster, \"r\") as file:\n",
        "      liste.append(pd.DataFrame(file.readlines(), columns=['tweet']))\n",
        "  return liste"
      ],
      "metadata": {
        "id": "KHMnEfi4QaRp"
      },
      "execution_count": 19,
      "outputs": []
    },
    {
      "cell_type": "code",
      "source": [
        "def matrice_df(liste):\n",
        "  cluster_km=[]\n",
        "  for file in liste:\n",
        "    file.sort(key=extr_num2)\n",
        "    cluster_km.append(read_cluster_df(file))\n",
        "  return cluster_km"
      ],
      "metadata": {
        "id": "bpZT_1z_Ry7Z"
      },
      "execution_count": 22,
      "outputs": []
    },
    {
      "cell_type": "code",
      "source": [
        "%%time\n",
        "brut_cluster= matrice_df(liste_brut)"
      ],
      "metadata": {
        "id": "g83I9zWrQbij",
        "colab": {
          "base_uri": "https://localhost:8080/"
        },
        "outputId": "0695b342-dc0f-4359-808d-f15ceb3210f8"
      },
      "execution_count": 23,
      "outputs": [
        {
          "output_type": "stream",
          "name": "stdout",
          "text": [
            "CPU times: user 591 ms, sys: 134 ms, total: 726 ms\n",
            "Wall time: 52.5 s\n"
          ]
        }
      ]
    },
    {
      "cell_type": "code",
      "source": [
        "len(brut_cluster)"
      ],
      "metadata": {
        "colab": {
          "base_uri": "https://localhost:8080/"
        },
        "id": "t2eDMHV0JJ29",
        "outputId": "0a1a2928-47b5-43e0-8ba6-5035634a591b"
      },
      "execution_count": null,
      "outputs": [
        {
          "output_type": "execute_result",
          "data": {
            "text/plain": [
              "8"
            ]
          },
          "metadata": {},
          "execution_count": 35
        }
      ]
    },
    {
      "cell_type": "code",
      "source": [
        "brut_cluster[1][0]"
      ],
      "metadata": {
        "colab": {
          "base_uri": "https://localhost:8080/",
          "height": 424
        },
        "id": "cOK3X0fQSBV6",
        "outputId": "e664aee3-2e9e-4a95-ae26-8c0ac929e16d"
      },
      "execution_count": 24,
      "outputs": [
        {
          "output_type": "execute_result",
          "data": {
            "text/plain": [
              "                                          tweet\n",
              "0                                     content\\n\n",
              "1                               Tou bué fart@\\n\n",
              "2                   Nazi Barbie. Putin biatch\\n\n",
              "3                             common sense...\\n\n",
              "4                                Tf he do? 😭😂\\n\n",
              "..                                          ...\n",
              "95                                   Comments\\n\n",
              "96  Salope ultime niveau 100. Boss imbattable\\n\n",
              "97          Caleta Car ta mère la grosse pute\\n\n",
              "98                        allume fils de pute\\n\n",
              "99            KEKRKDLRKRKRKFKF Nice try bitch\\n\n",
              "\n",
              "[100 rows x 1 columns]"
            ],
            "text/html": [
              "\n",
              "  <div id=\"df-81b9fe3e-24c3-48a4-b61d-c88acb499736\">\n",
              "    <div class=\"colab-df-container\">\n",
              "      <div>\n",
              "<style scoped>\n",
              "    .dataframe tbody tr th:only-of-type {\n",
              "        vertical-align: middle;\n",
              "    }\n",
              "\n",
              "    .dataframe tbody tr th {\n",
              "        vertical-align: top;\n",
              "    }\n",
              "\n",
              "    .dataframe thead th {\n",
              "        text-align: right;\n",
              "    }\n",
              "</style>\n",
              "<table border=\"1\" class=\"dataframe\">\n",
              "  <thead>\n",
              "    <tr style=\"text-align: right;\">\n",
              "      <th></th>\n",
              "      <th>tweet</th>\n",
              "    </tr>\n",
              "  </thead>\n",
              "  <tbody>\n",
              "    <tr>\n",
              "      <th>0</th>\n",
              "      <td>content\\n</td>\n",
              "    </tr>\n",
              "    <tr>\n",
              "      <th>1</th>\n",
              "      <td>Tou bué fart@\\n</td>\n",
              "    </tr>\n",
              "    <tr>\n",
              "      <th>2</th>\n",
              "      <td>Nazi Barbie. Putin biatch\\n</td>\n",
              "    </tr>\n",
              "    <tr>\n",
              "      <th>3</th>\n",
              "      <td>common sense...\\n</td>\n",
              "    </tr>\n",
              "    <tr>\n",
              "      <th>4</th>\n",
              "      <td>Tf he do? 😭😂\\n</td>\n",
              "    </tr>\n",
              "    <tr>\n",
              "      <th>...</th>\n",
              "      <td>...</td>\n",
              "    </tr>\n",
              "    <tr>\n",
              "      <th>95</th>\n",
              "      <td>Comments\\n</td>\n",
              "    </tr>\n",
              "    <tr>\n",
              "      <th>96</th>\n",
              "      <td>Salope ultime niveau 100. Boss imbattable\\n</td>\n",
              "    </tr>\n",
              "    <tr>\n",
              "      <th>97</th>\n",
              "      <td>Caleta Car ta mère la grosse pute\\n</td>\n",
              "    </tr>\n",
              "    <tr>\n",
              "      <th>98</th>\n",
              "      <td>allume fils de pute\\n</td>\n",
              "    </tr>\n",
              "    <tr>\n",
              "      <th>99</th>\n",
              "      <td>KEKRKDLRKRKRKFKF Nice try bitch\\n</td>\n",
              "    </tr>\n",
              "  </tbody>\n",
              "</table>\n",
              "<p>100 rows × 1 columns</p>\n",
              "</div>\n",
              "      <button class=\"colab-df-convert\" onclick=\"convertToInteractive('df-81b9fe3e-24c3-48a4-b61d-c88acb499736')\"\n",
              "              title=\"Convert this dataframe to an interactive table.\"\n",
              "              style=\"display:none;\">\n",
              "        \n",
              "  <svg xmlns=\"http://www.w3.org/2000/svg\" height=\"24px\"viewBox=\"0 0 24 24\"\n",
              "       width=\"24px\">\n",
              "    <path d=\"M0 0h24v24H0V0z\" fill=\"none\"/>\n",
              "    <path d=\"M18.56 5.44l.94 2.06.94-2.06 2.06-.94-2.06-.94-.94-2.06-.94 2.06-2.06.94zm-11 1L8.5 8.5l.94-2.06 2.06-.94-2.06-.94L8.5 2.5l-.94 2.06-2.06.94zm10 10l.94 2.06.94-2.06 2.06-.94-2.06-.94-.94-2.06-.94 2.06-2.06.94z\"/><path d=\"M17.41 7.96l-1.37-1.37c-.4-.4-.92-.59-1.43-.59-.52 0-1.04.2-1.43.59L10.3 9.45l-7.72 7.72c-.78.78-.78 2.05 0 2.83L4 21.41c.39.39.9.59 1.41.59.51 0 1.02-.2 1.41-.59l7.78-7.78 2.81-2.81c.8-.78.8-2.07 0-2.86zM5.41 20L4 18.59l7.72-7.72 1.47 1.35L5.41 20z\"/>\n",
              "  </svg>\n",
              "      </button>\n",
              "      \n",
              "  <style>\n",
              "    .colab-df-container {\n",
              "      display:flex;\n",
              "      flex-wrap:wrap;\n",
              "      gap: 12px;\n",
              "    }\n",
              "\n",
              "    .colab-df-convert {\n",
              "      background-color: #E8F0FE;\n",
              "      border: none;\n",
              "      border-radius: 50%;\n",
              "      cursor: pointer;\n",
              "      display: none;\n",
              "      fill: #1967D2;\n",
              "      height: 32px;\n",
              "      padding: 0 0 0 0;\n",
              "      width: 32px;\n",
              "    }\n",
              "\n",
              "    .colab-df-convert:hover {\n",
              "      background-color: #E2EBFA;\n",
              "      box-shadow: 0px 1px 2px rgba(60, 64, 67, 0.3), 0px 1px 3px 1px rgba(60, 64, 67, 0.15);\n",
              "      fill: #174EA6;\n",
              "    }\n",
              "\n",
              "    [theme=dark] .colab-df-convert {\n",
              "      background-color: #3B4455;\n",
              "      fill: #D2E3FC;\n",
              "    }\n",
              "\n",
              "    [theme=dark] .colab-df-convert:hover {\n",
              "      background-color: #434B5C;\n",
              "      box-shadow: 0px 1px 3px 1px rgba(0, 0, 0, 0.15);\n",
              "      filter: drop-shadow(0px 1px 2px rgba(0, 0, 0, 0.3));\n",
              "      fill: #FFFFFF;\n",
              "    }\n",
              "  </style>\n",
              "\n",
              "      <script>\n",
              "        const buttonEl =\n",
              "          document.querySelector('#df-81b9fe3e-24c3-48a4-b61d-c88acb499736 button.colab-df-convert');\n",
              "        buttonEl.style.display =\n",
              "          google.colab.kernel.accessAllowed ? 'block' : 'none';\n",
              "\n",
              "        async function convertToInteractive(key) {\n",
              "          const element = document.querySelector('#df-81b9fe3e-24c3-48a4-b61d-c88acb499736');\n",
              "          const dataTable =\n",
              "            await google.colab.kernel.invokeFunction('convertToInteractive',\n",
              "                                                     [key], {});\n",
              "          if (!dataTable) return;\n",
              "\n",
              "          const docLinkHtml = 'Like what you see? Visit the ' +\n",
              "            '<a target=\"_blank\" href=https://colab.research.google.com/notebooks/data_table.ipynb>data table notebook</a>'\n",
              "            + ' to learn more about interactive tables.';\n",
              "          element.innerHTML = '';\n",
              "          dataTable['output_type'] = 'display_data';\n",
              "          await google.colab.output.renderOutput(dataTable, element);\n",
              "          const docLink = document.createElement('div');\n",
              "          docLink.innerHTML = docLinkHtml;\n",
              "          element.appendChild(docLink);\n",
              "        }\n",
              "      </script>\n",
              "    </div>\n",
              "  </div>\n",
              "  "
            ]
          },
          "metadata": {},
          "execution_count": 24
        }
      ]
    },
    {
      "cell_type": "markdown",
      "source": [
        "**4- Mettre les vecteurs dans une liste**"
      ],
      "metadata": {
        "id": "lX81NXqr5Obn"
      }
    },
    {
      "cell_type": "code",
      "source": [
        "liste_vec"
      ],
      "metadata": {
        "id": "D3FjfqwVS1pK"
      },
      "execution_count": null,
      "outputs": []
    },
    {
      "cell_type": "code",
      "source": [
        "def load_array(liste):\n",
        "  liste_vec=[]\n",
        "  for i in range(len(liste)):\n",
        "    liste_vec.append(np.load(liste[i]))\n",
        "  return liste_vec"
      ],
      "metadata": {
        "id": "fXCoIMwGTBpL"
      },
      "execution_count": 26,
      "outputs": []
    },
    {
      "cell_type": "code",
      "source": [
        "liste_af=load_array(liste_vec[7])"
      ],
      "metadata": {
        "id": "4_5YnxhEYFpz"
      },
      "execution_count": 27,
      "outputs": []
    },
    {
      "cell_type": "code",
      "source": [
        "liste_af[14].shape"
      ],
      "metadata": {
        "colab": {
          "base_uri": "https://localhost:8080/"
        },
        "id": "JUhCCDHlYZ-R",
        "outputId": "6255eaa0-f253-4e45-d701-1442beda79a6"
      },
      "execution_count": 28,
      "outputs": [
        {
          "output_type": "execute_result",
          "data": {
            "text/plain": [
              "(188, 768)"
            ]
          },
          "metadata": {},
          "execution_count": 28
        }
      ]
    },
    {
      "cell_type": "code",
      "source": [
        "def matrice_array(liste):\n",
        "  liste_vec=[]\n",
        "  for i in range(len(liste)):\n",
        "      liste_vec.append(load_array(liste[i]))\n",
        "  return liste_vec"
      ],
      "metadata": {
        "id": "UxvmAgkqUHXY"
      },
      "execution_count": 33,
      "outputs": []
    },
    {
      "cell_type": "code",
      "source": [
        "liste_npy=matrice_array(liste_vec)"
      ],
      "metadata": {
        "id": "59CqDJZDT6NQ"
      },
      "execution_count": 34,
      "outputs": []
    },
    {
      "cell_type": "code",
      "source": [
        "liste_npy[7][14].shape"
      ],
      "metadata": {
        "colab": {
          "base_uri": "https://localhost:8080/"
        },
        "id": "jmprDdHdaivl",
        "outputId": "8718805e-434c-4c30-8db1-1605bdf5f7dc"
      },
      "execution_count": null,
      "outputs": [
        {
          "output_type": "execute_result",
          "data": {
            "text/plain": [
              "(188, 768)"
            ]
          },
          "metadata": {},
          "execution_count": 39
        }
      ]
    },
    {
      "cell_type": "code",
      "source": [
        "liste_africain=liste_npy[7]"
      ],
      "metadata": {
        "id": "-Ebevh5AW5Q9"
      },
      "execution_count": null,
      "outputs": []
    },
    {
      "cell_type": "code",
      "source": [
        "liste_africain[14].shape"
      ],
      "metadata": {
        "colab": {
          "base_uri": "https://localhost:8080/"
        },
        "id": "-ift8nTJX7aH",
        "outputId": "5a36969b-a5c0-4338-8921-6c8cf9e24541"
      },
      "execution_count": null,
      "outputs": [
        {
          "output_type": "execute_result",
          "data": {
            "text/plain": [
              "(188, 768)"
            ]
          },
          "metadata": {},
          "execution_count": 80
        }
      ]
    },
    {
      "cell_type": "markdown",
      "source": [
        "**5- Entrainement avec Isolation Forest**"
      ],
      "metadata": {
        "id": "XF1YirHs5iJ4"
      }
    },
    {
      "cell_type": "markdown",
      "source": [
        "**A- Variante contamination fixe**"
      ],
      "metadata": {
        "id": "I72_4FEy50lC"
      }
    },
    {
      "cell_type": "code",
      "source": [
        "def train_if (dataset):\n",
        "  models=[[] for _ in range(len(dataset))]\n",
        "  for i in range(len(dataset)):\n",
        "    for n in range(len(dataset[i])):\n",
        "      if_model=IsolationForest(n_jobs=-1, random_state=42, contamination=0.15)\n",
        "      dataset[i][n].shape\n",
        "      models[i].append(if_model.fit(dataset[i][n]))\n",
        "  return models"
      ],
      "metadata": {
        "id": "MojQy0RrZncY"
      },
      "execution_count": 35,
      "outputs": []
    },
    {
      "cell_type": "code",
      "execution_count": 36,
      "metadata": {
        "colab": {
          "base_uri": "https://localhost:8080/"
        },
        "id": "4k51z-ZfV_Ln",
        "outputId": "127c6cd5-d1ed-49af-bfb1-f66e613ace00"
      },
      "outputs": [
        {
          "output_type": "stream",
          "name": "stdout",
          "text": [
            "CPU times: user 2min 1s, sys: 7.8 s, total: 2min 9s\n",
            "Wall time: 2min 5s\n"
          ]
        }
      ],
      "source": [
        "# Entrainer le modèle\n",
        "%%time\n",
        "models = train_if(liste_npy)"
      ]
    },
    {
      "cell_type": "code",
      "source": [
        "def pred(dataset,model):\n",
        "  preds=[[] for _ in range(len(dataset))]\n",
        "  for i in range(len(dataset)):\n",
        "    for n in range(len(dataset[i])):\n",
        "      preds[i].append(model[i][n].predict(dataset[i][n]))\n",
        "  return preds"
      ],
      "metadata": {
        "id": "MXra7PWMb_t3"
      },
      "execution_count": 37,
      "outputs": []
    },
    {
      "cell_type": "code",
      "source": [
        "def pred_df(dataset,model, data):\n",
        "  preds=[[] for _ in range(len(dataset))]\n",
        "  for i in range(len(dataset)):\n",
        "    for n in range(len(dataset[i])):\n",
        "      data[i][n]['pred']=model[i][n].predict(dataset[i][n])\n",
        "  "
      ],
      "metadata": {
        "id": "qeuo71pxdQSk"
      },
      "execution_count": 38,
      "outputs": []
    },
    {
      "cell_type": "code",
      "source": [
        "pred_df(liste_npy, models, brut_cluster)"
      ],
      "metadata": {
        "id": "bhp0_xeNdfjT"
      },
      "execution_count": 39,
      "outputs": []
    },
    {
      "cell_type": "code",
      "source": [
        "brut_cluster[1][0]"
      ],
      "metadata": {
        "colab": {
          "base_uri": "https://localhost:8080/",
          "height": 424
        },
        "id": "Rv2w8Bdtk0bY",
        "outputId": "c1f81b90-8530-49ac-c648-2498072835a7"
      },
      "execution_count": null,
      "outputs": [
        {
          "output_type": "execute_result",
          "data": {
            "text/plain": [
              "                                          tweet  pred\n",
              "0                                     content\\n    -1\n",
              "1                               Tou bué fart@\\n     1\n",
              "2                   Nazi Barbie. Putin biatch\\n     1\n",
              "3                             common sense...\\n     1\n",
              "4                                Tf he do? 😭😂\\n     1\n",
              "..                                          ...   ...\n",
              "95                                   Comments\\n     1\n",
              "96  Salope ultime niveau 100. Boss imbattable\\n    -1\n",
              "97          Caleta Car ta mère la grosse pute\\n     1\n",
              "98                        allume fils de pute\\n     1\n",
              "99            KEKRKDLRKRKRKFKF Nice try bitch\\n     1\n",
              "\n",
              "[100 rows x 2 columns]"
            ],
            "text/html": [
              "\n",
              "  <div id=\"df-dcfa0877-a756-4d77-ad9b-6d8a3e8e6de5\">\n",
              "    <div class=\"colab-df-container\">\n",
              "      <div>\n",
              "<style scoped>\n",
              "    .dataframe tbody tr th:only-of-type {\n",
              "        vertical-align: middle;\n",
              "    }\n",
              "\n",
              "    .dataframe tbody tr th {\n",
              "        vertical-align: top;\n",
              "    }\n",
              "\n",
              "    .dataframe thead th {\n",
              "        text-align: right;\n",
              "    }\n",
              "</style>\n",
              "<table border=\"1\" class=\"dataframe\">\n",
              "  <thead>\n",
              "    <tr style=\"text-align: right;\">\n",
              "      <th></th>\n",
              "      <th>tweet</th>\n",
              "      <th>pred</th>\n",
              "    </tr>\n",
              "  </thead>\n",
              "  <tbody>\n",
              "    <tr>\n",
              "      <th>0</th>\n",
              "      <td>content\\n</td>\n",
              "      <td>-1</td>\n",
              "    </tr>\n",
              "    <tr>\n",
              "      <th>1</th>\n",
              "      <td>Tou bué fart@\\n</td>\n",
              "      <td>1</td>\n",
              "    </tr>\n",
              "    <tr>\n",
              "      <th>2</th>\n",
              "      <td>Nazi Barbie. Putin biatch\\n</td>\n",
              "      <td>1</td>\n",
              "    </tr>\n",
              "    <tr>\n",
              "      <th>3</th>\n",
              "      <td>common sense...\\n</td>\n",
              "      <td>1</td>\n",
              "    </tr>\n",
              "    <tr>\n",
              "      <th>4</th>\n",
              "      <td>Tf he do? 😭😂\\n</td>\n",
              "      <td>1</td>\n",
              "    </tr>\n",
              "    <tr>\n",
              "      <th>...</th>\n",
              "      <td>...</td>\n",
              "      <td>...</td>\n",
              "    </tr>\n",
              "    <tr>\n",
              "      <th>95</th>\n",
              "      <td>Comments\\n</td>\n",
              "      <td>1</td>\n",
              "    </tr>\n",
              "    <tr>\n",
              "      <th>96</th>\n",
              "      <td>Salope ultime niveau 100. Boss imbattable\\n</td>\n",
              "      <td>-1</td>\n",
              "    </tr>\n",
              "    <tr>\n",
              "      <th>97</th>\n",
              "      <td>Caleta Car ta mère la grosse pute\\n</td>\n",
              "      <td>1</td>\n",
              "    </tr>\n",
              "    <tr>\n",
              "      <th>98</th>\n",
              "      <td>allume fils de pute\\n</td>\n",
              "      <td>1</td>\n",
              "    </tr>\n",
              "    <tr>\n",
              "      <th>99</th>\n",
              "      <td>KEKRKDLRKRKRKFKF Nice try bitch\\n</td>\n",
              "      <td>1</td>\n",
              "    </tr>\n",
              "  </tbody>\n",
              "</table>\n",
              "<p>100 rows × 2 columns</p>\n",
              "</div>\n",
              "      <button class=\"colab-df-convert\" onclick=\"convertToInteractive('df-dcfa0877-a756-4d77-ad9b-6d8a3e8e6de5')\"\n",
              "              title=\"Convert this dataframe to an interactive table.\"\n",
              "              style=\"display:none;\">\n",
              "        \n",
              "  <svg xmlns=\"http://www.w3.org/2000/svg\" height=\"24px\"viewBox=\"0 0 24 24\"\n",
              "       width=\"24px\">\n",
              "    <path d=\"M0 0h24v24H0V0z\" fill=\"none\"/>\n",
              "    <path d=\"M18.56 5.44l.94 2.06.94-2.06 2.06-.94-2.06-.94-.94-2.06-.94 2.06-2.06.94zm-11 1L8.5 8.5l.94-2.06 2.06-.94-2.06-.94L8.5 2.5l-.94 2.06-2.06.94zm10 10l.94 2.06.94-2.06 2.06-.94-2.06-.94-.94-2.06-.94 2.06-2.06.94z\"/><path d=\"M17.41 7.96l-1.37-1.37c-.4-.4-.92-.59-1.43-.59-.52 0-1.04.2-1.43.59L10.3 9.45l-7.72 7.72c-.78.78-.78 2.05 0 2.83L4 21.41c.39.39.9.59 1.41.59.51 0 1.02-.2 1.41-.59l7.78-7.78 2.81-2.81c.8-.78.8-2.07 0-2.86zM5.41 20L4 18.59l7.72-7.72 1.47 1.35L5.41 20z\"/>\n",
              "  </svg>\n",
              "      </button>\n",
              "      \n",
              "  <style>\n",
              "    .colab-df-container {\n",
              "      display:flex;\n",
              "      flex-wrap:wrap;\n",
              "      gap: 12px;\n",
              "    }\n",
              "\n",
              "    .colab-df-convert {\n",
              "      background-color: #E8F0FE;\n",
              "      border: none;\n",
              "      border-radius: 50%;\n",
              "      cursor: pointer;\n",
              "      display: none;\n",
              "      fill: #1967D2;\n",
              "      height: 32px;\n",
              "      padding: 0 0 0 0;\n",
              "      width: 32px;\n",
              "    }\n",
              "\n",
              "    .colab-df-convert:hover {\n",
              "      background-color: #E2EBFA;\n",
              "      box-shadow: 0px 1px 2px rgba(60, 64, 67, 0.3), 0px 1px 3px 1px rgba(60, 64, 67, 0.15);\n",
              "      fill: #174EA6;\n",
              "    }\n",
              "\n",
              "    [theme=dark] .colab-df-convert {\n",
              "      background-color: #3B4455;\n",
              "      fill: #D2E3FC;\n",
              "    }\n",
              "\n",
              "    [theme=dark] .colab-df-convert:hover {\n",
              "      background-color: #434B5C;\n",
              "      box-shadow: 0px 1px 3px 1px rgba(0, 0, 0, 0.15);\n",
              "      filter: drop-shadow(0px 1px 2px rgba(0, 0, 0, 0.3));\n",
              "      fill: #FFFFFF;\n",
              "    }\n",
              "  </style>\n",
              "\n",
              "      <script>\n",
              "        const buttonEl =\n",
              "          document.querySelector('#df-dcfa0877-a756-4d77-ad9b-6d8a3e8e6de5 button.colab-df-convert');\n",
              "        buttonEl.style.display =\n",
              "          google.colab.kernel.accessAllowed ? 'block' : 'none';\n",
              "\n",
              "        async function convertToInteractive(key) {\n",
              "          const element = document.querySelector('#df-dcfa0877-a756-4d77-ad9b-6d8a3e8e6de5');\n",
              "          const dataTable =\n",
              "            await google.colab.kernel.invokeFunction('convertToInteractive',\n",
              "                                                     [key], {});\n",
              "          if (!dataTable) return;\n",
              "\n",
              "          const docLinkHtml = 'Like what you see? Visit the ' +\n",
              "            '<a target=\"_blank\" href=https://colab.research.google.com/notebooks/data_table.ipynb>data table notebook</a>'\n",
              "            + ' to learn more about interactive tables.';\n",
              "          element.innerHTML = '';\n",
              "          dataTable['output_type'] = 'display_data';\n",
              "          await google.colab.output.renderOutput(dataTable, element);\n",
              "          const docLink = document.createElement('div');\n",
              "          docLink.innerHTML = docLinkHtml;\n",
              "          element.appendChild(docLink);\n",
              "        }\n",
              "      </script>\n",
              "    </div>\n",
              "  </div>\n",
              "  "
            ]
          },
          "metadata": {},
          "execution_count": 44
        }
      ]
    },
    {
      "cell_type": "code",
      "execution_count": 40,
      "metadata": {
        "id": "Lf4-uqoxgXpl"
      },
      "outputs": [],
      "source": [
        "# Trouver les outliers de chaque cluster\n",
        "# ceux dont l'index est -1\n",
        "def separate_outliers(liste_df, pertinent):\n",
        "  clusters_clean=[]\n",
        "  for i,n in enumerate(pertinent):\n",
        "    clusters_clean.append(liste_df[n]['tweet'].loc[liste_df[n]['pred']==1])\n",
        "    print(\"cluster\"+str(n)+\":\"+\"\\n\")\n",
        "    print(liste_df[n]['pred'].value_counts())\n",
        "    print(\"\\n\")\n",
        "  return clusters_clean"
      ]
    },
    {
      "cell_type": "code",
      "source": [
        "def separate_matrice(liste, pertinent_cluster):\n",
        "  liste_clean=[]\n",
        "  for i in range(len(liste)):\n",
        "    liste_clean.append(separate_outliers(liste[i], pertinent_cluster[i]))\n",
        "  return liste_clean"
      ],
      "metadata": {
        "id": "niMAVsh-lFPQ"
      },
      "execution_count": 41,
      "outputs": []
    },
    {
      "cell_type": "code",
      "source": [
        "liste_clean= separate_matrice(brut_cluster, pertinent_cluster)"
      ],
      "metadata": {
        "id": "Fn0KAIfomI-k"
      },
      "execution_count": null,
      "outputs": []
    },
    {
      "cell_type": "code",
      "source": [
        "for i in range(len(pertinent_cluster)):\n",
        "  print(len(pertinent_cluster[i]))\n"
      ],
      "metadata": {
        "colab": {
          "base_uri": "https://localhost:8080/"
        },
        "id": "hnwhvYSGx_nO",
        "outputId": "f9b05948-c1c9-4f1f-e55e-48feea09626f"
      },
      "execution_count": 43,
      "outputs": [
        {
          "output_type": "stream",
          "name": "stdout",
          "text": [
            "10\n",
            "27\n",
            "13\n",
            "14\n",
            "21\n",
            "19\n",
            "17\n",
            "15\n"
          ]
        }
      ]
    },
    {
      "cell_type": "code",
      "source": [
        "for i in range(len(liste_clean)):\n",
        "  print(len(liste_clean[i]))"
      ],
      "metadata": {
        "colab": {
          "base_uri": "https://localhost:8080/"
        },
        "id": "k5BiC4UVnHHv",
        "outputId": "1f4fafe7-f5ba-4e27-af68-aa837a95d507"
      },
      "execution_count": null,
      "outputs": [
        {
          "output_type": "stream",
          "name": "stdout",
          "text": [
            "10\n",
            "27\n",
            "13\n",
            "14\n",
            "21\n",
            "19\n",
            "17\n",
            "15\n"
          ]
        }
      ]
    },
    {
      "cell_type": "code",
      "execution_count": 44,
      "metadata": {
        "id": "MjIFW46YAzB5"
      },
      "outputs": [],
      "source": [
        "def save_cluster(liste, file, repo, pertinent):\n",
        "  for i,n in enumerate(pertinent):\n",
        "    with open(f\"drive/MyDrive/\"+repo+file+f\"_{n}\", 'w') as f:\n",
        "      for line in liste[i]:\n",
        "        f.write(line)"
      ]
    },
    {
      "cell_type": "code",
      "source": [
        "liste=[\"mus\",\"miso\",\"gitan\",\"chret\",\"capa\",\"arabe\",\"antis\",\"afro\"]"
      ],
      "metadata": {
        "id": "vUb4eboKoGh1"
      },
      "execution_count": 47,
      "outputs": []
    },
    {
      "cell_type": "code",
      "source": [
        "def loop_outliers(data, liste, chaine, pertinent):\n",
        "  for i in range(len(data)):\n",
        "    save_cluster(data[i],liste[i], chaine,pertinent[i])"
      ],
      "metadata": {
        "id": "bM0wo-uknxtN"
      },
      "execution_count": 48,
      "outputs": []
    },
    {
      "cell_type": "code",
      "source": [
        "loop_outliers(liste_clean, liste, \"clean_bert_som49/\", pertinent_cluster)"
      ],
      "metadata": {
        "id": "6ls9hJNPpqND"
      },
      "execution_count": 49,
      "outputs": []
    }
  ],
  "metadata": {
    "colab": {
      "name": "IF_Clusters49_BERT.ipynb",
      "provenance": [],
      "authorship_tag": "ABX9TyO4RHevncr7U6+88XH7UmwQ"
    },
    "kernelspec": {
      "display_name": "Python 3",
      "name": "python3"
    },
    "language_info": {
      "name": "python"
    }
  },
  "nbformat": 4,
  "nbformat_minor": 0
}