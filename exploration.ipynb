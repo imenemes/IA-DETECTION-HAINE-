{
  "nbformat": 4,
  "nbformat_minor": 0,
  "metadata": {
    "colab": {
      "name": "exploration.ipynb",
      "provenance": [],
      "authorship_tag": "ABX9TyM4tqeI401f9J/JD4bHptQh"
    },
    "kernelspec": {
      "name": "python3",
      "display_name": "Python 3"
    },
    "language_info": {
      "name": "python"
    }
  },
  "cells": [
    {
      "cell_type": "markdown",
      "source": [
        "**Exploratory Data Analysis**"
      ],
      "metadata": {
        "id": "wN0zkNpm3p-g"
      }
    },
    {
      "cell_type": "code",
      "source": [
        "#Examiner la longueur en caractères de chaque tweet \n",
        "data['pre_clean_longueur'] = [len(t) for t in data.tweet]\n",
        "print(data.pre_clean_longueur)"
      ],
      "metadata": {
        "id": "jcArFuD-t8RY",
        "colab": {
          "base_uri": "https://localhost:8080/"
        },
        "outputId": "16b8ad20-e408-4fae-f548-cc36b89bbdcf"
      },
      "execution_count": null,
      "outputs": [
        {
          "output_type": "stream",
          "name": "stdout",
          "text": [
            "0         120\n",
            "1          35\n",
            "2         100\n",
            "3          49\n",
            "4           7\n",
            "         ... \n",
            "99996     204\n",
            "99997      45\n",
            "99998      41\n",
            "99999      52\n",
            "100000    107\n",
            "Name: pre_clean_longueur, Length: 100001, dtype: int64\n"
          ]
        }
      ]
    },
    {
      "cell_type": "code",
      "source": [
        "import matplotlib.pyplot as plt \n",
        "#Boxplot illustrant la longueur des tweets afin de vérifier s'ils respectent la limite de 140 caractères. Si ce n'est pas le cas, cela signifie qu'il y a du texte superflue inclut dans les tweets (ex. : séquence de bytes UTF-8 BOM qui se présente par une suite de caractères : “\\xef\\xbf\\xbd” dans les tweets) et qu'un nettoyage accru s'avère nécessaire. \n",
        "fig, ax = plt.subplots(figsize=(10, 10))\n",
        "plt.boxplot(data.pre_clean_longueur)\n",
        "ax.set_xlabel('Distribution')\n",
        "ax.set_ylabel('Longueur en caracteres')\n",
        "plt.show()"
      ],
      "metadata": {
        "id": "J1m2-Giq3lMR",
        "colab": {
          "base_uri": "https://localhost:8080/",
          "height": 606
        },
        "outputId": "259568ef-6551-4ade-cf22-e276af94f1df"
      },
      "execution_count": null,
      "outputs": [
        {
          "output_type": "display_data",
          "data": {
            "image/png": "[encoded data removed]",
            "text/plain": [
              "<Figure size 720x720 with 1 Axes>"
            ]
          },
          "metadata": {
            "needs_background": "light"
          }
        }
      ]
    }
  ]
}