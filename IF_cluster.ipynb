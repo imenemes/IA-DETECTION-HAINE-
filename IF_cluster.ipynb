{
  "cells": [
    {
      "cell_type": "code",
      "execution_count": 1,
      "metadata": {
        "id": "y-ketQ-qCSy1"
      },
      "outputs": [],
      "source": [
        "import pandas as pd\n",
        "import glob"
      ]
    },
    {
      "cell_type": "code",
      "execution_count": 2,
      "metadata": {
        "colab": {
          "base_uri": "https://localhost:8080/"
        },
        "id": "NC5JlNsXb0Dl",
        "outputId": "b9f4c425-851f-4acb-bf3c-eb1661f31945"
      },
      "outputs": [
        {
          "output_type": "stream",
          "name": "stdout",
          "text": [
            "Mounted at /content/drive\n"
          ]
        }
      ],
      "source": [
        "from google.colab import drive\n",
        "drive.mount('/content/drive')"
      ]
    },
    {
      "cell_type": "code",
      "execution_count": 3,
      "metadata": {
        "id": "eaNKVb9tz_O2"
      },
      "outputs": [],
      "source": [
        "# récupérer les fichier du dossier contenant les fihcier de clusters\n",
        "# glob aide à faire un trie par regex afin d'en choisir les fichiers nettoyés\n",
        "list_cluster= glob.glob('/content/drive/MyDrive/Colab Notebooks/km/*clean*')"
      ]
    },
    {
      "cell_type": "code",
      "execution_count": 4,
      "metadata": {
        "colab": {
          "base_uri": "https://localhost:8080/"
        },
        "id": "ufrbbAv80bQ7",
        "outputId": "b57afe33-2164-442b-a089-ea930267700c"
      },
      "outputs": [
        {
          "output_type": "stream",
          "name": "stdout",
          "text": [
            "['/content/drive/MyDrive/Colab Notebooks/km/km_cluster_2_clean_msg.txt', '/content/drive/MyDrive/Colab Notebooks/km/km_cluster_1_clean_msg.txt', '/content/drive/MyDrive/Colab Notebooks/km/km_cluster_0_clean_msg.txt', '/content/drive/MyDrive/Colab Notebooks/km/km_cluster_5_clean_msg.txt', '/content/drive/MyDrive/Colab Notebooks/km/km_cluster_6_clean_msg.txt', '/content/drive/MyDrive/Colab Notebooks/km/km_cluster_9_clean_msg.txt', '/content/drive/MyDrive/Colab Notebooks/km/km_cluster_8_clean_msg.txt', '/content/drive/MyDrive/Colab Notebooks/km/km_cluster_3_clean_msg.txt', '/content/drive/MyDrive/Colab Notebooks/km/km_cluster_7_clean_msg.txt', '/content/drive/MyDrive/Colab Notebooks/km/km_cluster_4_clean_msg.txt']\n"
          ]
        }
      ],
      "source": [
        "# vérifier la liste\n",
        "print(list_cluster)"
      ]
    },
    {
      "cell_type": "code",
      "execution_count": 5,
      "metadata": {
        "id": "R5qyxGfMcJVl"
      },
      "outputs": [],
      "source": [
        "# fonction pour lire une liste de fichier \n",
        "# argument : une liste de fichiers\n",
        "# sortie: dictionnaire\n",
        "def read_cluster(files):\n",
        "  dic={}\n",
        "  for i,cluster in enumerate(files):\n",
        "    with open(cluster, \"r\") as file:\n",
        "      dic[i] = file.readlines()\n",
        "  return dic"
      ]
    },
    {
      "cell_type": "code",
      "execution_count": 6,
      "metadata": {
        "id": "7DqNmzR820fl"
      },
      "outputs": [],
      "source": [
        "dic= read_cluster(list_cluster)"
      ]
    },
    {
      "cell_type": "code",
      "execution_count": 7,
      "metadata": {
        "colab": {
          "base_uri": "https://localhost:8080/"
        },
        "id": "JXDAPe8Y7MxJ",
        "outputId": "d19a0608-c905-499d-d0e7-9da012cbd790"
      },
      "outputs": [
        {
          "output_type": "stream",
          "name": "stdout",
          "text": [
            "184481\n"
          ]
        }
      ],
      "source": [
        "print(len(dic[9]))"
      ]
    },
    {
      "cell_type": "code",
      "execution_count": 8,
      "metadata": {
        "id": "fMymLS7XCjbx"
      },
      "outputs": [],
      "source": [
        "# Mettre chaque dictionnaire dans un dataframe\n",
        "for i in range(len(list_cluster)):\n",
        "  vars()[\"data_\"+str(i)]=pd.DataFrame(dic[i], columns = ['tweet'])"
      ]
    },
    {
      "cell_type": "code",
      "execution_count": 9,
      "metadata": {
        "colab": {
          "base_uri": "https://localhost:8080/"
        },
        "id": "9kZqrkGnya_N",
        "outputId": "b67d5cbc-e64a-44d8-a875-7da7639581fc"
      },
      "outputs": [
        {
          "output_type": "stream",
          "name": "stdout",
          "text": [
            "                 tweet\n",
            "0                   \\n\n",
            "1                   \\n\n",
            "2                   \\n\n",
            "3                   \\n\n",
            "4                   \\n\n",
            "5  alexanderducharme\\n\n",
            "6         ampkkqvdid\\n\n",
            "7       audreyloggin\\n\n",
            "8       beautybashhh\\n\n",
            "9       beautybashhh\\n\n"
          ]
        }
      ],
      "source": [
        "print(data_3.head(10))"
      ]
    },
    {
      "cell_type": "code",
      "execution_count": null,
      "metadata": {
        "id": "vTrhLmsXc-zm"
      },
      "outputs": [],
      "source": [
        "!pip install gensim==4.0"
      ]
    },
    {
      "cell_type": "code",
      "execution_count": 11,
      "metadata": {
        "colab": {
          "base_uri": "https://localhost:8080/"
        },
        "id": "D7_sV7SbDuhQ",
        "outputId": "90c95c41-b9c8-4560-ff58-b88673105ab0"
      },
      "outputs": [
        {
          "output_type": "stream",
          "name": "stderr",
          "text": [
            "/usr/local/lib/python3.7/dist-packages/gensim/similarities/__init__.py:15: UserWarning: The gensim.similarities.levenshtein submodule is disabled, because the optional Levenshtein package <https://pypi.org/project/python-Levenshtein/> is unavailable. Install Levenhstein (e.g. `pip install python-Levenshtein`) to suppress this warning.\n",
            "  warnings.warn(msg)\n"
          ]
        }
      ],
      "source": [
        "from gensim.models import KeyedVectors"
      ]
    },
    {
      "cell_type": "code",
      "execution_count": 12,
      "metadata": {
        "id": "I1yZQP5dJP8L"
      },
      "outputs": [],
      "source": [
        "# récupérer les embeddings entrainés sur nos données\n",
        "w2v = KeyedVectors.load('/content/drive/MyDrive/Colab Notebooks/w2vec_model_d300_1M')"
      ]
    },
    {
      "cell_type": "code",
      "execution_count": 13,
      "metadata": {
        "id": "z8b5pRSDN6eb"
      },
      "outputs": [],
      "source": [
        "import numpy as np"
      ]
    },
    {
      "cell_type": "code",
      "execution_count": 14,
      "metadata": {
        "id": "POuffGvENwVh"
      },
      "outputs": [],
      "source": [
        "#encode un message\n",
        "def encode(msg):\n",
        "    return np.mean([w2v[word] for word in msg if word in w2v] or [np.zeros(300)], axis = 0)"
      ]
    },
    {
      "cell_type": "code",
      "execution_count": 15,
      "metadata": {
        "colab": {
          "base_uri": "https://localhost:8080/"
        },
        "id": "QHb_AjRKQsZe",
        "outputId": "f41511ad-dc6d-43b3-df3f-cc9e8ad3ddb5"
      },
      "outputs": [
        {
          "output_type": "execute_result",
          "data": {
            "text/plain": [
              "[('sal', 0.6782066822052002),\n",
              " ('pvte', 0.629138708114624),\n",
              " ('mèrde', 0.6162537336349487),\n",
              " ('pute', 0.6096962094306946),\n",
              " ('pte', 0.6044666767120361),\n",
              " ('clochard', 0.6014346480369568),\n",
              " ('slp', 0.6004031896591187),\n",
              " ('crasseux', 0.5957321524620056),\n",
              " ('puent', 0.5908592939376831),\n",
              " ('daronn', 0.5900101661682129)]"
            ]
          },
          "metadata": {},
          "execution_count": 15
        }
      ],
      "source": [
        "w2v.similar_by_word(\"sale\")"
      ]
    },
    {
      "cell_type": "code",
      "execution_count": 16,
      "metadata": {
        "id": "SkTP5_y6TtX8"
      },
      "outputs": [],
      "source": [
        "# Encoder un dictionnaire \n",
        "def encoded(dic):\n",
        "  w2v={}\n",
        "  for i in range(len(dic)):\n",
        "    w2v[i]=np.array([encode(msg) for msg in dic[i]])\n",
        "  return w2v"
      ]
    },
    {
      "cell_type": "code",
      "execution_count": 17,
      "metadata": {
        "colab": {
          "base_uri": "https://localhost:8080/"
        },
        "id": "7-WWO8SbNzow",
        "outputId": "20d21694-d138-46c3-cf85-7aaef969630c"
      },
      "outputs": [
        {
          "output_type": "stream",
          "name": "stdout",
          "text": [
            "CPU times: user 45.5 s, sys: 3.15 s, total: 48.6 s\n",
            "Wall time: 48.8 s\n"
          ]
        }
      ],
      "source": [
        "%%time\n",
        "#encodage de l'échantillon pour créer le jeu de données\n",
        "dataset_encoded = encoded(dic)"
      ]
    },
    {
      "cell_type": "code",
      "execution_count": 18,
      "metadata": {
        "colab": {
          "base_uri": "https://localhost:8080/"
        },
        "id": "ffz7YlFYUrnY",
        "outputId": "1bef3cbf-1116-468e-c5e5-8409165c232c"
      },
      "outputs": [
        {
          "output_type": "stream",
          "name": "stdout",
          "text": [
            "4333\n"
          ]
        }
      ],
      "source": [
        "print(len(dataset_encoded[0]))"
      ]
    },
    {
      "cell_type": "code",
      "execution_count": 23,
      "metadata": {
        "id": "L0EXntvo6QhB"
      },
      "outputs": [],
      "source": [
        "from sklearn.ensemble import IsolationForest\n",
        "\n",
        "# definir le modèle ainsi que ses paramètres\n",
        "clf=IsolationForest(n_estimators=100, max_samples='auto', \\\n",
        "                        max_features=1.0, bootstrap=False, n_jobs=-1, random_state=42, verbose=0)\n"
      ]
    },
    {
      "cell_type": "code",
      "execution_count": 24,
      "metadata": {
        "id": "4k51z-ZfV_Ln",
        "colab": {
          "base_uri": "https://localhost:8080/"
        },
        "outputId": "f913a380-931a-40ba-cd7e-b84fb94ff2a2"
      },
      "outputs": [
        {
          "output_type": "stream",
          "name": "stdout",
          "text": [
            "CPU times: user 8min 55s, sys: 2.99 s, total: 8min 58s\n",
            "Wall time: 4min 44s\n"
          ]
        }
      ],
      "source": [
        "# Entrainer le modèle\n",
        "%%time\n",
        "for i in range(len(dataset_encoded)):\n",
        "  clf.fit(dataset_encoded[i])"
      ]
    },
    {
      "cell_type": "code",
      "execution_count": 25,
      "metadata": {
        "colab": {
          "base_uri": "https://localhost:8080/"
        },
        "id": "s7ryXl2tBgSF",
        "outputId": "a040120c-bbd0-48bc-e45b-418cf3559055"
      },
      "outputs": [
        {
          "output_type": "stream",
          "name": "stdout",
          "text": [
            "CPU times: user 2min 9s, sys: 5.12 s, total: 2min 14s\n",
            "Wall time: 2min 23s\n"
          ]
        }
      ],
      "source": [
        "#mettre les prédictions dans un dictionnaire\n",
        "%%time\n",
        "pred={}\n",
        "for i in range(len(dataset_encoded)):\n",
        "  pred[i] = clf.predict(dataset_encoded[i])"
      ]
    },
    {
      "cell_type": "code",
      "execution_count": 26,
      "metadata": {
        "colab": {
          "base_uri": "https://localhost:8080/"
        },
        "id": "RDImXxsAhFbb",
        "outputId": "4b9ffa08-ca79-44ed-9fe8-5bf0b19b8d4a"
      },
      "outputs": [
        {
          "output_type": "stream",
          "name": "stdout",
          "text": [
            "[ 1  1 -1 ...  1  1  1]\n"
          ]
        }
      ],
      "source": [
        "print(pred[1])"
      ]
    },
    {
      "cell_type": "code",
      "execution_count": 27,
      "metadata": {
        "id": "196-bkDCB46a"
      },
      "outputs": [],
      "source": [
        "# ajouter une colonne pred à chaque dataframe de cluster\n",
        "for i in range(len(dataset_encoded)):\n",
        "  vars()[\"data_\"+str(i)]['pred']= pred[i]"
      ]
    },
    {
      "cell_type": "code",
      "execution_count": 28,
      "metadata": {
        "colab": {
          "base_uri": "https://localhost:8080/"
        },
        "id": "UBAkvlMtuBl0",
        "outputId": "47ca1161-9f93-48c8-bfb2-977a49fdd68d"
      },
      "outputs": [
        {
          "output_type": "stream",
          "name": "stdout",
          "text": [
            "                                                tweet  pred\n",
            "0                                             roser\\n     1\n",
            "1                 our choice is rosé mamavote roser\\n     1\n",
            "2                    ra_apex_divisioncommission for\\n    -1\n",
            "3   manifesting surprise dm manifesting surprise d...     1\n",
            "4                                              vote\\n     1\n",
            "5                                               vot\\n     1\n",
            "6                                       vote carats\\n     1\n",
            "7                        géministhesong butter pcer\\n     1\n",
            "8   votes votes votes vote votes vote come elf vot...     1\n",
            "9                 themusicvideo butter pca vote bts\\n     1\n",
            "10                                        vote damn\\n     1\n",
            "11                                             vote\\n     1\n",
            "12                                             vote\\n     1\n",
            "13                                             vote\\n     1\n",
            "14                                             vote\\n     1\n",
            "15                                  votestotal vote\\n     1\n",
            "16                          manifesting surprise dm\\n     1\n",
            "17                           more votes for enhypen\\n     1\n",
            "18                                      vot enhypen\\n     1\n",
            "19                 mama and mma vote mamavote roser\\n     1\n"
          ]
        }
      ],
      "source": [
        "print(data_1.head(20))"
      ]
    },
    {
      "cell_type": "code",
      "execution_count": 29,
      "metadata": {
        "colab": {
          "base_uri": "https://localhost:8080/"
        },
        "id": "B6KfbLjeuLmz",
        "outputId": "01dfb7dc-e2e3-4fb3-adce-322f2e0ed87f"
      },
      "outputs": [
        {
          "output_type": "stream",
          "name": "stdout",
          "text": [
            "cluster0:\n",
            "\n",
            " 1    4263\n",
            "-1      70\n",
            "Name: pred, dtype: int64\n",
            "\n",
            "\n",
            "cluster1:\n",
            "\n",
            " 1    4115\n",
            "-1      68\n",
            "Name: pred, dtype: int64\n",
            "\n",
            "\n",
            "cluster2:\n",
            "\n",
            " 1    79715\n",
            "-1    10267\n",
            "Name: pred, dtype: int64\n",
            "\n",
            "\n",
            "cluster3:\n",
            "\n",
            " 1    31015\n",
            "-1      846\n",
            "Name: pred, dtype: int64\n",
            "\n",
            "\n",
            "cluster4:\n",
            "\n",
            " 1    70205\n",
            "-1    23295\n",
            "Name: pred, dtype: int64\n",
            "\n",
            "\n",
            "cluster5:\n",
            "\n",
            " 1    13206\n",
            "-1      690\n",
            "Name: pred, dtype: int64\n",
            "\n",
            "\n",
            "cluster6:\n",
            "\n",
            " 1    74577\n",
            "-1     6548\n",
            "Name: pred, dtype: int64\n",
            "\n",
            "\n",
            "cluster7:\n",
            "\n",
            " 1    75177\n",
            "-1    32094\n",
            "Name: pred, dtype: int64\n",
            "\n",
            "\n",
            "cluster8:\n",
            "\n",
            " 1    45472\n",
            "-1     2028\n",
            "Name: pred, dtype: int64\n",
            "\n",
            "\n",
            "cluster9:\n",
            "\n",
            " 1    148950\n",
            "-1     35531\n",
            "Name: pred, dtype: int64\n",
            "\n",
            "\n"
          ]
        }
      ],
      "source": [
        "# Trouver les outliers de chaque cluster\n",
        "# ceux dont l'index est -1\n",
        "outliers={}\n",
        "for i in range(len(dataset_encoded)):\n",
        "  outliers[i]=vars()[\"data_\"+str(i)].loc[vars()[\"data_\"+str(i)]['pred']==-1]\n",
        "  outlier_index=list(outliers[i].index)\n",
        "  print(\"cluster\"+str(i)+\":\"+\"\\n\")\n",
        "  print(vars()[\"data_\"+str(i)]['pred'].value_counts())\n",
        "  print(\"\\n\")"
      ]
    },
    {
      "cell_type": "code",
      "execution_count": 34,
      "metadata": {
        "id": "AgIxwZ1io6d_"
      },
      "outputs": [],
      "source": [
        "for i in range(len(outliers)):\n",
        "  with open(f\"drive/MyDrive/outliers/outliers{i}\", 'w') as f:\n",
        "    f.write(str(outliers[i]))"
      ]
    }
  ],
  "metadata": {
    "colab": {
      "name": "IF_cluster.ipynb",
      "provenance": [],
      "authorship_tag": "ABX9TyM0M/Hqi6iRS+DLw7aAnumF"
    },
    "kernelspec": {
      "display_name": "Python 3",
      "name": "python3"
    },
    "language_info": {
      "name": "python"
    }
  },
  "nbformat": 4,
  "nbformat_minor": 0
}