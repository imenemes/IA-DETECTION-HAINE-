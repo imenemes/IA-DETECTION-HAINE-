{
  "nbformat": 4,
  "nbformat_minor": 0,
  "metadata": {
    "colab": {
      "name": "eval_min.ipynb",
      "provenance": [],
      "authorship_tag": "ABX9TyM+k0yRftY34MlcQXPnFHG4"
    },
    "kernelspec": {
      "name": "python3",
      "display_name": "Python 3"
    },
    "language_info": {
      "name": "python"
    }
  },
  "cells": [
    {
      "cell_type": "code",
      "execution_count": null,
      "metadata": {
        "id": "sBAVaH1UBHXv"
      },
      "outputs": [],
      "source": [
        "import pandas as pd\n",
        "import glob"
      ]
    },
    {
      "cell_type": "code",
      "source": [
        "from google.colab import drive\n",
        "drive.mount('/content/drive')"
      ],
      "metadata": {
        "colab": {
          "base_uri": "https://localhost:8080/"
        },
        "id": "eJZ6V8NGBI7B",
        "outputId": "e5155476-83c7-4099-9980-62ce70323f35"
      },
      "execution_count": null,
      "outputs": [
        {
          "output_type": "stream",
          "name": "stdout",
          "text": [
            "Mounted at /content/drive\n"
          ]
        }
      ]
    },
    {
      "cell_type": "code",
      "source": [
        "path_files = r\"/content/drive/MyDrive/Data_M/\""
      ],
      "metadata": {
        "id": "5bK_XzqVBb36"
      },
      "execution_count": null,
      "outputs": []
    },
    {
      "cell_type": "markdown",
      "source": [
        "## 1- **Récupérer les fichiers d'outliers**\n",
        "---\n"
      ],
      "metadata": {
        "id": "5o4aXvVaofO7"
      }
    },
    {
      "cell_type": "code",
      "execution_count": null,
      "metadata": {
        "id": "eaNKVb9tz_O2"
      },
      "outputs": [],
      "source": [
        "# récupérer les fihcier d'outliers\n",
        "# glob aide à faire un trie par regex afin d'en choisir les fichiers nettoyés\n",
        "out_km25= glob.glob('/content/drive/MyDrive/min/km25/*')\n",
        "out_km50= glob.glob('/content/drive/MyDrive/min/km50/*')\n",
        "out_km100= glob.glob('/content/drive/MyDrive/min/km100/*')"
      ]
    },
    {
      "cell_type": "code",
      "source": [
        "out_km25"
      ],
      "metadata": {
        "id": "_jUKX3tQdBpY"
      },
      "execution_count": null,
      "outputs": []
    },
    {
      "cell_type": "markdown",
      "source": [
        "## **Fonction de lecture de fichiers**"
      ],
      "metadata": {
        "id": "pIhHKjgEgqxt"
      }
    },
    {
      "cell_type": "code",
      "source": [
        "def read_cluster(files):\n",
        "  liste=[]\n",
        "  for i,cluster in enumerate(files):\n",
        "    with open(cluster, \"r\") as file:\n",
        "      liste.append(file.readlines())\n",
        "  return liste"
      ],
      "metadata": {
        "id": "CaY0cTlXeCNO"
      },
      "execution_count": null,
      "outputs": []
    },
    {
      "cell_type": "markdown",
      "source": [
        "## **Fonction de detection de la haine les outliers de chaque cluster**"
      ],
      "metadata": {
        "id": "g61M_af-g47G"
      }
    },
    {
      "cell_type": "code",
      "source": [
        "def search_hate_words(mlists, file):\n",
        "    ret = {}\n",
        "    with open(file, \"r\") as f:\n",
        "        kws = f.read().splitlines()\n",
        "    for i, mlist in enumerate(mlists):\n",
        "        n_msg = 0\n",
        "        for msg in mlist:\n",
        "            for kw in kws:\n",
        "                if kw in msg:\n",
        "                    n_msg += 1\n",
        "                    break\n",
        "        if len(mlist)>0:\n",
        "          perc = (n_msg / len(mlist))*100\n",
        "          ret[i] = (n_msg, perc)\n",
        "    return ret"
      ],
      "metadata": {
        "id": "0FhxFFQ-dK2G"
      },
      "execution_count": null,
      "outputs": []
    },
    {
      "cell_type": "markdown",
      "source": [
        "### **A- Cas d'application d'IF  sur KM 25 clusters**\n",
        "---\n",
        "\n",
        "\n"
      ],
      "metadata": {
        "id": "H58hjlv_hQgn"
      }
    },
    {
      "cell_type": "code",
      "source": [
        "eval_out_km25= read_cluster(out_km25)"
      ],
      "metadata": {
        "id": "jB04ASu0iqO1"
      },
      "execution_count": null,
      "outputs": []
    },
    {
      "cell_type": "code",
      "source": [
        "eval_out_km25[0]"
      ],
      "metadata": {
        "id": "yXxw_sBkE_33"
      },
      "execution_count": null,
      "outputs": []
    },
    {
      "cell_type": "code",
      "source": [
        "search_hate_words(eval_out_km25,f\"{path_files}keyword\")"
      ],
      "metadata": {
        "colab": {
          "base_uri": "https://localhost:8080/"
        },
        "id": "MYDtgnIjgGE3",
        "outputId": "5d5d5e94-f1cb-451b-dc2c-9058b290c83e"
      },
      "execution_count": null,
      "outputs": [
        {
          "output_type": "execute_result",
          "data": {
            "text/plain": [
              "{0: (7, 0.38209606986899564),\n",
              " 1: (0, 0.0),\n",
              " 2: (3, 0.205761316872428),\n",
              " 3: (8, 0.2326934264107039),\n",
              " 4: (4, 0.5578800557880056),\n",
              " 5: (16, 0.41644976574700676),\n",
              " 6: (5, 0.36845983787767134),\n",
              " 7: (1, 0.05327650506126798),\n",
              " 8: (6, 0.4754358161648178),\n",
              " 9: (16, 1.3234077750206783),\n",
              " 10: (5, 0.3076923076923077),\n",
              " 11: (9, 0.31645569620253167),\n",
              " 12: (2, 0.27739251040221913),\n",
              " 13: (10, 0.3838771593090211),\n",
              " 14: (5, 0.14594279042615294),\n",
              " 15: (1, 0.2079002079002079),\n",
              " 16: (10, 0.16412276382734287),\n",
              " 17: (1, 0.11587485515643105),\n",
              " 19: (59, 0.573260785075787),\n",
              " 20: (7, 0.22371364653243847),\n",
              " 21: (0, 0.0),\n",
              " 22: (14, 0.5016123253314224),\n",
              " 23: (8, 0.4239533651298357),\n",
              " 24: (7, 0.2516175413371675)}"
            ]
          },
          "metadata": {},
          "execution_count": 13
        }
      ]
    },
    {
      "cell_type": "markdown",
      "source": [
        "### **B- Cas d'application d'IF  sur KM 50 clusters**\n",
        "---"
      ],
      "metadata": {
        "id": "x4_wlUmrhH0x"
      }
    },
    {
      "cell_type": "code",
      "source": [
        "eval_out_km50= read_cluster(out_km50)"
      ],
      "metadata": {
        "id": "kvDWYCV-oL-J"
      },
      "execution_count": null,
      "outputs": []
    },
    {
      "cell_type": "code",
      "source": [
        "search_hate_words(eval_out_km50,f\"{path_files}keyword\")"
      ],
      "metadata": {
        "colab": {
          "base_uri": "https://localhost:8080/"
        },
        "id": "u4OCzyNUoVmI",
        "outputId": "44fe74e2-eafa-4b54-ebb8-020799e41a4b"
      },
      "execution_count": null,
      "outputs": [
        {
          "output_type": "execute_result",
          "data": {
            "text/plain": [
              "{0: (5, 0.337609723160027),\n",
              " 1: (1, 0.055096418732782364),\n",
              " 3: (4, 0.26058631921824105),\n",
              " 4: (0, 0.0),\n",
              " 5: (1, 0.3546099290780142),\n",
              " 6: (3, 0.1352569882777277),\n",
              " 7: (8, 0.2874595759971254),\n",
              " 8: (1, 0.08445945945945946),\n",
              " 9: (5, 0.4659832246039142),\n",
              " 10: (2, 0.31496062992125984),\n",
              " 11: (2, 0.43103448275862066),\n",
              " 12: (4, 0.28109627547434995),\n",
              " 13: (4, 0.15854141894569956),\n",
              " 14: (1, 0.09970089730807577),\n",
              " 15: (6, 1.0416666666666665),\n",
              " 16: (12, 1.1892963330029733),\n",
              " 17: (0, 0.0),\n",
              " 18: (1, 0.08278145695364239),\n",
              " 19: (9, 0.6671608598962194),\n",
              " 20: (0, 0.0),\n",
              " 21: (4, 0.12978585334198572),\n",
              " 22: (2, 0.2962962962962963),\n",
              " 23: (2, 0.3144654088050315),\n",
              " 24: (1, 0.09775171065493646),\n",
              " 25: (1, 0.18587360594795538),\n",
              " 26: (1, 0.0655307994757536),\n",
              " 27: (4, 0.5641748942172073),\n",
              " 28: (1, 0.16474464579901155),\n",
              " 29: (1, 0.09813542688910697),\n",
              " 30: (3, 0.14457831325301204),\n",
              " 31: (3, 0.15159171298635674),\n",
              " 32: (1, 0.2347417840375587),\n",
              " 33: (2, 0.1529051987767584),\n",
              " 34: (1, 0.18115942028985507),\n",
              " 35: (0, 0.0),\n",
              " 36: (11, 1.5988372093023258),\n",
              " 37: (4, 0.18181818181818182),\n",
              " 38: (5, 0.2608242044861763),\n",
              " 39: (4, 0.2482929857231533),\n",
              " 40: (5, 0.4784688995215311),\n",
              " 41: (1, 0.2012072434607646),\n",
              " 42: (0, 0.0),\n",
              " 43: (1, 0.18315018315018314),\n",
              " 44: (3, 0.6593406593406593),\n",
              " 45: (57, 1.1441188277800078),\n",
              " 46: (0, 0.0),\n",
              " 47: (11, 0.7124352331606217),\n",
              " 48: (6, 0.5719733079122974),\n",
              " 49: (0, 0.0)}"
            ]
          },
          "metadata": {},
          "execution_count": 15
        }
      ]
    },
    {
      "cell_type": "markdown",
      "source": [
        "### **C- Cas d'application d'IF  sur KM 100 clusters**\n",
        "---"
      ],
      "metadata": {
        "id": "ZAXkmmlhoO0o"
      }
    },
    {
      "cell_type": "code",
      "source": [
        "eval_out_km100= read_cluster(out_km100)"
      ],
      "metadata": {
        "id": "ySISv8-feEQJ"
      },
      "execution_count": null,
      "outputs": []
    },
    {
      "cell_type": "code",
      "source": [
        "search_hate_words(eval_out_km100,f\"{path_files}keyword\")"
      ],
      "metadata": {
        "colab": {
          "base_uri": "https://localhost:8080/"
        },
        "id": "aec7N8waeave",
        "outputId": "10460f22-7565-4fb0-8a75-37275c05e746"
      },
      "execution_count": null,
      "outputs": [
        {
          "output_type": "execute_result",
          "data": {
            "text/plain": [
              "{0: (1, 0.3115264797507788),\n",
              " 2: (0, 0.0),\n",
              " 3: (1, 0.09615384615384616),\n",
              " 4: (2, 0.20020020020020018),\n",
              " 5: (0, 0.0),\n",
              " 6: (4, 0.6472491909385114),\n",
              " 7: (13, 1.8624641833810889),\n",
              " 8: (0, 0.0),\n",
              " 9: (16, 1.3389121338912133),\n",
              " 10: (5, 0.4095004095004095),\n",
              " 11: (0, 0.0),\n",
              " 12: (3, 1.4354066985645932),\n",
              " 13: (3, 0.27958993476234856),\n",
              " 14: (0, 0.0),\n",
              " 15: (3, 0.23255813953488372),\n",
              " 16: (8, 1.1560693641618496),\n",
              " 17: (1, 0.234192037470726),\n",
              " 18: (0, 0.0),\n",
              " 19: (0, 0.0),\n",
              " 20: (0, 0.0),\n",
              " 21: (0, 0.0),\n",
              " 22: (11, 2.4390243902439024),\n",
              " 23: (3, 0.2575107296137339),\n",
              " 24: (1, 0.078064012490242),\n",
              " 25: (0, 0.0),\n",
              " 26: (0, 0.0),\n",
              " 27: (3, 1.3761467889908259),\n",
              " 28: (28, 0.9536784741144414),\n",
              " 29: (1, 0.23364485981308408),\n",
              " 30: (1, 0.1855287569573284),\n",
              " 31: (0, 0.0),\n",
              " 32: (5, 0.6702412868632708),\n",
              " 33: (0, 0.0),\n",
              " 34: (1, 0.16556291390728478),\n",
              " 35: (0, 0.0),\n",
              " 36: (1, 0.3125),\n",
              " 37: (0, 0.0),\n",
              " 38: (4, 0.3424657534246575),\n",
              " 39: (0, 0.0),\n",
              " 40: (1, 0.18796992481203006),\n",
              " 41: (1, 0.15432098765432098),\n",
              " 42: (1, 0.20491803278688525),\n",
              " 43: (3, 0.1978891820580475),\n",
              " 44: (1, 0.12165450121654502),\n",
              " 45: (0, 0.0),\n",
              " 46: (8, 0.38554216867469876),\n",
              " 47: (1, 0.2680965147453083),\n",
              " 48: (0, 0.0),\n",
              " 49: (1, 0.05672149744753262),\n",
              " 50: (4, 0.6884681583476765),\n",
              " 51: (0, 0.0),\n",
              " 52: (0, 0.0),\n",
              " 53: (0, 0.0),\n",
              " 54: (0, 0.0),\n",
              " 55: (5, 0.6188118811881188),\n",
              " 56: (0, 0.0),\n",
              " 57: (0, 0.0),\n",
              " 58: (0, 0.0),\n",
              " 59: (0, 0.0),\n",
              " 60: (2, 0.2967359050445104),\n",
              " 61: (0, 0.0),\n",
              " 62: (0, 0.0),\n",
              " 63: (0, 0.0),\n",
              " 64: (1, 0.11534025374855825),\n",
              " 65: (0, 0.0),\n",
              " 66: (2, 0.15174506828528073),\n",
              " 67: (1, 0.24937655860349126),\n",
              " 68: (0, 0.0),\n",
              " 69: (1, 0.15174506828528073),\n",
              " 70: (4, 0.5961251862891207),\n",
              " 71: (0, 0.0),\n",
              " 72: (1, 0.07668711656441718),\n",
              " 73: (0, 0.0),\n",
              " 74: (2, 0.6134969325153374),\n",
              " 75: (1, 0.36231884057971014),\n",
              " 76: (0, 0.0),\n",
              " 77: (1, 0.411522633744856),\n",
              " 78: (1, 0.15037593984962408),\n",
              " 79: (0, 0.0),\n",
              " 80: (0, 0.0),\n",
              " 81: (1, 0.21598272138228944),\n",
              " 82: (3, 0.37174721189591076),\n",
              " 83: (5, 0.6501950585175552),\n",
              " 84: (6, 0.851063829787234),\n",
              " 85: (1, 0.8),\n",
              " 86: (1, 0.09372071227741331),\n",
              " 87: (1, 0.0851063829787234),\n",
              " 88: (0, 0.0),\n",
              " 89: (10, 1.5772870662460567),\n",
              " 90: (2, 1.0638297872340425),\n",
              " 91: (0, 0.0),\n",
              " 92: (2, 0.2840909090909091),\n",
              " 93: (0, 0.0),\n",
              " 94: (2, 0.3289473684210526),\n",
              " 95: (6, 1.694915254237288),\n",
              " 96: (1, 5.263157894736842),\n",
              " 97: (0, 0.0),\n",
              " 98: (1, 0.36231884057971014),\n",
              " 99: (0, 0.0)}"
            ]
          },
          "metadata": {},
          "execution_count": 17
        }
      ]
    }
  ]
}