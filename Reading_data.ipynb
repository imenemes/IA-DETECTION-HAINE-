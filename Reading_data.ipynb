{
  "nbformat": 4,
  "nbformat_minor": 0,
  "metadata": {
    "colab": {
      "name": "Reading_data.ipynb",
      "provenance": [],
      "authorship_tag": "ABX9TyNkgMjMkHAJplP7WGD/u+Vr"
    },
    "kernelspec": {
      "name": "python3",
      "display_name": "Python 3"
    },
    "language_info": {
      "name": "python"
    }
  },
  "cells": [
    {
      "cell_type": "markdown",
      "source": [
        "## 1- **Installation et importation**\n",
        "\n",
        "---\n"
      ],
      "metadata": {
        "id": "r6C_WxWD8J3l"
      }
    },
    {
      "cell_type": "code",
      "source": [
        "!python -m spacy download fr_core_news_sm\n",
        "#importer le vocabulaire français\n",
        "import spacy\n",
        "nlp = spacy.load(\"fr_core_news_sm\")"
      ],
      "metadata": {
        "id": "a13LfmMFSveC"
      },
      "execution_count": 1,
      "outputs": []
    },
    {
      "cell_type": "markdown",
      "source": [
        "## 2- **Importer les fichiers**"
      ],
      "metadata": {
        "id": "yOZn-fnyevkC"
      }
    },
    {
      "cell_type": "code",
      "source": [
        "from google.colab import drive\n",
        "drive.mount('/content/drive')"
      ],
      "metadata": {
        "colab": {
          "base_uri": "https://localhost:8080/"
        },
        "id": "jmuy3zUpPnzg",
        "outputId": "898cfc14-b0f6-4f83-b84a-da23396a1753"
      },
      "execution_count": 2,
      "outputs": [
        {
          "output_type": "stream",
          "name": "stdout",
          "text": [
            "Mounted at /content/drive\n"
          ]
        }
      ]
    },
    {
      "cell_type": "markdown",
      "source": [
        " ## 3- **Traitement des données**"
      ],
      "metadata": {
        "id": "y6mKg-uAffzY"
      }
    },
    {
      "cell_type": "code",
      "source": [
        "import pandas as pd\n",
        "#lire les données avec pandas\n",
        "#data = pd.read_csv('/content/drive/MyDrive/Colab Notebooks/donnees.txt', sep=\"\\t\", header = None, names = ['id','tweet','date','end'])\n",
        "data = pd.read_fwf('/content/drive/MyDrive/Colab Notebooks/donnees.txt')\n",
        "data.columns = ['twt','nan']\n",
        "data[['id2','tweet','date','end']] = data.twt.str.split(\"\\t\",expand=True)\n",
        "#print(data['tweet'][0])\n",
        "#print(data['date'][0])\n",
        "#print(data['end'][0])\n",
        "#print(data['nan'][0])\n",
        "#après vérification ces deux colonnes ne nous sont pas d'une grande utilité elle sont vides\n",
        "\n",
        "print(data['tweet'].head())\n"
      ],
      "metadata": {
        "id": "K6jnR3ZTZWGw",
        "colab": {
          "base_uri": "https://localhost:8080/"
        },
        "outputId": "a17bdacb-83ac-47a5-d722-d3f16115d137"
      },
      "execution_count": 3,
      "outputs": [
        {
          "output_type": "stream",
          "name": "stdout",
          "text": [
            "0    https://t.co/Cy7On2h564 Je commence à stream! ...\n",
            "1                  je veux encore pleins de casquettes\n",
            "2    \"Je me suis trompé et je me tromperai encore\"....\n",
            "3    qu'Allah nous écarte de la mauvaise fréquentation\n",
            "4                                              Meufff😻\n",
            "Name: tweet, dtype: object\n"
          ]
        }
      ]
    },
    {
      "cell_type": "code",
      "source": [
        "data.drop(columns=['end', 'nan'], inplace=True)"
      ],
      "metadata": {
        "id": "MXFqiFEvHO5p"
      },
      "execution_count": 4,
      "outputs": []
    },
    {
      "cell_type": "code",
      "source": [
        "print(data.shape)"
      ],
      "metadata": {
        "id": "0BHwhX2acDi_",
        "colab": {
          "base_uri": "https://localhost:8080/"
        },
        "outputId": "fd1488d0-107f-4c06-a77d-483b38305c38"
      },
      "execution_count": 5,
      "outputs": [
        {
          "output_type": "stream",
          "name": "stdout",
          "text": [
            "(100001, 4)\n"
          ]
        }
      ]
    },
    {
      "cell_type": "code",
      "source": [
        "#isoler les tweets\n",
        "s = data['tweet']\n",
        "print(s)"
      ],
      "metadata": {
        "id": "sSqOEK00cGy7",
        "colab": {
          "base_uri": "https://localhost:8080/"
        },
        "outputId": "43403531-a290-434f-c216-6c13752852af"
      },
      "execution_count": 6,
      "outputs": [
        {
          "output_type": "stream",
          "name": "stdout",
          "text": [
            "0         https://t.co/Cy7On2h564 Je commence à stream! ...\n",
            "1                       je veux encore pleins de casquettes\n",
            "2         \"Je me suis trompé et je me tromperai encore\"....\n",
            "3         qu'Allah nous écarte de la mauvaise fréquentation\n",
            "4                                                   Meufff😻\n",
            "                                ...                        \n",
            "99996     Dites vous qu’ils y a des gens qui disent à le...\n",
            "99997         Du Dinos pour l’hiver https://t.co/2j1dj19ZIL\n",
            "99998             mon gars tes bzr t'es pas content tu swip\n",
            "99999     Oui oui, on a compris votre vision de la démoc...\n",
            "100000    Appel à manifester pour les 3 ans du mouvement...\n",
            "Name: tweet, Length: 100001, dtype: object\n"
          ]
        }
      ]
    }
  ]
}