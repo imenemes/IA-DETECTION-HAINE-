{
  "cells": [
    {
      "cell_type": "code",
      "execution_count": null,
      "metadata": {
        "id": "y-ketQ-qCSy1"
      },
      "outputs": [],
      "source": [
        "import pandas as pd\n",
        "import glob"
      ]
    },
    {
      "cell_type": "code",
      "execution_count": null,
      "metadata": {
        "colab": {
          "base_uri": "https://localhost:8080/"
        },
        "id": "NC5JlNsXb0Dl",
        "outputId": "f67b2833-3d3a-46a3-f7e5-f6b613200e6f"
      },
      "outputs": [
        {
          "output_type": "stream",
          "name": "stdout",
          "text": [
            "Mounted at /content/drive\n"
          ]
        }
      ],
      "source": [
        "from google.colab import drive\n",
        "drive.mount('/content/drive')"
      ]
    },
    {
      "cell_type": "code",
      "execution_count": null,
      "metadata": {
        "id": "eaNKVb9tz_O2"
      },
      "outputs": [],
      "source": [
        "# récupérer les fichier du dossier contenant les fihcier de clusters\n",
        "# glob aide à faire un trie par regex afin d'en choisir les fichiers nettoyés\n",
        "list_brut= glob.glob('/content/drive/MyDrive/Colab Notebooks/km25/*raw*')\n",
        "list_cluster= glob.glob('/content/drive/MyDrive/Colab Notebooks/km25/*clean*')"
      ]
    },
    {
      "cell_type": "code",
      "execution_count": null,
      "metadata": {
        "id": "ufrbbAv80bQ7",
        "colab": {
          "base_uri": "https://localhost:8080/"
        },
        "outputId": "30e7978b-efef-4b0a-c1da-1fddcc43158d"
      },
      "outputs": [
        {
          "output_type": "stream",
          "name": "stdout",
          "text": [
            "['/content/drive/MyDrive/Colab Notebooks/km25/km_cluster_16_clean_msg.txt', '/content/drive/MyDrive/Colab Notebooks/km25/km_cluster_6_clean_msg.txt', '/content/drive/MyDrive/Colab Notebooks/km25/km_cluster_11_clean_msg.txt', '/content/drive/MyDrive/Colab Notebooks/km25/km_cluster_7_clean_msg.txt', '/content/drive/MyDrive/Colab Notebooks/km25/km_cluster_2_clean_msg.txt', '/content/drive/MyDrive/Colab Notebooks/km25/km_cluster_5_clean_msg.txt', '/content/drive/MyDrive/Colab Notebooks/km25/km_cluster_4_clean_msg.txt', '/content/drive/MyDrive/Colab Notebooks/km25/km_cluster_15_clean_msg.txt', '/content/drive/MyDrive/Colab Notebooks/km25/km_cluster_13_clean_msg.txt', '/content/drive/MyDrive/Colab Notebooks/km25/km_cluster_17_clean_msg.txt', '/content/drive/MyDrive/Colab Notebooks/km25/km_cluster_1_clean_msg.txt', '/content/drive/MyDrive/Colab Notebooks/km25/km_cluster_3_clean_msg.txt', '/content/drive/MyDrive/Colab Notebooks/km25/km_cluster_12_clean_msg.txt', '/content/drive/MyDrive/Colab Notebooks/km25/km_cluster_10_clean_msg.txt', '/content/drive/MyDrive/Colab Notebooks/km25/km_cluster_8_clean_msg.txt', '/content/drive/MyDrive/Colab Notebooks/km25/km_cluster_14_clean_msg.txt', '/content/drive/MyDrive/Colab Notebooks/km25/km_cluster_9_clean_msg.txt', '/content/drive/MyDrive/Colab Notebooks/km25/km_cluster_0_clean_msg.txt', '/content/drive/MyDrive/Colab Notebooks/km25/km_cluster_19_clean_msg.txt', '/content/drive/MyDrive/Colab Notebooks/km25/km_cluster_22_clean_msg.txt', '/content/drive/MyDrive/Colab Notebooks/km25/km_cluster_24_clean_msg.txt', '/content/drive/MyDrive/Colab Notebooks/km25/km_cluster_21_clean_msg.txt', '/content/drive/MyDrive/Colab Notebooks/km25/km_cluster_23_clean_msg.txt', '/content/drive/MyDrive/Colab Notebooks/km25/km_cluster_20_clean_msg.txt', '/content/drive/MyDrive/Colab Notebooks/km25/km_cluster_18_clean_msg.txt']\n"
          ]
        }
      ],
      "source": [
        "print(list_cluster)"
      ]
    },
    {
      "cell_type": "code",
      "source": [
        "#afin de correspondre les 2 listes\n",
        "list_brut.sort()\n",
        "list_cluster.sort()"
      ],
      "metadata": {
        "id": "ZvgagbpevTxX"
      },
      "execution_count": null,
      "outputs": []
    },
    {
      "cell_type": "code",
      "execution_count": null,
      "metadata": {
        "id": "R5qyxGfMcJVl"
      },
      "outputs": [],
      "source": [
        "def read_cluster(files):\n",
        "  liste=[]\n",
        "  for i,cluster in enumerate(files):\n",
        "    with open(cluster, \"r\") as file:\n",
        "      liste.append(file.readlines())\n",
        "  return liste"
      ]
    },
    {
      "cell_type": "code",
      "source": [
        "clean_cluster= read_cluster(list_cluster)"
      ],
      "metadata": {
        "id": "0K_HY4CxwEFk"
      },
      "execution_count": null,
      "outputs": []
    },
    {
      "cell_type": "code",
      "source": [
        "brut_cluster= read_cluster(list_brut)"
      ],
      "metadata": {
        "id": "Ub2QXjKkwD2h"
      },
      "execution_count": null,
      "outputs": []
    },
    {
      "cell_type": "code",
      "execution_count": null,
      "metadata": {
        "id": "7DqNmzR820fl",
        "colab": {
          "base_uri": "https://localhost:8080/"
        },
        "outputId": "7738f183-9ae5-4d61-fa89-33db19c05467"
      },
      "outputs": [
        {
          "output_type": "execute_result",
          "data": {
            "text/plain": [
              "25"
            ]
          },
          "metadata": {},
          "execution_count": 11
        }
      ],
      "source": [
        "len(clean_cluster)"
      ]
    },
    {
      "cell_type": "code",
      "execution_count": null,
      "metadata": {
        "colab": {
          "base_uri": "https://localhost:8080/"
        },
        "id": "JXDAPe8Y7MxJ",
        "outputId": "543560c1-6eba-47fe-e910-9304b24fba69"
      },
      "outputs": [
        {
          "output_type": "execute_result",
          "data": {
            "text/plain": [
              "10955"
            ]
          },
          "metadata": {},
          "execution_count": 12
        }
      ],
      "source": [
        "len(clean_cluster[24])"
      ]
    },
    {
      "cell_type": "code",
      "execution_count": null,
      "metadata": {
        "id": "fMymLS7XCjbx"
      },
      "outputs": [],
      "source": [
        "for i in range(len(brut_cluster)):\n",
        "    vars()[\"data_\"+str(i)] = pd.DataFrame(list(zip(brut_cluster[i] ,clean_cluster[i])), columns = ['tweet', 'clean_twt'])"
      ]
    },
    {
      "cell_type": "code",
      "execution_count": null,
      "metadata": {
        "colab": {
          "base_uri": "https://localhost:8080/",
          "height": 206
        },
        "id": "9kZqrkGnya_N",
        "outputId": "efd8bbad-4de6-4fb6-c31c-1086ddf79cda"
      },
      "outputs": [
        {
          "output_type": "execute_result",
          "data": {
            "text/plain": [
              "                                               tweet  \\\n",
              "0          00:85— patience https://t.co/dH7TCxgIeW\\n   \n",
              "1                  00h mon coeur survit pour toi —\\n   \n",
              "2                                 02:20 Mon coeur.\\n   \n",
              "3  0242 j’aime elise et je ne peux décrire commen...   \n",
              "4       0 dignité mais bon https://t.co/g6QuTq9Oyj\\n   \n",
              "\n",
              "                          clean_twt  \n",
              "0                        patience\\n  \n",
              "1                    coeur survit\\n  \n",
              "2                           coeur\\n  \n",
              "3  aime elis pouvoir décrir amour\\n  \n",
              "4                         dignité\\n  "
            ],
            "text/html": [
              "\n",
              "  <div id=\"df-a10be12e-f493-4cec-8948-2c39160a2d4c\">\n",
              "    <div class=\"colab-df-container\">\n",
              "      <div>\n",
              "<style scoped>\n",
              "    .dataframe tbody tr th:only-of-type {\n",
              "        vertical-align: middle;\n",
              "    }\n",
              "\n",
              "    .dataframe tbody tr th {\n",
              "        vertical-align: top;\n",
              "    }\n",
              "\n",
              "    .dataframe thead th {\n",
              "        text-align: right;\n",
              "    }\n",
              "</style>\n",
              "<table border=\"1\" class=\"dataframe\">\n",
              "  <thead>\n",
              "    <tr style=\"text-align: right;\">\n",
              "      <th></th>\n",
              "      <th>tweet</th>\n",
              "      <th>clean_twt</th>\n",
              "    </tr>\n",
              "  </thead>\n",
              "  <tbody>\n",
              "    <tr>\n",
              "      <th>0</th>\n",
              "      <td>00:85— patience https://t.co/dH7TCxgIeW\\n</td>\n",
              "      <td>patience\\n</td>\n",
              "    </tr>\n",
              "    <tr>\n",
              "      <th>1</th>\n",
              "      <td>00h mon coeur survit pour toi —\\n</td>\n",
              "      <td>coeur survit\\n</td>\n",
              "    </tr>\n",
              "    <tr>\n",
              "      <th>2</th>\n",
              "      <td>02:20 Mon coeur.\\n</td>\n",
              "      <td>coeur\\n</td>\n",
              "    </tr>\n",
              "    <tr>\n",
              "      <th>3</th>\n",
              "      <td>0242 j’aime elise et je ne peux décrire commen...</td>\n",
              "      <td>aime elis pouvoir décrir amour\\n</td>\n",
              "    </tr>\n",
              "    <tr>\n",
              "      <th>4</th>\n",
              "      <td>0 dignité mais bon https://t.co/g6QuTq9Oyj\\n</td>\n",
              "      <td>dignité\\n</td>\n",
              "    </tr>\n",
              "  </tbody>\n",
              "</table>\n",
              "</div>\n",
              "      <button class=\"colab-df-convert\" onclick=\"convertToInteractive('df-a10be12e-f493-4cec-8948-2c39160a2d4c')\"\n",
              "              title=\"Convert this dataframe to an interactive table.\"\n",
              "              style=\"display:none;\">\n",
              "        \n",
              "  <svg xmlns=\"http://www.w3.org/2000/svg\" height=\"24px\"viewBox=\"0 0 24 24\"\n",
              "       width=\"24px\">\n",
              "    <path d=\"M0 0h24v24H0V0z\" fill=\"none\"/>\n",
              "    <path d=\"M18.56 5.44l.94 2.06.94-2.06 2.06-.94-2.06-.94-.94-2.06-.94 2.06-2.06.94zm-11 1L8.5 8.5l.94-2.06 2.06-.94-2.06-.94L8.5 2.5l-.94 2.06-2.06.94zm10 10l.94 2.06.94-2.06 2.06-.94-2.06-.94-.94-2.06-.94 2.06-2.06.94z\"/><path d=\"M17.41 7.96l-1.37-1.37c-.4-.4-.92-.59-1.43-.59-.52 0-1.04.2-1.43.59L10.3 9.45l-7.72 7.72c-.78.78-.78 2.05 0 2.83L4 21.41c.39.39.9.59 1.41.59.51 0 1.02-.2 1.41-.59l7.78-7.78 2.81-2.81c.8-.78.8-2.07 0-2.86zM5.41 20L4 18.59l7.72-7.72 1.47 1.35L5.41 20z\"/>\n",
              "  </svg>\n",
              "      </button>\n",
              "      \n",
              "  <style>\n",
              "    .colab-df-container {\n",
              "      display:flex;\n",
              "      flex-wrap:wrap;\n",
              "      gap: 12px;\n",
              "    }\n",
              "\n",
              "    .colab-df-convert {\n",
              "      background-color: #E8F0FE;\n",
              "      border: none;\n",
              "      border-radius: 50%;\n",
              "      cursor: pointer;\n",
              "      display: none;\n",
              "      fill: #1967D2;\n",
              "      height: 32px;\n",
              "      padding: 0 0 0 0;\n",
              "      width: 32px;\n",
              "    }\n",
              "\n",
              "    .colab-df-convert:hover {\n",
              "      background-color: #E2EBFA;\n",
              "      box-shadow: 0px 1px 2px rgba(60, 64, 67, 0.3), 0px 1px 3px 1px rgba(60, 64, 67, 0.15);\n",
              "      fill: #174EA6;\n",
              "    }\n",
              "\n",
              "    [theme=dark] .colab-df-convert {\n",
              "      background-color: #3B4455;\n",
              "      fill: #D2E3FC;\n",
              "    }\n",
              "\n",
              "    [theme=dark] .colab-df-convert:hover {\n",
              "      background-color: #434B5C;\n",
              "      box-shadow: 0px 1px 3px 1px rgba(0, 0, 0, 0.15);\n",
              "      filter: drop-shadow(0px 1px 2px rgba(0, 0, 0, 0.3));\n",
              "      fill: #FFFFFF;\n",
              "    }\n",
              "  </style>\n",
              "\n",
              "      <script>\n",
              "        const buttonEl =\n",
              "          document.querySelector('#df-a10be12e-f493-4cec-8948-2c39160a2d4c button.colab-df-convert');\n",
              "        buttonEl.style.display =\n",
              "          google.colab.kernel.accessAllowed ? 'block' : 'none';\n",
              "\n",
              "        async function convertToInteractive(key) {\n",
              "          const element = document.querySelector('#df-a10be12e-f493-4cec-8948-2c39160a2d4c');\n",
              "          const dataTable =\n",
              "            await google.colab.kernel.invokeFunction('convertToInteractive',\n",
              "                                                     [key], {});\n",
              "          if (!dataTable) return;\n",
              "\n",
              "          const docLinkHtml = 'Like what you see? Visit the ' +\n",
              "            '<a target=\"_blank\" href=https://colab.research.google.com/notebooks/data_table.ipynb>data table notebook</a>'\n",
              "            + ' to learn more about interactive tables.';\n",
              "          element.innerHTML = '';\n",
              "          dataTable['output_type'] = 'display_data';\n",
              "          await google.colab.output.renderOutput(dataTable, element);\n",
              "          const docLink = document.createElement('div');\n",
              "          docLink.innerHTML = docLinkHtml;\n",
              "          element.appendChild(docLink);\n",
              "        }\n",
              "      </script>\n",
              "    </div>\n",
              "  </div>\n",
              "  "
            ]
          },
          "metadata": {},
          "execution_count": 16
        }
      ],
      "source": [
        "data_10.head()"
      ]
    },
    {
      "cell_type": "code",
      "execution_count": null,
      "metadata": {
        "id": "vTrhLmsXc-zm"
      },
      "outputs": [],
      "source": [
        "!pip install gensim==4.0\n",
        "!pip install python-Levenshtein"
      ]
    },
    {
      "cell_type": "code",
      "execution_count": null,
      "metadata": {
        "id": "D7_sV7SbDuhQ"
      },
      "outputs": [],
      "source": [
        "from gensim.models import KeyedVectors"
      ]
    },
    {
      "cell_type": "code",
      "execution_count": null,
      "metadata": {
        "id": "I1yZQP5dJP8L"
      },
      "outputs": [],
      "source": [
        "w2v = KeyedVectors.load('/content/drive/MyDrive/Colab Notebooks/w2vec_model_d300_1M')"
      ]
    },
    {
      "cell_type": "code",
      "execution_count": null,
      "metadata": {
        "id": "z8b5pRSDN6eb"
      },
      "outputs": [],
      "source": [
        "import numpy as np"
      ]
    },
    {
      "cell_type": "code",
      "execution_count": null,
      "metadata": {
        "id": "POuffGvENwVh"
      },
      "outputs": [],
      "source": [
        "#encode un message\n",
        "def encode(msg):\n",
        "    return np.mean([w2v[word] for word in msg if word in w2v] or [np.zeros(300)], axis = 0)"
      ]
    },
    {
      "cell_type": "code",
      "execution_count": null,
      "metadata": {
        "colab": {
          "base_uri": "https://localhost:8080/"
        },
        "id": "QHb_AjRKQsZe",
        "outputId": "4ae655fe-5d53-4d17-c77c-d1659b22c8f5"
      },
      "outputs": [
        {
          "output_type": "execute_result",
          "data": {
            "text/plain": [
              "[('sal', 0.6782066822052002),\n",
              " ('pvte', 0.629138708114624),\n",
              " ('mèrde', 0.6162537336349487),\n",
              " ('pute', 0.6096962094306946),\n",
              " ('pte', 0.6044666767120361),\n",
              " ('clochard', 0.6014346480369568),\n",
              " ('slp', 0.6004031896591187),\n",
              " ('crasseux', 0.5957321524620056),\n",
              " ('puent', 0.5908592939376831),\n",
              " ('daronn', 0.5900101661682129)]"
            ]
          },
          "metadata": {},
          "execution_count": 22
        }
      ],
      "source": [
        "w2v.similar_by_word(\"sale\")"
      ]
    },
    {
      "cell_type": "code",
      "execution_count": null,
      "metadata": {
        "id": "SkTP5_y6TtX8"
      },
      "outputs": [],
      "source": [
        "def encoded(liste):\n",
        "  w2v=[]\n",
        "  for i in range(len(liste)):\n",
        "    w2v.append(np.array([encode(msg.split()) for msg in liste[i]]))\n",
        "  return w2v"
      ]
    },
    {
      "cell_type": "code",
      "execution_count": null,
      "metadata": {
        "colab": {
          "base_uri": "https://localhost:8080/"
        },
        "id": "7-WWO8SbNzow",
        "outputId": "48823bf0-d6a4-4c14-d3e3-f7bf5459bf68"
      },
      "outputs": [
        {
          "output_type": "stream",
          "name": "stdout",
          "text": [
            "CPU times: user 26.5 s, sys: 600 ms, total: 27.1 s\n",
            "Wall time: 27.3 s\n"
          ]
        }
      ],
      "source": [
        "%%time\n",
        "#encodage de l'échantillon pour créer le jeu de données\n",
        "dataset_encoded = encoded(clean_cluster)"
      ]
    },
    {
      "cell_type": "code",
      "execution_count": null,
      "metadata": {
        "colab": {
          "base_uri": "https://localhost:8080/"
        },
        "id": "ffz7YlFYUrnY",
        "outputId": "25b429b3-e145-4f85-a92e-16eb623eb20b"
      },
      "outputs": [
        {
          "output_type": "stream",
          "name": "stdout",
          "text": [
            "10955\n"
          ]
        }
      ],
      "source": [
        "print(len(dataset_encoded[24]))"
      ]
    },
    {
      "cell_type": "code",
      "execution_count": null,
      "metadata": {
        "colab": {
          "background_save": true
        },
        "id": "TXw9vnKQq1rN"
      },
      "outputs": [],
      "source": [
        "#sauvegarder mes embeddings\n",
        "%%time\n",
        "\"\"\"for i in range(len(dataset_encoded)):\n",
        "  with open(f\"w2v/w2v{i}.txt\", 'a') as f:\n",
        "      for row in dataset_encoded[i]:\n",
        "        #np.savetxt(f, row)\"\"\""
      ]
    },
    {
      "cell_type": "code",
      "execution_count": null,
      "metadata": {
        "id": "L0EXntvo6QhB"
      },
      "outputs": [],
      "source": [
        "from sklearn.ensemble import IsolationForest\n",
        "\n",
        "clf=IsolationForest(n_estimators=100, max_samples='auto', \\\n",
        "                        max_features=1.0, bootstrap=False, n_jobs=-1, random_state=42, verbose=0)\n"
      ]
    },
    {
      "cell_type": "code",
      "execution_count": null,
      "metadata": {
        "id": "4k51z-ZfV_Ln",
        "colab": {
          "base_uri": "https://localhost:8080/"
        },
        "outputId": "95704006-040b-4afe-d464-01d16fd66bf3"
      },
      "outputs": [
        {
          "output_type": "stream",
          "name": "stdout",
          "text": [
            "CPU times: user 2min 42s, sys: 1.41 s, total: 2min 43s\n",
            "Wall time: 1min 27s\n"
          ]
        }
      ],
      "source": [
        "%%time\n",
        "for i in range(len(dataset_encoded)):\n",
        "  clf.fit(dataset_encoded[i])"
      ]
    },
    {
      "cell_type": "code",
      "execution_count": null,
      "metadata": {
        "colab": {
          "base_uri": "https://localhost:8080/"
        },
        "id": "s7ryXl2tBgSF",
        "outputId": "23914171-1fae-434f-bda2-1539d94cf32c"
      },
      "outputs": [
        {
          "output_type": "stream",
          "name": "stdout",
          "text": [
            "CPU times: user 1min 5s, sys: 434 ms, total: 1min 5s\n",
            "Wall time: 1min 6s\n"
          ]
        }
      ],
      "source": [
        "%%time\n",
        "pred=[]\n",
        "for i in range(len(dataset_encoded)):\n",
        "  pred.append(clf.predict(dataset_encoded[i]))"
      ]
    },
    {
      "cell_type": "code",
      "execution_count": null,
      "metadata": {
        "colab": {
          "base_uri": "https://localhost:8080/"
        },
        "id": "RDImXxsAhFbb",
        "outputId": "7151539e-856c-4007-e8d6-1b1d0cbecbf0"
      },
      "outputs": [
        {
          "output_type": "stream",
          "name": "stdout",
          "text": [
            "[1 1 1 ... 1 1 1]\n"
          ]
        }
      ],
      "source": [
        "print(pred[1])"
      ]
    },
    {
      "cell_type": "code",
      "execution_count": null,
      "metadata": {
        "id": "196-bkDCB46a"
      },
      "outputs": [],
      "source": [
        "for i in range(len(dataset_encoded)):\n",
        "  vars()[\"data_\"+str(i)]['pred']= pred[i]"
      ]
    },
    {
      "cell_type": "code",
      "execution_count": null,
      "metadata": {
        "colab": {
          "base_uri": "https://localhost:8080/",
          "height": 206
        },
        "id": "UBAkvlMtuBl0",
        "outputId": "2c04a7a1-4077-49f8-ee7a-0d381563cede"
      },
      "outputs": [
        {
          "output_type": "execute_result",
          "data": {
            "text/plain": [
              "                                               tweet  \\\n",
              "0                                       00:00 rosé\\n   \n",
              "1  0211OUR CHOICE IS ROSÉ #MAMAVOTE #rosé https:/...   \n",
              "2                                  10,000 votes A.\\n   \n",
              "3                               1000%. VOTE!!!!!!!\\n   \n",
              "4  1000 votes! Carats❗❗❗❗❗ https://t.co/zEz0uYrAIO\\n   \n",
              "\n",
              "                             clean_twt  pred  \n",
              "0                              roser\\n    -1  \n",
              "1  our choice is rosé mamavote roser\\n    -1  \n",
              "2                               vote\\n    -1  \n",
              "3                                vot\\n    -1  \n",
              "4                        vote carats\\n    -1  "
            ],
            "text/html": [
              "\n",
              "  <div id=\"df-d4053c59-df1c-406c-a6ac-89eb4aa863db\">\n",
              "    <div class=\"colab-df-container\">\n",
              "      <div>\n",
              "<style scoped>\n",
              "    .dataframe tbody tr th:only-of-type {\n",
              "        vertical-align: middle;\n",
              "    }\n",
              "\n",
              "    .dataframe tbody tr th {\n",
              "        vertical-align: top;\n",
              "    }\n",
              "\n",
              "    .dataframe thead th {\n",
              "        text-align: right;\n",
              "    }\n",
              "</style>\n",
              "<table border=\"1\" class=\"dataframe\">\n",
              "  <thead>\n",
              "    <tr style=\"text-align: right;\">\n",
              "      <th></th>\n",
              "      <th>tweet</th>\n",
              "      <th>clean_twt</th>\n",
              "      <th>pred</th>\n",
              "    </tr>\n",
              "  </thead>\n",
              "  <tbody>\n",
              "    <tr>\n",
              "      <th>0</th>\n",
              "      <td>00:00 rosé\\n</td>\n",
              "      <td>roser\\n</td>\n",
              "      <td>-1</td>\n",
              "    </tr>\n",
              "    <tr>\n",
              "      <th>1</th>\n",
              "      <td>0211OUR CHOICE IS ROSÉ #MAMAVOTE #rosé https:/...</td>\n",
              "      <td>our choice is rosé mamavote roser\\n</td>\n",
              "      <td>-1</td>\n",
              "    </tr>\n",
              "    <tr>\n",
              "      <th>2</th>\n",
              "      <td>10,000 votes A.\\n</td>\n",
              "      <td>vote\\n</td>\n",
              "      <td>-1</td>\n",
              "    </tr>\n",
              "    <tr>\n",
              "      <th>3</th>\n",
              "      <td>1000%. VOTE!!!!!!!\\n</td>\n",
              "      <td>vot\\n</td>\n",
              "      <td>-1</td>\n",
              "    </tr>\n",
              "    <tr>\n",
              "      <th>4</th>\n",
              "      <td>1000 votes! Carats❗❗❗❗❗ https://t.co/zEz0uYrAIO\\n</td>\n",
              "      <td>vote carats\\n</td>\n",
              "      <td>-1</td>\n",
              "    </tr>\n",
              "  </tbody>\n",
              "</table>\n",
              "</div>\n",
              "      <button class=\"colab-df-convert\" onclick=\"convertToInteractive('df-d4053c59-df1c-406c-a6ac-89eb4aa863db')\"\n",
              "              title=\"Convert this dataframe to an interactive table.\"\n",
              "              style=\"display:none;\">\n",
              "        \n",
              "  <svg xmlns=\"http://www.w3.org/2000/svg\" height=\"24px\"viewBox=\"0 0 24 24\"\n",
              "       width=\"24px\">\n",
              "    <path d=\"M0 0h24v24H0V0z\" fill=\"none\"/>\n",
              "    <path d=\"M18.56 5.44l.94 2.06.94-2.06 2.06-.94-2.06-.94-.94-2.06-.94 2.06-2.06.94zm-11 1L8.5 8.5l.94-2.06 2.06-.94-2.06-.94L8.5 2.5l-.94 2.06-2.06.94zm10 10l.94 2.06.94-2.06 2.06-.94-2.06-.94-.94-2.06-.94 2.06-2.06.94z\"/><path d=\"M17.41 7.96l-1.37-1.37c-.4-.4-.92-.59-1.43-.59-.52 0-1.04.2-1.43.59L10.3 9.45l-7.72 7.72c-.78.78-.78 2.05 0 2.83L4 21.41c.39.39.9.59 1.41.59.51 0 1.02-.2 1.41-.59l7.78-7.78 2.81-2.81c.8-.78.8-2.07 0-2.86zM5.41 20L4 18.59l7.72-7.72 1.47 1.35L5.41 20z\"/>\n",
              "  </svg>\n",
              "      </button>\n",
              "      \n",
              "  <style>\n",
              "    .colab-df-container {\n",
              "      display:flex;\n",
              "      flex-wrap:wrap;\n",
              "      gap: 12px;\n",
              "    }\n",
              "\n",
              "    .colab-df-convert {\n",
              "      background-color: #E8F0FE;\n",
              "      border: none;\n",
              "      border-radius: 50%;\n",
              "      cursor: pointer;\n",
              "      display: none;\n",
              "      fill: #1967D2;\n",
              "      height: 32px;\n",
              "      padding: 0 0 0 0;\n",
              "      width: 32px;\n",
              "    }\n",
              "\n",
              "    .colab-df-convert:hover {\n",
              "      background-color: #E2EBFA;\n",
              "      box-shadow: 0px 1px 2px rgba(60, 64, 67, 0.3), 0px 1px 3px 1px rgba(60, 64, 67, 0.15);\n",
              "      fill: #174EA6;\n",
              "    }\n",
              "\n",
              "    [theme=dark] .colab-df-convert {\n",
              "      background-color: #3B4455;\n",
              "      fill: #D2E3FC;\n",
              "    }\n",
              "\n",
              "    [theme=dark] .colab-df-convert:hover {\n",
              "      background-color: #434B5C;\n",
              "      box-shadow: 0px 1px 3px 1px rgba(0, 0, 0, 0.15);\n",
              "      filter: drop-shadow(0px 1px 2px rgba(0, 0, 0, 0.3));\n",
              "      fill: #FFFFFF;\n",
              "    }\n",
              "  </style>\n",
              "\n",
              "      <script>\n",
              "        const buttonEl =\n",
              "          document.querySelector('#df-d4053c59-df1c-406c-a6ac-89eb4aa863db button.colab-df-convert');\n",
              "        buttonEl.style.display =\n",
              "          google.colab.kernel.accessAllowed ? 'block' : 'none';\n",
              "\n",
              "        async function convertToInteractive(key) {\n",
              "          const element = document.querySelector('#df-d4053c59-df1c-406c-a6ac-89eb4aa863db');\n",
              "          const dataTable =\n",
              "            await google.colab.kernel.invokeFunction('convertToInteractive',\n",
              "                                                     [key], {});\n",
              "          if (!dataTable) return;\n",
              "\n",
              "          const docLinkHtml = 'Like what you see? Visit the ' +\n",
              "            '<a target=\"_blank\" href=https://colab.research.google.com/notebooks/data_table.ipynb>data table notebook</a>'\n",
              "            + ' to learn more about interactive tables.';\n",
              "          element.innerHTML = '';\n",
              "          dataTable['output_type'] = 'display_data';\n",
              "          await google.colab.output.renderOutput(dataTable, element);\n",
              "          const docLink = document.createElement('div');\n",
              "          docLink.innerHTML = docLinkHtml;\n",
              "          element.appendChild(docLink);\n",
              "        }\n",
              "      </script>\n",
              "    </div>\n",
              "  </div>\n",
              "  "
            ]
          },
          "metadata": {},
          "execution_count": 35
        }
      ],
      "source": [
        "data_7.head()"
      ]
    },
    {
      "cell_type": "code",
      "execution_count": null,
      "metadata": {
        "colab": {
          "base_uri": "https://localhost:8080/"
        },
        "id": "B6KfbLjeuLmz",
        "outputId": "2d9ee679-2f02-4ba5-a3fc-0f267afff079"
      },
      "outputs": [
        {
          "output_type": "stream",
          "name": "stdout",
          "text": [
            "cluster0:\n",
            "\n",
            "-1    53435\n",
            " 1     2039\n",
            "Name: pred, dtype: int64\n",
            "\n",
            "\n",
            "cluster1:\n",
            "\n",
            "-1    33627\n",
            " 1    16255\n",
            "Name: pred, dtype: int64\n",
            "\n",
            "\n",
            "cluster2:\n",
            "\n",
            "-1    1654\n",
            " 1      16\n",
            "Name: pred, dtype: int64\n",
            "\n",
            "\n",
            "cluster3:\n",
            "\n",
            "-1    55170\n",
            " 1     5118\n",
            "Name: pred, dtype: int64\n",
            "\n",
            "\n",
            "cluster4:\n",
            "\n",
            "-1    20518\n",
            " 1     2116\n",
            "Name: pred, dtype: int64\n",
            "\n",
            "\n",
            "cluster5:\n",
            "\n",
            "-1    2674\n",
            " 1     291\n",
            "Name: pred, dtype: int64\n",
            "\n",
            "\n",
            "cluster6:\n",
            "\n",
            "-1    93164\n",
            " 1     3550\n",
            "Name: pred, dtype: int64\n",
            "\n",
            "\n",
            "cluster7:\n",
            "\n",
            "-1    2861\n",
            " 1     326\n",
            "Name: pred, dtype: int64\n",
            "\n",
            "\n",
            "cluster8:\n",
            "\n",
            "-1    2100\n",
            " 1       1\n",
            "Name: pred, dtype: int64\n",
            "\n",
            "\n",
            "cluster9:\n",
            "\n",
            "-1    19658\n",
            " 1      489\n",
            "Name: pred, dtype: int64\n",
            "\n",
            "\n",
            "cluster10:\n",
            "\n",
            "-1    20760\n",
            " 1      683\n",
            "Name: pred, dtype: int64\n",
            "\n",
            "\n",
            "cluster11:\n",
            "\n",
            "-1    48277\n",
            " 1     1382\n",
            "Name: pred, dtype: int64\n",
            "\n",
            "\n",
            "cluster12:\n",
            "\n",
            "-1    980\n",
            " 1      4\n",
            "Name: pred, dtype: int64\n",
            "\n",
            "\n",
            "cluster13:\n",
            "\n",
            "-1    7764\n",
            " 1     252\n",
            "Name: pred, dtype: int64\n",
            "\n",
            "\n",
            "cluster14:\n",
            "\n",
            "-1    3072\n",
            " 1     150\n",
            "Name: pred, dtype: int64\n",
            "\n",
            "\n",
            "cluster15:\n",
            "\n",
            "-1    30779\n",
            " 1     7823\n",
            "Name: pred, dtype: int64\n",
            "\n",
            "\n",
            "cluster16:\n",
            "\n",
            " 1    13043\n",
            "-1     4505\n",
            "Name: pred, dtype: int64\n",
            "\n",
            "\n",
            "cluster17:\n",
            "\n",
            " 1    26683\n",
            "-1        1\n",
            "Name: pred, dtype: int64\n",
            "\n",
            "\n",
            "cluster18:\n",
            "\n",
            "-1    10314\n",
            " 1      848\n",
            "Name: pred, dtype: int64\n",
            "\n",
            "\n",
            "cluster19:\n",
            "\n",
            " 1    35192\n",
            "-1     3395\n",
            "Name: pred, dtype: int64\n",
            "\n",
            "\n",
            "cluster20:\n",
            "\n",
            "-1    29432\n",
            " 1     3854\n",
            "Name: pred, dtype: int64\n",
            "\n",
            "\n",
            "cluster21:\n",
            "\n",
            "-1    12421\n",
            " 1      539\n",
            "Name: pred, dtype: int64\n",
            "\n",
            "\n",
            "cluster22:\n",
            "\n",
            "-1    2063\n",
            " 1    1696\n",
            "Name: pred, dtype: int64\n",
            "\n",
            "\n",
            "cluster23:\n",
            "\n",
            "-1    59274\n",
            " 1     6929\n",
            "Name: pred, dtype: int64\n",
            "\n",
            "\n",
            "cluster24:\n",
            "\n",
            " 1    9652\n",
            "-1    1303\n",
            "Name: pred, dtype: int64\n",
            "\n",
            "\n"
          ]
        }
      ],
      "source": [
        "# Trouver les outliers de chaque cluster\n",
        "# ceux dont l'index est -1\n",
        "outliers=[]\n",
        "for i in range(len(dataset_encoded)):\n",
        "  outliers.append((vars()[\"data_\"+str(i)]['tweet'].loc[vars()[\"data_\"+str(i)]['pred']==-1]))\n",
        "  outlier_index=list(outliers[i].index)\n",
        "  print(\"cluster\"+str(i)+\":\"+\"\\n\")\n",
        "  print(vars()[\"data_\"+str(i)]['pred'].value_counts())\n",
        "  print(\"\\n\")"
      ]
    },
    {
      "cell_type": "code",
      "source": [
        "for i in range(len(outliers)):\n",
        "  with open(f\"drive/MyDrive/outliers25/outliers{i}\", 'w') as f:\n",
        "    for line in outliers[i]:\n",
        "      f.write(line)"
      ],
      "metadata": {
        "id": "FQIqtbe5L-Je"
      },
      "execution_count": null,
      "outputs": []
    }
  ],
  "metadata": {
    "colab": {
      "name": "IF_cluster25.ipynb",
      "provenance": []
    },
    "kernelspec": {
      "display_name": "Python 3",
      "name": "python3"
    },
    "language_info": {
      "name": "python"
    }
  },
  "nbformat": 4,
  "nbformat_minor": 0
}