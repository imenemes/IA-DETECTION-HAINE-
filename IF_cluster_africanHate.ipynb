{
  "cells": [
    {
      "cell_type": "code",
      "execution_count": 5,
      "metadata": {
        "id": "y-ketQ-qCSy1"
      },
      "outputs": [],
      "source": [
        "import pandas as pd\n",
        "import numpy as np\n",
        "import glob\n",
        "import sys\n",
        "import os"
      ]
    },
    {
      "cell_type": "code",
      "execution_count": 2,
      "metadata": {
        "colab": {
          "base_uri": "https://localhost:8080/"
        },
        "id": "NC5JlNsXb0Dl",
        "outputId": "198c60ec-99fa-4dec-a9cb-1e0eb5987636"
      },
      "outputs": [
        {
          "output_type": "stream",
          "name": "stdout",
          "text": [
            "Mounted at /content/drive\n"
          ]
        }
      ],
      "source": [
        "from google.colab import drive\n",
        "drive.mount('/content/drive')"
      ]
    },
    {
      "cell_type": "code",
      "source": [
        "path_files = r\"/content/drive/MyDrive/Data_M/Africain_Min_clusters/\""
      ],
      "metadata": {
        "id": "1slR4akM8nZK"
      },
      "execution_count": 10,
      "outputs": []
    },
    {
      "cell_type": "code",
      "source": [
        "py_file_location = \"/content/drive/MyDrive\"\n",
        "sys.path.append(os.path.abspath(py_file_location))"
      ],
      "metadata": {
        "id": "4pL0XMvJRfSb"
      },
      "execution_count": 11,
      "outputs": []
    },
    {
      "cell_type": "code",
      "source": [
        "from function_tools import *"
      ],
      "metadata": {
        "id": "pZ90brEPRgJp"
      },
      "execution_count": 12,
      "outputs": []
    },
    {
      "cell_type": "code",
      "execution_count": 13,
      "metadata": {
        "id": "eaNKVb9tz_O2"
      },
      "outputs": [],
      "source": [
        "# récupérer les fichier du dossier contenant les fihcier de clusters\n",
        "# glob aide à faire un trie par regex afin d'en choisir les fichiers nettoyés\n",
        "list_file= glob.glob(f\"{path_files}*\")"
      ]
    },
    {
      "cell_type": "code",
      "source": [
        "list_file"
      ],
      "metadata": {
        "colab": {
          "base_uri": "https://localhost:8080/"
        },
        "id": "bV-AceuE8mJA",
        "outputId": "5061083d-c3bb-4270-a851-9dc8720fa68b"
      },
      "execution_count": 14,
      "outputs": [
        {
          "output_type": "execute_result",
          "data": {
            "text/plain": [
              "['/content/drive/MyDrive/Data_M/Africain_Min_clusters/som_100',\n",
              " '/content/drive/MyDrive/Data_M/Africain_Min_clusters/som_9',\n",
              " '/content/drive/MyDrive/Data_M/Africain_Min_clusters/som_25',\n",
              " '/content/drive/MyDrive/Data_M/Africain_Min_clusters/som_4']"
            ]
          },
          "metadata": {},
          "execution_count": 14
        }
      ]
    },
    {
      "cell_type": "code",
      "source": [
        "liste_clean , liste_brut = make_liste(list_file)"
      ],
      "metadata": {
        "id": "7vnfdB1TcMRv"
      },
      "execution_count": 15,
      "outputs": []
    },
    {
      "cell_type": "code",
      "source": [
        "list_file"
      ],
      "metadata": {
        "colab": {
          "base_uri": "https://localhost:8080/"
        },
        "id": "wyc3j-wXO3dg",
        "outputId": "b793b857-1f44-4b15-bc4e-55c52001b557"
      },
      "execution_count": 16,
      "outputs": [
        {
          "output_type": "execute_result",
          "data": {
            "text/plain": [
              "['/content/drive/MyDrive/Data_M/Africain_Min_clusters/som_4',\n",
              " '/content/drive/MyDrive/Data_M/Africain_Min_clusters/som_9',\n",
              " '/content/drive/MyDrive/Data_M/Africain_Min_clusters/som_25',\n",
              " '/content/drive/MyDrive/Data_M/Africain_Min_clusters/som_100']"
            ]
          },
          "metadata": {},
          "execution_count": 16
        }
      ]
    },
    {
      "cell_type": "code",
      "source": [
        "clean_cluster= matrice(liste_clean)"
      ],
      "metadata": {
        "id": "g83I9zWrQbij"
      },
      "execution_count": 17,
      "outputs": []
    },
    {
      "cell_type": "code",
      "source": [
        "brut_cluster= matrice(liste_brut)"
      ],
      "metadata": {
        "id": "ykPUhGFiBuk3"
      },
      "execution_count": 18,
      "outputs": []
    },
    {
      "cell_type": "code",
      "source": [
        "len(brut_cluster[3])"
      ],
      "metadata": {
        "id": "JrVzwcPHnjS7",
        "colab": {
          "base_uri": "https://localhost:8080/"
        },
        "outputId": "e76cdbad-e17f-429f-b565-b37a7d94a368"
      },
      "execution_count": 19,
      "outputs": [
        {
          "output_type": "execute_result",
          "data": {
            "text/plain": [
              "100"
            ]
          },
          "metadata": {},
          "execution_count": 19
        }
      ]
    },
    {
      "cell_type": "code",
      "source": [
        "data = make_df(brut_cluster, clean_cluster)"
      ],
      "metadata": {
        "id": "A0ZbONGmfcwY"
      },
      "execution_count": 21,
      "outputs": []
    },
    {
      "cell_type": "markdown",
      "source": [
        "data_SOM : \n",
        "1.   index 0 : som4\n",
        "2.   index 1: som9\n",
        "3.   index 2: som25\n",
        "4.   index 3: som100"
      ],
      "metadata": {
        "id": "ZvjvB-QHTg0o"
      }
    },
    {
      "cell_type": "code",
      "execution_count": null,
      "metadata": {
        "id": "vTrhLmsXc-zm"
      },
      "outputs": [],
      "source": [
        "!pip install gensim==4.0\n",
        "!pip install python-Levenshtein"
      ]
    },
    {
      "cell_type": "code",
      "execution_count": 23,
      "metadata": {
        "id": "D7_sV7SbDuhQ"
      },
      "outputs": [],
      "source": [
        "from gensim.models import KeyedVectors"
      ]
    },
    {
      "cell_type": "code",
      "execution_count": 24,
      "metadata": {
        "id": "I1yZQP5dJP8L"
      },
      "outputs": [],
      "source": [
        "# récupérer les embeddings entrainés sur nos données\n",
        "w2v_AF_Min = KeyedVectors.load('/content/drive/MyDrive/Data_M/w2v/w2vec_model_d300_1M_AF_Min')"
      ]
    },
    {
      "cell_type": "code",
      "execution_count": 25,
      "metadata": {
        "id": "z8b5pRSDN6eb"
      },
      "outputs": [],
      "source": [
        "import numpy as np"
      ]
    },
    {
      "cell_type": "code",
      "execution_count": 26,
      "metadata": {
        "id": "POuffGvENwVh"
      },
      "outputs": [],
      "source": [
        "#encode un message\n",
        "def encode(msg):\n",
        "    return np.mean([w2v_AF_Min[word] for word in msg if word in w2v_AF_Min] or [np.zeros(300)], axis = 0)"
      ]
    },
    {
      "cell_type": "code",
      "execution_count": 27,
      "metadata": {
        "id": "QHb_AjRKQsZe",
        "colab": {
          "base_uri": "https://localhost:8080/"
        },
        "outputId": "76baee63-7517-421d-b103-17c4fd909574"
      },
      "outputs": [
        {
          "output_type": "execute_result",
          "data": {
            "text/plain": [
              "[('noir', 0.6970106959342957),\n",
              " ('sal', 0.6780790090560913),\n",
              " ('pute', 0.6673237085342407),\n",
              " ('singe', 0.6480235457420349),\n",
              " ('noir??', 0.6416674852371216),\n",
              " ('p*te', 0.6345035433769226),\n",
              " ('esclave,', 0.625322699546814),\n",
              " ('bougnoul,', 0.6246535778045654),\n",
              " ('raciste', 0.6195729970932007),\n",
              " ('noir,', 0.616439163684845)]"
            ]
          },
          "metadata": {},
          "execution_count": 27
        }
      ],
      "source": [
        "w2v_AF_Min.similar_by_word(\"sale\")"
      ]
    },
    {
      "cell_type": "markdown",
      "source": [
        "Encodage des différents set de clusters"
      ],
      "metadata": {
        "id": "-C6RjNlHwtMQ"
      }
    },
    {
      "cell_type": "code",
      "source": [
        "len(clean_cluster)"
      ],
      "metadata": {
        "colab": {
          "base_uri": "https://localhost:8080/"
        },
        "id": "BZg5exCLSnXx",
        "outputId": "fb1db48c-939b-4f68-8c77-6842dfd27017"
      },
      "execution_count": 29,
      "outputs": [
        {
          "output_type": "execute_result",
          "data": {
            "text/plain": [
              "4"
            ]
          },
          "metadata": {},
          "execution_count": 29
        }
      ]
    },
    {
      "cell_type": "code",
      "source": [
        "dataset_encoded= liste_encoded(clean_cluster)"
      ],
      "metadata": {
        "id": "hcQCGJEaSuFy"
      },
      "execution_count": 31,
      "outputs": []
    },
    {
      "cell_type": "markdown",
      "source": [
        "Entrainement des différents set de clusters"
      ],
      "metadata": {
        "id": "tW5Zihz2w-7P"
      }
    },
    {
      "cell_type": "code",
      "execution_count": 32,
      "metadata": {
        "id": "L0EXntvo6QhB"
      },
      "outputs": [],
      "source": [
        "from sklearn.ensemble import IsolationForest\n",
        "\n",
        "# definir le modèle ainsi que ses paramètres\n",
        "if_model=IsolationForest(n_jobs=-1, random_state=42)\n"
      ]
    },
    {
      "cell_type": "markdown",
      "source": [
        "Créer une matrice qui stock les différents models d'IF correspondant aux différents clusters"
      ],
      "metadata": {
        "id": "E_7I5UIicZbR"
      }
    },
    {
      "cell_type": "code",
      "source": [
        "def train_if (dataset):\n",
        "  models=[[] for _ in range(len(dataset))]\n",
        "  for i in range(len(dataset)):\n",
        "    for n in range(len(dataset[i])):\n",
        "      if_model=IsolationForest(n_jobs=-1, random_state=42)\n",
        "      models[i].append(if_model.fit(dataset[i][n]))\n",
        "  return models"
      ],
      "metadata": {
        "id": "HuBZOclLXARE"
      },
      "execution_count": 34,
      "outputs": []
    },
    {
      "cell_type": "markdown",
      "source": [
        "Appliquer IF sur les clusters de Km"
      ],
      "metadata": {
        "id": "ifZKXEnNYpht"
      }
    },
    {
      "cell_type": "code",
      "source": [
        "models = train_if(dataset_encoded)"
      ],
      "metadata": {
        "id": "yFxr0_mnaVt1"
      },
      "execution_count": 35,
      "outputs": []
    },
    {
      "cell_type": "markdown",
      "source": [
        "Appliquer IF sur les clusters de SOM"
      ],
      "metadata": {
        "id": "IY1sEIZuY4la"
      }
    },
    {
      "cell_type": "markdown",
      "source": [
        "Prédictions pour les différents modèles"
      ],
      "metadata": {
        "id": "VIxce-wMySxp"
      }
    },
    {
      "cell_type": "code",
      "source": [
        "def pred(dataset,model):\n",
        "  preds=[[] for _ in range(len(dataset))]\n",
        "  for i in range(len(dataset)):\n",
        "    for n in range(len(dataset[i])):\n",
        "      preds[i].append(model[i][n].predict(dataset[i][n]))\n",
        "  return preds"
      ],
      "metadata": {
        "id": "e2X74fsfdO6c"
      },
      "execution_count": 37,
      "outputs": []
    },
    {
      "cell_type": "code",
      "source": [
        "pred= pred(dataset_encoded, models)"
      ],
      "metadata": {
        "id": "-M8CAVVCe-3y"
      },
      "execution_count": 38,
      "outputs": []
    },
    {
      "cell_type": "code",
      "source": [
        "def add_pred_to_df(dataset,pred):\n",
        "  for i in range(len(pred)):\n",
        "    for n in range(len(pred[i])):\n",
        "      dataset[i][n]['pred']= pred[i][n]"
      ],
      "metadata": {
        "id": "RSQqOdm-hEHq"
      },
      "execution_count": 39,
      "outputs": []
    },
    {
      "cell_type": "code",
      "source": [
        "add_pred_to_df(data, pred)"
      ],
      "metadata": {
        "id": "u8CyQ2XViEKS"
      },
      "execution_count": 40,
      "outputs": []
    },
    {
      "cell_type": "code",
      "source": [
        "# Trouver les outliers de chaque cluster\n",
        "# ceux dont l'index est -1\n",
        "def outliers(df):\n",
        "  outliers=[]\n",
        "  for i in range(len(df)):\n",
        "    outliers.append(df[i]['tweet'].loc[df[i]['pred']==-1])\n",
        "  return outliers"
      ],
      "metadata": {
        "id": "pf6ZCC9jm0jW"
      },
      "execution_count": 42,
      "outputs": []
    },
    {
      "cell_type": "code",
      "source": [
        "liste_cluster=[\"som_4\",\"som_9\",\"som_25\",\"som_100\"]"
      ],
      "metadata": {
        "id": "qtfRwW1omB8P"
      },
      "execution_count": 43,
      "outputs": []
    },
    {
      "cell_type": "code",
      "execution_count": 44,
      "metadata": {
        "id": "MjIFW46YAzB5"
      },
      "outputs": [],
      "source": [
        "def save_outliers(outliers,string):\n",
        "  for i in range(len(outliers)):\n",
        "    with open(f\"drive/MyDrive/af_min/\"+string+f\"/outliers_{i}\", 'w') as f:\n",
        "      for line in outliers[i]:\n",
        "        f.write(line)"
      ]
    },
    {
      "cell_type": "code",
      "source": [
        "def loop_outliers(data, liste):\n",
        "  for i in range(len(data)):\n",
        "    save_outliers(outliers(data[i]),liste[i])"
      ],
      "metadata": {
        "id": "uxQ1z7hKkqqd"
      },
      "execution_count": 45,
      "outputs": []
    },
    {
      "cell_type": "code",
      "source": [
        "loop_outliers(data, liste_cluster)"
      ],
      "metadata": {
        "id": "emM_byAcmblu"
      },
      "execution_count": 46,
      "outputs": []
    }
  ],
  "metadata": {
    "colab": {
      "name": "IF_cluster_africanHate.ipynb",
      "provenance": []
    },
    "kernelspec": {
      "display_name": "Python 3",
      "name": "python3"
    },
    "language_info": {
      "name": "python"
    }
  },
  "nbformat": 4,
  "nbformat_minor": 0
}