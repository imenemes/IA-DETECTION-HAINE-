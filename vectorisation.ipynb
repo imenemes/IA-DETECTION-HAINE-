{
  "nbformat": 4,
  "nbformat_minor": 0,
  "metadata": {
    "colab": {
      "name": "vectorisation.ipynb",
      "provenance": [],
      "authorship_tag": "ABX9TyP747KdTlc5/sHC2RdaD7JA"
    },
    "kernelspec": {
      "name": "python3",
      "display_name": "Python 3"
    },
    "language_info": {
      "name": "python"
    }
  },
  "cells": [
    {
      "cell_type": "code",
      "source": [
        "from google.colab import files\n",
        "import pandas as pd"
      ],
      "metadata": {
        "id": "zvQuBn82dDx7"
      },
      "execution_count": 11,
      "outputs": []
    },
    {
      "cell_type": "code",
      "source": [
        "uploaded = files.upload()"
      ],
      "metadata": {
        "colab": {
          "resources": {
            "http://localhost:8080/nbextensions/google.colab/files.js": {
              "data": "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",
              "ok": true,
              "headers": [
                [
                  "content-type",
                  "application/javascript"
                ]
              ],
              "status": 200,
              "status_text": "OK"
            }
          },
          "base_uri": "https://localhost:8080/",
          "height": 77
        },
        "id": "qcHAG0CTdF8Z",
        "outputId": "1552969c-a760-430a-f126-256fd674de5c"
      },
      "execution_count": 3,
      "outputs": [
        {
          "output_type": "display_data",
          "data": {
            "text/html": [
              "\n",
              "     <input type=\"file\" id=\"files-d7480727-e114-46b6-a4be-dc64158e2e75\" name=\"files[]\" multiple disabled\n",
              "        style=\"border:none\" />\n",
              "     <output id=\"result-d7480727-e114-46b6-a4be-dc64158e2e75\">\n",
              "      Upload widget is only available when the cell has been executed in the\n",
              "      current browser session. Please rerun this cell to enable.\n",
              "      </output>\n",
              "      <script src=\"/nbextensions/google.colab/files.js\"></script> "
            ],
            "text/plain": [
              "<IPython.core.display.HTML object>"
            ]
          },
          "metadata": {}
        },
        {
          "output_type": "stream",
          "name": "stdout",
          "text": [
            "Saving clean_data to clean_data\n"
          ]
        }
      ]
    },
    {
      "cell_type": "code",
      "execution_count": 61,
      "metadata": {
        "id": "jktxcbjoXgYR"
      },
      "outputs": [],
      "source": [
        "with open(\"clean_data\", \"r\") as file:\n",
        "    lines = file.readlines()\n",
        "    \n",
        "cleaned_tweet_list = [line.split() for line in lines]\n"
      ]
    },
    {
      "cell_type": "code",
      "source": [
        "cleaned_tweet=list(cleaned_tweet_list)\n",
        "for i in range(len(cleaned_tweet)):\n",
        "    cleaned_tweet[i] = ' '.join(cleaned_tweet[i])\n"
      ],
      "metadata": {
        "id": "rlXBZXhIf6Bd"
      },
      "execution_count": 60,
      "outputs": []
    },
    {
      "cell_type": "code",
      "source": [
        "# Transformer notre échantillon en dataframe\n",
        "df = pd.DataFrame(cleaned_tweet,columns =['cleaned_tweet'])\n",
        "print(df['cleaned_tweet'].head())"
      ],
      "metadata": {
        "colab": {
          "base_uri": "https://localhost:8080/"
        },
        "id": "YvarkTVkfT54",
        "outputId": "5f5323a5-18b3-49ba-a3b8-7711b5981e49"
      },
      "execution_count": 37,
      "outputs": [
        {
          "output_type": "stream",
          "name": "stdout",
          "text": [
            "0    être avoir culot venir jouer victime mécher gr...\n",
            "1    jslalsbd faisc taire veu dieuj llook effectvue...\n",
            "2                                                unise\n",
            "3    meme être fan puma aller vaincre milan ac team...\n",
            "4                                  regarde truc savoir\n",
            "Name: cleaned_tweet, dtype: object\n"
          ]
        }
      ]
    },
    {
      "cell_type": "markdown",
      "source": [
        "## 6 - **Vectorization** (featurization)"
      ],
      "metadata": {
        "id": "_Qhb5lol5tv5"
      }
    },
    {
      "cell_type": "code",
      "source": [
        "from sklearn.feature_extraction.text import TfidfVectorizer, CountVectorizer"
      ],
      "metadata": {
        "id": "TfeHs0u3eqK6"
      },
      "execution_count": 7,
      "outputs": []
    },
    {
      "cell_type": "markdown",
      "source": [
        "A- **Méthode BOW**"
      ],
      "metadata": {
        "id": "JmFgp4Hokl5w"
      }
    },
    {
      "cell_type": "code",
      "source": [
        "# définir le tokenizer\n",
        "def tokenizer(text):\n",
        "    return text\n"
      ],
      "metadata": {
        "id": "E0cvzKvyapM6"
      },
      "execution_count": 6,
      "outputs": []
    },
    {
      "cell_type": "code",
      "source": [
        "bow_vectorizer = CountVectorizer(analyzer='word',lowercase=False)\n",
        "print('Tweet before vectorization: {}'.format(cleaned_tweet[83]))\n",
        "bow = bow_vectorizer.fit_transform(cleaned_tweet)\n",
        "\n",
        "print('Tweet after vectorization: \\n{}'.format(bow[83]))\n",
        "bow.shape"
      ],
      "metadata": {
        "id": "k9t563yMkstE",
        "colab": {
          "base_uri": "https://localhost:8080/"
        },
        "outputId": "31533330-f579-45fe-bce6-2eca6074ee19"
      },
      "execution_count": 18,
      "outputs": [
        {
          "output_type": "stream",
          "name": "stdout",
          "text": [
            "Tweet before vectorization: monsieur député attention souffrance peuple iranien démocratie pouvoir apporter paix pays cnri soutenir œuvre obtenir\n",
            "Tweet after vectorization: \n",
            "  (0, 6727)\t1\n",
            "  (0, 8032)\t1\n",
            "  (0, 706)\t1\n",
            "  (0, 7611)\t1\n",
            "  (0, 3292)\t1\n",
            "  (0, 9671)\t1\n",
            "  (0, 7722)\t1\n",
            "  (0, 5313)\t1\n",
            "  (0, 3248)\t1\n",
            "  (0, 509)\t1\n",
            "  (0, 7442)\t1\n",
            "  (0, 1965)\t1\n",
            "  (0, 9700)\t1\n",
            "  (0, 11510)\t1\n",
            "  (0, 7214)\t1\n"
          ]
        },
        {
          "output_type": "execute_result",
          "data": {
            "text/plain": [
              "(5000, 11549)"
            ]
          },
          "metadata": {},
          "execution_count": 18
        }
      ]
    },
    {
      "cell_type": "code",
      "source": [
        "#Mots les plus courants et leur nombre respectif\n",
        "def get_most_freq_words(str, n=None):\n",
        "    vect = CountVectorizer().fit(cleaned_tweet)\n",
        "    bag_of_words = vect.transform(cleaned_tweet)\n",
        "    sum_words = bag_of_words.sum(axis=0) \n",
        "    freq = [(word, sum_words[0, idx]) for word, idx in vect.vocabulary_.items()]\n",
        "    freq =sorted(freq, key = lambda x: x[1], reverse=True)\n",
        "    return freq[:n]\n",
        "  \n",
        "get_most_freq_words([ word for tweet in cleaned_tweet for word in tweet],20)"
      ],
      "metadata": {
        "id": "4rItQIlB4QRI",
        "colab": {
          "base_uri": "https://localhost:8080/"
        },
        "outputId": "28e9c6b5-61b5-4ab8-eb84-f3999989abc0"
      },
      "execution_count": 17,
      "outputs": [
        {
          "output_type": "execute_result",
          "data": {
            "text/plain": [
              "[('être', 2532),\n",
              " ('avoir', 1688),\n",
              " ('faire', 548),\n",
              " ('aller', 356),\n",
              " ('pouvoir', 249),\n",
              " ('bien', 196),\n",
              " ('voir', 184),\n",
              " ('savoir', 151),\n",
              " ('vouloir', 146),\n",
              " ('jour', 134),\n",
              " ('devoir', 120),\n",
              " ('france', 118),\n",
              " ('falloir', 117),\n",
              " ('gagner', 100),\n",
              " ('vie', 99),\n",
              " ('amp', 99),\n",
              " ('prendre', 96),\n",
              " ('follow', 93),\n",
              " ('grand', 91),\n",
              " ('taire', 88)]"
            ]
          },
          "metadata": {},
          "execution_count": 17
        }
      ]
    },
    {
      "cell_type": "markdown",
      "source": [
        "J'essaie ici de jouer avec min_df et max_df de countvectorizer , et ça n'a pas l'air de marcher , car les tweets ont bien été nettoyé, de plus cela témoingne d'une grande diversité des mots au sein de notre corpus"
      ],
      "metadata": {
        "id": "iCGLJtfUhdAf"
      }
    },
    {
      "cell_type": "code",
      "source": [
        "#Mots les plus courants et leur nombre respectif\n",
        "def get_most_freq_words(str, n=None):\n",
        "    vect = CountVectorizer(max_df=0.3, min_df=5).fit(cleaned_tweet)\n",
        "    bag_of_words = vect.transform(cleaned_tweet)\n",
        "    sum_words = bag_of_words.sum(axis=0) \n",
        "    freq = [(word, sum_words[0, idx]) for word, idx in vect.vocabulary_.items()]\n",
        "    freq =sorted(freq, key = lambda x: x[1], reverse=True)\n",
        "    return freq[:n]\n",
        "  \n",
        "get_most_freq_words([ word for tweet in cleaned_tweet for word in tweet],20)"
      ],
      "metadata": {
        "colab": {
          "base_uri": "https://localhost:8080/"
        },
        "id": "x8u0wCHzgdQ1",
        "outputId": "fa62237e-7e38-4433-e1e7-ee2ad9adf7f1"
      },
      "execution_count": 24,
      "outputs": [
        {
          "output_type": "execute_result",
          "data": {
            "text/plain": [
              "[('avoir', 1688),\n",
              " ('faire', 548),\n",
              " ('aller', 356),\n",
              " ('pouvoir', 249),\n",
              " ('bien', 196),\n",
              " ('voir', 184),\n",
              " ('savoir', 151),\n",
              " ('vouloir', 146),\n",
              " ('jour', 134),\n",
              " ('devoir', 120),\n",
              " ('france', 118),\n",
              " ('falloir', 117),\n",
              " ('gagner', 100),\n",
              " ('vie', 99),\n",
              " ('amp', 99),\n",
              " ('prendre', 96),\n",
              " ('follow', 93),\n",
              " ('grand', 91),\n",
              " ('taire', 88),\n",
              " ('covid', 88)]"
            ]
          },
          "metadata": {},
          "execution_count": 24
        }
      ]
    },
    {
      "cell_type": "markdown",
      "source": [
        "On constate ici que les mots les plus courants avec BOW sont des verbes non conjugés tels que : être, faire, avoir, etc. "
      ],
      "metadata": {
        "id": "7DTqIxmd5Ig7"
      }
    },
    {
      "cell_type": "markdown",
      "source": [
        "B- **Méthode TFIDF**"
      ],
      "metadata": {
        "id": "hGqwHTyn58F0"
      }
    },
    {
      "cell_type": "code",
      "source": [
        "#from numpy.lib.function_base import vectorize\n",
        "#utiliser la méthode de Tfidfvectorizer avec:\n",
        "\"\"\" - les stopsword français importés depuis spacy\n",
        "    - le tokenizer définis plus haut\"\"\"\n",
        "vectorizer = TfidfVectorizer(lowercase=False)\n",
        "print('Tweet before vectorization: {}'.format(cleaned_tweet[83]))"
      ],
      "metadata": {
        "id": "smsdUUntlBiY",
        "colab": {
          "base_uri": "https://localhost:8080/"
        },
        "outputId": "4ad4f87c-0822-4795-e0e6-4ce9f5fef8dd"
      },
      "execution_count": 25,
      "outputs": [
        {
          "output_type": "stream",
          "name": "stdout",
          "text": [
            "Tweet before vectorization: monsieur député attention souffrance peuple iranien démocratie pouvoir apporter paix pays cnri soutenir œuvre obtenir\n"
          ]
        }
      ]
    },
    {
      "cell_type": "code",
      "source": [
        "# transformer les tweets en vecteurs\n",
        "# qui prend en argument les vecteurs de mots de l'ensemble des tweets nettoyés précédemment \n",
        "X = vectorizer.fit_transform(cleaned_tweet)\n",
        "print('Tweet after vectorization: \\n{}'.format(X[83]))\n",
        "\n",
        "#print ((X.todense()))"
      ],
      "metadata": {
        "id": "gidfHw67lY61",
        "colab": {
          "base_uri": "https://localhost:8080/"
        },
        "outputId": "4e3649ba-c050-46d2-ae38-24768db21c20"
      },
      "execution_count": 26,
      "outputs": [
        {
          "output_type": "stream",
          "name": "stdout",
          "text": [
            "Tweet after vectorization: \n",
            "  (0, 7214)\t0.2635719556164827\n",
            "  (0, 11510)\t0.2635719556164827\n",
            "  (0, 9700)\t0.21467099683579413\n",
            "  (0, 1965)\t0.3177281701587722\n",
            "  (0, 7442)\t0.28473596007380847\n",
            "  (0, 509)\t0.28473596007380847\n",
            "  (0, 3248)\t0.2726208503905979\n",
            "  (0, 5313)\t0.3177281701587722\n",
            "  (0, 7722)\t0.22978836711560893\n",
            "  (0, 9671)\t0.28473596007380847\n",
            "  (0, 3292)\t0.25033155846161137\n",
            "  (0, 7611)\t0.19350699237846838\n",
            "  (0, 706)\t0.25634655268237083\n",
            "  (0, 8032)\t0.14751257521431016\n",
            "  (0, 6727)\t0.23482067313412833\n"
          ]
        }
      ]
    },
    {
      "cell_type": "code",
      "source": [
        "idf=vectorizer.idf_"
      ],
      "metadata": {
        "id": "sQhXl5-rqQcI"
      },
      "execution_count": 27,
      "outputs": []
    },
    {
      "cell_type": "markdown",
      "source": [
        "C- **Word embeding with Spacy**"
      ],
      "metadata": {
        "id": "Eg82e4Yyqj_G"
      }
    },
    {
      "cell_type": "code",
      "source": [
        "def my_word_embedding(sentence):\n",
        "    # Tokeniser la phrase\n",
        "    doc = nlp(sentence)\n",
        "    # Retourner le vecteur lié à chaque token\n",
        "    return [(X.vector) for X in doc]\n",
        "\n",
        "#for n, snt in enumerate(s):\n",
        "    #print(n , \":\", my_word_embedding(snt), \"\\n\")\n",
        "\n",
        "    print(X)"
      ],
      "metadata": {
        "id": "rYaA0E7aoRi9"
      },
      "execution_count": 28,
      "outputs": []
    },
    {
      "cell_type": "markdown",
      "source": [
        "D- **Méthode W2Vec**"
      ],
      "metadata": {
        "id": "AUvbGV6_NROn"
      }
    },
    {
      "cell_type": "code",
      "source": [
        "import gensim\n",
        "\n",
        "\n",
        "#tokenized_tweet = s.apply(lambda x: x.split()) # tokenizing \n",
        "\n",
        "model_w2v = gensim.models.Word2Vec(\n",
        "            cleaned_tweet_list,\n",
        "            size=200, # desired no. of features/independent variables\n",
        "            window=5, # context window size\n",
        "            min_count=2, # Ignores all words with total frequency lower than 2.                                  \n",
        "            sg = 1, # 1 for skip-gram model\n",
        "            hs = 0,\n",
        "            negative = 10, # for negative sampling\n",
        "            workers= 32, # no.of cores\n",
        "            seed = 34\n",
        ") \n"
      ],
      "metadata": {
        "id": "txJlUHR5NQma"
      },
      "execution_count": 46,
      "outputs": []
    },
    {
      "cell_type": "code",
      "source": [
        "print(model_w2v)"
      ],
      "metadata": {
        "id": "wXGVsdYPs_c5",
        "colab": {
          "base_uri": "https://localhost:8080/"
        },
        "outputId": "07b181db-ce1a-415e-ec48-90f832a29b3b"
      },
      "execution_count": 47,
      "outputs": [
        {
          "output_type": "stream",
          "name": "stdout",
          "text": [
            "Word2Vec(vocab=4641, size=200, alpha=0.025)\n"
          ]
        }
      ]
    },
    {
      "cell_type": "code",
      "source": [
        "words = list(model_w2v.wv.vocab)\n",
        "print(words)"
      ],
      "metadata": {
        "id": "gF1ZmwWRtaor"
      },
      "execution_count": null,
      "outputs": []
    },
    {
      "cell_type": "code",
      "source": [
        "#Nombre de mots dans le vocabulaire \n",
        "\n",
        "vocab_len = len(model_w2v.wv.vocab)\n",
        "print(vocab_len)"
      ],
      "metadata": {
        "id": "M1vF2EC6R4qR",
        "colab": {
          "base_uri": "https://localhost:8080/"
        },
        "outputId": "8974e424-6464-4778-8898-29641d7cff19"
      },
      "execution_count": 49,
      "outputs": [
        {
          "output_type": "stream",
          "name": "stdout",
          "text": [
            "4641\n"
          ]
        }
      ]
    },
    {
      "cell_type": "code",
      "source": [
        "model_w2v['haine']"
      ],
      "metadata": {
        "id": "0AZVM5rFPjNF",
        "colab": {
          "base_uri": "https://localhost:8080/"
        },
        "outputId": "b6932dea-56ae-455c-af08-2b0e3435c6b7"
      },
      "execution_count": 50,
      "outputs": [
        {
          "output_type": "stream",
          "name": "stderr",
          "text": [
            "/usr/local/lib/python3.7/dist-packages/ipykernel_launcher.py:1: DeprecationWarning: Call to deprecated `__getitem__` (Method will be removed in 4.0.0, use self.wv.__getitem__() instead).\n",
            "  \"\"\"Entry point for launching an IPython kernel.\n"
          ]
        },
        {
          "output_type": "execute_result",
          "data": {
            "text/plain": [
              "array([ 6.24008887e-02, -4.01063561e-02, -5.81204779e-02,  2.59715542e-02,\n",
              "        9.80506092e-02, -8.36496279e-02,  1.18035443e-01, -5.04827015e-02,\n",
              "       -1.33620858e-01,  1.01981081e-01,  3.39286439e-02,  6.27613142e-02,\n",
              "        3.07428949e-02, -2.15686619e-01, -1.53206259e-01,  3.99127938e-02,\n",
              "       -5.44108301e-02,  1.17917672e-01, -5.00415899e-02,  1.07102133e-01,\n",
              "        1.15598276e-01, -1.83084011e-02,  1.24082658e-02,  2.76882648e-01,\n",
              "        1.51289599e-02,  7.71661401e-02,  2.74327416e-02,  1.33635588e-02,\n",
              "        9.19034064e-04, -2.68162310e-01,  2.07554474e-02, -1.46591648e-01,\n",
              "       -4.09845710e-02, -8.63641351e-02,  8.16857889e-02,  9.62626263e-02,\n",
              "       -6.03522398e-02, -5.66906743e-02, -9.65556949e-02, -3.70929658e-01,\n",
              "       -6.23883121e-02, -6.51803752e-03, -5.62752523e-02,  2.18960434e-01,\n",
              "       -1.70065518e-02, -2.98029743e-02, -2.02314574e-02, -1.32267118e-01,\n",
              "       -8.22221041e-02,  8.23857337e-02, -4.57786024e-02,  1.90132856e-02,\n",
              "       -5.75115085e-02,  8.57202858e-02, -3.00867353e-02, -6.67458400e-02,\n",
              "       -9.35705751e-02,  3.32252756e-02, -1.97453611e-02,  4.82408069e-02,\n",
              "       -2.52598803e-02,  1.60484806e-01,  1.84120789e-01,  1.08917281e-01,\n",
              "        7.39167556e-02, -4.06530313e-02,  1.45260990e-01, -7.17491508e-02,\n",
              "        2.44625404e-01,  2.73245543e-01,  1.12326585e-01,  6.79389164e-02,\n",
              "       -1.70834720e-01,  7.89148211e-02, -1.50447637e-01,  3.30909729e-01,\n",
              "       -1.04103731e-02, -1.22480102e-01, -8.18744022e-03, -1.08374670e-01,\n",
              "        1.13380872e-01,  4.97535355e-02, -4.75042537e-02, -1.71531085e-02,\n",
              "       -1.88622013e-01, -2.43811347e-02, -1.02819659e-01, -1.06358014e-01,\n",
              "       -2.65532471e-02,  7.63286948e-02,  6.11943975e-02,  4.85070385e-02,\n",
              "        1.22139759e-01,  2.05204055e-01,  2.17816398e-01, -1.49955377e-01,\n",
              "       -6.77678958e-02,  1.09717948e-02, -3.83530520e-02, -3.81197073e-02,\n",
              "        9.59337354e-02,  8.88436586e-02,  1.06673747e-01,  6.36339113e-02,\n",
              "        1.04821451e-01, -1.58885106e-01, -2.19713062e-01,  2.03799486e-01,\n",
              "        3.24781358e-01,  9.02933925e-02,  3.26859891e-01, -5.01651876e-02,\n",
              "        1.51781887e-02, -2.04806309e-02, -2.54277319e-01, -1.46217600e-01,\n",
              "       -1.96607634e-01, -3.32024368e-03, -2.52898354e-02, -2.20043927e-01,\n",
              "        7.21876249e-02, -9.42443311e-02,  9.68358368e-02,  5.91068864e-02,\n",
              "       -1.43948626e-02,  2.09904745e-01,  8.87793377e-02,  1.01711765e-01,\n",
              "       -6.22219816e-02,  9.12848711e-02,  4.35456857e-02,  2.20692018e-03,\n",
              "        2.57166713e-01,  1.08672855e-02, -1.60059243e-01,  7.92313442e-02,\n",
              "        1.01174414e-01, -1.18526265e-01, -1.92942798e-01, -2.22258896e-01,\n",
              "        5.79078160e-02, -2.12695986e-01,  6.78901151e-02,  4.39924039e-02,\n",
              "        9.24850926e-02,  1.07099444e-01,  2.47906461e-01, -2.56398227e-02,\n",
              "        7.89529905e-02, -1.70884244e-02,  4.40821908e-02,  4.05008867e-02,\n",
              "       -1.00594506e-01, -4.01693918e-02,  2.66186539e-02,  6.73882067e-02,\n",
              "       -2.20239460e-01, -2.54058778e-01, -1.93334520e-02, -6.65288121e-02,\n",
              "        2.05674723e-01, -4.95641418e-02, -1.81736559e-01,  9.40739810e-02,\n",
              "        5.91837801e-02, -4.52654483e-03, -4.40943167e-02, -5.09508029e-02,\n",
              "        1.94573984e-01,  1.26792677e-02, -7.98889548e-02,  5.05462140e-02,\n",
              "       -1.03909768e-01,  2.14629352e-01,  2.23876443e-03,  5.93035556e-02,\n",
              "        7.01016979e-03,  1.10140285e-02, -4.69935052e-02,  2.82837570e-01,\n",
              "        1.11611910e-01, -7.05683827e-02,  1.10475812e-04,  9.06276256e-02,\n",
              "        1.32967550e-02,  1.87372893e-01,  1.72521565e-02, -8.54358524e-02,\n",
              "       -8.66715387e-02, -6.76295832e-02,  1.09171219e-01,  2.15444311e-01,\n",
              "       -1.00824967e-01,  6.23680763e-02,  7.61189684e-02, -4.75215539e-02,\n",
              "        4.45004813e-02,  3.67381647e-02,  1.95584074e-01, -1.03537887e-02],\n",
              "      dtype=float32)"
            ]
          },
          "metadata": {},
          "execution_count": 50
        }
      ]
    },
    {
      "cell_type": "code",
      "source": [
        "model_w2v.wv.most_similar(positive=\"finir\")"
      ],
      "metadata": {
        "id": "E1E-ehOjOpip",
        "colab": {
          "base_uri": "https://localhost:8080/"
        },
        "outputId": "01a78077-9d3e-48f0-e043-df423f191ad4"
      },
      "execution_count": 59,
      "outputs": [
        {
          "output_type": "execute_result",
          "data": {
            "text/plain": [
              "[('train', 0.9997788667678833),\n",
              " ('donner', 0.9997481107711792),\n",
              " ('connaître', 0.9997479319572449),\n",
              " ('mal', 0.9997469782829285),\n",
              " ('sortir', 0.9997106790542603),\n",
              " ('place', 0.9997091293334961),\n",
              " ('enfant', 0.999683141708374),\n",
              " ('arriver', 0.9996689558029175),\n",
              " ('moment', 0.9996660351753235),\n",
              " ('problème', 0.9996576905250549)]"
            ]
          },
          "metadata": {},
          "execution_count": 59
        }
      ]
    }
  ]
}