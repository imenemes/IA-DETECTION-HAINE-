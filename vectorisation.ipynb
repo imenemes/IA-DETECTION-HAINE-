{
  "nbformat": 4,
  "nbformat_minor": 0,
  "metadata": {
    "colab": {
      "name": "vectorisation.ipynb",
      "provenance": [],
      "authorship_tag": "ABX9TyPMRDRVyAO0Csrz/DnpxJtv"
    },
    "kernelspec": {
      "name": "python3",
      "display_name": "Python 3"
    },
    "language_info": {
      "name": "python"
    }
  },
  "cells": [
    {
      "cell_type": "code",
      "source": [
        "import pandas as pd"
      ],
      "metadata": {
        "id": "zvQuBn82dDx7"
      },
      "execution_count": 1,
      "outputs": []
    },
    {
      "cell_type": "code",
      "source": [
        "from google.colab import drive\n",
        "drive.mount('/content/drive')"
      ],
      "metadata": {
        "colab": {
          "base_uri": "https://localhost:8080/"
        },
        "id": "mCDFnjrGC46C",
        "outputId": "17b80e6e-2c0d-434a-c80c-ec49bdf2ae20"
      },
      "execution_count": 2,
      "outputs": [
        {
          "output_type": "stream",
          "name": "stdout",
          "text": [
            "Mounted at /content/drive\n"
          ]
        }
      ]
    },
    {
      "cell_type": "code",
      "source": [
        "df= pd.read_pickle('/content/drive/MyDrive/Data_M/clean_data.txt')"
      ],
      "metadata": {
        "id": "_d74GA_UDGBV"
      },
      "execution_count": 4,
      "outputs": []
    },
    {
      "cell_type": "code",
      "source": [
        "df.head()"
      ],
      "metadata": {
        "colab": {
          "base_uri": "https://localhost:8080/",
          "height": 206
        },
        "id": "sRqwNpZVDofN",
        "outputId": "da485ea0-6843-49e2-e9e7-135729756245"
      },
      "execution_count": 6,
      "outputs": [
        {
          "output_type": "execute_result",
          "data": {
            "text/plain": [
              "                                       cleaned_tweet\n",
              "0  être avoir culot venir jouer victime méchant g...\n",
              "1  jslalsbd faisce veu dieuj llook effectvuemy ce...\n",
              "2                                             unisex\n",
              "3  meme être fan puma aller vaincre milan ac team...\n",
              "4                       regarde truc audessus savoir"
            ],
            "text/html": [
              "\n",
              "  <div id=\"df-57cc83e1-af5c-4c7e-8c33-098ec5c04916\">\n",
              "    <div class=\"colab-df-container\">\n",
              "      <div>\n",
              "<style scoped>\n",
              "    .dataframe tbody tr th:only-of-type {\n",
              "        vertical-align: middle;\n",
              "    }\n",
              "\n",
              "    .dataframe tbody tr th {\n",
              "        vertical-align: top;\n",
              "    }\n",
              "\n",
              "    .dataframe thead th {\n",
              "        text-align: right;\n",
              "    }\n",
              "</style>\n",
              "<table border=\"1\" class=\"dataframe\">\n",
              "  <thead>\n",
              "    <tr style=\"text-align: right;\">\n",
              "      <th></th>\n",
              "      <th>cleaned_tweet</th>\n",
              "    </tr>\n",
              "  </thead>\n",
              "  <tbody>\n",
              "    <tr>\n",
              "      <th>0</th>\n",
              "      <td>être avoir culot venir jouer victime méchant g...</td>\n",
              "    </tr>\n",
              "    <tr>\n",
              "      <th>1</th>\n",
              "      <td>jslalsbd faisce veu dieuj llook effectvuemy ce...</td>\n",
              "    </tr>\n",
              "    <tr>\n",
              "      <th>2</th>\n",
              "      <td>unisex</td>\n",
              "    </tr>\n",
              "    <tr>\n",
              "      <th>3</th>\n",
              "      <td>meme être fan puma aller vaincre milan ac team...</td>\n",
              "    </tr>\n",
              "    <tr>\n",
              "      <th>4</th>\n",
              "      <td>regarde truc audessus savoir</td>\n",
              "    </tr>\n",
              "  </tbody>\n",
              "</table>\n",
              "</div>\n",
              "      <button class=\"colab-df-convert\" onclick=\"convertToInteractive('df-57cc83e1-af5c-4c7e-8c33-098ec5c04916')\"\n",
              "              title=\"Convert this dataframe to an interactive table.\"\n",
              "              style=\"display:none;\">\n",
              "        \n",
              "  <svg xmlns=\"http://www.w3.org/2000/svg\" height=\"24px\"viewBox=\"0 0 24 24\"\n",
              "       width=\"24px\">\n",
              "    <path d=\"M0 0h24v24H0V0z\" fill=\"none\"/>\n",
              "    <path d=\"M18.56 5.44l.94 2.06.94-2.06 2.06-.94-2.06-.94-.94-2.06-.94 2.06-2.06.94zm-11 1L8.5 8.5l.94-2.06 2.06-.94-2.06-.94L8.5 2.5l-.94 2.06-2.06.94zm10 10l.94 2.06.94-2.06 2.06-.94-2.06-.94-.94-2.06-.94 2.06-2.06.94z\"/><path d=\"M17.41 7.96l-1.37-1.37c-.4-.4-.92-.59-1.43-.59-.52 0-1.04.2-1.43.59L10.3 9.45l-7.72 7.72c-.78.78-.78 2.05 0 2.83L4 21.41c.39.39.9.59 1.41.59.51 0 1.02-.2 1.41-.59l7.78-7.78 2.81-2.81c.8-.78.8-2.07 0-2.86zM5.41 20L4 18.59l7.72-7.72 1.47 1.35L5.41 20z\"/>\n",
              "  </svg>\n",
              "      </button>\n",
              "      \n",
              "  <style>\n",
              "    .colab-df-container {\n",
              "      display:flex;\n",
              "      flex-wrap:wrap;\n",
              "      gap: 12px;\n",
              "    }\n",
              "\n",
              "    .colab-df-convert {\n",
              "      background-color: #E8F0FE;\n",
              "      border: none;\n",
              "      border-radius: 50%;\n",
              "      cursor: pointer;\n",
              "      display: none;\n",
              "      fill: #1967D2;\n",
              "      height: 32px;\n",
              "      padding: 0 0 0 0;\n",
              "      width: 32px;\n",
              "    }\n",
              "\n",
              "    .colab-df-convert:hover {\n",
              "      background-color: #E2EBFA;\n",
              "      box-shadow: 0px 1px 2px rgba(60, 64, 67, 0.3), 0px 1px 3px 1px rgba(60, 64, 67, 0.15);\n",
              "      fill: #174EA6;\n",
              "    }\n",
              "\n",
              "    [theme=dark] .colab-df-convert {\n",
              "      background-color: #3B4455;\n",
              "      fill: #D2E3FC;\n",
              "    }\n",
              "\n",
              "    [theme=dark] .colab-df-convert:hover {\n",
              "      background-color: #434B5C;\n",
              "      box-shadow: 0px 1px 3px 1px rgba(0, 0, 0, 0.15);\n",
              "      filter: drop-shadow(0px 1px 2px rgba(0, 0, 0, 0.3));\n",
              "      fill: #FFFFFF;\n",
              "    }\n",
              "  </style>\n",
              "\n",
              "      <script>\n",
              "        const buttonEl =\n",
              "          document.querySelector('#df-57cc83e1-af5c-4c7e-8c33-098ec5c04916 button.colab-df-convert');\n",
              "        buttonEl.style.display =\n",
              "          google.colab.kernel.accessAllowed ? 'block' : 'none';\n",
              "\n",
              "        async function convertToInteractive(key) {\n",
              "          const element = document.querySelector('#df-57cc83e1-af5c-4c7e-8c33-098ec5c04916');\n",
              "          const dataTable =\n",
              "            await google.colab.kernel.invokeFunction('convertToInteractive',\n",
              "                                                     [key], {});\n",
              "          if (!dataTable) return;\n",
              "\n",
              "          const docLinkHtml = 'Like what you see? Visit the ' +\n",
              "            '<a target=\"_blank\" href=https://colab.research.google.com/notebooks/data_table.ipynb>data table notebook</a>'\n",
              "            + ' to learn more about interactive tables.';\n",
              "          element.innerHTML = '';\n",
              "          dataTable['output_type'] = 'display_data';\n",
              "          await google.colab.output.renderOutput(dataTable, element);\n",
              "          const docLink = document.createElement('div');\n",
              "          docLink.innerHTML = docLinkHtml;\n",
              "          element.appendChild(docLink);\n",
              "        }\n",
              "      </script>\n",
              "    </div>\n",
              "  </div>\n",
              "  "
            ]
          },
          "metadata": {},
          "execution_count": 6
        }
      ]
    },
    {
      "cell_type": "code",
      "source": [
        "cleaned_tweet=df.cleaned_tweet"
      ],
      "metadata": {
        "id": "40DtpaQSDw5V"
      },
      "execution_count": 7,
      "outputs": []
    },
    {
      "cell_type": "markdown",
      "source": [
        "## 6 - **Vectorization** (featurization)"
      ],
      "metadata": {
        "id": "_Qhb5lol5tv5"
      }
    },
    {
      "cell_type": "code",
      "source": [
        "from sklearn.feature_extraction.text import TfidfVectorizer, CountVectorizer"
      ],
      "metadata": {
        "id": "TfeHs0u3eqK6"
      },
      "execution_count": 8,
      "outputs": []
    },
    {
      "cell_type": "markdown",
      "source": [
        "A- **Méthode BOW**"
      ],
      "metadata": {
        "id": "JmFgp4Hokl5w"
      }
    },
    {
      "cell_type": "code",
      "source": [
        "# définir le tokenizer\n",
        "def tokenizer(text):\n",
        "    return text\n"
      ],
      "metadata": {
        "id": "E0cvzKvyapM6"
      },
      "execution_count": 9,
      "outputs": []
    },
    {
      "cell_type": "code",
      "source": [
        "bow_vectorizer = CountVectorizer(analyzer='word',lowercase=False)\n",
        "print('Tweet before vectorization: {}'.format(cleaned_tweet[83]))\n",
        "bow = bow_vectorizer.fit_transform(cleaned_tweet)\n",
        "\n",
        "print('Tweet after vectorization: \\n{}'.format(bow[83]))\n",
        "bow.shape"
      ],
      "metadata": {
        "id": "k9t563yMkstE",
        "colab": {
          "base_uri": "https://localhost:8080/"
        },
        "outputId": "6a5c8667-d6dd-4bc0-c8b8-dcc831cc0935"
      },
      "execution_count": 10,
      "outputs": [
        {
          "output_type": "stream",
          "name": "stdout",
          "text": [
            "Tweet before vectorization: monsieur député attention souffrance peuple iranien démocratie pouvoir apporter paix pays cnri soutenir œuvre obtenir\n",
            "Tweet after vectorization: \n",
            "  (0, 7977)\t1\n",
            "  (0, 701)\t1\n",
            "  (0, 7556)\t1\n",
            "  (0, 6674)\t1\n",
            "  (0, 3269)\t1\n",
            "  (0, 9602)\t1\n",
            "  (0, 7662)\t1\n",
            "  (0, 5268)\t1\n",
            "  (0, 3224)\t1\n",
            "  (0, 503)\t1\n",
            "  (0, 7392)\t1\n",
            "  (0, 1950)\t1\n",
            "  (0, 9630)\t1\n",
            "  (0, 11413)\t1\n",
            "  (0, 7164)\t1\n"
          ]
        },
        {
          "output_type": "execute_result",
          "data": {
            "text/plain": [
              "(5000, 11452)"
            ]
          },
          "metadata": {},
          "execution_count": 10
        }
      ]
    },
    {
      "cell_type": "code",
      "source": [
        "#Mots les plus courants et leur nombre respectif\n",
        "def get_most_freq_words(str, n=None):\n",
        "    vect = CountVectorizer().fit(cleaned_tweet)\n",
        "    bag_of_words = vect.transform(cleaned_tweet)\n",
        "    sum_words = bag_of_words.sum(axis=0) \n",
        "    freq = [(word, sum_words[0, idx]) for word, idx in vect.vocabulary_.items()]\n",
        "    freq =sorted(freq, key = lambda x: x[1], reverse=True)\n",
        "    return freq[:n]\n",
        "  \n",
        "get_most_freq_words([ word for tweet in cleaned_tweet for word in tweet],20)"
      ],
      "metadata": {
        "id": "4rItQIlB4QRI",
        "colab": {
          "base_uri": "https://localhost:8080/"
        },
        "outputId": "47c57ace-491c-436b-cca1-7e9e38eb772c"
      },
      "execution_count": 11,
      "outputs": [
        {
          "output_type": "execute_result",
          "data": {
            "text/plain": [
              "[('être', 2539),\n",
              " ('avoir', 1727),\n",
              " ('faire', 525),\n",
              " ('aller', 359),\n",
              " ('pouvoir', 239),\n",
              " ('voir', 205),\n",
              " ('bien', 196),\n",
              " ('savoir', 149),\n",
              " ('jour', 136),\n",
              " ('vouloir', 131),\n",
              " ('france', 118),\n",
              " ('falloir', 118),\n",
              " ('devoir', 117),\n",
              " ('gagner', 105),\n",
              " ('amp', 99),\n",
              " ('vie', 98),\n",
              " ('follow', 94),\n",
              " ('prendre', 91),\n",
              " ('venir', 88),\n",
              " ('grand', 88)]"
            ]
          },
          "metadata": {},
          "execution_count": 11
        }
      ]
    },
    {
      "cell_type": "markdown",
      "source": [
        "J'essaie ici de jouer avec min_df et max_df de countvectorizer , et ça n'a pas l'air de marcher , car les tweets ont bien été nettoyé, de plus cela témoingne d'une grande diversité des mots au sein de notre corpus"
      ],
      "metadata": {
        "id": "iCGLJtfUhdAf"
      }
    },
    {
      "cell_type": "code",
      "source": [
        "#Mots les plus courants et leur nombre respectif\n",
        "def get_most_freq_words(str, n=None):\n",
        "    vect = CountVectorizer(max_df=0.3, min_df=5).fit(cleaned_tweet)\n",
        "    bag_of_words = vect.transform(cleaned_tweet)\n",
        "    sum_words = bag_of_words.sum(axis=0) \n",
        "    freq = [(word, sum_words[0, idx]) for word, idx in vect.vocabulary_.items()]\n",
        "    freq =sorted(freq, key = lambda x: x[1], reverse=True)\n",
        "    return freq[:n]\n",
        "  \n",
        "get_most_freq_words([ word for tweet in cleaned_tweet for word in tweet],20)"
      ],
      "metadata": {
        "colab": {
          "base_uri": "https://localhost:8080/"
        },
        "id": "x8u0wCHzgdQ1",
        "outputId": "c39d66f3-e1e0-4dfd-8c81-f732ea5e6229"
      },
      "execution_count": 12,
      "outputs": [
        {
          "output_type": "execute_result",
          "data": {
            "text/plain": [
              "[('avoir', 1727),\n",
              " ('faire', 525),\n",
              " ('aller', 359),\n",
              " ('pouvoir', 239),\n",
              " ('voir', 205),\n",
              " ('bien', 196),\n",
              " ('savoir', 149),\n",
              " ('jour', 136),\n",
              " ('vouloir', 131),\n",
              " ('france', 118),\n",
              " ('falloir', 118),\n",
              " ('devoir', 117),\n",
              " ('gagner', 105),\n",
              " ('amp', 99),\n",
              " ('vie', 98),\n",
              " ('follow', 94),\n",
              " ('prendre', 91),\n",
              " ('venir', 88),\n",
              " ('grand', 88),\n",
              " ('semaine', 86)]"
            ]
          },
          "metadata": {},
          "execution_count": 12
        }
      ]
    },
    {
      "cell_type": "markdown",
      "source": [
        "On constate ici que les mots les plus courants avec BOW sont des verbes non conjugés tels que : être, faire, avoir, etc. "
      ],
      "metadata": {
        "id": "7DTqIxmd5Ig7"
      }
    },
    {
      "cell_type": "markdown",
      "source": [
        "B- **Méthode TFIDF**"
      ],
      "metadata": {
        "id": "hGqwHTyn58F0"
      }
    },
    {
      "cell_type": "code",
      "source": [
        "#from numpy.lib.function_base import vectorize\n",
        "#utiliser la méthode de Tfidfvectorizer avec:\n",
        "\"\"\" - les stopsword français importés depuis spacy\n",
        "    - le tokenizer définis plus haut\"\"\"\n",
        "vectorizer = TfidfVectorizer(lowercase=False)\n",
        "print('Tweet before vectorization: {}'.format(cleaned_tweet[83]))"
      ],
      "metadata": {
        "id": "smsdUUntlBiY",
        "colab": {
          "base_uri": "https://localhost:8080/"
        },
        "outputId": "6aaf48c4-ea86-43b0-f2e9-ca6f64dfd488"
      },
      "execution_count": 13,
      "outputs": [
        {
          "output_type": "stream",
          "name": "stdout",
          "text": [
            "Tweet before vectorization: monsieur député attention souffrance peuple iranien démocratie pouvoir apporter paix pays cnri soutenir œuvre obtenir\n"
          ]
        }
      ]
    },
    {
      "cell_type": "code",
      "source": [
        "# transformer les tweets en vecteurs\n",
        "# qui prend en argument les vecteurs de mots de l'ensemble des tweets nettoyés précédemment \n",
        "X = vectorizer.fit_transform(cleaned_tweet)\n",
        "print('Tweet after vectorization: \\n{}'.format(X[83]))\n",
        "\n",
        "#print ((X.todense()))"
      ],
      "metadata": {
        "id": "gidfHw67lY61",
        "colab": {
          "base_uri": "https://localhost:8080/"
        },
        "outputId": "a396ca7a-35f5-4f4f-8d7a-377e77e1b46d"
      },
      "execution_count": 14,
      "outputs": [
        {
          "output_type": "stream",
          "name": "stdout",
          "text": [
            "Tweet after vectorization: \n",
            "  (0, 7164)\t0.26651956770453816\n",
            "  (0, 11413)\t0.2622991202871934\n",
            "  (0, 9630)\t0.21262488304697705\n",
            "  (0, 1950)\t0.31619380494475446\n",
            "  (0, 7392)\t0.28336092004478347\n",
            "  (0, 503)\t0.28336092004478347\n",
            "  (0, 3224)\t0.27130431635697344\n",
            "  (0, 5268)\t0.31619380494475446\n",
            "  (0, 7662)\t0.2286786786768661\n",
            "  (0, 9602)\t0.28336092004478347\n",
            "  (0, 3269)\t0.2491226633388327\n",
            "  (0, 6674)\t0.2491226633388327\n",
            "  (0, 7556)\t0.19257251307930415\n",
            "  (0, 701)\t0.25510861009461533\n",
            "  (0, 7977)\t0.14809160802751328\n"
          ]
        }
      ]
    },
    {
      "cell_type": "code",
      "source": [
        "idf=vectorizer.idf_"
      ],
      "metadata": {
        "id": "sQhXl5-rqQcI"
      },
      "execution_count": 15,
      "outputs": []
    },
    {
      "cell_type": "markdown",
      "source": [
        "C- **Word embeding with Spacy**"
      ],
      "metadata": {
        "id": "Eg82e4Yyqj_G"
      }
    },
    {
      "cell_type": "code",
      "source": [
        "def my_word_embedding(sentence):\n",
        "    # Tokeniser la phrase\n",
        "    doc = nlp(sentence)\n",
        "    # Retourner le vecteur lié à chaque token\n",
        "    return [(X.vector) for X in doc]\n",
        "\n",
        "#for n, snt in enumerate(s):\n",
        "    #print(n , \":\", my_word_embedding(snt), \"\\n\")\n",
        "\n",
        "    print(X)"
      ],
      "metadata": {
        "id": "rYaA0E7aoRi9"
      },
      "execution_count": 16,
      "outputs": []
    },
    {
      "cell_type": "markdown",
      "source": [
        "D- **Méthode W2Vec**"
      ],
      "metadata": {
        "id": "AUvbGV6_NROn"
      }
    },
    {
      "cell_type": "code",
      "source": [
        "data=list(cleaned_tweet)\n",
        "cleaned_tweet_list= [line.split() for line in data]"
      ],
      "metadata": {
        "id": "4xZaDXMLE464"
      },
      "execution_count": 29,
      "outputs": []
    },
    {
      "cell_type": "code",
      "source": [
        "import gensim\n",
        "\n",
        "\n",
        "#tokenized_tweet = s.apply(lambda x: x.split()) # tokenizing \n",
        "\n",
        "model_w2v = gensim.models.Word2Vec(\n",
        "            cleaned_tweet_list,\n",
        "            size=200, # desired no. of features/independent variables\n",
        "            window=5, # context window size\n",
        "            min_count=2, # Ignores all words with total frequency lower than 2.                                  \n",
        "            sg = 1, # 1 for skip-gram model\n",
        "            hs = 0,\n",
        "            negative = 10, # for negative sampling\n",
        "            workers= 32, # no.of cores\n",
        "            seed = 34\n",
        ") \n"
      ],
      "metadata": {
        "id": "txJlUHR5NQma"
      },
      "execution_count": 30,
      "outputs": []
    },
    {
      "cell_type": "code",
      "source": [
        "print(model_w2v)"
      ],
      "metadata": {
        "id": "wXGVsdYPs_c5",
        "colab": {
          "base_uri": "https://localhost:8080/"
        },
        "outputId": "8f71b18b-650f-498f-c9c7-3e556fb65a41"
      },
      "execution_count": 31,
      "outputs": [
        {
          "output_type": "stream",
          "name": "stdout",
          "text": [
            "Word2Vec(vocab=4615, size=200, alpha=0.025)\n"
          ]
        }
      ]
    },
    {
      "cell_type": "code",
      "source": [
        "words = list(model_w2v.wv.vocab)\n",
        "print(words)"
      ],
      "metadata": {
        "id": "gF1ZmwWRtaor",
        "colab": {
          "base_uri": "https://localhost:8080/"
        },
        "outputId": "bc6c438e-ae40-42e5-cd67-b9ca4b2217ce"
      },
      "execution_count": 32,
      "outputs": [
        {
          "output_type": "stream",
          "name": "stdout",
          "text": [
            "['être', 'avoir', 'venir', 'jouer', 'victime', 'méchant', 'gros', 'compte', 'lance', 'vague', 'abonné', 'insupportable', 'voir', 'çer', 'faire', 'direct', 'veu', 'cest', 'mets', 'pa', 'pression', 'tablette', 'meme', 'fan', 'aller', 'vaincre', 'milan', 'ac', 'om', 'regarde', 'truc', 'audessus', 'savoir', 'file', 'minute', 'trottoir', 'quartier', 'alentours', 'bordeaux', 'chef', 'lieu', 'grand', 'région', 'administration', 'boîte', 'privé', 'no', 'es', 'devoir', 'mémoire', 'reprendre', 'vie', 'grâce', 'olivier', 'laurent', 'article', 'info', 'extrême', 'droite', 'rentrer', 'cas', 'exactemer', 'reproche', 'gauche', 'préférer', 'soigner', 'aide', 'soignant', 'perso', 'prendre', 'charge', 'manqu', 'personnel', 'nonvacciné', 'hôpital', 'irresponsable', 'tchau', 'département', 'policier', 'intensifier', 'contrôle', 'passsanitair', 'établissement', 'recevoir', 'public', 'midi', 'centre', 'ville', 'lutter', 'covid', 'vue', 'saisissant', 'fort', 'mont', 'couleur', 'ilovenice', 'nice', 'cotedazurfrance', 'avis', 'journaliste', 'miracle', 'médecine', 'vaccin', 'pilule', 'anticovid', 'hcq', 'revanche', 'diagnostic', 'sauver', 'patient', 'immense', 'majorité', 'arme', 'arsenal', 'existe', 'pose', 'souci', 'problème', 'rapport', 'penser', 'cul', 'hâte', 'brailler', 'mars', 'final', 'devenir', 'jurer', 'wsjhh', 'mauvais', 'qualité', 'croire', 'autruche', 'triste', 'as', 'bloquer', 'sens', 'perdre', 'regarder', 'photo', 'profil', 'journée', 'pleurer', 'aimerai', 'débloquer', 'plaire', 'bienvenue', 'matricea', 'occasion', 'sortie', 'matrix', 'resurrections', 'fai', 'gagner', 'intégral', 'matri', 'blu', 'ray', 'suffire', 'tirage', 'sort', 'décembre', 'presse', 'premiere', 'mondial', 'scientifique', 'quarantaine', 'corps', 'humain', 'essayer', 'ensemble', 'contribuer', 'for', 'rappeler', 'présidentielle', 'joue', 'mois', 'impacter', 'immigration', 'wokisme', 'islam', 'semaine', 'transport', 'énergie', 'gratuit', 'lutte', 'évasion', 'fiscal', 'réchauffement', 'climatique', 'france', 'point', 'content', 'rater', 'taper', 'dérive', 'ramener', 'pouvoir', 'achat', 'justifier', 'fonctionne', 'live', 'heure', 'français', 'mdrrrr', 'jsuis', 'pareil', 'date', 'mtn', 'avai', 'pp', 'visage', 'complet', 'diff', 'confinemer', 'vacciner', 'vaccinationobligatoire', 'graz', 'autriche', 'manifestation', 'vienne', 'hésiter', 'partager', 'corona', 'passesanitaire', 'bras', 'fils', 'compagne', 'soyons', 'attaque', 'eme', 'feat', 'zumba', 'tuer', 'pense', 'disent', 'injecter', 'dose', 'air', 'parler', 'puce', 'résultat', 'fum', 'peutêtre', 'vrai', 'ya', 'américain', 'plaindre', 'restaurant', 'paris', 'fermer', 'minuit', 'nuit', 'dimanche', 'lundi', 'commentaire', 'mode', 'code', 'travail', 'laissez', 'reposer', 'faite', 'voy', 'pâte', 'and', 'think', 'it', 'beautiful', 'espérer', 'va', 'aimer', 'meuf', 'rentre', 'chatte', 'chien', 'monde', 'btsdiscography', 'btsdiamond', 'btsdynamite', 'bg', 'geste', 'barrièr', 'masque', 'précaution', 'taux', 'tousser', 'argentine', 'qualifier', 'coupe', 'porter', 'amour', 'clé', 'paradis', 'attention', 'incendie', 'dispo', 'vidéo', 'dérang', 'gouvernant', 'raconter', 'carabistouille', 'regardez', 'rmrkmsmj', 'sérieusement', 'rendre', 'connerie', 'écrire', 'delfraissy', 'échec', 'utiliser', 'bref', 'rappel', 'avril', 'coronavirus', 'maladie', 'défi', 'idiot', 'juge', 'didier', 'raoult', 'moment', 'péter', 'kis', 'sérieux', 'sure', 'dis', 'enfant', 'preuve', 'marche', 'affirmer', 'traitement', 'falloir', 'cohorte', 'protocole', 'phase', 'respecter', 'envie', 'tt', 'casser', 'wesh', 'inhumain', 'pays', 'droit', 'homme', 'caca', 'mourir', 'manger', 'pêche', 'round', 'décider', 'contacter', 'attendre', 'élève', 'présenter', 'élection', 'délégué', 'voiture', 'électrique', 'ok', 'nan', 'exporter', 'métal', 'type', 'terre', 'étatsunis', 'batterie', 'automobile', 'bt', 'leyenda', 'ct', 'millimètre', 'drôle', 'communauté', 'asiatique', 'révolte', 'tour', 'vouloir', 'guerre', 'diplomatie', 'durer', 'us', 'intégration', 'maitrise', 'langue', 'respect', 'absolu', 'loi', 'républicain', 'absence', 'fait', 'délinquance', 'engagement', 'situation', 'mental', 'catastrophique', 'covidisme', 'ravage', 'alarmer', 'défenseur', 'gouvernement', 'coupable', 'maltraitance', 'lever', 'cesse', 'the', 'end', 'déteste', 'série', 'aime', 'termine', 'chose', 'fin', 'alger', 'pierre', 'mener', 'fifa', 'tweet', 'croi', 'fidélité', 'mddrrr', 'quelqu', 'décide', 'venger', 'banque', 'confiance', 'banqu', 'mariage', 'organiser', 'arrêter', 'cours', 'jour', 'monsieur', 'député', 'souffrance', 'peuple', 'démocratie', 'apporter', 'paix', 'soutenir', 'œuvre', 'obtenir', 'personn', 'mec', 'hasard', 'goulag', 'mdddr', 'femme', 'famille', 'culture', 'tribune', 'président', 'tg', 'second', 'arturo', 'vidal', 'exclure', 'soir', 'equateur', 'ptdrrr', 'chopper', 'train', 'écouter', 'or', 'noir', 'parle', 'jeu', 'négatif', 'take', 'forza', 'juger', 'face', 'lite', 'impossible', 'biais', 'sagacité', 'teamg', 'plateau', 'préférence', 'sony', 'xbox', 'porte', 'cœur', 'team', 'hit', 'session', 'bouyon', 'bruit', 'min', 'jubiler', 'fou', 'accusation', 'viol', 'avèr', 'faux', 'profitent', 'remettre', 'cause', 'témoignage', 'bizarre', 'union', 'climat', 'partenariat', 'll_amf', 'présence', 'accélérer', 'marne', 'talent', 'ouai', 'dépenser', 'argent', 'excellent', 'invite', 'promo', 'uber', 'eats', 'clairement', 'harcèlement', 'siest', 'smcl', 'conférence', 'territoire', 'réponse', 'général', 'arnaud', 'secrétaire', 'magasin', 'posséder', 'service', 'picouser', 'heu', 'vérité', 'tirer', 'participer', 'follow', 'novembre', 'odeur', 'essenceréaliser', 'david', 'tomaszewskiprod', 'skread', 'haha', 'meilleur', 'marcher', 'grosse', 'boule', 'bleu', 'bien', 'jme', 'souvenir', 'spectacle', 'frero', 'poster', 'part', 'instagram', 'fasciner', 'outil', 'permettre', 'retrouver', 'test', 'magazine', 'jv', 'tomber', 'qlq', 'perle', 'mélanger', 'différent', 'épisode', 'pique', 'ouer', 'douk', 'saga', 'entrée', 'objectif', 'tendance', 'petit', 'position', 'forcer', 'sp', 'résistance', 'décision', 'grenoble', 'prier', 'liberté', 'traditionnel', 'pass', 'valable', 'événement', 'resto', 'prouver', 'vacciné', 'contaminent', 'tester', 'mesure', 'appliquer', 'mineur', 'coucou', 'mickey', 'parade', 'disney', 'chial', 'combat', 'lycée', 'allemagne', 'blessé', 'grave', 'couteau', 'interpeller', 'arriver', 'màj', 'islamique', 'animal', 'élu', 'souhaite', 'assemblée', 'national', 'mise', 'partie', 'réserver', 'civil', 'protection', 'marqueur', 'humanité', 'plaisir', 'enfance', 'inexplicable', 'augmenter', 'salaire', 'entreprise', 'santé', 'attal', 'gosse', 'développe', 'théorie', 'pokemon', 'réelle', 'disponible', 'yn', 'oboy', 'booba', 'tiakola', 'zed', 'bc', 'donne', 'idée', 'génie', 'vendre', 'skin', 'pro', 'saison', 'dm', 'intéresser', 'post', 'recherche', 'structure', 'représenter', 'streamer', 'réseau', 'twitch', 'partenaire', 'tiktok', 'twitter', 'amp', 'ouvrir', 'apprécier', 'débarquer', 'chinois', 'simple', 'ider', 'eter', 'besoin', 'connaître', 'combattre', 'famine', 'orelsan', 'suicide', 'social', 'hyp', 'album', 'comprendre', 'mal', 'froid', 'nuire', 'mère', 'niveau', 'change', 'lâcher', 'ador', 'parent', 'couple', 'mixte', 'jours', 'important', 'accès', 'question', 'posent', 'arrivée', 'urger', 'sentir', 'sapin', 'système', 'doigt', 'menace', 'priver', 'trouv', 'matin', 'tribunal', 'éric', 'zemmour', 'jesoutienszemmour', 'mdrrr', 'gérer', 'riche', 'fashion', 'icon', 'kimtaehyung', 'payer', 'bouteille', 'faut', 'donner', 'film', 'temps', 'château', 'ciel', 'empire', 'perdu', 'préparer', 'scénario', 'bête', 'organisation', 'politique', 'local', 'mieux', 'valoir', 'dieu', 'cérémonie', 'bordel', 'merde', 'clip', 'vivement', 'conseil', 'acheter', 'oublier', 'vérifier', 'prix', 'benef', 'changer', 'séance', 'échange', 'partage', 'expérience', 'membre', 'commission', 'privilégier', 'échanger', 'agir', 'mandat', 'let', 'be', 'friend', 'in', 'pokémon', 'go', 'my', 'trainer', 'is', 'retweeter', 'svp', '𝙏𝙤𝙪𝙨', '𝙡𝙚𝙨', '𝙥𝙖𝙮𝙨', '𝙣𝙤𝙪𝙨', '𝙚𝙣𝙫𝙞𝙚𝙣𝙩les', 'statistique', 'trident', 'offensif', 'ressusciter', 'pharaon', 'hâmân', 'qârûn', 'ubay', 'ibn', 'khalaf', 'mécréance', 'allah', 'ster', 'gravité', 'nom', 'prie', 'mort', 'rapproche', 'vai', 'ref', 'yaz', 'officiel', 'rappeur', 'niçois', 'kiffer', 'parfait', 'illustration', 'foutre', 'facho', 'terme', 'sandrine', 'rousseau', 'vien', 'rebeudeter', 'donut', 'épicer', 'épice', 'courant', 'ouverture', 'mk', 'quai', 'seine', 'inauguration', 'rénovation', 'aujourdhui', 'sale', 'époque', 'raison', 'honte', 'appeler', 'quotidien', 'nuance', 'vocabulaire', 'robert', 'woke', 'kylian', 'mbappé', 'visite', 'surprise', 'europe', 'ouest', 'sortir', 'rapidement', 'ue', 'survie', 'frexit', 'attendez', 'renforcer', 'écouler', 'simplement', 'business', 'chantage', 'autorité', 'bande', 'chemin', 'supprime', 'vite', 'iade', 'continuer', 'reconnaissance', 'gravement', 'malade', 'ami', 'passion', 'sert', 'vide', 'livre', 'déranger', 'macron', 'avoue', 'concours', 'skins', 'naruto', 'retweet', 'soirée', 'chance', 'travailler', 'hdpros', 'émission', 'invité', 'professeur', 'tenter', 'rétablir', 'année', 'reprise', 'réagir', 'promesse', 'espoir', 'millier', 'attente', 'honteux', 'mds', 'day', 'effacer', 'recommencer', 'remercier', 'chaleureusement', 'contribution', 'décisif', 'soutien', 'candidat', 'macronist', 'offrir', 'emmanuel', 'défaite', 'historique', 'snap', 'ajouter', 'réduction', 'impôt', 'profiter', 'sûr', 'crier', 'esprit', 'frère', 'samedi', 'empreinte', 'digital', 'identité', 'salah', 'découvrir', 'arrêt', 'délivrer', 'parquet', 'belge', 'sensation', 'incroyable', 'balancer', 'vise', 'principalement', 'injuste', 'procès', 'illégitime', 'bosse', 'stp', 'guy', 'bezbar', 'perspective', 'intéressant', 'vivr', 'collectif', 'humiliation', 'jeune', 'fille', 'dramatique', 'ordre', 'imbécile', 'dénonce', 'karim', 'zeribi', 'punchline', 'propos', 'mentir', 'battlefieldxmicromania', 'colors', 'naturephotography', 'pov', 'price', 'empêcher', 'reconstruction', 'prochain', 'essence', 'cieux', 'aprèsmidi', 'milieu', 'tombe', 'bébé', 'dragon', 'amateur', 'trouver', 'œuf', 'dessin', 'main', 'diamant', 'dollar', 'allocation', 'baser', 'lz', 'utc', 'token', 'participant', 'information', 'jt', 'rdv', 'partir', 'hashtag', 'melenchontf', 'agent', 'ratp', 'retraite', 'voter', 'quell', 'demander', 'propagande', 'répression', 'grève', 'ba', 'tete', 'african', 'peur', 'propre', 'prêt', 'individu', 'refuse', 'produit', 'expérimental', 'réalité', 'félicitation', 'mettre', 'lumière', 'victoire', 'indépendant', 'désaveu', 'liste', 'compatible', 'amf', 'école', 'demande', 'frérot', 'éduquer', 'connard', 'loyauté', 'cm', 'cv', 'circuit', 'we', 'dangereux', 'autoroute', 'week', 'all', 'maillot', 'choix', 'commente', 'choisir', 'bonne', 'barrage', 'eau', 'pluie', 'observer', 'secours', 'médecin', 'bord', 'répondre', 'arrive', 'gorge', 'lettre', 'population', 'pourtant', 'épidémie', 'repart', 'brutalement', 'faute', 'million', 'définition', 'fréquentent', 'haute', 'contamination', 'bar', 'boitesmai', 'taire', 'rue', 'débarrasser', 'tag', 'espéron', 'réparer', 'écoutez', 'more', 'show', 'concert', 'avance', 'patience', 'adore', 'chanson', 'ca', 'muselier', 'disparaître', 'feu', 'ptdrrrr', 'lacoste', 'obliger', 'tennis', 'puriste', 'bonheur', 'ivoirien', 'bâtiment', 'couché', 'soleil', 'mer', 'nuage', 'dinguerie', 'filmer', 'tristan', 'heth', 'mexique', 'automne', 'bretagne', 'hiérarchie', 'concerner', 'scandale', 'askip', 'vouch', 'route', 'refuge', 'rapide', 'travers', 'côté', 'confinement', 'provoquer', 'chancelier', 'confiner', 'provoque', 'onde', 'choc', 'virer', 'chaotique', 'prof', 'classe', 'charb', 'dessinateur', 'lisnard', 'tête', 'association', 'maire', 'pain', 'court', 'employé', 'municipal', 'dégradation', 'ennemi', 'etat', 'laisse', 'impunité', 'euro', 'tourisme', 'masse', 'exister', 'directeur', 'alpesmaritime', 'hypocrite', 'oeil', 'replongez', 'matrice', 'affiche', 'exclusivement', 'cinéma', 'isère', 'grenobl', 'agresser', 'armer', 'arrête', 'passage', 'piéton', 'dépêcher', 'traverser', 'gagne', 'manche', 'préserver', 'auteur', 'relation', 'veux', 'révéler', 'fonction', 'lampe', 'étoile', 'protéger', 'puissant', 'storie', 'inster', 'réviser', 'chèque', 'taff', 'mercredi', 'boire', 'dsl', 'pizza', 'crise', 'existentiel', 'constant', 'abandonner', 'étude', 'liker', 'malheur', 'tromperie', 'criminel', 'nuremberg', 'reconnaître', 'artiste', 'fierté', 'projet', 'cadeau', 'top', 'équipe', 'épouse', 'cartel', 'marvel', 'écriture', 'personnage', 'commencer', 'retard', 'pondre', 'chapitre', 'lisez', 'suppression', 'recette', 'créer', 'emploi', 'somme', 'ménage', 'largement', 'conclusion', 'net', 'claire', 'précis', 'chercheur', 'club', 'ℹ', 'ski', 'montagne', 'mdrr', 'honnêtement', 'taré', 'gt', 'gueule', 'approche', 'envier', 'hommage', 'bout', 'eren', 'update', 'site', 'jap', 'refonte', 'mission', 'goku', 'lr', 'priori', 'récupérer', 'news', 'data', 'dl', 'dcp', 'vas', 'vêtement', 'appel', 'lucmontagnier', 'vaccination', 'urgence', 'faîtes', 'message', 'survivre', 'genre', 'poursuivre', 'cousin', 'lâche', 'photoshop', 'cristiano', 'âgé', 'interview', 'phrase', 'coeur', 'transmettre', 'isolé', 'pognon', 'dingue', 'estime', 'milliard', 'coût', 'revenir', 'congolais', 'présomption', 'conflit', 'intérêt', 'vanne', 'siècle', 'millénaire', 'réussir', 'musique', 'bad', 'féministe', 'musical', 'imagine', 'sec', 'revue', 'régulation', 'intelligence', 'artificiel', 'domaine', 'éducatif', 'discours', 'dispositif', 'soumission', 'restriction', 'suède', 'contraindre', 'faible', 'nb', 'habitant', 'rôle', 'immunité', 'acquérir', 'infection', 'libre', 'circulation', 'virus', 'ouais', 'lire', 'instant', 'football', 'universitaire', 'coup', 'envoi', 'opération', 'ciné', 'solidarité', 'profit', 'groupe', 'place', 'accueillir', 'finale', 'tournoi', 'vs', 'generation', 'catherine', 'vivant', 'appartenir', 'locataire', 'responsable', 'commettre', 'louer', 'propriétaire', 'octobre', 'numéro', 'édition', 'polémique', 'introduction', 'iel', 'dictionnaire', 'ligne', 'éclairage', 'critère', 'présider', 'petitrobert', 'hont', 'apprendre', 'consentement', 'jupe', 'garçon', 'tom', 'holland', 'zendaya', 'modèle', 'consommateur', 'suite', 'spiderman', 'réellement', 'araignée', 'toile', 'messager', 'treidegeteeurovision', 'super', 'entendre', 'courbis', 'gilles', 'teamom', 'chéri', 'bêtise', 'character', 'psg', 'manchester', 'city', 'entraînement', 'jalousie', 'civilisation', 'tourner', 'oreille', 'savage', 'ème', 'exceptionnel', 'possibilité', 'remporter', 'exemplaire', 'sim', 'campagne', 'sims', 'annonce', 'anniversaire', 'louper', 'kcorp', 'lrem', 'embêter', 'expliquer', 'ministre', 'respecte', 'barrière', 'impose', 'enfants', 'poto', 'sha', 'bheemlanayak', 'baiser', 'couille', 'ilysm', 'der', 'dh', 'babie', 'rencontrer', 'zevent', 'envoie', 'audio', 'paniquer', 'quantité', 'moitié', 'trade', 'monter', 'kilimandjaro', 'descendre', 'bail', 'génération', 'effondrement', 'espérance', 'bel', 'cool', 'continue', 'explorer', 'jungle', 'pantalon', 'cargo', 'suggérer', 'philippot', 'vacance', 'tendre', 'heureux', 'set', 'montr', 'djo', 'attentionné', 'dead', 'ptdrr', 'entent', 'benzema', 'mbappe', 'inchallah', 'entente', 'coépouse', 'fête', 'black', 'cdiscount', 'trottinette', 'surpas', 'tas', 'central', 'capter', 'chris', 'eric', 'tromper', 'déclarer', 'histoire', 'totalitarisme', 'conscience', 'mcu', 'belle', 'envoyer', 'davido', 'clique', 'centriste', 'subir', 'cuisant', 'rever', 'plébiscité', 'signe', 'presidentielle', 'peser', 'opinion', 'sondage', 'battre', 'populaire', 'banlieue', 'lesgiletsjaunesaveczemmour', 'atterrissage', 'roissy', 'violer', 'cité', 'dénué', 'vivre', 'saleter', 'sdf', 'taxis', 'communautariser', 'gare', 'nord', 'trace', 'inquiet', 'entier', 'ère', 'gg', 'impressionner', 'décès', 'sportif', 'ds', 'signer', 'certificat', 'gentil', 'mi', 'enchaîner', 'polska', 'ferme', 'bouche', 'maman', 'papa', 'myocardite', 'péricardite', 'signaler', 'australie', 'mai', 'stv', 'inh', 'réfléchir', 'professionnel', 'retraiter', 'èm', 'commerçant', 'exiger', 'moyen', 'harceler', 'emmerder', 'tweeter', 'intelligent', 'doute', 'fréquente', 'panne', 'comprend', 'est', 'visuellement', 'jpp', 'edouard', 'mendy', 'prendra', 'finir', 'vouliez', 'écoute', 'temer', 'aurai', 'lent', 'résister', 'totalitaire', 'réel', 'décrire', 'entrer', 'promettre', 'blagu', 'police', 'consulter', 'freert', 'supplier', 'okay', 'muscler', 'média', 'saute', 'fond', 'pr', 'pialoux', 'enlever', 'suédois', 'apprentissage', 'lier', 'fiche', 'revitaliser', 'ruralité', 'maintenir', 'commune', 'magnifique', 'gars', 'emoji', 'vote', 'vrmt', 'utilise', 'vrm', 'pronom', 'uniquement', 'manière', 'ty', 'dolla', 'sign', 'cogn', 'noel', 'coffret', 'qqun', 'jm', 'blanquer', 'ptn', 'rire', 'discontinuer', 'fake', 'accumuler', 'toxicité', 'hydroxychloroquine', 'rester', 'science', 'médical', 'énorme', 'tache', 'corruption', 'infamie', 'condoléances', 'sécher', 'larme', 'nn', 'pousser', 'jsp', 'flm', 'chiffre', 'hausse', 'résumé', 'ruedetrévis', 'annoncer', 'indemniser', 'épuiser', 'lesoubliesdetrevise', 'art', 'moderne', 'lancer', 'fonds', 'inédit', 'croissance', 'industriel', 'atteindre', 'diriger', 'ps', 'mérite', 'vomir', 'moquer', 'augmentation', 'inquiétude', 'gâcher', 'laylow', 'ben', 'voyon', 'barrette', 'informe', 'servir', 'percer', 'collaboration', 'styliste', 'agacer', 'salut', 'marrer', 'omg', 'page', 'insta', 'hes', 'annuler', 'candidature', 'brunch', 'mail', 'mm', 'pq', 'concour', 'nintendo', 'switch', 'dialga', 'palkia', 'gagnez', 'pokémondiamantetinceler', 'pokémonperlescintiller', 'rtfollow', 'gagnant', 'ter', 'bts', 'dominer', 'scène', 'amas', 'soirer', 'artist', 'of', 'débat', 'sénateur', 'risque', 'répond', 'forme', 'grain', 'conversation', 'visiblement', 'syndicat', 'expression', 'prophète', 'ﷺ', 'accorder', 'serviteur', 'large', 'rapporter', 'authentifier', 'cheikh', 'albani', 'sahih', 'promotion', 'orientation', 'scolaire', 'afrique', 'débattre', 'naître', 'réalisation', 'finaliste', 'blanche', 'proposer', 'élite', 'réveiller', 'terroriste', 'oser', 'humour', 'pasteur', 'bus', 'abonnement', 'logique', 'lit', 'pseudo', 'expert', 'cannes', 'joyeux', 'nouvelle', 'lang', 'our', 'choice', 'rosémamavote', 'roser', 'nov', 'dec', 'départ', 'perf', 'late', 'kpop', 'award', 'ball', 'mma', 'chienne', 'chat', 'évaluation', 'laviequilsméritent', 'boucle', 'bcp', 'réside', 'institution', 'communal', 'primaire', 'portée', 'tocqueville', 'blocage', 'zone', 'activité', 'toulon', 'sanitaire', 'mouvement', 'giletsjaune', 'rsi', 'marathonien', 'rock', 'election', 'davidlisnard', 'jolie', 'bois', 'ériger', 'interdire', 'père', 'noël', 'obéissant', 'crypto', 'bernard', 'nombre', 'baisser', 'légitimité', 'ancien', 'légende', 'verra', 'arnaqu', 'coach', 'foot', 'like', 'voyant', 'choque', 'santorini', 'défilé', 'surprendre', 'téler', 'faveur', 'envisager', 'soeur', 'pote', 'ferai', 'densité', 'exprès', 'max', 'canal', 'néonazi', 'salle', 'république', 'tolérance', 'violence', 'récit', 'usage', 'croître', 'étudier', 'analyse', 'texte', 'issu', 'source', 'exposition', 'passer', 'cov', 'immunitaire', 'viral', 'conserver', 'nature', 'purer', 'noustouter', 'tdor', 'hôtel', 'génial', 'copine', 'alerte', 'one', 'reprocher', 'gestion', 'classifier', 'secret', 'défense', 'pandémie', 'planquer', 'dossier', 'décennie', 'magouille', 'noter', 'gueul', 'sembler', 'travaille', 'effectuer', 'sport', 'gigaoctet', 'saoule', 'roue', 'atiny', 'tl', 'pue', 'frustration', 'putain', 'square', 'garden', 'cherche', 'hey', 'racont', 'légume', 'allez', 'rencontre', 'signature', 'discussion', 'love', 'accord', 'action', 'doux', 'job', 'web', 'autour', 'détail', 'empêche', 'florian', 'lci', 'prénom', 'irai', 'instinct', 'intégralité', 'vol', 'pauvre', 'tjr', 'alcool', 'ans', 'vincent', 'profondément', 'orange', 'vélodrome', 'minable', 'sacrer', 'stade', 'rmcliv', 'combler', 'rp', 'refair', 'actif', 'lien', 'visibilité', 'algérien', 'patrimoine', 'cdm', 'sudam', 'facilité', 'qualification', 'limite', 'michael', 'mini', 'entreprendre', 'canne', 'fr', 'citoyen', 'quitter', 'sudradio', 'luc', 'montagnier', 'secondaire', 'abstient', 'pécresse', 'superbe', 'cacher', 'dépasser', 'partiel', 'pcq', 'présent', 'grécoromain', 'osez', 'vin', 'rouge', 'accompagner', 'plat', 'viande', 'sauce', 'repas', 'omar', 'demi', 'sœur', 'frr', 'marier', 'maroc', 'clair', 'heures', 'journal', 'tv', 'lyon', 'françois', 'dénoncer', 'mensonge', 'médiatique', 'complicité', 'foutu', 'décret', 'youtube', 'abuser', 'éclater', 'danger', 'wsh', 'degrer', 'wtf', 'steph', 'kd', 'repartir', 'suisse', 'financer', 'parti', 'massivemer', 'norme', 'venue', 'diffusion', 'technique', 'vocau', 'convoquer', 'facile', 'assure', 'avancer', 'veut', 'chrétien', 'coûte', 'story', 'menard', 'fustiger', 'distance', 'télé', 'admettre', 'ligue', 'match', 'record', 'rennes', 'total', 'askoptajean', 'vœu', 'succès', 'volonté', 'vraie', 'paysage', 'françaisamf', 'restaurer', 'veto', 'opérer', 'dzemmoureric', 'rassembler', 'correctionnel', 'polémiste', 'comparaître', 'provocation', 'haine', 'issue', 'judiciaire', 'entrain', 'copier', 'grèce', 'musée', 'maes', 'amy', 'ndeye', 'marie', 'cache', 'assume', 'dessiner', 'ateez', 'mardi', 'émouvoir', 'engager', 'congrèsdesmaire', 'confier', 'jaloux', 'détermination', 'publicité', 'mouton', 'kilogramme', 'vou', 'combos', 'br', 'dvd', 'bazaar', 'epouvante', 'oeuvre', 'stephen', 'king', 'battlefield', 'mégaoctet', 'lot', 'gagnants', 'manette', 'consolepour', 'usa', 'prison', 'cocorico', 'habille', 'pied', 'hiver', 'gl', 'faceeverything', 'lcsxgameward', 'lcsfamily', 'fav', 'laporta', 'messi', 'iniesta', 'dani', 'âge', 'dormir', 'chanteur', 'scandaleux', 'détruire', 'société', 'idéologie', 'jul', 'adresse', 'semestre', 'encourager', 'basique', 'maison', 'flashback', 'mystérieuse', 'apparaître', 'wuhan', 'chine', 'coronaviruscf', 'fêter', 'retrait', 'casino', 'visiter', 'collection', 'prise', 'fréquentation', 'chuter', 'secteur', 'pute', 'exprimer', 'apprend', 'emote', 'animer', 'annehidalgo', 'jupiter', 'escroc', 'principe', 'représentation', 'propose', 'fout', 'cou', 'reuf', 'intervenir', 'suceur', 'single', 'voix', 'anti', 'capable', 'baffe', 'bonjour', 'trio', 'rêver', 'antoine', 'griezmann', 'bootcamp', 'organise', 'paire', 'jordan', 'retro', 'lightning', 'ohh', 'alves', 'lamentable', 'condamner', 'raciste', 'traiter', 'arabe', 'flash', 'idéal', 'limiter', 'doucher', 'minutes', 'machine', 'laver', 'linge', 'poulet', 'portionles', 'échos', 'cesser', 'afficher', 'réussite', 'œil', 'déçu', 'design', 'intérieur', 'marché', 'contact', 'prend', 'intervention', 'salon', 'réunion', 'transports', 'pause', 'guetter', 'tayc', 'marseille', 'justice', 'squatte', 'attacher', 'radiateur', 'squatteur', 'témoigne', 'sauter', 'aéroport', 'auj', 'vax', 'puer', 'nik', 'patta', 'condition', 'twet', 'boutique', 'melanchon', 'giveaway', 'spécial', 'fil', 'goodie', 'at', 'to', 'get', 'too', 'much', 'space', 'your', 'tentative', 'échouer', 'victoir', 'bureau', 'comité', 'lamf', 'exclusif', 'mathieu', 'réveille', 'française', 'gastronomie', 'cadre', 'charlotte', 'ornellas', 'relever', 'handicap', 'météo', 'handicapé', 'démarche', 'jungkook', 'financier', 'salam', 'image', 'voiler', 'master', 'ressembl', 'video', 'mohamed', 'intellectuel', 'laïcité', 'tactique', 'liverpool', 'fixateur', 'horizontal', 'vertical', 'libérer', 'taa', 'indéfendable', 'new', 'maco', 'appli', 'nsm', 'iphone', 'gode', 'french', 'lego', 'starwar', 'découvrez', 'boite', 'métropolitain', 'hidalgo', 'saccageparis', 'pack', 'dark', 'base', 'loop', 'alimentation', 'power', 'lt', 'mamavote', 'lisa', 'interdir', 'crédit', 'long', 'potentiel', 'discriminatoire', 'score', 'attribuer', 'flemme', 'sch', 'fusil', 'épaul', 'chaud', 'hh', 'trashtalk', 'donnez', 'pensez', 'amplement', 'mériter', 'affirmation', 'léger', 'nft', 'ethereum', 'négotraining', 'négocier', 'prime', 'avantage', 'légitime', 'chevet', 'chantier', 'urgent', 'souris', 'opposant', 'sentiment', 'insécurité', 'grandir', 'braquage', 'agression', 'désacraliser', 'vient', 'approuver', 'mexicain', 'unanimité', 'titre', 'juin', 'beauty', 'caisse', 'exception', 'chercher', 'jérémie', 'imaginez', 'masterclas', 'squatter', 'rythme', 'voitur', 'accident', 'conséquence', 'applaudir', 'jeter', 'changement', 'sexe', 'craignez', 'bz', 'collabo', 'aider', 'timing', 'construire', 'sensibilité', 'peux', 'ep', 'recoupe', 'cheveu', 'réjouir', 'réconciliation', 'jumeau', 'potter', 'tourne', 'tenue', 'biathlon', 'fedfranceski', 'adorer', 'delphine', 'désorganiser', 'loin', 'empathie', 'leader', 'sympathisant', 'barnier', 'bertrand', 'ciotti', 'bancaire', 'troller', 'loool', 'inde', 'ldc', 'supporter', 'raja', 'dur', 'défendre', 'joueur', 'fun', 'viser', 'programme', 'reims', 'neige', 'charlie', 'cible', 'mimi', 'tre', 'lourd', 'fauteuil', 'hyper', 'turc', 'stupide', 'fonctionner', 'janvier', 'accor', 'arena', 'availabl', 'cleannft', 'hen', 'nfts', 'dribbl', 'insulte', 'nonce', 'franchement', 'vision', 'plumage', 'concept', 'masculin', 'indique', 'singulier', 'censé', 'évidemment', 'rdc', 'personnalité', 'acteur', 'diaspora', 'recommandation', 'pratique', 'intégrer', 'kingdom', 'remerci', 'thibault', 'montbrial', 'représente', 'vendredi', 'frankistanai', 'encontre', 'connotation', 'islamo', 'terro', 'fraudes', 'montre', 'endroit', 'futur', 'ambiance', 'occuper', 'trouve', 'consécutif', 'parlement', 'melbourne', 'manifestant', 'camper', 'chapeau', 'martin', 'couche', 'affirme', 'considérer', 'gueux', 'gamos', 'mérité', 'spider', 'verse', 'bâton', 'difficile', 'attend', 'poing', 'rate', 'cibl', 'efficacité', 'ko', 'dent', 'tfacon', 'bruno', 'courage', 'ultra', 'transformation', 'concurrencer', 'beerus', 'jure', 'mur', 'pcer', 'jean', 'marque', 'jeanfrançois', 'recrutement', 'google', 'collecte', 'palier', 'lbcjrbgw', 'drone', 'boy', 'magie', 'scott', 'pt', 'camerounais', 'congrès', 'élire', 'appui', 'fous', 'mobilisation', 'préfecture', 'horrible', 'imprimerie', 'antisémitisme', 'moralement', 'compliquer', 'détourner', 'regard', 'réussi', 'racaille', 'écope', 'suspension', 'ucl', 'carton', 'purger', 'manquer', 'défaire', 'nazi', 'échelle', 'continent', 'prouve', 'racine', 'connai', 'libération', 'dommage', 'souhaiter', 'expérimentation', 'cnews', 'ggrmc', 'beyoncé', 'akhy', 'louis', 'arthur', 'impression', 'maximum', 'rer', 'réaliser', 'régime', 'rendezvous', 'madame', 'compétition', 'clash', 'stars', 'colis', 'royalepour', 'ashtax', 'horaire', 'simson', 'continuez', 'tranquillement', 'con', 'gourou', 'chicken', 'spot', 'menu', 'conservateur', 'royal', 'inscrire', 'toucher', 'wow', 'miss', 'wade', 'ohhh', 'assembl', 'comportement', 'fais', 'sexiste', 'sexuel', 'plomb', 'etre', 'mhd', 'racaill', 'définitivement', 'escroquerie', 'détournement', 'cnew', 'morale', 'windjammer', 'rejoindre', 'xbo', 'game', 'lancement', 'caler', 'raslebol', 'racket', 'mépris', 'elue', 'présidente', 'améliorer', 'référendum', 'tranquille', 'snk', 'ressemble', 'élément', 'bracelet', 'yeezy', 'boost', 'zyon', 'retrouvez', 'qatar', 'choquer', 'revoir', 'hetero', 'misogyne', 'rancune', 'gtgtgtgt', 'fascisme', 'nazisme', 'stresser', 'entourage', 'énerver', 'noah', 'gratuite', 'sophie', 'jeunesse', 'librairie', 'internet', 'constituer', 'positif', 'dé', 'li', 'dou', 'ségrégation', 'tobey', 'andrew', 'serrer', 'milliardaire', 'spidermannowayhome', 'bissau', 'affaire', 'benjamin', 'mcdo', 'explosif', 'retourner', 'steak', 'balle', 'curry', 'james', 'trêve', 'international', 'terminer', 'pochettino', 'vuitton', 'ss', 'canard', 'reportage', 'dame', 'habiller', 'amie', 'préciser', 'xavier', 'niel', 'oubli', 'solution', 'humanitaire', 'org', 'migrant', 'origine', 'sai', 'flic', 'colombien', 'trafiquant', 'drogue', 'sousmarin', 'transporter', 'détecter', 'existence', 'urbaine', 'corriger', 'retrouve', 'calme', 'castex', 'combinaison', 'japon', 'frais', 'pétition', 'rachel', 'khan', 'fondre', 'essentiel', 'seigneur', 'contenir', 'bf', 'shock', 'blue', 'xboxseries', 'battlefieldxmicromaniater', 'côte', 'ivoire', 'congo', 'embaucher', 'chaîne', 'digne', 'buzz', 'borjan', 'rigole', 'ensembl', 'lis', 'tartine', 'avocat', 'cer', 'prenez', 'souligner', 'immigré', 'opera', 'garnier', 'frança', 'foto', 'jb', 'perraudin', 'fraud', 'blancs', 'rabi', 'thaniler', 'blanc', 'thani', 'jeûne', 'nasai', 'damn', 'marketing', 'prétendre', 'vire', 'dômien', 'up', 'fragile', 'fidèle', 'téléphone', 'facilite', 'racisme', 'effectivement', 'sommeil', 'radio', 'replay', 'hongrois', 'garde', 'hospitalisation', 'andré', 'gêner', 'fameu', 'lgbt', 'démarre', 'gramme', 'version', 'sang', 'hawkeye', 'streaming', 'collectivité', 'vache', 'ajout', 'académie', 'solitude', 'angle', 'rivoli', 'relais', 'contrôler', 'cycliste', 'inquiéter', 'poids', 'gaara', 'balader', 'tonneau', 'sable', 'sunna', 'imposer', 'valider', 'ticket', 'not', 'hard', 'usb', 'julian', 'assange', 'lentement', 'stella', 'parer', 'poignarder', 'récitation', 'dégage', 'jai', 'lenteur', 'stabilité', 'bce', 'christine', 'planche', 'billet', 'délirant', 'menacer', 'kgttlipu', 'utile', 'écrir', 'original', 'sncf', 'avenir', 'commun', 'prévoir', 'russie', 'espace', 'cfmtl', 'congresdesmaire', 'suspendre', 'covid_', 'donnée', 'castexgate', 'faisensemblepourlesliberter', 'monopoly', 'crossing', 'grimper', 'physique', 'meurt', 'ravir', 'peter', 'bouffon', 'vert', 'peine', 'archi', 'location', 'été', 'village', 'vis', 'nulle', 'moche', 'rêve', 'ultime', 'température', 'degré', 'marc', 'polaire', 'suicider', 'cut', 'étonner', 'bd', 'iré', 'justin', 'bieber', 'montpellier', 'douche', 'religieux', 'musulman', 'production', 'crâne', 'politicien', 'étrange', 'masquer', 'dois', 'maquillage', 'forcémer', 'enquête', 'habitude', 'décéder', 'période', 'fatigue', 'recueill', 'gifle', 'magistral', 'acolyte', 'macroniste', 'opa', 'triche', 'antibiotique', 'm²', 'terrain', 'are', 'lorient', 'transaction', 'traître', 'différence', 'vac', 'mondeensemblepourlesliberté', 'mv', 'marine', 'ptdrrrrr', 'col', 'mp', 'agence', 'latin', 'grec', 'gré', 'compare', 'londres', 'transporte', 'normandie', 'niemen', 're', 'avion', 'abattre', 'rey', 'kohlanta', 'déposer', 'plainte', 'témoigner', 'tpmp', 'congreslr', 'win', 'gold', 'kekwshutdown', 'meta', 'frustrationfi', 'piquer', 'claude', 'bourret', 'rosé', 'pfizer', 'technologie', 'vaccinal', 'normal', 'géant', 'problématique', 'polqc', 'septembre', 'camp', 'désastreux', 'respirer', 'tue', 'continuation', 'citer', 'création', 'sécurité', 'contenu', 'interroger', 'tlsi', 'récemment', 'cambrioler', 'sindia', 'majeur', 'khonkoma', 'disant', 'metaverse', 'virtuel', 'casque', 'enlève', 'revien', 'constamment', 'revenu', 'moyenne', 'précaire', 'communautariste', 'communautaire', 'étranger', 'triple', 'réaction', 'manque', 'pénal', 'café', 'prends', 'soin', 'coffrer', 'kilomètre', 'attends', 'tjrs', 'com', 'application', 'espère', 'cyclone', 'dégât', 'suffrage', 'indépendance', 'pensée', 'inspirer', 'sébastien', 'lecornu', 'apéro', 'réunir', 'strict', 'déplacement', 'rassemblement', 'enceinte', 'gloire', 'exploser', 'écran', 'coque', 'lacron', 'ladron', 'tiiiiiiime', 'honneur', 'knife', 'croquer', 'plan', 'real', 'madrid', 'vinicius', 'accomplir', 'catholique', 'franc', 'ronaldo', 'trophée', 'ballon', 'renoncer', 'diversité', 'cameroun', 'éliminer', 'cote', 'utilité', 'cauchemar', 'homophobie', 'enseignant', 'qag', 'loialerte', 'présente', 'ptdrrrrrrrrrr', 'buteur', 'supporte', 'réveil', 'pleure', 'pleurent', 'électronique', 'enjeu', 'maguir', 'battr', 'goût', 'course', 'shiny', 'sélection', 'certification', 'riaa', 'platinum', 'burkina', 'trailer', 'los', 'usine', 'fameux', 'église', 'voler', 'fle', 'pharma', 'italien', 'el', 'coin', 'gq', 'zéro', 'compassion', 'peinture', 'trooop', 've', 'frappe', 'rio', 'transfert', 'congénère', 'oral', 'angoisse', 'by', 'charles', 'haineux', 'soumettre', 'inefficacité', 'immuniser', 'contraire', 'décalage', 'bitcoin', 'acte', 'gilet', 'jaunes', 'maître', 'misère', 'empoisonner', 'psy', 'tristesse', 'aurais', 'européen', 'fp', 'oe', 'goat', 'journalist', 'you', 'palestinien', 'armée', 'star', 'ziak', 'copain', 'finance', 'utilisateur', 'pitié', 'profond', 'destiner', 'malheureux', 'probowlvote', 'donte', 'jackson', 'discuter', 'effort', 'japonais', 'special', 'initiative', 'territorial', 'mobile', 'jimin', 'bonsoir', 'ace', 'yes', 'minecraft', 'juif', 'rap', 'marocain', 'écarter', 'lendemain', 'informatique', 'renaud', 'tatouer', 'doucement', 'rachida', 'dati', 'placer', 'budgétaire', 'capitale', 'fruit', 'résidence', 'espagne', 'tkt', 'graphisme', 'communication', 'apprenti', 'departure', 'kmedia', 'shonen', 'frisson', 'baisé', 'coco', 'joli', 'étonne', 'estrosi', 'nourrir', 'silence', 'éveil', 'trou', 'partagez', 'déclassement', 'détresse', 'françaiszemmoureric', 'rir', 'thread', 'détester', 'lewan', 'malheureusement', 'but', 'muller', 'éliminatoire', 'africain', 'fier', 'hamdoulilah', 'automobiliste', 'unevoiture', 'excès', 'vitesse', 'graver', 'torse', 'fac', 'caen', 'passionner', 'naissance', 'réflexion', 'avc', 'rajoute', 'sonic', 'entrepreneur', 'collège', 'doudou', 'habits', 'poser', 'casse', 'jus', 'avancée', 'ft', 'instruction', 'délire', 'retirer', 'coma', 'barcelone', 'régionale', 'économiser', 'piscine', 'gamin', 'ménès', 'hagra', 'styler', 'tentez', 'canapé', 'luca', 'jeuconcour', 'christmas', 'contrat', 'client', 'incapacité', 'sincère', 'condoléancer', 'dévoiler', 'bangtan', 'actualité', 'per', 'ex', 'cheveux', 'ahhh', 'creativ', 'best', 'gay', 'pfizergat', 'figaro', 'auchan', 'verre', 'collector', 'bourg', 'collégien', 'commerce', 'proximité', 'accepte', 'chaussette', 'support', 'chômage', 'sto', 'prv', 'horizon', 'plier', 'visca', 'barca', 'airpod', 'entend', 'israël', 'rafal', 'spas', 'furieux', 'buter', 'vieux', 'supermarché', 'merciiii', 'abonner', 'désolé', 'littéralement', 'aveugle', 'beal', 'aimé', 'argument', 'fraude', 'carte', 'vital', 'avi', 'officiellement', 'torture', 'direction', 'situer', 'drop', 'jvai', 'compter', 'minimum', 'bisou', 'adulte', 'respire', 'dépense', 'wshh', 'sensibilisation', 'saint', 'accent', 'bisous', 'bague', 'baisse', 'favorable', 'pen', 'métropole', 'former', 'jeanpascal', 'tqt', 'fauci', 'exposer', 'monkey', 'island', 'breaking', 'cancer', 'tort', 'taf', 'finalement', 'stand', 'remplacement', 'xtb', 'lenasituation', 'bute', 'renvoyer', 'âm', 'soyez', 'royaume', 'uni', 'ambassade', 'australien', 'univers', 'spirituel', 'jargon', 'zenkai', 'cycle', 'vulnérable', 'frontière', 'affronter', 'flipper', 'chelou', 'sah', 'masqu', 'ptdrrrrrrr', 'instaurer', 'arnaque', 'discord', 'musulmans', 'impressionnant', 'courrier', 'stratège', 'exact', 'league', 'legend', 'bateau', 'proposition', 'fiat', 'nk', 'axe', 'cp', 'opportunité', 'développement', 'amphi', 'campus', 'anglais', 'capital', 'invitation', 'venez', 'cc', 'appart', 'diminuer', 'harry', 'style', 'cerveau', 'sûre', 'arn', 'voie', 'voire', 'éradiquer', 'sourire', 'connaissance', 'exemple', 'extrêmedroite', 'moindre', 'féliciter', 'mentionner', 'user', 'présidence', 'formidable', 'audit', 'megan', 'coldplay', 'mme', 'transparence', 'cidessous', 'bénéficier', 'rémunération', 'lorsqu', 'nier', 'prépare', 'formation', 'guerrier', 'rapière', 'réactionnaire', 'bb', 'bouger', 'constitue', 'lourde', 'st', 'mr', 'arcane', 'qanon', 'shaman', 'capitole', 'afp', 'malaise', 'indispensable', 'opposition', 'clôture', 'propice', 'laurence', 'antonio', 'vente', 'panique', 'mortalité', 'récent', 'réclamer', 'carrière', 'entraîneur', 'classer', 'accuser', 'mans', 'audi', 'jcroi', 'pck', 'enfer', 'manifester', 'ost', 'pc', 'leak', 'carrémer', 'luimême', 'omggg', 'inutile', 'imo', 'tonton', 'incheon', 'airport', 'margiela', 'chrome', 'hearts', 'celine', 'gucci', 'fila', 'versace', 'btsairportfashion', 'pitier', 'nou', 'biontech', 'moderna', 'engranger', 'missfrance', 'lecture', 'lyonnais', 'médiocrité', 'catastrophe', 'inverse', 'économie', 'fa', 'infecter', 'tante', 'reproduire', 'way', 'home', 'mosquée', 'tawhid', 'mov', 'emmerde', 'adrien', 'rabiot', 'titulaire', 'fortnite', 'rappelle', 'gratuitement', 'effrayer', 'tabac', 'fumer', 'performance', 'mmmh', 'peut', 'arrière', 'séduire', 'vitamine', 'typique', 'coller', 'sou', 'potion', 'seconde', 'quelqun', 'forcément', 'tétanie', 'chaussure', 'newsletter', 'lepointfr', 'morceau', 'carbone', 'lewandowski', 'wolfsburg', 'bolloré', 'terreur', 'abonnez', 'presidentielles', 'conseildeparis', 'roma', 'dévoile', 'third', 'bha', 'méthode', 'agressif', 'mention', 'sf', 'islamiste', 'dites', 'construction', 'legoland', 'complexe', 'composer', 'thème', 'emblématique', 'qualifié', 'bet', 'nba', 'mamelon', 'pardon', 'secte', 'adorateur', 'zoro', 'ellipse', 'régis', 'fbmayenne', 'sédentarité', 'collègue', 'publier', 'parlementaire', 'supplémentaire', 'asseoir', 'samuel', 'nonsense', 'réchauffe', 'adolescent', 'éloigner', 'immersion', 'poste', 'supprimer', 'excus', 'immédiat', 'principal', 'call', 'out', 'valide', 'sciences', 'shopping', 'acer', 'chromebook', 'supérieur', 'étudiant', 'inégalité', 'indignation', 'héran', 'meylan', 'table', 'kim', 'taehyung', 'portugais', 'gitan', 'mem', 'ptdr', 'pharmaceutique', 'accepter', 'diffuser', 'autoriser', 'audelà', 'installer', 'dédier', 'shib', 'douter', 'apercevoir', 'expliqu', 'sobriété', 'individuel', 'responsabilité', 'maîtrise', 'consommation', 'paraître', 'jaune', 'mn', 'motivation', 'parcourir', 'heureuse', 'breton', 'bh', 'allumer', 'chaine', 'riboku', 'chier', 'bataille', 'packs', 'apparat', 'dofu', 'panoplies', 'boucliers', 'montures', 'familiers', 'fatal', 'coiffe', 'followrt', 'survivant', 'holocauste', 'infectieux', 'utilisaient', 'diaboliser', 'propagateur', 'augmente', 'follower', 'danse', 'psk', 'dépendre', 'paul', 'pharmacien', 'virginie', 'dizaine', 'reconfinementmoijamai', 'amiens', 'maurice', 'terrible', 'reptile', 'poutine', 'indiquer', 'viceprésident', 'garder', 'fonder', 'foi', 'déconstruire', 'étaler', 'contrairement', 'inviter', 'poindre', 'daniel', 'roi', 'écrase', 'spéculo', 'gato', 'conseiller', 'pointe', 'mystère', 'autrichien', 'évoqu', 'faim', 'têtu', 'fédéral', 'rembourser', 'etincelant', 'os', 'relâcher', 'publient', 'arthrite', 'dj', 'égard', 'systémique', 'foncer', 'impliquer', 'dés', 'détenu', 'militant', 'attentat', 'pb', 'évoquer', 'para', 'creuser', 'fresnes', 'rumeur', 'britney', 'spears', 'oprah', 'winfrey', 'subit', 'annéesfreebritney', 'mystérieux', 'aventure', 'anne', 'crack', 'gabon', 'dignité', 'patriotisme', 'québec', 'assurer', 'éme', 'beauté', 'missile', 'pleur', 'offre', 'décevoir', 'pompe', 'rwanda', 'pv', 'françoise', 'claque', 'miguel', 'santos', 'sorti', 'edit', 'xd', 'percher', 'erreur', 'rédaction', 'darmanin', 'extrait', 'calvados', 'remplir', 'mauricette', 'hâter', 'occupation', 'passe', 'maj', 'université', 'motif', 'écout', 'piéger', 'demai', 'kkkkkkk', 'confirmer', 'connecter', 'marburg', 'métier', 'innovant', 'produire', 'marre', 'auditeur', 'flèche', 'drapeau', 'instance', 'nation', 'tam', 'familial', 'forêt', 'option', 'règle', 'instruit', 'dororo', 'prestige', 'tome', 'manga', 'osamu', 'tezuka', 'reconstruir', 'konoha', 'pu', 'absent', 'véridique', 'mignon', 'attitude', 'parisien', 'sage', 'politiquement', 'goûter', 'goûte', 'glorifier', 'rager', 'indice', 'moqu', 'intuition', 'jeanluc', 'mélenchon', 'monstre', 'dirigeant', 'réfléchis', 'dors', 'adapter', 'dérèglement', 'tip', 'refuser', 'complice', 'implantation', 'amazon', 'pologne', 'coûteux', 'culpabilise', 'guignol', 'devien', 'excusez', 'parker', 'onana', 'champion', 'élever', 'thérapie', 'poison', 'mecha', 'questionnaire', 'émotion', 'montrer', 'menotter', 'celuici', 'trans', 'transition', 'ignorance', 'chute', 'ira', 'bfmtv', 'giveway', 'cissé', 'sorare', 'démarrer', 'dgsn', 'parlon', 'aspirateur', 'robot', 'deebot', 'livraison', 'sonner', 'wouaf', 'maquis', 'montmartre', 'gvt', 'porc', 'nommer', 'flow', 'prisonnier', 'siège', 'congresdesmairer', 'résistant', 'écologique', 'éducation', 'tribun', 'déforestation', 'importer', 'envoyez', 'observation', 'perd', 'démolir', 'déménager', 'hivernal', 'spécialisé', 'présentation', 'immédiatement', 'ridicule', 'fernando', 'parfum', 'citation', 'souveraineté', 'gober', 'muter', 'aviation', 'véritable', 'fatiguer', 'hola', 'pk', 'silencieux', 'guadeloupe', 'pont', 'pompier', 'colère', 'obligatoire', 'veran', 'dorothée', 'jacob', 'chansley', 'figure', 'hello', 'kai', 'confondre', 'safari', 'épargner', 'numérique', 'man', 'participation', 'patriote', 'dembéler', 'barça', 'math', 'ooh', 'championnat', 'raffinerie', 'fossurmer', 'bouchesdurhône', 'kibaro', 'civ', 'militaire', 'azerbaïdjan', 'syunik', 'arménien', 'obsession', 'crie', 'pleine', 'cliché', 'nma', 'tf', 'nrj', 'assister', 'infirmier', 'contribue', 'cfa', 'fascinant', 'islamogauchiste', 'économique', 'œuvrer', 'choeur', 'triomphe', 'fasciser', 'émerveiller', 'lune', 'paradoxe', 'travailleur', 'jte', 'stream', 'boeuf', 'drag', 'race', 'halloween', 'ol', 'galerie', 'tw', 'obligation', 'punir', 'rendez', 'théâtre', 'harcèlemer', 'cyber', 'algérie', 'double', 'oise', 'podcast', 'consacrer', 'notredame', 'jo', 'tape', 'enchère', 'facebook', 'magistrat', 'prats', 'ampleur', 'assumer', 'education', 'remporte', 'déprimer', 'kiffe', 'blesser', 'fillon', 'manifsnovembre', 'bannièr', 'blinder', 'momer', 'décidément', 'nerf', 'communiqué', 'préfet', 'dakar', 'possession', 'ancelotti', 'éviter', 'spoil', 'viewers', 'tonne', 'kalerer', 'mitwaba', 'grac', 'eric_monga', 'kipay', 'promoteur', 'impact', 'visible', 'distingue', 'utilement', 'panneau', 'kalash', 'daronne', 'cap', 'portugal', 'beaujolais', 'belges', 'moral', 'cour', 'connaisseur', 'renseigner', 'fédération', 'allemand', 'parcours', 'plateform', 'parl', 'papillon', 'gouvernance', 'égide', 'onu', 'lula', 'stupéfaire', 'déception', 'cr', 'hôte', 'fortement', 'op', 'prochainement', 'gain', 'exagérer', 'jeudi', 'débile', 'fromage', 'christian', 'participe', 'nantes', 'vid', 'snard', 'blanchiment', 'contexte', 'introduire', 'accorde', 'critique', 'karma', 'scooter', 'commande', 'attribution', 'désoler', 'trkl', 'talentueux', 'notion', 'loui', 'wish', 'sourate', 'verset', 'riz', 'espèce', 'hésite', 'créateur', 'look', 'coiffure', 'toulouse', 'héros', 'costume', 'rang', 'préparatoire', 'transmission', 'relance', 'jeuconcours', 'giroud', 'actu', 'bac', 'limoges', 'écraser', 'marquante', 'quinquennat', 'édouard', 'philippe', 'hilare', 'cendre', 'avertissement', 'impensable', 'approprier', 'sortent', 'siri', 'vendeur', 'amener', 'poursuite', 'justement', 'potentiellement', 'livrer', 'inventeur', 'valisette', 'celebration', 'manipulation', 'lebron', 'complotiste', 'lasser', 'environnemental', 'rejeter', 'commence', 'cmt', 'mange', 'ns', 'pathétique', 'déléguer', 'ressource', 'février', 'btc', 'sui', 'sortez', 'fournir', 'cluster', 'pis', 'allergie', 'cmp', 'vaulx', 'charger', 'mae', 'tracklist', 'yns', 'fanion', 'chasse', 'lécher', 'menteur', 'désinformateur', 'répètent', 'grandremplacement', 'camus', 'christchurch', 'curieusemer', 'mari', 'hanouna', 'allons', 'concurrent', 'piste', 'lait', 'plante', 'pépite', 'déni', 'finlande', 'box', 'désabonner', 'rapporte', 'barrer', 'neymar', 'ouvrage', 'trad', 'persévérance', 'belgique', 'tailler', 'chemise', 'thérapeutique', 'jet', 'pub', 'lient', 'abject', 'chambre', 'intimité', 'touche', 'tramway', 'explique', 'manu', 'prévenir', 'plombesil', 'marinemoi', 'flippant', 'loire', 'heureusement', 'oncle', 'défoncer', 'sénat', 'bird', 'critiquer', 'sir', 'neveu', 'minion', 'préfèrent', 'dégoûter', 'saviez', 'craquer', 'gibraltar', 'refaire', 'lac', 'grv', 'actuel', 'licencier', 'christophe', 'saisir', 'good', 'bahahaha', 'mobilise', 'présidentiel', 'vélo', 'nez', 'js', 'fer', 'joindre', 'shaa', 'allai', 'chapelle', 'laboratoire', 'stocker', 'séduction', 'meu', 'supplie', 'douleur', 'grossesse', 'autrich', 'larmer', 'refusent', 'md', 'mangez', 'slogan', 'marquer', 'martiniquais', 'riencc', 'nana', 'excuse', 'clivage', 'enjeux', 'jlm', 'ajd', 'boulot', 'chauve', 'favorite', 'gent', 'maxime', 'psychopathe', 'larmont', 'voyage', 'with', 'pari', 'loichervepublic', 'directsénat', 'franchir', 'réconcilier', 'inclusif', 'afriqu', 'compétence', 'voisin', 'xptdrrrr', 'convention', 'genève', 'marrant', 'pl', 'exprêtre', 'preynat', 'innovation', 'startup', 'gilbert', 'déborder', 'west', 'ignoble', 'culturel', 'sûrement', 'stoppez', 'radcliffe', 'rupert', 'grint', 'emma', 'watson', 'casting', 'sagala', 'hbo', 'sortler', 'garfield', 'doubler', 'lycéen', 'accueil', 'ouii', 'touché', 'sacré', 'etienne', 'aimez', 'destruction', 'biodiversité', 'bloqu', 'montebourg', 'vocation', 'cop', 'hauteur', 'casas', 'comparer', 'emporter', 'abri', 'priorité', 'médiéval', 'fairy', 'franchise', 'dc', 'entraîne', 'carnet', 'relayer', 'cracher', 'wii', 'logitech', 'mentionne', 'micro', 'aisé', 'drake', 'burna', 'flop', 'music', 'consomme', 'drama', 'renseignement', 'jeanmichel', 'sublime', 'crislun', 'phénomène', 'négligeable', 'compote', 'jr', 'prorogation', 'ituri', 'célébrer', 'prière', 'publication', 'urologue', 'bloc', 'archéologie', 'fouille', 'port', 'explosion', 'duo', 'conjugal', 'russe', 'émoi', 'politico', 'terrorisme', 'hype', 'agrandir', 'camarade', 'villas', 'boas', 'spectaculaire', 'polonais', 'résulte', 'solide', 'ultradroite', 'gironde', 'telegram', 'investissement', 'poche', 'dépendant', 'vent', 'stopdictaturesanitair', 'équilibre', 'red', 'sympa', 'sorry', 'efficace', 'paille', 'porno', 'récompenser', 'infos', 'partout', 'concrètement', 'prolonger', 'intime', 'identifier', 'woah', 'global', 'tir', 'antisatellite', 'capacité', 'passeport', 'laure', 'neu', 'saouler', 'ad', 'gâteau', 'paiement', 'réessayer', 'mnt', 'plateforme', 'spotify', 'avoskin', 'miraculou', 'acne', 'serum', 'répète', 'fdp', 'jealous', 'hospi', 'qd', 'attaquer', 'résident', 'ventre', 'téléphoner', 'généralement', 'sol', 'couper', 'méline', 'muselière', 'favorise', 'lymphocyte', 'subsistent', 'patrick', 'guerin', 'nouara', 'yahi', 'abus', 'lie', 'anime', 'tte', 'larem', 'évènement', 'acquis', 'habite', 'enfermer', 'chasser', 'aléatoire', '𝕟𝕠𝕞𝕚𝕟', 'deal', 'tah', 'charte', 'environnement', 'nette', 'intégrité', 'noble', 'imposteur', 'episode', 'égalité', 'rekkles', 'chômeur', 'metz', 'concertation', 'djoko', 'facilement', 'consultation', 'classique', 'limité', 'matière', 'arrêtez', 'sponsoriser', 'risquer', 'filer', 'mairie', 'équiper', 'silent', 'meurtre', 'montage', 'publiquement', 'augure', 'napoléon', 'rimbaud', 'séquence', 'improvisation', 'communiste', 'adopter', 'miroir', 'play', 'subvention', 'entraide', 'refiler', 'retenir', 'habiter', 'visité', 'mixer', 'platine', 'medier', 'gagn', 'sinner', 'idem', 'jardin', 'thé', 'denis', 'journer', 'brillante', 'concentration', 'mécréant', 'contagieux', 'redevenir', 'élitisme', 'finit', 'po', 'agréable', 'employer', 'sav', 'déterminer', 'arc', 'retourne', 'co', 'italie', 'mépriser', 'juillet', 'conseildepari', 'développer', 'luffy', 'flowers', 'conviction', 'expérimenté', 'trône', 'autel', 'foyer', 'souffrir', 'étant', 'bouchon', 'racli', 'jesus', 'arriv', 'diplômer', 'extraordinaire', 'piouuuu', 'rouler', 'bjr', 'nomination', 'consternation', 'enceint', 'accoucher', 'inhumanité', 'irréflexion', 'facetime', 'comte', 'toplane', 'lfl', 'atinys', 'sorte', 'manouchian', 'amitié', 'activer', 'matériel', 'violent', 'religion', 'canada', 'inscrivez', 'mètre', 'aménagement', 'occupe', 'weekend', 'province', 'julien', 'outrage', 'cursu', 'concitoyen', 'vest', 'lequipebiathlon', 'cross', 'ramennerer', 'di', 'hécatombe', 'ptdrrrrrr', 'bug', 'cardiaque', 'ramasser', 'ninho', 'banger', 'gen', 'sud', 'inscription', 'rattrape', 'rassurer', 'lock', 'section', 'permanence', 'carlos', 'verrouillage', 'vaccinés', 'noussavon', 'frustrer', 'assaut', 'chaman', 'corne', 'note', 'youtub', 'durable', 'quitte', 'trocadéro', 'faiblesse', 'quoient', 'agresseur', 'macronie', 'calmer', 'daron', 'don', 'patte', 'abandonne', 'spike', 'pulmonaire', 'sars', 'papier', 'excuser', 'penseur', 'pipeau', 'santana', 'fenouil', 'justificatif', 'revendre', 'guadeloupéen', 'dispute', 'défaut', 'essaye', 'examen', 'déplacer', 'milice', 'sénégal', 'gra', 'queen', 'transformer', 'spatial', 'oklm', 'raiola', 'pogba', 'angleterre', 'united', 'tmw', 'parfaire', 'alignement', 'arbre', 'développé', 'ftg', 'netflix', 'ose', 'arranger', 'pollu', 'dico', 'égoïste', 'bueno', 'forzahorizon', 'adaptation', 'lézard', 'humilier', 'hotel', 'anticorps', 'faciliter', 'van', 'lacrim', 'stéphane', 'ravier', 'doublevacciné', 'déjouer', 'processus', 'apple', 'dissimuler', 'intersectionnalité', 'doublement', 'frapper', 'ursula', 'von', 'leyen', 'écologi', 'mondialiste', 'conf', 'foutage', 'censure', 'bélier', 'juninho', 'mediabook', 'pilote', 'attire', 'huile', 'bayern', 'neuer', 'deeptech', 'similaire', 'shop', 'copenhague', 'rupture', 'designer', 'aline', 'webinaire', 'soldat', 'planète', 'trouble', 'dinos', 'remontada', 'socialiste', 'tim', 'atelier', 'cis', 'avertir', 'centaine', 'intéresse', 'inventer', 'condamne', 'tension', 'causer', 'leclerc', 'piège', 'voyez', 'aggravation', 'contaminer', 'électoral', 'volume', 'quon', 'speed', 'nourriture', 'crime', 'ascension', 'finfra', 'moque', 'réaffirmer', 'associer', 'group', 'chart', 'élevage', 'temporaire', 'achèt', 'puissance', 'tenez', 'ralphellarawrawards', 'rawrralphellaoo', 'catch', 'malheureuse', 'qualitatif', 'notifies', 'vénus', 'esport', 'statut', 'hope', 'opus', 'terf', 'iii', 'chang', 'clinique', 'jeanne', 'ido', 'dragonkart', 'jambe', 'jérusalem', 'déclin', 'thi', 'enhypenmamavote', 'enhypen', 'convaincre', 'manœuvre', 'vendu', 'mam', 'potichat', 'cha', 'désindustrialisation', 'ascoval', 'actionnaire', 'délocaliser', 'acier', 'charbon', 'veille', 'gobeur', 'chomp', 'learning', 'climate', 'biblio', 'butbetclicedf', 'freebet', 'marqu', 'sucer', 'tingry', 'véran', 'incantation', 'illimité', 'nhl', 'classement', 'jh', 'sic', 'ura', 'tobizaru', 'dedan', 'qis', 'repost']\n"
          ]
        }
      ]
    },
    {
      "cell_type": "code",
      "source": [
        "#Nombre de mots dans le vocabulaire \n",
        "\n",
        "vocab_len = len(model_w2v.wv.vocab)\n",
        "print(vocab_len)"
      ],
      "metadata": {
        "id": "M1vF2EC6R4qR",
        "colab": {
          "base_uri": "https://localhost:8080/"
        },
        "outputId": "943fc86b-7c7a-4a91-bc99-6ce1c9ee87b0"
      },
      "execution_count": 33,
      "outputs": [
        {
          "output_type": "stream",
          "name": "stdout",
          "text": [
            "4615\n"
          ]
        }
      ]
    },
    {
      "cell_type": "code",
      "source": [
        "model_w2v['haine']"
      ],
      "metadata": {
        "id": "0AZVM5rFPjNF"
      },
      "execution_count": null,
      "outputs": []
    },
    {
      "cell_type": "code",
      "source": [
        "model_w2v.wv.most_similar(positive=\"amour\")"
      ],
      "metadata": {
        "id": "E1E-ehOjOpip",
        "colab": {
          "base_uri": "https://localhost:8080/"
        },
        "outputId": "e9214e12-8d5d-409a-bd53-e22fa82d15a1"
      },
      "execution_count": 41,
      "outputs": [
        {
          "output_type": "execute_result",
          "data": {
            "text/plain": [
              "[('envier', 0.9998581409454346),\n",
              " ('wsh', 0.9998572468757629),\n",
              " ('réfléchir', 0.999854326248169),\n",
              " ('artiste', 0.9998530149459839),\n",
              " ('contraire', 0.999851644039154),\n",
              " ('type', 0.9998509287834167),\n",
              " ('main', 0.9998493790626526),\n",
              " ('lever', 0.9998488426208496),\n",
              " ('aider', 0.9998481869697571),\n",
              " ('magazine', 0.9998480081558228)]"
            ]
          },
          "metadata": {},
          "execution_count": 41
        }
      ]
    }
  ]
}