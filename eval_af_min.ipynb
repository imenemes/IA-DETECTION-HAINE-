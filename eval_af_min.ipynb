{
  "nbformat": 4,
  "nbformat_minor": 0,
  "metadata": {
    "colab": {
      "name": "eval_af_min.ipynb",
      "provenance": [],
      "collapsed_sections": []
    },
    "kernelspec": {
      "name": "python3",
      "display_name": "Python 3"
    },
    "language_info": {
      "name": "python"
    }
  },
  "cells": [
    {
      "cell_type": "code",
      "execution_count": 1,
      "metadata": {
        "id": "sBAVaH1UBHXv"
      },
      "outputs": [],
      "source": [
        "import pandas as pd\n",
        "import glob\n",
        "import sys, os"
      ]
    },
    {
      "cell_type": "code",
      "source": [
        "from google.colab import drive\n",
        "drive.mount('/content/drive')"
      ],
      "metadata": {
        "colab": {
          "base_uri": "https://localhost:8080/"
        },
        "id": "eJZ6V8NGBI7B",
        "outputId": "ac867e4b-95af-4699-b8c8-9064049b534f"
      },
      "execution_count": 2,
      "outputs": [
        {
          "output_type": "stream",
          "name": "stdout",
          "text": [
            "Drive already mounted at /content/drive; to attempt to forcibly remount, call drive.mount(\"/content/drive\", force_remount=True).\n"
          ]
        }
      ]
    },
    {
      "cell_type": "code",
      "source": [
        "path_files = r\"/content/drive/MyDrive/\""
      ],
      "metadata": {
        "id": "5bK_XzqVBb36"
      },
      "execution_count": 3,
      "outputs": []
    },
    {
      "cell_type": "code",
      "source": [
        "py_file_location = \"/content/drive/MyDrive\"\n",
        "sys.path.append(os.path.abspath(py_file_location))"
      ],
      "metadata": {
        "id": "B6urbEvB3CRI"
      },
      "execution_count": 4,
      "outputs": []
    },
    {
      "cell_type": "code",
      "source": [
        "from eval_tools import *"
      ],
      "metadata": {
        "id": "sOPLZ3rC4yFl"
      },
      "execution_count": 5,
      "outputs": []
    },
    {
      "cell_type": "markdown",
      "source": [
        "**Récupérer les fichiers d'outliers**"
      ],
      "metadata": {
        "id": "5o4aXvVaofO7"
      }
    },
    {
      "cell_type": "code",
      "source": [
        "# récupérer les fichier du dossier contenant les fihcier de clusters\n",
        "# glob aide à faire un trie par regex afin d'en choisir les fichiers nettoyés\n",
        "list_outliers_minstp= glob.glob(f\"{path_files}minstp/*\")"
      ],
      "metadata": {
        "id": "1VOD3vnSqd1z"
      },
      "execution_count": 10,
      "outputs": []
    },
    {
      "cell_type": "code",
      "source": [
        "# récupérer les fichier du dossier contenant les fihcier de clusters\n",
        "# glob aide à faire un trie par regex afin d'en choisir les fichiers nettoyés\n",
        "list_outliers_lem= glob.glob(f\"{path_files}lem/*\")"
      ],
      "metadata": {
        "id": "VS0aGLqEL5wa"
      },
      "execution_count": null,
      "outputs": []
    },
    {
      "cell_type": "code",
      "source": [
        "# récupérer les fichier du dossier contenant les fihcier de clusters\n",
        "# glob aide à faire un trie par regex afin d'en choisir les fichiers nettoyés\n",
        "list_outliers_std= glob.glob(f\"{path_files}std/*\")"
      ],
      "metadata": {
        "id": "qhLaBqx-MKG8"
      },
      "execution_count": 17,
      "outputs": []
    },
    {
      "cell_type": "code",
      "source": [
        "# récupérer les fichier du dossier contenant les fihcier de clusters\n",
        "# glob aide à faire un trie par regex afin d'en choisir les fichiers nettoyés\n",
        "list_outliers_af_min= glob.glob(f\"{path_files}af_min/*\")"
      ],
      "metadata": {
        "id": "QrykI-CU5v-B"
      },
      "execution_count": 6,
      "outputs": []
    },
    {
      "cell_type": "code",
      "source": [
        "# récupérer les fichier du dossier contenant les fihcier de clusters\n",
        "# glob aide à faire un trie par regex afin d'en choisir les fichiers nettoyés\n",
        "list_outliers_af_std= glob.glob(f\"{path_files}af_std/*\")"
      ],
      "metadata": {
        "id": "7CTdrPUyI9vW"
      },
      "execution_count": 7,
      "outputs": []
    },
    {
      "cell_type": "code",
      "source": [
        "liste_files_minstp=make_liste_eval(list_outliers_minstp)"
      ],
      "metadata": {
        "id": "rxwqU_Kquz0C"
      },
      "execution_count": 11,
      "outputs": []
    },
    {
      "cell_type": "code",
      "source": [
        "liste_files_lem=make_liste_eval(list_outliers_lem)"
      ],
      "metadata": {
        "id": "x6CP45HwMZen"
      },
      "execution_count": null,
      "outputs": []
    },
    {
      "cell_type": "code",
      "source": [
        "liste_files_std=make_liste_eval(list_outliers_std)"
      ],
      "metadata": {
        "id": "Fpq_L_1MdgFo"
      },
      "execution_count": 18,
      "outputs": []
    },
    {
      "cell_type": "code",
      "source": [
        "liste_files_af_min=make_liste_eval(list_outliers_af_min)"
      ],
      "metadata": {
        "id": "imaYU6fp5-i6"
      },
      "execution_count": 8,
      "outputs": []
    },
    {
      "cell_type": "code",
      "source": [
        "liste_files_af_std=make_liste_eval(list_outliers_af_std)"
      ],
      "metadata": {
        "id": "uqwt_92pJDMH"
      },
      "execution_count": 9,
      "outputs": []
    },
    {
      "cell_type": "code",
      "source": [
        "list_outliers_af_min"
      ],
      "metadata": {
        "colab": {
          "base_uri": "https://localhost:8080/"
        },
        "id": "YTLMIKtH6SVe",
        "outputId": "fb2ea38e-d495-4665-8784-75afd5d2b602"
      },
      "execution_count": 14,
      "outputs": [
        {
          "output_type": "execute_result",
          "data": {
            "text/plain": [
              "['/content/drive/MyDrive/af_min/som_4',\n",
              " '/content/drive/MyDrive/af_min/som_9',\n",
              " '/content/drive/MyDrive/af_min/som_25',\n",
              " '/content/drive/MyDrive/af_min/som_100']"
            ]
          },
          "metadata": {},
          "execution_count": 14
        }
      ]
    },
    {
      "cell_type": "markdown",
      "source": [
        "**Fonction de lecture de fichiers**"
      ],
      "metadata": {
        "id": "pIhHKjgEgqxt"
      }
    },
    {
      "cell_type": "code",
      "source": [
        "matrice_outliers_minstp= matrice_eval(liste_files_minstp)"
      ],
      "metadata": {
        "id": "7OjwGyYRCBt6"
      },
      "execution_count": 15,
      "outputs": []
    },
    {
      "cell_type": "code",
      "source": [
        "matrice_outliers_lem= matrice_eval(liste_files_lem)"
      ],
      "metadata": {
        "id": "1JERa_jyMwP9"
      },
      "execution_count": null,
      "outputs": []
    },
    {
      "cell_type": "code",
      "source": [
        "%%time\n",
        "matrice_outliers_std= matrice_eval(liste_files_std)"
      ],
      "metadata": {
        "id": "1R-No4D0EKvy"
      },
      "execution_count": null,
      "outputs": []
    },
    {
      "cell_type": "code",
      "source": [
        "%time\n",
        "matrice_outliers_af_min= matrice_eval(liste_files_af_min)"
      ],
      "metadata": {
        "id": "u2mPK9dR6cPT",
        "colab": {
          "base_uri": "https://localhost:8080/"
        },
        "outputId": "ac0637ba-854d-4636-a5db-43ea573ff221"
      },
      "execution_count": 10,
      "outputs": [
        {
          "output_type": "stream",
          "name": "stdout",
          "text": [
            "CPU times: user 4 µs, sys: 1 µs, total: 5 µs\n",
            "Wall time: 8.82 µs\n"
          ]
        }
      ]
    },
    {
      "cell_type": "code",
      "source": [
        "%%time\n",
        "matrice_outliers_af_std= matrice_eval(liste_files_af_std)"
      ],
      "metadata": {
        "id": "lfdj2_wuJMoR",
        "colab": {
          "base_uri": "https://localhost:8080/"
        },
        "outputId": "82cb8892-64e0-457d-a44c-95aabbb00c52"
      },
      "execution_count": 11,
      "outputs": [
        {
          "output_type": "stream",
          "name": "stdout",
          "text": [
            "CPU times: user 19.1 ms, sys: 16.7 ms, total: 35.9 ms\n",
            "Wall time: 133 ms\n"
          ]
        }
      ]
    },
    {
      "cell_type": "code",
      "source": [
        "len(matrice_outliers_af_min[2])"
      ],
      "metadata": {
        "colab": {
          "base_uri": "https://localhost:8080/"
        },
        "id": "e6kTOgrH6jKJ",
        "outputId": "6f906796-620c-4ea3-a053-88380eab12f3"
      },
      "execution_count": 21,
      "outputs": [
        {
          "output_type": "execute_result",
          "data": {
            "text/plain": [
              "25"
            ]
          },
          "metadata": {},
          "execution_count": 21
        }
      ]
    },
    {
      "cell_type": "markdown",
      "source": [
        "**Fonction de detection de la haine les outliers de chaque cluster**"
      ],
      "metadata": {
        "id": "g61M_af-g47G"
      }
    },
    {
      "cell_type": "code",
      "source": [
        "liste_method=[\"km_25\",\"km_50\",\"km_100\",\"som_100\",\"som_225\",\"som_400\"]"
      ],
      "metadata": {
        "id": "qvOpdingIES9"
      },
      "execution_count": 23,
      "outputs": []
    },
    {
      "cell_type": "code",
      "source": [
        "liste_method_af=[\"som_4\",\"som_9\",\"som_25\",\"som_100\"]"
      ],
      "metadata": {
        "id": "yipUfSbL6sik"
      },
      "execution_count": 12,
      "outputs": []
    },
    {
      "cell_type": "markdown",
      "source": [
        "**1- Cas d'application d'IF  sur les différents clusters de la version min stopword**"
      ],
      "metadata": {
        "id": "H58hjlv_hQgn"
      }
    },
    {
      "cell_type": "code",
      "source": [
        "resultats_minstp=results(matrice_outliers_minstp)"
      ],
      "metadata": {
        "id": "V5wiimO1Gbtf"
      },
      "execution_count": null,
      "outputs": []
    },
    {
      "cell_type": "code",
      "source": [
        "srt_dics_minstp=liste_dic(matrice_outliers_minstp)"
      ],
      "metadata": {
        "id": "T5n4_QvPQHOK"
      },
      "execution_count": null,
      "outputs": []
    },
    {
      "cell_type": "code",
      "source": [
        "save_info_variante(20, resultats_minstp,\"minstp\",srt_dics_minstp, liste_method)"
      ],
      "metadata": {
        "id": "TZxOem5a_6Pm"
      },
      "execution_count": null,
      "outputs": []
    },
    {
      "cell_type": "markdown",
      "source": [
        "On remarque que deux clusters se détache dans la version Km avec 100 clusters avec des résultats avoisinant les 12% (cluster 85 et 94) , néanmoins une autre phase de clusterisation (SOM ou IF peut être appliquer dessus afin d'affiner la recherche"
      ],
      "metadata": {
        "id": "LqU0oElON5yv"
      }
    },
    {
      "cell_type": "markdown",
      "source": [
        "**2- Cas d'application d'IF  sur les différents clusters de la version avec lemmatisation**\n",
        "___"
      ],
      "metadata": {
        "id": "x4_wlUmrhH0x"
      }
    },
    {
      "cell_type": "code",
      "source": [
        "resultats_lem=results(matrice_outliers_lem)"
      ],
      "metadata": {
        "id": "2EPOwWurNW1L"
      },
      "execution_count": null,
      "outputs": []
    },
    {
      "cell_type": "code",
      "source": [
        "srt_dics_lem=liste_dic(matrice_outliers_lem)"
      ],
      "metadata": {
        "id": "3g_G3GdpecME"
      },
      "execution_count": null,
      "outputs": []
    },
    {
      "cell_type": "code",
      "source": [
        "save_info_variante(20, resultats_lem,\"lem\",srt_dics_lem, liste_method)"
      ],
      "metadata": {
        "id": "vx6vSZxSR_LY"
      },
      "execution_count": null,
      "outputs": []
    },
    {
      "cell_type": "markdown",
      "source": [
        "On remarque:\n",
        "\n",
        "1.   le cluster 8 version som avec 100 clusters avec 16% de mots haineux, (cluster homme femme noir)\n",
        "2.   le cluster 30 version km 100 14%,(rasicte , haine , noir, arabe )\n",
        "3.   le cluster 167 version som 400 11% (pute sale raciste)\n",
        "4.   le cluster  156 version som 400 avec 37% (sur un cluster de 100 tweets) (noir , blanc , arabe )\n",
        "5.   beaucoup de clusters vides sur le som 400 (à voir determiner le pourcentage de ces clusters)\n",
        "\n",
        "d'autres cluster dans la version som 400 ont des proportions de mots haineux avoisinant les 10% à l'image du cluster 275, malheureusement il contient 2 message haineux ce qui veut dire que le cluster contient en tout et pour tout 20 messages au plus , les clusters étant éclatés , ils contiennent moins de message que les autres modèles , on se pose la question de la pertinence d'explorer ce genre de cluster , ceci étant dit , une exploration manuelle dudit cluster nous renseignera plus sur son contenu et sa pertinence .\n",
        "\n",
        "\n"
      ],
      "metadata": {
        "id": "__PnsK94OeoT"
      }
    },
    {
      "cell_type": "markdown",
      "source": [
        "****3- Cas d'application d'IF  sur les différents clusters de la version avec stemming****\n",
        "\n",
        "---\n",
        "\n"
      ],
      "metadata": {
        "id": "ZAXkmmlhoO0o"
      }
    },
    {
      "cell_type": "code",
      "source": [
        "resultats_std=results(matrice_outliers_std)"
      ],
      "metadata": {
        "id": "QITKZmRmeXsm"
      },
      "execution_count": null,
      "outputs": []
    },
    {
      "cell_type": "code",
      "source": [
        "srt_dics_std=liste_dic(matrice_outliers_std)"
      ],
      "metadata": {
        "id": "4Xz22lk6TFQH"
      },
      "execution_count": null,
      "outputs": []
    },
    {
      "cell_type": "code",
      "source": [
        "save_info_variante(20, resultats_std,\"std\",srt_dics_std, liste_method)"
      ],
      "metadata": {
        "id": "KbAwnBG3TFGw"
      },
      "execution_count": null,
      "outputs": []
    },
    {
      "cell_type": "markdown",
      "source": [
        "1.   cluster 69 km100 15% environs (haine , noir rasicte haine)\n",
        "2.   cluster 53 som100 20% environs (grossièrté (pute , sale et gros mots surtout)\n",
        "\n",
        "som 225\n",
        "3.   cluster 116: 11.5% (fake, certains tweets racistes (3 max ) et le cluster contient 26 tweets )\n",
        "\n",
        "som400\n",
        "\n",
        "4.   cluster 349: 23.40% (race arabe , blanc noir, sale pute)\n",
        "5.   cluster 333: 26.92% (arabe blanc)\n",
        "6.   cluster 89: 16.66% (3 messages) (à part 2 tweets contenant le mot chinois rien de particuluer sur ce cluster)\n"
      ],
      "metadata": {
        "id": "laoxyiltfAYI"
      }
    },
    {
      "cell_type": "markdown",
      "source": [
        "****4- Cas d'application d'IF  sur les différents clusters de la version data_hate contre les africains****\n",
        "\n",
        "---"
      ],
      "metadata": {
        "id": "mojmjCGY7D-U"
      }
    },
    {
      "cell_type": "code",
      "source": [
        "resultats_af_min=results(matrice_outliers_af_min)"
      ],
      "metadata": {
        "id": "kkP6r2Kx7CP5"
      },
      "execution_count": 13,
      "outputs": []
    },
    {
      "cell_type": "code",
      "source": [
        "srt_dics_af_min=liste_dic(matrice_outliers_af_min)"
      ],
      "metadata": {
        "id": "H37YoHi47CP7"
      },
      "execution_count": 14,
      "outputs": []
    },
    {
      "cell_type": "code",
      "source": [
        "save_info_variante(20, resultats_af_min,\"af_min\",srt_dics_af_min, liste_method_af)"
      ],
      "metadata": {
        "id": "e2Go0raF7CP9"
      },
      "execution_count": 15,
      "outputs": []
    },
    {
      "cell_type": "markdown",
      "source": [
        "L'évaluation avec cette méthode donne des clusters tous les clusters tous haineux à différents degrés.\n",
        "L'analyse par rapport au pourcentage est biaisé et ne nous donne pas une idée exacte de la nature des tweets , vu que ces derniers sont scrappés avec mot clés.\n",
        "Certains clusters du SOM100 (petits) contiennent 100% de mots haineux\n",
        "ça veut dire que tous les mots de notre liste de mots clés ont été retrouvés. \n",
        "Je remarque que mes fichiers outliers sont plus petits car les clusters sont plus homogènes , donc pas beaucoup de tweets outliers retrouvés."
      ],
      "metadata": {
        "id": "ZNik-a3n-nRq"
      }
    },
    {
      "cell_type": "markdown",
      "source": [
        "****4- Cas d'application d'IF  sur les différents clusters de la version data_hate contre les africains avec stemming****\n",
        "\n",
        "---"
      ],
      "metadata": {
        "id": "yMTJnXoGJX5q"
      }
    },
    {
      "cell_type": "code",
      "source": [
        "resultats_af_std=results(matrice_outliers_af_std)"
      ],
      "metadata": {
        "id": "fbLHCjLHJlJG"
      },
      "execution_count": 16,
      "outputs": []
    },
    {
      "cell_type": "code",
      "source": [
        "srt_dics_af_std=liste_dic(matrice_outliers_af_std)"
      ],
      "metadata": {
        "id": "-hhFsGUvJlJJ"
      },
      "execution_count": 17,
      "outputs": []
    },
    {
      "cell_type": "code",
      "source": [
        "save_info_variante(20, resultats_af_std,\"af_std\",srt_dics_af_std, liste_method_af)"
      ],
      "metadata": {
        "id": "zzeLNrABJlJL"
      },
      "execution_count": 18,
      "outputs": []
    }
  ]
}