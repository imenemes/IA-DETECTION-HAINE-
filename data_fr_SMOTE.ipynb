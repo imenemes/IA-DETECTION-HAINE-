{
  "nbformat": 4,
  "nbformat_minor": 0,
  "metadata": {
    "colab": {
      "name": "data_fr_SMOTE.ipynb",
      "provenance": [],
      "authorship_tag": "ABX9TyP6PGmN7/hy9iyQQAZLLRtN"
    },
    "kernelspec": {
      "name": "python3",
      "display_name": "Python 3"
    },
    "language_info": {
      "name": "python"
    }
  },
  "cells": [
    {
      "cell_type": "code",
      "execution_count": null,
      "metadata": {
        "id": "sBAVaH1UBHXv"
      },
      "outputs": [],
      "source": [
        "import pandas as pd\n",
        "import glob"
      ]
    },
    {
      "cell_type": "code",
      "source": [
        "from google.colab import drive\n",
        "drive.mount('/content/drive')"
      ],
      "metadata": {
        "colab": {
          "base_uri": "https://localhost:8080/"
        },
        "id": "eJZ6V8NGBI7B",
        "outputId": "bebf6efc-6f65-4c0f-b944-5d248bf59f07"
      },
      "execution_count": null,
      "outputs": [
        {
          "output_type": "stream",
          "name": "stdout",
          "text": [
            "Mounted at /content/drive\n"
          ]
        }
      ]
    },
    {
      "cell_type": "code",
      "source": [
        "path_files = r\"/content/drive/MyDrive/Data_M/\""
      ],
      "metadata": {
        "id": "5bK_XzqVBb36"
      },
      "execution_count": null,
      "outputs": []
    },
    {
      "cell_type": "code",
      "execution_count": null,
      "metadata": {
        "id": "ooERHaMT9_zv"
      },
      "outputs": [],
      "source": [
        "data_hate = pd.read_pickle(f\"{path_files}dataset_fr/data_hate.pkl\")"
      ]
    },
    {
      "cell_type": "code",
      "execution_count": null,
      "metadata": {
        "id": "XeKVcJyqwMt0",
        "colab": {
          "base_uri": "https://localhost:8080/",
          "height": 407
        },
        "outputId": "30fe5553-5280-4444-8d8e-a6fa0a782849"
      },
      "outputs": [
        {
          "output_type": "execute_result",
          "data": {
            "text/plain": [
              "   HITId                                              tweet  sentiment  \\\n",
              "0      1  rt @user personnage ainsi q tte la clique gauc...          1   \n",
              "1      2  @user @user @user bah oui t'as raison l'autre ...          1   \n",
              "2      3  moi j'ai personne à qui m'adresser pour réclam...          1   \n",
              "3      4  @user @user c...est vrai que les anchois sont ...          0   \n",
              "4      5            eh les renois faut se réveiller la @url          0   \n",
              "5      6  @user @user en algerie les migrants sont expul...          1   \n",
              "6      7       @user sjw et féministe twitter un sale combo          0   \n",
              "7      8  @user @user tu sais aussi pourquoi est au dess...          0   \n",
              "8      9  @user @user mytho t'as juste voulu te faire ke...          1   \n",
              "9     10  c’est un giga attardé mdrrr ils va vraiment se...          1   \n",
              "\n",
              "   text length                                    clean_tweet_min  \\\n",
              "0          128  personnage ainsi q tte la clique gauchiste deg...   \n",
              "1           62       bah oui t'as raison l'autre c'est un mongol.   \n",
              "2          120  moi j'ai personne à qui m'adresser pour réclam...   \n",
              "3          102  c ... est vrai que les anchois sont aller sur ...   \n",
              "4           39                 eh les renois faut se réveiller la   \n",
              "5          112  en algerie les migrants sont expulsés dans le ...   \n",
              "6           44             sjw et féministe twitter un sale combo   \n",
              "7          101  tu sais aussi pourquoi est au dessus? parce qu...   \n",
              "8          105  mytho t'as juste voulu te faire ken par les re...   \n",
              "9           64  c’est un giga attardé mdrrr ils va vraiment se...   \n",
              "\n",
              "                                     clean_tweet_std  \\\n",
              "0  personnag tte cliqu gauchist deguis 1 macron!!...   \n",
              "1                                     raison mongol.   \n",
              "2  m'adress réclam. voisin attard pu brui adminis...   \n",
              "3  ... vrai anchois aller lun invent million tech...   \n",
              "4                                 renois faut réveil   \n",
              "5      alger migr expuls désert crois bien qu'vision   \n",
              "6                          sjw fémin twitt sal combo   \n",
              "7                            sais? veut ya d'ani ...   \n",
              "8           mytho voulu fair ken renois lyc voulu to   \n",
              "9                     gig attard mdrrr va fair shoot   \n",
              "\n",
              "                                     clean_tweet_lem  \n",
              "0  personnage tout cliqu gauchiste deguise 1 macr...  \n",
              "1                                     raison mongol.  \n",
              "2  me adresser réclamer. voisin attarder puant br...  \n",
              "3  ... vrai anchois aller lune invent million tec...  \n",
              "4                           renois falloir réveiller  \n",
              "5  algerie migrant expulser désert croi bien que ...  \n",
              "6                   sjw féministe twitter sale combo  \n",
              "7                         sai? vouloir ya de ani ...  \n",
              "8    mytho vouloir faire ken renois lycer vouloir to  \n",
              "9       giga-octet attarder mdrrr aller faire shoote  "
            ],
            "text/html": [
              "\n",
              "  <div id=\"df-620b1fa4-37a2-471c-a6c6-02aa0165ed0b\">\n",
              "    <div class=\"colab-df-container\">\n",
              "      <div>\n",
              "<style scoped>\n",
              "    .dataframe tbody tr th:only-of-type {\n",
              "        vertical-align: middle;\n",
              "    }\n",
              "\n",
              "    .dataframe tbody tr th {\n",
              "        vertical-align: top;\n",
              "    }\n",
              "\n",
              "    .dataframe thead th {\n",
              "        text-align: right;\n",
              "    }\n",
              "</style>\n",
              "<table border=\"1\" class=\"dataframe\">\n",
              "  <thead>\n",
              "    <tr style=\"text-align: right;\">\n",
              "      <th></th>\n",
              "      <th>HITId</th>\n",
              "      <th>tweet</th>\n",
              "      <th>sentiment</th>\n",
              "      <th>text length</th>\n",
              "      <th>clean_tweet_min</th>\n",
              "      <th>clean_tweet_std</th>\n",
              "      <th>clean_tweet_lem</th>\n",
              "    </tr>\n",
              "  </thead>\n",
              "  <tbody>\n",
              "    <tr>\n",
              "      <th>0</th>\n",
              "      <td>1</td>\n",
              "      <td>rt @user personnage ainsi q tte la clique gauc...</td>\n",
              "      <td>1</td>\n",
              "      <td>128</td>\n",
              "      <td>personnage ainsi q tte la clique gauchiste deg...</td>\n",
              "      <td>personnag tte cliqu gauchist deguis 1 macron!!...</td>\n",
              "      <td>personnage tout cliqu gauchiste deguise 1 macr...</td>\n",
              "    </tr>\n",
              "    <tr>\n",
              "      <th>1</th>\n",
              "      <td>2</td>\n",
              "      <td>@user @user @user bah oui t'as raison l'autre ...</td>\n",
              "      <td>1</td>\n",
              "      <td>62</td>\n",
              "      <td>bah oui t'as raison l'autre c'est un mongol.</td>\n",
              "      <td>raison mongol.</td>\n",
              "      <td>raison mongol.</td>\n",
              "    </tr>\n",
              "    <tr>\n",
              "      <th>2</th>\n",
              "      <td>3</td>\n",
              "      <td>moi j'ai personne à qui m'adresser pour réclam...</td>\n",
              "      <td>1</td>\n",
              "      <td>120</td>\n",
              "      <td>moi j'ai personne à qui m'adresser pour réclam...</td>\n",
              "      <td>m'adress réclam. voisin attard pu brui adminis...</td>\n",
              "      <td>me adresser réclamer. voisin attarder puant br...</td>\n",
              "    </tr>\n",
              "    <tr>\n",
              "      <th>3</th>\n",
              "      <td>4</td>\n",
              "      <td>@user @user c...est vrai que les anchois sont ...</td>\n",
              "      <td>0</td>\n",
              "      <td>102</td>\n",
              "      <td>c ... est vrai que les anchois sont aller sur ...</td>\n",
              "      <td>... vrai anchois aller lun invent million tech...</td>\n",
              "      <td>... vrai anchois aller lune invent million tec...</td>\n",
              "    </tr>\n",
              "    <tr>\n",
              "      <th>4</th>\n",
              "      <td>5</td>\n",
              "      <td>eh les renois faut se réveiller la @url</td>\n",
              "      <td>0</td>\n",
              "      <td>39</td>\n",
              "      <td>eh les renois faut se réveiller la</td>\n",
              "      <td>renois faut réveil</td>\n",
              "      <td>renois falloir réveiller</td>\n",
              "    </tr>\n",
              "    <tr>\n",
              "      <th>5</th>\n",
              "      <td>6</td>\n",
              "      <td>@user @user en algerie les migrants sont expul...</td>\n",
              "      <td>1</td>\n",
              "      <td>112</td>\n",
              "      <td>en algerie les migrants sont expulsés dans le ...</td>\n",
              "      <td>alger migr expuls désert crois bien qu'vision</td>\n",
              "      <td>algerie migrant expulser désert croi bien que ...</td>\n",
              "    </tr>\n",
              "    <tr>\n",
              "      <th>6</th>\n",
              "      <td>7</td>\n",
              "      <td>@user sjw et féministe twitter un sale combo</td>\n",
              "      <td>0</td>\n",
              "      <td>44</td>\n",
              "      <td>sjw et féministe twitter un sale combo</td>\n",
              "      <td>sjw fémin twitt sal combo</td>\n",
              "      <td>sjw féministe twitter sale combo</td>\n",
              "    </tr>\n",
              "    <tr>\n",
              "      <th>7</th>\n",
              "      <td>8</td>\n",
              "      <td>@user @user tu sais aussi pourquoi est au dess...</td>\n",
              "      <td>0</td>\n",
              "      <td>101</td>\n",
              "      <td>tu sais aussi pourquoi est au dessus? parce qu...</td>\n",
              "      <td>sais? veut ya d'ani ...</td>\n",
              "      <td>sai? vouloir ya de ani ...</td>\n",
              "    </tr>\n",
              "    <tr>\n",
              "      <th>8</th>\n",
              "      <td>9</td>\n",
              "      <td>@user @user mytho t'as juste voulu te faire ke...</td>\n",
              "      <td>1</td>\n",
              "      <td>105</td>\n",
              "      <td>mytho t'as juste voulu te faire ken par les re...</td>\n",
              "      <td>mytho voulu fair ken renois lyc voulu to</td>\n",
              "      <td>mytho vouloir faire ken renois lycer vouloir to</td>\n",
              "    </tr>\n",
              "    <tr>\n",
              "      <th>9</th>\n",
              "      <td>10</td>\n",
              "      <td>c’est un giga attardé mdrrr ils va vraiment se...</td>\n",
              "      <td>1</td>\n",
              "      <td>64</td>\n",
              "      <td>c’est un giga attardé mdrrr ils va vraiment se...</td>\n",
              "      <td>gig attard mdrrr va fair shoot</td>\n",
              "      <td>giga-octet attarder mdrrr aller faire shoote</td>\n",
              "    </tr>\n",
              "  </tbody>\n",
              "</table>\n",
              "</div>\n",
              "      <button class=\"colab-df-convert\" onclick=\"convertToInteractive('df-620b1fa4-37a2-471c-a6c6-02aa0165ed0b')\"\n",
              "              title=\"Convert this dataframe to an interactive table.\"\n",
              "              style=\"display:none;\">\n",
              "        \n",
              "  <svg xmlns=\"http://www.w3.org/2000/svg\" height=\"24px\"viewBox=\"0 0 24 24\"\n",
              "       width=\"24px\">\n",
              "    <path d=\"M0 0h24v24H0V0z\" fill=\"none\"/>\n",
              "    <path d=\"M18.56 5.44l.94 2.06.94-2.06 2.06-.94-2.06-.94-.94-2.06-.94 2.06-2.06.94zm-11 1L8.5 8.5l.94-2.06 2.06-.94-2.06-.94L8.5 2.5l-.94 2.06-2.06.94zm10 10l.94 2.06.94-2.06 2.06-.94-2.06-.94-.94-2.06-.94 2.06-2.06.94z\"/><path d=\"M17.41 7.96l-1.37-1.37c-.4-.4-.92-.59-1.43-.59-.52 0-1.04.2-1.43.59L10.3 9.45l-7.72 7.72c-.78.78-.78 2.05 0 2.83L4 21.41c.39.39.9.59 1.41.59.51 0 1.02-.2 1.41-.59l7.78-7.78 2.81-2.81c.8-.78.8-2.07 0-2.86zM5.41 20L4 18.59l7.72-7.72 1.47 1.35L5.41 20z\"/>\n",
              "  </svg>\n",
              "      </button>\n",
              "      \n",
              "  <style>\n",
              "    .colab-df-container {\n",
              "      display:flex;\n",
              "      flex-wrap:wrap;\n",
              "      gap: 12px;\n",
              "    }\n",
              "\n",
              "    .colab-df-convert {\n",
              "      background-color: #E8F0FE;\n",
              "      border: none;\n",
              "      border-radius: 50%;\n",
              "      cursor: pointer;\n",
              "      display: none;\n",
              "      fill: #1967D2;\n",
              "      height: 32px;\n",
              "      padding: 0 0 0 0;\n",
              "      width: 32px;\n",
              "    }\n",
              "\n",
              "    .colab-df-convert:hover {\n",
              "      background-color: #E2EBFA;\n",
              "      box-shadow: 0px 1px 2px rgba(60, 64, 67, 0.3), 0px 1px 3px 1px rgba(60, 64, 67, 0.15);\n",
              "      fill: #174EA6;\n",
              "    }\n",
              "\n",
              "    [theme=dark] .colab-df-convert {\n",
              "      background-color: #3B4455;\n",
              "      fill: #D2E3FC;\n",
              "    }\n",
              "\n",
              "    [theme=dark] .colab-df-convert:hover {\n",
              "      background-color: #434B5C;\n",
              "      box-shadow: 0px 1px 3px 1px rgba(0, 0, 0, 0.15);\n",
              "      filter: drop-shadow(0px 1px 2px rgba(0, 0, 0, 0.3));\n",
              "      fill: #FFFFFF;\n",
              "    }\n",
              "  </style>\n",
              "\n",
              "      <script>\n",
              "        const buttonEl =\n",
              "          document.querySelector('#df-620b1fa4-37a2-471c-a6c6-02aa0165ed0b button.colab-df-convert');\n",
              "        buttonEl.style.display =\n",
              "          google.colab.kernel.accessAllowed ? 'block' : 'none';\n",
              "\n",
              "        async function convertToInteractive(key) {\n",
              "          const element = document.querySelector('#df-620b1fa4-37a2-471c-a6c6-02aa0165ed0b');\n",
              "          const dataTable =\n",
              "            await google.colab.kernel.invokeFunction('convertToInteractive',\n",
              "                                                     [key], {});\n",
              "          if (!dataTable) return;\n",
              "\n",
              "          const docLinkHtml = 'Like what you see? Visit the ' +\n",
              "            '<a target=\"_blank\" href=https://colab.research.google.com/notebooks/data_table.ipynb>data table notebook</a>'\n",
              "            + ' to learn more about interactive tables.';\n",
              "          element.innerHTML = '';\n",
              "          dataTable['output_type'] = 'display_data';\n",
              "          await google.colab.output.renderOutput(dataTable, element);\n",
              "          const docLink = document.createElement('div');\n",
              "          docLink.innerHTML = docLinkHtml;\n",
              "          element.appendChild(docLink);\n",
              "        }\n",
              "      </script>\n",
              "    </div>\n",
              "  </div>\n",
              "  "
            ]
          },
          "metadata": {},
          "execution_count": 7
        }
      ],
      "source": [
        "data_hate.head(10)"
      ]
    },
    {
      "cell_type": "code",
      "source": [
        "target= data_hate[\"sentiment\"]"
      ],
      "metadata": {
        "id": "Bz8mpt_wU3QS"
      },
      "execution_count": null,
      "outputs": []
    },
    {
      "cell_type": "code",
      "execution_count": null,
      "metadata": {
        "id": "vTrhLmsXc-zm"
      },
      "outputs": [],
      "source": [
        "!pip install gensim==4.0\n",
        "!pip install python-Levenshtein"
      ]
    },
    {
      "cell_type": "code",
      "execution_count": null,
      "metadata": {
        "id": "D7_sV7SbDuhQ"
      },
      "outputs": [],
      "source": [
        "from gensim.models.word2vec import Word2Vec\n",
        "from gensim.models import KeyedVectors\n",
        "import numpy as np"
      ]
    },
    {
      "cell_type": "code",
      "source": [
        "w2v = KeyedVectors.load(f\"{path_files}w2v/w2vec_model_d300_global_Min\")"
      ],
      "metadata": {
        "id": "TfTqIcGge0VC"
      },
      "execution_count": null,
      "outputs": []
    },
    {
      "cell_type": "code",
      "source": [
        "w2v.similar_by_word(\"noir\")"
      ],
      "metadata": {
        "colab": {
          "base_uri": "https://localhost:8080/"
        },
        "id": "ef5xCFK2Ifm2",
        "outputId": "34db84f0-f39d-4a24-baad-5c372ea572cc"
      },
      "execution_count": null,
      "outputs": [
        {
          "output_type": "execute_result",
          "data": {
            "text/plain": [
              "[('blanc', 0.6659490466117859),\n",
              " ('noir,', 0.6475639343261719),\n",
              " ('blanc,', 0.6131015419960022),\n",
              " ('roux', 0.6044836640357971),\n",
              " ('noir.', 0.603306770324707),\n",
              " ('bandeau', 0.5998969674110413),\n",
              " ('marron', 0.5980905890464783),\n",
              " ('beige', 0.5841408967971802),\n",
              " ('blanc.', 0.5792201161384583),\n",
              " ('noir?', 0.575861930847168)]"
            ]
          },
          "metadata": {},
          "execution_count": 12
        }
      ]
    },
    {
      "cell_type": "code",
      "source": [
        "def encode(msg, model, dim):\n",
        "    return np.mean([model[word] for word in msg if word in model] or [np.zeros(dim)], axis = 0)"
      ],
      "metadata": {
        "id": "iM2n7S-DlWAW"
      },
      "execution_count": null,
      "outputs": []
    },
    {
      "cell_type": "code",
      "source": [
        "tweets=[line.split() for line in data_hate[\"clean_tweet_min\"]]"
      ],
      "metadata": {
        "id": "FhXA1wp_tJPK"
      },
      "execution_count": null,
      "outputs": []
    },
    {
      "cell_type": "code",
      "source": [
        "X=np.array([encode(msg, w2v, 300) for msg in tweets])"
      ],
      "metadata": {
        "id": "ijq07jzmlZGj"
      },
      "execution_count": null,
      "outputs": []
    },
    {
      "cell_type": "markdown",
      "source": [
        "Appliquer SMOTE\n"
      ],
      "metadata": {
        "id": "Nn0jsujEkTBT"
      }
    },
    {
      "cell_type": "code",
      "source": [
        "from sklearn.preprocessing import MinMaxScaler\n",
        "from sklearn.pipeline import Pipeline\n",
        "from sklearn.linear_model import LogisticRegression\n",
        "from imblearn.over_sampling import ADASYN, SMOTE, RandomOverSampler\n",
        "from imblearn.pipeline import make_pipeline\n",
        "from sklearn.model_selection import cross_validate\n",
        "import matplotlib.pyplot as plt\n",
        "import seaborn as sns"
      ],
      "metadata": {
        "id": "4mszeh22GgiT"
      },
      "execution_count": null,
      "outputs": []
    },
    {
      "cell_type": "code",
      "source": [
        "model_lr = Pipeline([                                                \n",
        "    ('classifier', LogisticRegression(C= 10,random_state=42,class_weight='balanced', max_iter= 10000))\n",
        "])\n",
        "SMOTE_pipeline = make_pipeline(SMOTE(random_state=777),model_lr)"
      ],
      "metadata": {
        "id": "UKOAB-DkFRBF"
      },
      "execution_count": null,
      "outputs": []
    },
    {
      "cell_type": "code",
      "source": [
        "cv_results = cross_validate(SMOTE_pipeline, X, target, cv=5)\n",
        "cv_results = pd.DataFrame(cv_results)\n",
        "cv_results"
      ],
      "metadata": {
        "colab": {
          "base_uri": "https://localhost:8080/",
          "height": 206
        },
        "id": "JW62izrNGf-j",
        "outputId": "6071c330-5bd3-41de-8e41-1873ceb222d3"
      },
      "execution_count": null,
      "outputs": [
        {
          "output_type": "execute_result",
          "data": {
            "text/plain": [
              "   fit_time  score_time  test_score\n",
              "0  0.467108    0.001536    0.637609\n",
              "1  0.480905    0.001389    0.617684\n",
              "2  0.527776    0.001255    0.631382\n",
              "3  0.571195    0.001347    0.622665\n",
              "4  0.566437    0.001318    0.655860"
            ],
            "text/html": [
              "\n",
              "  <div id=\"df-801f1eff-4ef7-4052-ba96-0567c51145af\">\n",
              "    <div class=\"colab-df-container\">\n",
              "      <div>\n",
              "<style scoped>\n",
              "    .dataframe tbody tr th:only-of-type {\n",
              "        vertical-align: middle;\n",
              "    }\n",
              "\n",
              "    .dataframe tbody tr th {\n",
              "        vertical-align: top;\n",
              "    }\n",
              "\n",
              "    .dataframe thead th {\n",
              "        text-align: right;\n",
              "    }\n",
              "</style>\n",
              "<table border=\"1\" class=\"dataframe\">\n",
              "  <thead>\n",
              "    <tr style=\"text-align: right;\">\n",
              "      <th></th>\n",
              "      <th>fit_time</th>\n",
              "      <th>score_time</th>\n",
              "      <th>test_score</th>\n",
              "    </tr>\n",
              "  </thead>\n",
              "  <tbody>\n",
              "    <tr>\n",
              "      <th>0</th>\n",
              "      <td>0.467108</td>\n",
              "      <td>0.001536</td>\n",
              "      <td>0.637609</td>\n",
              "    </tr>\n",
              "    <tr>\n",
              "      <th>1</th>\n",
              "      <td>0.480905</td>\n",
              "      <td>0.001389</td>\n",
              "      <td>0.617684</td>\n",
              "    </tr>\n",
              "    <tr>\n",
              "      <th>2</th>\n",
              "      <td>0.527776</td>\n",
              "      <td>0.001255</td>\n",
              "      <td>0.631382</td>\n",
              "    </tr>\n",
              "    <tr>\n",
              "      <th>3</th>\n",
              "      <td>0.571195</td>\n",
              "      <td>0.001347</td>\n",
              "      <td>0.622665</td>\n",
              "    </tr>\n",
              "    <tr>\n",
              "      <th>4</th>\n",
              "      <td>0.566437</td>\n",
              "      <td>0.001318</td>\n",
              "      <td>0.655860</td>\n",
              "    </tr>\n",
              "  </tbody>\n",
              "</table>\n",
              "</div>\n",
              "      <button class=\"colab-df-convert\" onclick=\"convertToInteractive('df-801f1eff-4ef7-4052-ba96-0567c51145af')\"\n",
              "              title=\"Convert this dataframe to an interactive table.\"\n",
              "              style=\"display:none;\">\n",
              "        \n",
              "  <svg xmlns=\"http://www.w3.org/2000/svg\" height=\"24px\"viewBox=\"0 0 24 24\"\n",
              "       width=\"24px\">\n",
              "    <path d=\"M0 0h24v24H0V0z\" fill=\"none\"/>\n",
              "    <path d=\"M18.56 5.44l.94 2.06.94-2.06 2.06-.94-2.06-.94-.94-2.06-.94 2.06-2.06.94zm-11 1L8.5 8.5l.94-2.06 2.06-.94-2.06-.94L8.5 2.5l-.94 2.06-2.06.94zm10 10l.94 2.06.94-2.06 2.06-.94-2.06-.94-.94-2.06-.94 2.06-2.06.94z\"/><path d=\"M17.41 7.96l-1.37-1.37c-.4-.4-.92-.59-1.43-.59-.52 0-1.04.2-1.43.59L10.3 9.45l-7.72 7.72c-.78.78-.78 2.05 0 2.83L4 21.41c.39.39.9.59 1.41.59.51 0 1.02-.2 1.41-.59l7.78-7.78 2.81-2.81c.8-.78.8-2.07 0-2.86zM5.41 20L4 18.59l7.72-7.72 1.47 1.35L5.41 20z\"/>\n",
              "  </svg>\n",
              "      </button>\n",
              "      \n",
              "  <style>\n",
              "    .colab-df-container {\n",
              "      display:flex;\n",
              "      flex-wrap:wrap;\n",
              "      gap: 12px;\n",
              "    }\n",
              "\n",
              "    .colab-df-convert {\n",
              "      background-color: #E8F0FE;\n",
              "      border: none;\n",
              "      border-radius: 50%;\n",
              "      cursor: pointer;\n",
              "      display: none;\n",
              "      fill: #1967D2;\n",
              "      height: 32px;\n",
              "      padding: 0 0 0 0;\n",
              "      width: 32px;\n",
              "    }\n",
              "\n",
              "    .colab-df-convert:hover {\n",
              "      background-color: #E2EBFA;\n",
              "      box-shadow: 0px 1px 2px rgba(60, 64, 67, 0.3), 0px 1px 3px 1px rgba(60, 64, 67, 0.15);\n",
              "      fill: #174EA6;\n",
              "    }\n",
              "\n",
              "    [theme=dark] .colab-df-convert {\n",
              "      background-color: #3B4455;\n",
              "      fill: #D2E3FC;\n",
              "    }\n",
              "\n",
              "    [theme=dark] .colab-df-convert:hover {\n",
              "      background-color: #434B5C;\n",
              "      box-shadow: 0px 1px 3px 1px rgba(0, 0, 0, 0.15);\n",
              "      filter: drop-shadow(0px 1px 2px rgba(0, 0, 0, 0.3));\n",
              "      fill: #FFFFFF;\n",
              "    }\n",
              "  </style>\n",
              "\n",
              "      <script>\n",
              "        const buttonEl =\n",
              "          document.querySelector('#df-801f1eff-4ef7-4052-ba96-0567c51145af button.colab-df-convert');\n",
              "        buttonEl.style.display =\n",
              "          google.colab.kernel.accessAllowed ? 'block' : 'none';\n",
              "\n",
              "        async function convertToInteractive(key) {\n",
              "          const element = document.querySelector('#df-801f1eff-4ef7-4052-ba96-0567c51145af');\n",
              "          const dataTable =\n",
              "            await google.colab.kernel.invokeFunction('convertToInteractive',\n",
              "                                                     [key], {});\n",
              "          if (!dataTable) return;\n",
              "\n",
              "          const docLinkHtml = 'Like what you see? Visit the ' +\n",
              "            '<a target=\"_blank\" href=https://colab.research.google.com/notebooks/data_table.ipynb>data table notebook</a>'\n",
              "            + ' to learn more about interactive tables.';\n",
              "          element.innerHTML = '';\n",
              "          dataTable['output_type'] = 'display_data';\n",
              "          await google.colab.output.renderOutput(dataTable, element);\n",
              "          const docLink = document.createElement('div');\n",
              "          docLink.innerHTML = docLinkHtml;\n",
              "          element.appendChild(docLink);\n",
              "        }\n",
              "      </script>\n",
              "    </div>\n",
              "  </div>\n",
              "  "
            ]
          },
          "metadata": {},
          "execution_count": 98
        }
      ]
    },
    {
      "cell_type": "code",
      "source": [
        "cv_test_scores = cv_results['test_score']\n",
        "print(\n",
        "    \"Accuracy globale avec SMOTE:\\n\"\n",
        "    f\"{cv_test_scores.mean():.3f} +/- {cv_test_scores.std():.3f}\"\n",
        ")"
      ],
      "metadata": {
        "colab": {
          "base_uri": "https://localhost:8080/"
        },
        "id": "LVSlT3obIyJF",
        "outputId": "b9507750-05e4-4695-b0c1-de822e79577c"
      },
      "execution_count": null,
      "outputs": [
        {
          "output_type": "stream",
          "name": "stdout",
          "text": [
            "Generalization score with hyperparameters tuning:\n",
            "0.633 +/- 0.015\n"
          ]
        }
      ]
    },
    {
      "cell_type": "code",
      "source": [
        "from sklearn.model_selection import GridSearchCV\n",
        "\n",
        "param_grid = {\n",
        "    'pipeline__classifier__C': (0.1, 1,5)}\n",
        "model_grid_search_lr = GridSearchCV(SMOTE_pipeline, param_grid=param_grid,\n",
        "                                 n_jobs=2, cv=10)\n"
      ],
      "metadata": {
        "id": "3npoEKSGiKdB"
      },
      "execution_count": null,
      "outputs": []
    },
    {
      "cell_type": "code",
      "source": [
        "SMOTE_pipeline.get_params()"
      ],
      "metadata": {
        "colab": {
          "base_uri": "https://localhost:8080/"
        },
        "id": "sSGWWmTKJ3tg",
        "outputId": "4cb14132-90c2-43c7-9793-66c2d4489025"
      },
      "execution_count": null,
      "outputs": [
        {
          "output_type": "execute_result",
          "data": {
            "text/plain": [
              "{'memory': None, 'pipeline': Pipeline(steps=[('classifier',\n",
              "                  LogisticRegression(C=10, class_weight='balanced',\n",
              "                                     max_iter=10000, random_state=42))]), 'pipeline__classifier': LogisticRegression(C=10, class_weight='balanced', max_iter=10000,\n",
              "                    random_state=42), 'pipeline__classifier__C': 10, 'pipeline__classifier__class_weight': 'balanced', 'pipeline__classifier__dual': False, 'pipeline__classifier__fit_intercept': True, 'pipeline__classifier__intercept_scaling': 1, 'pipeline__classifier__l1_ratio': None, 'pipeline__classifier__max_iter': 10000, 'pipeline__classifier__multi_class': 'auto', 'pipeline__classifier__n_jobs': None, 'pipeline__classifier__penalty': 'l2', 'pipeline__classifier__random_state': 42, 'pipeline__classifier__solver': 'lbfgs', 'pipeline__classifier__tol': 0.0001, 'pipeline__classifier__verbose': 0, 'pipeline__classifier__warm_start': False, 'pipeline__memory': None, 'pipeline__steps': [('classifier',\n",
              "   LogisticRegression(C=10, class_weight='balanced', max_iter=10000,\n",
              "                      random_state=42))], 'pipeline__verbose': False, 'smote': SMOTE(random_state=777), 'smote__k_neighbors': 5, 'smote__n_jobs': None, 'smote__random_state': 777, 'smote__sampling_strategy': 'auto', 'steps': [('smote',\n",
              "   SMOTE(random_state=777)),\n",
              "  ('pipeline', Pipeline(steps=[('classifier',\n",
              "                    LogisticRegression(C=10, class_weight='balanced',\n",
              "                                       max_iter=10000, random_state=42))]))], 'verbose': False}"
            ]
          },
          "metadata": {},
          "execution_count": 101
        }
      ]
    },
    {
      "cell_type": "code",
      "source": [
        "cv_result_lr = cross_validate(\n",
        "    model_grid_search_lr, X, target, cv=5, n_jobs=2, return_estimator=True,error_score='raise'\n",
        ")"
      ],
      "metadata": {
        "id": "hBz-Wio6g6tS"
      },
      "execution_count": null,
      "outputs": []
    },
    {
      "cell_type": "code",
      "source": [
        "model_grid_search_lr.fit(X, target)"
      ],
      "metadata": {
        "colab": {
          "base_uri": "https://localhost:8080/"
        },
        "id": "K2gXh_rOmsJa",
        "outputId": "6cb44d3f-c9c3-4671-96e7-ea8bc1244602"
      },
      "execution_count": null,
      "outputs": [
        {
          "output_type": "execute_result",
          "data": {
            "text/plain": [
              "GridSearchCV(cv=10,\n",
              "             estimator=Pipeline(steps=[('smote', SMOTE(random_state=777)),\n",
              "                                       ('pipeline',\n",
              "                                        Pipeline(steps=[('classifier',\n",
              "                                                         LogisticRegression(C=10,\n",
              "                                                                            class_weight='balanced',\n",
              "                                                                            max_iter=10000,\n",
              "                                                                            random_state=42))]))]),\n",
              "             n_jobs=2, param_grid={'pipeline__classifier__C': (0.1, 1, 5)})"
            ]
          },
          "metadata": {},
          "execution_count": 103
        }
      ]
    },
    {
      "cell_type": "code",
      "source": [
        "model_grid_search_lr.best_params_"
      ],
      "metadata": {
        "colab": {
          "base_uri": "https://localhost:8080/"
        },
        "id": "fhI8T-fNoL1j",
        "outputId": "8953b1b4-4752-4779-b9c1-6c696b77c84c"
      },
      "execution_count": null,
      "outputs": [
        {
          "output_type": "execute_result",
          "data": {
            "text/plain": [
              "{'pipeline__classifier__C': 1}"
            ]
          },
          "metadata": {},
          "execution_count": 104
        }
      ]
    },
    {
      "cell_type": "code",
      "source": [
        "model_grid_search_lr.best_estimator_"
      ],
      "metadata": {
        "colab": {
          "base_uri": "https://localhost:8080/"
        },
        "id": "9UOqGk4To7Pa",
        "outputId": "9c57755a-5b5f-4cc1-a551-ed05bd05542a"
      },
      "execution_count": null,
      "outputs": [
        {
          "output_type": "execute_result",
          "data": {
            "text/plain": [
              "Pipeline(steps=[('smote', SMOTE(random_state=777)),\n",
              "                ('pipeline',\n",
              "                 Pipeline(steps=[('classifier',\n",
              "                                  LogisticRegression(C=1,\n",
              "                                                     class_weight='balanced',\n",
              "                                                     max_iter=10000,\n",
              "                                                     random_state=42))]))])"
            ]
          },
          "metadata": {},
          "execution_count": 105
        }
      ]
    },
    {
      "cell_type": "code",
      "source": [
        "cv_result_lr = pd.DataFrame(cv_result_lr)\n",
        "cv_test_scores = cv_result_lr['test_score']\n",
        "print(\n",
        "    \"Generalization score with hyperparameters tuning:\\n\"\n",
        "    f\"{cv_test_scores.mean():.3f} +/- {cv_test_scores.std():.3f}\"\n",
        ")"
      ],
      "metadata": {
        "colab": {
          "base_uri": "https://localhost:8080/"
        },
        "id": "EslwJLqjhEBY",
        "outputId": "6d575a34-143e-4130-954e-dbf257672098"
      },
      "execution_count": null,
      "outputs": [
        {
          "output_type": "stream",
          "name": "stdout",
          "text": [
            "Generalization score with hyperparameters tuning:\n",
            "0.634 +/- 0.019\n"
          ]
        }
      ]
    },
    {
      "cell_type": "markdown",
      "source": [
        "très légère augmentation avec SMOTE, pour un double temps d'execution"
      ],
      "metadata": {
        "id": "VBtxUjkOgoxB"
      }
    },
    {
      "cell_type": "code",
      "source": [
        ""
      ],
      "metadata": {
        "id": "vTjqsGEIud94"
      },
      "execution_count": null,
      "outputs": []
    },
    {
      "cell_type": "code",
      "source": [
        "for cv_fold, estimator_in_fold in enumerate(cv_result_lr[\"estimator\"]):\n",
        "    print(\n",
        "        f\"Best hyperparameters for fold #{cv_fold + 1}:\\n\"\n",
        "        f\"{estimator_in_fold.best_params_}\"\n",
        "    )"
      ],
      "metadata": {
        "colab": {
          "base_uri": "https://localhost:8080/"
        },
        "id": "MI_pv9deMDwk",
        "outputId": "c8274a76-6028-469b-e424-1020b38b56b8"
      },
      "execution_count": null,
      "outputs": [
        {
          "output_type": "stream",
          "name": "stdout",
          "text": [
            "Best hyperparameters for fold #1:\n",
            "{'pipeline__classifier__C': 5}\n",
            "Best hyperparameters for fold #2:\n",
            "{'pipeline__classifier__C': 5}\n",
            "Best hyperparameters for fold #3:\n",
            "{'pipeline__classifier__C': 1}\n",
            "Best hyperparameters for fold #4:\n",
            "{'pipeline__classifier__C': 5}\n",
            "Best hyperparameters for fold #5:\n",
            "{'pipeline__classifier__C': 5}\n"
          ]
        }
      ]
    },
    {
      "cell_type": "markdown",
      "source": [
        "Choix du meilleur modèle"
      ],
      "metadata": {
        "id": "7e7Izg98Oxmk"
      }
    },
    {
      "cell_type": "code",
      "source": [
        "model_lr = Pipeline([                                                 \n",
        "    ('classifier', LogisticRegression(random_state=42,class_weight='balanced', max_iter= 100000,C=5))\n",
        "])"
      ],
      "metadata": {
        "id": "gUk9BfSVOwqY"
      },
      "execution_count": null,
      "outputs": []
    },
    {
      "cell_type": "code",
      "source": [
        "SMOTE_pipeline = make_pipeline(SMOTE(random_state=777),model_lr)"
      ],
      "metadata": {
        "id": "Vtc9N7GSO-UV"
      },
      "execution_count": null,
      "outputs": []
    },
    {
      "cell_type": "code",
      "source": [
        "cv_results = cross_validate(SMOTE_pipeline, X, target, cv=5)\n",
        "cv_results = pd.DataFrame(cv_results)\n",
        "cv_results"
      ],
      "metadata": {
        "colab": {
          "base_uri": "https://localhost:8080/",
          "height": 206
        },
        "id": "1dQ3hNhZPFkw",
        "outputId": "20cc3769-0ee4-4efe-a8c1-e0c122221f34"
      },
      "execution_count": null,
      "outputs": [
        {
          "output_type": "execute_result",
          "data": {
            "text/plain": [
              "   fit_time  score_time  test_score\n",
              "0  0.301102    0.001307    0.638854\n",
              "1  0.421178    0.001677    0.613948\n",
              "2  0.443466    0.001159    0.637609\n",
              "3  0.388643    0.001175    0.627646\n",
              "4  0.431444    0.001179    0.665835"
            ],
            "text/html": [
              "\n",
              "  <div id=\"df-b079e956-f30e-41e5-9bf5-3e2b2bcdf565\">\n",
              "    <div class=\"colab-df-container\">\n",
              "      <div>\n",
              "<style scoped>\n",
              "    .dataframe tbody tr th:only-of-type {\n",
              "        vertical-align: middle;\n",
              "    }\n",
              "\n",
              "    .dataframe tbody tr th {\n",
              "        vertical-align: top;\n",
              "    }\n",
              "\n",
              "    .dataframe thead th {\n",
              "        text-align: right;\n",
              "    }\n",
              "</style>\n",
              "<table border=\"1\" class=\"dataframe\">\n",
              "  <thead>\n",
              "    <tr style=\"text-align: right;\">\n",
              "      <th></th>\n",
              "      <th>fit_time</th>\n",
              "      <th>score_time</th>\n",
              "      <th>test_score</th>\n",
              "    </tr>\n",
              "  </thead>\n",
              "  <tbody>\n",
              "    <tr>\n",
              "      <th>0</th>\n",
              "      <td>0.301102</td>\n",
              "      <td>0.001307</td>\n",
              "      <td>0.638854</td>\n",
              "    </tr>\n",
              "    <tr>\n",
              "      <th>1</th>\n",
              "      <td>0.421178</td>\n",
              "      <td>0.001677</td>\n",
              "      <td>0.613948</td>\n",
              "    </tr>\n",
              "    <tr>\n",
              "      <th>2</th>\n",
              "      <td>0.443466</td>\n",
              "      <td>0.001159</td>\n",
              "      <td>0.637609</td>\n",
              "    </tr>\n",
              "    <tr>\n",
              "      <th>3</th>\n",
              "      <td>0.388643</td>\n",
              "      <td>0.001175</td>\n",
              "      <td>0.627646</td>\n",
              "    </tr>\n",
              "    <tr>\n",
              "      <th>4</th>\n",
              "      <td>0.431444</td>\n",
              "      <td>0.001179</td>\n",
              "      <td>0.665835</td>\n",
              "    </tr>\n",
              "  </tbody>\n",
              "</table>\n",
              "</div>\n",
              "      <button class=\"colab-df-convert\" onclick=\"convertToInteractive('df-b079e956-f30e-41e5-9bf5-3e2b2bcdf565')\"\n",
              "              title=\"Convert this dataframe to an interactive table.\"\n",
              "              style=\"display:none;\">\n",
              "        \n",
              "  <svg xmlns=\"http://www.w3.org/2000/svg\" height=\"24px\"viewBox=\"0 0 24 24\"\n",
              "       width=\"24px\">\n",
              "    <path d=\"M0 0h24v24H0V0z\" fill=\"none\"/>\n",
              "    <path d=\"M18.56 5.44l.94 2.06.94-2.06 2.06-.94-2.06-.94-.94-2.06-.94 2.06-2.06.94zm-11 1L8.5 8.5l.94-2.06 2.06-.94-2.06-.94L8.5 2.5l-.94 2.06-2.06.94zm10 10l.94 2.06.94-2.06 2.06-.94-2.06-.94-.94-2.06-.94 2.06-2.06.94z\"/><path d=\"M17.41 7.96l-1.37-1.37c-.4-.4-.92-.59-1.43-.59-.52 0-1.04.2-1.43.59L10.3 9.45l-7.72 7.72c-.78.78-.78 2.05 0 2.83L4 21.41c.39.39.9.59 1.41.59.51 0 1.02-.2 1.41-.59l7.78-7.78 2.81-2.81c.8-.78.8-2.07 0-2.86zM5.41 20L4 18.59l7.72-7.72 1.47 1.35L5.41 20z\"/>\n",
              "  </svg>\n",
              "      </button>\n",
              "      \n",
              "  <style>\n",
              "    .colab-df-container {\n",
              "      display:flex;\n",
              "      flex-wrap:wrap;\n",
              "      gap: 12px;\n",
              "    }\n",
              "\n",
              "    .colab-df-convert {\n",
              "      background-color: #E8F0FE;\n",
              "      border: none;\n",
              "      border-radius: 50%;\n",
              "      cursor: pointer;\n",
              "      display: none;\n",
              "      fill: #1967D2;\n",
              "      height: 32px;\n",
              "      padding: 0 0 0 0;\n",
              "      width: 32px;\n",
              "    }\n",
              "\n",
              "    .colab-df-convert:hover {\n",
              "      background-color: #E2EBFA;\n",
              "      box-shadow: 0px 1px 2px rgba(60, 64, 67, 0.3), 0px 1px 3px 1px rgba(60, 64, 67, 0.15);\n",
              "      fill: #174EA6;\n",
              "    }\n",
              "\n",
              "    [theme=dark] .colab-df-convert {\n",
              "      background-color: #3B4455;\n",
              "      fill: #D2E3FC;\n",
              "    }\n",
              "\n",
              "    [theme=dark] .colab-df-convert:hover {\n",
              "      background-color: #434B5C;\n",
              "      box-shadow: 0px 1px 3px 1px rgba(0, 0, 0, 0.15);\n",
              "      filter: drop-shadow(0px 1px 2px rgba(0, 0, 0, 0.3));\n",
              "      fill: #FFFFFF;\n",
              "    }\n",
              "  </style>\n",
              "\n",
              "      <script>\n",
              "        const buttonEl =\n",
              "          document.querySelector('#df-b079e956-f30e-41e5-9bf5-3e2b2bcdf565 button.colab-df-convert');\n",
              "        buttonEl.style.display =\n",
              "          google.colab.kernel.accessAllowed ? 'block' : 'none';\n",
              "\n",
              "        async function convertToInteractive(key) {\n",
              "          const element = document.querySelector('#df-b079e956-f30e-41e5-9bf5-3e2b2bcdf565');\n",
              "          const dataTable =\n",
              "            await google.colab.kernel.invokeFunction('convertToInteractive',\n",
              "                                                     [key], {});\n",
              "          if (!dataTable) return;\n",
              "\n",
              "          const docLinkHtml = 'Like what you see? Visit the ' +\n",
              "            '<a target=\"_blank\" href=https://colab.research.google.com/notebooks/data_table.ipynb>data table notebook</a>'\n",
              "            + ' to learn more about interactive tables.';\n",
              "          element.innerHTML = '';\n",
              "          dataTable['output_type'] = 'display_data';\n",
              "          await google.colab.output.renderOutput(dataTable, element);\n",
              "          const docLink = document.createElement('div');\n",
              "          docLink.innerHTML = docLinkHtml;\n",
              "          element.appendChild(docLink);\n",
              "        }\n",
              "      </script>\n",
              "    </div>\n",
              "  </div>\n",
              "  "
            ]
          },
          "metadata": {},
          "execution_count": 123
        }
      ]
    },
    {
      "cell_type": "code",
      "source": [
        "cv_test_scores = cv_results['test_score']\n",
        "print(\n",
        "    \"Generalization score with hyperparameters tuning:\\n\"\n",
        "    f\"{cv_test_scores.mean():.3f} +/- {cv_test_scores.std():.3f}\")"
      ],
      "metadata": {
        "colab": {
          "base_uri": "https://localhost:8080/"
        },
        "id": "YPZt_WlNPS60",
        "outputId": "56e5856a-69e9-4446-f2a6-1743fd5a62da"
      },
      "execution_count": null,
      "outputs": [
        {
          "output_type": "stream",
          "name": "stdout",
          "text": [
            "Generalization score with hyperparameters tuning:\n",
            "0.637 +/- 0.019\n"
          ]
        }
      ]
    },
    {
      "cell_type": "code",
      "source": [
        "from sklearn.model_selection import cross_val_predict\n",
        "from sklearn.metrics import confusion_matrix\n",
        "y_pred_smt = cross_val_predict(model_grid_search_lr.best_estimator_, X, target, cv=10)\n",
        "conf_mat_smt = confusion_matrix(target, y_pred_smt)"
      ],
      "metadata": {
        "id": "huswK_DDRuHG"
      },
      "execution_count": null,
      "outputs": []
    },
    {
      "cell_type": "code",
      "source": [
        "def draw_mat(conf_mat,title):\n",
        "  print(title)\n",
        "  matrice_proportions = np.zeros((2,2))\n",
        "  for i in range(0,2):\n",
        "      matrice_proportions[i,:] = conf_mat[i,:]/float(conf_mat[i,:].sum())\n",
        "  names=['Neutre','Haineux']\n",
        "  confusion_df = pd.DataFrame(matrice_proportions, index=names,columns=names)\n",
        "  plt.figure(figsize=(5,5))\n",
        "  sns.heatmap(confusion_df,annot=True,annot_kws={\"size\": 12},cmap='YlGnBu',cbar=False, square=True,fmt='.2f')\n",
        "  plt.ylabel(r'Valeur réelle',fontsize=14)\n",
        "  plt.xlabel(r'Valeur prédite',fontsize=14)\n",
        "  plt.tick_params(labelsize=12)"
      ],
      "metadata": {
        "id": "cfvYzeznSLpt"
      },
      "execution_count": null,
      "outputs": []
    },
    {
      "cell_type": "code",
      "source": [
        "draw_mat(conf_mat_smt, \"matrice de confusion Regression logistique + SMOTE\")"
      ],
      "metadata": {
        "colab": {
          "base_uri": "https://localhost:8080/",
          "height": 359
        },
        "id": "gu_vUcQWq0el",
        "outputId": "ca20da3a-5230-4b42-89bb-ac60b2b7373a"
      },
      "execution_count": null,
      "outputs": [
        {
          "output_type": "stream",
          "name": "stdout",
          "text": [
            "matrice de confusion Regression logistique + SMOTE\n"
          ]
        },
        {
          "output_type": "display_data",
          "data": {
            "text/plain": [
              "<Figure size 360x360 with 1 Axes>"
            ],
            "image/png": "[encoded data removed]"
          },
          "metadata": {
            "needs_background": "light"
          }
        }
      ]
    },
    {
      "cell_type": "code",
      "source": [
        "model =LogisticRegression(C= 0.05,random_state=42,class_weight='balanced', max_iter= 10000)"
      ],
      "metadata": {
        "id": "QH1qoDbcqWw-"
      },
      "execution_count": null,
      "outputs": []
    },
    {
      "cell_type": "code",
      "source": [
        "cv_result_lr = cross_validate(\n",
        "    model, X, target, cv=5, n_jobs=-1, return_estimator=True,error_score='raise'\n",
        ")"
      ],
      "metadata": {
        "id": "bAePgRfAqgyo"
      },
      "execution_count": null,
      "outputs": []
    },
    {
      "cell_type": "code",
      "source": [
        "y_pred = cross_val_predict(model, X, target, cv=10)\n",
        "conf_mat = confusion_matrix(target, y_pred)"
      ],
      "metadata": {
        "id": "c6oG4yd6q_Pw"
      },
      "execution_count": null,
      "outputs": []
    },
    {
      "cell_type": "code",
      "source": [
        "draw_mat(conf_mat, \"matrice de confusion Regression logistique\")"
      ],
      "metadata": {
        "colab": {
          "base_uri": "https://localhost:8080/",
          "height": 359
        },
        "id": "DaqxObHkrSxE",
        "outputId": "8989ff97-5a86-4a9c-eed2-8571665595f4"
      },
      "execution_count": null,
      "outputs": [
        {
          "output_type": "stream",
          "name": "stdout",
          "text": [
            "matrice de confusion Regression logistique\n"
          ]
        },
        {
          "output_type": "display_data",
          "data": {
            "text/plain": [
              "<Figure size 360x360 with 1 Axes>"
            ],
            "image/png": "[encoded data removed]"
          },
          "metadata": {
            "needs_background": "light"
          }
        }
      ]
    },
    {
      "cell_type": "markdown",
      "source": [
        "On remarque que les résultats de la regression logistique sans réequilibrage avec SMOTE sont meilleures qu'avec."
      ],
      "metadata": {
        "id": "Lmk6TINnu57x"
      }
    }
  ]
}