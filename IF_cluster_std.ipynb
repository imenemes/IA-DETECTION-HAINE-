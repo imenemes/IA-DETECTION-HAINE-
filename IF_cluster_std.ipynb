{
  "cells": [
    {
      "cell_type": "code",
      "execution_count": 1,
      "metadata": {
        "id": "y-ketQ-qCSy1"
      },
      "outputs": [],
      "source": [
        "import pandas as pd\n",
        "import numpy as np\n",
        "import glob\n",
        "import sys\n",
        "import os"
      ]
    },
    {
      "cell_type": "code",
      "execution_count": 2,
      "metadata": {
        "colab": {
          "base_uri": "https://localhost:8080/"
        },
        "id": "NC5JlNsXb0Dl",
        "outputId": "4ec93ad0-5a2b-4015-bff6-42b6fdaad761"
      },
      "outputs": [
        {
          "output_type": "stream",
          "name": "stdout",
          "text": [
            "Drive already mounted at /content/drive; to attempt to forcibly remount, call drive.mount(\"/content/drive\", force_remount=True).\n"
          ]
        }
      ],
      "source": [
        "from google.colab import drive\n",
        "drive.mount('/content/drive')"
      ]
    },
    {
      "cell_type": "code",
      "source": [
        "py_file_location = \"/content/drive/MyDrive\"\n",
        "sys.path.append(os.path.abspath(py_file_location))"
      ],
      "metadata": {
        "id": "j-ExSKP-gYT5"
      },
      "execution_count": 3,
      "outputs": []
    },
    {
      "cell_type": "code",
      "source": [
        "from function_tools import *"
      ],
      "metadata": {
        "id": "1fQZrej4ac0S"
      },
      "execution_count": 4,
      "outputs": []
    },
    {
      "cell_type": "code",
      "source": [
        "path_files = r\"/content/drive/MyDrive/Data_M/1M_Std_clusters/\""
      ],
      "metadata": {
        "id": "1slR4akM8nZK"
      },
      "execution_count": 5,
      "outputs": []
    },
    {
      "cell_type": "code",
      "execution_count": 6,
      "metadata": {
        "id": "eaNKVb9tz_O2"
      },
      "outputs": [],
      "source": [
        "# récupérer les clusters \n",
        "# glob aide à faire un trie par regex afin d'en choisir les fichiers nettoyés\n",
        "list_file= glob.glob(f\"{path_files}*\")"
      ]
    },
    {
      "cell_type": "code",
      "source": [
        "list_file"
      ],
      "metadata": {
        "colab": {
          "base_uri": "https://localhost:8080/"
        },
        "id": "bV-AceuE8mJA",
        "outputId": "7449a2fb-8f89-422a-94c9-6e5bd1e37fb9"
      },
      "execution_count": 7,
      "outputs": [
        {
          "output_type": "execute_result",
          "data": {
            "text/plain": [
              "['/content/drive/MyDrive/Data_M/1M_Std_clusters/som_100',\n",
              " '/content/drive/MyDrive/Data_M/1M_Std_clusters/som_225',\n",
              " '/content/drive/MyDrive/Data_M/1M_Std_clusters/km_25',\n",
              " '/content/drive/MyDrive/Data_M/1M_Std_clusters/km_100',\n",
              " '/content/drive/MyDrive/Data_M/1M_Std_clusters/km_50',\n",
              " '/content/drive/MyDrive/Data_M/1M_Std_clusters/som_400']"
            ]
          },
          "metadata": {},
          "execution_count": 7
        }
      ]
    },
    {
      "cell_type": "code",
      "source": [
        "liste_clean , liste_brut = make_liste(list_file)"
      ],
      "metadata": {
        "id": "7vnfdB1TcMRv"
      },
      "execution_count": 8,
      "outputs": []
    },
    {
      "cell_type": "code",
      "source": [
        "list_file"
      ],
      "metadata": {
        "colab": {
          "base_uri": "https://localhost:8080/"
        },
        "id": "wyc3j-wXO3dg",
        "outputId": "a4da97cb-e345-4f78-91b3-52b3d80553ef"
      },
      "execution_count": 9,
      "outputs": [
        {
          "output_type": "execute_result",
          "data": {
            "text/plain": [
              "['/content/drive/MyDrive/Data_M/1M_Std_clusters/km_25',\n",
              " '/content/drive/MyDrive/Data_M/1M_Std_clusters/km_50',\n",
              " '/content/drive/MyDrive/Data_M/1M_Std_clusters/km_100',\n",
              " '/content/drive/MyDrive/Data_M/1M_Std_clusters/som_100',\n",
              " '/content/drive/MyDrive/Data_M/1M_Std_clusters/som_225',\n",
              " '/content/drive/MyDrive/Data_M/1M_Std_clusters/som_400']"
            ]
          },
          "metadata": {},
          "execution_count": 9
        }
      ]
    },
    {
      "cell_type": "code",
      "source": [
        "%%time\n",
        "clean_cluster= matrice(liste_clean)"
      ],
      "metadata": {
        "id": "g83I9zWrQbij",
        "colab": {
          "base_uri": "https://localhost:8080/"
        },
        "outputId": "80908f12-d908-4088-e574-8e3ecbf9757b"
      },
      "execution_count": 10,
      "outputs": [
        {
          "output_type": "stream",
          "name": "stdout",
          "text": [
            "CPU times: user 1.62 s, sys: 615 ms, total: 2.23 s\n",
            "Wall time: 3.52 s\n"
          ]
        }
      ]
    },
    {
      "cell_type": "code",
      "source": [
        "%%time\n",
        "brut_cluster= matrice(liste_brut)"
      ],
      "metadata": {
        "id": "ykPUhGFiBuk3",
        "colab": {
          "base_uri": "https://localhost:8080/"
        },
        "outputId": "2e2c7674-427b-4f7c-bcf0-ef66a2f7a839"
      },
      "execution_count": 11,
      "outputs": [
        {
          "output_type": "stream",
          "name": "stdout",
          "text": [
            "CPU times: user 3.19 s, sys: 1.12 s, total: 4.31 s\n",
            "Wall time: 5.75 s\n"
          ]
        }
      ]
    },
    {
      "cell_type": "code",
      "source": [
        "data = make_df(brut_cluster, clean_cluster)"
      ],
      "metadata": {
        "id": "A0ZbONGmfcwY"
      },
      "execution_count": 14,
      "outputs": []
    },
    {
      "cell_type": "code",
      "source": [
        "data[1][0].head()"
      ],
      "metadata": {
        "id": "eciN-LMWKKC2"
      },
      "execution_count": null,
      "outputs": []
    },
    {
      "cell_type": "markdown",
      "source": [
        "data_km : \n",
        "1.   index 0 : km25\n",
        "2.   index 1: km50\n",
        "3.   index 2: km100\n",
        "\n",
        "data_SOM : \n",
        "1.   index 3 : som100\n",
        "2.   index 4: som225\n",
        "3.   index 5: som400"
      ],
      "metadata": {
        "id": "ZvjvB-QHTg0o"
      }
    },
    {
      "cell_type": "code",
      "source": [
        "!pip install gensim==4.0\n",
        "!pip install python-Levenshtein"
      ],
      "metadata": {
        "id": "8hoNeRjLisbH"
      },
      "execution_count": null,
      "outputs": []
    },
    {
      "cell_type": "code",
      "source": [
        "from gensim.models import KeyedVectors"
      ],
      "metadata": {
        "id": "xzWDRnYViwtM"
      },
      "execution_count": 18,
      "outputs": []
    },
    {
      "cell_type": "code",
      "execution_count": 19,
      "metadata": {
        "id": "I1yZQP5dJP8L"
      },
      "outputs": [],
      "source": [
        "# récupérer les embeddings entrainés sur nos données\n",
        "w2v_std = KeyedVectors.load('/content/drive/MyDrive/Data_M/w2v/w2vec_model_d300_1M_Std')"
      ]
    },
    {
      "cell_type": "code",
      "execution_count": 20,
      "metadata": {
        "id": "POuffGvENwVh"
      },
      "outputs": [],
      "source": [
        "#encode un message\n",
        "def encode(msg):\n",
        "    return np.mean([w2v_std[word] for word in msg if word in w2v_std] or [np.zeros(300)], axis = 0)"
      ]
    },
    {
      "cell_type": "code",
      "execution_count": 22,
      "metadata": {
        "id": "SkTP5_y6TtX8"
      },
      "outputs": [],
      "source": [
        "# Encoder une liste de messages \n",
        "def encoded(liste):\n",
        "  w2v=[]\n",
        "  for i in range(len(liste)):\n",
        "    w2v.append(np.array([encode(msg.split()) for msg in liste[i]]))\n",
        "  return w2v"
      ]
    },
    {
      "cell_type": "markdown",
      "source": [
        "Encodage des différents set de clusters"
      ],
      "metadata": {
        "id": "-C6RjNlHwtMQ"
      }
    },
    {
      "cell_type": "code",
      "source": [
        "len(clean_cluster)"
      ],
      "metadata": {
        "colab": {
          "base_uri": "https://localhost:8080/"
        },
        "id": "BZg5exCLSnXx",
        "outputId": "e4ae3322-3c16-4941-d06c-aee101bfcebe"
      },
      "execution_count": 23,
      "outputs": [
        {
          "output_type": "execute_result",
          "data": {
            "text/plain": [
              "6"
            ]
          },
          "metadata": {},
          "execution_count": 23
        }
      ]
    },
    {
      "cell_type": "code",
      "source": [
        "def liste_encoded(liste_cluster):\n",
        "  dataset_encoded=[]\n",
        "  for i in range(len(liste_cluster)):\n",
        "    dataset_encoded.append(encoded(liste_cluster[i]))\n",
        "  return dataset_encoded"
      ],
      "metadata": {
        "id": "y1p8ZaKdR2WH"
      },
      "execution_count": 24,
      "outputs": []
    },
    {
      "cell_type": "code",
      "source": [
        "dataset_encoded= liste_encoded(clean_cluster)"
      ],
      "metadata": {
        "id": "hcQCGJEaSuFy"
      },
      "execution_count": 25,
      "outputs": []
    },
    {
      "cell_type": "code",
      "source": [
        "len(dataset_encoded[0])"
      ],
      "metadata": {
        "colab": {
          "base_uri": "https://localhost:8080/"
        },
        "id": "MYn-E9pE_CFd",
        "outputId": "9c8c790f-c5f3-4f12-c75c-d72313547351"
      },
      "execution_count": null,
      "outputs": [
        {
          "output_type": "execute_result",
          "data": {
            "text/plain": [
              "25"
            ]
          },
          "metadata": {},
          "execution_count": 48
        }
      ]
    },
    {
      "cell_type": "markdown",
      "source": [
        "Entrainement des différents set de clusters"
      ],
      "metadata": {
        "id": "tW5Zihz2w-7P"
      }
    },
    {
      "cell_type": "code",
      "execution_count": 26,
      "metadata": {
        "id": "L0EXntvo6QhB"
      },
      "outputs": [],
      "source": [
        "from sklearn.ensemble import IsolationForest\n",
        "\n",
        "# definir le modèle ainsi que ses paramètres\n",
        "if_model=IsolationForest(n_jobs=-1, random_state=42)\n"
      ]
    },
    {
      "cell_type": "markdown",
      "source": [
        "Créer une matrice qui stock les différents models d'IF correspondant aux différents clusters"
      ],
      "metadata": {
        "id": "E_7I5UIicZbR"
      }
    },
    {
      "cell_type": "code",
      "source": [
        "def train_if (dataset):\n",
        "  models=[[] for _ in range(len(dataset))]\n",
        "  for i in range(len(dataset)):\n",
        "    for n in range(len(dataset[i])):\n",
        "      if_model=IsolationForest(n_jobs=-1, random_state=42)\n",
        "      models[i].append(if_model.fit(dataset[i][n]))\n",
        "  return models"
      ],
      "metadata": {
        "id": "HuBZOclLXARE"
      },
      "execution_count": 27,
      "outputs": []
    },
    {
      "cell_type": "markdown",
      "source": [
        "Appliquer IF sur les clusters de Km"
      ],
      "metadata": {
        "id": "ifZKXEnNYpht"
      }
    },
    {
      "cell_type": "code",
      "source": [
        "%%time\n",
        "models = train_if(dataset_encoded)"
      ],
      "metadata": {
        "id": "yFxr0_mnaVt1"
      },
      "execution_count": 28,
      "outputs": []
    },
    {
      "cell_type": "markdown",
      "source": [
        "Appliquer IF sur les clusters de SOM"
      ],
      "metadata": {
        "id": "IY1sEIZuY4la"
      }
    },
    {
      "cell_type": "markdown",
      "source": [
        "Prédictions pour les différents modèles"
      ],
      "metadata": {
        "id": "VIxce-wMySxp"
      }
    },
    {
      "cell_type": "code",
      "source": [
        "def pred(dataset,model):\n",
        "  preds=[[] for _ in range(len(dataset))]\n",
        "  for i in range(len(dataset)):\n",
        "    for n in range(len(dataset[i])):\n",
        "      preds[i].append(model[i][n].predict(dataset[i][n]))\n",
        "  return preds"
      ],
      "metadata": {
        "id": "e2X74fsfdO6c"
      },
      "execution_count": 33,
      "outputs": []
    },
    {
      "cell_type": "code",
      "source": [
        "pred= pred(dataset_encoded, models)"
      ],
      "metadata": {
        "id": "-M8CAVVCe-3y"
      },
      "execution_count": 34,
      "outputs": []
    },
    {
      "cell_type": "code",
      "source": [
        "def add_pred_to_df(dataset,pred):\n",
        "  for i in range(len(pred)):\n",
        "    for n in range(len(pred[i])):\n",
        "      dataset[i][n]['pred']= pred[i][n]"
      ],
      "metadata": {
        "id": "RSQqOdm-hEHq"
      },
      "execution_count": 36,
      "outputs": []
    },
    {
      "cell_type": "code",
      "source": [
        "add_pred_to_df(data, pred)"
      ],
      "metadata": {
        "id": "u8CyQ2XViEKS"
      },
      "execution_count": 37,
      "outputs": []
    },
    {
      "cell_type": "code",
      "source": [
        "data[0][0]"
      ],
      "metadata": {
        "colab": {
          "base_uri": "https://localhost:8080/",
          "height": 424
        },
        "id": "vYVNV26C0Jwe",
        "outputId": "1db1aa1f-3c5a-41fc-940b-6ba37dc384b9"
      },
      "execution_count": 38,
      "outputs": [
        {
          "output_type": "execute_result",
          "data": {
            "text/plain": [
              "                                                   tweet  \\\n",
              "0      J'espère que cette étude sera reprise dans les...   \n",
              "1                  Juste macron avec un masque FaceApp\\n   \n",
              "2      🚨ALERTE INFO:Le président du Conseil scientifi...   \n",
              "3                                        Ah pas obligé\\n   \n",
              "4      👉Virus MARBURG : Le virus Marburg, ou Marburg ...   \n",
              "...                                                  ...   \n",
              "18534  Covid-19 : le confinement des personnes non-va...   \n",
              "18535  Dix-sept cas de Covid avérés après le repas de...   \n",
              "18536  #lamatinale ces médecins lobbyistes minimisent...   \n",
              "18537  Je suis scandalisée de l accusation de Maitre ...   \n",
              "18538  Quatrième jour de blocage en Guadeloupe contre...   \n",
              "\n",
              "                                               clean_twt  pred  \n",
              "0      esper étud repris médi, met mal pseudo argumen...     1  \n",
              "1                                 macron masqu faceapp\\n     1  \n",
              "2      alert info président conseil scientif ( inform...     1  \n",
              "3                                                oblig\\n    -1  \n",
              "4      virus marburg virus marburg, marburg marburgvi...     1  \n",
              "...                                                  ...   ...  \n",
              "18534     covid-19 confin non-vaccin réclam 6 franc 10\\n     1  \n",
              "18535  cas covid aver rep aîn blendecqu vaccin proteg...     1  \n",
              "18536  #lamatinal médecin lobbyist minimisent effet s...     1  \n",
              "18537  scandalis accus maitr jacubowitcz plateau trai...     1  \n",
              "18538       jour blocag guadeloup #passsanitair ... cc\\n     1  \n",
              "\n",
              "[18539 rows x 3 columns]"
            ],
            "text/html": [
              "\n",
              "  <div id=\"df-a92a67a9-eda8-436c-a7e8-1fd03f6ebf14\">\n",
              "    <div class=\"colab-df-container\">\n",
              "      <div>\n",
              "<style scoped>\n",
              "    .dataframe tbody tr th:only-of-type {\n",
              "        vertical-align: middle;\n",
              "    }\n",
              "\n",
              "    .dataframe tbody tr th {\n",
              "        vertical-align: top;\n",
              "    }\n",
              "\n",
              "    .dataframe thead th {\n",
              "        text-align: right;\n",
              "    }\n",
              "</style>\n",
              "<table border=\"1\" class=\"dataframe\">\n",
              "  <thead>\n",
              "    <tr style=\"text-align: right;\">\n",
              "      <th></th>\n",
              "      <th>tweet</th>\n",
              "      <th>clean_twt</th>\n",
              "      <th>pred</th>\n",
              "    </tr>\n",
              "  </thead>\n",
              "  <tbody>\n",
              "    <tr>\n",
              "      <th>0</th>\n",
              "      <td>J'espère que cette étude sera reprise dans les...</td>\n",
              "      <td>esper étud repris médi, met mal pseudo argumen...</td>\n",
              "      <td>1</td>\n",
              "    </tr>\n",
              "    <tr>\n",
              "      <th>1</th>\n",
              "      <td>Juste macron avec un masque FaceApp\\n</td>\n",
              "      <td>macron masqu faceapp\\n</td>\n",
              "      <td>1</td>\n",
              "    </tr>\n",
              "    <tr>\n",
              "      <th>2</th>\n",
              "      <td>🚨ALERTE INFO:Le président du Conseil scientifi...</td>\n",
              "      <td>alert info président conseil scientif ( inform...</td>\n",
              "      <td>1</td>\n",
              "    </tr>\n",
              "    <tr>\n",
              "      <th>3</th>\n",
              "      <td>Ah pas obligé\\n</td>\n",
              "      <td>oblig\\n</td>\n",
              "      <td>-1</td>\n",
              "    </tr>\n",
              "    <tr>\n",
              "      <th>4</th>\n",
              "      <td>👉Virus MARBURG : Le virus Marburg, ou Marburg ...</td>\n",
              "      <td>virus marburg virus marburg, marburg marburgvi...</td>\n",
              "      <td>1</td>\n",
              "    </tr>\n",
              "    <tr>\n",
              "      <th>...</th>\n",
              "      <td>...</td>\n",
              "      <td>...</td>\n",
              "      <td>...</td>\n",
              "    </tr>\n",
              "    <tr>\n",
              "      <th>18534</th>\n",
              "      <td>Covid-19 : le confinement des personnes non-va...</td>\n",
              "      <td>covid-19 confin non-vaccin réclam 6 franc 10\\n</td>\n",
              "      <td>1</td>\n",
              "    </tr>\n",
              "    <tr>\n",
              "      <th>18535</th>\n",
              "      <td>Dix-sept cas de Covid avérés après le repas de...</td>\n",
              "      <td>cas covid aver rep aîn blendecqu vaccin proteg...</td>\n",
              "      <td>1</td>\n",
              "    </tr>\n",
              "    <tr>\n",
              "      <th>18536</th>\n",
              "      <td>#lamatinale ces médecins lobbyistes minimisent...</td>\n",
              "      <td>#lamatinal médecin lobbyist minimisent effet s...</td>\n",
              "      <td>1</td>\n",
              "    </tr>\n",
              "    <tr>\n",
              "      <th>18537</th>\n",
              "      <td>Je suis scandalisée de l accusation de Maitre ...</td>\n",
              "      <td>scandalis accus maitr jacubowitcz plateau trai...</td>\n",
              "      <td>1</td>\n",
              "    </tr>\n",
              "    <tr>\n",
              "      <th>18538</th>\n",
              "      <td>Quatrième jour de blocage en Guadeloupe contre...</td>\n",
              "      <td>jour blocag guadeloup #passsanitair ... cc\\n</td>\n",
              "      <td>1</td>\n",
              "    </tr>\n",
              "  </tbody>\n",
              "</table>\n",
              "<p>18539 rows × 3 columns</p>\n",
              "</div>\n",
              "      <button class=\"colab-df-convert\" onclick=\"convertToInteractive('df-a92a67a9-eda8-436c-a7e8-1fd03f6ebf14')\"\n",
              "              title=\"Convert this dataframe to an interactive table.\"\n",
              "              style=\"display:none;\">\n",
              "        \n",
              "  <svg xmlns=\"http://www.w3.org/2000/svg\" height=\"24px\"viewBox=\"0 0 24 24\"\n",
              "       width=\"24px\">\n",
              "    <path d=\"M0 0h24v24H0V0z\" fill=\"none\"/>\n",
              "    <path d=\"M18.56 5.44l.94 2.06.94-2.06 2.06-.94-2.06-.94-.94-2.06-.94 2.06-2.06.94zm-11 1L8.5 8.5l.94-2.06 2.06-.94-2.06-.94L8.5 2.5l-.94 2.06-2.06.94zm10 10l.94 2.06.94-2.06 2.06-.94-2.06-.94-.94-2.06-.94 2.06-2.06.94z\"/><path d=\"M17.41 7.96l-1.37-1.37c-.4-.4-.92-.59-1.43-.59-.52 0-1.04.2-1.43.59L10.3 9.45l-7.72 7.72c-.78.78-.78 2.05 0 2.83L4 21.41c.39.39.9.59 1.41.59.51 0 1.02-.2 1.41-.59l7.78-7.78 2.81-2.81c.8-.78.8-2.07 0-2.86zM5.41 20L4 18.59l7.72-7.72 1.47 1.35L5.41 20z\"/>\n",
              "  </svg>\n",
              "      </button>\n",
              "      \n",
              "  <style>\n",
              "    .colab-df-container {\n",
              "      display:flex;\n",
              "      flex-wrap:wrap;\n",
              "      gap: 12px;\n",
              "    }\n",
              "\n",
              "    .colab-df-convert {\n",
              "      background-color: #E8F0FE;\n",
              "      border: none;\n",
              "      border-radius: 50%;\n",
              "      cursor: pointer;\n",
              "      display: none;\n",
              "      fill: #1967D2;\n",
              "      height: 32px;\n",
              "      padding: 0 0 0 0;\n",
              "      width: 32px;\n",
              "    }\n",
              "\n",
              "    .colab-df-convert:hover {\n",
              "      background-color: #E2EBFA;\n",
              "      box-shadow: 0px 1px 2px rgba(60, 64, 67, 0.3), 0px 1px 3px 1px rgba(60, 64, 67, 0.15);\n",
              "      fill: #174EA6;\n",
              "    }\n",
              "\n",
              "    [theme=dark] .colab-df-convert {\n",
              "      background-color: #3B4455;\n",
              "      fill: #D2E3FC;\n",
              "    }\n",
              "\n",
              "    [theme=dark] .colab-df-convert:hover {\n",
              "      background-color: #434B5C;\n",
              "      box-shadow: 0px 1px 3px 1px rgba(0, 0, 0, 0.15);\n",
              "      filter: drop-shadow(0px 1px 2px rgba(0, 0, 0, 0.3));\n",
              "      fill: #FFFFFF;\n",
              "    }\n",
              "  </style>\n",
              "\n",
              "      <script>\n",
              "        const buttonEl =\n",
              "          document.querySelector('#df-a92a67a9-eda8-436c-a7e8-1fd03f6ebf14 button.colab-df-convert');\n",
              "        buttonEl.style.display =\n",
              "          google.colab.kernel.accessAllowed ? 'block' : 'none';\n",
              "\n",
              "        async function convertToInteractive(key) {\n",
              "          const element = document.querySelector('#df-a92a67a9-eda8-436c-a7e8-1fd03f6ebf14');\n",
              "          const dataTable =\n",
              "            await google.colab.kernel.invokeFunction('convertToInteractive',\n",
              "                                                     [key], {});\n",
              "          if (!dataTable) return;\n",
              "\n",
              "          const docLinkHtml = 'Like what you see? Visit the ' +\n",
              "            '<a target=\"_blank\" href=https://colab.research.google.com/notebooks/data_table.ipynb>data table notebook</a>'\n",
              "            + ' to learn more about interactive tables.';\n",
              "          element.innerHTML = '';\n",
              "          dataTable['output_type'] = 'display_data';\n",
              "          await google.colab.output.renderOutput(dataTable, element);\n",
              "          const docLink = document.createElement('div');\n",
              "          docLink.innerHTML = docLinkHtml;\n",
              "          element.appendChild(docLink);\n",
              "        }\n",
              "      </script>\n",
              "    </div>\n",
              "  </div>\n",
              "  "
            ]
          },
          "metadata": {},
          "execution_count": 38
        }
      ]
    },
    {
      "cell_type": "code",
      "source": [
        "# Trouver les outliers de chaque cluster\n",
        "# ceux dont l'index est -1\n",
        "def outliers(df):\n",
        "  outliers=[]\n",
        "  for i in range(len(df)):\n",
        "    outliers.append(df[i]['tweet'].loc[df[i]['pred']==-1])\n",
        "  return outliers"
      ],
      "metadata": {
        "id": "pf6ZCC9jm0jW"
      },
      "execution_count": 39,
      "outputs": []
    },
    {
      "cell_type": "code",
      "source": [
        "liste_cluster=[\"km25\",\"km50\",\"km100\",\"som100\",\"som225\",\"som400\"]"
      ],
      "metadata": {
        "id": "qtfRwW1omB8P"
      },
      "execution_count": 44,
      "outputs": []
    },
    {
      "cell_type": "code",
      "execution_count": 41,
      "metadata": {
        "id": "MjIFW46YAzB5"
      },
      "outputs": [],
      "source": [
        "def save_outliers(outliers,string):\n",
        "  for i in range(len(outliers)):\n",
        "    with open(f\"drive/MyDrive/std/\"+string+f\"/outliers_{i}\", 'w') as f:\n",
        "      for line in outliers[i]:\n",
        "        f.write(line)"
      ]
    },
    {
      "cell_type": "code",
      "source": [
        "def loop_outliers(data, liste):\n",
        "  for i in range(len(data)):\n",
        "    save_outliers(outliers(data[i]),liste[i])"
      ],
      "metadata": {
        "id": "uxQ1z7hKkqqd"
      },
      "execution_count": 42,
      "outputs": []
    },
    {
      "cell_type": "code",
      "source": [
        "loop_outliers(data, liste_cluster)"
      ],
      "metadata": {
        "id": "emM_byAcmblu"
      },
      "execution_count": 45,
      "outputs": []
    }
  ],
  "metadata": {
    "colab": {
      "name": "IF_cluster_std.ipynb",
      "provenance": []
    },
    "kernelspec": {
      "display_name": "Python 3",
      "name": "python3"
    },
    "language_info": {
      "name": "python"
    }
  },
  "nbformat": 4,
  "nbformat_minor": 0
}