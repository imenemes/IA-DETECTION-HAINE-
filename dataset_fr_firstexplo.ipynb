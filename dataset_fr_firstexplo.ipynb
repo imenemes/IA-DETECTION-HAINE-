{
  "cells": [
    {
      "cell_type": "markdown",
      "metadata": {
        "id": "8V1z6clywC9B"
      },
      "source": [
        "\n",
        "# Hate Speech Detection par classification"
      ]
    },
    {
      "cell_type": "code",
      "source": [
        "!python -m spacy download fr_core_news_sm\n",
        "#importer le vocabulaire français\n",
        "import spacy"
      ],
      "metadata": {
        "id": "-iinTdS-RxwU"
      },
      "execution_count": null,
      "outputs": []
    },
    {
      "cell_type": "code",
      "execution_count": null,
      "metadata": {
        "id": "sBAVaH1UBHXv"
      },
      "outputs": [],
      "source": [
        "import pandas as pd\n",
        "import glob"
      ]
    },
    {
      "cell_type": "code",
      "source": [
        "from google.colab import drive\n",
        "drive.mount('/content/drive')"
      ],
      "metadata": {
        "colab": {
          "base_uri": "https://localhost:8080/"
        },
        "id": "eJZ6V8NGBI7B",
        "outputId": "cc15afd2-453f-4953-baa1-6abf4d71cf34"
      },
      "execution_count": null,
      "outputs": [
        {
          "output_type": "stream",
          "name": "stdout",
          "text": [
            "Drive already mounted at /content/drive; to attempt to forcibly remount, call drive.mount(\"/content/drive\", force_remount=True).\n"
          ]
        }
      ]
    },
    {
      "cell_type": "code",
      "source": [
        "path_files = r\"/content/drive/MyDrive/Data_M/\""
      ],
      "metadata": {
        "id": "5bK_XzqVBb36"
      },
      "execution_count": null,
      "outputs": []
    },
    {
      "cell_type": "code",
      "execution_count": null,
      "metadata": {
        "id": "XeKVcJyqwMt0"
      },
      "outputs": [],
      "source": [
        "training_dataset = pd.read_csv(f\"{path_files}fr_dataset.csv\")"
      ]
    },
    {
      "cell_type": "markdown",
      "source": [
        "**Préparation des tweets** "
      ],
      "metadata": {
        "id": "G7PQkxwPML-5"
      }
    },
    {
      "cell_type": "code",
      "execution_count": null,
      "metadata": {
        "id": "PeFdkXe0rm-d",
        "colab": {
          "base_uri": "https://localhost:8080/",
          "height": 354
        },
        "outputId": "beef34fa-3e09-476d-da71-0484015494a5"
      },
      "outputs": [
        {
          "output_type": "execute_result",
          "data": {
            "text/plain": [
              "   HITId                                              tweet  sentiment  \\\n",
              "0      1  rt @user personnage ainsi q tte la clique gauc...    abusive   \n",
              "1      2  @user @user @user bah oui t'as raison l'autre ...  offensive   \n",
              "2      3  moi j'ai personne à qui m'adresser pour réclam...    hateful   \n",
              "3      4  @user @user c...est vrai que les anchois sont ...     normal   \n",
              "4      5            eh les renois faut se réveiller la @url     normal   \n",
              "\n",
              "  directness                   annotator_sentiment  target            group  \\\n",
              "0     direct                                 shock  origin            other   \n",
              "1   indirect                                 shock   other       individual   \n",
              "2     direct  anger_confusion_sadness_fear_disgust   other            women   \n",
              "3   indirect                          indifference   other            other   \n",
              "4     direct                               sadness  origin  african_descent   \n",
              "\n",
              "   text length  \n",
              "0          128  \n",
              "1           62  \n",
              "2          120  \n",
              "3          102  \n",
              "4           39  "
            ],
            "text/html": [
              "\n",
              "  <div id=\"df-c6d0f549-f4dc-4ff3-ad70-f82e0ad540cf\">\n",
              "    <div class=\"colab-df-container\">\n",
              "      <div>\n",
              "<style scoped>\n",
              "    .dataframe tbody tr th:only-of-type {\n",
              "        vertical-align: middle;\n",
              "    }\n",
              "\n",
              "    .dataframe tbody tr th {\n",
              "        vertical-align: top;\n",
              "    }\n",
              "\n",
              "    .dataframe thead th {\n",
              "        text-align: right;\n",
              "    }\n",
              "</style>\n",
              "<table border=\"1\" class=\"dataframe\">\n",
              "  <thead>\n",
              "    <tr style=\"text-align: right;\">\n",
              "      <th></th>\n",
              "      <th>HITId</th>\n",
              "      <th>tweet</th>\n",
              "      <th>sentiment</th>\n",
              "      <th>directness</th>\n",
              "      <th>annotator_sentiment</th>\n",
              "      <th>target</th>\n",
              "      <th>group</th>\n",
              "      <th>text length</th>\n",
              "    </tr>\n",
              "  </thead>\n",
              "  <tbody>\n",
              "    <tr>\n",
              "      <th>0</th>\n",
              "      <td>1</td>\n",
              "      <td>rt @user personnage ainsi q tte la clique gauc...</td>\n",
              "      <td>abusive</td>\n",
              "      <td>direct</td>\n",
              "      <td>shock</td>\n",
              "      <td>origin</td>\n",
              "      <td>other</td>\n",
              "      <td>128</td>\n",
              "    </tr>\n",
              "    <tr>\n",
              "      <th>1</th>\n",
              "      <td>2</td>\n",
              "      <td>@user @user @user bah oui t'as raison l'autre ...</td>\n",
              "      <td>offensive</td>\n",
              "      <td>indirect</td>\n",
              "      <td>shock</td>\n",
              "      <td>other</td>\n",
              "      <td>individual</td>\n",
              "      <td>62</td>\n",
              "    </tr>\n",
              "    <tr>\n",
              "      <th>2</th>\n",
              "      <td>3</td>\n",
              "      <td>moi j'ai personne à qui m'adresser pour réclam...</td>\n",
              "      <td>hateful</td>\n",
              "      <td>direct</td>\n",
              "      <td>anger_confusion_sadness_fear_disgust</td>\n",
              "      <td>other</td>\n",
              "      <td>women</td>\n",
              "      <td>120</td>\n",
              "    </tr>\n",
              "    <tr>\n",
              "      <th>3</th>\n",
              "      <td>4</td>\n",
              "      <td>@user @user c...est vrai que les anchois sont ...</td>\n",
              "      <td>normal</td>\n",
              "      <td>indirect</td>\n",
              "      <td>indifference</td>\n",
              "      <td>other</td>\n",
              "      <td>other</td>\n",
              "      <td>102</td>\n",
              "    </tr>\n",
              "    <tr>\n",
              "      <th>4</th>\n",
              "      <td>5</td>\n",
              "      <td>eh les renois faut se réveiller la @url</td>\n",
              "      <td>normal</td>\n",
              "      <td>direct</td>\n",
              "      <td>sadness</td>\n",
              "      <td>origin</td>\n",
              "      <td>african_descent</td>\n",
              "      <td>39</td>\n",
              "    </tr>\n",
              "  </tbody>\n",
              "</table>\n",
              "</div>\n",
              "      <button class=\"colab-df-convert\" onclick=\"convertToInteractive('df-c6d0f549-f4dc-4ff3-ad70-f82e0ad540cf')\"\n",
              "              title=\"Convert this dataframe to an interactive table.\"\n",
              "              style=\"display:none;\">\n",
              "        \n",
              "  <svg xmlns=\"http://www.w3.org/2000/svg\" height=\"24px\"viewBox=\"0 0 24 24\"\n",
              "       width=\"24px\">\n",
              "    <path d=\"M0 0h24v24H0V0z\" fill=\"none\"/>\n",
              "    <path d=\"M18.56 5.44l.94 2.06.94-2.06 2.06-.94-2.06-.94-.94-2.06-.94 2.06-2.06.94zm-11 1L8.5 8.5l.94-2.06 2.06-.94-2.06-.94L8.5 2.5l-.94 2.06-2.06.94zm10 10l.94 2.06.94-2.06 2.06-.94-2.06-.94-.94-2.06-.94 2.06-2.06.94z\"/><path d=\"M17.41 7.96l-1.37-1.37c-.4-.4-.92-.59-1.43-.59-.52 0-1.04.2-1.43.59L10.3 9.45l-7.72 7.72c-.78.78-.78 2.05 0 2.83L4 21.41c.39.39.9.59 1.41.59.51 0 1.02-.2 1.41-.59l7.78-7.78 2.81-2.81c.8-.78.8-2.07 0-2.86zM5.41 20L4 18.59l7.72-7.72 1.47 1.35L5.41 20z\"/>\n",
              "  </svg>\n",
              "      </button>\n",
              "      \n",
              "  <style>\n",
              "    .colab-df-container {\n",
              "      display:flex;\n",
              "      flex-wrap:wrap;\n",
              "      gap: 12px;\n",
              "    }\n",
              "\n",
              "    .colab-df-convert {\n",
              "      background-color: #E8F0FE;\n",
              "      border: none;\n",
              "      border-radius: 50%;\n",
              "      cursor: pointer;\n",
              "      display: none;\n",
              "      fill: #1967D2;\n",
              "      height: 32px;\n",
              "      padding: 0 0 0 0;\n",
              "      width: 32px;\n",
              "    }\n",
              "\n",
              "    .colab-df-convert:hover {\n",
              "      background-color: #E2EBFA;\n",
              "      box-shadow: 0px 1px 2px rgba(60, 64, 67, 0.3), 0px 1px 3px 1px rgba(60, 64, 67, 0.15);\n",
              "      fill: #174EA6;\n",
              "    }\n",
              "\n",
              "    [theme=dark] .colab-df-convert {\n",
              "      background-color: #3B4455;\n",
              "      fill: #D2E3FC;\n",
              "    }\n",
              "\n",
              "    [theme=dark] .colab-df-convert:hover {\n",
              "      background-color: #434B5C;\n",
              "      box-shadow: 0px 1px 3px 1px rgba(0, 0, 0, 0.15);\n",
              "      filter: drop-shadow(0px 1px 2px rgba(0, 0, 0, 0.3));\n",
              "      fill: #FFFFFF;\n",
              "    }\n",
              "  </style>\n",
              "\n",
              "      <script>\n",
              "        const buttonEl =\n",
              "          document.querySelector('#df-c6d0f549-f4dc-4ff3-ad70-f82e0ad540cf button.colab-df-convert');\n",
              "        buttonEl.style.display =\n",
              "          google.colab.kernel.accessAllowed ? 'block' : 'none';\n",
              "\n",
              "        async function convertToInteractive(key) {\n",
              "          const element = document.querySelector('#df-c6d0f549-f4dc-4ff3-ad70-f82e0ad540cf');\n",
              "          const dataTable =\n",
              "            await google.colab.kernel.invokeFunction('convertToInteractive',\n",
              "                                                     [key], {});\n",
              "          if (!dataTable) return;\n",
              "\n",
              "          const docLinkHtml = 'Like what you see? Visit the ' +\n",
              "            '<a target=\"_blank\" href=https://colab.research.google.com/notebooks/data_table.ipynb>data table notebook</a>'\n",
              "            + ' to learn more about interactive tables.';\n",
              "          element.innerHTML = '';\n",
              "          dataTable['output_type'] = 'display_data';\n",
              "          await google.colab.output.renderOutput(dataTable, element);\n",
              "          const docLink = document.createElement('div');\n",
              "          docLink.innerHTML = docLinkHtml;\n",
              "          element.appendChild(docLink);\n",
              "        }\n",
              "      </script>\n",
              "    </div>\n",
              "  </div>\n",
              "  "
            ]
          },
          "metadata": {},
          "execution_count": 6
        }
      ],
      "source": [
        "# Ajout de la longueur du texte en tant que variable dans le jeu de données \n",
        "training_dataset['text length'] = training_dataset['tweet'].apply(len)\n",
        "\n",
        "training_dataset.head()"
      ]
    },
    {
      "cell_type": "code",
      "execution_count": null,
      "metadata": {
        "id": "3jh5t5oaEsH7",
        "colab": {
          "base_uri": "https://localhost:8080/"
        },
        "outputId": "a27eed8e-b7eb-4030-cc37-3364c3c360b5"
      },
      "outputs": [
        {
          "output_type": "execute_result",
          "data": {
            "text/plain": [
              "HITId                   int64\n",
              "tweet                  object\n",
              "sentiment              object\n",
              "directness             object\n",
              "annotator_sentiment    object\n",
              "target                 object\n",
              "group                  object\n",
              "text length             int64\n",
              "dtype: object"
            ]
          },
          "metadata": {},
          "execution_count": 7
        }
      ],
      "source": [
        "#Obtenir les datatypes des colonnes \n",
        "training_dataset.dtypes"
      ]
    },
    {
      "cell_type": "code",
      "execution_count": null,
      "metadata": {
        "id": "jy5oywArE98T",
        "colab": {
          "base_uri": "https://localhost:8080/"
        },
        "outputId": "6e63eb97-4554-4ed9-c763-18b4cd74ad1d"
      },
      "outputs": [
        {
          "output_type": "execute_result",
          "data": {
            "text/plain": [
              "0"
            ]
          },
          "metadata": {},
          "execution_count": 8
        }
      ],
      "source": [
        "#Vérifier s'il n'y a pas de valeur nulle qui se trouve dans le dataset \n",
        "import numpy as np\n",
        "np.sum(training_dataset.isnull().any(axis=1))"
      ]
    },
    {
      "cell_type": "code",
      "execution_count": null,
      "metadata": {
        "id": "92XZ43ELFJ3k",
        "colab": {
          "base_uri": "https://localhost:8080/"
        },
        "outputId": "eba37fb9-5520-4df1-a495-dc00010c07d8"
      },
      "outputs": [
        {
          "output_type": "stream",
          "name": "stdout",
          "text": [
            "Nombre de tweets dans le dataset: 4014\n"
          ]
        }
      ],
      "source": [
        "print('Nombre de tweets dans le dataset:', len(training_dataset))"
      ]
    },
    {
      "cell_type": "code",
      "execution_count": null,
      "metadata": {
        "id": "RE67wRyvL97J"
      },
      "outputs": [],
      "source": [
        "#collecter uniquement les tweets du fichier csv dans une variable nommée tweet\n",
        "tweet_isole = training_dataset['tweet']"
      ]
    },
    {
      "cell_type": "code",
      "execution_count": null,
      "metadata": {
        "id": "sSuSObUirSuq",
        "colab": {
          "base_uri": "https://localhost:8080/"
        },
        "outputId": "96d488e4-1315-4888-8cb8-b86a31b51e5f"
      },
      "outputs": [
        {
          "output_type": "execute_result",
          "data": {
            "text/plain": [
              "69"
            ]
          },
          "metadata": {},
          "execution_count": 11
        }
      ],
      "source": [
        "#vérifier les target values uniques \n",
        "labels =training_dataset['sentiment'].unique()\n",
        "len(labels)"
      ]
    },
    {
      "cell_type": "markdown",
      "source": [
        "On remarque qu'il y a beaucoup de target (classes),  un Tweets peut avoir plsuieurs qualification , dans notre cas , nous voulons faire une classification binaire."
      ],
      "metadata": {
        "id": "eKvrpFX9O_oq"
      }
    },
    {
      "cell_type": "markdown",
      "source": [
        "On commence par enlever les colonnes qui ne nous interesse pas dans le cadre de notre étude, soit la colonne sentiment  qui représente le sentiment que représente le tweet "
      ],
      "metadata": {
        "id": "1uel_7TAPMMU"
      }
    },
    {
      "cell_type": "code",
      "execution_count": null,
      "metadata": {
        "id": "1mN6IkmsrhIS",
        "colab": {
          "base_uri": "https://localhost:8080/",
          "height": 206
        },
        "outputId": "1c6ae6bf-aa8b-49a1-9a3f-20e0f66b3de5"
      },
      "outputs": [
        {
          "output_type": "execute_result",
          "data": {
            "text/plain": [
              "   HITId                                              tweet  sentiment  \\\n",
              "0      1  rt @user personnage ainsi q tte la clique gauc...    abusive   \n",
              "1      2  @user @user @user bah oui t'as raison l'autre ...  offensive   \n",
              "2      3  moi j'ai personne à qui m'adresser pour réclam...    hateful   \n",
              "3      4  @user @user c...est vrai que les anchois sont ...     normal   \n",
              "4      5            eh les renois faut se réveiller la @url     normal   \n",
              "\n",
              "   text length  \n",
              "0          128  \n",
              "1           62  \n",
              "2          120  \n",
              "3          102  \n",
              "4           39  "
            ],
            "text/html": [
              "\n",
              "  <div id=\"df-46764296-08cd-4203-abdd-e348986ee9b3\">\n",
              "    <div class=\"colab-df-container\">\n",
              "      <div>\n",
              "<style scoped>\n",
              "    .dataframe tbody tr th:only-of-type {\n",
              "        vertical-align: middle;\n",
              "    }\n",
              "\n",
              "    .dataframe tbody tr th {\n",
              "        vertical-align: top;\n",
              "    }\n",
              "\n",
              "    .dataframe thead th {\n",
              "        text-align: right;\n",
              "    }\n",
              "</style>\n",
              "<table border=\"1\" class=\"dataframe\">\n",
              "  <thead>\n",
              "    <tr style=\"text-align: right;\">\n",
              "      <th></th>\n",
              "      <th>HITId</th>\n",
              "      <th>tweet</th>\n",
              "      <th>sentiment</th>\n",
              "      <th>text length</th>\n",
              "    </tr>\n",
              "  </thead>\n",
              "  <tbody>\n",
              "    <tr>\n",
              "      <th>0</th>\n",
              "      <td>1</td>\n",
              "      <td>rt @user personnage ainsi q tte la clique gauc...</td>\n",
              "      <td>abusive</td>\n",
              "      <td>128</td>\n",
              "    </tr>\n",
              "    <tr>\n",
              "      <th>1</th>\n",
              "      <td>2</td>\n",
              "      <td>@user @user @user bah oui t'as raison l'autre ...</td>\n",
              "      <td>offensive</td>\n",
              "      <td>62</td>\n",
              "    </tr>\n",
              "    <tr>\n",
              "      <th>2</th>\n",
              "      <td>3</td>\n",
              "      <td>moi j'ai personne à qui m'adresser pour réclam...</td>\n",
              "      <td>hateful</td>\n",
              "      <td>120</td>\n",
              "    </tr>\n",
              "    <tr>\n",
              "      <th>3</th>\n",
              "      <td>4</td>\n",
              "      <td>@user @user c...est vrai que les anchois sont ...</td>\n",
              "      <td>normal</td>\n",
              "      <td>102</td>\n",
              "    </tr>\n",
              "    <tr>\n",
              "      <th>4</th>\n",
              "      <td>5</td>\n",
              "      <td>eh les renois faut se réveiller la @url</td>\n",
              "      <td>normal</td>\n",
              "      <td>39</td>\n",
              "    </tr>\n",
              "  </tbody>\n",
              "</table>\n",
              "</div>\n",
              "      <button class=\"colab-df-convert\" onclick=\"convertToInteractive('df-46764296-08cd-4203-abdd-e348986ee9b3')\"\n",
              "              title=\"Convert this dataframe to an interactive table.\"\n",
              "              style=\"display:none;\">\n",
              "        \n",
              "  <svg xmlns=\"http://www.w3.org/2000/svg\" height=\"24px\"viewBox=\"0 0 24 24\"\n",
              "       width=\"24px\">\n",
              "    <path d=\"M0 0h24v24H0V0z\" fill=\"none\"/>\n",
              "    <path d=\"M18.56 5.44l.94 2.06.94-2.06 2.06-.94-2.06-.94-.94-2.06-.94 2.06-2.06.94zm-11 1L8.5 8.5l.94-2.06 2.06-.94-2.06-.94L8.5 2.5l-.94 2.06-2.06.94zm10 10l.94 2.06.94-2.06 2.06-.94-2.06-.94-.94-2.06-.94 2.06-2.06.94z\"/><path d=\"M17.41 7.96l-1.37-1.37c-.4-.4-.92-.59-1.43-.59-.52 0-1.04.2-1.43.59L10.3 9.45l-7.72 7.72c-.78.78-.78 2.05 0 2.83L4 21.41c.39.39.9.59 1.41.59.51 0 1.02-.2 1.41-.59l7.78-7.78 2.81-2.81c.8-.78.8-2.07 0-2.86zM5.41 20L4 18.59l7.72-7.72 1.47 1.35L5.41 20z\"/>\n",
              "  </svg>\n",
              "      </button>\n",
              "      \n",
              "  <style>\n",
              "    .colab-df-container {\n",
              "      display:flex;\n",
              "      flex-wrap:wrap;\n",
              "      gap: 12px;\n",
              "    }\n",
              "\n",
              "    .colab-df-convert {\n",
              "      background-color: #E8F0FE;\n",
              "      border: none;\n",
              "      border-radius: 50%;\n",
              "      cursor: pointer;\n",
              "      display: none;\n",
              "      fill: #1967D2;\n",
              "      height: 32px;\n",
              "      padding: 0 0 0 0;\n",
              "      width: 32px;\n",
              "    }\n",
              "\n",
              "    .colab-df-convert:hover {\n",
              "      background-color: #E2EBFA;\n",
              "      box-shadow: 0px 1px 2px rgba(60, 64, 67, 0.3), 0px 1px 3px 1px rgba(60, 64, 67, 0.15);\n",
              "      fill: #174EA6;\n",
              "    }\n",
              "\n",
              "    [theme=dark] .colab-df-convert {\n",
              "      background-color: #3B4455;\n",
              "      fill: #D2E3FC;\n",
              "    }\n",
              "\n",
              "    [theme=dark] .colab-df-convert:hover {\n",
              "      background-color: #434B5C;\n",
              "      box-shadow: 0px 1px 3px 1px rgba(0, 0, 0, 0.15);\n",
              "      filter: drop-shadow(0px 1px 2px rgba(0, 0, 0, 0.3));\n",
              "      fill: #FFFFFF;\n",
              "    }\n",
              "  </style>\n",
              "\n",
              "      <script>\n",
              "        const buttonEl =\n",
              "          document.querySelector('#df-46764296-08cd-4203-abdd-e348986ee9b3 button.colab-df-convert');\n",
              "        buttonEl.style.display =\n",
              "          google.colab.kernel.accessAllowed ? 'block' : 'none';\n",
              "\n",
              "        async function convertToInteractive(key) {\n",
              "          const element = document.querySelector('#df-46764296-08cd-4203-abdd-e348986ee9b3');\n",
              "          const dataTable =\n",
              "            await google.colab.kernel.invokeFunction('convertToInteractive',\n",
              "                                                     [key], {});\n",
              "          if (!dataTable) return;\n",
              "\n",
              "          const docLinkHtml = 'Like what you see? Visit the ' +\n",
              "            '<a target=\"_blank\" href=https://colab.research.google.com/notebooks/data_table.ipynb>data table notebook</a>'\n",
              "            + ' to learn more about interactive tables.';\n",
              "          element.innerHTML = '';\n",
              "          dataTable['output_type'] = 'display_data';\n",
              "          await google.colab.output.renderOutput(dataTable, element);\n",
              "          const docLink = document.createElement('div');\n",
              "          docLink.innerHTML = docLinkHtml;\n",
              "          element.appendChild(docLink);\n",
              "        }\n",
              "      </script>\n",
              "    </div>\n",
              "  </div>\n",
              "  "
            ]
          },
          "metadata": {},
          "execution_count": 12
        }
      ],
      "source": [
        "updated_df = training_dataset.drop(['directness', 'annotator_sentiment', 'target', 'group'], axis=1)\n",
        "updated_df.head()"
      ]
    },
    {
      "cell_type": "markdown",
      "source": [
        "Dans ce qui suit , on met à 0 quand le sentiment est \"normal\" sinon ça sera 1, ce qui nous donnera un problème de classification binaire .\n",
        "\n",
        "C'est une première stratégie pour essayer de construire un modèle capable de reconnaitre les tweets haineux , cet etiquettage peut être revu."
      ],
      "metadata": {
        "id": "nNYwUVoLP94_"
      }
    },
    {
      "cell_type": "code",
      "execution_count": null,
      "metadata": {
        "id": "cGYLJ-JbrbOI",
        "colab": {
          "base_uri": "https://localhost:8080/",
          "height": 206
        },
        "outputId": "66857972-6a7b-4df2-c184-ce176b2aaf5c"
      },
      "outputs": [
        {
          "output_type": "execute_result",
          "data": {
            "text/plain": [
              "   HITId                                              tweet  sentiment  \\\n",
              "0      1  rt @user personnage ainsi q tte la clique gauc...          1   \n",
              "1      2  @user @user @user bah oui t'as raison l'autre ...          1   \n",
              "2      3  moi j'ai personne à qui m'adresser pour réclam...          1   \n",
              "3      4  @user @user c...est vrai que les anchois sont ...          0   \n",
              "4      5            eh les renois faut se réveiller la @url          0   \n",
              "\n",
              "   text length  \n",
              "0          128  \n",
              "1           62  \n",
              "2          120  \n",
              "3          102  \n",
              "4           39  "
            ],
            "text/html": [
              "\n",
              "  <div id=\"df-82e901ea-2224-4928-a47e-dce3359d1dcc\">\n",
              "    <div class=\"colab-df-container\">\n",
              "      <div>\n",
              "<style scoped>\n",
              "    .dataframe tbody tr th:only-of-type {\n",
              "        vertical-align: middle;\n",
              "    }\n",
              "\n",
              "    .dataframe tbody tr th {\n",
              "        vertical-align: top;\n",
              "    }\n",
              "\n",
              "    .dataframe thead th {\n",
              "        text-align: right;\n",
              "    }\n",
              "</style>\n",
              "<table border=\"1\" class=\"dataframe\">\n",
              "  <thead>\n",
              "    <tr style=\"text-align: right;\">\n",
              "      <th></th>\n",
              "      <th>HITId</th>\n",
              "      <th>tweet</th>\n",
              "      <th>sentiment</th>\n",
              "      <th>text length</th>\n",
              "    </tr>\n",
              "  </thead>\n",
              "  <tbody>\n",
              "    <tr>\n",
              "      <th>0</th>\n",
              "      <td>1</td>\n",
              "      <td>rt @user personnage ainsi q tte la clique gauc...</td>\n",
              "      <td>1</td>\n",
              "      <td>128</td>\n",
              "    </tr>\n",
              "    <tr>\n",
              "      <th>1</th>\n",
              "      <td>2</td>\n",
              "      <td>@user @user @user bah oui t'as raison l'autre ...</td>\n",
              "      <td>1</td>\n",
              "      <td>62</td>\n",
              "    </tr>\n",
              "    <tr>\n",
              "      <th>2</th>\n",
              "      <td>3</td>\n",
              "      <td>moi j'ai personne à qui m'adresser pour réclam...</td>\n",
              "      <td>1</td>\n",
              "      <td>120</td>\n",
              "    </tr>\n",
              "    <tr>\n",
              "      <th>3</th>\n",
              "      <td>4</td>\n",
              "      <td>@user @user c...est vrai que les anchois sont ...</td>\n",
              "      <td>0</td>\n",
              "      <td>102</td>\n",
              "    </tr>\n",
              "    <tr>\n",
              "      <th>4</th>\n",
              "      <td>5</td>\n",
              "      <td>eh les renois faut se réveiller la @url</td>\n",
              "      <td>0</td>\n",
              "      <td>39</td>\n",
              "    </tr>\n",
              "  </tbody>\n",
              "</table>\n",
              "</div>\n",
              "      <button class=\"colab-df-convert\" onclick=\"convertToInteractive('df-82e901ea-2224-4928-a47e-dce3359d1dcc')\"\n",
              "              title=\"Convert this dataframe to an interactive table.\"\n",
              "              style=\"display:none;\">\n",
              "        \n",
              "  <svg xmlns=\"http://www.w3.org/2000/svg\" height=\"24px\"viewBox=\"0 0 24 24\"\n",
              "       width=\"24px\">\n",
              "    <path d=\"M0 0h24v24H0V0z\" fill=\"none\"/>\n",
              "    <path d=\"M18.56 5.44l.94 2.06.94-2.06 2.06-.94-2.06-.94-.94-2.06-.94 2.06-2.06.94zm-11 1L8.5 8.5l.94-2.06 2.06-.94-2.06-.94L8.5 2.5l-.94 2.06-2.06.94zm10 10l.94 2.06.94-2.06 2.06-.94-2.06-.94-.94-2.06-.94 2.06-2.06.94z\"/><path d=\"M17.41 7.96l-1.37-1.37c-.4-.4-.92-.59-1.43-.59-.52 0-1.04.2-1.43.59L10.3 9.45l-7.72 7.72c-.78.78-.78 2.05 0 2.83L4 21.41c.39.39.9.59 1.41.59.51 0 1.02-.2 1.41-.59l7.78-7.78 2.81-2.81c.8-.78.8-2.07 0-2.86zM5.41 20L4 18.59l7.72-7.72 1.47 1.35L5.41 20z\"/>\n",
              "  </svg>\n",
              "      </button>\n",
              "      \n",
              "  <style>\n",
              "    .colab-df-container {\n",
              "      display:flex;\n",
              "      flex-wrap:wrap;\n",
              "      gap: 12px;\n",
              "    }\n",
              "\n",
              "    .colab-df-convert {\n",
              "      background-color: #E8F0FE;\n",
              "      border: none;\n",
              "      border-radius: 50%;\n",
              "      cursor: pointer;\n",
              "      display: none;\n",
              "      fill: #1967D2;\n",
              "      height: 32px;\n",
              "      padding: 0 0 0 0;\n",
              "      width: 32px;\n",
              "    }\n",
              "\n",
              "    .colab-df-convert:hover {\n",
              "      background-color: #E2EBFA;\n",
              "      box-shadow: 0px 1px 2px rgba(60, 64, 67, 0.3), 0px 1px 3px 1px rgba(60, 64, 67, 0.15);\n",
              "      fill: #174EA6;\n",
              "    }\n",
              "\n",
              "    [theme=dark] .colab-df-convert {\n",
              "      background-color: #3B4455;\n",
              "      fill: #D2E3FC;\n",
              "    }\n",
              "\n",
              "    [theme=dark] .colab-df-convert:hover {\n",
              "      background-color: #434B5C;\n",
              "      box-shadow: 0px 1px 3px 1px rgba(0, 0, 0, 0.15);\n",
              "      filter: drop-shadow(0px 1px 2px rgba(0, 0, 0, 0.3));\n",
              "      fill: #FFFFFF;\n",
              "    }\n",
              "  </style>\n",
              "\n",
              "      <script>\n",
              "        const buttonEl =\n",
              "          document.querySelector('#df-82e901ea-2224-4928-a47e-dce3359d1dcc button.colab-df-convert');\n",
              "        buttonEl.style.display =\n",
              "          google.colab.kernel.accessAllowed ? 'block' : 'none';\n",
              "\n",
              "        async function convertToInteractive(key) {\n",
              "          const element = document.querySelector('#df-82e901ea-2224-4928-a47e-dce3359d1dcc');\n",
              "          const dataTable =\n",
              "            await google.colab.kernel.invokeFunction('convertToInteractive',\n",
              "                                                     [key], {});\n",
              "          if (!dataTable) return;\n",
              "\n",
              "          const docLinkHtml = 'Like what you see? Visit the ' +\n",
              "            '<a target=\"_blank\" href=https://colab.research.google.com/notebooks/data_table.ipynb>data table notebook</a>'\n",
              "            + ' to learn more about interactive tables.';\n",
              "          element.innerHTML = '';\n",
              "          dataTable['output_type'] = 'display_data';\n",
              "          await google.colab.output.renderOutput(dataTable, element);\n",
              "          const docLink = document.createElement('div');\n",
              "          docLink.innerHTML = docLinkHtml;\n",
              "          element.appendChild(docLink);\n",
              "        }\n",
              "      </script>\n",
              "    </div>\n",
              "  </div>\n",
              "  "
            ]
          },
          "metadata": {},
          "execution_count": 13
        }
      ],
      "source": [
        "#Convertir les valeurs string de la colonne « Sentiment » en format binaire, c'est-à-dire soit « 0 » pour normal et « 1 » pour hateful \n",
        "updated_df['sentiment'] = updated_df['sentiment'].map(lambda sentiment: 0 if sentiment == 'normal' else 1)\n",
        "updated_df['sentiment'] = updated_df['sentiment'].astype(int)\n",
        "updated_df.head()"
      ]
    },
    {
      "cell_type": "code",
      "execution_count": null,
      "metadata": {
        "id": "wJwh6aFur3iJ",
        "colab": {
          "base_uri": "https://localhost:8080/"
        },
        "outputId": "9b07c5ea-a3c0-4076-89ae-08b5308657cb"
      },
      "outputs": [
        {
          "output_type": "stream",
          "name": "stdout",
          "text": [
            "0       1\n",
            "1       1\n",
            "2       1\n",
            "3       0\n",
            "4       0\n",
            "       ..\n",
            "4009    1\n",
            "4010    1\n",
            "4011    1\n",
            "4012    0\n",
            "4013    1\n",
            "Name: sentiment, Length: 4014, dtype: int64\n"
          ]
        }
      ],
      "source": [
        "# isoler les sentiments targets du fichier csv dans une variable nommée Y\n",
        "Y = updated_df['sentiment']\n",
        "\n",
        "print(Y)"
      ]
    },
    {
      "cell_type": "markdown",
      "metadata": {
        "id": "LEc-t0YNqT8-"
      },
      "source": [
        "## Nettoyage des tweets "
      ]
    },
    {
      "cell_type": "code",
      "execution_count": null,
      "metadata": {
        "id": "BmftoENaqTOa",
        "colab": {
          "base_uri": "https://localhost:8080/",
          "height": 206
        },
        "outputId": "ce292eff-2968-4549-ab4f-e9f1d4c16a5a"
      },
      "outputs": [
        {
          "output_type": "execute_result",
          "data": {
            "text/plain": [
              "   HITId                                              tweet  sentiment  \\\n",
              "0      1  rt @user personnage ainsi q tte la clique gauc...          1   \n",
              "1      2  @user @user @user bah oui t'as raison l'autre ...          1   \n",
              "2      3  moi j'ai personne à qui m'adresser pour réclam...          1   \n",
              "3      4  @user @user c...est vrai que les anchois sont ...          0   \n",
              "4      5            eh les renois faut se réveiller la @url          0   \n",
              "\n",
              "   text length                                        clean_tweet  \n",
              "0          128  rt personnage ainsi q tte la clique gauchiste ...  \n",
              "1           62       bah oui t'as raison l'autre c'est un mongol.  \n",
              "2          120  moi j'ai personne à qui m'adresser pour réclam...  \n",
              "3          102  c...est vrai que les anchois sont aller sur la...  \n",
              "4           39                 eh les renois faut se réveiller la  "
            ],
            "text/html": [
              "\n",
              "  <div id=\"df-c3623154-2fca-43e3-9608-af4f8e0dc206\">\n",
              "    <div class=\"colab-df-container\">\n",
              "      <div>\n",
              "<style scoped>\n",
              "    .dataframe tbody tr th:only-of-type {\n",
              "        vertical-align: middle;\n",
              "    }\n",
              "\n",
              "    .dataframe tbody tr th {\n",
              "        vertical-align: top;\n",
              "    }\n",
              "\n",
              "    .dataframe thead th {\n",
              "        text-align: right;\n",
              "    }\n",
              "</style>\n",
              "<table border=\"1\" class=\"dataframe\">\n",
              "  <thead>\n",
              "    <tr style=\"text-align: right;\">\n",
              "      <th></th>\n",
              "      <th>HITId</th>\n",
              "      <th>tweet</th>\n",
              "      <th>sentiment</th>\n",
              "      <th>text length</th>\n",
              "      <th>clean_tweet</th>\n",
              "    </tr>\n",
              "  </thead>\n",
              "  <tbody>\n",
              "    <tr>\n",
              "      <th>0</th>\n",
              "      <td>1</td>\n",
              "      <td>rt @user personnage ainsi q tte la clique gauc...</td>\n",
              "      <td>1</td>\n",
              "      <td>128</td>\n",
              "      <td>rt personnage ainsi q tte la clique gauchiste ...</td>\n",
              "    </tr>\n",
              "    <tr>\n",
              "      <th>1</th>\n",
              "      <td>2</td>\n",
              "      <td>@user @user @user bah oui t'as raison l'autre ...</td>\n",
              "      <td>1</td>\n",
              "      <td>62</td>\n",
              "      <td>bah oui t'as raison l'autre c'est un mongol.</td>\n",
              "    </tr>\n",
              "    <tr>\n",
              "      <th>2</th>\n",
              "      <td>3</td>\n",
              "      <td>moi j'ai personne à qui m'adresser pour réclam...</td>\n",
              "      <td>1</td>\n",
              "      <td>120</td>\n",
              "      <td>moi j'ai personne à qui m'adresser pour réclam...</td>\n",
              "    </tr>\n",
              "    <tr>\n",
              "      <th>3</th>\n",
              "      <td>4</td>\n",
              "      <td>@user @user c...est vrai que les anchois sont ...</td>\n",
              "      <td>0</td>\n",
              "      <td>102</td>\n",
              "      <td>c...est vrai que les anchois sont aller sur la...</td>\n",
              "    </tr>\n",
              "    <tr>\n",
              "      <th>4</th>\n",
              "      <td>5</td>\n",
              "      <td>eh les renois faut se réveiller la @url</td>\n",
              "      <td>0</td>\n",
              "      <td>39</td>\n",
              "      <td>eh les renois faut se réveiller la</td>\n",
              "    </tr>\n",
              "  </tbody>\n",
              "</table>\n",
              "</div>\n",
              "      <button class=\"colab-df-convert\" onclick=\"convertToInteractive('df-c3623154-2fca-43e3-9608-af4f8e0dc206')\"\n",
              "              title=\"Convert this dataframe to an interactive table.\"\n",
              "              style=\"display:none;\">\n",
              "        \n",
              "  <svg xmlns=\"http://www.w3.org/2000/svg\" height=\"24px\"viewBox=\"0 0 24 24\"\n",
              "       width=\"24px\">\n",
              "    <path d=\"M0 0h24v24H0V0z\" fill=\"none\"/>\n",
              "    <path d=\"M18.56 5.44l.94 2.06.94-2.06 2.06-.94-2.06-.94-.94-2.06-.94 2.06-2.06.94zm-11 1L8.5 8.5l.94-2.06 2.06-.94-2.06-.94L8.5 2.5l-.94 2.06-2.06.94zm10 10l.94 2.06.94-2.06 2.06-.94-2.06-.94-.94-2.06-.94 2.06-2.06.94z\"/><path d=\"M17.41 7.96l-1.37-1.37c-.4-.4-.92-.59-1.43-.59-.52 0-1.04.2-1.43.59L10.3 9.45l-7.72 7.72c-.78.78-.78 2.05 0 2.83L4 21.41c.39.39.9.59 1.41.59.51 0 1.02-.2 1.41-.59l7.78-7.78 2.81-2.81c.8-.78.8-2.07 0-2.86zM5.41 20L4 18.59l7.72-7.72 1.47 1.35L5.41 20z\"/>\n",
              "  </svg>\n",
              "      </button>\n",
              "      \n",
              "  <style>\n",
              "    .colab-df-container {\n",
              "      display:flex;\n",
              "      flex-wrap:wrap;\n",
              "      gap: 12px;\n",
              "    }\n",
              "\n",
              "    .colab-df-convert {\n",
              "      background-color: #E8F0FE;\n",
              "      border: none;\n",
              "      border-radius: 50%;\n",
              "      cursor: pointer;\n",
              "      display: none;\n",
              "      fill: #1967D2;\n",
              "      height: 32px;\n",
              "      padding: 0 0 0 0;\n",
              "      width: 32px;\n",
              "    }\n",
              "\n",
              "    .colab-df-convert:hover {\n",
              "      background-color: #E2EBFA;\n",
              "      box-shadow: 0px 1px 2px rgba(60, 64, 67, 0.3), 0px 1px 3px 1px rgba(60, 64, 67, 0.15);\n",
              "      fill: #174EA6;\n",
              "    }\n",
              "\n",
              "    [theme=dark] .colab-df-convert {\n",
              "      background-color: #3B4455;\n",
              "      fill: #D2E3FC;\n",
              "    }\n",
              "\n",
              "    [theme=dark] .colab-df-convert:hover {\n",
              "      background-color: #434B5C;\n",
              "      box-shadow: 0px 1px 3px 1px rgba(0, 0, 0, 0.15);\n",
              "      filter: drop-shadow(0px 1px 2px rgba(0, 0, 0, 0.3));\n",
              "      fill: #FFFFFF;\n",
              "    }\n",
              "  </style>\n",
              "\n",
              "      <script>\n",
              "        const buttonEl =\n",
              "          document.querySelector('#df-c3623154-2fca-43e3-9608-af4f8e0dc206 button.colab-df-convert');\n",
              "        buttonEl.style.display =\n",
              "          google.colab.kernel.accessAllowed ? 'block' : 'none';\n",
              "\n",
              "        async function convertToInteractive(key) {\n",
              "          const element = document.querySelector('#df-c3623154-2fca-43e3-9608-af4f8e0dc206');\n",
              "          const dataTable =\n",
              "            await google.colab.kernel.invokeFunction('convertToInteractive',\n",
              "                                                     [key], {});\n",
              "          if (!dataTable) return;\n",
              "\n",
              "          const docLinkHtml = 'Like what you see? Visit the ' +\n",
              "            '<a target=\"_blank\" href=https://colab.research.google.com/notebooks/data_table.ipynb>data table notebook</a>'\n",
              "            + ' to learn more about interactive tables.';\n",
              "          element.innerHTML = '';\n",
              "          dataTable['output_type'] = 'display_data';\n",
              "          await google.colab.output.renderOutput(dataTable, element);\n",
              "          const docLink = document.createElement('div');\n",
              "          docLink.innerHTML = docLinkHtml;\n",
              "          element.appendChild(docLink);\n",
              "        }\n",
              "      </script>\n",
              "    </div>\n",
              "  </div>\n",
              "  "
            ]
          },
          "metadata": {},
          "execution_count": 15
        }
      ],
      "source": [
        "#Suppresion des @mention\n",
        "updated_df['clean_tweet'] = updated_df['tweet'].apply(lambda x : ' '.join([tweet for tweet in x.split()if not tweet.startswith(\"@\")]))\n",
        "\n",
        "updated_df.head()"
      ]
    },
    {
      "cell_type": "code",
      "execution_count": null,
      "metadata": {
        "id": "xGx61eMWxDt-",
        "colab": {
          "base_uri": "https://localhost:8080/"
        },
        "outputId": "259e31d1-eee7-45e1-eb1f-2013a6c70ca1"
      },
      "outputs": [
        {
          "output_type": "execute_result",
          "data": {
            "text/plain": [
              "HITId                                                        918\n",
              "tweet          @user @user il 19 ans l'attardé il lui faut du...\n",
              "sentiment                                                      1\n",
              "text length                                                  105\n",
              "clean_tweet    il  ans l'attardé il lui faut du temps et pour...\n",
              "Name: 917, dtype: object"
            ]
          },
          "metadata": {},
          "execution_count": 16
        }
      ],
      "source": [
        "import re \n",
        "#Suppression des chiffres \n",
        "updated_df['clean_tweet'] = updated_df['clean_tweet'].apply(lambda elem: re.sub(r\"\\d+\", \"\", elem))\n",
        "\n",
        "#affichage d'un tweet qui contient des chiffres afin de confirmer qu'ils ont effectivement été enlevés \n",
        "updated_df.loc[917]"
      ]
    },
    {
      "cell_type": "code",
      "execution_count": null,
      "metadata": {
        "id": "xbGafcmiztyW"
      },
      "outputs": [],
      "source": [
        "#Identification des mots qui viennent à la suite d'un #, c'est-à-dire les hastags\n",
        "updated_df['#'] = updated_df['clean_tweet'].apply(lambda x : ' '.join([word for word in x.split() if word.startswith('#')]))\n",
        "\n",
        "updated_df[10:20]"
      ]
    },
    {
      "cell_type": "code",
      "execution_count": null,
      "metadata": {
        "id": "lEJVs2Gd4f8R",
        "colab": {
          "base_uri": "https://localhost:8080/"
        },
        "outputId": "76aa838f-cd4b-460f-f6da-05eadb78ff4e"
      },
      "outputs": [
        {
          "output_type": "execute_result",
          "data": {
            "text/plain": [
              "10                    #duisburg\n",
              "11                             \n",
              "12                             \n",
              "13                             \n",
              "14                             \n",
              "15    #lejouroujaibrulemoncoeur\n",
              "16                             \n",
              "17                             \n",
              "18                             \n",
              "19                             \n",
              "Name: #, dtype: object"
            ]
          },
          "metadata": {},
          "execution_count": 19
        }
      ],
      "source": [
        "frame = updated_df['#']\n",
        "frame[10:20]"
      ]
    },
    {
      "cell_type": "code",
      "execution_count": null,
      "metadata": {
        "id": "iUUOuCSoDfLE"
      },
      "outputs": [],
      "source": [
        "frame = pd.DataFrame(frame)"
      ]
    },
    {
      "cell_type": "code",
      "execution_count": null,
      "metadata": {
        "id": "FstyfaFpDhGQ"
      },
      "outputs": [],
      "source": [
        "frame = frame.rename({'#':'Count(#)'},axis = 'columns')\n",
        "frame[10:20]"
      ]
    },
    {
      "cell_type": "code",
      "execution_count": null,
      "metadata": {
        "id": "KYSR0jsADhLc"
      },
      "outputs": [],
      "source": [
        "frame[frame['Count(#)'] == ''] = 'Aucun hashtag'\n",
        "frame[10:20]"
      ]
    },
    {
      "cell_type": "code",
      "execution_count": null,
      "metadata": {
        "id": "_y5_5klcD7Zp"
      },
      "outputs": [],
      "source": [
        "data_frame = pd.concat([updated_df,frame],axis = 1)\n",
        "data_frame[10:20]"
      ]
    },
    {
      "cell_type": "code",
      "execution_count": null,
      "metadata": {
        "id": "0SF-4EPXERdH"
      },
      "outputs": [],
      "source": [
        "data_frame.drop('#',axis = 1,inplace = True)"
      ]
    },
    {
      "cell_type": "code",
      "execution_count": null,
      "metadata": {
        "id": "51RL2SfEHjYQ"
      },
      "outputs": [],
      "source": [
        "#Colonne indiquant si le tweet correspondant a un mot tagué par hash ou non \n",
        "data_frame = data_frame.rename({'Count(#)':'Hashtags'},axis = 'columns')\n",
        "data_frame.head()"
      ]
    },
    {
      "cell_type": "code",
      "source": [
        "%%time\n",
        "from spacy.lang.fr.stop_words import STOP_WORDS as fr_stop\n",
        "stop_words = list(fr_stop)\n",
        "#Nombre total de stop words fr par défaut de Spacy \n",
        "print('Nombre de stop words: %d' % len(stop_words))"
      ],
      "metadata": {
        "colab": {
          "base_uri": "https://localhost:8080/"
        },
        "id": "ABZPAmdFRz2P",
        "outputId": "0912c53b-e4a9-4f5c-a074-b9649b3350b0"
      },
      "execution_count": null,
      "outputs": [
        {
          "output_type": "stream",
          "name": "stdout",
          "text": [
            "Nombre de stop words: 507\n",
            "CPU times: user 2.44 ms, sys: 1.05 ms, total: 3.49 ms\n",
            "Wall time: 3.64 ms\n"
          ]
        }
      ]
    },
    {
      "cell_type": "code",
      "execution_count": null,
      "metadata": {
        "id": "kwZsMh_PLSPs"
      },
      "outputs": [],
      "source": [
        "#Suppression des stopwords figurant dans la liste fr de Spacy\n",
        "data_frame['clean_tweet'] = data_frame['clean_tweet'].apply(lambda x : ' '.join([word for word in x.split() if not word in set(stop_words)]))"
      ]
    },
    {
      "cell_type": "code",
      "execution_count": null,
      "metadata": {
        "id": "_iZTMApPLTyN",
        "colab": {
          "base_uri": "https://localhost:8080/",
          "height": 285
        },
        "outputId": "988e5ec2-e83d-4bdf-c91d-9844f5a8751a"
      },
      "outputs": [
        {
          "output_type": "execute_result",
          "data": {
            "text/plain": [
              "   HITId                                              tweet  sentiment  \\\n",
              "0      1  rt @user personnage ainsi q tte la clique gauc...          1   \n",
              "1      2  @user @user @user bah oui t'as raison l'autre ...          1   \n",
              "2      3  moi j'ai personne à qui m'adresser pour réclam...          1   \n",
              "3      4  @user @user c...est vrai que les anchois sont ...          0   \n",
              "4      5            eh les renois faut se réveiller la @url          0   \n",
              "\n",
              "   text length                                        clean_tweet  \\\n",
              "0          128  rt personnage q tte clique gauchiste deguise m...   \n",
              "1           62          bah oui t'as raison l'autre c'est mongol.   \n",
              "2          120  j'ai m'adresser réclamer. voisin c'est attardé...   \n",
              "3          102  c...est vrai anchois aller lune invente millio...   \n",
              "4           39                              renois faut réveiller   \n",
              "\n",
              "        Hashtags  \n",
              "0  Aucun hashtag  \n",
              "1  Aucun hashtag  \n",
              "2  Aucun hashtag  \n",
              "3  Aucun hashtag  \n",
              "4  Aucun hashtag  "
            ],
            "text/html": [
              "\n",
              "  <div id=\"df-13dcf0ec-7182-4e0e-b0bd-16f6baec0b45\">\n",
              "    <div class=\"colab-df-container\">\n",
              "      <div>\n",
              "<style scoped>\n",
              "    .dataframe tbody tr th:only-of-type {\n",
              "        vertical-align: middle;\n",
              "    }\n",
              "\n",
              "    .dataframe tbody tr th {\n",
              "        vertical-align: top;\n",
              "    }\n",
              "\n",
              "    .dataframe thead th {\n",
              "        text-align: right;\n",
              "    }\n",
              "</style>\n",
              "<table border=\"1\" class=\"dataframe\">\n",
              "  <thead>\n",
              "    <tr style=\"text-align: right;\">\n",
              "      <th></th>\n",
              "      <th>HITId</th>\n",
              "      <th>tweet</th>\n",
              "      <th>sentiment</th>\n",
              "      <th>text length</th>\n",
              "      <th>clean_tweet</th>\n",
              "      <th>Hashtags</th>\n",
              "    </tr>\n",
              "  </thead>\n",
              "  <tbody>\n",
              "    <tr>\n",
              "      <th>0</th>\n",
              "      <td>1</td>\n",
              "      <td>rt @user personnage ainsi q tte la clique gauc...</td>\n",
              "      <td>1</td>\n",
              "      <td>128</td>\n",
              "      <td>rt personnage q tte clique gauchiste deguise m...</td>\n",
              "      <td>Aucun hashtag</td>\n",
              "    </tr>\n",
              "    <tr>\n",
              "      <th>1</th>\n",
              "      <td>2</td>\n",
              "      <td>@user @user @user bah oui t'as raison l'autre ...</td>\n",
              "      <td>1</td>\n",
              "      <td>62</td>\n",
              "      <td>bah oui t'as raison l'autre c'est mongol.</td>\n",
              "      <td>Aucun hashtag</td>\n",
              "    </tr>\n",
              "    <tr>\n",
              "      <th>2</th>\n",
              "      <td>3</td>\n",
              "      <td>moi j'ai personne à qui m'adresser pour réclam...</td>\n",
              "      <td>1</td>\n",
              "      <td>120</td>\n",
              "      <td>j'ai m'adresser réclamer. voisin c'est attardé...</td>\n",
              "      <td>Aucun hashtag</td>\n",
              "    </tr>\n",
              "    <tr>\n",
              "      <th>3</th>\n",
              "      <td>4</td>\n",
              "      <td>@user @user c...est vrai que les anchois sont ...</td>\n",
              "      <td>0</td>\n",
              "      <td>102</td>\n",
              "      <td>c...est vrai anchois aller lune invente millio...</td>\n",
              "      <td>Aucun hashtag</td>\n",
              "    </tr>\n",
              "    <tr>\n",
              "      <th>4</th>\n",
              "      <td>5</td>\n",
              "      <td>eh les renois faut se réveiller la @url</td>\n",
              "      <td>0</td>\n",
              "      <td>39</td>\n",
              "      <td>renois faut réveiller</td>\n",
              "      <td>Aucun hashtag</td>\n",
              "    </tr>\n",
              "  </tbody>\n",
              "</table>\n",
              "</div>\n",
              "      <button class=\"colab-df-convert\" onclick=\"convertToInteractive('df-13dcf0ec-7182-4e0e-b0bd-16f6baec0b45')\"\n",
              "              title=\"Convert this dataframe to an interactive table.\"\n",
              "              style=\"display:none;\">\n",
              "        \n",
              "  <svg xmlns=\"http://www.w3.org/2000/svg\" height=\"24px\"viewBox=\"0 0 24 24\"\n",
              "       width=\"24px\">\n",
              "    <path d=\"M0 0h24v24H0V0z\" fill=\"none\"/>\n",
              "    <path d=\"M18.56 5.44l.94 2.06.94-2.06 2.06-.94-2.06-.94-.94-2.06-.94 2.06-2.06.94zm-11 1L8.5 8.5l.94-2.06 2.06-.94-2.06-.94L8.5 2.5l-.94 2.06-2.06.94zm10 10l.94 2.06.94-2.06 2.06-.94-2.06-.94-.94-2.06-.94 2.06-2.06.94z\"/><path d=\"M17.41 7.96l-1.37-1.37c-.4-.4-.92-.59-1.43-.59-.52 0-1.04.2-1.43.59L10.3 9.45l-7.72 7.72c-.78.78-.78 2.05 0 2.83L4 21.41c.39.39.9.59 1.41.59.51 0 1.02-.2 1.41-.59l7.78-7.78 2.81-2.81c.8-.78.8-2.07 0-2.86zM5.41 20L4 18.59l7.72-7.72 1.47 1.35L5.41 20z\"/>\n",
              "  </svg>\n",
              "      </button>\n",
              "      \n",
              "  <style>\n",
              "    .colab-df-container {\n",
              "      display:flex;\n",
              "      flex-wrap:wrap;\n",
              "      gap: 12px;\n",
              "    }\n",
              "\n",
              "    .colab-df-convert {\n",
              "      background-color: #E8F0FE;\n",
              "      border: none;\n",
              "      border-radius: 50%;\n",
              "      cursor: pointer;\n",
              "      display: none;\n",
              "      fill: #1967D2;\n",
              "      height: 32px;\n",
              "      padding: 0 0 0 0;\n",
              "      width: 32px;\n",
              "    }\n",
              "\n",
              "    .colab-df-convert:hover {\n",
              "      background-color: #E2EBFA;\n",
              "      box-shadow: 0px 1px 2px rgba(60, 64, 67, 0.3), 0px 1px 3px 1px rgba(60, 64, 67, 0.15);\n",
              "      fill: #174EA6;\n",
              "    }\n",
              "\n",
              "    [theme=dark] .colab-df-convert {\n",
              "      background-color: #3B4455;\n",
              "      fill: #D2E3FC;\n",
              "    }\n",
              "\n",
              "    [theme=dark] .colab-df-convert:hover {\n",
              "      background-color: #434B5C;\n",
              "      box-shadow: 0px 1px 3px 1px rgba(0, 0, 0, 0.15);\n",
              "      filter: drop-shadow(0px 1px 2px rgba(0, 0, 0, 0.3));\n",
              "      fill: #FFFFFF;\n",
              "    }\n",
              "  </style>\n",
              "\n",
              "      <script>\n",
              "        const buttonEl =\n",
              "          document.querySelector('#df-13dcf0ec-7182-4e0e-b0bd-16f6baec0b45 button.colab-df-convert');\n",
              "        buttonEl.style.display =\n",
              "          google.colab.kernel.accessAllowed ? 'block' : 'none';\n",
              "\n",
              "        async function convertToInteractive(key) {\n",
              "          const element = document.querySelector('#df-13dcf0ec-7182-4e0e-b0bd-16f6baec0b45');\n",
              "          const dataTable =\n",
              "            await google.colab.kernel.invokeFunction('convertToInteractive',\n",
              "                                                     [key], {});\n",
              "          if (!dataTable) return;\n",
              "\n",
              "          const docLinkHtml = 'Like what you see? Visit the ' +\n",
              "            '<a target=\"_blank\" href=https://colab.research.google.com/notebooks/data_table.ipynb>data table notebook</a>'\n",
              "            + ' to learn more about interactive tables.';\n",
              "          element.innerHTML = '';\n",
              "          dataTable['output_type'] = 'display_data';\n",
              "          await google.colab.output.renderOutput(dataTable, element);\n",
              "          const docLink = document.createElement('div');\n",
              "          docLink.innerHTML = docLinkHtml;\n",
              "          element.appendChild(docLink);\n",
              "        }\n",
              "      </script>\n",
              "    </div>\n",
              "  </div>\n",
              "  "
            ]
          },
          "metadata": {},
          "execution_count": 31
        }
      ],
      "source": [
        "data_frame.head()\n",
        "#On remarque que les mots-vides tels que qui, que, les, etc. ont été enlevés dans la colonne clean_tweet"
      ]
    },
    {
      "cell_type": "code",
      "execution_count": null,
      "metadata": {
        "id": "nyQ7HSOuP7I9"
      },
      "outputs": [],
      "source": [
        "#Tokenisation\n",
        "corpus = []\n",
        "for i in range(0,4013):\n",
        "    tweet = data_frame['clean_tweet'][i]\n",
        "    tweet = tweet.lower()\n",
        "    tweet = tweet.split()\n",
        "    tweet = ' '.join(tweet)\n",
        "    corpus.append(tweet)"
      ]
    },
    {
      "cell_type": "code",
      "execution_count": null,
      "metadata": {
        "id": "pfyDewxxQGec",
        "colab": {
          "base_uri": "https://localhost:8080/"
        },
        "outputId": "a6cda975-da09-4b1b-a82e-44472dcd7192"
      },
      "outputs": [
        {
          "output_type": "execute_result",
          "data": {
            "text/plain": [
              "4013"
            ]
          },
          "metadata": {},
          "execution_count": 34
        }
      ],
      "source": [
        "#S'assurer que tous les tweets sont tokeniser en mots individuels\n",
        "len(corpus)"
      ]
    },
    {
      "cell_type": "code",
      "source": [
        "import seaborn as sns\n",
        "from wordcloud import WordCloud\n",
        "import matplotlib.pyplot as plt "
      ],
      "metadata": {
        "id": "RN7BwkRNS1kp"
      },
      "execution_count": null,
      "outputs": []
    },
    {
      "cell_type": "markdown",
      "metadata": {
        "id": "83EkIV1AbYQg"
      },
      "source": [
        "## Analyse exploratoire des données"
      ]
    },
    {
      "cell_type": "code",
      "execution_count": null,
      "metadata": {
        "id": "tbNt4hEaQT4l",
        "colab": {
          "base_uri": "https://localhost:8080/",
          "height": 485
        },
        "outputId": "b8a53c78-a2e0-46a7-8f20-cdfb74e09ae8"
      },
      "outputs": [
        {
          "output_type": "stream",
          "name": "stdout",
          "text": [
            "Normal words\n"
          ]
        },
        {
          "output_type": "execute_result",
          "data": {
            "text/plain": [
              "(-0.5, 799.5, 499.5, -0.5)"
            ]
          },
          "metadata": {},
          "execution_count": 36
        },
        {
          "output_type": "display_data",
          "data": {
            "text/plain": [
              "<Figure size 864x576 with 1 Axes>"
            ],
            "image/png": "[encoded data removed]"
          },
          "metadata": {
            "needs_background": "light"
          }
        }
      ],
      "source": [
        "#Nuage des mots associés aux tweets haineux \n",
        "normal_words = ' '.join([word for word in data_frame['clean_tweet'][data_frame['sentiment'] == 0]])\n",
        "wordcloud = WordCloud(width = 800, height = 500, max_font_size = 110,max_words = 100).generate(normal_words)\n",
        "print('Normal words')\n",
        "plt.figure(figsize= (12,8))\n",
        "plt.imshow(wordcloud, interpolation = 'bilinear',cmap='viridis')\n",
        "plt.axis('off')"
      ]
    },
    {
      "cell_type": "code",
      "execution_count": null,
      "metadata": {
        "id": "hDqjWvzFblxT",
        "colab": {
          "base_uri": "https://localhost:8080/",
          "height": 243
        },
        "outputId": "927d6b32-77f5-463e-88ca-bf9130550946"
      },
      "outputs": [
        {
          "output_type": "execute_result",
          "data": {
            "text/plain": [
              "<seaborn.axisgrid.FacetGrid at 0x7f06d1d09d90>"
            ]
          },
          "metadata": {},
          "execution_count": 37
        },
        {
          "output_type": "display_data",
          "data": {
            "text/plain": [
              "<Figure size 432x216 with 2 Axes>"
            ],
            "image/png": "[encoded data removed]"
          },
          "metadata": {
            "needs_background": "light"
          }
        }
      ],
      "source": [
        "#Visualisation du text lenght à l'aide d'histogrammes\n",
        "#FacetGrid - Grille multi-plot pour visualiser des relations conditionnelles\n",
        "import seaborn as sns\n",
        "import matplotlib.pyplot as plt\n",
        "graph = sns.FacetGrid(data=data_frame, col='sentiment')\n",
        "graph.map(plt.hist, 'text length', bins=50)"
      ]
    },
    {
      "cell_type": "markdown",
      "metadata": {
        "id": "ynq2gkR1hKPP"
      },
      "source": [
        "On constate que la distribution de la longueur des tweets semble presque être similaire dans les deux classes : tweets neutres (0) vs. tweets haineux (1)."
      ]
    },
    {
      "cell_type": "markdown",
      "metadata": {
        "id": "Lof3Ogjk5Sh6"
      },
      "source": [
        "## Fréquence des n-grammes "
      ]
    },
    {
      "cell_type": "code",
      "execution_count": null,
      "metadata": {
        "id": "mxYVNe8S9ttV"
      },
      "outputs": [],
      "source": [
        "#Définir un corpus composé de tous les tweets \n",
        "tweets_corpus = updated_df[~updated_df['clean_tweet'].isna()]['clean_tweet']\n",
        "tweets_corpus = \" \".join(tweets_corpus.values)"
      ]
    },
    {
      "cell_type": "code",
      "execution_count": null,
      "metadata": {
        "id": "Ms_kl8ZN5RxO"
      },
      "outputs": [],
      "source": [
        "from collections import Counter\n",
        "\n",
        "def ngrammes(tweet, n):\n",
        "     return zip(*[tweet[i:] for i in range(n)])"
      ]
    },
    {
      "cell_type": "code",
      "execution_count": null,
      "metadata": {
        "id": "Bhn-Ie4v5jJM"
      },
      "outputs": [],
      "source": [
        "def afficher_frequence_ngramme(corpus, n, nbre_afficher):\n",
        "    \"\"\"\n",
        "    Générer un DataFrame de n-grammes et leurs fréquences \n",
        "    \"\"\"\n",
        "    ngrammes_comptage = Counter(ngrammes(corpus.split(), n))\n",
        "    plus_frequents = ngrammes_comptage.most_common(nbre_afficher)\n",
        "\n",
        "    ngramme = []\n",
        "    comptage = []\n",
        "    for i in range(0,len(plus_frequents)):\n",
        "        ngramme.append(\" \".join(plus_frequents[i][0]))\n",
        "        comptage.append(plus_frequents[i][1])\n",
        "\n",
        "    if n > 3:\n",
        "        col = f\"{n}-gramme\"\n",
        "    if n == 3:\n",
        "        col = 'Tri-gramme'\n",
        "    if n == 2:\n",
        "        col = 'Bi-gramme'\n",
        "\n",
        "    return pd.DataFrame(zip(ngramme, comptage), columns=[col, \"Nombre\"])"
      ]
    },
    {
      "cell_type": "code",
      "execution_count": null,
      "metadata": {
        "id": "rZ-xr13I5khO",
        "colab": {
          "base_uri": "https://localhost:8080/",
          "height": 363
        },
        "outputId": "e708e2c9-d6ca-4490-9080-8648ee5073b6"
      },
      "outputs": [
        {
          "output_type": "execute_result",
          "data": {
            "text/plain": [
              "               Tri-gramme  Nombre\n",
              "0              je ne suis      20\n",
              "1          les renois qui      18\n",
              "2           de sale arabe      17\n",
              "3          de la violence      15\n",
              "4             ne suis pas      15\n",
              "5         comme un mongol      14\n",
              "6  des migrants africains      13\n",
              "7          les rebeus qui      13\n",
              "8           les renois et      13\n",
              "9             ce genre de      13"
            ],
            "text/html": [
              "\n",
              "  <div id=\"df-f5bb6686-f99a-4d89-9ae3-243d9825b7ae\">\n",
              "    <div class=\"colab-df-container\">\n",
              "      <div>\n",
              "<style scoped>\n",
              "    .dataframe tbody tr th:only-of-type {\n",
              "        vertical-align: middle;\n",
              "    }\n",
              "\n",
              "    .dataframe tbody tr th {\n",
              "        vertical-align: top;\n",
              "    }\n",
              "\n",
              "    .dataframe thead th {\n",
              "        text-align: right;\n",
              "    }\n",
              "</style>\n",
              "<table border=\"1\" class=\"dataframe\">\n",
              "  <thead>\n",
              "    <tr style=\"text-align: right;\">\n",
              "      <th></th>\n",
              "      <th>Tri-gramme</th>\n",
              "      <th>Nombre</th>\n",
              "    </tr>\n",
              "  </thead>\n",
              "  <tbody>\n",
              "    <tr>\n",
              "      <th>0</th>\n",
              "      <td>je ne suis</td>\n",
              "      <td>20</td>\n",
              "    </tr>\n",
              "    <tr>\n",
              "      <th>1</th>\n",
              "      <td>les renois qui</td>\n",
              "      <td>18</td>\n",
              "    </tr>\n",
              "    <tr>\n",
              "      <th>2</th>\n",
              "      <td>de sale arabe</td>\n",
              "      <td>17</td>\n",
              "    </tr>\n",
              "    <tr>\n",
              "      <th>3</th>\n",
              "      <td>de la violence</td>\n",
              "      <td>15</td>\n",
              "    </tr>\n",
              "    <tr>\n",
              "      <th>4</th>\n",
              "      <td>ne suis pas</td>\n",
              "      <td>15</td>\n",
              "    </tr>\n",
              "    <tr>\n",
              "      <th>5</th>\n",
              "      <td>comme un mongol</td>\n",
              "      <td>14</td>\n",
              "    </tr>\n",
              "    <tr>\n",
              "      <th>6</th>\n",
              "      <td>des migrants africains</td>\n",
              "      <td>13</td>\n",
              "    </tr>\n",
              "    <tr>\n",
              "      <th>7</th>\n",
              "      <td>les rebeus qui</td>\n",
              "      <td>13</td>\n",
              "    </tr>\n",
              "    <tr>\n",
              "      <th>8</th>\n",
              "      <td>les renois et</td>\n",
              "      <td>13</td>\n",
              "    </tr>\n",
              "    <tr>\n",
              "      <th>9</th>\n",
              "      <td>ce genre de</td>\n",
              "      <td>13</td>\n",
              "    </tr>\n",
              "  </tbody>\n",
              "</table>\n",
              "</div>\n",
              "      <button class=\"colab-df-convert\" onclick=\"convertToInteractive('df-f5bb6686-f99a-4d89-9ae3-243d9825b7ae')\"\n",
              "              title=\"Convert this dataframe to an interactive table.\"\n",
              "              style=\"display:none;\">\n",
              "        \n",
              "  <svg xmlns=\"http://www.w3.org/2000/svg\" height=\"24px\"viewBox=\"0 0 24 24\"\n",
              "       width=\"24px\">\n",
              "    <path d=\"M0 0h24v24H0V0z\" fill=\"none\"/>\n",
              "    <path d=\"M18.56 5.44l.94 2.06.94-2.06 2.06-.94-2.06-.94-.94-2.06-.94 2.06-2.06.94zm-11 1L8.5 8.5l.94-2.06 2.06-.94-2.06-.94L8.5 2.5l-.94 2.06-2.06.94zm10 10l.94 2.06.94-2.06 2.06-.94-2.06-.94-.94-2.06-.94 2.06-2.06.94z\"/><path d=\"M17.41 7.96l-1.37-1.37c-.4-.4-.92-.59-1.43-.59-.52 0-1.04.2-1.43.59L10.3 9.45l-7.72 7.72c-.78.78-.78 2.05 0 2.83L4 21.41c.39.39.9.59 1.41.59.51 0 1.02-.2 1.41-.59l7.78-7.78 2.81-2.81c.8-.78.8-2.07 0-2.86zM5.41 20L4 18.59l7.72-7.72 1.47 1.35L5.41 20z\"/>\n",
              "  </svg>\n",
              "      </button>\n",
              "      \n",
              "  <style>\n",
              "    .colab-df-container {\n",
              "      display:flex;\n",
              "      flex-wrap:wrap;\n",
              "      gap: 12px;\n",
              "    }\n",
              "\n",
              "    .colab-df-convert {\n",
              "      background-color: #E8F0FE;\n",
              "      border: none;\n",
              "      border-radius: 50%;\n",
              "      cursor: pointer;\n",
              "      display: none;\n",
              "      fill: #1967D2;\n",
              "      height: 32px;\n",
              "      padding: 0 0 0 0;\n",
              "      width: 32px;\n",
              "    }\n",
              "\n",
              "    .colab-df-convert:hover {\n",
              "      background-color: #E2EBFA;\n",
              "      box-shadow: 0px 1px 2px rgba(60, 64, 67, 0.3), 0px 1px 3px 1px rgba(60, 64, 67, 0.15);\n",
              "      fill: #174EA6;\n",
              "    }\n",
              "\n",
              "    [theme=dark] .colab-df-convert {\n",
              "      background-color: #3B4455;\n",
              "      fill: #D2E3FC;\n",
              "    }\n",
              "\n",
              "    [theme=dark] .colab-df-convert:hover {\n",
              "      background-color: #434B5C;\n",
              "      box-shadow: 0px 1px 3px 1px rgba(0, 0, 0, 0.15);\n",
              "      filter: drop-shadow(0px 1px 2px rgba(0, 0, 0, 0.3));\n",
              "      fill: #FFFFFF;\n",
              "    }\n",
              "  </style>\n",
              "\n",
              "      <script>\n",
              "        const buttonEl =\n",
              "          document.querySelector('#df-f5bb6686-f99a-4d89-9ae3-243d9825b7ae button.colab-df-convert');\n",
              "        buttonEl.style.display =\n",
              "          google.colab.kernel.accessAllowed ? 'block' : 'none';\n",
              "\n",
              "        async function convertToInteractive(key) {\n",
              "          const element = document.querySelector('#df-f5bb6686-f99a-4d89-9ae3-243d9825b7ae');\n",
              "          const dataTable =\n",
              "            await google.colab.kernel.invokeFunction('convertToInteractive',\n",
              "                                                     [key], {});\n",
              "          if (!dataTable) return;\n",
              "\n",
              "          const docLinkHtml = 'Like what you see? Visit the ' +\n",
              "            '<a target=\"_blank\" href=https://colab.research.google.com/notebooks/data_table.ipynb>data table notebook</a>'\n",
              "            + ' to learn more about interactive tables.';\n",
              "          element.innerHTML = '';\n",
              "          dataTable['output_type'] = 'display_data';\n",
              "          await google.colab.output.renderOutput(dataTable, element);\n",
              "          const docLink = document.createElement('div');\n",
              "          docLink.innerHTML = docLinkHtml;\n",
              "          element.appendChild(docLink);\n",
              "        }\n",
              "      </script>\n",
              "    </div>\n",
              "  </div>\n",
              "  "
            ]
          },
          "metadata": {},
          "execution_count": 56
        }
      ],
      "source": [
        "afficher_frequence_ngramme(tweets_corpus, n=3, nbre_afficher=10)"
      ]
    },
    {
      "cell_type": "code",
      "execution_count": null,
      "metadata": {
        "id": "4ivnt-N35lp4",
        "colab": {
          "base_uri": "https://localhost:8080/",
          "height": 363
        },
        "outputId": "8d1a6a63-c077-4b01-f5a0-169de33b302b"
      },
      "outputs": [
        {
          "output_type": "execute_result",
          "data": {
            "text/plain": [
              "                       4-gramme  Nombre\n",
              "0                je ne suis pas      15\n",
              "1                ne suis pas un       7\n",
              "2      zemmour sur les migrants       6\n",
              "3           sale arabe de merde       6\n",
              "4   pour ou contre l'avortement       5\n",
              "5               le plus beau de       5\n",
              "6  suis pas un islamo-gauchiste       5\n",
              "7   l'islamisation de la france       5\n",
              "8         faut vraiment être un       5\n",
              "9      vraiment être un attardé       5"
            ],
            "text/html": [
              "\n",
              "  <div id=\"df-dea8c746-afca-45e7-b789-a16e243c9698\">\n",
              "    <div class=\"colab-df-container\">\n",
              "      <div>\n",
              "<style scoped>\n",
              "    .dataframe tbody tr th:only-of-type {\n",
              "        vertical-align: middle;\n",
              "    }\n",
              "\n",
              "    .dataframe tbody tr th {\n",
              "        vertical-align: top;\n",
              "    }\n",
              "\n",
              "    .dataframe thead th {\n",
              "        text-align: right;\n",
              "    }\n",
              "</style>\n",
              "<table border=\"1\" class=\"dataframe\">\n",
              "  <thead>\n",
              "    <tr style=\"text-align: right;\">\n",
              "      <th></th>\n",
              "      <th>4-gramme</th>\n",
              "      <th>Nombre</th>\n",
              "    </tr>\n",
              "  </thead>\n",
              "  <tbody>\n",
              "    <tr>\n",
              "      <th>0</th>\n",
              "      <td>je ne suis pas</td>\n",
              "      <td>15</td>\n",
              "    </tr>\n",
              "    <tr>\n",
              "      <th>1</th>\n",
              "      <td>ne suis pas un</td>\n",
              "      <td>7</td>\n",
              "    </tr>\n",
              "    <tr>\n",
              "      <th>2</th>\n",
              "      <td>zemmour sur les migrants</td>\n",
              "      <td>6</td>\n",
              "    </tr>\n",
              "    <tr>\n",
              "      <th>3</th>\n",
              "      <td>sale arabe de merde</td>\n",
              "      <td>6</td>\n",
              "    </tr>\n",
              "    <tr>\n",
              "      <th>4</th>\n",
              "      <td>pour ou contre l'avortement</td>\n",
              "      <td>5</td>\n",
              "    </tr>\n",
              "    <tr>\n",
              "      <th>5</th>\n",
              "      <td>le plus beau de</td>\n",
              "      <td>5</td>\n",
              "    </tr>\n",
              "    <tr>\n",
              "      <th>6</th>\n",
              "      <td>suis pas un islamo-gauchiste</td>\n",
              "      <td>5</td>\n",
              "    </tr>\n",
              "    <tr>\n",
              "      <th>7</th>\n",
              "      <td>l'islamisation de la france</td>\n",
              "      <td>5</td>\n",
              "    </tr>\n",
              "    <tr>\n",
              "      <th>8</th>\n",
              "      <td>faut vraiment être un</td>\n",
              "      <td>5</td>\n",
              "    </tr>\n",
              "    <tr>\n",
              "      <th>9</th>\n",
              "      <td>vraiment être un attardé</td>\n",
              "      <td>5</td>\n",
              "    </tr>\n",
              "  </tbody>\n",
              "</table>\n",
              "</div>\n",
              "      <button class=\"colab-df-convert\" onclick=\"convertToInteractive('df-dea8c746-afca-45e7-b789-a16e243c9698')\"\n",
              "              title=\"Convert this dataframe to an interactive table.\"\n",
              "              style=\"display:none;\">\n",
              "        \n",
              "  <svg xmlns=\"http://www.w3.org/2000/svg\" height=\"24px\"viewBox=\"0 0 24 24\"\n",
              "       width=\"24px\">\n",
              "    <path d=\"M0 0h24v24H0V0z\" fill=\"none\"/>\n",
              "    <path d=\"M18.56 5.44l.94 2.06.94-2.06 2.06-.94-2.06-.94-.94-2.06-.94 2.06-2.06.94zm-11 1L8.5 8.5l.94-2.06 2.06-.94-2.06-.94L8.5 2.5l-.94 2.06-2.06.94zm10 10l.94 2.06.94-2.06 2.06-.94-2.06-.94-.94-2.06-.94 2.06-2.06.94z\"/><path d=\"M17.41 7.96l-1.37-1.37c-.4-.4-.92-.59-1.43-.59-.52 0-1.04.2-1.43.59L10.3 9.45l-7.72 7.72c-.78.78-.78 2.05 0 2.83L4 21.41c.39.39.9.59 1.41.59.51 0 1.02-.2 1.41-.59l7.78-7.78 2.81-2.81c.8-.78.8-2.07 0-2.86zM5.41 20L4 18.59l7.72-7.72 1.47 1.35L5.41 20z\"/>\n",
              "  </svg>\n",
              "      </button>\n",
              "      \n",
              "  <style>\n",
              "    .colab-df-container {\n",
              "      display:flex;\n",
              "      flex-wrap:wrap;\n",
              "      gap: 12px;\n",
              "    }\n",
              "\n",
              "    .colab-df-convert {\n",
              "      background-color: #E8F0FE;\n",
              "      border: none;\n",
              "      border-radius: 50%;\n",
              "      cursor: pointer;\n",
              "      display: none;\n",
              "      fill: #1967D2;\n",
              "      height: 32px;\n",
              "      padding: 0 0 0 0;\n",
              "      width: 32px;\n",
              "    }\n",
              "\n",
              "    .colab-df-convert:hover {\n",
              "      background-color: #E2EBFA;\n",
              "      box-shadow: 0px 1px 2px rgba(60, 64, 67, 0.3), 0px 1px 3px 1px rgba(60, 64, 67, 0.15);\n",
              "      fill: #174EA6;\n",
              "    }\n",
              "\n",
              "    [theme=dark] .colab-df-convert {\n",
              "      background-color: #3B4455;\n",
              "      fill: #D2E3FC;\n",
              "    }\n",
              "\n",
              "    [theme=dark] .colab-df-convert:hover {\n",
              "      background-color: #434B5C;\n",
              "      box-shadow: 0px 1px 3px 1px rgba(0, 0, 0, 0.15);\n",
              "      filter: drop-shadow(0px 1px 2px rgba(0, 0, 0, 0.3));\n",
              "      fill: #FFFFFF;\n",
              "    }\n",
              "  </style>\n",
              "\n",
              "      <script>\n",
              "        const buttonEl =\n",
              "          document.querySelector('#df-dea8c746-afca-45e7-b789-a16e243c9698 button.colab-df-convert');\n",
              "        buttonEl.style.display =\n",
              "          google.colab.kernel.accessAllowed ? 'block' : 'none';\n",
              "\n",
              "        async function convertToInteractive(key) {\n",
              "          const element = document.querySelector('#df-dea8c746-afca-45e7-b789-a16e243c9698');\n",
              "          const dataTable =\n",
              "            await google.colab.kernel.invokeFunction('convertToInteractive',\n",
              "                                                     [key], {});\n",
              "          if (!dataTable) return;\n",
              "\n",
              "          const docLinkHtml = 'Like what you see? Visit the ' +\n",
              "            '<a target=\"_blank\" href=https://colab.research.google.com/notebooks/data_table.ipynb>data table notebook</a>'\n",
              "            + ' to learn more about interactive tables.';\n",
              "          element.innerHTML = '';\n",
              "          dataTable['output_type'] = 'display_data';\n",
              "          await google.colab.output.renderOutput(dataTable, element);\n",
              "          const docLink = document.createElement('div');\n",
              "          docLink.innerHTML = docLinkHtml;\n",
              "          element.appendChild(docLink);\n",
              "        }\n",
              "      </script>\n",
              "    </div>\n",
              "  </div>\n",
              "  "
            ]
          },
          "metadata": {},
          "execution_count": 57
        }
      ],
      "source": [
        "afficher_frequence_ngramme(tweets_corpus, n=4, nbre_afficher=10)"
      ]
    },
    {
      "cell_type": "markdown",
      "metadata": {
        "id": "nrL9t2RQQyfR"
      },
      "source": [
        "## Balancement des classes "
      ]
    },
    {
      "cell_type": "code",
      "execution_count": null,
      "metadata": {
        "id": "7AmcuiXPQ923",
        "colab": {
          "base_uri": "https://localhost:8080/",
          "height": 622
        },
        "outputId": "d7e28033-61b6-41de-b9f5-0e1a1f81d273"
      },
      "outputs": [
        {
          "output_type": "execute_result",
          "data": {
            "text/plain": [
              "Text(0.5, 1.0, 'Distribution des tweets')"
            ]
          },
          "metadata": {},
          "execution_count": 58
        },
        {
          "output_type": "display_data",
          "data": {
            "text/plain": [
              "<Figure size 720x720 with 1 Axes>"
            ],
            "image/png": "[encoded data removed]"
          },
          "metadata": {
            "needs_background": "light"
          }
        }
      ],
      "source": [
        "plt.figure(figsize=(10, 10))\n",
        "\n",
        "updated_df.sentiment.value_counts().plot(kind='bar').set_title('Distribution des tweets')\n"
      ]
    },
    {
      "cell_type": "code",
      "execution_count": null,
      "metadata": {
        "id": "XAEyOFynGyV1",
        "colab": {
          "base_uri": "https://localhost:8080/"
        },
        "outputId": "1fa5a8a5-f8a8-473c-d607-7ff8363617c2"
      },
      "outputs": [
        {
          "output_type": "stream",
          "name": "stdout",
          "text": [
            "Neutres:  20.453413054309916 %\n",
            "Haineux:  79.5465869456901 %\n"
          ]
        }
      ],
      "source": [
        "#Pourcentage de la proportion de tweets neutres vs. haineux.\n",
        "print(\"Neutres: \", updated_df.sentiment.value_counts()[0]/len(updated_df)*100,\"%\")\n",
        "print(\"Haineux: \", updated_df.sentiment.value_counts()[1]/len(updated_df)*100,\"%\")"
      ]
    },
    {
      "cell_type": "markdown",
      "metadata": {
        "id": "BE-8b6b-xvos"
      },
      "source": [
        "Le graphique ci-haut démontre que les données d'entraînement ne sont pas parfaitement équilibrées, la classe \"1\" (hateful speech) a environ 3 fois plus de données que la classe \"0\" (normal). Je vais essayer d'ajuster un modèle avec trois types de données différentes : suréchantillonnées, sous-échantillonnées et originales afin de voir comment différentes techniques d'échantillonnage affectent l'apprentissage d'un classifieur."
      ]
    },
    {
      "cell_type": "markdown",
      "metadata": {
        "id": "VWBBCp7xyrxc"
      },
      "source": [
        "### Données originales déséquilibrées "
      ]
    },
    {
      "cell_type": "markdown",
      "metadata": {
        "id": "F6rD1kJpGagM"
      },
      "source": [
        "Le classificateur par défaut utilisé pour comparer les performances de différents ensembles de données est la régression logistique. Il semble que Tf-Idf avec la régression logistique est une combinaison assez puissante. Avant d'appliquer d'autres modèles plus complexes tels que CNN ou RNN, les performances avec régression logistique nous donnerons une bonne idée des méthodes d'échantillonnage de données les plus optimales.\n",
        "\n",
        "En termes de validation, K-Fold Cross Validation est utilisé."
      ]
    },
    {
      "cell_type": "markdown",
      "source": [
        "Cette partie est à revoir je pense pourvoir la refaire avec beaucoup moins de lignes de code "
      ],
      "metadata": {
        "id": "UeWgQWrEUj5f"
      }
    },
    {
      "cell_type": "code",
      "execution_count": null,
      "metadata": {
        "id": "mh-OSMKiyqgL"
      },
      "outputs": [],
      "source": [
        "from sklearn.linear_model import LogisticRegression\n",
        "from sklearn.feature_extraction.text import TfidfVectorizer\n",
        "\n",
        "tvec = TfidfVectorizer(stop_words=None, max_features=100000, ngram_range=(1, 3))\n",
        "lr = LogisticRegression()\n",
        "\n",
        "from sklearn.model_selection import StratifiedKFold\n",
        "from sklearn.metrics import precision_score, recall_score, f1_score\n",
        "\n",
        "def lr_cv(splits, X, Y, pipeline, average_method):\n",
        "    \n",
        "    kfold = StratifiedKFold(n_splits=splits, shuffle=True, random_state=777)\n",
        "    accuracy = []\n",
        "    precision = []\n",
        "    recall = []\n",
        "    f1 = []\n",
        "    for train, test in kfold.split(X, Y):\n",
        "        lr_fit = pipeline.fit(X[train], Y[train])\n",
        "        prediction = lr_fit.predict(X[test])\n",
        "        scores = lr_fit.score(X[test],Y[test])\n",
        "        \n",
        "        accuracy.append(scores * 100)\n",
        "        precision.append(precision_score(Y[test], prediction, average=average_method)*100)\n",
        "        print('            negative        positive')\n",
        "        print('precision:',precision_score(Y[test], prediction, average=None))\n",
        "        recall.append(recall_score(Y[test], prediction, average=average_method)*100)\n",
        "        print('recall:   ',recall_score(Y[test], prediction, average=None))\n",
        "        f1.append(f1_score(Y[test], prediction, average=average_method)*100)\n",
        "        print('f1 score: ',f1_score(Y[test], prediction, average=None))\n",
        "        print('-'*50)\n",
        "\n",
        "    print(\"accuracy: %.2f%% (+/- %.2f%%)\" % (np.mean(accuracy), np.std(accuracy)))\n",
        "    print(\"precision: %.2f%% (+/- %.2f%%)\" % (np.mean(precision), np.std(precision)))\n",
        "    print(\"recall: %.2f%% (+/- %.2f%%)\" % (np.mean(recall), np.std(recall)))\n",
        "    print(\"f1 score: %.2f%% (+/- %.2f%%)\" % (np.mean(f1), np.std(f1)))"
      ]
    },
    {
      "cell_type": "code",
      "execution_count": null,
      "metadata": {
        "id": "JO9zSJH3zM6k",
        "colab": {
          "base_uri": "https://localhost:8080/"
        },
        "outputId": "5853d031-292d-46b7-b6fd-0b5feddbbe6d"
      },
      "outputs": [
        {
          "output_type": "stream",
          "name": "stdout",
          "text": [
            "            negative        positive\n",
            "precision: [0.36363636 0.7979798 ]\n",
            "recall:    [0.02439024 0.98904538]\n",
            "f1 score:  [0.04571429 0.88329839]\n",
            "--------------------------------------------------\n",
            "            negative        positive\n",
            "precision: [0.25       0.79599499]\n",
            "recall:    [0.00609756 0.99530516]\n",
            "f1 score:  [0.01190476 0.88456189]\n",
            "--------------------------------------------------\n",
            "            negative        positive\n",
            "precision: [1.         0.79775281]\n",
            "recall:    [0.01219512 1.        ]\n",
            "f1 score:  [0.02409639 0.8875    ]\n",
            "--------------------------------------------------\n",
            "            negative        positive\n",
            "precision: [0.66666667 0.79625   ]\n",
            "recall:    [0.01212121 0.9984326 ]\n",
            "f1 score:  [0.02380952 0.88595271]\n",
            "--------------------------------------------------\n",
            "            negative        positive\n",
            "precision: [0.5        0.79699248]\n",
            "recall:    [0.01219512 0.9968652 ]\n",
            "f1 score:  [0.02380952 0.88579387]\n",
            "--------------------------------------------------\n",
            "accuracy: 79.50% (+/- 0.22%)\n",
            "precision: 67.65% (+/- 13.11%)\n",
            "recall: 50.47% (+/- 0.21%)\n",
            "f1 score: 45.56% (+/- 0.52%)\n"
          ]
        }
      ],
      "source": [
        "from sklearn.pipeline import Pipeline\n",
        "\n",
        "original_pipeline = Pipeline([\n",
        "    ('vectorizer', tvec),\n",
        "    ('classifier', lr)\n",
        "])\n",
        "\n",
        "lr_cv(5, data_frame['clean_tweet'], Y, original_pipeline, 'macro')"
      ]
    },
    {
      "cell_type": "markdown",
      "metadata": {
        "id": "__mVWD5SHRWs"
      },
      "source": [
        "Avec les données telles quelles sans aucun rééchantillonnage, nous pouvons voir que le rappel pour la classe négative (tweets neutres) est très faible. Cela signifie que le classificateur est très pointilleux et ne pense pas que beaucoup de tweets soient non haineux."
      ]
    },
    {
      "cell_type": "markdown",
      "source": [
        "Ici il faut rajouter la matrice de confusion pour expliquer la remarque précédente"
      ],
      "metadata": {
        "id": "WiXP3BdvU9l5"
      }
    },
    {
      "cell_type": "markdown",
      "metadata": {
        "id": "zdrRXjOGJNTP"
      },
      "source": [
        "### Suréchantillonnage (oversampling) des vecteurs numériques "
      ]
    },
    {
      "cell_type": "markdown",
      "metadata": {
        "id": "2IhfOURRJVaA"
      },
      "source": [
        "RandomOverSampler"
      ]
    },
    {
      "cell_type": "code",
      "execution_count": null,
      "metadata": {
        "id": "o09zlCjaJsog"
      },
      "outputs": [],
      "source": [
        "from imblearn.pipeline import make_pipeline\n",
        "from imblearn.over_sampling import ADASYN, SMOTE, RandomOverSampler\n",
        "\n",
        "ROS_pipeline = make_pipeline(tvec, \n",
        "RandomOverSampler(random_state=777),lr)"
      ]
    },
    {
      "cell_type": "code",
      "execution_count": null,
      "metadata": {
        "id": "Ss8AlfpSRbgP"
      },
      "outputs": [],
      "source": [
        "#Test de ce que fait le RandomOverSampler. J'ai extrait ci-dessous les cinq premiers tweets du dataset et leur valeur sentimentale respective\n",
        "#RandomOverSampler consiste simplement à répéter certains échantillons de la classe minoritaire dans le but d'équilibrer le nombre d'échantillons entre les classes dans le dataset\n",
        "\n",
        "sent1 = data_frame['clean_tweet'][0]\n",
        "sent2 = data_frame['clean_tweet'][1]\n",
        "sent3 = data_frame['clean_tweet'][2]\n",
        "sent4 = data_frame['clean_tweet'][3]\n",
        "sent5 = data_frame['clean_tweet'][4]\n",
        "testing_text = pd.Series([sent1, sent2, sent3, sent4, sent5])\n",
        "testing_target = pd.Series([1,1,1,0,0])"
      ]
    },
    {
      "cell_type": "code",
      "execution_count": null,
      "metadata": {
        "id": "dgdzZGkVR71x",
        "colab": {
          "base_uri": "https://localhost:8080/",
          "height": 335
        },
        "outputId": "1cfbf180-942b-4d68-cd60-eb4c49d38f82"
      },
      "outputs": [
        {
          "output_type": "stream",
          "name": "stderr",
          "text": [
            "/usr/local/lib/python3.7/dist-packages/sklearn/utils/deprecation.py:87: FutureWarning: Function get_feature_names is deprecated; get_feature_names is deprecated in 1.0 and will be removed in 1.2. Please use get_feature_names_out instead.\n",
            "  warnings.warn(msg, category=FutureWarning)\n"
          ]
        },
        {
          "output_type": "execute_result",
          "data": {
            "text/plain": [
              "   administrat  adresser        ai     aller   anchois        as   attardé  \\\n",
              "0     0.000000  0.000000  0.000000  0.000000  0.000000  0.000000  0.000000   \n",
              "1     0.000000  0.000000  0.000000  0.000000  0.000000  0.428411  0.000000   \n",
              "2     0.344041  0.344041  0.344041  0.000000  0.000000  0.000000  0.344041   \n",
              "3     0.000000  0.000000  0.000000  0.366408  0.366408  0.000000  0.000000   \n",
              "4     0.000000  0.000000  0.000000  0.000000  0.000000  0.000000  0.000000   \n",
              "\n",
              "      autre   bruyant   clique  ...   renois  requises       rt  réclamer  \\\n",
              "0  0.000000  0.000000  0.27735  ...  0.00000   0.27735  0.27735  0.000000   \n",
              "1  0.428411  0.000000  0.00000  ...  0.00000   0.00000  0.00000  0.000000   \n",
              "2  0.000000  0.344041  0.00000  ...  0.00000   0.00000  0.00000  0.344041   \n",
              "3  0.000000  0.000000  0.00000  ...  0.00000   0.00000  0.00000  0.000000   \n",
              "4  0.000000  0.000000  0.00000  ...  0.57735   0.00000  0.00000  0.000000   \n",
              "\n",
              "   réveiller  technologie      tte     ttes    voisin      vrai  \n",
              "0    0.00000     0.000000  0.27735  0.27735  0.000000  0.000000  \n",
              "1    0.00000     0.000000  0.00000  0.00000  0.000000  0.000000  \n",
              "2    0.00000     0.000000  0.00000  0.00000  0.344041  0.000000  \n",
              "3    0.00000     0.366408  0.00000  0.00000  0.000000  0.366408  \n",
              "4    0.57735     0.000000  0.00000  0.00000  0.000000  0.000000  \n",
              "\n",
              "[5 rows x 37 columns]"
            ],
            "text/html": [
              "\n",
              "  <div id=\"df-925f710e-a736-453b-b3af-f26ea703d351\">\n",
              "    <div class=\"colab-df-container\">\n",
              "      <div>\n",
              "<style scoped>\n",
              "    .dataframe tbody tr th:only-of-type {\n",
              "        vertical-align: middle;\n",
              "    }\n",
              "\n",
              "    .dataframe tbody tr th {\n",
              "        vertical-align: top;\n",
              "    }\n",
              "\n",
              "    .dataframe thead th {\n",
              "        text-align: right;\n",
              "    }\n",
              "</style>\n",
              "<table border=\"1\" class=\"dataframe\">\n",
              "  <thead>\n",
              "    <tr style=\"text-align: right;\">\n",
              "      <th></th>\n",
              "      <th>administrat</th>\n",
              "      <th>adresser</th>\n",
              "      <th>ai</th>\n",
              "      <th>aller</th>\n",
              "      <th>anchois</th>\n",
              "      <th>as</th>\n",
              "      <th>attardé</th>\n",
              "      <th>autre</th>\n",
              "      <th>bruyant</th>\n",
              "      <th>clique</th>\n",
              "      <th>...</th>\n",
              "      <th>renois</th>\n",
              "      <th>requises</th>\n",
              "      <th>rt</th>\n",
              "      <th>réclamer</th>\n",
              "      <th>réveiller</th>\n",
              "      <th>technologie</th>\n",
              "      <th>tte</th>\n",
              "      <th>ttes</th>\n",
              "      <th>voisin</th>\n",
              "      <th>vrai</th>\n",
              "    </tr>\n",
              "  </thead>\n",
              "  <tbody>\n",
              "    <tr>\n",
              "      <th>0</th>\n",
              "      <td>0.000000</td>\n",
              "      <td>0.000000</td>\n",
              "      <td>0.000000</td>\n",
              "      <td>0.000000</td>\n",
              "      <td>0.000000</td>\n",
              "      <td>0.000000</td>\n",
              "      <td>0.000000</td>\n",
              "      <td>0.000000</td>\n",
              "      <td>0.000000</td>\n",
              "      <td>0.27735</td>\n",
              "      <td>...</td>\n",
              "      <td>0.00000</td>\n",
              "      <td>0.27735</td>\n",
              "      <td>0.27735</td>\n",
              "      <td>0.000000</td>\n",
              "      <td>0.00000</td>\n",
              "      <td>0.000000</td>\n",
              "      <td>0.27735</td>\n",
              "      <td>0.27735</td>\n",
              "      <td>0.000000</td>\n",
              "      <td>0.000000</td>\n",
              "    </tr>\n",
              "    <tr>\n",
              "      <th>1</th>\n",
              "      <td>0.000000</td>\n",
              "      <td>0.000000</td>\n",
              "      <td>0.000000</td>\n",
              "      <td>0.000000</td>\n",
              "      <td>0.000000</td>\n",
              "      <td>0.428411</td>\n",
              "      <td>0.000000</td>\n",
              "      <td>0.428411</td>\n",
              "      <td>0.000000</td>\n",
              "      <td>0.00000</td>\n",
              "      <td>...</td>\n",
              "      <td>0.00000</td>\n",
              "      <td>0.00000</td>\n",
              "      <td>0.00000</td>\n",
              "      <td>0.000000</td>\n",
              "      <td>0.00000</td>\n",
              "      <td>0.000000</td>\n",
              "      <td>0.00000</td>\n",
              "      <td>0.00000</td>\n",
              "      <td>0.000000</td>\n",
              "      <td>0.000000</td>\n",
              "    </tr>\n",
              "    <tr>\n",
              "      <th>2</th>\n",
              "      <td>0.344041</td>\n",
              "      <td>0.344041</td>\n",
              "      <td>0.344041</td>\n",
              "      <td>0.000000</td>\n",
              "      <td>0.000000</td>\n",
              "      <td>0.000000</td>\n",
              "      <td>0.344041</td>\n",
              "      <td>0.000000</td>\n",
              "      <td>0.344041</td>\n",
              "      <td>0.00000</td>\n",
              "      <td>...</td>\n",
              "      <td>0.00000</td>\n",
              "      <td>0.00000</td>\n",
              "      <td>0.00000</td>\n",
              "      <td>0.344041</td>\n",
              "      <td>0.00000</td>\n",
              "      <td>0.000000</td>\n",
              "      <td>0.00000</td>\n",
              "      <td>0.00000</td>\n",
              "      <td>0.344041</td>\n",
              "      <td>0.000000</td>\n",
              "    </tr>\n",
              "    <tr>\n",
              "      <th>3</th>\n",
              "      <td>0.000000</td>\n",
              "      <td>0.000000</td>\n",
              "      <td>0.000000</td>\n",
              "      <td>0.366408</td>\n",
              "      <td>0.366408</td>\n",
              "      <td>0.000000</td>\n",
              "      <td>0.000000</td>\n",
              "      <td>0.000000</td>\n",
              "      <td>0.000000</td>\n",
              "      <td>0.00000</td>\n",
              "      <td>...</td>\n",
              "      <td>0.00000</td>\n",
              "      <td>0.00000</td>\n",
              "      <td>0.00000</td>\n",
              "      <td>0.000000</td>\n",
              "      <td>0.00000</td>\n",
              "      <td>0.366408</td>\n",
              "      <td>0.00000</td>\n",
              "      <td>0.00000</td>\n",
              "      <td>0.000000</td>\n",
              "      <td>0.366408</td>\n",
              "    </tr>\n",
              "    <tr>\n",
              "      <th>4</th>\n",
              "      <td>0.000000</td>\n",
              "      <td>0.000000</td>\n",
              "      <td>0.000000</td>\n",
              "      <td>0.000000</td>\n",
              "      <td>0.000000</td>\n",
              "      <td>0.000000</td>\n",
              "      <td>0.000000</td>\n",
              "      <td>0.000000</td>\n",
              "      <td>0.000000</td>\n",
              "      <td>0.00000</td>\n",
              "      <td>...</td>\n",
              "      <td>0.57735</td>\n",
              "      <td>0.00000</td>\n",
              "      <td>0.00000</td>\n",
              "      <td>0.000000</td>\n",
              "      <td>0.57735</td>\n",
              "      <td>0.000000</td>\n",
              "      <td>0.00000</td>\n",
              "      <td>0.00000</td>\n",
              "      <td>0.000000</td>\n",
              "      <td>0.000000</td>\n",
              "    </tr>\n",
              "  </tbody>\n",
              "</table>\n",
              "<p>5 rows × 37 columns</p>\n",
              "</div>\n",
              "      <button class=\"colab-df-convert\" onclick=\"convertToInteractive('df-925f710e-a736-453b-b3af-f26ea703d351')\"\n",
              "              title=\"Convert this dataframe to an interactive table.\"\n",
              "              style=\"display:none;\">\n",
              "        \n",
              "  <svg xmlns=\"http://www.w3.org/2000/svg\" height=\"24px\"viewBox=\"0 0 24 24\"\n",
              "       width=\"24px\">\n",
              "    <path d=\"M0 0h24v24H0V0z\" fill=\"none\"/>\n",
              "    <path d=\"M18.56 5.44l.94 2.06.94-2.06 2.06-.94-2.06-.94-.94-2.06-.94 2.06-2.06.94zm-11 1L8.5 8.5l.94-2.06 2.06-.94-2.06-.94L8.5 2.5l-.94 2.06-2.06.94zm10 10l.94 2.06.94-2.06 2.06-.94-2.06-.94-.94-2.06-.94 2.06-2.06.94z\"/><path d=\"M17.41 7.96l-1.37-1.37c-.4-.4-.92-.59-1.43-.59-.52 0-1.04.2-1.43.59L10.3 9.45l-7.72 7.72c-.78.78-.78 2.05 0 2.83L4 21.41c.39.39.9.59 1.41.59.51 0 1.02-.2 1.41-.59l7.78-7.78 2.81-2.81c.8-.78.8-2.07 0-2.86zM5.41 20L4 18.59l7.72-7.72 1.47 1.35L5.41 20z\"/>\n",
              "  </svg>\n",
              "      </button>\n",
              "      \n",
              "  <style>\n",
              "    .colab-df-container {\n",
              "      display:flex;\n",
              "      flex-wrap:wrap;\n",
              "      gap: 12px;\n",
              "    }\n",
              "\n",
              "    .colab-df-convert {\n",
              "      background-color: #E8F0FE;\n",
              "      border: none;\n",
              "      border-radius: 50%;\n",
              "      cursor: pointer;\n",
              "      display: none;\n",
              "      fill: #1967D2;\n",
              "      height: 32px;\n",
              "      padding: 0 0 0 0;\n",
              "      width: 32px;\n",
              "    }\n",
              "\n",
              "    .colab-df-convert:hover {\n",
              "      background-color: #E2EBFA;\n",
              "      box-shadow: 0px 1px 2px rgba(60, 64, 67, 0.3), 0px 1px 3px 1px rgba(60, 64, 67, 0.15);\n",
              "      fill: #174EA6;\n",
              "    }\n",
              "\n",
              "    [theme=dark] .colab-df-convert {\n",
              "      background-color: #3B4455;\n",
              "      fill: #D2E3FC;\n",
              "    }\n",
              "\n",
              "    [theme=dark] .colab-df-convert:hover {\n",
              "      background-color: #434B5C;\n",
              "      box-shadow: 0px 1px 3px 1px rgba(0, 0, 0, 0.15);\n",
              "      filter: drop-shadow(0px 1px 2px rgba(0, 0, 0, 0.3));\n",
              "      fill: #FFFFFF;\n",
              "    }\n",
              "  </style>\n",
              "\n",
              "      <script>\n",
              "        const buttonEl =\n",
              "          document.querySelector('#df-925f710e-a736-453b-b3af-f26ea703d351 button.colab-df-convert');\n",
              "        buttonEl.style.display =\n",
              "          google.colab.kernel.accessAllowed ? 'block' : 'none';\n",
              "\n",
              "        async function convertToInteractive(key) {\n",
              "          const element = document.querySelector('#df-925f710e-a736-453b-b3af-f26ea703d351');\n",
              "          const dataTable =\n",
              "            await google.colab.kernel.invokeFunction('convertToInteractive',\n",
              "                                                     [key], {});\n",
              "          if (!dataTable) return;\n",
              "\n",
              "          const docLinkHtml = 'Like what you see? Visit the ' +\n",
              "            '<a target=\"_blank\" href=https://colab.research.google.com/notebooks/data_table.ipynb>data table notebook</a>'\n",
              "            + ' to learn more about interactive tables.';\n",
              "          element.innerHTML = '';\n",
              "          dataTable['output_type'] = 'display_data';\n",
              "          await google.colab.output.renderOutput(dataTable, element);\n",
              "          const docLink = document.createElement('div');\n",
              "          docLink.innerHTML = docLinkHtml;\n",
              "          element.appendChild(docLink);\n",
              "        }\n",
              "      </script>\n",
              "    </div>\n",
              "  </div>\n",
              "  "
            ]
          },
          "metadata": {},
          "execution_count": 64
        }
      ],
      "source": [
        "#RandomOverSampler ne peut pas gérer les données textuelles brutes. Les tweets précédents doivent donc être transformés en un feature space pour que ca fonctionne. J'ai d'abord fit TfidfVectorizer et ensuite suréchantillonner en utilisant la représentation Tf-Idf des tweets\n",
        "\n",
        "tv = TfidfVectorizer(stop_words=None, max_features=100000)\n",
        "testing_tfidf = tv.fit_transform(testing_text)\n",
        "ros = RandomOverSampler(random_state=777)\n",
        "X_ROS, y_ROS = ros.fit_resample(testing_tfidf, testing_target)\n",
        "pd.DataFrame(testing_tfidf.todense(), columns=tv.get_feature_names())"
      ]
    },
    {
      "cell_type": "code",
      "execution_count": null,
      "metadata": {
        "id": "bXOE7zf7Uc92",
        "colab": {
          "base_uri": "https://localhost:8080/",
          "height": 367
        },
        "outputId": "ab18be60-ce2a-4b6a-df03-6c51f392ed5e"
      },
      "outputs": [
        {
          "output_type": "stream",
          "name": "stderr",
          "text": [
            "/usr/local/lib/python3.7/dist-packages/sklearn/utils/deprecation.py:87: FutureWarning: Function get_feature_names is deprecated; get_feature_names is deprecated in 1.0 and will be removed in 1.2. Please use get_feature_names_out instead.\n",
            "  warnings.warn(msg, category=FutureWarning)\n"
          ]
        },
        {
          "output_type": "execute_result",
          "data": {
            "text/plain": [
              "   administrat  adresser        ai     aller   anchois        as   attardé  \\\n",
              "0     0.000000  0.000000  0.000000  0.000000  0.000000  0.000000  0.000000   \n",
              "1     0.000000  0.000000  0.000000  0.000000  0.000000  0.428411  0.000000   \n",
              "2     0.344041  0.344041  0.344041  0.000000  0.000000  0.000000  0.344041   \n",
              "3     0.000000  0.000000  0.000000  0.366408  0.366408  0.000000  0.000000   \n",
              "4     0.000000  0.000000  0.000000  0.000000  0.000000  0.000000  0.000000   \n",
              "5     0.000000  0.000000  0.000000  0.000000  0.000000  0.000000  0.000000   \n",
              "\n",
              "      autre   bruyant   clique  ...   renois  requises       rt  réclamer  \\\n",
              "0  0.000000  0.000000  0.27735  ...  0.00000   0.27735  0.27735  0.000000   \n",
              "1  0.428411  0.000000  0.00000  ...  0.00000   0.00000  0.00000  0.000000   \n",
              "2  0.000000  0.344041  0.00000  ...  0.00000   0.00000  0.00000  0.344041   \n",
              "3  0.000000  0.000000  0.00000  ...  0.00000   0.00000  0.00000  0.000000   \n",
              "4  0.000000  0.000000  0.00000  ...  0.57735   0.00000  0.00000  0.000000   \n",
              "5  0.000000  0.000000  0.00000  ...  0.57735   0.00000  0.00000  0.000000   \n",
              "\n",
              "   réveiller  technologie      tte     ttes    voisin      vrai  \n",
              "0    0.00000     0.000000  0.27735  0.27735  0.000000  0.000000  \n",
              "1    0.00000     0.000000  0.00000  0.00000  0.000000  0.000000  \n",
              "2    0.00000     0.000000  0.00000  0.00000  0.344041  0.000000  \n",
              "3    0.00000     0.366408  0.00000  0.00000  0.000000  0.366408  \n",
              "4    0.57735     0.000000  0.00000  0.00000  0.000000  0.000000  \n",
              "5    0.57735     0.000000  0.00000  0.00000  0.000000  0.000000  \n",
              "\n",
              "[6 rows x 37 columns]"
            ],
            "text/html": [
              "\n",
              "  <div id=\"df-cb35c2c3-0d67-4698-a947-315c3bf79c31\">\n",
              "    <div class=\"colab-df-container\">\n",
              "      <div>\n",
              "<style scoped>\n",
              "    .dataframe tbody tr th:only-of-type {\n",
              "        vertical-align: middle;\n",
              "    }\n",
              "\n",
              "    .dataframe tbody tr th {\n",
              "        vertical-align: top;\n",
              "    }\n",
              "\n",
              "    .dataframe thead th {\n",
              "        text-align: right;\n",
              "    }\n",
              "</style>\n",
              "<table border=\"1\" class=\"dataframe\">\n",
              "  <thead>\n",
              "    <tr style=\"text-align: right;\">\n",
              "      <th></th>\n",
              "      <th>administrat</th>\n",
              "      <th>adresser</th>\n",
              "      <th>ai</th>\n",
              "      <th>aller</th>\n",
              "      <th>anchois</th>\n",
              "      <th>as</th>\n",
              "      <th>attardé</th>\n",
              "      <th>autre</th>\n",
              "      <th>bruyant</th>\n",
              "      <th>clique</th>\n",
              "      <th>...</th>\n",
              "      <th>renois</th>\n",
              "      <th>requises</th>\n",
              "      <th>rt</th>\n",
              "      <th>réclamer</th>\n",
              "      <th>réveiller</th>\n",
              "      <th>technologie</th>\n",
              "      <th>tte</th>\n",
              "      <th>ttes</th>\n",
              "      <th>voisin</th>\n",
              "      <th>vrai</th>\n",
              "    </tr>\n",
              "  </thead>\n",
              "  <tbody>\n",
              "    <tr>\n",
              "      <th>0</th>\n",
              "      <td>0.000000</td>\n",
              "      <td>0.000000</td>\n",
              "      <td>0.000000</td>\n",
              "      <td>0.000000</td>\n",
              "      <td>0.000000</td>\n",
              "      <td>0.000000</td>\n",
              "      <td>0.000000</td>\n",
              "      <td>0.000000</td>\n",
              "      <td>0.000000</td>\n",
              "      <td>0.27735</td>\n",
              "      <td>...</td>\n",
              "      <td>0.00000</td>\n",
              "      <td>0.27735</td>\n",
              "      <td>0.27735</td>\n",
              "      <td>0.000000</td>\n",
              "      <td>0.00000</td>\n",
              "      <td>0.000000</td>\n",
              "      <td>0.27735</td>\n",
              "      <td>0.27735</td>\n",
              "      <td>0.000000</td>\n",
              "      <td>0.000000</td>\n",
              "    </tr>\n",
              "    <tr>\n",
              "      <th>1</th>\n",
              "      <td>0.000000</td>\n",
              "      <td>0.000000</td>\n",
              "      <td>0.000000</td>\n",
              "      <td>0.000000</td>\n",
              "      <td>0.000000</td>\n",
              "      <td>0.428411</td>\n",
              "      <td>0.000000</td>\n",
              "      <td>0.428411</td>\n",
              "      <td>0.000000</td>\n",
              "      <td>0.00000</td>\n",
              "      <td>...</td>\n",
              "      <td>0.00000</td>\n",
              "      <td>0.00000</td>\n",
              "      <td>0.00000</td>\n",
              "      <td>0.000000</td>\n",
              "      <td>0.00000</td>\n",
              "      <td>0.000000</td>\n",
              "      <td>0.00000</td>\n",
              "      <td>0.00000</td>\n",
              "      <td>0.000000</td>\n",
              "      <td>0.000000</td>\n",
              "    </tr>\n",
              "    <tr>\n",
              "      <th>2</th>\n",
              "      <td>0.344041</td>\n",
              "      <td>0.344041</td>\n",
              "      <td>0.344041</td>\n",
              "      <td>0.000000</td>\n",
              "      <td>0.000000</td>\n",
              "      <td>0.000000</td>\n",
              "      <td>0.344041</td>\n",
              "      <td>0.000000</td>\n",
              "      <td>0.344041</td>\n",
              "      <td>0.00000</td>\n",
              "      <td>...</td>\n",
              "      <td>0.00000</td>\n",
              "      <td>0.00000</td>\n",
              "      <td>0.00000</td>\n",
              "      <td>0.344041</td>\n",
              "      <td>0.00000</td>\n",
              "      <td>0.000000</td>\n",
              "      <td>0.00000</td>\n",
              "      <td>0.00000</td>\n",
              "      <td>0.344041</td>\n",
              "      <td>0.000000</td>\n",
              "    </tr>\n",
              "    <tr>\n",
              "      <th>3</th>\n",
              "      <td>0.000000</td>\n",
              "      <td>0.000000</td>\n",
              "      <td>0.000000</td>\n",
              "      <td>0.366408</td>\n",
              "      <td>0.366408</td>\n",
              "      <td>0.000000</td>\n",
              "      <td>0.000000</td>\n",
              "      <td>0.000000</td>\n",
              "      <td>0.000000</td>\n",
              "      <td>0.00000</td>\n",
              "      <td>...</td>\n",
              "      <td>0.00000</td>\n",
              "      <td>0.00000</td>\n",
              "      <td>0.00000</td>\n",
              "      <td>0.000000</td>\n",
              "      <td>0.00000</td>\n",
              "      <td>0.366408</td>\n",
              "      <td>0.00000</td>\n",
              "      <td>0.00000</td>\n",
              "      <td>0.000000</td>\n",
              "      <td>0.366408</td>\n",
              "    </tr>\n",
              "    <tr>\n",
              "      <th>4</th>\n",
              "      <td>0.000000</td>\n",
              "      <td>0.000000</td>\n",
              "      <td>0.000000</td>\n",
              "      <td>0.000000</td>\n",
              "      <td>0.000000</td>\n",
              "      <td>0.000000</td>\n",
              "      <td>0.000000</td>\n",
              "      <td>0.000000</td>\n",
              "      <td>0.000000</td>\n",
              "      <td>0.00000</td>\n",
              "      <td>...</td>\n",
              "      <td>0.57735</td>\n",
              "      <td>0.00000</td>\n",
              "      <td>0.00000</td>\n",
              "      <td>0.000000</td>\n",
              "      <td>0.57735</td>\n",
              "      <td>0.000000</td>\n",
              "      <td>0.00000</td>\n",
              "      <td>0.00000</td>\n",
              "      <td>0.000000</td>\n",
              "      <td>0.000000</td>\n",
              "    </tr>\n",
              "    <tr>\n",
              "      <th>5</th>\n",
              "      <td>0.000000</td>\n",
              "      <td>0.000000</td>\n",
              "      <td>0.000000</td>\n",
              "      <td>0.000000</td>\n",
              "      <td>0.000000</td>\n",
              "      <td>0.000000</td>\n",
              "      <td>0.000000</td>\n",
              "      <td>0.000000</td>\n",
              "      <td>0.000000</td>\n",
              "      <td>0.00000</td>\n",
              "      <td>...</td>\n",
              "      <td>0.57735</td>\n",
              "      <td>0.00000</td>\n",
              "      <td>0.00000</td>\n",
              "      <td>0.000000</td>\n",
              "      <td>0.57735</td>\n",
              "      <td>0.000000</td>\n",
              "      <td>0.00000</td>\n",
              "      <td>0.00000</td>\n",
              "      <td>0.000000</td>\n",
              "      <td>0.000000</td>\n",
              "    </tr>\n",
              "  </tbody>\n",
              "</table>\n",
              "<p>6 rows × 37 columns</p>\n",
              "</div>\n",
              "      <button class=\"colab-df-convert\" onclick=\"convertToInteractive('df-cb35c2c3-0d67-4698-a947-315c3bf79c31')\"\n",
              "              title=\"Convert this dataframe to an interactive table.\"\n",
              "              style=\"display:none;\">\n",
              "        \n",
              "  <svg xmlns=\"http://www.w3.org/2000/svg\" height=\"24px\"viewBox=\"0 0 24 24\"\n",
              "       width=\"24px\">\n",
              "    <path d=\"M0 0h24v24H0V0z\" fill=\"none\"/>\n",
              "    <path d=\"M18.56 5.44l.94 2.06.94-2.06 2.06-.94-2.06-.94-.94-2.06-.94 2.06-2.06.94zm-11 1L8.5 8.5l.94-2.06 2.06-.94-2.06-.94L8.5 2.5l-.94 2.06-2.06.94zm10 10l.94 2.06.94-2.06 2.06-.94-2.06-.94-.94-2.06-.94 2.06-2.06.94z\"/><path d=\"M17.41 7.96l-1.37-1.37c-.4-.4-.92-.59-1.43-.59-.52 0-1.04.2-1.43.59L10.3 9.45l-7.72 7.72c-.78.78-.78 2.05 0 2.83L4 21.41c.39.39.9.59 1.41.59.51 0 1.02-.2 1.41-.59l7.78-7.78 2.81-2.81c.8-.78.8-2.07 0-2.86zM5.41 20L4 18.59l7.72-7.72 1.47 1.35L5.41 20z\"/>\n",
              "  </svg>\n",
              "      </button>\n",
              "      \n",
              "  <style>\n",
              "    .colab-df-container {\n",
              "      display:flex;\n",
              "      flex-wrap:wrap;\n",
              "      gap: 12px;\n",
              "    }\n",
              "\n",
              "    .colab-df-convert {\n",
              "      background-color: #E8F0FE;\n",
              "      border: none;\n",
              "      border-radius: 50%;\n",
              "      cursor: pointer;\n",
              "      display: none;\n",
              "      fill: #1967D2;\n",
              "      height: 32px;\n",
              "      padding: 0 0 0 0;\n",
              "      width: 32px;\n",
              "    }\n",
              "\n",
              "    .colab-df-convert:hover {\n",
              "      background-color: #E2EBFA;\n",
              "      box-shadow: 0px 1px 2px rgba(60, 64, 67, 0.3), 0px 1px 3px 1px rgba(60, 64, 67, 0.15);\n",
              "      fill: #174EA6;\n",
              "    }\n",
              "\n",
              "    [theme=dark] .colab-df-convert {\n",
              "      background-color: #3B4455;\n",
              "      fill: #D2E3FC;\n",
              "    }\n",
              "\n",
              "    [theme=dark] .colab-df-convert:hover {\n",
              "      background-color: #434B5C;\n",
              "      box-shadow: 0px 1px 3px 1px rgba(0, 0, 0, 0.15);\n",
              "      filter: drop-shadow(0px 1px 2px rgba(0, 0, 0, 0.3));\n",
              "      fill: #FFFFFF;\n",
              "    }\n",
              "  </style>\n",
              "\n",
              "      <script>\n",
              "        const buttonEl =\n",
              "          document.querySelector('#df-cb35c2c3-0d67-4698-a947-315c3bf79c31 button.colab-df-convert');\n",
              "        buttonEl.style.display =\n",
              "          google.colab.kernel.accessAllowed ? 'block' : 'none';\n",
              "\n",
              "        async function convertToInteractive(key) {\n",
              "          const element = document.querySelector('#df-cb35c2c3-0d67-4698-a947-315c3bf79c31');\n",
              "          const dataTable =\n",
              "            await google.colab.kernel.invokeFunction('convertToInteractive',\n",
              "                                                     [key], {});\n",
              "          if (!dataTable) return;\n",
              "\n",
              "          const docLinkHtml = 'Like what you see? Visit the ' +\n",
              "            '<a target=\"_blank\" href=https://colab.research.google.com/notebooks/data_table.ipynb>data table notebook</a>'\n",
              "            + ' to learn more about interactive tables.';\n",
              "          element.innerHTML = '';\n",
              "          dataTable['output_type'] = 'display_data';\n",
              "          await google.colab.output.renderOutput(dataTable, element);\n",
              "          const docLink = document.createElement('div');\n",
              "          docLink.innerHTML = docLinkHtml;\n",
              "          element.appendChild(docLink);\n",
              "        }\n",
              "      </script>\n",
              "    </div>\n",
              "  </div>\n",
              "  "
            ]
          },
          "metadata": {},
          "execution_count": 65
        }
      ],
      "source": [
        "pd.DataFrame(X_ROS.todense(), columns=tv.get_feature_names())\n",
        "#En exécutant RandomOverSampler, nous avons maintenant une ligne de plus à la fin. \n",
        "#La dernière ligne ajoutée par RandomOverSampler est exactement la même que la cinquième (numéro d'index 4). \n",
        "#RandomOverSampler duplique simplement certaines entrées de la classe minoritaire pour équilibrer les données. "
      ]
    },
    {
      "cell_type": "code",
      "execution_count": null,
      "metadata": {
        "id": "SlSrj9ZeQeIY",
        "colab": {
          "base_uri": "https://localhost:8080/"
        },
        "outputId": "103d030d-bb60-4e6b-8714-72db970da395"
      },
      "outputs": [
        {
          "output_type": "stream",
          "name": "stdout",
          "text": [
            "            negative        positive\n",
            "precision: [0.3597561  0.83568075]\n",
            "recall:    [0.3597561  0.83568075]\n",
            "f1 score:  [0.3597561  0.83568075]\n",
            "--------------------------------------------------\n",
            "            negative        positive\n",
            "precision: [0.33566434 0.82424242]\n",
            "recall:    [0.29268293 0.8513302 ]\n",
            "f1 score:  [0.31270358 0.83756736]\n",
            "--------------------------------------------------\n",
            "            negative        positive\n",
            "precision: [0.34586466 0.8238806 ]\n",
            "recall:    [0.2804878  0.86384977]\n",
            "f1 score:  [0.30976431 0.8433919 ]\n",
            "--------------------------------------------------\n",
            "            negative        positive\n",
            "precision: [0.34965035 0.82575758]\n",
            "recall:    [0.3030303  0.85423197]\n",
            "f1 score:  [0.32467532 0.83975347]\n",
            "--------------------------------------------------\n",
            "            negative        positive\n",
            "precision: [0.41176471 0.85126582]\n",
            "recall:    [0.42682927 0.84326019]\n",
            "f1 score:  [0.41916168 0.84724409]\n",
            "--------------------------------------------------\n",
            "accuracy: 74.39% (+/- 0.75%)\n",
            "precision: 59.64% (+/- 1.85%)\n",
            "recall: 59.11% (+/- 2.39%)\n",
            "f1 score: 59.30% (+/- 2.17%)\n"
          ]
        }
      ],
      "source": [
        "lr_cv(5, data_frame['clean_tweet'], Y, ROS_pipeline, 'macro')"
      ]
    },
    {
      "cell_type": "markdown",
      "metadata": {
        "id": "y7GLpmmQVOyW"
      },
      "source": [
        "Par rapport au modèle construit avec les données originales déséquilibrées, le modèle se comporte maintenant de manière opposée. La précisions pour la classe négative a diminuée légèrement tandis que le rappel est bien plus élevé (fluctue autour de 40%). Nous avons maintenant une situation de rappel élevé, mais de faible précision."
      ]
    },
    {
      "cell_type": "markdown",
      "metadata": {
        "id": "f3Hocqv6Jv42"
      },
      "source": [
        "SMOTE"
      ]
    },
    {
      "cell_type": "code",
      "execution_count": null,
      "metadata": {
        "id": "pkoZ75XKJxFI"
      },
      "outputs": [],
      "source": [
        "SMOTE_pipeline = make_pipeline(tvec, SMOTE(random_state=777),lr)"
      ]
    },
    {
      "cell_type": "code",
      "execution_count": null,
      "metadata": {
        "id": "YqLPH_u5WhYa",
        "colab": {
          "base_uri": "https://localhost:8080/"
        },
        "outputId": "24801076-abef-48ab-8f30-603a4dfd1565"
      },
      "outputs": [
        {
          "output_type": "stream",
          "name": "stdout",
          "text": [
            "            negative        positive\n",
            "precision: [0.4137931  0.84194529]\n",
            "recall:    [0.36585366 0.86697966]\n",
            "f1 score:  [0.38834951 0.85427911]\n",
            "--------------------------------------------------\n",
            "            negative        positive\n",
            "precision: [0.33093525 0.82228916]\n",
            "recall:    [0.2804878  0.85446009]\n",
            "f1 score:  [0.30363036 0.838066  ]\n",
            "--------------------------------------------------\n",
            "            negative        positive\n",
            "precision: [0.384      0.82890855]\n",
            "recall:    [0.29268293 0.87949922]\n",
            "f1 score:  [0.33217993 0.85345482]\n",
            "--------------------------------------------------\n",
            "            negative        positive\n",
            "precision: [0.35582822 0.8328125 ]\n",
            "recall:    [0.35151515 0.8354232 ]\n",
            "f1 score:  [0.35365854 0.83411581]\n",
            "--------------------------------------------------\n",
            "            negative        positive\n",
            "precision: [0.42592593 0.8515625 ]\n",
            "recall:    [0.42073171 0.85423197]\n",
            "f1 score:  [0.42331288 0.85289515]\n",
            "--------------------------------------------------\n",
            "accuracy: 75.26% (+/- 1.32%)\n",
            "precision: 60.88% (+/- 2.24%)\n",
            "recall: 60.02% (+/- 2.44%)\n",
            "f1 score: 60.34% (+/- 2.36%)\n"
          ]
        }
      ],
      "source": [
        "#Fit le pipeline SMOTE pour voir comment il affecte les performances\n",
        "lr_cv(5, data_frame['clean_tweet'], Y, SMOTE_pipeline, 'macro')"
      ]
    },
    {
      "cell_type": "markdown",
      "metadata": {
        "id": "romlKTRxXUXs"
      },
      "source": [
        "### Sous-échantillonnage (downsampling) des vecteurs numériques "
      ]
    },
    {
      "cell_type": "markdown",
      "metadata": {
        "id": "MJKcBTMYZaUW"
      },
      "source": [
        "RandomUnderSampler"
      ]
    },
    {
      "cell_type": "code",
      "execution_count": null,
      "metadata": {
        "id": "0nVC5OrpYN2o"
      },
      "outputs": [],
      "source": [
        "from imblearn.under_sampling import NearMiss, RandomUnderSampler\n",
        "\n",
        "RUS_pipeline = make_pipeline(tvec, \n",
        "RandomUnderSampler(random_state=777),lr)"
      ]
    },
    {
      "cell_type": "code",
      "execution_count": null,
      "metadata": {
        "id": "OP_DtlkyYVeH",
        "colab": {
          "base_uri": "https://localhost:8080/"
        },
        "outputId": "a9c5b049-e37a-4c15-c69b-59006ac6ac19"
      },
      "outputs": [
        {
          "output_type": "stream",
          "name": "stdout",
          "text": [
            "            negative        positive\n",
            "precision: [0.31005587 0.88089888]\n",
            "recall:    [0.67682927 0.61345853]\n",
            "f1 score:  [0.42528736 0.72324723]\n",
            "--------------------------------------------------\n",
            "            negative        positive\n",
            "precision: [0.33538462 0.88493724]\n",
            "recall:    [0.66463415 0.66197183]\n",
            "f1 score:  [0.44580777 0.75738585]\n",
            "--------------------------------------------------\n",
            "            negative        positive\n",
            "precision: [0.32218845 0.87763713]\n",
            "recall:    [0.64634146 0.65101721]\n",
            "f1 score:  [0.43002028 0.7475292 ]\n",
            "--------------------------------------------------\n",
            "            negative        positive\n",
            "precision: [0.31195335 0.87391304]\n",
            "recall:    [0.64848485 0.63009404]\n",
            "f1 score:  [0.42125984 0.73224044]\n",
            "--------------------------------------------------\n",
            "            negative        positive\n",
            "precision: [0.32114883 0.90214797]\n",
            "recall:    [0.75       0.59247649]\n",
            "f1 score:  [0.44972578 0.71523179]\n",
            "--------------------------------------------------\n",
            "accuracy: 63.95% (+/- 1.46%)\n",
            "precision: 60.20% (+/- 0.76%)\n",
            "recall: 65.35% (+/- 1.19%)\n",
            "f1 score: 58.48% (+/- 0.98%)\n"
          ]
        }
      ],
      "source": [
        "lr_cv(5, data_frame['clean_tweet'], Y, RUS_pipeline, 'macro')"
      ]
    },
    {
      "cell_type": "markdown",
      "metadata": {
        "id": "i81t3zMWY2GY"
      },
      "source": [
        "Maintenant, l'accuracy et le score F1 ont considérablement baissé. Mais la  faible précision et le rappel élevé coincide avec les données suréchantillonnées. Seules ses performances globales ont chuté. Sur la base des résultats de la validation croisée (classificateur utilisé pour la validation : régression logistique avec réglage par défaut), la technique d'échantillonnage optimale semble être SMOTE."
      ]
    },
    {
      "cell_type": "code",
      "execution_count": null,
      "metadata": {
        "id": "FcR8x88jlPZY",
        "colab": {
          "base_uri": "https://localhost:8080/",
          "height": 622
        },
        "outputId": "eaf85e11-6e28-4532-e071-7129c3bdae11"
      },
      "outputs": [
        {
          "output_type": "execute_result",
          "data": {
            "text/plain": [
              "Text(0.5, 1.0, 'Distribution des tweets après le suréchantillonnage SMOTE')"
            ]
          },
          "metadata": {},
          "execution_count": 71
        },
        {
          "output_type": "display_data",
          "data": {
            "text/plain": [
              "<Figure size 720x720 with 1 Axes>"
            ],
            "image/png": "[encoded data removed]"
          },
          "metadata": {
            "needs_background": "light"
          }
        }
      ],
      "source": [
        "# à des fins de reproductibilité\n",
        "seed = 100\n",
        "\n",
        "# SMOTE nombre de neighbors\n",
        "k = 1\n",
        "\n",
        "#TF-IDF Features-F1\n",
        "tv = TfidfVectorizer(ngram_range=(1, 2),max_df=0.75, min_df=5, max_features=10000)\n",
        "tfidf = tv.fit_transform(data_frame['clean_tweet'])\n",
        "\n",
        "sm = SMOTE(sampling_strategy='auto', random_state=seed, k_neighbors=k)\n",
        "X_sm, y_sm = sm.fit_resample(tfidf, data_frame['sentiment'])\n",
        "\n",
        "plt.figure(figsize=(10, 10))\n",
        "y_sm.value_counts().plot(kind='bar').set_title('Distribution des tweets après le suréchantillonnage SMOTE')"
      ]
    },
    {
      "cell_type": "markdown",
      "metadata": {
        "id": "KBn6_ncRUwKt"
      },
      "source": [
        "### Upsampling (Sklearn)"
      ]
    },
    {
      "cell_type": "code",
      "execution_count": null,
      "metadata": {
        "id": "BQG4i6Z8U8Rt",
        "colab": {
          "base_uri": "https://localhost:8080/"
        },
        "outputId": "adc2627d-336b-4da0-fef7-f71c65d4fe19"
      },
      "outputs": [
        {
          "output_type": "stream",
          "name": "stdout",
          "text": [
            "Nombre de tweets neutres répliqués lors de l'opération d'upsampling : 3000\n"
          ]
        }
      ],
      "source": [
        "from sklearn.utils import resample\n",
        "\n",
        "upsampling = data_frame.drop(['HITId', 'tweet', 'text length', 'Hashtags'], axis=1)\n",
        "\n",
        "#upsample la classe minoritaire (0= tweets neutres) en dupliquant des samples aléatoires \n",
        "\n",
        "upsample = resample(upsampling[upsampling['sentiment']==0],\n",
        "                    replace=True,\n",
        "                    n_samples=3000, #pour atteindre un équilibre entre les deux classes \n",
        "                    random_state=42) #pour assurer la reproductibilité des résultats\n",
        "print(f\"Nombre de tweets neutres répliqués lors de l'opération d'upsampling : {len(upsample)}\")\n",
        "\n",
        "#combiner la classe minoritaire dorénavant upsampled avec le reste des données \n",
        "dataset = pd.concat([data_frame[data_frame['sentiment']!=0], upsample])"
      ]
    },
    {
      "cell_type": "code",
      "execution_count": null,
      "metadata": {
        "id": "thcVQB7JfkSH",
        "colab": {
          "base_uri": "https://localhost:8080/"
        },
        "outputId": "80095a89-236a-4908-de58-2d8d1596c07c"
      },
      "outputs": [
        {
          "output_type": "stream",
          "name": "stdout",
          "text": [
            "3193\n",
            "3000\n"
          ]
        }
      ],
      "source": [
        "print(dataset.sentiment.value_counts()[1])\n",
        "print(dataset.sentiment.value_counts()[0])"
      ]
    },
    {
      "cell_type": "markdown",
      "metadata": {
        "id": "PXxjkiwUfkaR"
      },
      "source": [
        "## Exécution de divers modèles en utilisant TFIDF sans feature supplémentaire\n",
        "\n",
        "> Bloc en retrait\n",
        "\n"
      ]
    },
    {
      "cell_type": "code",
      "execution_count": null,
      "metadata": {
        "id": "3FyJkAqAQapo",
        "colab": {
          "base_uri": "https://localhost:8080/"
        },
        "outputId": "aa7fa623-644d-4705-d40f-85dbd2bd1a02"
      },
      "outputs": [
        {
          "output_type": "stream",
          "name": "stdout",
          "text": [
            "              precision    recall  f1-score   support\n",
            "\n",
            "           0       0.59      0.08      0.14       164\n",
            "           1       0.81      0.99      0.89       639\n",
            "\n",
            "    accuracy                           0.80       803\n",
            "   macro avg       0.70      0.53      0.51       803\n",
            "weighted avg       0.76      0.80      0.73       803\n",
            "\n",
            "Régression logistique, score de l'accuracy: 0.800747198007472\n"
          ]
        }
      ],
      "source": [
        "from sklearn.model_selection import train_test_split\n",
        "from sklearn.metrics import classification_report\n",
        "from sklearn.metrics import accuracy_score\n",
        "from sklearn.feature_extraction.text import TfidfVectorizer\n",
        "\n",
        "\n",
        "#TF-IDF Features-F1\n",
        "tv = TfidfVectorizer(ngram_range=(1, 2),max_df=0.75, min_df=5, max_features=10000)\n",
        "tfidf = tv.fit_transform(data_frame['clean_tweet'])\n",
        "\n",
        "#Régression logistique \n",
        "X = tfidf\n",
        "y = data_frame['sentiment'].astype(int)\n",
        "X_train_tfidf, X_test_tfidf, y_train, y_test = train_test_split(X, y, random_state=42, test_size=0.2, stratify=y)\n",
        "model = LogisticRegression().fit(X_train_tfidf,y_train)\n",
        "y_predictions = model.predict(X_test_tfidf)\n",
        "rapport = classification_report(y_test, y_predictions)\n",
        "print(rapport)\n",
        "acc=accuracy_score(y_test,y_predictions)\n",
        "print(\"Régression logistique, score de l'accuracy:\" , acc)"
      ]
    },
    {
      "cell_type": "code",
      "execution_count": null,
      "metadata": {
        "id": "4FtqarJzqo6t",
        "colab": {
          "base_uri": "https://localhost:8080/"
        },
        "outputId": "599366a1-4874-40c5-cd99-c70a5d87e754"
      },
      "outputs": [
        {
          "output_type": "stream",
          "name": "stdout",
          "text": [
            "              precision    recall  f1-score   support\n",
            "\n",
            "           0       0.46      0.16      0.24       164\n",
            "           1       0.82      0.95      0.88       639\n",
            "\n",
            "    accuracy                           0.79       803\n",
            "   macro avg       0.64      0.56      0.56       803\n",
            "weighted avg       0.74      0.79      0.75       803\n",
            "\n",
            "Random Forest, score de l'accuracy: 0.7907845579078456\n"
          ]
        }
      ],
      "source": [
        "from sklearn.ensemble import RandomForestClassifier\n",
        "\n",
        "#Random Forest Classifier\n",
        "X_train_tfidf, X_test_tfidf, y_train, y_test = train_test_split(X, y, random_state=42, test_size=0.2, stratify=y)\n",
        "rf=RandomForestClassifier()\n",
        "rf.fit(X_train_tfidf,y_train)\n",
        "y_preds = rf.predict(X_test_tfidf)\n",
        "acc1=accuracy_score(y_test,y_preds)\n",
        "rapport = classification_report( y_test, y_preds )\n",
        "print(rapport)\n",
        "print(\"Random Forest, score de l'accuracy:\",acc1)"
      ]
    },
    {
      "cell_type": "code",
      "execution_count": null,
      "metadata": {
        "id": "Mcc0gVoSnuEG",
        "colab": {
          "base_uri": "https://localhost:8080/"
        },
        "outputId": "f32e1451-3b88-4859-d9cf-91ac2ae8715f"
      },
      "outputs": [
        {
          "output_type": "stream",
          "name": "stdout",
          "text": [
            "              precision    recall  f1-score   support\n",
            "\n",
            "           0       0.22      0.68      0.34       164\n",
            "           1       0.83      0.39      0.53       639\n",
            "\n",
            "    accuracy                           0.45       803\n",
            "   macro avg       0.52      0.54      0.43       803\n",
            "weighted avg       0.70      0.45      0.49       803\n",
            "\n",
            "Naive Bayes, score de l'accuracy: 0.4520547945205479\n"
          ]
        }
      ],
      "source": [
        "from sklearn.naive_bayes import GaussianNB\n",
        "\n",
        "#Naive Bayes\n",
        "X_train_tfidf, X_test_tfidf, y_train, y_test = train_test_split(X.toarray(), y, random_state=42, test_size=0.2, stratify=y)\n",
        "nb=GaussianNB()\n",
        "nb.fit(X_train_tfidf,y_train)\n",
        "y_preds = nb.predict(X_test_tfidf)\n",
        "acc2=accuracy_score(y_test,y_preds)\n",
        "rapport = classification_report( y_test, y_preds )\n",
        "print(rapport)\n",
        "print(\"Naive Bayes, score de l'accuracy:\",acc2)"
      ]
    },
    {
      "cell_type": "code",
      "execution_count": null,
      "metadata": {
        "id": "ExwoWrw_9KIz",
        "colab": {
          "base_uri": "https://localhost:8080/"
        },
        "outputId": "b0f58dd3-37e9-4d15-972a-cc1aa1be8fdc"
      },
      "outputs": [
        {
          "output_type": "stream",
          "name": "stdout",
          "text": [
            "              precision    recall  f1-score   support\n",
            "\n",
            "           0       0.39      0.23      0.29       164\n",
            "           1       0.82      0.91      0.86       639\n",
            "\n",
            "    accuracy                           0.77       803\n",
            "   macro avg       0.61      0.57      0.58       803\n",
            "weighted avg       0.73      0.77      0.75       803\n",
            "\n",
            "SVM, Score de l'accuracy: 0.7708592777085927\n"
          ]
        }
      ],
      "source": [
        "from sklearn.svm import LinearSVC\n",
        "\n",
        "#SVM\n",
        "support =LinearSVC(random_state=20)\n",
        "support.fit(X_train_tfidf,y_train)\n",
        "y_preds = support.predict(X_test_tfidf)\n",
        "acc3=accuracy_score(y_test,y_preds)\n",
        "rappport = classification_report(y_test, y_preds )\n",
        "print(rappport)\n",
        "print(\"SVM, Score de l'accuracy:\" , acc3)"
      ]
    },
    {
      "cell_type": "code",
      "execution_count": null,
      "metadata": {
        "id": "4N1V_LP8958n",
        "colab": {
          "base_uri": "https://localhost:8080/"
        },
        "outputId": "cf627ec9-3283-40f7-bd82-35b49120d5fa"
      },
      "outputs": [
        {
          "output_type": "stream",
          "name": "stdout",
          "text": [
            "              precision    recall  f1-score   support\n",
            "\n",
            "           0       0.38      0.20      0.26       164\n",
            "           1       0.82      0.92      0.86       639\n",
            "\n",
            "    accuracy                           0.77       803\n",
            "   macro avg       0.60      0.56      0.56       803\n",
            "weighted avg       0.73      0.77      0.74       803\n",
            "\n",
            "MLP, score de l'accuracy: 0.7708592777085927\n"
          ]
        }
      ],
      "source": [
        "from sklearn.neural_network import MLPClassifier as MLP\n",
        "\n",
        "#Naive Bayes\n",
        "X_train_tfidf, X_test_tfidf, y_train, y_test = train_test_split(X.toarray(), y, random_state=42, test_size=0.2, stratify=y)\n",
        "mlp = MLP(hidden_layer_sizes=(128, 128, 128), batch_size=128, warm_start=True)\n",
        "mlp.fit(X_train_tfidf,y_train)\n",
        "y_preds = mlp.predict(X_test_tfidf)\n",
        "acc4=accuracy_score(y_test,y_preds)\n",
        "rapport = classification_report( y_test, y_preds )\n",
        "print(rapport)\n",
        "print(\"MLP, score de l'accuracy:\",acc4)"
      ]
    },
    {
      "cell_type": "code",
      "execution_count": null,
      "metadata": {
        "id": "jreRMzumLiHk",
        "colab": {
          "base_uri": "https://localhost:8080/",
          "height": 282
        },
        "outputId": "f6cd3d29-7999-46f2-fa91-925d62d00ca8"
      },
      "outputs": [
        {
          "output_type": "display_data",
          "data": {
            "text/plain": [
              "<Figure size 432x288 with 1 Axes>"
            ],
            "image/png": "[encoded data removed]"
          },
          "metadata": {
            "needs_background": "light"
          }
        }
      ],
      "source": [
        "algorithmes = ('R_Logistique', 'RandomForest', 'Naive_Bayes', 'SVM')\n",
        "y_pos = np.arange(len(algorithmes))\n",
        "performance = [acc,acc1,acc2,acc3]\n",
        "plt.bar(y_pos, performance, align='center', alpha=0.5)\n",
        "plt.xticks(y_pos, algorithmes)\n",
        "plt.ylabel('Accuracy')\n",
        "plt.title('Comparaison des algorithmes pour Features-F1')\n",
        "plt.show()"
      ]
    },
    {
      "cell_type": "markdown",
      "metadata": {
        "id": "efwU0ziBNKRy"
      },
      "source": [
        "## Analyse sentimentale et utilisation des scores de polarité comme feature "
      ]
    },
    {
      "cell_type": "code",
      "execution_count": null,
      "metadata": {
        "id": "8p9CD2qENPJw"
      },
      "outputs": [],
      "source": [
        "#Ceci est une version française de VADER (Valence Aware Dictionary and Sentiment Reasoner)\n",
        "#Vader_FR possède un lexique français traduit manuellement. VADER est un lexique et un outil d'analyse des sentiments basé sur des règles et qui est spécifiquement adapté aux sentiments exprimés dans les médias sociaux\n",
        "!pip install vaderSentiment-fr"
      ]
    },
    {
      "cell_type": "code",
      "execution_count": null,
      "metadata": {
        "id": "9WBxznMsRIvd"
      },
      "outputs": [],
      "source": [
        "!pip install python-Levenshtein"
      ]
    },
    {
      "cell_type": "markdown",
      "source": [
        "Attention le temps d'execution est très important et l'efficacité n'est pas averrée  (voire plus bas)"
      ],
      "metadata": {
        "id": "9XlP_EhAa38r"
      }
    },
    {
      "cell_type": "code",
      "execution_count": null,
      "metadata": {
        "id": "0CCbNISXRZNX",
        "colab": {
          "base_uri": "https://localhost:8080/",
          "height": 424
        },
        "outputId": "8909907c-8cdf-48a3-ca27-fefcbae852f5"
      },
      "outputs": [
        {
          "output_type": "execute_result",
          "data": {
            "text/plain": [
              "        Neg    Pos    Neu  Compound\n",
              "0     0.204  0.000  0.796   -0.5972\n",
              "1     0.459  0.000  0.541   -0.7579\n",
              "2     0.354  0.000  0.646   -0.8555\n",
              "3     0.220  0.063  0.717   -0.5426\n",
              "4     0.176  0.000  0.824   -0.1280\n",
              "...     ...    ...    ...       ...\n",
              "4009  0.173  0.315  0.512    0.5588\n",
              "4010  0.358  0.000  0.642   -0.4404\n",
              "4011  0.474  0.269  0.256   -0.1531\n",
              "4012  0.345  0.000  0.655   -0.7845\n",
              "4013  0.326  0.305  0.368    0.1531\n",
              "\n",
              "[4014 rows x 4 columns]"
            ],
            "text/html": [
              "\n",
              "  <div id=\"df-b204a2c5-7b08-4709-9562-d863c441f9bf\">\n",
              "    <div class=\"colab-df-container\">\n",
              "      <div>\n",
              "<style scoped>\n",
              "    .dataframe tbody tr th:only-of-type {\n",
              "        vertical-align: middle;\n",
              "    }\n",
              "\n",
              "    .dataframe tbody tr th {\n",
              "        vertical-align: top;\n",
              "    }\n",
              "\n",
              "    .dataframe thead th {\n",
              "        text-align: right;\n",
              "    }\n",
              "</style>\n",
              "<table border=\"1\" class=\"dataframe\">\n",
              "  <thead>\n",
              "    <tr style=\"text-align: right;\">\n",
              "      <th></th>\n",
              "      <th>Neg</th>\n",
              "      <th>Pos</th>\n",
              "      <th>Neu</th>\n",
              "      <th>Compound</th>\n",
              "    </tr>\n",
              "  </thead>\n",
              "  <tbody>\n",
              "    <tr>\n",
              "      <th>0</th>\n",
              "      <td>0.204</td>\n",
              "      <td>0.000</td>\n",
              "      <td>0.796</td>\n",
              "      <td>-0.5972</td>\n",
              "    </tr>\n",
              "    <tr>\n",
              "      <th>1</th>\n",
              "      <td>0.459</td>\n",
              "      <td>0.000</td>\n",
              "      <td>0.541</td>\n",
              "      <td>-0.7579</td>\n",
              "    </tr>\n",
              "    <tr>\n",
              "      <th>2</th>\n",
              "      <td>0.354</td>\n",
              "      <td>0.000</td>\n",
              "      <td>0.646</td>\n",
              "      <td>-0.8555</td>\n",
              "    </tr>\n",
              "    <tr>\n",
              "      <th>3</th>\n",
              "      <td>0.220</td>\n",
              "      <td>0.063</td>\n",
              "      <td>0.717</td>\n",
              "      <td>-0.5426</td>\n",
              "    </tr>\n",
              "    <tr>\n",
              "      <th>4</th>\n",
              "      <td>0.176</td>\n",
              "      <td>0.000</td>\n",
              "      <td>0.824</td>\n",
              "      <td>-0.1280</td>\n",
              "    </tr>\n",
              "    <tr>\n",
              "      <th>...</th>\n",
              "      <td>...</td>\n",
              "      <td>...</td>\n",
              "      <td>...</td>\n",
              "      <td>...</td>\n",
              "    </tr>\n",
              "    <tr>\n",
              "      <th>4009</th>\n",
              "      <td>0.173</td>\n",
              "      <td>0.315</td>\n",
              "      <td>0.512</td>\n",
              "      <td>0.5588</td>\n",
              "    </tr>\n",
              "    <tr>\n",
              "      <th>4010</th>\n",
              "      <td>0.358</td>\n",
              "      <td>0.000</td>\n",
              "      <td>0.642</td>\n",
              "      <td>-0.4404</td>\n",
              "    </tr>\n",
              "    <tr>\n",
              "      <th>4011</th>\n",
              "      <td>0.474</td>\n",
              "      <td>0.269</td>\n",
              "      <td>0.256</td>\n",
              "      <td>-0.1531</td>\n",
              "    </tr>\n",
              "    <tr>\n",
              "      <th>4012</th>\n",
              "      <td>0.345</td>\n",
              "      <td>0.000</td>\n",
              "      <td>0.655</td>\n",
              "      <td>-0.7845</td>\n",
              "    </tr>\n",
              "    <tr>\n",
              "      <th>4013</th>\n",
              "      <td>0.326</td>\n",
              "      <td>0.305</td>\n",
              "      <td>0.368</td>\n",
              "      <td>0.1531</td>\n",
              "    </tr>\n",
              "  </tbody>\n",
              "</table>\n",
              "<p>4014 rows × 4 columns</p>\n",
              "</div>\n",
              "      <button class=\"colab-df-convert\" onclick=\"convertToInteractive('df-b204a2c5-7b08-4709-9562-d863c441f9bf')\"\n",
              "              title=\"Convert this dataframe to an interactive table.\"\n",
              "              style=\"display:none;\">\n",
              "        \n",
              "  <svg xmlns=\"http://www.w3.org/2000/svg\" height=\"24px\"viewBox=\"0 0 24 24\"\n",
              "       width=\"24px\">\n",
              "    <path d=\"M0 0h24v24H0V0z\" fill=\"none\"/>\n",
              "    <path d=\"M18.56 5.44l.94 2.06.94-2.06 2.06-.94-2.06-.94-.94-2.06-.94 2.06-2.06.94zm-11 1L8.5 8.5l.94-2.06 2.06-.94-2.06-.94L8.5 2.5l-.94 2.06-2.06.94zm10 10l.94 2.06.94-2.06 2.06-.94-2.06-.94-.94-2.06-.94 2.06-2.06.94z\"/><path d=\"M17.41 7.96l-1.37-1.37c-.4-.4-.92-.59-1.43-.59-.52 0-1.04.2-1.43.59L10.3 9.45l-7.72 7.72c-.78.78-.78 2.05 0 2.83L4 21.41c.39.39.9.59 1.41.59.51 0 1.02-.2 1.41-.59l7.78-7.78 2.81-2.81c.8-.78.8-2.07 0-2.86zM5.41 20L4 18.59l7.72-7.72 1.47 1.35L5.41 20z\"/>\n",
              "  </svg>\n",
              "      </button>\n",
              "      \n",
              "  <style>\n",
              "    .colab-df-container {\n",
              "      display:flex;\n",
              "      flex-wrap:wrap;\n",
              "      gap: 12px;\n",
              "    }\n",
              "\n",
              "    .colab-df-convert {\n",
              "      background-color: #E8F0FE;\n",
              "      border: none;\n",
              "      border-radius: 50%;\n",
              "      cursor: pointer;\n",
              "      display: none;\n",
              "      fill: #1967D2;\n",
              "      height: 32px;\n",
              "      padding: 0 0 0 0;\n",
              "      width: 32px;\n",
              "    }\n",
              "\n",
              "    .colab-df-convert:hover {\n",
              "      background-color: #E2EBFA;\n",
              "      box-shadow: 0px 1px 2px rgba(60, 64, 67, 0.3), 0px 1px 3px 1px rgba(60, 64, 67, 0.15);\n",
              "      fill: #174EA6;\n",
              "    }\n",
              "\n",
              "    [theme=dark] .colab-df-convert {\n",
              "      background-color: #3B4455;\n",
              "      fill: #D2E3FC;\n",
              "    }\n",
              "\n",
              "    [theme=dark] .colab-df-convert:hover {\n",
              "      background-color: #434B5C;\n",
              "      box-shadow: 0px 1px 3px 1px rgba(0, 0, 0, 0.15);\n",
              "      filter: drop-shadow(0px 1px 2px rgba(0, 0, 0, 0.3));\n",
              "      fill: #FFFFFF;\n",
              "    }\n",
              "  </style>\n",
              "\n",
              "      <script>\n",
              "        const buttonEl =\n",
              "          document.querySelector('#df-b204a2c5-7b08-4709-9562-d863c441f9bf button.colab-df-convert');\n",
              "        buttonEl.style.display =\n",
              "          google.colab.kernel.accessAllowed ? 'block' : 'none';\n",
              "\n",
              "        async function convertToInteractive(key) {\n",
              "          const element = document.querySelector('#df-b204a2c5-7b08-4709-9562-d863c441f9bf');\n",
              "          const dataTable =\n",
              "            await google.colab.kernel.invokeFunction('convertToInteractive',\n",
              "                                                     [key], {});\n",
              "          if (!dataTable) return;\n",
              "\n",
              "          const docLinkHtml = 'Like what you see? Visit the ' +\n",
              "            '<a target=\"_blank\" href=https://colab.research.google.com/notebooks/data_table.ipynb>data table notebook</a>'\n",
              "            + ' to learn more about interactive tables.';\n",
              "          element.innerHTML = '';\n",
              "          dataTable['output_type'] = 'display_data';\n",
              "          await google.colab.output.renderOutput(dataTable, element);\n",
              "          const docLink = document.createElement('div');\n",
              "          docLink.innerHTML = docLinkHtml;\n",
              "          element.appendChild(docLink);\n",
              "        }\n",
              "      </script>\n",
              "    </div>\n",
              "  </div>\n",
              "  "
            ]
          },
          "metadata": {},
          "execution_count": 82
        }
      ],
      "source": [
        "%%time\n",
        "from vaderSentiment_fr.vaderSentiment import SentimentIntensityAnalyzer\n",
        "\n",
        "SIA = SentimentIntensityAnalyzer()\n",
        "\n",
        "def analyse_sentimentale(tweet_isole):   \n",
        "    sentiment = SIA.polarity_scores_max(tweet_isole) #utilisation de polarity_scores_max au lieu de polarity_scores. polarity_scores_max utilise fuzzywuzzy pour obtenir les mots les plus similaires avec les entrées. Par exemple \"connar\" ne sera pas détecté avec polarity_scores tandis qu'avec polarity_scores_max il le sera.  \n",
        "    features = [sentiment['neg'], sentiment['pos'], sentiment['neu'], sentiment['compound']]\n",
        "    #features = pd.DataFrame(features)\n",
        "    return features\n",
        "\n",
        "def analyse_sentimentale_array(tweets):\n",
        "    features=[]\n",
        "    for t in tweets:\n",
        "        features.append(analyse_sentimentale(t))\n",
        "    return np.array(features)\n",
        "\n",
        "final_features = analyse_sentimentale_array(tweet_isole)\n",
        "#final_features\n",
        "\n",
        "# en affichant le tweet donné en argument on se rend compte que c'est juste un seul tweet composé de  6 mots \n",
        "# alors qu'on a 50 lignes ? ? \n",
        "\n",
        "new_features = pd.DataFrame({'Neg':final_features[:,0],'Pos':final_features[:,1],'Neu':final_features[:,2],'Compound':final_features[:,3]}) #le score composé est calculé en additionnant les scores de valence de chaque mot du lexique, ajustés selon les règles, puis normalisés entre -1 (négatif le plus extrême) et +1 (positif le plus extrême)\n",
        "\n",
        "new_features"
      ]
    },
    {
      "cell_type": "code",
      "execution_count": null,
      "metadata": {
        "id": "f14iB-QDrgGw",
        "colab": {
          "base_uri": "https://localhost:8080/"
        },
        "outputId": "a101b6bd-02a9-4dd8-f02e-5979b424eef7"
      },
      "outputs": [
        {
          "output_type": "execute_result",
          "data": {
            "text/plain": [
              "(4014, 1054)"
            ]
          },
          "metadata": {},
          "execution_count": 83
        }
      ],
      "source": [
        "#Features-F2 : Concaténation des scores tf-idf et des scores de sentiment  \n",
        "tfidf_a = tfidf.toarray()\n",
        "modelling_features = np.concatenate([tfidf_a,final_features],axis=1)\n",
        "modelling_features.shape"
      ]
    },
    {
      "cell_type": "markdown",
      "metadata": {
        "id": "KEz_Zd8AvNpN"
      },
      "source": [
        "## Exécution des modèles en utilisant TFIDF avec des features supplémentaires : scores de polarité  \n"
      ]
    },
    {
      "cell_type": "code",
      "execution_count": null,
      "metadata": {
        "id": "Y1LqurnkvLE9",
        "colab": {
          "base_uri": "https://localhost:8080/"
        },
        "outputId": "8f4c1e27-21f5-4350-d496-3bb4d94da78e"
      },
      "outputs": [
        {
          "output_type": "stream",
          "name": "stdout",
          "text": [
            "              precision    recall  f1-score   support\n",
            "\n",
            "           0       0.67      0.04      0.08       184\n",
            "           1       0.78      0.99      0.87       619\n",
            "\n",
            "    accuracy                           0.78       803\n",
            "   macro avg       0.72      0.52      0.48       803\n",
            "weighted avg       0.75      0.78      0.69       803\n",
            "\n",
            "Régression logistique, score de l'accuracy: 0.775840597758406\n"
          ]
        }
      ],
      "source": [
        "#exécution des modèles en utilisant TFIDF avec les features obtenues lors de l'analyse des sentiments \n",
        "#Régression logistique\n",
        "X = pd.DataFrame(modelling_features)\n",
        "y = data_frame['sentiment'].astype(int)\n",
        "X_train_bow, X_test_bow, y_train, y_test = train_test_split(X, y, random_state=42, test_size=0.2)\n",
        "\n",
        "model = LogisticRegression().fit(X_train_bow,y_train)\n",
        "y_predictions = model.predict(X_test_bow)\n",
        "rapport = classification_report(y_test, y_predictions)\n",
        "print(rapport)\n",
        "acc=accuracy_score(y_test, y_predictions)\n",
        "print(\"Régression logistique, score de l'accuracy:\" , acc)"
      ]
    },
    {
      "cell_type": "markdown",
      "source": [
        "Ici le recall pour la classe de tweet dits \"normal\" est vraiment très bas"
      ],
      "metadata": {
        "id": "B-e4Duy9XddC"
      }
    },
    {
      "cell_type": "code",
      "execution_count": null,
      "metadata": {
        "id": "2OfivxLXxxdj",
        "colab": {
          "base_uri": "https://localhost:8080/"
        },
        "outputId": "b5ebf170-88bd-45a5-c11c-ef8a0fcd1501"
      },
      "outputs": [
        {
          "output_type": "stream",
          "name": "stdout",
          "text": [
            "              precision    recall  f1-score   support\n",
            "\n",
            "           0       0.49      0.11      0.18       184\n",
            "           1       0.78      0.97      0.87       619\n",
            "\n",
            "    accuracy                           0.77       803\n",
            "   macro avg       0.64      0.54      0.52       803\n",
            "weighted avg       0.72      0.77      0.71       803\n",
            "\n",
            "Random Forest, score de l'accuracy: 0.7696139476961394\n"
          ]
        }
      ],
      "source": [
        "#Random Forest\n",
        "X = pd.DataFrame(modelling_features)\n",
        "y = data_frame['sentiment'].astype(int)\n",
        "X_train_bow, X_test_bow, y_train, y_test = train_test_split(X, y, random_state=42, test_size=0.2)\n",
        "rf=RandomForestClassifier()\n",
        "rf.fit(X_train_bow,y_train)\n",
        "y_predictions = rf.predict(X_test_bow)\n",
        "acc1=accuracy_score(y_test,y_predictions)\n",
        "rapport = classification_report( y_test, y_predictions)\n",
        "print(rapport)\n",
        "print(\"Random Forest, score de l'accuracy:\",acc1)"
      ]
    },
    {
      "cell_type": "markdown",
      "source": [
        "même constat que plus haut"
      ],
      "metadata": {
        "id": "k1P-nRwhbKyN"
      }
    },
    {
      "cell_type": "code",
      "execution_count": null,
      "metadata": {
        "id": "Swl_ebk7yGFD",
        "colab": {
          "base_uri": "https://localhost:8080/"
        },
        "outputId": "8e2e9b60-674a-41c3-d627-d74458f324c4"
      },
      "outputs": [
        {
          "output_type": "stream",
          "name": "stdout",
          "text": [
            "              precision    recall  f1-score   support\n",
            "\n",
            "           0       0.22      0.59      0.32       184\n",
            "           1       0.75      0.37      0.50       619\n",
            "\n",
            "    accuracy                           0.42       803\n",
            "   macro avg       0.49      0.48      0.41       803\n",
            "weighted avg       0.63      0.42      0.46       803\n",
            "\n",
            "Naive Bayes, score de l'accuracy: 0.42216687422166876\n"
          ]
        }
      ],
      "source": [
        "#Naive Bayes \n",
        "X = pd.DataFrame(modelling_features)\n",
        "y = data_frame['sentiment'].astype(int)\n",
        "X_train_bow, X_test_bow, y_train, y_test = train_test_split(X, y, random_state=42, test_size=0.2)\n",
        "nb=GaussianNB()\n",
        "nb.fit(X_train_bow,y_train)\n",
        "y_predictions = nb.predict(X_test_bow)\n",
        "acc2=accuracy_score(y_test,y_predictions)\n",
        "rapport = classification_report(y_test, y_predictions)\n",
        "print(rapport)\n",
        "print(\"Naive Bayes, score de l'accuracy:\",acc2)"
      ]
    },
    {
      "cell_type": "markdown",
      "source": [
        "beucoup mieux concernant lerecall mais l'efficacité  globale reste basse"
      ],
      "metadata": {
        "id": "1GNMj7qXbV7_"
      }
    },
    {
      "cell_type": "code",
      "execution_count": null,
      "metadata": {
        "id": "0U3TqiV4ykHv",
        "colab": {
          "base_uri": "https://localhost:8080/"
        },
        "outputId": "35febf92-32aa-4bf5-da2c-b968565d3baa"
      },
      "outputs": [
        {
          "output_type": "stream",
          "name": "stdout",
          "text": [
            "              precision    recall  f1-score   support\n",
            "\n",
            "           0       0.42      0.18      0.25       184\n",
            "           1       0.79      0.93      0.85       619\n",
            "\n",
            "    accuracy                           0.76       803\n",
            "   macro avg       0.61      0.55      0.55       803\n",
            "weighted avg       0.71      0.76      0.72       803\n",
            "\n",
            "SVM, score de l'accuracy: 0.7559153175591532\n"
          ]
        }
      ],
      "source": [
        "#SVM \n",
        "X = pd.DataFrame(modelling_features)\n",
        "y = data_frame['sentiment'].astype(int)\n",
        "X_train_bow, X_test_bow, y_train, y_test = train_test_split(X, y, random_state=42, test_size=0.2)\n",
        "support =LinearSVC(random_state=20)\n",
        "support.fit(X_train_bow,y_train)\n",
        "y_predictions = support.predict(X_test_bow)\n",
        "acc3=accuracy_score(y_test,y_predictions)\n",
        "rapport = classification_report( y_test, y_predictions)\n",
        "print(rapport)\n",
        "print(\"SVM, score de l'accuracy:\" , acc3)"
      ]
    },
    {
      "cell_type": "code",
      "execution_count": null,
      "metadata": {
        "id": "dHAyLPsMzAI1",
        "colab": {
          "base_uri": "https://localhost:8080/",
          "height": 282
        },
        "outputId": "e51c8c58-b197-43b8-9fc1-a78ae6b44edf"
      },
      "outputs": [
        {
          "output_type": "display_data",
          "data": {
            "text/plain": [
              "<Figure size 432x288 with 1 Axes>"
            ],
            "image/png": "[encoded data removed]"
          },
          "metadata": {
            "needs_background": "light"
          }
        }
      ],
      "source": [
        "algorithmes = ('R_Logistique', 'RandomForest', 'Naive_Bayes', 'SVM')\n",
        "y_pos = np.arange(len(algorithmes))\n",
        "performance = [acc,acc1,acc2,acc3]\n",
        "plt.bar(y_pos, performance, align='center', alpha=0.5)\n",
        "plt.xticks(y_pos, algorithmes)\n",
        "plt.ylabel('Accuracy')\n",
        "plt.title('Comparaison des algorithmes pour Features-F2')\n",
        "plt.show()"
      ]
    },
    {
      "cell_type": "code",
      "execution_count": null,
      "metadata": {
        "id": "NSgniPK3zV9H",
        "colab": {
          "base_uri": "https://localhost:8080/",
          "height": 424
        },
        "outputId": "1665d4c8-b55a-4e3f-cb90-3513a417e179"
      },
      "outputs": [
        {
          "output_type": "execute_result",
          "data": {
            "text/plain": [
              "      doc2vec_vector_0  doc2vec_vector_1  doc2vec_vector_2  doc2vec_vector_3  \\\n",
              "0            -0.097177          0.051620         -0.020967          0.074801   \n",
              "1            -0.057532         -0.091608          0.064890          0.084892   \n",
              "2            -0.070227          0.104464         -0.082660         -0.069084   \n",
              "3            -0.063943          0.055211          0.034964          0.012856   \n",
              "4            -0.067426         -0.070774          0.058454          0.003984   \n",
              "...                ...               ...               ...               ...   \n",
              "4009         -0.006250          0.084319         -0.019520          0.049960   \n",
              "4010          0.072206          0.067575          0.016028         -0.010992   \n",
              "4011         -0.078895         -0.070685          0.023422         -0.068774   \n",
              "4012          0.007926          0.071092         -0.088630          0.093550   \n",
              "4013         -0.022749          0.085138         -0.010642         -0.055861   \n",
              "\n",
              "      doc2vec_vector_4  \n",
              "0             0.006552  \n",
              "1             0.090845  \n",
              "2            -0.031701  \n",
              "3            -0.035432  \n",
              "4            -0.041240  \n",
              "...                ...  \n",
              "4009         -0.017216  \n",
              "4010          0.085433  \n",
              "4011         -0.059571  \n",
              "4012          0.070773  \n",
              "4013          0.093862  \n",
              "\n",
              "[4014 rows x 5 columns]"
            ],
            "text/html": [
              "\n",
              "  <div id=\"df-d9e8166c-b2b9-40ee-856f-09bf9395e40e\">\n",
              "    <div class=\"colab-df-container\">\n",
              "      <div>\n",
              "<style scoped>\n",
              "    .dataframe tbody tr th:only-of-type {\n",
              "        vertical-align: middle;\n",
              "    }\n",
              "\n",
              "    .dataframe tbody tr th {\n",
              "        vertical-align: top;\n",
              "    }\n",
              "\n",
              "    .dataframe thead th {\n",
              "        text-align: right;\n",
              "    }\n",
              "</style>\n",
              "<table border=\"1\" class=\"dataframe\">\n",
              "  <thead>\n",
              "    <tr style=\"text-align: right;\">\n",
              "      <th></th>\n",
              "      <th>doc2vec_vector_0</th>\n",
              "      <th>doc2vec_vector_1</th>\n",
              "      <th>doc2vec_vector_2</th>\n",
              "      <th>doc2vec_vector_3</th>\n",
              "      <th>doc2vec_vector_4</th>\n",
              "    </tr>\n",
              "  </thead>\n",
              "  <tbody>\n",
              "    <tr>\n",
              "      <th>0</th>\n",
              "      <td>-0.097177</td>\n",
              "      <td>0.051620</td>\n",
              "      <td>-0.020967</td>\n",
              "      <td>0.074801</td>\n",
              "      <td>0.006552</td>\n",
              "    </tr>\n",
              "    <tr>\n",
              "      <th>1</th>\n",
              "      <td>-0.057532</td>\n",
              "      <td>-0.091608</td>\n",
              "      <td>0.064890</td>\n",
              "      <td>0.084892</td>\n",
              "      <td>0.090845</td>\n",
              "    </tr>\n",
              "    <tr>\n",
              "      <th>2</th>\n",
              "      <td>-0.070227</td>\n",
              "      <td>0.104464</td>\n",
              "      <td>-0.082660</td>\n",
              "      <td>-0.069084</td>\n",
              "      <td>-0.031701</td>\n",
              "    </tr>\n",
              "    <tr>\n",
              "      <th>3</th>\n",
              "      <td>-0.063943</td>\n",
              "      <td>0.055211</td>\n",
              "      <td>0.034964</td>\n",
              "      <td>0.012856</td>\n",
              "      <td>-0.035432</td>\n",
              "    </tr>\n",
              "    <tr>\n",
              "      <th>4</th>\n",
              "      <td>-0.067426</td>\n",
              "      <td>-0.070774</td>\n",
              "      <td>0.058454</td>\n",
              "      <td>0.003984</td>\n",
              "      <td>-0.041240</td>\n",
              "    </tr>\n",
              "    <tr>\n",
              "      <th>...</th>\n",
              "      <td>...</td>\n",
              "      <td>...</td>\n",
              "      <td>...</td>\n",
              "      <td>...</td>\n",
              "      <td>...</td>\n",
              "    </tr>\n",
              "    <tr>\n",
              "      <th>4009</th>\n",
              "      <td>-0.006250</td>\n",
              "      <td>0.084319</td>\n",
              "      <td>-0.019520</td>\n",
              "      <td>0.049960</td>\n",
              "      <td>-0.017216</td>\n",
              "    </tr>\n",
              "    <tr>\n",
              "      <th>4010</th>\n",
              "      <td>0.072206</td>\n",
              "      <td>0.067575</td>\n",
              "      <td>0.016028</td>\n",
              "      <td>-0.010992</td>\n",
              "      <td>0.085433</td>\n",
              "    </tr>\n",
              "    <tr>\n",
              "      <th>4011</th>\n",
              "      <td>-0.078895</td>\n",
              "      <td>-0.070685</td>\n",
              "      <td>0.023422</td>\n",
              "      <td>-0.068774</td>\n",
              "      <td>-0.059571</td>\n",
              "    </tr>\n",
              "    <tr>\n",
              "      <th>4012</th>\n",
              "      <td>0.007926</td>\n",
              "      <td>0.071092</td>\n",
              "      <td>-0.088630</td>\n",
              "      <td>0.093550</td>\n",
              "      <td>0.070773</td>\n",
              "    </tr>\n",
              "    <tr>\n",
              "      <th>4013</th>\n",
              "      <td>-0.022749</td>\n",
              "      <td>0.085138</td>\n",
              "      <td>-0.010642</td>\n",
              "      <td>-0.055861</td>\n",
              "      <td>0.093862</td>\n",
              "    </tr>\n",
              "  </tbody>\n",
              "</table>\n",
              "<p>4014 rows × 5 columns</p>\n",
              "</div>\n",
              "      <button class=\"colab-df-convert\" onclick=\"convertToInteractive('df-d9e8166c-b2b9-40ee-856f-09bf9395e40e')\"\n",
              "              title=\"Convert this dataframe to an interactive table.\"\n",
              "              style=\"display:none;\">\n",
              "        \n",
              "  <svg xmlns=\"http://www.w3.org/2000/svg\" height=\"24px\"viewBox=\"0 0 24 24\"\n",
              "       width=\"24px\">\n",
              "    <path d=\"M0 0h24v24H0V0z\" fill=\"none\"/>\n",
              "    <path d=\"M18.56 5.44l.94 2.06.94-2.06 2.06-.94-2.06-.94-.94-2.06-.94 2.06-2.06.94zm-11 1L8.5 8.5l.94-2.06 2.06-.94-2.06-.94L8.5 2.5l-.94 2.06-2.06.94zm10 10l.94 2.06.94-2.06 2.06-.94-2.06-.94-.94-2.06-.94 2.06-2.06.94z\"/><path d=\"M17.41 7.96l-1.37-1.37c-.4-.4-.92-.59-1.43-.59-.52 0-1.04.2-1.43.59L10.3 9.45l-7.72 7.72c-.78.78-.78 2.05 0 2.83L4 21.41c.39.39.9.59 1.41.59.51 0 1.02-.2 1.41-.59l7.78-7.78 2.81-2.81c.8-.78.8-2.07 0-2.86zM5.41 20L4 18.59l7.72-7.72 1.47 1.35L5.41 20z\"/>\n",
              "  </svg>\n",
              "      </button>\n",
              "      \n",
              "  <style>\n",
              "    .colab-df-container {\n",
              "      display:flex;\n",
              "      flex-wrap:wrap;\n",
              "      gap: 12px;\n",
              "    }\n",
              "\n",
              "    .colab-df-convert {\n",
              "      background-color: #E8F0FE;\n",
              "      border: none;\n",
              "      border-radius: 50%;\n",
              "      cursor: pointer;\n",
              "      display: none;\n",
              "      fill: #1967D2;\n",
              "      height: 32px;\n",
              "      padding: 0 0 0 0;\n",
              "      width: 32px;\n",
              "    }\n",
              "\n",
              "    .colab-df-convert:hover {\n",
              "      background-color: #E2EBFA;\n",
              "      box-shadow: 0px 1px 2px rgba(60, 64, 67, 0.3), 0px 1px 3px 1px rgba(60, 64, 67, 0.15);\n",
              "      fill: #174EA6;\n",
              "    }\n",
              "\n",
              "    [theme=dark] .colab-df-convert {\n",
              "      background-color: #3B4455;\n",
              "      fill: #D2E3FC;\n",
              "    }\n",
              "\n",
              "    [theme=dark] .colab-df-convert:hover {\n",
              "      background-color: #434B5C;\n",
              "      box-shadow: 0px 1px 3px 1px rgba(0, 0, 0, 0.15);\n",
              "      filter: drop-shadow(0px 1px 2px rgba(0, 0, 0, 0.3));\n",
              "      fill: #FFFFFF;\n",
              "    }\n",
              "  </style>\n",
              "\n",
              "      <script>\n",
              "        const buttonEl =\n",
              "          document.querySelector('#df-d9e8166c-b2b9-40ee-856f-09bf9395e40e button.colab-df-convert');\n",
              "        buttonEl.style.display =\n",
              "          google.colab.kernel.accessAllowed ? 'block' : 'none';\n",
              "\n",
              "        async function convertToInteractive(key) {\n",
              "          const element = document.querySelector('#df-d9e8166c-b2b9-40ee-856f-09bf9395e40e');\n",
              "          const dataTable =\n",
              "            await google.colab.kernel.invokeFunction('convertToInteractive',\n",
              "                                                     [key], {});\n",
              "          if (!dataTable) return;\n",
              "\n",
              "          const docLinkHtml = 'Like what you see? Visit the ' +\n",
              "            '<a target=\"_blank\" href=https://colab.research.google.com/notebooks/data_table.ipynb>data table notebook</a>'\n",
              "            + ' to learn more about interactive tables.';\n",
              "          element.innerHTML = '';\n",
              "          dataTable['output_type'] = 'display_data';\n",
              "          await google.colab.output.renderOutput(dataTable, element);\n",
              "          const docLink = document.createElement('div');\n",
              "          docLink.innerHTML = docLinkHtml;\n",
              "          element.appendChild(docLink);\n",
              "        }\n",
              "      </script>\n",
              "    </div>\n",
              "  </div>\n",
              "  "
            ]
          },
          "metadata": {},
          "execution_count": 89
        }
      ],
      "source": [
        "#créer des colonnes vectorielles doc2vec \n",
        "#initialiser et entraîner le modèle\n",
        "from gensim.test.utils import common_texts\n",
        "from gensim.models.doc2vec import Doc2Vec, TaggedDocument\n",
        "#le input d'un modèle Doc2Vec doit être une liste de TaggedDocument(['liste','de','mots'], [TAG_001])\n",
        "#une bonne pratique consiste à utiliser les index des tweets comme tags \n",
        "documents = [TaggedDocument(doc, [i]) for i, doc in enumerate(data_frame['clean_tweet'].apply(lambda x: x.split(\" \")))]\n",
        "\n",
        "# former un modèle Doc2Vec avec nos données textuelles\n",
        "# window - la distance maximale entre le mot actuel et le mot prédit dans une phrase\n",
        "# mincount - ignore tous les mots dont la fréquence totale est inférieure à celle-ci\n",
        "# training model - distributed bag of words (PV-DBOW) est utilisé\n",
        "modele = Doc2Vec(documents,vector_size=5, window=2, min_count=1, workers=4)\n",
        "\n",
        "#infer_vector - Infer a vector for given post-bulk training document.\n",
        "#syntaxe - infer_vector(doc_words, alpha=None, min_alpha=None, epochs=None, steps=None)\n",
        "#doc_words - A document for which the vector representation will be inferred.\n",
        "\n",
        "#transformer chaque tweet en données vectorielles \n",
        "doc2vec_df = data_frame['clean_tweet'].apply(lambda x: modele.infer_vector(x.split(\" \"))).apply(pd.Series)\n",
        "doc2vec_df.columns = [\"doc2vec_vector_\" + str(x) for x in doc2vec_df.columns]\n",
        "doc2vec_df"
      ]
    },
    {
      "cell_type": "code",
      "execution_count": null,
      "metadata": {
        "id": "9bK8IeBqERHO",
        "colab": {
          "base_uri": "https://localhost:8080/"
        },
        "outputId": "87e68cc0-e915-4721-e611-88fcefaead8e"
      },
      "outputs": [
        {
          "output_type": "execute_result",
          "data": {
            "text/plain": [
              "(4014, 1059)"
            ]
          },
          "metadata": {},
          "execution_count": 90
        }
      ],
      "source": [
        "##Features-F3 : concaténation des scores tf-idf, des scores de sentiment et des colonnes doc2vec\n",
        "modelling_features = np.concatenate([tfidf_a,final_features,doc2vec_df],axis=1)\n",
        "modelling_features.shape"
      ]
    },
    {
      "cell_type": "markdown",
      "metadata": {
        "id": "lmF4J8uEFW2w"
      },
      "source": [
        "## Exécution des modèles en utilisant TFIDF avec des features supplémentaires : scores de polarité et doc2vec"
      ]
    },
    {
      "cell_type": "code",
      "execution_count": null,
      "metadata": {
        "id": "uRadqPdDFrAa",
        "colab": {
          "base_uri": "https://localhost:8080/"
        },
        "outputId": "89691378-5674-4cfc-bcd9-d8e03c1996b5"
      },
      "outputs": [
        {
          "output_type": "stream",
          "name": "stdout",
          "text": [
            "              precision    recall  f1-score   support\n",
            "\n",
            "           0       0.67      0.04      0.08       184\n",
            "           1       0.78      0.99      0.87       619\n",
            "\n",
            "    accuracy                           0.78       803\n",
            "   macro avg       0.72      0.52      0.48       803\n",
            "weighted avg       0.75      0.78      0.69       803\n",
            "\n",
            "Régression logistique, score de l'accuracy: 0.775840597758406\n"
          ]
        }
      ],
      "source": [
        "#Régression logistique\n",
        "X = pd.DataFrame(modelling_features)\n",
        "y = data_frame['sentiment'].astype(int)\n",
        "X_train_bow, X_test_bow, y_train, y_test = train_test_split(X, y, random_state=42, test_size=0.2)\n",
        "\n",
        "model = LogisticRegression().fit(X_train_bow,y_train)\n",
        "y_predictions = model.predict(X_test_bow)\n",
        "rapport = classification_report(y_test, y_predictions)\n",
        "print(rapport)\n",
        "acc=accuracy_score(y_test, y_predictions)\n",
        "print(\"Régression logistique, score de l'accuracy:\" , acc)"
      ]
    },
    {
      "cell_type": "code",
      "execution_count": null,
      "metadata": {
        "id": "mP8RNA4QGdYf",
        "colab": {
          "base_uri": "https://localhost:8080/"
        },
        "outputId": "da3ca5e1-59c5-4964-ec1b-110f11e147e9"
      },
      "outputs": [
        {
          "output_type": "stream",
          "name": "stdout",
          "text": [
            "              precision    recall  f1-score   support\n",
            "\n",
            "           0       0.54      0.07      0.12       184\n",
            "           1       0.78      0.98      0.87       619\n",
            "\n",
            "    accuracy                           0.77       803\n",
            "   macro avg       0.66      0.53      0.50       803\n",
            "weighted avg       0.73      0.77      0.70       803\n",
            "\n",
            "Random Forest, score de l'accuracy: 0.7733499377334994\n"
          ]
        }
      ],
      "source": [
        "#Random Forest\n",
        "X = pd.DataFrame(modelling_features)\n",
        "y = data_frame['sentiment'].astype(int)\n",
        "X_train_bow, X_test_bow, y_train, y_test = train_test_split(X, y, random_state=42, test_size=0.2)\n",
        "rf=RandomForestClassifier()\n",
        "rf.fit(X_train_bow,y_train)\n",
        "y_predictions = rf.predict(X_test_bow)\n",
        "acc1=accuracy_score(y_test,y_predictions)\n",
        "rapport = classification_report( y_test, y_predictions)\n",
        "print(rapport)\n",
        "print(\"Random Forest, score de l'accuracy:\",acc1)"
      ]
    },
    {
      "cell_type": "code",
      "execution_count": null,
      "metadata": {
        "id": "7V_lc4-YGsTq",
        "colab": {
          "base_uri": "https://localhost:8080/"
        },
        "outputId": "51dd0af8-be21-4b75-d9e1-9a1b661d0eea"
      },
      "outputs": [
        {
          "output_type": "stream",
          "name": "stdout",
          "text": [
            "              precision    recall  f1-score   support\n",
            "\n",
            "           0       0.22      0.59      0.32       184\n",
            "           1       0.75      0.37      0.50       619\n",
            "\n",
            "    accuracy                           0.42       803\n",
            "   macro avg       0.49      0.48      0.41       803\n",
            "weighted avg       0.63      0.42      0.46       803\n",
            "\n",
            "Naive Bayes, score de l'accuracy: 0.42216687422166876\n"
          ]
        }
      ],
      "source": [
        "#Naive Bayes \n",
        "X = pd.DataFrame(modelling_features)\n",
        "y = data_frame['sentiment'].astype(int)\n",
        "X_train_bow, X_test_bow, y_train, y_test = train_test_split(X, y, random_state=42, test_size=0.2)\n",
        "nb=GaussianNB()\n",
        "nb.fit(X_train_bow,y_train)\n",
        "y_predictions = nb.predict(X_test_bow)\n",
        "acc2=accuracy_score(y_test,y_predictions)\n",
        "rapport = classification_report(y_test, y_predictions)\n",
        "print(rapport)\n",
        "print(\"Naive Bayes, score de l'accuracy:\",acc2)"
      ]
    },
    {
      "cell_type": "code",
      "execution_count": null,
      "metadata": {
        "id": "hxFksfE-G2oh",
        "colab": {
          "base_uri": "https://localhost:8080/"
        },
        "outputId": "79888f13-c11e-47a1-80d8-b8dd36a69fbc"
      },
      "outputs": [
        {
          "output_type": "stream",
          "name": "stdout",
          "text": [
            "              precision    recall  f1-score   support\n",
            "\n",
            "           0       0.43      0.18      0.25       184\n",
            "           1       0.79      0.93      0.86       619\n",
            "\n",
            "    accuracy                           0.76       803\n",
            "   macro avg       0.61      0.55      0.55       803\n",
            "weighted avg       0.71      0.76      0.72       803\n",
            "\n",
            "SVM, score de l'accuracy: 0.7571606475716065\n"
          ]
        }
      ],
      "source": [
        "#SVM \n",
        "X = pd.DataFrame(modelling_features)\n",
        "y = data_frame['sentiment'].astype(int)\n",
        "X_train_bow, X_test_bow, y_train, y_test = train_test_split(X, y, random_state=42, test_size=0.2)\n",
        "support =LinearSVC(random_state=20)\n",
        "support.fit(X_train_bow,y_train)\n",
        "y_predictions = support.predict(X_test_bow)\n",
        "acc3=accuracy_score(y_test,y_predictions)\n",
        "rapport = classification_report( y_test, y_predictions)\n",
        "print(rapport)\n",
        "print(\"SVM, score de l'accuracy:\" , acc3)"
      ]
    },
    {
      "cell_type": "code",
      "execution_count": null,
      "metadata": {
        "id": "nJoaw7lEG4Je",
        "colab": {
          "base_uri": "https://localhost:8080/",
          "height": 282
        },
        "outputId": "2c37a035-1010-4cfd-9fbd-81a0e9b10ed7"
      },
      "outputs": [
        {
          "output_type": "display_data",
          "data": {
            "text/plain": [
              "<Figure size 432x288 with 1 Axes>"
            ],
            "image/png": "[encoded data removed]"
          },
          "metadata": {
            "needs_background": "light"
          }
        }
      ],
      "source": [
        "algorithmes = ('R_Logistique', 'RandomForest', 'Naive_Bayes', 'SVM')\n",
        "y_pos = np.arange(len(algorithmes))\n",
        "performance = [acc,acc1,acc2,acc3]\n",
        "plt.bar(y_pos, performance, align='center', alpha=0.5)\n",
        "plt.xticks(y_pos, algorithmes)\n",
        "plt.ylabel('Accuracy')\n",
        "plt.title('Comparaison des algorithmes pour Features-F3')\n",
        "plt.show()"
      ]
    },
    {
      "cell_type": "code",
      "execution_count": null,
      "metadata": {
        "id": "i3uxPg0H2EB4",
        "colab": {
          "base_uri": "https://localhost:8080/",
          "height": 341
        },
        "outputId": "ebb5247f-3b40-46c2-f014-2d35599f27ac"
      },
      "outputs": [
        {
          "output_type": "display_data",
          "data": {
            "text/plain": [
              "<Figure size 360x360 with 1 Axes>"
            ],
            "image/png": "[encoded data removed]"
          },
          "metadata": {
            "needs_background": "light"
          }
        }
      ],
      "source": [
        "from sklearn.metrics import confusion_matrix\n",
        "matrice_confusion = confusion_matrix(y_test,y_preds)\n",
        "matrice_proportions = np.zeros((2,2))\n",
        "for i in range(0,2):\n",
        "    matrice_proportions[i,:] = matrice_confusion[i,:]/float(matrice_confusion[i,:].sum())\n",
        "names=['Neutre','Haineux']\n",
        "confusion_df = pd.DataFrame(matrice_proportions, index=names,columns=names)\n",
        "plt.figure(figsize=(5,5))\n",
        "sns.heatmap(confusion_df,annot=True,annot_kws={\"size\": 12},cmap='YlGnBu',cbar=False, square=True,fmt='.2f')\n",
        "plt.ylabel(r'Valeur réelle',fontsize=14)\n",
        "plt.xlabel(r'Valeur prédite',fontsize=14)\n",
        "plt.tick_params(labelsize=12)"
      ]
    },
    {
      "cell_type": "markdown",
      "metadata": {
        "id": "Rva_ut1j3ef4"
      },
      "source": [
        "En examinant la matrice de confusion ci-haute, il est clair que le modèle classe à tort 88 % des tweets neutres en tant que tweets offensants (faux positifs). Ceci  explique notamment la diminution de la barre de la classe-0 sur le deuxième histogramme ci-dessous accompagnée de l'augmentation de la barre pour la classe-1 (tweets haineux). À noter que l'exécution des précédents modèles de classification s'est fait sur les données originales déséquilibrées en raison du simple fait que l’analyse des sentiments avec Vader-fr (afin d'ajouter les scores de polarité qui en découle en tant que features additionnelles) ne pouvait malencontreusement être réalisée à partir des données suréchantillonnées avec SMOTE. Effectivement, SMOTE donne en retour des vecteurs numériques et non du véritable texte qui peut faire l'objet d'une analyse sentimentale. Bref, on constate ici l'importance d'équilibré ces classes."
      ]
    },
    {
      "cell_type": "code",
      "execution_count": null,
      "metadata": {
        "id": "BP4bPaIHuTeC",
        "colab": {
          "base_uri": "https://localhost:8080/"
        },
        "outputId": "0b26074f-4f10-40c4-8363-f0aef144f433"
      },
      "outputs": [
        {
          "output_type": "stream",
          "name": "stdout",
          "text": [
            "Classe prédite: [1 1 1 1 0 1 1 1 1 1]\n",
            "Classe réelle: [0, 1, 1, 1, 0, 1, 0, 0, 0, 0]\n"
          ]
        }
      ],
      "source": [
        "print(\"Classe prédite:\",y_predictions[0:10])\n",
        "print(\"Classe réelle:\",y_test.tolist()[0:10])"
      ]
    },
    {
      "cell_type": "code",
      "execution_count": null,
      "metadata": {
        "id": "ZSiQ3mlZxiBq",
        "colab": {
          "base_uri": "https://localhost:8080/",
          "height": 316
        },
        "outputId": "d73ba351-14b4-4535-cb12-2167caa6f5b6"
      },
      "outputs": [
        {
          "output_type": "execute_result",
          "data": {
            "text/plain": [
              "Text(0, 0.5, 'Nombre de tweets')"
            ]
          },
          "metadata": {},
          "execution_count": 98
        },
        {
          "output_type": "display_data",
          "data": {
            "text/plain": [
              "<Figure size 432x288 with 1 Axes>"
            ],
            "image/png": "[encoded data removed]"
          },
          "metadata": {
            "needs_background": "light"
          }
        }
      ],
      "source": [
        "#Histogramme représentant le nombre de tweets des différentes classes - Réel \n",
        "ax=y_test.hist()\n",
        "ax.set_xlabel(\"Classes\", labelpad=20, weight='bold', size=12)\n",
        "ax.set_ylabel(\"Nombre de tweets\", labelpad=20, weight='bold', size=12)"
      ]
    },
    {
      "cell_type": "code",
      "execution_count": null,
      "metadata": {
        "id": "6KeH-aT7x_IZ",
        "colab": {
          "base_uri": "https://localhost:8080/",
          "height": 316
        },
        "outputId": "1ce1fb91-23b1-4aff-de98-bb4945b2a680"
      },
      "outputs": [
        {
          "output_type": "execute_result",
          "data": {
            "text/plain": [
              "Text(0, 0.5, 'Nombre de tweets')"
            ]
          },
          "metadata": {},
          "execution_count": 99
        },
        {
          "output_type": "display_data",
          "data": {
            "text/plain": [
              "<Figure size 432x288 with 1 Axes>"
            ],
            "image/png": "[encoded data removed]"
          },
          "metadata": {
            "needs_background": "light"
          }
        }
      ],
      "source": [
        "#Histogramme représentant le nombre de tweets des différentes classes - Prédit\n",
        "ax=pd.Series(y_preds).hist()\n",
        "ax.set_xlabel(\"Classes\", labelpad=20, weight='bold', size=12)\n",
        "ax.set_ylabel(\"Nombre de tweets\", labelpad=20, weight='bold', size=12)"
      ]
    },
    {
      "cell_type": "markdown",
      "metadata": {
        "id": "TvCWYbb0r7HW"
      },
      "source": [
        "# Modèles LSTM et adversarial attacks  \n",
        "\n",
        "Objectif visé : entraîner des modèles LSTM (un créé à partir des données débalancées et l'autre à partir des données upsampled) et ensuite attaquer ces modèles à l'aide de TextAttack pour évaluer leur robustesse et résilience."
      ]
    },
    {
      "cell_type": "code",
      "execution_count": null,
      "metadata": {
        "id": "Zrh5Vpy1sAOp"
      },
      "outputs": [],
      "source": [
        "import tensorflow as tf\n",
        "from tensorflow.keras.preprocessing.text import Tokenizer\n",
        "from tensorflow.keras.preprocessing.sequence import pad_sequences\n",
        "from tensorflow.keras.models import Sequential\n",
        "from tensorflow.keras.layers import Embedding, Dense, LSTM\n",
        "from sklearn.metrics import classification_report"
      ]
    },
    {
      "cell_type": "code",
      "execution_count": null,
      "metadata": {
        "id": "hqzqry__vGf7"
      },
      "outputs": [],
      "source": [
        "X = updated_df.drop(['HITId', 'tweet', 'sentiment', 'text length', '#'], axis=1)\n",
        "y = updated_df['sentiment']\n",
        "\n",
        "#split le dataset : 80% training et 20% test set\n",
        "X_train, X_test, y_train, y_test = train_test_split(X, y, \n",
        "                                                    test_size=0.2, \n",
        "                                                    random_state=42,\n",
        "                                                    shuffle=True)"
      ]
    },
    {
      "cell_type": "code",
      "execution_count": null,
      "metadata": {
        "id": "8vxbDYPFtRrZ"
      },
      "outputs": [],
      "source": [
        "num_words = 10000\n",
        "\n",
        "#tokenizer les données d'entraînement\n",
        "tokenizer = Tokenizer(num_words=num_words) \n",
        "corpus = X_train['clean_tweet'].tolist() + X_test['clean_tweet'].tolist()\n",
        "tokenizer.fit_on_texts(corpus)"
      ]
    },
    {
      "cell_type": "code",
      "execution_count": null,
      "metadata": {
        "id": "Qltq7NIrxFAe"
      },
      "outputs": [],
      "source": [
        "#définir l'index des mots \n",
        "index_mots = tokenizer.word_index"
      ]
    },
    {
      "cell_type": "code",
      "execution_count": null,
      "metadata": {
        "id": "2WnyLR7TyUNj"
      },
      "outputs": [],
      "source": [
        "#encoder les données d'entraînement/test en séquences \n",
        "X_train_seq = tokenizer.texts_to_sequences(X_train['clean_tweet'].tolist())\n",
        "X_test_seq = tokenizer.texts_to_sequences(X_test['clean_tweet'].tolist())"
      ]
    },
    {
      "cell_type": "code",
      "execution_count": null,
      "metadata": {
        "id": "porUMggsyhr6",
        "colab": {
          "base_uri": "https://localhost:8080/"
        },
        "outputId": "5a17a21a-8f7c-441b-893a-c46ba15e9288"
      },
      "outputs": [
        {
          "output_type": "stream",
          "name": "stdout",
          "text": [
            "Longueur maximale de séquence 27\n",
            "\n",
            "Padded shape (training) : (3211, 27)\n",
            "Padded shape (test) :     (803, 27)\n"
          ]
        }
      ],
      "source": [
        "#définir le maximum de mots à prendre en compte dans chaque tweet \n",
        "maxlong = max([len(x) for x in X_train_seq])\n",
        "print(f\"Longueur maximale de séquence {maxlong}\\n\")\n",
        "\n",
        "# tronquer et padder les séquences d'entraînement/test \n",
        "X_train_pad = pad_sequences(X_train_seq, maxlen=maxlong)\n",
        "X_test_pad = pad_sequences(X_test_seq, maxlen=maxlong)\n",
        "\n",
        "#imprimer les dimensions résultantes \n",
        "print(\"Padded shape (training) :\".ljust(25), X_train_pad.shape)\n",
        "print(\"Padded shape (test) :\".ljust(25), X_test_pad.shape)"
      ]
    },
    {
      "cell_type": "markdown",
      "metadata": {
        "id": "N150onyjzWjb"
      },
      "source": [
        "## Réseaux neuronaux LSTM"
      ]
    },
    {
      "cell_type": "code",
      "execution_count": null,
      "metadata": {
        "id": "r_g5u6QzzZi2",
        "colab": {
          "base_uri": "https://localhost:8080/"
        },
        "outputId": "9ac67055-550e-48ad-8a95-d4e089988952"
      },
      "outputs": [
        {
          "output_type": "stream",
          "name": "stdout",
          "text": [
            "Model: \"sequential\"\n",
            "_________________________________________________________________\n",
            " Layer (type)                Output Shape              Param #   \n",
            "=================================================================\n",
            " embedding (Embedding)       (None, 27, 50)            480800    \n",
            "                                                                 \n",
            " lstm (LSTM)                 (None, 100)               60400     \n",
            "                                                                 \n",
            " dense (Dense)               (None, 1)                 101       \n",
            "                                                                 \n",
            "=================================================================\n",
            "Total params: 541,301\n",
            "Trainable params: 541,301\n",
            "Non-trainable params: 0\n",
            "_________________________________________________________________\n"
          ]
        }
      ],
      "source": [
        "#initier LSTM pour la classification des séquences \n",
        "modele = Sequential()\n",
        "\n",
        "#embed chaque numérique dans un vecteur à 50 dimensions \n",
        "modele.add(Embedding(len(index_mots) + 1, 50, input_length=maxlong))\n",
        "\n",
        "#ajouter une couche LSTM bidirectionnelle \n",
        "modele.add(LSTM(100, dropout=0.3, recurrent_dropout=0.3))\n",
        "\n",
        "#ajouter une classificateur\n",
        "modele.add(Dense(1, activation='sigmoid'))\n",
        "\n",
        "modele.compile(loss='binary_crossentropy', optimizer='adam',metrics=['accuracy'])\n",
        "    \n",
        "modele.summary()"
      ]
    },
    {
      "cell_type": "code",
      "execution_count": null,
      "metadata": {
        "id": "HX3BEMooAVrZ",
        "colab": {
          "base_uri": "https://localhost:8080/"
        },
        "outputId": "b4bbec41-0f7a-47e9-fa35-7d2eba860928"
      },
      "outputs": [
        {
          "output_type": "stream",
          "name": "stdout",
          "text": [
            "Epoch 1/5\n",
            "7/7 [==============================] - 6s 284ms/step - loss: 0.6745 - accuracy: 0.7331\n",
            "Epoch 2/5\n",
            "7/7 [==============================] - 2s 280ms/step - loss: 0.5602 - accuracy: 0.8016\n",
            "Epoch 3/5\n",
            "7/7 [==============================] - 2s 276ms/step - loss: 0.4930 - accuracy: 0.8016\n",
            "Epoch 4/5\n",
            "7/7 [==============================] - 2s 278ms/step - loss: 0.4867 - accuracy: 0.8016\n",
            "Epoch 5/5\n",
            "7/7 [==============================] - 2s 284ms/step - loss: 0.4733 - accuracy: 0.8016\n"
          ]
        },
        {
          "output_type": "execute_result",
          "data": {
            "text/plain": [
              "<keras.callbacks.History at 0x7fc0d91d2ad0>"
            ]
          },
          "metadata": {},
          "execution_count": 107
        }
      ],
      "source": [
        "batch_size = 512\n",
        "nbre_epochs = 5\n",
        "\n",
        "#entraîner le modèle\n",
        "modele.fit(X_train_pad, y_train, \n",
        "          epochs=nbre_epochs,\n",
        "          batch_size=batch_size)"
      ]
    },
    {
      "cell_type": "markdown",
      "metadata": {
        "id": "CLLrv4-5eI0Z"
      },
      "source": [
        "# fastText"
      ]
    },
    {
      "cell_type": "markdown",
      "metadata": {
        "id": "GZoZSdmme2DX"
      },
      "source": [
        "## Balancement des classes (remarque : temporaire avant de trouver une meilleure solution)"
      ]
    },
    {
      "cell_type": "code",
      "source": [
        "import random"
      ],
      "metadata": {
        "id": "4otA1V66cs-P"
      },
      "execution_count": null,
      "outputs": []
    },
    {
      "cell_type": "code",
      "execution_count": null,
      "metadata": {
        "id": "nuiFceUfe9pw",
        "colab": {
          "base_uri": "https://localhost:8080/"
        },
        "outputId": "dbe2e384-416d-4124-a4b9-01891b5e0de5"
      },
      "outputs": [
        {
          "output_type": "execute_result",
          "data": {
            "text/plain": [
              "821"
            ]
          },
          "metadata": {},
          "execution_count": 108
        }
      ],
      "source": [
        "min_num = min(data_frame.groupby('sentiment').size())\n",
        "min_num"
      ]
    },
    {
      "cell_type": "code",
      "execution_count": null,
      "metadata": {
        "id": "Em6j1EFRe9tq"
      },
      "outputs": [],
      "source": [
        "#Sous-échantillonnage de la classe majoritaire, à savoir les tweets neutres\n",
        "df_equilibre = data_frame.copy()\n",
        "\n",
        "MAX_TWEETS_PAR_SENTIMENT = min_num # ~ 821\n",
        "grouped = df_equilibre.groupby('sentiment')\n",
        "for ids in grouped.groups.values():\n",
        "    num_tweets = len(ids)    \n",
        "    if num_tweets > MAX_TWEETS_PAR_SENTIMENT:\n",
        "        sampling_size = num_tweets - MAX_TWEETS_PAR_SENTIMENT\n",
        "        ids_to_drop = random.sample(list(ids), sampling_size)\n",
        "        df_equilibre = df_equilibre.drop(ids_to_drop)"
      ]
    },
    {
      "cell_type": "code",
      "execution_count": null,
      "metadata": {
        "id": "jMp8N9Zie9v3",
        "colab": {
          "base_uri": "https://localhost:8080/",
          "height": 215
        },
        "outputId": "9ed32ab7-09e0-43f4-f1c2-e8fd53b32921"
      },
      "outputs": [
        {
          "output_type": "stream",
          "name": "stdout",
          "text": [
            "sentiment\n",
            "0    821\n",
            "1    821\n",
            "dtype: int64\n"
          ]
        },
        {
          "output_type": "execute_result",
          "data": {
            "text/plain": [
              "      HITId                                              tweet  sentiment  \\\n",
              "1689   1690      ptdrr mai c vraiment un peuple d’attardé @url          1   \n",
              "3362   3363  vu que je suis métisse quand je traine avec un...          1   \n",
              "2449   2450  @user @user la chaine alimentaire ne se defini...          0   \n",
              "\n",
              "      text length                                        clean_tweet  \\\n",
              "1689           45              ptdrr mai c vraiment peuple d’attardé   \n",
              "3362           85          métisse traine groupe renois disent tous…   \n",
              "2449          102  chaine alimentaire definitif necessite aliment...   \n",
              "\n",
              "           Hashtags  \n",
              "1689  Aucun hashtag  \n",
              "3362  Aucun hashtag  \n",
              "2449  Aucun hashtag  "
            ],
            "text/html": [
              "\n",
              "  <div id=\"df-b1790177-965b-4bce-9dd0-a09d4d480db3\">\n",
              "    <div class=\"colab-df-container\">\n",
              "      <div>\n",
              "<style scoped>\n",
              "    .dataframe tbody tr th:only-of-type {\n",
              "        vertical-align: middle;\n",
              "    }\n",
              "\n",
              "    .dataframe tbody tr th {\n",
              "        vertical-align: top;\n",
              "    }\n",
              "\n",
              "    .dataframe thead th {\n",
              "        text-align: right;\n",
              "    }\n",
              "</style>\n",
              "<table border=\"1\" class=\"dataframe\">\n",
              "  <thead>\n",
              "    <tr style=\"text-align: right;\">\n",
              "      <th></th>\n",
              "      <th>HITId</th>\n",
              "      <th>tweet</th>\n",
              "      <th>sentiment</th>\n",
              "      <th>text length</th>\n",
              "      <th>clean_tweet</th>\n",
              "      <th>Hashtags</th>\n",
              "    </tr>\n",
              "  </thead>\n",
              "  <tbody>\n",
              "    <tr>\n",
              "      <th>1689</th>\n",
              "      <td>1690</td>\n",
              "      <td>ptdrr mai c vraiment un peuple d’attardé @url</td>\n",
              "      <td>1</td>\n",
              "      <td>45</td>\n",
              "      <td>ptdrr mai c vraiment peuple d’attardé</td>\n",
              "      <td>Aucun hashtag</td>\n",
              "    </tr>\n",
              "    <tr>\n",
              "      <th>3362</th>\n",
              "      <td>3363</td>\n",
              "      <td>vu que je suis métisse quand je traine avec un...</td>\n",
              "      <td>1</td>\n",
              "      <td>85</td>\n",
              "      <td>métisse traine groupe renois disent tous…</td>\n",
              "      <td>Aucun hashtag</td>\n",
              "    </tr>\n",
              "    <tr>\n",
              "      <th>2449</th>\n",
              "      <td>2450</td>\n",
              "      <td>@user @user la chaine alimentaire ne se defini...</td>\n",
              "      <td>0</td>\n",
              "      <td>102</td>\n",
              "      <td>chaine alimentaire definitif necessite aliment...</td>\n",
              "      <td>Aucun hashtag</td>\n",
              "    </tr>\n",
              "  </tbody>\n",
              "</table>\n",
              "</div>\n",
              "      <button class=\"colab-df-convert\" onclick=\"convertToInteractive('df-b1790177-965b-4bce-9dd0-a09d4d480db3')\"\n",
              "              title=\"Convert this dataframe to an interactive table.\"\n",
              "              style=\"display:none;\">\n",
              "        \n",
              "  <svg xmlns=\"http://www.w3.org/2000/svg\" height=\"24px\"viewBox=\"0 0 24 24\"\n",
              "       width=\"24px\">\n",
              "    <path d=\"M0 0h24v24H0V0z\" fill=\"none\"/>\n",
              "    <path d=\"M18.56 5.44l.94 2.06.94-2.06 2.06-.94-2.06-.94-.94-2.06-.94 2.06-2.06.94zm-11 1L8.5 8.5l.94-2.06 2.06-.94-2.06-.94L8.5 2.5l-.94 2.06-2.06.94zm10 10l.94 2.06.94-2.06 2.06-.94-2.06-.94-.94-2.06-.94 2.06-2.06.94z\"/><path d=\"M17.41 7.96l-1.37-1.37c-.4-.4-.92-.59-1.43-.59-.52 0-1.04.2-1.43.59L10.3 9.45l-7.72 7.72c-.78.78-.78 2.05 0 2.83L4 21.41c.39.39.9.59 1.41.59.51 0 1.02-.2 1.41-.59l7.78-7.78 2.81-2.81c.8-.78.8-2.07 0-2.86zM5.41 20L4 18.59l7.72-7.72 1.47 1.35L5.41 20z\"/>\n",
              "  </svg>\n",
              "      </button>\n",
              "      \n",
              "  <style>\n",
              "    .colab-df-container {\n",
              "      display:flex;\n",
              "      flex-wrap:wrap;\n",
              "      gap: 12px;\n",
              "    }\n",
              "\n",
              "    .colab-df-convert {\n",
              "      background-color: #E8F0FE;\n",
              "      border: none;\n",
              "      border-radius: 50%;\n",
              "      cursor: pointer;\n",
              "      display: none;\n",
              "      fill: #1967D2;\n",
              "      height: 32px;\n",
              "      padding: 0 0 0 0;\n",
              "      width: 32px;\n",
              "    }\n",
              "\n",
              "    .colab-df-convert:hover {\n",
              "      background-color: #E2EBFA;\n",
              "      box-shadow: 0px 1px 2px rgba(60, 64, 67, 0.3), 0px 1px 3px 1px rgba(60, 64, 67, 0.15);\n",
              "      fill: #174EA6;\n",
              "    }\n",
              "\n",
              "    [theme=dark] .colab-df-convert {\n",
              "      background-color: #3B4455;\n",
              "      fill: #D2E3FC;\n",
              "    }\n",
              "\n",
              "    [theme=dark] .colab-df-convert:hover {\n",
              "      background-color: #434B5C;\n",
              "      box-shadow: 0px 1px 3px 1px rgba(0, 0, 0, 0.15);\n",
              "      filter: drop-shadow(0px 1px 2px rgba(0, 0, 0, 0.3));\n",
              "      fill: #FFFFFF;\n",
              "    }\n",
              "  </style>\n",
              "\n",
              "      <script>\n",
              "        const buttonEl =\n",
              "          document.querySelector('#df-b1790177-965b-4bce-9dd0-a09d4d480db3 button.colab-df-convert');\n",
              "        buttonEl.style.display =\n",
              "          google.colab.kernel.accessAllowed ? 'block' : 'none';\n",
              "\n",
              "        async function convertToInteractive(key) {\n",
              "          const element = document.querySelector('#df-b1790177-965b-4bce-9dd0-a09d4d480db3');\n",
              "          const dataTable =\n",
              "            await google.colab.kernel.invokeFunction('convertToInteractive',\n",
              "                                                     [key], {});\n",
              "          if (!dataTable) return;\n",
              "\n",
              "          const docLinkHtml = 'Like what you see? Visit the ' +\n",
              "            '<a target=\"_blank\" href=https://colab.research.google.com/notebooks/data_table.ipynb>data table notebook</a>'\n",
              "            + ' to learn more about interactive tables.';\n",
              "          element.innerHTML = '';\n",
              "          dataTable['output_type'] = 'display_data';\n",
              "          await google.colab.output.renderOutput(dataTable, element);\n",
              "          const docLink = document.createElement('div');\n",
              "          docLink.innerHTML = docLinkHtml;\n",
              "          element.appendChild(docLink);\n",
              "        }\n",
              "      </script>\n",
              "    </div>\n",
              "  </div>\n",
              "  "
            ]
          },
          "metadata": {},
          "execution_count": 112
        }
      ],
      "source": [
        "print(df_equilibre.groupby('sentiment').size())\n",
        "df_equilibre.sample(3, random_state=42)\n",
        "#Les deux classes comportement désormais le même nombre de tweets, c-à-d un total de 821 tweets. "
      ]
    },
    {
      "cell_type": "markdown",
      "metadata": {
        "id": "roar8_U5iiZZ"
      },
      "source": [
        "## Split train/validation/test"
      ]
    },
    {
      "cell_type": "code",
      "execution_count": null,
      "metadata": {
        "id": "TxjFBsTbe9x4"
      },
      "outputs": [],
      "source": [
        "TRAIN_RATIO = 0.8\n",
        "VAL_RATIO = 0.1\n",
        "TEST_RATIO = 0.1\n",
        "\n"
      ]
    },
    {
      "cell_type": "code",
      "execution_count": null,
      "metadata": {
        "id": "uTZe8sD7ZMkq",
        "colab": {
          "base_uri": "https://localhost:8080/"
        },
        "outputId": "55c9e84f-5c05-4459-ca5c-319e87dc73cd"
      },
      "outputs": [
        {
          "output_type": "stream",
          "name": "stdout",
          "text": [
            "LONGUEUR TRAIN: 1312\n",
            "LONGUEUR VAL: 165\n",
            "LONGUEUR TEST: 165\n"
          ]
        }
      ],
      "source": [
        "taille_totale = len(df_equilibre)\n",
        "\n",
        "train_df = df_equilibre.copy()\n",
        "val_df = pd.DataFrame()\n",
        "test_df = pd.DataFrame()\n",
        "\n",
        "while True:\n",
        "    row = train_df.sample(1, random_state=42)\n",
        "    HITId = row['HITId'].iloc[0]\n",
        "    rows = train_df[train_df['HITId'] == HITId]\n",
        "    if(len(val_df) < VAL_RATIO * taille_totale):\n",
        "        val_df = val_df.append(rows)\n",
        "        train_df = train_df[train_df['HITId'] != HITId]        \n",
        "    elif(len(test_df) < TEST_RATIO * taille_totale):\n",
        "        test_df = test_df.append(rows)\n",
        "        train_df = train_df[train_df['HITId'] != HITId]\n",
        "    else:\n",
        "        break\n",
        "\n",
        "print(\"LONGUEUR TRAIN: \" + str(len(train_df)))\n",
        "print(\"LONGUEUR VAL: \" + str(len(val_df)))\n",
        "print(\"LONGUEUR TEST: \" + str(len(test_df)))"
      ]
    },
    {
      "cell_type": "code",
      "execution_count": null,
      "metadata": {
        "id": "d0pl8PRqvrmK",
        "colab": {
          "base_uri": "https://localhost:8080/"
        },
        "outputId": "d16dc547-d5be-467d-fbf4-0da3d5cfa364"
      },
      "outputs": [
        {
          "output_type": "stream",
          "name": "stdout",
          "text": [
            "LONGUEUR TRAIN: 1300\n",
            "LONGUEUR VAL: 160\n",
            "LONGUEUR TEST: 160\n"
          ]
        }
      ],
      "source": [
        "# Élaguer + mélanger + réinitialiser les index \n",
        "train_df = train_df.sample(n=1300, random_state=42).reset_index(drop=True)\n",
        "val_df = val_df.sample(n=160, random_state=42).reset_index(drop=True)\n",
        "test_df = test_df.sample(n=160, random_state=42).reset_index(drop=True)\n",
        "\n",
        "print(\"LONGUEUR TRAIN: \" + str(len(train_df)))\n",
        "print(\"LONGUEUR VAL: \" + str(len(val_df)))\n",
        "print(\"LONGUEUR TEST: \" + str(len(test_df)))"
      ]
    },
    {
      "cell_type": "markdown",
      "source": [
        "On peut voir si on peut utiliser des moyens plus automatisés de scikit learn ou tenserflow pour cette partie "
      ],
      "metadata": {
        "id": "RUaLWQ8vY41D"
      }
    },
    {
      "cell_type": "code",
      "execution_count": null,
      "metadata": {
        "id": "1RhZUMBojzBY",
        "colab": {
          "base_uri": "https://localhost:8080/",
          "height": 369
        },
        "outputId": "661199f6-5a35-4173-beaf-6751a3a06460"
      },
      "outputs": [
        {
          "output_type": "display_data",
          "data": {
            "text/plain": [
              "<Figure size 720x360 with 3 Axes>"
            ],
            "image/png": "[encoded data removed]"
          },
          "metadata": {
            "needs_background": "light"
          }
        }
      ],
      "source": [
        "splits = [train_df, val_df, test_df]\n",
        "titres = [\"Training set\", \"Validation set\", \"Test set\"]\n",
        "\n",
        "fig, ax = plt.subplots(1, len(splits), sharex=True, figsize=(10,5))\n",
        "for i, (data, title) in enumerate(zip(splits, titres)):\n",
        "    sns.countplot(data=data, x='sentiment', palette=[\"r\", \"g\"], ax=ax[i])\n",
        "    ax[i].set(xlabel='', ylabel='')\n",
        "    ax[i].set_xticklabels(['Neutres', 'Haineux']) \n",
        "    ax[i].set_title(title)\n",
        "    \n",
        "    #Fréquences \n",
        "    ncount = len(data)\n",
        "    for p in ax[i].patches:\n",
        "        x=p.get_bbox().get_points()[:,0]\n",
        "        y=p.get_bbox().get_points()[1,1]\n",
        "        ax[i].annotate('{:.1f}%'.format(100.*y/ncount), (x.mean(), y), \n",
        "                ha='center', va='bottom') # régler l'alignement du texte \n",
        "\n",
        "#Finaliser le plot \n",
        "sns.despine(bottom=True)\n",
        "plt.tight_layout(h_pad=2)"
      ]
    },
    {
      "cell_type": "markdown",
      "metadata": {
        "id": "_Zpfrx5Emb3w"
      },
      "source": [
        "## Tokenisation"
      ]
    },
    {
      "cell_type": "markdown",
      "metadata": {
        "id": "c3B16nhT04I0"
      },
      "source": [
        "Nous formons le tokenizer avec les tweets du training set "
      ]
    },
    {
      "cell_type": "code",
      "execution_count": null,
      "metadata": {
        "id": "aGgpEzLtmgCi"
      },
      "outputs": [],
      "source": [
        "import tensorflow as tf\n",
        "assert tf.__version__ >= \"2.0\"\n",
        "\n",
        "#Tweets à tokeniser\n",
        "train_tweets = np.array(train_df['clean_tweet'])\n",
        "val_tweets = np.array(val_df['clean_tweet'])\n",
        "test_tweets = np.array(test_df['clean_tweet'])\n",
        "\n",
        "#Utilisé pour trainer le fit tokenizer\n",
        "#all_tweets = np.concatenate((train_tweets, val_tweets, test_tweets), axis=0)\n",
        "\n",
        "train_labels = train_df['sentiment']\n",
        "val_labels = val_df['sentiment']\n",
        "test_labels = test_df['sentiment']"
      ]
    },
    {
      "cell_type": "code",
      "execution_count": null,
      "metadata": {
        "id": "b07CBZqv1Kri",
        "colab": {
          "base_uri": "https://localhost:8080/"
        },
        "outputId": "c8a89a31-cfdd-44f3-e92e-bd50b36c3dc1"
      },
      "outputs": [
        {
          "output_type": "stream",
          "name": "stdout",
          "text": [
            "Trouvé 74 tokens uniques.\n"
          ]
        }
      ],
      "source": [
        "WORD_LEVEL = False\n",
        "MAX_NB_MOTS = 10000 if WORD_LEVEL else None\n",
        "\n",
        "tokenizer = tf.keras.preprocessing.text.Tokenizer(\n",
        "    num_words=MAX_NB_MOTS,\n",
        "    char_level=not WORD_LEVEL,\n",
        "    oov_token=\"<unk>\",\n",
        ")\n",
        "tokenizer.fit_on_texts(train_tweets)\n",
        "VOCAB_SIZE = tokenizer.num_words if WORD_LEVEL else len(tokenizer.word_index)\n",
        "\n",
        "word_index = tokenizer.word_index\n",
        "print(\"Trouvé {} tokens uniques.\".format(len(word_index)))"
      ]
    },
    {
      "cell_type": "code",
      "execution_count": null,
      "metadata": {
        "id": "tHNt4TTA2jOX"
      },
      "outputs": [],
      "source": [
        "train_tweets_tokenized = tokenizer.texts_to_sequences(train_tweets)\n",
        "val_tweets_tokenized = tokenizer.texts_to_sequences(val_tweets)\n",
        "test_tweets_tokenized = tokenizer.texts_to_sequences(test_tweets)"
      ]
    },
    {
      "cell_type": "code",
      "execution_count": null,
      "metadata": {
        "id": "T5LPslx8lCSw",
        "colab": {
          "base_uri": "https://localhost:8080/"
        },
        "outputId": "9f49b18a-ac3c-4cda-89ce-a4ff8f2317a5"
      },
      "outputs": [
        {
          "output_type": "execute_result",
          "data": {
            "text/plain": [
              "[11, 22, 23, 10, 13, 13, 3, 2, 20]"
            ]
          },
          "metadata": {},
          "execution_count": 120
        }
      ],
      "source": [
        "some_tweet = train_tweets_tokenized[0]\n",
        "some_tweet[:9]"
      ]
    },
    {
      "cell_type": "code",
      "execution_count": null,
      "metadata": {
        "id": "EvkQE-8VlPLO",
        "colab": {
          "base_uri": "https://localhost:8080/",
          "height": 36
        },
        "outputId": "e6b999d9-5c90-458d-d4a8-a9eb53820aa0"
      },
      "outputs": [
        {
          "output_type": "execute_result",
          "data": {
            "text/plain": [
              "\"l ' h o m m e   f\""
            ],
            "application/vnd.google.colaboratory.intrinsic+json": {
              "type": "string"
            }
          },
          "metadata": {},
          "execution_count": 121
        }
      ],
      "source": [
        "index_vers_mots = dict((i, m) for m, i in tokenizer.word_index.items())\n",
        "\" \".join([index_vers_mots[i] for i in some_tweet[:9]])"
      ]
    },
    {
      "cell_type": "code",
      "execution_count": null,
      "metadata": {
        "id": "w56cqpksrNoc",
        "colab": {
          "base_uri": "https://localhost:8080/",
          "height": 460
        },
        "outputId": "e511094f-6565-4e88-e38e-761d88700638"
      },
      "outputs": [
        {
          "output_type": "stream",
          "name": "stdout",
          "text": [
            "Longueur moyenne : 50.2\n",
            "Longueur maximale: 114\n"
          ]
        },
        {
          "output_type": "stream",
          "name": "stderr",
          "text": [
            "/usr/local/lib/python3.7/dist-packages/seaborn/distributions.py:2619: FutureWarning: `distplot` is a deprecated function and will be removed in a future version. Please adapt your code to use either `displot` (a figure-level function with similar flexibility) or `histplot` (an axes-level function for histograms).\n",
            "  warnings.warn(msg, FutureWarning)\n"
          ]
        },
        {
          "output_type": "display_data",
          "data": {
            "text/plain": [
              "<Figure size 720x360 with 1 Axes>"
            ],
            "image/png": "[encoded data removed]"
          },
          "metadata": {
            "needs_background": "light"
          }
        }
      ],
      "source": [
        "longueur_tweets = [len(s) for s in train_tweets_tokenized+val_tweets_tokenized+test_tweets_tokenized]\n",
        "print(\"Longueur moyenne : {:.1f}\".format(np.mean(longueur_tweets )))\n",
        "print(\"Longueur maximale: {}\".format(max(longueur_tweets )))\n",
        "\n",
        "plt.figure(figsize=(10,5))\n",
        "ax = sns.distplot(longueur_tweets , bins=10, kde=False, hist_kws=dict(alpha=0.8))\n",
        "ax.set(xlabel='Nombre de mots')\n",
        "\n",
        "# Finaliser le plot\n",
        "sns.despine(bottom=True)\n",
        "plt.tight_layout(h_pad=2)"
      ]
    },
    {
      "cell_type": "markdown",
      "metadata": {
        "id": "nNTN3jnHzmoO"
      },
      "source": [
        "## Suppression des séquences vides "
      ]
    },
    {
      "cell_type": "code",
      "execution_count": null,
      "metadata": {
        "id": "sZkPcaB2q_wb"
      },
      "outputs": [],
      "source": [
        "def enlever_sequences_vides(tweets, labels):\n",
        "    tweets_pas_vides = []\n",
        "    labels_pas_vides = []\n",
        "    enleves = 0\n",
        "    for x, y in zip(tweets, labels):\n",
        "        if len(x) > 0:\n",
        "            tweets_pas_vides.append(x)\n",
        "            labels_pas_vides.append(y)\n",
        "        else:\n",
        "            enleves += 1\n",
        "    return tweets_pas_vides, labels_pas_vides"
      ]
    },
    {
      "cell_type": "code",
      "execution_count": null,
      "metadata": {
        "id": "sC6v_OmbrBh_",
        "colab": {
          "base_uri": "https://localhost:8080/"
        },
        "outputId": "ee44e951-0457-4aa0-9378-266e297de87e"
      },
      "outputs": [
        {
          "output_type": "stream",
          "name": "stdout",
          "text": [
            "Suppression de 3 séquences vides\n"
          ]
        }
      ],
      "source": [
        "print('Suppression de {} séquences vides'.format(longueur_tweets.count(0)))\n",
        "\n",
        "train_tweets_tokenized, train_labels = enlever_sequences_vides(\n",
        "    train_tweets_tokenized, train_labels\n",
        ")\n",
        "\n",
        "val_tweets_tokenized, val_labels = enlever_sequences_vides(\n",
        "    val_tweets_tokenized, val_labels\n",
        ")\n",
        "\n",
        "test_tweets_tokenized, test_labels = enlever_sequences_vides(\n",
        "    test_tweets_tokenized, test_labels\n",
        ")\n",
        "\n",
        "#Vérification\n",
        "longueur_tweets = [len(s) for s in train_tweets_tokenized+val_tweets_tokenized+test_tweets_tokenized]\n",
        "assert(longueur_tweets.count(0) == 0)"
      ]
    },
    {
      "cell_type": "markdown",
      "metadata": {
        "id": "MGEiGA8Xzr2X"
      },
      "source": [
        "## Padding\n",
        "Padding des courtes séquences avec des zéros jusqu'à ce qu'elles atteignent une longueur fixe. Quant à elles, les longues séquences sont notamment tronquées. "
      ]
    },
    {
      "cell_type": "code",
      "execution_count": null,
      "metadata": {
        "id": "zpTr8KBpzuWh",
        "colab": {
          "base_uri": "https://localhost:8080/"
        },
        "outputId": "f9aa15b7-7967-4131-d4cf-768531548164"
      },
      "outputs": [
        {
          "output_type": "stream",
          "name": "stdout",
          "text": [
            "Shape du tensor X_train : (1297, 128)\n",
            "Shape du tensor X_val: (160, 128)\n",
            "Shape du tensor X_test: (160, 128)\n"
          ]
        }
      ],
      "source": [
        "from tensorflow.keras.preprocessing.sequence import pad_sequences\n",
        "\n",
        "LONGUEUR_MAX_SEQ = 16 if WORD_LEVEL else 128\n",
        "\n",
        "X_train = pad_sequences(\n",
        "    train_tweets_tokenized, \n",
        "    maxlen=LONGUEUR_MAX_SEQ,\n",
        "    padding='pre', truncating='pre'\n",
        ")\n",
        "\n",
        "X_val = pad_sequences(\n",
        "    val_tweets_tokenized, \n",
        "    maxlen=LONGUEUR_MAX_SEQ,\n",
        "    padding='pre', truncating='pre'\n",
        "    )\n",
        "\n",
        "X_test = pad_sequences(\n",
        "    test_tweets_tokenized, \n",
        "    maxlen=LONGUEUR_MAX_SEQ,\n",
        "    padding='pre', truncating='pre'\n",
        ")\n",
        "\n",
        "print('Shape du tensor X_train :', X_train.shape)\n",
        "print('Shape du tensor X_val:', X_val.shape)\n",
        "print('Shape du tensor X_test:', X_test.shape)"
      ]
    },
    {
      "cell_type": "markdown",
      "metadata": {
        "id": "00XvZ5kn5xNr"
      },
      "source": [
        "## Labels de sentiments"
      ]
    },
    {
      "cell_type": "code",
      "execution_count": null,
      "metadata": {
        "id": "a0TimMLx5zJH"
      },
      "outputs": [],
      "source": [
        "y_train = np.array(train_labels)\n",
        "y_val = np.array(val_labels)\n",
        "y_test = np.array(test_labels)"
      ]
    },
    {
      "cell_type": "markdown",
      "metadata": {
        "id": "FnIW_T4flDIv"
      },
      "source": [
        "## Pipeline pour le preprocessing "
      ]
    },
    {
      "cell_type": "code",
      "execution_count": null,
      "metadata": {
        "id": "lKO5rLtWlBUI"
      },
      "outputs": [],
      "source": [
        "from sklearn.base import BaseEstimator, TransformerMixin\n",
        "\n",
        "class SequencePreprocessor(BaseEstimator, TransformerMixin):\n",
        "    def __init__(self, max_nbr_words, max_seq_length):\n",
        "        self.tokenizer = tf.keras.preprocessing.text.Tokenizer(\n",
        "            num_words=max_nbr_words,\n",
        "            oov_token=\"<unk>\",\n",
        "        )\n",
        "        self.max_seq_length = max_seq_length\n",
        "\n",
        "    def fit(self, X):\n",
        "        self.tokenizer.fit_on_texts(X)\n",
        "\n",
        "    def transform(self, X, y):\n",
        "        # 1. Tokenizer\n",
        "        X_tokenized = self.tokenizer.texts_to_sequences(X)\n",
        "        # 2. Enlever les séquences vides \n",
        "        X_not_empty, y_not_empty = remove_empty_sequences(X_tokenized, y)\n",
        "        # 3. Pad\n",
        "        X_padded = tf.keras.preprocessing.sequence.pad_sequences(\n",
        "            X_not_empty, \n",
        "            maxlen=self.max_seq_length,\n",
        "            padding='post',\n",
        "            value=0,\n",
        "        )\n",
        "        # 4. Labels\n",
        "        y_array = np.array(y_not_empty)\n",
        "        return X_padded, y_array     \n",
        "    \n",
        "    def fit_transform(self, X, y):\n",
        "        self.fit(X)\n",
        "        return self.transform(X, y)"
      ]
    },
    {
      "cell_type": "markdown",
      "metadata": {
        "id": "fFtE4xwqlsJR"
      },
      "source": [
        "##Entraînement d'un modèle qui classifie les tweets en fonction de leurs embeddings"
      ]
    },
    {
      "cell_type": "code",
      "execution_count": null,
      "metadata": {
        "id": "Rw0LlvuJ88tj"
      },
      "outputs": [],
      "source": [
        "from tensorflow.keras.models import Sequential\n",
        "from tensorflow.keras.layers import Embedding, GlobalAveragePooling1D, Dense\n",
        "\n",
        "HIDDEN = 3\n",
        "# Hyperparamètres\n",
        "embedding_dimension = 128\n",
        "\n",
        "modele = Sequential(name='fasttext')\n",
        "modele.add(Embedding(VOCAB_SIZE + 1, embedding_dimension, mask_zero=True))\n",
        "modele.add(GlobalAveragePooling1D())\n",
        "for _ in range(HIDDEN):\n",
        "  modele.add(Dense(embedding_dimension, activation='relu',\n",
        "                   kernel_initializer='he_normal'))\n",
        "modele.add(Dense(1, activation=\"sigmoid\"))\n",
        "\n",
        "modele.compile(\n",
        "    loss=\"binary_crossentropy\", #Fonction de perte d'entropie croisée pour problème de classification binaire \n",
        "    optimizer=\"adam\", #Optimisateur qui implémente l'algorithme Adam\n",
        "    metrics=[\"accuracy\"] #Calcule dans quelle proportion les prédictions correspondent aux annotations\n",
        ")"
      ]
    },
    {
      "cell_type": "code",
      "execution_count": null,
      "metadata": {
        "id": "ELpJknctFZ3Z",
        "colab": {
          "base_uri": "https://localhost:8080/"
        },
        "outputId": "9a7b0e08-8184-4e85-a9eb-351d52771d6f"
      },
      "outputs": [
        {
          "output_type": "stream",
          "name": "stdout",
          "text": [
            "Model: \"fasttext\"\n",
            "_________________________________________________________________\n",
            " Layer (type)                Output Shape              Param #   \n",
            "=================================================================\n",
            " embedding_1 (Embedding)     (None, None, 128)         9600      \n",
            "                                                                 \n",
            " global_average_pooling1d (G  (None, 128)              0         \n",
            " lobalAveragePooling1D)                                          \n",
            "                                                                 \n",
            " dense_1 (Dense)             (None, 128)               16512     \n",
            "                                                                 \n",
            " dense_2 (Dense)             (None, 128)               16512     \n",
            "                                                                 \n",
            " dense_3 (Dense)             (None, 128)               16512     \n",
            "                                                                 \n",
            " dense_4 (Dense)             (None, 1)                 129       \n",
            "                                                                 \n",
            "=================================================================\n",
            "Total params: 59,265\n",
            "Trainable params: 59,265\n",
            "Non-trainable params: 0\n",
            "_________________________________________________________________\n"
          ]
        }
      ],
      "source": [
        "weights_initiaux = modele.get_weights()\n",
        "modele.summary()"
      ]
    },
    {
      "cell_type": "code",
      "execution_count": null,
      "metadata": {
        "id": "i9YhvyQe44Ng",
        "colab": {
          "base_uri": "https://localhost:8080/",
          "height": 386
        },
        "outputId": "f7b1770b-fdc0-44cb-964d-f98d27348c0d"
      },
      "outputs": [
        {
          "output_type": "execute_result",
          "data": {
            "text/plain": [
              "<IPython.core.display.Image object>"
            ],
            "image/png": "[encoded data removed]"
          },
          "metadata": {},
          "execution_count": 130
        }
      ],
      "source": [
        "#Imprimer l'image du modèle \n",
        "from tensorflow import keras\n",
        "keras.utils.plot_model(modele, show_shapes=True, dpi=48)"
      ]
    },
    {
      "cell_type": "markdown",
      "metadata": {
        "id": "RCmdnh5tS5FQ"
      },
      "source": [
        "## Training"
      ]
    },
    {
      "cell_type": "code",
      "execution_count": null,
      "metadata": {
        "id": "Eqef18CsUkTM",
        "colab": {
          "base_uri": "https://localhost:8080/"
        },
        "outputId": "ca0ed36e-b122-4a1e-f832-eecc3ce3e0cb"
      },
      "outputs": [
        {
          "output_type": "stream",
          "name": "stdout",
          "text": [
            "Epoch 1/10\n",
            " 6/11 [===============>..............] - ETA: 0s - loss: 0.6936 - accuracy: 0.4753\n",
            "Epoch 1: val_loss improved from inf to 0.69167, saving model to /content/drive/MyDrive/Colab Notebooks/fasttext_weights.hdf5\n",
            "11/11 [==============================] - 1s 43ms/step - loss: 0.6932 - accuracy: 0.4942 - val_loss: 0.6917 - val_accuracy: 0.5125\n",
            "Epoch 2/10\n",
            " 7/11 [==================>...........] - ETA: 0s - loss: 0.6914 - accuracy: 0.5145\n",
            "Epoch 2: val_loss improved from 0.69167 to 0.68698, saving model to /content/drive/MyDrive/Colab Notebooks/fasttext_weights.hdf5\n",
            "11/11 [==============================] - 0s 16ms/step - loss: 0.6908 - accuracy: 0.5251 - val_loss: 0.6870 - val_accuracy: 0.6000\n",
            "Epoch 3/10\n",
            " 7/11 [==================>...........] - ETA: 0s - loss: 0.6879 - accuracy: 0.5513\n",
            "Epoch 3: val_loss improved from 0.68698 to 0.67906, saving model to /content/drive/MyDrive/Colab Notebooks/fasttext_weights.hdf5\n",
            "11/11 [==============================] - 0s 17ms/step - loss: 0.6862 - accuracy: 0.5520 - val_loss: 0.6791 - val_accuracy: 0.5500\n",
            "Epoch 4/10\n",
            " 7/11 [==================>...........] - ETA: 0s - loss: 0.6749 - accuracy: 0.5893\n",
            "Epoch 4: val_loss improved from 0.67906 to 0.66271, saving model to /content/drive/MyDrive/Colab Notebooks/fasttext_weights.hdf5\n",
            "11/11 [==============================] - 0s 17ms/step - loss: 0.6731 - accuracy: 0.5937 - val_loss: 0.6627 - val_accuracy: 0.5813\n",
            "Epoch 5/10\n",
            " 7/11 [==================>...........] - ETA: 0s - loss: 0.6593 - accuracy: 0.5926\n",
            "Epoch 5: val_loss improved from 0.66271 to 0.65419, saving model to /content/drive/MyDrive/Colab Notebooks/fasttext_weights.hdf5\n",
            "11/11 [==============================] - 0s 17ms/step - loss: 0.6594 - accuracy: 0.5944 - val_loss: 0.6542 - val_accuracy: 0.5625\n",
            "Epoch 6/10\n",
            "10/11 [==========================>...] - ETA: 0s - loss: 0.6479 - accuracy: 0.6016\n",
            "Epoch 6: val_loss did not improve from 0.65419\n",
            "11/11 [==============================] - 0s 16ms/step - loss: 0.6475 - accuracy: 0.6029 - val_loss: 0.6680 - val_accuracy: 0.5875\n",
            "Epoch 7/10\n",
            "11/11 [==============================] - ETA: 0s - loss: 0.6449 - accuracy: 0.6237\n",
            "Epoch 7: val_loss did not improve from 0.65419\n",
            "11/11 [==============================] - 0s 14ms/step - loss: 0.6449 - accuracy: 0.6237 - val_loss: 0.6636 - val_accuracy: 0.5375\n",
            "Epoch 8/10\n",
            " 6/11 [===============>..............] - ETA: 0s - loss: 0.6401 - accuracy: 0.6107\n",
            "Epoch 8: val_loss did not improve from 0.65419\n",
            "11/11 [==============================] - 0s 13ms/step - loss: 0.6390 - accuracy: 0.6268 - val_loss: 0.6625 - val_accuracy: 0.5688\n",
            "Epoch 9/10\n",
            " 9/11 [=======================>......] - ETA: 0s - loss: 0.6363 - accuracy: 0.6380\n",
            "Epoch 9: val_loss did not improve from 0.65419\n",
            "11/11 [==============================] - 0s 16ms/step - loss: 0.6376 - accuracy: 0.6376 - val_loss: 0.6677 - val_accuracy: 0.5750\n",
            "Epoch 10/10\n",
            "10/11 [==========================>...] - ETA: 0s - loss: 0.6354 - accuracy: 0.6391\n",
            "Epoch 10: val_loss did not improve from 0.65419\n",
            "11/11 [==============================] - 0s 14ms/step - loss: 0.6358 - accuracy: 0.6384 - val_loss: 0.6653 - val_accuracy: 0.5500\n"
          ]
        }
      ],
      "source": [
        "checkpointer = tf.keras.callbacks.ModelCheckpoint( #enregistrer les poids, de sorte que le modèle peut être chargé plus tard pour continuer l'entraînement à partir de l'état enregistré\n",
        "    filepath='/content/drive/MyDrive/Colab Notebooks/fasttext_weights.hdf5', #Chemin d'accès (filepath) où se trouve le fichier hdf5\n",
        "    save_best_only=True, verbose=1\n",
        ")\n",
        "\n",
        "history = modele.fit(\n",
        "    X_train, y_train,\n",
        "    validation_data=(X_val, y_val),\n",
        "    epochs=10, batch_size=128, \n",
        "    callbacks=[checkpointer], verbose=1) #early stopping callback en argument "
      ]
    },
    {
      "cell_type": "code",
      "execution_count": null,
      "metadata": {
        "id": "LXtEnXMo_UaA"
      },
      "outputs": [],
      "source": [
        "def tracer_courbes_entrainement(history, figsize=(12, 5)):\n",
        "    fig, (ax1, ax2) = plt.subplots(1, 2, figsize=figsize)\n",
        "\n",
        "    ax1.plot(history.history['accuracy'])\n",
        "    ax1.plot(history.history['val_accuracy'])\n",
        "    ax1.set_title('Accuracy du modèle')\n",
        "    ax1.set_ylabel('Accuracy')\n",
        "    ax1.set_xlabel('Epoch')\n",
        "    ax1.legend(['Train', 'Val'], loc='upper left')\n",
        "    ax1.grid()\n",
        "\n",
        "    ax2.plot(history.history['loss'])\n",
        "    ax2.plot(history.history['val_loss'])\n",
        "    ax2.set_title('Perte du modèle')\n",
        "    ax2.set_ylabel('Perte')\n",
        "    ax2.set_xlabel('Epoch')\n",
        "    ax2.legend(['Train', 'Val'], loc='upper left')\n",
        "    ax2.grid()\n",
        "\n",
        "    return fig"
      ]
    },
    {
      "cell_type": "code",
      "execution_count": null,
      "metadata": {
        "id": "POKYtFmd_YS3",
        "colab": {
          "base_uri": "https://localhost:8080/",
          "height": 369
        },
        "outputId": "c7d7e477-30eb-4726-eb50-893e867ba566"
      },
      "outputs": [
        {
          "output_type": "display_data",
          "data": {
            "text/plain": [
              "<Figure size 864x360 with 2 Axes>"
            ],
            "image/png": "[encoded data removed]"
          },
          "metadata": {
            "needs_background": "light"
          }
        }
      ],
      "source": [
        " fig = tracer_courbes_entrainement(history)\n",
        "\n",
        "#Finaliser le plot\n",
        "sns.despine(bottom=True)\n",
        "plt.tight_layout(h_pad=2)"
      ]
    },
    {
      "cell_type": "code",
      "execution_count": null,
      "metadata": {
        "id": "j98bLJo8mOkh",
        "colab": {
          "base_uri": "https://localhost:8080/"
        },
        "outputId": "8a785eb0-c420-43ae-a14d-9db1e6d4faed"
      },
      "outputs": [
        {
          "output_type": "stream",
          "name": "stdout",
          "text": [
            "Validation Accuracy: 55.00\n",
            "Validation F1-Score: 40.00\n"
          ]
        },
        {
          "output_type": "stream",
          "name": "stderr",
          "text": [
            "/usr/local/lib/python3.7/dist-packages/ipykernel_launcher.py:4: DeprecationWarning: `np.int` is a deprecated alias for the builtin `int`. To silence this warning, use `int` by itself. Doing this will not modify any behavior and is safe. When replacing `np.int`, you may wish to use e.g. `np.int64` or `np.int32` to specify the precision. If you wish to review your current use, check the release note link for additional information.\n",
            "Deprecated in NumPy 1.20; for more details and guidance: https://numpy.org/devdocs/release/1.20.0-notes.html#deprecations\n",
            "  after removing the cwd from sys.path.\n"
          ]
        }
      ],
      "source": [
        "from sklearn import metrics\n",
        "\n",
        "probas = modele.predict(X_val)\n",
        "y_pred = (probas > 0.5).astype(np.int)\n",
        "\n",
        "print(\"Validation Accuracy: {:.2f}\".format(100 * metrics.accuracy_score(y_val, y_pred)))\n",
        "print(\"Validation F1-Score: {:.2f}\".format(100 * metrics.f1_score(y_val, y_pred)))"
      ]
    },
    {
      "cell_type": "markdown",
      "metadata": {
        "id": "qF7bMWDL8lTQ"
      },
      "source": [
        "## Testing"
      ]
    },
    {
      "cell_type": "code",
      "execution_count": null,
      "metadata": {
        "id": "_wChwXej8mzP",
        "colab": {
          "base_uri": "https://localhost:8080/"
        },
        "outputId": "bb94a7ab-1899-4273-d21e-61a4a3296d0e"
      },
      "outputs": [
        {
          "output_type": "stream",
          "name": "stderr",
          "text": [
            "/usr/local/lib/python3.7/dist-packages/ipykernel_launcher.py:5: DeprecationWarning: `np.int` is a deprecated alias for the builtin `int`. To silence this warning, use `int` by itself. Doing this will not modify any behavior and is safe. When replacing `np.int`, you may wish to use e.g. `np.int64` or `np.int32` to specify the precision. If you wish to review your current use, check the release note link for additional information.\n",
            "Deprecated in NumPy 1.20; for more details and guidance: https://numpy.org/devdocs/release/1.20.0-notes.html#deprecations\n",
            "  \"\"\"\n"
          ]
        }
      ],
      "source": [
        "#Charger tous les weights à partir du fichier HDF5\n",
        "modele.load_weights('/content/drive/MyDrive/Colab Notebooks/fasttext_weights.hdf5')\n",
        "\n",
        "probas = modele.predict(X_test)\n",
        "y_pred = (probas > 0.5).astype(np.int)\n"
      ]
    },
    {
      "cell_type": "code",
      "execution_count": null,
      "metadata": {
        "id": "MuYewyZ5IxJd",
        "colab": {
          "base_uri": "https://localhost:8080/"
        },
        "outputId": "e8ec9e1b-bfdd-47cf-80cd-2741b7c5dd62"
      },
      "outputs": [
        {
          "output_type": "stream",
          "name": "stdout",
          "text": [
            "Test Accuracy: 54.37\n",
            "Test F1-Score: 47.48\n",
            "\n",
            "              precision    recall  f1-score   support\n",
            "\n",
            "     Neutres       0.53      0.68      0.60        80\n",
            "     Haineux       0.56      0.41      0.47        80\n",
            "\n",
            "    accuracy                           0.54       160\n",
            "   macro avg       0.55      0.54      0.54       160\n",
            "weighted avg       0.55      0.54      0.54       160\n",
            "\n"
          ]
        }
      ],
      "source": [
        "noms_classes = {0: 'Neutres', 1: 'Haineux'} \n",
        "\n",
        "print(\"Test Accuracy: {:.2f}\".format(100 * metrics.accuracy_score(y_test, y_pred)))\n",
        "print(\"Test F1-Score: {:.2f}\".format(100 * metrics.f1_score(y_test, y_pred)))\n",
        "print()\n",
        "\n",
        "rapport = metrics.classification_report(\n",
        "    y_test, y_pred, \n",
        "    target_names=noms_classes.values()\n",
        ")\n",
        "print(rapport)"
      ]
    },
    {
      "cell_type": "code",
      "execution_count": null,
      "metadata": {
        "id": "GUtu4_Z4LerC"
      },
      "outputs": [],
      "source": [
        "def print_matrice_confusion(matrice_confusion, class_names, figsize=(10, 7), fontsize=14):\n",
        "    df_mc = pd.DataFrame(\n",
        "        matrice_confusion, index=class_names, columns=class_names,\n",
        "    )\n",
        "    fig = plt.figure(figsize=figsize)\n",
        "\n",
        "    heatmap = sns.heatmap(df_mc, annot=True, fmt=\"d\", cmap=\"YlGnBu\")\n",
        "    heatmap.yaxis.set_ticklabels(\n",
        "        heatmap.yaxis.get_ticklabels(), rotation=0,\n",
        "        ha='right', fontsize=fontsize\n",
        "    )\n",
        "    heatmap.xaxis.set_ticklabels(\n",
        "        heatmap.xaxis.get_ticklabels(), rotation=45,\n",
        "        ha='right', fontsize=fontsize\n",
        "    )\n",
        "\n",
        "    plt.ylabel('Valeur réelle')\n",
        "    plt.xlabel('Valeur prédite')\n",
        "    return fig"
      ]
    },
    {
      "cell_type": "code",
      "execution_count": null,
      "metadata": {
        "id": "OKFzzCNDKXlO",
        "colab": {
          "base_uri": "https://localhost:8080/",
          "height": 369
        },
        "outputId": "d117c20a-eb22-4ab2-8da2-1ffa09674914"
      },
      "outputs": [
        {
          "output_type": "display_data",
          "data": {
            "text/plain": [
              "<Figure size 504x360 with 2 Axes>"
            ],
            "image/png": "[encoded data removed]"
          },
          "metadata": {
            "needs_background": "light"
          }
        }
      ],
      "source": [
        "from sklearn.metrics import confusion_matrix\n",
        "\n",
        "mc_conf = confusion_matrix(y_test, y_pred)\n",
        "\n",
        "fig = print_matrice_confusion(\n",
        "    mc_conf, \n",
        "    noms_classes.values(), \n",
        "    figsize=(7,5)\n",
        ")\n",
        "\n",
        "#Finaliser le plot\n",
        "sns.despine(bottom=True)\n",
        "plt.tight_layout(h_pad=2)"
      ]
    },
    {
      "cell_type": "markdown",
      "source": [
        "Ici on remarque une amélioration sur le classement des tweets neutres mais une baisse de l'accuracy concernant la classification des tweets haineux , ce qui nous donne un score général F1 au alentours du random , revoir le modèle ou les données ??"
      ],
      "metadata": {
        "id": "AWOyBN-Od5IC"
      }
    },
    {
      "cell_type": "markdown",
      "metadata": {
        "id": "gajgp0iFl2fh"
      },
      "source": [
        "# RNN"
      ]
    },
    {
      "cell_type": "markdown",
      "metadata": {
        "id": "RmyqWUq6mArW"
      },
      "source": [
        "## Modèle"
      ]
    },
    {
      "cell_type": "code",
      "execution_count": null,
      "metadata": {
        "id": "_A9jDTbwZ3fe"
      },
      "outputs": [],
      "source": [
        "from sklearn.model_selection import train_test_split\n",
        "TRAIN_RATIO = 0.8\n",
        "VAL_RATIO = 0.1\n",
        "TEST_RATIO = 0.1\n",
        "\n",
        "x_tr, x_te, y_tr, y_te = train_test_split(updated_df[\"tweet\"], updated_df[\"sentiment\"],\n",
        "                                          stratify=updated_df[\"sentiment\"], test_size=TEST_RATIO+VAL_RATIO)\n",
        "\n",
        "x_val, x_te, y_val, y_te = train_test_split(x_te, y_te, stratify=y_te,\n",
        "                                            test_size=TEST_RATIO/(TEST_RATIO + VAL_RATIO))\n"
      ]
    },
    {
      "cell_type": "code",
      "execution_count": null,
      "metadata": {
        "id": "DOCRu3wsa9pN"
      },
      "outputs": [],
      "source": [
        "import tensorflow as tf \n",
        "\n",
        "tokenizer = tf.keras.preprocessing.text.Tokenizer(\n",
        "    num_words=None,\n",
        "    lower=True,\n",
        "    char_level=True,\n",
        "    oov_token=\"<unk>\",\n",
        ")\n",
        "tokenizer.fit_on_texts(x_tr)\n",
        "VOCAB_SIZE = len(tokenizer.word_index)\n",
        "x_tr = tokenizer.texts_to_sequences(x_tr)\n",
        "x_val = tokenizer.texts_to_sequences(x_val)\n",
        "x_te = tokenizer.texts_to_sequences(x_te)"
      ]
    },
    {
      "cell_type": "code",
      "execution_count": null,
      "metadata": {
        "id": "GK4H71Z2fB9g",
        "colab": {
          "base_uri": "https://localhost:8080/"
        },
        "outputId": "ce58fe41-29be-49b9-d797-412f235d0361"
      },
      "outputs": [
        {
          "output_type": "stream",
          "name": "stdout",
          "text": [
            "Shape du tensor X_train : (3211, 140)\n",
            "Shape du tensor X_val: (401, 140)\n",
            "Shape du tensor X_test: (402, 140)\n"
          ]
        }
      ],
      "source": [
        "from tensorflow.keras.preprocessing.sequence import pad_sequences\n",
        "\n",
        "LONGUEUR_MAX_SEQ = 140\n",
        "\n",
        "X_train = pad_sequences(\n",
        "    x_tr, \n",
        "    maxlen=LONGUEUR_MAX_SEQ,\n",
        "    padding='pre', truncating='pre'\n",
        ")\n",
        "\n",
        "X_val = pad_sequences(\n",
        "    x_val, \n",
        "    maxlen=LONGUEUR_MAX_SEQ,\n",
        "    padding='pre', truncating='pre'\n",
        "    )\n",
        "\n",
        "X_test = pad_sequences(\n",
        "    x_te, \n",
        "    maxlen=LONGUEUR_MAX_SEQ,\n",
        "    padding='pre', truncating='pre'\n",
        ")\n",
        "\n",
        "print('Shape du tensor X_train :', X_train.shape)\n",
        "print('Shape du tensor X_val:', X_val.shape)\n",
        "print('Shape du tensor X_test:', X_test.shape)"
      ]
    },
    {
      "cell_type": "code",
      "execution_count": null,
      "metadata": {
        "id": "WrVRZLdmk6Ae"
      },
      "outputs": [],
      "source": [
        "from tensorflow.keras.metrics import Precision, Recall, Metric\n",
        "\n",
        "class F1(Metric):\n",
        "\n",
        "  def __init__(self, name='f1', **kwargs):\n",
        "    super(F1, self).__init__(name=name, **kwargs)\n",
        "    self.precision = Precision(**kwargs)\n",
        "    self.recall = Recall(**kwargs)\n",
        "  \n",
        "  def update_state(self, y_true, y_pred, sample_weight=None):\n",
        "    self.precision.update_state(y_true, y_pred, sample_weight)\n",
        "    self.recall.update_state(y_true, y_pred, sample_weight)\n",
        "\n",
        "  def result(self):\n",
        "    precision = self.precision.result()\n",
        "    recall = self.recall.result()\n",
        "    return precision*recall/(2*(precision + recall))\n",
        "  \n",
        "  def reset_state(self):\n",
        "    self.precision.reset_state()\n",
        "    self.recall.reset_state()"
      ]
    },
    {
      "cell_type": "code",
      "execution_count": null,
      "metadata": {
        "id": "C_zwCS5bmDip",
        "colab": {
          "base_uri": "https://localhost:8080/"
        },
        "outputId": "58c577e7-4400-4406-ab52-2343f9addeaf"
      },
      "outputs": [
        {
          "output_type": "stream",
          "name": "stdout",
          "text": [
            "Model: \"rnn\"\n",
            "_________________________________________________________________\n",
            " Layer (type)                Output Shape              Param #   \n",
            "=================================================================\n",
            " embedding_2 (Embedding)     (None, None, 64)          5888      \n",
            "                                                                 \n",
            " rnn (RNN)                   (None, 64)                74880     \n",
            "                                                                 \n",
            " dense_5 (Dense)             (None, 1)                 65        \n",
            "                                                                 \n",
            "=================================================================\n",
            "Total params: 80,833\n",
            "Trainable params: 80,833\n",
            "Non-trainable params: 0\n",
            "_________________________________________________________________\n"
          ]
        }
      ],
      "source": [
        "from tensorflow.keras.models import Sequential\n",
        "from tensorflow.keras.layers import Embedding, GRUCell, RNN, StackedRNNCells, Dense\n",
        "from tensorflow.keras.optimizers import Adam\n",
        "\n",
        "# Hyperparamètres \n",
        "embedding_dim = 64\n",
        "hidden_dim = 64\n",
        "depth = 3\n",
        "\n",
        "model = Sequential(name='rnn')\n",
        "model.add(Embedding(VOCAB_SIZE + 1, embedding_dim, mask_zero=True))\n",
        "cells = [GRUCell(hidden_dim, dropout=.2, recurrent_dropout=.2) for _ in range(depth)]\n",
        "model.add(RNN(StackedRNNCells(cells)))\n",
        "model.add(Dense(1, activation=\"sigmoid\"))\n",
        "\n",
        "model.compile(\n",
        "    loss=\"binary_crossentropy\",\n",
        "    optimizer=Adam(1E-4, amsgrad=True),\n",
        "    metrics=[\"accuracy\", Precision(), Recall(), F1()],    \n",
        ")\n",
        "\n",
        "model.summary()"
      ]
    },
    {
      "cell_type": "code",
      "execution_count": null,
      "metadata": {
        "id": "m-Chy9nQt1CV",
        "colab": {
          "base_uri": "https://localhost:8080/"
        },
        "outputId": "327f0b52-968f-41b6-8539-49ef71f8caff"
      },
      "outputs": [
        {
          "output_type": "stream",
          "name": "stdout",
          "text": [
            "Epoch 1/10\n",
            "26/26 [==============================] - 47s 1s/step - loss: 0.6933 - accuracy: 0.3594 - precision: 0.7814 - recall: 0.2702 - f1: 0.1004 - val_loss: 0.6952 - val_accuracy: 0.2718 - val_precision: 0.8000 - val_recall: 0.1129 - val_f1: 0.0495\n",
            "Epoch 2/10\n",
            "26/26 [==============================] - 24s 892ms/step - loss: 0.6926 - accuracy: 0.2825 - precision: 0.8434 - recall: 0.1202 - f1: 0.0526 - val_loss: 0.6973 - val_accuracy: 0.3267 - val_precision: 0.8356 - val_recall: 0.1912 - val_f1: 0.0778\n",
            "Epoch 3/10\n",
            "26/26 [==============================] - 23s 902ms/step - loss: 0.6916 - accuracy: 0.4463 - precision: 0.8547 - recall: 0.3661 - f1: 0.1282 - val_loss: 0.6942 - val_accuracy: 0.4688 - val_precision: 0.8232 - val_recall: 0.4232 - val_f1: 0.1398\n",
            "Epoch 4/10\n",
            "26/26 [==============================] - 24s 908ms/step - loss: 0.6899 - accuracy: 0.5151 - precision: 0.8459 - recall: 0.4773 - f1: 0.1526 - val_loss: 0.6966 - val_accuracy: 0.4564 - val_precision: 0.8301 - val_recall: 0.3981 - val_f1: 0.1345\n",
            "Epoch 5/10\n",
            "26/26 [==============================] - 24s 942ms/step - loss: 0.6874 - accuracy: 0.5341 - precision: 0.8426 - recall: 0.5094 - f1: 0.1587 - val_loss: 0.6900 - val_accuracy: 0.5162 - val_precision: 0.8342 - val_recall: 0.4890 - val_f1: 0.1542\n",
            "Epoch 6/10\n",
            "26/26 [==============================] - 24s 906ms/step - loss: 0.6826 - accuracy: 0.5005 - precision: 0.8488 - recall: 0.4526 - f1: 0.1476 - val_loss: 0.6999 - val_accuracy: 0.4813 - val_precision: 0.8323 - val_recall: 0.4357 - val_f1: 0.1430\n",
            "Epoch 7/10\n",
            "26/26 [==============================] - 23s 896ms/step - loss: 0.6763 - accuracy: 0.5528 - precision: 0.8476 - recall: 0.5337 - f1: 0.1637 - val_loss: 0.6776 - val_accuracy: 0.5511 - val_precision: 0.8458 - val_recall: 0.5329 - val_f1: 0.1635\n",
            "Epoch 8/10\n",
            "26/26 [==============================] - 23s 899ms/step - loss: 0.6713 - accuracy: 0.5547 - precision: 0.8499 - recall: 0.5345 - f1: 0.1641 - val_loss: 0.6686 - val_accuracy: 0.5736 - val_precision: 0.8491 - val_recall: 0.5643 - val_f1: 0.1695\n",
            "Epoch 9/10\n",
            "26/26 [==============================] - 23s 892ms/step - loss: 0.6679 - accuracy: 0.6067 - precision: 0.8424 - recall: 0.6218 - f1: 0.1789 - val_loss: 0.7011 - val_accuracy: 0.5062 - val_precision: 0.8497 - val_recall: 0.4608 - val_f1: 0.1494\n",
            "Epoch 10/10\n",
            "26/26 [==============================] - 24s 940ms/step - loss: 0.6674 - accuracy: 0.5400 - precision: 0.8545 - recall: 0.5082 - f1: 0.1593 - val_loss: 0.6872 - val_accuracy: 0.5212 - val_precision: 0.8470 - val_recall: 0.4859 - val_f1: 0.1544\n"
          ]
        }
      ],
      "source": [
        "callbacks = []\n",
        "class_weights = {0: len(y_tr)/(2*(y_tr == 0).sum()),\n",
        "                 1: len(y_tr)/(2*(y_tr == 1).sum())}\n",
        "history = model.fit(\n",
        "    X_train, y_tr,\n",
        "    validation_data=(X_val, y_val),\n",
        "    epochs=10, batch_size=128, \n",
        "    callbacks=callbacks, verbose=1,\n",
        "    class_weight=class_weights) "
      ]
    }
  ],
  "metadata": {
    "colab": {
      "collapsed_sections": [],
      "name": "dataset_fr_firstexplo.ipynb",
      "provenance": []
    },
    "kernelspec": {
      "display_name": "Python 3",
      "name": "python3"
    },
    "language_info": {
      "name": "python"
    }
  },
  "nbformat": 4,
  "nbformat_minor": 0
}