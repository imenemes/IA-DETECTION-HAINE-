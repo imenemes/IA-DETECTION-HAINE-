{
  "cells": [
    {
      "cell_type": "markdown",
      "source": [
        "**1- Importation des librairies**"
      ],
      "metadata": {
        "id": "a-PyRFUm05kE"
      }
    },
    {
      "cell_type": "code",
      "execution_count": 1,
      "metadata": {
        "id": "y-ketQ-qCSy1"
      },
      "outputs": [],
      "source": [
        "import pandas as pd\n",
        "import glob\n",
        "import numpy as np\n",
        "import sys\n",
        "import os\n",
        "import re\n",
        "from sklearn.ensemble import IsolationForest"
      ]
    },
    {
      "cell_type": "markdown",
      "source": [
        "**Monter le drive**"
      ],
      "metadata": {
        "id": "w-tpHsgt1BzG"
      }
    },
    {
      "cell_type": "code",
      "execution_count": 2,
      "metadata": {
        "colab": {
          "base_uri": "https://localhost:8080/"
        },
        "id": "NC5JlNsXb0Dl",
        "outputId": "774d5997-4037-444e-ee22-06b37e97167c"
      },
      "outputs": [
        {
          "output_type": "stream",
          "name": "stdout",
          "text": [
            "Mounted at /content/drive\n"
          ]
        }
      ],
      "source": [
        "from google.colab import drive\n",
        "drive.mount('/content/drive')"
      ]
    },
    {
      "cell_type": "markdown",
      "source": [
        "Importer un fichier .Py contenant des fonctions utiles"
      ],
      "metadata": {
        "id": "anN4I25Q3Qd4"
      }
    },
    {
      "cell_type": "code",
      "source": [
        "py_file_location = \"/content/drive/MyDrive\"\n",
        "sys.path.append(os.path.abspath(py_file_location))"
      ],
      "metadata": {
        "id": "nqnK-6oNFfgd"
      },
      "execution_count": 3,
      "outputs": []
    },
    {
      "cell_type": "code",
      "source": [
        "from function_tools import *"
      ],
      "metadata": {
        "id": "8y0Wfa6bFyvy"
      },
      "execution_count": 4,
      "outputs": []
    },
    {
      "cell_type": "code",
      "execution_count": 5,
      "metadata": {
        "id": "eaNKVb9tz_O2"
      },
      "outputs": [],
      "source": [
        "# récupérer les fichier du dossier contenant les fihcier de clusters\n",
        "# glob aide à faire un trie par regex afin d'en choisir les fichiers nettoyés\n",
        "list_brut= glob.glob('/content/drive/MyDrive/Data_M/bertsom25/*raw*')\n",
        "#list_cluster= glob.glob('/content/drive/MyDrive/Data_M/bertsom25/*clean*')\n",
        "list_array= glob.glob('/content/drive/MyDrive/Data_M/bertsom25/*encoded*')\n",
        "file_info= '/content/drive/MyDrive/Data_M/bertsom25/bertsom25_clusters_info.txt'"
      ]
    },
    {
      "cell_type": "code",
      "execution_count": 6,
      "metadata": {
        "id": "ufrbbAv80bQ7"
      },
      "outputs": [],
      "source": [
        "# ordonner la liste des clusters\n",
        "list_brut.sort(key=extr_num2)\n",
        "list_array.sort(key=extr_num2)"
      ]
    },
    {
      "cell_type": "markdown",
      "source": [
        "**Vérifier l'extraction des fichiers**"
      ],
      "metadata": {
        "id": "W_94dm0G4U6w"
      }
    },
    {
      "cell_type": "code",
      "source": [
        "list_array"
      ],
      "metadata": {
        "id": "6vSEgmNDO5Od"
      },
      "execution_count": null,
      "outputs": []
    },
    {
      "cell_type": "code",
      "source": [
        "list_brut"
      ],
      "metadata": {
        "id": "HrAGTIO2TIg9"
      },
      "execution_count": null,
      "outputs": []
    },
    {
      "cell_type": "code",
      "source": [
        "file_info"
      ],
      "metadata": {
        "colab": {
          "base_uri": "https://localhost:8080/",
          "height": 36
        },
        "id": "ZOFLgJbN36HZ",
        "outputId": "4eacee22-c93a-4f66-e748-1a4273918602"
      },
      "execution_count": null,
      "outputs": [
        {
          "output_type": "execute_result",
          "data": {
            "text/plain": [
              "'/content/drive/MyDrive/Data_M/bertsom25/bertsom25_clusters_info.txt'"
            ],
            "application/vnd.google.colaboratory.intrinsic+json": {
              "type": "string"
            }
          },
          "metadata": {},
          "execution_count": 14
        }
      ]
    },
    {
      "cell_type": "markdown",
      "source": [
        "**2- Lire le contenu des clusters**"
      ],
      "metadata": {
        "id": "yERoysx44a3t"
      }
    },
    {
      "cell_type": "code",
      "source": [
        "brut_cluster= read_cluster(list_brut)"
      ],
      "metadata": {
        "id": "g83I9zWrQbij"
      },
      "execution_count": 8,
      "outputs": []
    },
    {
      "cell_type": "markdown",
      "source": [
        "**3- Transformer les listes en dataframe**"
      ],
      "metadata": {
        "id": "y5IewBdY47Ev"
      }
    },
    {
      "cell_type": "code",
      "source": [
        "def init_df(brut_cluster):\n",
        "  liste_df=[]\n",
        "  for i in range(len(brut_cluster)):\n",
        "    liste_df.append(pd.DataFrame(list(brut_cluster[i]), columns = ['tweet']))\n",
        "  return liste_df\n"
      ],
      "metadata": {
        "id": "OTuoW1PqIKY3"
      },
      "execution_count": 9,
      "outputs": []
    },
    {
      "cell_type": "code",
      "source": [
        "liste_df=init_df(brut_cluster)"
      ],
      "metadata": {
        "id": "2KIAblbLIkXW"
      },
      "execution_count": 10,
      "outputs": []
    },
    {
      "cell_type": "code",
      "source": [
        "liste_df[24].head()"
      ],
      "metadata": {
        "colab": {
          "base_uri": "https://localhost:8080/",
          "height": 206
        },
        "id": "KqMQJzv2rXt2",
        "outputId": "ed279700-dd32-430b-f4a2-d8533a491e95"
      },
      "execution_count": 11,
      "outputs": [
        {
          "output_type": "execute_result",
          "data": {
            "text/plain": [
              "                                               tweet\n",
              "0  gaston lagaffe au bureau : dsl pour la ptite g...\n",
              "1  Un gars de type méditerranéen (oui maghrébin) ...\n",
              "2  L'humour noir dont il parle c'est du viol sur ...\n",
              "3  Pour vous sale negro on doit subir si non on a...\n",
              "4  ça doit être le genre de mec à jouir en entend..."
            ],
            "text/html": [
              "\n",
              "  <div id=\"df-964d473f-2c9f-48de-b3fc-1d075180243a\">\n",
              "    <div class=\"colab-df-container\">\n",
              "      <div>\n",
              "<style scoped>\n",
              "    .dataframe tbody tr th:only-of-type {\n",
              "        vertical-align: middle;\n",
              "    }\n",
              "\n",
              "    .dataframe tbody tr th {\n",
              "        vertical-align: top;\n",
              "    }\n",
              "\n",
              "    .dataframe thead th {\n",
              "        text-align: right;\n",
              "    }\n",
              "</style>\n",
              "<table border=\"1\" class=\"dataframe\">\n",
              "  <thead>\n",
              "    <tr style=\"text-align: right;\">\n",
              "      <th></th>\n",
              "      <th>tweet</th>\n",
              "    </tr>\n",
              "  </thead>\n",
              "  <tbody>\n",
              "    <tr>\n",
              "      <th>0</th>\n",
              "      <td>gaston lagaffe au bureau : dsl pour la ptite g...</td>\n",
              "    </tr>\n",
              "    <tr>\n",
              "      <th>1</th>\n",
              "      <td>Un gars de type méditerranéen (oui maghrébin) ...</td>\n",
              "    </tr>\n",
              "    <tr>\n",
              "      <th>2</th>\n",
              "      <td>L'humour noir dont il parle c'est du viol sur ...</td>\n",
              "    </tr>\n",
              "    <tr>\n",
              "      <th>3</th>\n",
              "      <td>Pour vous sale negro on doit subir si non on a...</td>\n",
              "    </tr>\n",
              "    <tr>\n",
              "      <th>4</th>\n",
              "      <td>ça doit être le genre de mec à jouir en entend...</td>\n",
              "    </tr>\n",
              "  </tbody>\n",
              "</table>\n",
              "</div>\n",
              "      <button class=\"colab-df-convert\" onclick=\"convertToInteractive('df-964d473f-2c9f-48de-b3fc-1d075180243a')\"\n",
              "              title=\"Convert this dataframe to an interactive table.\"\n",
              "              style=\"display:none;\">\n",
              "        \n",
              "  <svg xmlns=\"http://www.w3.org/2000/svg\" height=\"24px\"viewBox=\"0 0 24 24\"\n",
              "       width=\"24px\">\n",
              "    <path d=\"M0 0h24v24H0V0z\" fill=\"none\"/>\n",
              "    <path d=\"M18.56 5.44l.94 2.06.94-2.06 2.06-.94-2.06-.94-.94-2.06-.94 2.06-2.06.94zm-11 1L8.5 8.5l.94-2.06 2.06-.94-2.06-.94L8.5 2.5l-.94 2.06-2.06.94zm10 10l.94 2.06.94-2.06 2.06-.94-2.06-.94-.94-2.06-.94 2.06-2.06.94z\"/><path d=\"M17.41 7.96l-1.37-1.37c-.4-.4-.92-.59-1.43-.59-.52 0-1.04.2-1.43.59L10.3 9.45l-7.72 7.72c-.78.78-.78 2.05 0 2.83L4 21.41c.39.39.9.59 1.41.59.51 0 1.02-.2 1.41-.59l7.78-7.78 2.81-2.81c.8-.78.8-2.07 0-2.86zM5.41 20L4 18.59l7.72-7.72 1.47 1.35L5.41 20z\"/>\n",
              "  </svg>\n",
              "      </button>\n",
              "      \n",
              "  <style>\n",
              "    .colab-df-container {\n",
              "      display:flex;\n",
              "      flex-wrap:wrap;\n",
              "      gap: 12px;\n",
              "    }\n",
              "\n",
              "    .colab-df-convert {\n",
              "      background-color: #E8F0FE;\n",
              "      border: none;\n",
              "      border-radius: 50%;\n",
              "      cursor: pointer;\n",
              "      display: none;\n",
              "      fill: #1967D2;\n",
              "      height: 32px;\n",
              "      padding: 0 0 0 0;\n",
              "      width: 32px;\n",
              "    }\n",
              "\n",
              "    .colab-df-convert:hover {\n",
              "      background-color: #E2EBFA;\n",
              "      box-shadow: 0px 1px 2px rgba(60, 64, 67, 0.3), 0px 1px 3px 1px rgba(60, 64, 67, 0.15);\n",
              "      fill: #174EA6;\n",
              "    }\n",
              "\n",
              "    [theme=dark] .colab-df-convert {\n",
              "      background-color: #3B4455;\n",
              "      fill: #D2E3FC;\n",
              "    }\n",
              "\n",
              "    [theme=dark] .colab-df-convert:hover {\n",
              "      background-color: #434B5C;\n",
              "      box-shadow: 0px 1px 3px 1px rgba(0, 0, 0, 0.15);\n",
              "      filter: drop-shadow(0px 1px 2px rgba(0, 0, 0, 0.3));\n",
              "      fill: #FFFFFF;\n",
              "    }\n",
              "  </style>\n",
              "\n",
              "      <script>\n",
              "        const buttonEl =\n",
              "          document.querySelector('#df-964d473f-2c9f-48de-b3fc-1d075180243a button.colab-df-convert');\n",
              "        buttonEl.style.display =\n",
              "          google.colab.kernel.accessAllowed ? 'block' : 'none';\n",
              "\n",
              "        async function convertToInteractive(key) {\n",
              "          const element = document.querySelector('#df-964d473f-2c9f-48de-b3fc-1d075180243a');\n",
              "          const dataTable =\n",
              "            await google.colab.kernel.invokeFunction('convertToInteractive',\n",
              "                                                     [key], {});\n",
              "          if (!dataTable) return;\n",
              "\n",
              "          const docLinkHtml = 'Like what you see? Visit the ' +\n",
              "            '<a target=\"_blank\" href=https://colab.research.google.com/notebooks/data_table.ipynb>data table notebook</a>'\n",
              "            + ' to learn more about interactive tables.';\n",
              "          element.innerHTML = '';\n",
              "          dataTable['output_type'] = 'display_data';\n",
              "          await google.colab.output.renderOutput(dataTable, element);\n",
              "          const docLink = document.createElement('div');\n",
              "          docLink.innerHTML = docLinkHtml;\n",
              "          element.appendChild(docLink);\n",
              "        }\n",
              "      </script>\n",
              "    </div>\n",
              "  </div>\n",
              "  "
            ]
          },
          "metadata": {},
          "execution_count": 11
        }
      ]
    },
    {
      "cell_type": "markdown",
      "source": [
        "**4- Mettre les vecteurs dans une liste**"
      ],
      "metadata": {
        "id": "lX81NXqr5Obn"
      }
    },
    {
      "cell_type": "code",
      "source": [
        "liste_vec=[]\n",
        "for i in range(len(list_array)):\n",
        "  liste_vec.append(np.load(list_array[i]))"
      ],
      "metadata": {
        "id": "mF4wk11dOgBL"
      },
      "execution_count": 12,
      "outputs": []
    },
    {
      "cell_type": "code",
      "source": [
        "liste_vec[14].shape"
      ],
      "metadata": {
        "colab": {
          "base_uri": "https://localhost:8080/"
        },
        "id": "06SkmU1uP6Wh",
        "outputId": "236db743-0add-486d-876e-cd2f66a2ff1c"
      },
      "execution_count": 13,
      "outputs": [
        {
          "output_type": "execute_result",
          "data": {
            "text/plain": [
              "(97, 768)"
            ]
          },
          "metadata": {},
          "execution_count": 13
        }
      ]
    },
    {
      "cell_type": "markdown",
      "source": [
        "**5- Entrainement avec Isolation Forest**"
      ],
      "metadata": {
        "id": "XF1YirHs5iJ4"
      }
    },
    {
      "cell_type": "markdown",
      "source": [
        "**A- Variante contamination fixe**"
      ],
      "metadata": {
        "id": "I72_4FEy50lC"
      }
    },
    {
      "cell_type": "code",
      "source": [
        "def train_if (dataset, cont):\n",
        "  models=[]\n",
        "  for i in range(len(dataset)):\n",
        "    if_model=IsolationForest(n_jobs=-1, random_state=42, contamination=cont)\n",
        "    models.append(if_model.fit(dataset[i]))\n",
        "  return models"
      ],
      "metadata": {
        "id": "LH73Z-UjTrTL"
      },
      "execution_count": 14,
      "outputs": []
    },
    {
      "cell_type": "code",
      "execution_count": 15,
      "metadata": {
        "colab": {
          "base_uri": "https://localhost:8080/"
        },
        "id": "4k51z-ZfV_Ln",
        "outputId": "194b9f9a-8500-4eab-f44a-2b439ea68c2e"
      },
      "outputs": [
        {
          "output_type": "stream",
          "name": "stdout",
          "text": [
            "CPU times: user 9.24 s, sys: 533 ms, total: 9.77 s\n",
            "Wall time: 9.48 s\n"
          ]
        }
      ],
      "source": [
        "# Entrainer le modèle\n",
        "%%time\n",
        "models = train_if(liste_vec, 0.15)"
      ]
    },
    {
      "cell_type": "code",
      "source": [
        "# mettre les prédictions dans une liste\n",
        "def pred(dataset,model):\n",
        "  pred=[]\n",
        "  for i in range(len(dataset)):\n",
        "    pred.append(model[i].predict(dataset[i]))\n",
        "  return pred"
      ],
      "metadata": {
        "id": "l-Qmn896UYdw"
      },
      "execution_count": 58,
      "outputs": []
    },
    {
      "cell_type": "code",
      "source": [
        "pred= pred(liste_vec, models)"
      ],
      "metadata": {
        "id": "ZK-ZEINHU0kt"
      },
      "execution_count": 17,
      "outputs": []
    },
    {
      "cell_type": "code",
      "execution_count": 63,
      "metadata": {
        "id": "196-bkDCB46a"
      },
      "outputs": [],
      "source": [
        "# ajouter une colonne pred à chaque dataframe de cluster\n",
        "def pred_to_df(liste, pred):\n",
        "  for i in range(len(liste)):\n",
        "    liste[i]['pred']= pred[i]"
      ]
    },
    {
      "cell_type": "code",
      "source": [
        "pred_to_df(liste_df)"
      ],
      "metadata": {
        "id": "PMAcEK7UPhGv"
      },
      "execution_count": 19,
      "outputs": []
    },
    {
      "cell_type": "code",
      "execution_count": 20,
      "metadata": {
        "id": "UBAkvlMtuBl0",
        "colab": {
          "base_uri": "https://localhost:8080/",
          "height": 363
        },
        "outputId": "c5f3d609-907d-4567-c898-ad3f39b1e0ca"
      },
      "outputs": [
        {
          "output_type": "execute_result",
          "data": {
            "text/plain": [
              "                            tweet  pred\n",
              "0                 Sale noir vas\\n     1\n",
              "1             Ya quoi sale noir\\n     1\n",
              "2                     Jsui mort\\n     1\n",
              "3                Bah le babouin\\n     1\n",
              "4            je préfère banania\\n     1\n",
              "5               Negre de maison\\n     1\n",
              "6               c toi sale noir\\n     1\n",
              "7  Nègre brésilien triangulaire\\n     1\n",
              "8                  J’ai menti ?\\n     1\n",
              "9              oh ptn sale noir\\n     1"
            ],
            "text/html": [
              "\n",
              "  <div id=\"df-0c4bb2bb-1bdc-4c74-a803-ed465095de7a\">\n",
              "    <div class=\"colab-df-container\">\n",
              "      <div>\n",
              "<style scoped>\n",
              "    .dataframe tbody tr th:only-of-type {\n",
              "        vertical-align: middle;\n",
              "    }\n",
              "\n",
              "    .dataframe tbody tr th {\n",
              "        vertical-align: top;\n",
              "    }\n",
              "\n",
              "    .dataframe thead th {\n",
              "        text-align: right;\n",
              "    }\n",
              "</style>\n",
              "<table border=\"1\" class=\"dataframe\">\n",
              "  <thead>\n",
              "    <tr style=\"text-align: right;\">\n",
              "      <th></th>\n",
              "      <th>tweet</th>\n",
              "      <th>pred</th>\n",
              "    </tr>\n",
              "  </thead>\n",
              "  <tbody>\n",
              "    <tr>\n",
              "      <th>0</th>\n",
              "      <td>Sale noir vas\\n</td>\n",
              "      <td>1</td>\n",
              "    </tr>\n",
              "    <tr>\n",
              "      <th>1</th>\n",
              "      <td>Ya quoi sale noir\\n</td>\n",
              "      <td>1</td>\n",
              "    </tr>\n",
              "    <tr>\n",
              "      <th>2</th>\n",
              "      <td>Jsui mort\\n</td>\n",
              "      <td>1</td>\n",
              "    </tr>\n",
              "    <tr>\n",
              "      <th>3</th>\n",
              "      <td>Bah le babouin\\n</td>\n",
              "      <td>1</td>\n",
              "    </tr>\n",
              "    <tr>\n",
              "      <th>4</th>\n",
              "      <td>je préfère banania\\n</td>\n",
              "      <td>1</td>\n",
              "    </tr>\n",
              "    <tr>\n",
              "      <th>5</th>\n",
              "      <td>Negre de maison\\n</td>\n",
              "      <td>1</td>\n",
              "    </tr>\n",
              "    <tr>\n",
              "      <th>6</th>\n",
              "      <td>c toi sale noir\\n</td>\n",
              "      <td>1</td>\n",
              "    </tr>\n",
              "    <tr>\n",
              "      <th>7</th>\n",
              "      <td>Nègre brésilien triangulaire\\n</td>\n",
              "      <td>1</td>\n",
              "    </tr>\n",
              "    <tr>\n",
              "      <th>8</th>\n",
              "      <td>J’ai menti ?\\n</td>\n",
              "      <td>1</td>\n",
              "    </tr>\n",
              "    <tr>\n",
              "      <th>9</th>\n",
              "      <td>oh ptn sale noir\\n</td>\n",
              "      <td>1</td>\n",
              "    </tr>\n",
              "  </tbody>\n",
              "</table>\n",
              "</div>\n",
              "      <button class=\"colab-df-convert\" onclick=\"convertToInteractive('df-0c4bb2bb-1bdc-4c74-a803-ed465095de7a')\"\n",
              "              title=\"Convert this dataframe to an interactive table.\"\n",
              "              style=\"display:none;\">\n",
              "        \n",
              "  <svg xmlns=\"http://www.w3.org/2000/svg\" height=\"24px\"viewBox=\"0 0 24 24\"\n",
              "       width=\"24px\">\n",
              "    <path d=\"M0 0h24v24H0V0z\" fill=\"none\"/>\n",
              "    <path d=\"M18.56 5.44l.94 2.06.94-2.06 2.06-.94-2.06-.94-.94-2.06-.94 2.06-2.06.94zm-11 1L8.5 8.5l.94-2.06 2.06-.94-2.06-.94L8.5 2.5l-.94 2.06-2.06.94zm10 10l.94 2.06.94-2.06 2.06-.94-2.06-.94-.94-2.06-.94 2.06-2.06.94z\"/><path d=\"M17.41 7.96l-1.37-1.37c-.4-.4-.92-.59-1.43-.59-.52 0-1.04.2-1.43.59L10.3 9.45l-7.72 7.72c-.78.78-.78 2.05 0 2.83L4 21.41c.39.39.9.59 1.41.59.51 0 1.02-.2 1.41-.59l7.78-7.78 2.81-2.81c.8-.78.8-2.07 0-2.86zM5.41 20L4 18.59l7.72-7.72 1.47 1.35L5.41 20z\"/>\n",
              "  </svg>\n",
              "      </button>\n",
              "      \n",
              "  <style>\n",
              "    .colab-df-container {\n",
              "      display:flex;\n",
              "      flex-wrap:wrap;\n",
              "      gap: 12px;\n",
              "    }\n",
              "\n",
              "    .colab-df-convert {\n",
              "      background-color: #E8F0FE;\n",
              "      border: none;\n",
              "      border-radius: 50%;\n",
              "      cursor: pointer;\n",
              "      display: none;\n",
              "      fill: #1967D2;\n",
              "      height: 32px;\n",
              "      padding: 0 0 0 0;\n",
              "      width: 32px;\n",
              "    }\n",
              "\n",
              "    .colab-df-convert:hover {\n",
              "      background-color: #E2EBFA;\n",
              "      box-shadow: 0px 1px 2px rgba(60, 64, 67, 0.3), 0px 1px 3px 1px rgba(60, 64, 67, 0.15);\n",
              "      fill: #174EA6;\n",
              "    }\n",
              "\n",
              "    [theme=dark] .colab-df-convert {\n",
              "      background-color: #3B4455;\n",
              "      fill: #D2E3FC;\n",
              "    }\n",
              "\n",
              "    [theme=dark] .colab-df-convert:hover {\n",
              "      background-color: #434B5C;\n",
              "      box-shadow: 0px 1px 3px 1px rgba(0, 0, 0, 0.15);\n",
              "      filter: drop-shadow(0px 1px 2px rgba(0, 0, 0, 0.3));\n",
              "      fill: #FFFFFF;\n",
              "    }\n",
              "  </style>\n",
              "\n",
              "      <script>\n",
              "        const buttonEl =\n",
              "          document.querySelector('#df-0c4bb2bb-1bdc-4c74-a803-ed465095de7a button.colab-df-convert');\n",
              "        buttonEl.style.display =\n",
              "          google.colab.kernel.accessAllowed ? 'block' : 'none';\n",
              "\n",
              "        async function convertToInteractive(key) {\n",
              "          const element = document.querySelector('#df-0c4bb2bb-1bdc-4c74-a803-ed465095de7a');\n",
              "          const dataTable =\n",
              "            await google.colab.kernel.invokeFunction('convertToInteractive',\n",
              "                                                     [key], {});\n",
              "          if (!dataTable) return;\n",
              "\n",
              "          const docLinkHtml = 'Like what you see? Visit the ' +\n",
              "            '<a target=\"_blank\" href=https://colab.research.google.com/notebooks/data_table.ipynb>data table notebook</a>'\n",
              "            + ' to learn more about interactive tables.';\n",
              "          element.innerHTML = '';\n",
              "          dataTable['output_type'] = 'display_data';\n",
              "          await google.colab.output.renderOutput(dataTable, element);\n",
              "          const docLink = document.createElement('div');\n",
              "          docLink.innerHTML = docLinkHtml;\n",
              "          element.appendChild(docLink);\n",
              "        }\n",
              "      </script>\n",
              "    </div>\n",
              "  </div>\n",
              "  "
            ]
          },
          "metadata": {},
          "execution_count": 20
        }
      ],
      "source": [
        "liste_df[14].head(10)"
      ]
    },
    {
      "cell_type": "markdown",
      "source": [
        "**Extraction des clusters pertinent**"
      ],
      "metadata": {
        "id": "fql7ZJhfW27U"
      }
    },
    {
      "cell_type": "code",
      "source": [
        "def extract_pourcentage(filename):\n",
        "  pourcentage_haineux = []\n",
        "  with open(filename, \"r\") as f:\n",
        "    lines = f.read().split('\\n\\n')\n",
        "  for line in lines[:-1]: \n",
        "    hper = re.findall('(\\d*.\\d*)% de', line)\n",
        "    hper = float(hper[0]) if len(hper) > 0 else 0\n",
        "    pourcentage_haineux.append(hper)\n",
        "  return pourcentage_haineux"
      ],
      "metadata": {
        "id": "orsCdK5W8mgs"
      },
      "execution_count": 21,
      "outputs": []
    },
    {
      "cell_type": "code",
      "source": [
        "pourcentage_haineux= extract_pourcentage(file_info)"
      ],
      "metadata": {
        "id": "IJTBJoLu8md5"
      },
      "execution_count": 22,
      "outputs": []
    },
    {
      "cell_type": "code",
      "source": [
        "def filtre_cluster_pertinent(cont):\n",
        "  pertinent_cluster=[]\n",
        "  for i in range(len(cont)):\n",
        "    if cont[i]!= 0 and cont[i] < 20 or cont[i] > 80 :\n",
        "      pertinent_cluster.append(i)\n",
        "  return pertinent_cluster"
      ],
      "metadata": {
        "id": "a4SB75PZBEFG"
      },
      "execution_count": 23,
      "outputs": []
    },
    {
      "cell_type": "code",
      "source": [
        "pertinent_cluster=filtre_cluster_pertinent(pourcentage_haineux)"
      ],
      "metadata": {
        "id": "pzVk1tyeCGsh"
      },
      "execution_count": 24,
      "outputs": []
    },
    {
      "cell_type": "code",
      "source": [
        "pertinent_cluster"
      ],
      "metadata": {
        "colab": {
          "base_uri": "https://localhost:8080/"
        },
        "id": "W44ZLYX-YP8D",
        "outputId": "fe683aa3-5967-4121-c6ec-b9973899d2b2"
      },
      "execution_count": 25,
      "outputs": [
        {
          "output_type": "execute_result",
          "data": {
            "text/plain": [
              "[0, 12, 13, 14, 17, 19]"
            ]
          },
          "metadata": {},
          "execution_count": 25
        }
      ]
    },
    {
      "cell_type": "code",
      "execution_count": 26,
      "metadata": {
        "id": "B6KfbLjeuLmz"
      },
      "outputs": [],
      "source": [
        "# Trouver les outliers de chaque cluster\n",
        "# ceux dont l'index est -1\n",
        "def separate_outliers(liste_df):\n",
        "  outliers=[]\n",
        "  clusters_clean=[]\n",
        "  for i,n in enumerate(pertinent_cluster):\n",
        "    outliers.append(liste_df[n]['tweet'].loc[liste_df[n]['pred']==-1])\n",
        "    clusters_clean.append(liste_df[n]['tweet'].loc[liste_df[n]['pred']==1])\n",
        "    #outlier_index=list(outliers[i].index)\n",
        "    print(\"cluster\"+str(n)+\":\"+\"\\n\")\n",
        "    print(liste_df[n]['pred'].value_counts())\n",
        "    print(\"\\n\")\n",
        "  return outliers, clusters_clean"
      ]
    },
    {
      "cell_type": "code",
      "source": [
        "outliers_fixe, clusters_clean_fixe= separate_outliers(liste_df)"
      ],
      "metadata": {
        "id": "9Ij9u2x9VEJX"
      },
      "execution_count": null,
      "outputs": []
    },
    {
      "cell_type": "code",
      "execution_count": 28,
      "metadata": {
        "id": "MjIFW46YAzB5"
      },
      "outputs": [],
      "source": [
        "def save_cluster(liste, file, repo):\n",
        "  for i,n in enumerate(pertinent_cluster):\n",
        "    with open(f\"drive/MyDrive/\"+repo+file+f\"_{n}\", 'w') as f:\n",
        "      for line in liste[i]:\n",
        "        f.write(line)"
      ]
    },
    {
      "cell_type": "code",
      "source": [
        "save_cluster(outliers_fixe, \"fixe_outliers\", \"outliers_bert_som25/\")"
      ],
      "metadata": {
        "id": "53DFT98k7vFv"
      },
      "execution_count": 29,
      "outputs": []
    },
    {
      "cell_type": "code",
      "source": [
        "save_cluster(clusters_clean_fixe, \"fixe_clean\",\"clean_bert_som25/\")"
      ],
      "metadata": {
        "id": "qf8FN9GSULcs"
      },
      "execution_count": 30,
      "outputs": []
    },
    {
      "cell_type": "markdown",
      "source": [
        "**B- Variante contamination variable**"
      ],
      "metadata": {
        "id": "Sa7BD1gA8hc3"
      }
    },
    {
      "cell_type": "code",
      "source": [
        "liste_df_var=init_df(brut_cluster)"
      ],
      "metadata": {
        "id": "2Fjl58SiIv3W"
      },
      "execution_count": 31,
      "outputs": []
    },
    {
      "cell_type": "code",
      "source": [
        "pourcentage_haineux"
      ],
      "metadata": {
        "id": "hkONUFjo8mbS"
      },
      "execution_count": null,
      "outputs": []
    },
    {
      "cell_type": "code",
      "source": [
        "pertinent_cluster"
      ],
      "metadata": {
        "colab": {
          "base_uri": "https://localhost:8080/"
        },
        "id": "c4gzAT66Cl-Q",
        "outputId": "f23ee96b-19e7-4ad9-a931-e6224f61da49"
      },
      "execution_count": 33,
      "outputs": [
        {
          "output_type": "execute_result",
          "data": {
            "text/plain": [
              "[0, 12, 13, 14, 17, 19]"
            ]
          },
          "metadata": {},
          "execution_count": 33
        }
      ]
    },
    {
      "cell_type": "code",
      "source": [
        "def train_if_var (dataset, cont):\n",
        "  models=[]\n",
        "  for i in range(len(dataset)):\n",
        "    if cont[i] < 20 and cont[i]!= 0:\n",
        "      if_model=IsolationForest(n_jobs=-1, random_state=42, contamination=cont[i]/100)\n",
        "      models.append(if_model.fit(dataset[i]))\n",
        "    elif cont[i]> 80:\n",
        "      if_model=IsolationForest(n_jobs=-1, random_state=42, contamination=1-(cont[i]/100))\n",
        "      models.append(if_model.fit(dataset[i]))\n",
        "  return models"
      ],
      "metadata": {
        "id": "NhhGyKUL-0M0"
      },
      "execution_count": 34,
      "outputs": []
    },
    {
      "cell_type": "code",
      "source": [
        "models_var= train_if_var(liste_vec, pourcentage_haineux)"
      ],
      "metadata": {
        "id": "1fAnv_cV_O1t"
      },
      "execution_count": 35,
      "outputs": []
    },
    {
      "cell_type": "code",
      "source": [
        "len(models_var)"
      ],
      "metadata": {
        "colab": {
          "base_uri": "https://localhost:8080/"
        },
        "id": "j-aHkJvmFZL2",
        "outputId": "781de632-030f-4df7-88f2-19ed1d94bb89"
      },
      "execution_count": 36,
      "outputs": [
        {
          "output_type": "execute_result",
          "data": {
            "text/plain": [
              "6"
            ]
          },
          "metadata": {},
          "execution_count": 36
        }
      ]
    },
    {
      "cell_type": "code",
      "source": [
        "def pred_var(dataset,model):\n",
        "  pred=[]\n",
        "  for i,n  in enumerate(pertinent_cluster):\n",
        "    pred.append(model[i].predict(dataset[n]))\n",
        "  return pred"
      ],
      "metadata": {
        "id": "MXOWJQeUBCL6"
      },
      "execution_count": 37,
      "outputs": []
    },
    {
      "cell_type": "code",
      "source": [
        "prediction = pred_var(liste_vec,models_var)"
      ],
      "metadata": {
        "id": "b2xo48smFE4S"
      },
      "execution_count": 38,
      "outputs": []
    },
    {
      "cell_type": "code",
      "source": [
        "len(prediction)"
      ],
      "metadata": {
        "colab": {
          "base_uri": "https://localhost:8080/"
        },
        "id": "dYlSnyCLK0NR",
        "outputId": "38a309aa-5b29-4d83-f696-a1edec66bafd"
      },
      "execution_count": null,
      "outputs": [
        {
          "output_type": "execute_result",
          "data": {
            "text/plain": [
              "6"
            ]
          },
          "metadata": {},
          "execution_count": 138
        }
      ]
    },
    {
      "cell_type": "code",
      "source": [
        "# ajouter une colonne pred à chaque dataframe de cluster\n",
        "for i, n in enumerate(pertinent_cluster):\n",
        "  liste_df_var[n]['pred']= prediction[i]"
      ],
      "metadata": {
        "id": "Tr7vN9FUHfVP"
      },
      "execution_count": 39,
      "outputs": []
    },
    {
      "cell_type": "code",
      "source": [
        "liste_df_var[0]['pred'].value_counts()"
      ],
      "metadata": {
        "colab": {
          "base_uri": "https://localhost:8080/"
        },
        "id": "HJpf2Ce4LC95",
        "outputId": "2e300032-066a-4750-c38c-7b6d9ec3a41c"
      },
      "execution_count": null,
      "outputs": [
        {
          "output_type": "execute_result",
          "data": {
            "text/plain": [
              " 1    182\n",
              "-1     43\n",
              "Name: pred, dtype: int64"
            ]
          },
          "metadata": {},
          "execution_count": 143
        }
      ]
    },
    {
      "cell_type": "code",
      "source": [
        "outliers_var, clusters_clean_var= separate_outliers(liste_df_var)"
      ],
      "metadata": {
        "id": "Y_gKwuDwJSQI"
      },
      "execution_count": null,
      "outputs": []
    },
    {
      "cell_type": "code",
      "source": [
        "save_cluster(outliers_var, \"var_outliers\", \"outliers_bert_som25/\")"
      ],
      "metadata": {
        "id": "uarI-fxKL-vu"
      },
      "execution_count": 41,
      "outputs": []
    },
    {
      "cell_type": "code",
      "source": [
        "save_cluster(clusters_clean_var, \"var_clean\",\"clean_bert_som25/\" )"
      ],
      "metadata": {
        "id": "5nMfM9d1MXb9"
      },
      "execution_count": 42,
      "outputs": []
    },
    {
      "cell_type": "markdown",
      "source": [
        "**C- Variante contamination automatique**"
      ],
      "metadata": {
        "id": "0gMxplt_Mg54"
      }
    },
    {
      "cell_type": "code",
      "source": [
        "def train_if_auto (dataset):\n",
        "  models=[]\n",
        "  for i in range(len(dataset)):\n",
        "    if_model=IsolationForest(n_jobs=-1, random_state=42)\n",
        "    models.append(if_model.fit(dataset[i]))\n",
        "  return models"
      ],
      "metadata": {
        "id": "TA6UWkYROAhS"
      },
      "execution_count": 59,
      "outputs": []
    },
    {
      "cell_type": "code",
      "source": [
        "models_auto = train_if_auto(liste_vec)"
      ],
      "metadata": {
        "id": "0YfL9Y3fMgR-"
      },
      "execution_count": 60,
      "outputs": []
    },
    {
      "cell_type": "code",
      "source": [
        "liste_df_auto=init_df(brut_cluster)"
      ],
      "metadata": {
        "id": "lRIu_qb1OkPU"
      },
      "execution_count": 61,
      "outputs": []
    },
    {
      "cell_type": "code",
      "source": [
        "pred_auto = pred(liste_vec, models_auto)"
      ],
      "metadata": {
        "id": "T9kTtN6HOlsQ"
      },
      "execution_count": 62,
      "outputs": []
    },
    {
      "cell_type": "code",
      "source": [
        "pred_to_df(liste_df_auto, pred_auto)"
      ],
      "metadata": {
        "id": "sRua4ElBPGco"
      },
      "execution_count": 64,
      "outputs": []
    },
    {
      "cell_type": "code",
      "source": [
        "liste_df_auto"
      ],
      "metadata": {
        "id": "tG9OhPOkRIjK"
      },
      "execution_count": null,
      "outputs": []
    },
    {
      "cell_type": "code",
      "source": [
        "outliers_auto, clusters_clean_auto= separate_outliers(liste_df_auto)"
      ],
      "metadata": {
        "id": "TIUuMkbFQntH",
        "colab": {
          "base_uri": "https://localhost:8080/"
        },
        "outputId": "8549d6d7-dfb0-43ad-bba2-3a915ff0353b"
      },
      "execution_count": 66,
      "outputs": [
        {
          "output_type": "stream",
          "name": "stdout",
          "text": [
            "cluster0:\n",
            "\n",
            " 1    224\n",
            "-1      1\n",
            "Name: pred, dtype: int64\n",
            "\n",
            "\n",
            "cluster12:\n",
            "\n",
            " 1    138\n",
            "-1      4\n",
            "Name: pred, dtype: int64\n",
            "\n",
            "\n",
            "cluster13:\n",
            "\n",
            " 1    129\n",
            "-1      4\n",
            "Name: pred, dtype: int64\n",
            "\n",
            "\n",
            "cluster14:\n",
            "\n",
            " 1    95\n",
            "-1     2\n",
            "Name: pred, dtype: int64\n",
            "\n",
            "\n",
            "cluster17:\n",
            "\n",
            " 1    68\n",
            "-1     5\n",
            "Name: pred, dtype: int64\n",
            "\n",
            "\n",
            "cluster19:\n",
            "\n",
            " 1    350\n",
            "-1      4\n",
            "Name: pred, dtype: int64\n",
            "\n",
            "\n"
          ]
        }
      ]
    },
    {
      "cell_type": "code",
      "source": [
        "save_cluster(outliers_auto, \"auto_outliers\", \"outliers_bert_som25/\")"
      ],
      "metadata": {
        "id": "_0Z0NCaKQySm"
      },
      "execution_count": 67,
      "outputs": []
    },
    {
      "cell_type": "code",
      "source": [
        "save_cluster(clusters_clean_auto, \"auto_clean\", \"clean_bert_som25/\")"
      ],
      "metadata": {
        "id": "6q6kb-euQ4TG"
      },
      "execution_count": 68,
      "outputs": []
    }
  ],
  "metadata": {
    "colab": {
      "name": "IF_bertcluster_contamination.ipynb",
      "provenance": []
    },
    "kernelspec": {
      "display_name": "Python 3",
      "name": "python3"
    },
    "language_info": {
      "name": "python"
    }
  },
  "nbformat": 4,
  "nbformat_minor": 0
}