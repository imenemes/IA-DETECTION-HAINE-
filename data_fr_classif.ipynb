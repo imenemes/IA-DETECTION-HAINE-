{
  "nbformat": 4,
  "nbformat_minor": 0,
  "metadata": {
    "colab": {
      "name": "data_fr_classif.ipynb",
      "provenance": [],
      "authorship_tag": "ABX9TyN5Kkk/yr2IttDPQglswmiL"
    },
    "kernelspec": {
      "name": "python3",
      "display_name": "Python 3"
    },
    "language_info": {
      "name": "python"
    }
  },
  "cells": [
    {
      "cell_type": "code",
      "execution_count": 87,
      "metadata": {
        "id": "sBAVaH1UBHXv"
      },
      "outputs": [],
      "source": [
        "import pandas as pd\n",
        "import matplotlib.pyplot as plt\n",
        "import seaborn as sns\n",
        "import numpy as np\n",
        "import glob"
      ]
    },
    {
      "cell_type": "code",
      "source": [
        "from google.colab import drive\n",
        "drive.mount('/content/drive')"
      ],
      "metadata": {
        "colab": {
          "base_uri": "https://localhost:8080/"
        },
        "id": "eJZ6V8NGBI7B",
        "outputId": "2a0c7c64-a401-45ac-a4aa-c7c05468b13f"
      },
      "execution_count": 2,
      "outputs": [
        {
          "output_type": "stream",
          "name": "stdout",
          "text": [
            "Mounted at /content/drive\n"
          ]
        }
      ]
    },
    {
      "cell_type": "code",
      "source": [
        "path_files = r\"/content/drive/MyDrive/Data_M/dataset_fr/\""
      ],
      "metadata": {
        "id": "5bK_XzqVBb36"
      },
      "execution_count": 3,
      "outputs": []
    },
    {
      "cell_type": "code",
      "execution_count": 4,
      "metadata": {
        "id": "ooERHaMT9_zv"
      },
      "outputs": [],
      "source": [
        "data_hate = pd.read_pickle(f\"{path_files}data_hate.pkl\")"
      ]
    },
    {
      "cell_type": "code",
      "execution_count": 5,
      "metadata": {
        "id": "XeKVcJyqwMt0",
        "colab": {
          "base_uri": "https://localhost:8080/",
          "height": 407
        },
        "outputId": "ea7aa439-3c81-4a04-fd2b-0f965a26d7d2"
      },
      "outputs": [
        {
          "output_type": "execute_result",
          "data": {
            "text/plain": [
              "   HITId                                              tweet  sentiment  \\\n",
              "0      1  rt @user personnage ainsi q tte la clique gauc...          1   \n",
              "1      2  @user @user @user bah oui t'as raison l'autre ...          1   \n",
              "2      3  moi j'ai personne à qui m'adresser pour réclam...          1   \n",
              "3      4  @user @user c...est vrai que les anchois sont ...          0   \n",
              "4      5            eh les renois faut se réveiller la @url          0   \n",
              "5      6  @user @user en algerie les migrants sont expul...          1   \n",
              "6      7       @user sjw et féministe twitter un sale combo          0   \n",
              "7      8  @user @user tu sais aussi pourquoi est au dess...          0   \n",
              "8      9  @user @user mytho t'as juste voulu te faire ke...          1   \n",
              "9     10  c’est un giga attardé mdrrr ils va vraiment se...          1   \n",
              "\n",
              "   text length                                    clean_tweet_min  \\\n",
              "0          128  personnage ainsi q tte la clique gauchiste deg...   \n",
              "1           62       bah oui t'as raison l'autre c'est un mongol.   \n",
              "2          120  moi j'ai personne à qui m'adresser pour réclam...   \n",
              "3          102  c ... est vrai que les anchois sont aller sur ...   \n",
              "4           39                 eh les renois faut se réveiller la   \n",
              "5          112  en algerie les migrants sont expulsés dans le ...   \n",
              "6           44             sjw et féministe twitter un sale combo   \n",
              "7          101  tu sais aussi pourquoi est au dessus? parce qu...   \n",
              "8          105  mytho t'as juste voulu te faire ken par les re...   \n",
              "9           64  c’est un giga attardé mdrrr ils va vraiment se...   \n",
              "\n",
              "                                     clean_tweet_std  \\\n",
              "0  personnag tte cliqu gauchist deguis 1 macron!!...   \n",
              "1                                     raison mongol.   \n",
              "2  m'adress réclam. voisin attard pu brui adminis...   \n",
              "3  ... vrai anchois aller lun invent million tech...   \n",
              "4                                 renois faut réveil   \n",
              "5      alger migr expuls désert crois bien qu'vision   \n",
              "6                          sjw fémin twitt sal combo   \n",
              "7                            sais? veut ya d'ani ...   \n",
              "8           mytho voulu fair ken renois lyc voulu to   \n",
              "9                     gig attard mdrrr va fair shoot   \n",
              "\n",
              "                                     clean_tweet_lem  \n",
              "0  personnage tout cliqu gauchiste deguise 1 macr...  \n",
              "1                                     raison mongol.  \n",
              "2  me adresser réclamer. voisin attarder puant br...  \n",
              "3  ... vrai anchois aller lune invent million tec...  \n",
              "4                           renois falloir réveiller  \n",
              "5  algerie migrant expulser désert croi bien que ...  \n",
              "6                   sjw féministe twitter sale combo  \n",
              "7                         sai? vouloir ya de ani ...  \n",
              "8    mytho vouloir faire ken renois lycer vouloir to  \n",
              "9       giga-octet attarder mdrrr aller faire shoote  "
            ],
            "text/html": [
              "\n",
              "  <div id=\"df-f466bd5d-eb6d-4d65-8f13-c8584daf329f\">\n",
              "    <div class=\"colab-df-container\">\n",
              "      <div>\n",
              "<style scoped>\n",
              "    .dataframe tbody tr th:only-of-type {\n",
              "        vertical-align: middle;\n",
              "    }\n",
              "\n",
              "    .dataframe tbody tr th {\n",
              "        vertical-align: top;\n",
              "    }\n",
              "\n",
              "    .dataframe thead th {\n",
              "        text-align: right;\n",
              "    }\n",
              "</style>\n",
              "<table border=\"1\" class=\"dataframe\">\n",
              "  <thead>\n",
              "    <tr style=\"text-align: right;\">\n",
              "      <th></th>\n",
              "      <th>HITId</th>\n",
              "      <th>tweet</th>\n",
              "      <th>sentiment</th>\n",
              "      <th>text length</th>\n",
              "      <th>clean_tweet_min</th>\n",
              "      <th>clean_tweet_std</th>\n",
              "      <th>clean_tweet_lem</th>\n",
              "    </tr>\n",
              "  </thead>\n",
              "  <tbody>\n",
              "    <tr>\n",
              "      <th>0</th>\n",
              "      <td>1</td>\n",
              "      <td>rt @user personnage ainsi q tte la clique gauc...</td>\n",
              "      <td>1</td>\n",
              "      <td>128</td>\n",
              "      <td>personnage ainsi q tte la clique gauchiste deg...</td>\n",
              "      <td>personnag tte cliqu gauchist deguis 1 macron!!...</td>\n",
              "      <td>personnage tout cliqu gauchiste deguise 1 macr...</td>\n",
              "    </tr>\n",
              "    <tr>\n",
              "      <th>1</th>\n",
              "      <td>2</td>\n",
              "      <td>@user @user @user bah oui t'as raison l'autre ...</td>\n",
              "      <td>1</td>\n",
              "      <td>62</td>\n",
              "      <td>bah oui t'as raison l'autre c'est un mongol.</td>\n",
              "      <td>raison mongol.</td>\n",
              "      <td>raison mongol.</td>\n",
              "    </tr>\n",
              "    <tr>\n",
              "      <th>2</th>\n",
              "      <td>3</td>\n",
              "      <td>moi j'ai personne à qui m'adresser pour réclam...</td>\n",
              "      <td>1</td>\n",
              "      <td>120</td>\n",
              "      <td>moi j'ai personne à qui m'adresser pour réclam...</td>\n",
              "      <td>m'adress réclam. voisin attard pu brui adminis...</td>\n",
              "      <td>me adresser réclamer. voisin attarder puant br...</td>\n",
              "    </tr>\n",
              "    <tr>\n",
              "      <th>3</th>\n",
              "      <td>4</td>\n",
              "      <td>@user @user c...est vrai que les anchois sont ...</td>\n",
              "      <td>0</td>\n",
              "      <td>102</td>\n",
              "      <td>c ... est vrai que les anchois sont aller sur ...</td>\n",
              "      <td>... vrai anchois aller lun invent million tech...</td>\n",
              "      <td>... vrai anchois aller lune invent million tec...</td>\n",
              "    </tr>\n",
              "    <tr>\n",
              "      <th>4</th>\n",
              "      <td>5</td>\n",
              "      <td>eh les renois faut se réveiller la @url</td>\n",
              "      <td>0</td>\n",
              "      <td>39</td>\n",
              "      <td>eh les renois faut se réveiller la</td>\n",
              "      <td>renois faut réveil</td>\n",
              "      <td>renois falloir réveiller</td>\n",
              "    </tr>\n",
              "    <tr>\n",
              "      <th>5</th>\n",
              "      <td>6</td>\n",
              "      <td>@user @user en algerie les migrants sont expul...</td>\n",
              "      <td>1</td>\n",
              "      <td>112</td>\n",
              "      <td>en algerie les migrants sont expulsés dans le ...</td>\n",
              "      <td>alger migr expuls désert crois bien qu'vision</td>\n",
              "      <td>algerie migrant expulser désert croi bien que ...</td>\n",
              "    </tr>\n",
              "    <tr>\n",
              "      <th>6</th>\n",
              "      <td>7</td>\n",
              "      <td>@user sjw et féministe twitter un sale combo</td>\n",
              "      <td>0</td>\n",
              "      <td>44</td>\n",
              "      <td>sjw et féministe twitter un sale combo</td>\n",
              "      <td>sjw fémin twitt sal combo</td>\n",
              "      <td>sjw féministe twitter sale combo</td>\n",
              "    </tr>\n",
              "    <tr>\n",
              "      <th>7</th>\n",
              "      <td>8</td>\n",
              "      <td>@user @user tu sais aussi pourquoi est au dess...</td>\n",
              "      <td>0</td>\n",
              "      <td>101</td>\n",
              "      <td>tu sais aussi pourquoi est au dessus? parce qu...</td>\n",
              "      <td>sais? veut ya d'ani ...</td>\n",
              "      <td>sai? vouloir ya de ani ...</td>\n",
              "    </tr>\n",
              "    <tr>\n",
              "      <th>8</th>\n",
              "      <td>9</td>\n",
              "      <td>@user @user mytho t'as juste voulu te faire ke...</td>\n",
              "      <td>1</td>\n",
              "      <td>105</td>\n",
              "      <td>mytho t'as juste voulu te faire ken par les re...</td>\n",
              "      <td>mytho voulu fair ken renois lyc voulu to</td>\n",
              "      <td>mytho vouloir faire ken renois lycer vouloir to</td>\n",
              "    </tr>\n",
              "    <tr>\n",
              "      <th>9</th>\n",
              "      <td>10</td>\n",
              "      <td>c’est un giga attardé mdrrr ils va vraiment se...</td>\n",
              "      <td>1</td>\n",
              "      <td>64</td>\n",
              "      <td>c’est un giga attardé mdrrr ils va vraiment se...</td>\n",
              "      <td>gig attard mdrrr va fair shoot</td>\n",
              "      <td>giga-octet attarder mdrrr aller faire shoote</td>\n",
              "    </tr>\n",
              "  </tbody>\n",
              "</table>\n",
              "</div>\n",
              "      <button class=\"colab-df-convert\" onclick=\"convertToInteractive('df-f466bd5d-eb6d-4d65-8f13-c8584daf329f')\"\n",
              "              title=\"Convert this dataframe to an interactive table.\"\n",
              "              style=\"display:none;\">\n",
              "        \n",
              "  <svg xmlns=\"http://www.w3.org/2000/svg\" height=\"24px\"viewBox=\"0 0 24 24\"\n",
              "       width=\"24px\">\n",
              "    <path d=\"M0 0h24v24H0V0z\" fill=\"none\"/>\n",
              "    <path d=\"M18.56 5.44l.94 2.06.94-2.06 2.06-.94-2.06-.94-.94-2.06-.94 2.06-2.06.94zm-11 1L8.5 8.5l.94-2.06 2.06-.94-2.06-.94L8.5 2.5l-.94 2.06-2.06.94zm10 10l.94 2.06.94-2.06 2.06-.94-2.06-.94-.94-2.06-.94 2.06-2.06.94z\"/><path d=\"M17.41 7.96l-1.37-1.37c-.4-.4-.92-.59-1.43-.59-.52 0-1.04.2-1.43.59L10.3 9.45l-7.72 7.72c-.78.78-.78 2.05 0 2.83L4 21.41c.39.39.9.59 1.41.59.51 0 1.02-.2 1.41-.59l7.78-7.78 2.81-2.81c.8-.78.8-2.07 0-2.86zM5.41 20L4 18.59l7.72-7.72 1.47 1.35L5.41 20z\"/>\n",
              "  </svg>\n",
              "      </button>\n",
              "      \n",
              "  <style>\n",
              "    .colab-df-container {\n",
              "      display:flex;\n",
              "      flex-wrap:wrap;\n",
              "      gap: 12px;\n",
              "    }\n",
              "\n",
              "    .colab-df-convert {\n",
              "      background-color: #E8F0FE;\n",
              "      border: none;\n",
              "      border-radius: 50%;\n",
              "      cursor: pointer;\n",
              "      display: none;\n",
              "      fill: #1967D2;\n",
              "      height: 32px;\n",
              "      padding: 0 0 0 0;\n",
              "      width: 32px;\n",
              "    }\n",
              "\n",
              "    .colab-df-convert:hover {\n",
              "      background-color: #E2EBFA;\n",
              "      box-shadow: 0px 1px 2px rgba(60, 64, 67, 0.3), 0px 1px 3px 1px rgba(60, 64, 67, 0.15);\n",
              "      fill: #174EA6;\n",
              "    }\n",
              "\n",
              "    [theme=dark] .colab-df-convert {\n",
              "      background-color: #3B4455;\n",
              "      fill: #D2E3FC;\n",
              "    }\n",
              "\n",
              "    [theme=dark] .colab-df-convert:hover {\n",
              "      background-color: #434B5C;\n",
              "      box-shadow: 0px 1px 3px 1px rgba(0, 0, 0, 0.15);\n",
              "      filter: drop-shadow(0px 1px 2px rgba(0, 0, 0, 0.3));\n",
              "      fill: #FFFFFF;\n",
              "    }\n",
              "  </style>\n",
              "\n",
              "      <script>\n",
              "        const buttonEl =\n",
              "          document.querySelector('#df-f466bd5d-eb6d-4d65-8f13-c8584daf329f button.colab-df-convert');\n",
              "        buttonEl.style.display =\n",
              "          google.colab.kernel.accessAllowed ? 'block' : 'none';\n",
              "\n",
              "        async function convertToInteractive(key) {\n",
              "          const element = document.querySelector('#df-f466bd5d-eb6d-4d65-8f13-c8584daf329f');\n",
              "          const dataTable =\n",
              "            await google.colab.kernel.invokeFunction('convertToInteractive',\n",
              "                                                     [key], {});\n",
              "          if (!dataTable) return;\n",
              "\n",
              "          const docLinkHtml = 'Like what you see? Visit the ' +\n",
              "            '<a target=\"_blank\" href=https://colab.research.google.com/notebooks/data_table.ipynb>data table notebook</a>'\n",
              "            + ' to learn more about interactive tables.';\n",
              "          element.innerHTML = '';\n",
              "          dataTable['output_type'] = 'display_data';\n",
              "          await google.colab.output.renderOutput(dataTable, element);\n",
              "          const docLink = document.createElement('div');\n",
              "          docLink.innerHTML = docLinkHtml;\n",
              "          element.appendChild(docLink);\n",
              "        }\n",
              "      </script>\n",
              "    </div>\n",
              "  </div>\n",
              "  "
            ]
          },
          "metadata": {},
          "execution_count": 5
        }
      ],
      "source": [
        "data_hate.head(10)"
      ]
    },
    {
      "cell_type": "markdown",
      "metadata": {
        "id": "VWBBCp7xyrxc"
      },
      "source": [
        "### Données originales déséquilibrées "
      ]
    },
    {
      "cell_type": "markdown",
      "metadata": {
        "id": "F6rD1kJpGagM"
      },
      "source": [
        "Le classificateur utilisé par défaut pour classer différents ensembles de données est la régression logistique. \n",
        "\n",
        "Je vais utiliser ce dernier avec word_embedding et tfidfvectorizer afin d'en voir l'effet.\n",
        "\n",
        "En termes de validation, K-Fold Cross Validation est utilisé."
      ]
    },
    {
      "cell_type": "code",
      "source": [
        "# isoler les sentiments targets du fichier csv dans une variable nommée Y\n",
        "target = data_hate['sentiment']"
      ],
      "metadata": {
        "id": "uPpNAmj6_6RP"
      },
      "execution_count": 6,
      "outputs": []
    },
    {
      "cell_type": "code",
      "source": [
        "from sklearn.linear_model import LogisticRegression\n",
        "from sklearn.feature_extraction.text import TfidfVectorizer\n",
        "from sklearn.model_selection import cross_validate\n",
        "from sklearn.metrics import precision_score, recall_score, f1_score\n",
        "from sklearn.pipeline import Pipeline\n",
        "from sklearn.model_selection import cross_val_predict\n",
        "from sklearn.metrics import confusion_matrix"
      ],
      "metadata": {
        "id": "4qpYW0XWpHtS"
      },
      "execution_count": 67,
      "outputs": []
    },
    {
      "cell_type": "markdown",
      "source": [
        "Encodage avec TFIDF Vectorizer+ regression logistique"
      ],
      "metadata": {
        "id": "FiJ5_IvSpL-N"
      }
    },
    {
      "cell_type": "code",
      "execution_count": 130,
      "metadata": {
        "id": "mh-OSMKiyqgL"
      },
      "outputs": [],
      "source": [
        "tvec = TfidfVectorizer(stop_words=None)\n",
        "lr = LogisticRegression(C=100, max_iter=1000)"
      ]
    },
    {
      "cell_type": "code",
      "source": [
        "model = Pipeline([\n",
        "    ('vectorizer', tvec),\n",
        "    ('classifier', lr)\n",
        "])"
      ],
      "metadata": {
        "id": "ThoCx8ePpw-E"
      },
      "execution_count": 131,
      "outputs": []
    },
    {
      "cell_type": "markdown",
      "source": [
        "Utilisation de la méthode de cross validation pour séparer le jeu d'entrainement du jeu de test .\n",
        "\n",
        "Kfolds cross validation donne un modèle moins biaisé que le train_test split. La principale raison est qu'elle permet de s'assurer que toutes les observations du jeu de données original puissent apparaître dans l'ensemble d'entraînement, mais aussi dans l'ensemble utilisé pour le test. Dans la situation où les données d'input sont limitées, c'est l'une des meilleures solutions à considérer."
      ],
      "metadata": {
        "id": "A2Hc041fyR9M"
      }
    },
    {
      "cell_type": "code",
      "source": [
        "def lr_cv(X, Y, pipeline, average_method):\n",
        "\n",
        "    cv_results = cross_validate(model, X, Y,cv=10)\n",
        "    cv_results = pd.DataFrame(cv_results)\n",
        "    return cv_results"
      ],
      "metadata": {
        "id": "JoWr9I40pdvW"
      },
      "execution_count": 23,
      "outputs": []
    },
    {
      "cell_type": "code",
      "source": [
        "col =['clean_tweet_min','clean_tweet_std','clean_tweet_lem']"
      ],
      "metadata": {
        "id": "4Axf85TfqIQV"
      },
      "execution_count": 25,
      "outputs": []
    },
    {
      "cell_type": "code",
      "source": [
        "\"\"\"Fonction qui affiche l'accuracy de chaque variante du dataset\n",
        "paramètres: liste des noms des variables\n",
        "sortie: affichage  des résultats\n",
        "\"\"\"\n",
        "def affiche_res(liste):\n",
        "  for el in liste:\n",
        "    res= lr_cv(data_hate[el],target, model, 'macro')\n",
        "    print(\"Accuracy du modèle issu du dataset \"f\"{el} :\"\n",
        "        f\"{res['test_score'].mean():.3f} +/- {res['test_score'].std():.3f}\"\n",
        "      )"
      ],
      "metadata": {
        "id": "mf5cd9H1EnSi"
      },
      "execution_count": 132,
      "outputs": []
    },
    {
      "cell_type": "code",
      "source": [
        "affiche_res(col)"
      ],
      "metadata": {
        "colab": {
          "base_uri": "https://localhost:8080/"
        },
        "id": "r4Qwpz4erSQa",
        "outputId": "96b88a0d-1f35-4458-de03-db5b6734b066"
      },
      "execution_count": 133,
      "outputs": [
        {
          "output_type": "stream",
          "name": "stdout",
          "text": [
            "Accuracy du modèle issu du dataset clean_tweet_min :0.740 +/- 0.020\n",
            "Accuracy du modèle issu du dataset clean_tweet_std :0.714 +/- 0.018\n",
            "Accuracy du modèle issu du dataset clean_tweet_lem :0.725 +/- 0.025\n"
          ]
        }
      ]
    },
    {
      "cell_type": "markdown",
      "source": [
        "On remarque que l'accuracy générale du modèle est autour de 70%. Mais sachant que le modèle est désiquilibré est ce pertinent de parler de cette accuracy. On va regarder de plus près la matrice de confusion."
      ],
      "metadata": {
        "id": "6y7RYV4wx1-O"
      }
    },
    {
      "cell_type": "code",
      "source": [
        "def mat_conf(liste, target,model , pd):\n",
        "  conf_mat=[]\n",
        "  for i,el in enumerate(liste):\n",
        "    conf_mat.append(confusion_matrix(cross_val_predict(model, data_hate[el], target, cv=10),target))\n",
        "  return conf_mat"
      ],
      "metadata": {
        "id": "1KvOrUZFFiMD"
      },
      "execution_count": 68,
      "outputs": []
    },
    {
      "cell_type": "code",
      "source": [
        "liste_mat=mat_conf(col, target,model, data_hate)"
      ],
      "metadata": {
        "id": "SUmCW-mSIYYu"
      },
      "execution_count": 69,
      "outputs": []
    },
    {
      "cell_type": "code",
      "source": [
        "def draw_mat(conf_mat,string):\n",
        "  print(string)\n",
        "  matrice_proportions = np.zeros((2,2))\n",
        "  for i in range(0,2):\n",
        "      matrice_proportions[i,:] = conf_mat[i,:]/float(conf_mat[i,:].sum())\n",
        "  names=['Neutre','Haineux']\n",
        "  confusion_df = pd.DataFrame(matrice_proportions, index=names,columns=names)\n",
        "  plt.figure(figsize=(5,5))\n",
        "  sns.heatmap(confusion_df,annot=True,annot_kws={\"size\": 12},cmap='YlGnBu',cbar=False, square=True,fmt='.2f')\n",
        "  plt.ylabel(r'Valeur réelle',fontsize=14)\n",
        "  plt.xlabel(r'Valeur prédite',fontsize=14)\n",
        "  plt.tick_params(labelsize=12)\n",
        "  "
      ],
      "metadata": {
        "id": "cfvYzeznSLpt"
      },
      "execution_count": 97,
      "outputs": []
    },
    {
      "cell_type": "code",
      "source": [
        "def draw_liste_mat(liste, col):\n",
        "  for n in range(len(liste)):\n",
        "    draw_mat(liste[n],col[n])"
      ],
      "metadata": {
        "id": "l6sWZY1bZ7VI"
      },
      "execution_count": 98,
      "outputs": []
    },
    {
      "cell_type": "code",
      "source": [
        "draw_liste_mat(liste_mat,col)"
      ],
      "metadata": {
        "colab": {
          "base_uri": "https://localhost:8080/",
          "height": 1000
        },
        "id": "vryt23udKwlC",
        "outputId": "1282ec1f-b973-41d8-91ab-29eb377947fb"
      },
      "execution_count": 99,
      "outputs": [
        {
          "output_type": "stream",
          "name": "stdout",
          "text": [
            "clean_tweet_min\n",
            "clean_tweet_std\n",
            "clean_tweet_lem\n"
          ]
        },
        {
          "output_type": "display_data",
          "data": {
            "text/plain": [
              "<Figure size 360x360 with 1 Axes>"
            ],
            "image/png": "[encoded data removed]"
          },
          "metadata": {
            "needs_background": "light"
          }
        },
        {
          "output_type": "display_data",
          "data": {
            "text/plain": [
              "<Figure size 360x360 with 1 Axes>"
            ],
            "image/png": "[encoded data removed]"
          },
          "metadata": {
            "needs_background": "light"
          }
        },
        {
          "output_type": "display_data",
          "data": {
            "text/plain": [
              "<Figure size 360x360 with 1 Axes>"
            ],
            "image/png": "[encoded data removed]"
          },
          "metadata": {
            "needs_background": "light"
          }
        }
      ]
    },
    {
      "cell_type": "markdown",
      "source": [
        "Comparaison avec un classificateur random"
      ],
      "metadata": {
        "id": "k6bmGE_m6nWh"
      }
    },
    {
      "cell_type": "code",
      "source": [
        "from sklearn.model_selection import train_test_split\n",
        "\n",
        "# Write your code here.\n",
        "train_data, test_data, train_data, test_target=train_test_split(data_hate[\"clean_tweet_lem\"], target)"
      ],
      "metadata": {
        "id": "sR9Imcf14Vh4"
      },
      "execution_count": 100,
      "outputs": []
    },
    {
      "cell_type": "code",
      "source": [
        "from sklearn.dummy import DummyClassifier\n",
        "\n",
        "clf = DummyClassifier(strategy='most_frequent', random_state=0)\n",
        "clf.fit(test_data, test_target)"
      ],
      "metadata": {
        "colab": {
          "base_uri": "https://localhost:8080/"
        },
        "id": "VwzXPQB34Ng0",
        "outputId": "7c30420c-00fb-4de8-cefe-bc2f0922ee83"
      },
      "execution_count": 101,
      "outputs": [
        {
          "output_type": "execute_result",
          "data": {
            "text/plain": [
              "DummyClassifier(random_state=0, strategy='most_frequent')"
            ]
          },
          "metadata": {},
          "execution_count": 101
        }
      ]
    },
    {
      "cell_type": "code",
      "source": [
        "result= cross_validate(clf,data_hate[\"clean_tweet_lem\"],target, cv=10)\n",
        "scores = result[\"test_score\"]\n",
        "print(\"The mean cross-validation accuracy is: \"\n",
        "      f\"{scores.mean():.3f} +/- {scores.std():.3f}\")"
      ],
      "metadata": {
        "colab": {
          "base_uri": "https://localhost:8080/"
        },
        "id": "w0JgaWya4tje",
        "outputId": "670306dd-4e96-4a41-d784-5ce3c663d627"
      },
      "execution_count": 102,
      "outputs": [
        {
          "output_type": "stream",
          "name": "stdout",
          "text": [
            "The mean cross-validation accuracy is: 0.795 +/- 0.001\n"
          ]
        }
      ]
    },
    {
      "cell_type": "markdown",
      "metadata": {
        "id": "__mVWD5SHRWs"
      },
      "source": [
        "Avec les données telles quelles sans aucun rééchantillonnage, et après comparaison avec un dummy classifier , on voit bien le poid du désiquilibre des données sur les résultats , on atteint les mêmes résultats entre une classification random et une classification avec regression logistique , il faut clairement revoir notre modèle et manipuler nos données ."
      ]
    },
    {
      "cell_type": "markdown",
      "source": [
        "Ici on utilise l'option de scoring \"balanced accuracy\" afin de connaitre la vraie accuracy du modèle , en enlevant le poid du désiquilibre des classes . "
      ],
      "metadata": {
        "id": "HSW14feY7nuR"
      }
    },
    {
      "cell_type": "code",
      "source": [
        "\"\"\"Fonction qui affiche l'accuracy de chaque variante du dataset\n",
        "paramètres: liste des noms des variables\n",
        "sortie: affichage  des résultats\n",
        "\"\"\"\n",
        "def affiche_balanced(liste,model):\n",
        "  for el in liste:\n",
        "    res= cross_validate(model,data_hate[el],target, cv=10,scoring=\"balanced_accuracy\" )\n",
        "    print(\"Accuracy du modèle issu du dataset \"f\"{el} :\"\n",
        "        f\"{res['test_score'].mean():.3f} +/- {res['test_score'].std():.3f}\"\n",
        "      )"
      ],
      "metadata": {
        "id": "BNFA15zoHRkz"
      },
      "execution_count": 136,
      "outputs": []
    },
    {
      "cell_type": "code",
      "source": [
        "affiche_balanced(col,model)"
      ],
      "metadata": {
        "colab": {
          "base_uri": "https://localhost:8080/"
        },
        "id": "fPXgylXAHmMV",
        "outputId": "3101a404-eae8-40ec-df86-b2122bbde405"
      },
      "execution_count": 137,
      "outputs": [
        {
          "output_type": "stream",
          "name": "stdout",
          "text": [
            "Accuracy du modèle issu du dataset clean_tweet_min :0.549 +/- 0.025\n",
            "Accuracy du modèle issu du dataset clean_tweet_std :0.524 +/- 0.018\n",
            "Accuracy du modèle issu du dataset clean_tweet_lem :0.531 +/- 0.029\n"
          ]
        }
      ]
    },
    {
      "cell_type": "code",
      "source": [
        "result_dummy= cross_validate(clf,data_hate[\"clean_tweet_lem\"],target, cv=10,scoring=\"balanced_accuracy\" )\n",
        "scores = result_dummy[\"test_score\"]\n",
        "print(\"The mean cross-validation accuracy is: \"\n",
        "      f\"{scores.mean():.3f} +/- {scores.std():.3f}\")"
      ],
      "metadata": {
        "colab": {
          "base_uri": "https://localhost:8080/"
        },
        "id": "GspYl_s76pPx",
        "outputId": "54a71e90-714d-45f8-d66b-506f34c9e28e"
      },
      "execution_count": 109,
      "outputs": [
        {
          "output_type": "stream",
          "name": "stdout",
          "text": [
            "The mean cross-validation accuracy is: 0.500 +/- 0.000\n"
          ]
        }
      ]
    },
    {
      "cell_type": "markdown",
      "source": [
        "On remarque qu'il n'y a pas une grande différence entre le classifieur de notre regression logistique et notre random classifier.\n",
        "\n",
        "\n",
        "Mettre le paramètre C à 100 au lieu de sa valeur par défaut 1 baisse l'accuracy général mais augmente l'accuracy balancée "
      ],
      "metadata": {
        "id": "XojszTyLAxQj"
      }
    },
    {
      "cell_type": "markdown",
      "source": [
        "Test avec KNN "
      ],
      "metadata": {
        "id": "l33JOiFX78WA"
      }
    },
    {
      "cell_type": "code",
      "source": [
        "from sklearn.preprocessing import StandardScaler\n",
        "from sklearn.neighbors import KNeighborsClassifier\n",
        "model_knn = model = Pipeline([\n",
        "    ('vectorizer', tvec),\n",
        "    ('classifier', KNeighborsClassifier())\n",
        "])"
      ],
      "metadata": {
        "id": "YwyMcdUV69bZ"
      },
      "execution_count": 125,
      "outputs": []
    },
    {
      "cell_type": "code",
      "source": [
        ""
      ],
      "metadata": {
        "id": "5US7LDMmOTn1"
      },
      "execution_count": null,
      "outputs": []
    },
    {
      "cell_type": "code",
      "source": [
        "affiche_balanced(col,model_knn)"
      ],
      "metadata": {
        "colab": {
          "base_uri": "https://localhost:8080/"
        },
        "id": "CXqSRaLlNflR",
        "outputId": "822797f8-c9e3-49eb-fca2-da7ac89182be"
      },
      "execution_count": 138,
      "outputs": [
        {
          "output_type": "stream",
          "name": "stdout",
          "text": [
            "Accuracy du modèle issu du dataset clean_tweet_min :0.547 +/- 0.030\n",
            "Accuracy du modèle issu du dataset clean_tweet_std :0.544 +/- 0.027\n",
            "Accuracy du modèle issu du dataset clean_tweet_lem :0.542 +/- 0.023\n"
          ]
        }
      ]
    },
    {
      "cell_type": "markdown",
      "source": [
        "Les résultats sont un peu meilleurs mais restent très insuffisant au regard de notre objectif\n",
        "\n",
        "Le résultat du dataset Min est meilleure que les deux autres "
      ],
      "metadata": {
        "id": "esWIRTu88y35"
      }
    },
    {
      "cell_type": "markdown",
      "source": [
        "Underfitting"
      ],
      "metadata": {
        "id": "yk2QHKhe9oWM"
      }
    },
    {
      "cell_type": "code",
      "source": [
        "results= cross_validate(model_knn,data_hate[\"clean_tweet_min\"],target, cv=10,scoring=\"balanced_accuracy\",return_train_score=True )"
      ],
      "metadata": {
        "id": "nLGa_hgy8gmU"
      },
      "execution_count": 139,
      "outputs": []
    },
    {
      "cell_type": "code",
      "source": [
        "results = pd.DataFrame(results)\n",
        "results[[\"train_score\", \"test_score\"]].mean()"
      ],
      "metadata": {
        "colab": {
          "base_uri": "https://localhost:8080/"
        },
        "id": "em2Zdohq9HMp",
        "outputId": "d3d707c7-16d3-47dc-ce18-3615a41d2587"
      },
      "execution_count": 140,
      "outputs": [
        {
          "output_type": "execute_result",
          "data": {
            "text/plain": [
              "train_score    0.720689\n",
              "test_score     0.547434\n",
              "dtype: float64"
            ]
          },
          "metadata": {},
          "execution_count": 140
        }
      ]
    },
    {
      "cell_type": "markdown",
      "source": [
        "On remarque que le modèle performe sur les données d'entrainement mais pas sur ceux de test , il est en situation de sous apprentissage qu'on essaie de rattrapper en jouant avec les paramètres de notre classifieur"
      ],
      "metadata": {
        "id": "XDOrBYJPqq0x"
      }
    },
    {
      "cell_type": "markdown",
      "source": [
        "Grid search KNN"
      ],
      "metadata": {
        "id": "eLlqpD1hrk45"
      }
    },
    {
      "cell_type": "markdown",
      "source": [
        "Nested cross validation"
      ],
      "metadata": {
        "id": "vl7MsEhGtlaz"
      }
    },
    {
      "cell_type": "code",
      "source": [
        "from sklearn.model_selection import GridSearchCV\n",
        "param_grid = {\n",
        "    'classifier__n_neighbors': (5,10, 20, 50, 100,200)}\n",
        "model_grid_search = GridSearchCV(model_knn, param_grid=param_grid,\n",
        "                                 n_jobs=2, cv=10,scoring=\"balanced_accuracy\")"
      ],
      "metadata": {
        "id": "zRLoK85QCbxW"
      },
      "execution_count": 159,
      "outputs": []
    },
    {
      "cell_type": "code",
      "source": [
        "model_grid_search.fit(data_hate[\"clean_tweet_min\"], target)"
      ],
      "metadata": {
        "colab": {
          "base_uri": "https://localhost:8080/"
        },
        "id": "it3_OSZOsS70",
        "outputId": "e45b6a9e-4185-454f-ab2c-5b85bb0fbc62"
      },
      "execution_count": 160,
      "outputs": [
        {
          "output_type": "execute_result",
          "data": {
            "text/plain": [
              "GridSearchCV(cv=10,\n",
              "             estimator=Pipeline(steps=[('vectorizer', TfidfVectorizer()),\n",
              "                                       ('classifier', KNeighborsClassifier())]),\n",
              "             n_jobs=2,\n",
              "             param_grid={'classifier__n_neighbors': (5, 10, 20, 50, 100, 200)},\n",
              "             scoring='balanced_accuracy')"
            ]
          },
          "metadata": {},
          "execution_count": 160
        }
      ]
    },
    {
      "cell_type": "code",
      "source": [
        "cv_results_grid = cross_validate(\n",
        "    model_grid_search, data_hate[\"clean_tweet_min\"], target, cv=5, n_jobs=2,scoring=\"balanced_accuracy\", return_estimator=True\n",
        ")"
      ],
      "metadata": {
        "id": "_DlN9Iv-EKK7"
      },
      "execution_count": 161,
      "outputs": []
    },
    {
      "cell_type": "code",
      "source": [
        "for cv_fold, estimator_in_fold in enumerate(cv_results_grid[\"estimator\"]):\n",
        "    print(\n",
        "        f\"Best hyperparameters for fold #{cv_fold + 1}:\\n\"\n",
        "        f\"{estimator_in_fold.best_params_}\"\n",
        "    )"
      ],
      "metadata": {
        "colab": {
          "base_uri": "https://localhost:8080/"
        },
        "id": "ymc4Kf9AQ6gm",
        "outputId": "40403cf8-8891-4f39-9ec1-9c5df600ced2"
      },
      "execution_count": 162,
      "outputs": [
        {
          "output_type": "stream",
          "name": "stdout",
          "text": [
            "Best hyperparameters for fold #1:\n",
            "{'classifier__n_neighbors': 10}\n",
            "Best hyperparameters for fold #2:\n",
            "{'classifier__n_neighbors': 5}\n",
            "Best hyperparameters for fold #3:\n",
            "{'classifier__n_neighbors': 10}\n",
            "Best hyperparameters for fold #4:\n",
            "{'classifier__n_neighbors': 5}\n",
            "Best hyperparameters for fold #5:\n",
            "{'classifier__n_neighbors': 5}\n"
          ]
        }
      ]
    },
    {
      "cell_type": "code",
      "source": [
        "model_grid_search.best_params_"
      ],
      "metadata": {
        "colab": {
          "base_uri": "https://localhost:8080/"
        },
        "id": "FVaQ5iH8r1ez",
        "outputId": "646eaf8e-995b-49b3-90cd-47406d197826"
      },
      "execution_count": 163,
      "outputs": [
        {
          "output_type": "execute_result",
          "data": {
            "text/plain": [
              "{'classifier__n_neighbors': 5}"
            ]
          },
          "metadata": {},
          "execution_count": 163
        }
      ]
    },
    {
      "cell_type": "code",
      "source": [
        "scores_grid = cv_results_grid[\"test_score\"]"
      ],
      "metadata": {
        "id": "QvJWhsOHrL-Y"
      },
      "execution_count": 164,
      "outputs": []
    },
    {
      "cell_type": "code",
      "source": [
        "scores_grid"
      ],
      "metadata": {
        "colab": {
          "base_uri": "https://localhost:8080/"
        },
        "id": "70Y3p6NtRULn",
        "outputId": "3df6d963-d5c2-4330-d60a-f775607ba4f8"
      },
      "execution_count": 165,
      "outputs": [
        {
          "output_type": "execute_result",
          "data": {
            "text/plain": [
              "array([0.510196  , 0.54448643, 0.54759247, 0.51175549, 0.5760666 ])"
            ]
          },
          "metadata": {},
          "execution_count": 165
        }
      ]
    },
    {
      "cell_type": "markdown",
      "source": [
        "meileur paramètre avec Min est 100"
      ],
      "metadata": {
        "id": "0Wd9zGXLSGsY"
      }
    },
    {
      "cell_type": "markdown",
      "source": [
        "KNN AVEC CROSS VALIDATION best params"
      ],
      "metadata": {
        "id": "zSTBQNH3rhew"
      }
    },
    {
      "cell_type": "code",
      "source": [
        "model_knn_best = model = Pipeline([\n",
        "    ('vectorizer', tvec),\n",
        "    ('classifier', KNeighborsClassifier(n_neighbors=5))\n",
        "])"
      ],
      "metadata": {
        "id": "RG7KHT1Zt84p"
      },
      "execution_count": 166,
      "outputs": []
    },
    {
      "cell_type": "code",
      "source": [
        "cv_results = cross_validate(\n",
        "    model_knn_best, data_hate[\"clean_tweet_min\"], target, cv=5, scoring=\"balanced_accuracy\",\n",
        "    return_train_score=True,\n",
        ")"
      ],
      "metadata": {
        "id": "0FXA8Am29vkC"
      },
      "execution_count": 167,
      "outputs": []
    },
    {
      "cell_type": "code",
      "source": [
        "cv_results = pd.DataFrame(cv_results)\n",
        "cv_test_scores = cv_results['test_score']\n",
        "print(\n",
        "    \"Generalization score with hyperparameters tuning:\\n\"\n",
        "    f\"{cv_test_scores.mean():.3f} +/- {cv_test_scores.std():.3f}\"\n",
        ")"
      ],
      "metadata": {
        "colab": {
          "base_uri": "https://localhost:8080/"
        },
        "id": "Vi-1fOHyEhoG",
        "outputId": "c3fe192b-9c9c-4ff1-edbf-575536124469"
      },
      "execution_count": 168,
      "outputs": [
        {
          "output_type": "stream",
          "name": "stdout",
          "text": [
            "Generalization score with hyperparameters tuning:\n",
            "0.542 +/- 0.023\n"
          ]
        }
      ]
    },
    {
      "cell_type": "markdown",
      "source": [
        "Validation du meilleur modèle"
      ],
      "metadata": {
        "id": "pga4NvQVs1JL"
      }
    },
    {
      "cell_type": "code",
      "source": [
        "from sklearn.model_selection import validation_curve\n",
        "\n",
        "param_range=[5, 10, 20, 50, 100,200]\n",
        "train_scores, test_scores = validation_curve(\n",
        "    model_knn, data_hate[\"clean_tweet_min\"], target, param_name=\"classifier__n_neighbors\", param_range=param_range,\n",
        "    cv=5, scoring=\"balanced_accuracy\", n_jobs=2)\n",
        "train_errors, test_errors = -train_scores, -test_scores"
      ],
      "metadata": {
        "id": "cmmRwavm-I__"
      },
      "execution_count": 170,
      "outputs": []
    },
    {
      "cell_type": "code",
      "source": [
        "plt.plot(param_range, train_errors.mean(axis=1), label=\"Training error\")\n",
        "plt.plot(param_range, test_errors.mean(axis=1), label=\"Testing error\")\n",
        "plt.legend()\n",
        "\n",
        "plt.xlabel(\"Maximum number of kneighbors\")\n",
        "plt.ylabel(\"Mean accuracy\")\n",
        "_ = plt.title(\"Validation curve for knn\")"
      ],
      "metadata": {
        "colab": {
          "base_uri": "https://localhost:8080/",
          "height": 295
        },
        "id": "tBuYfX7L_cRn",
        "outputId": "df068a72-3835-4f40-cc8a-3ba8fcd32de4"
      },
      "execution_count": 171,
      "outputs": [
        {
          "output_type": "display_data",
          "data": {
            "text/plain": [
              "<Figure size 432x288 with 1 Axes>"
            ],
            "image/png": "[encoded data removed]"
          },
          "metadata": {
            "needs_background": "light"
          }
        }
      ]
    },
    {
      "cell_type": "markdown",
      "source": [
        "Méthodes de detection d'anomalies"
      ],
      "metadata": {
        "id": "hp7W0SLorcrx"
      }
    },
    {
      "cell_type": "code",
      "source": [
        "from sklearn.metrics import classification_report,accuracy_score\n",
        "from sklearn.ensemble import IsolationForest\n",
        "from sklearn.neighbors import LocalOutlierFactor\n",
        "from sklearn.svm import OneClassSVM\n",
        "from pylab import rcParams"
      ],
      "metadata": {
        "id": "qUtc-Nv_rjqn"
      },
      "execution_count": 172,
      "outputs": []
    },
    {
      "cell_type": "code",
      "source": [
        "##Define the outlier detection methods\n",
        "\n",
        "classifiers = {\n",
        "    \"Isolation Forest\":IsolationForest(n_estimators=100, \n",
        "                                       contamination=0.2, random_state=5, verbose=0),\n",
        "    \"Local Outlier Factor\":LocalOutlierFactor(n_neighbors=20, algorithm='auto', \n",
        "                                              leaf_size=30, metric='minkowski',\n",
        "                                              p=2, metric_params=None, contamination=0.2),\n",
        "    \"Support Vector Machine\":OneClassSVM(kernel='rbf', degree=3, gamma=0.1,nu=0.05, \n",
        "                                         max_iter=-1)\n",
        "   \n",
        "}"
      ],
      "metadata": {
        "id": "dVFoW6--rcVX"
      },
      "execution_count": 173,
      "outputs": []
    },
    {
      "cell_type": "code",
      "source": [
        "X = tvec.fit_transform(data_hate['clean_tweet_lem'])"
      ],
      "metadata": {
        "id": "xe8ehXzltt93"
      },
      "execution_count": 174,
      "outputs": []
    },
    {
      "cell_type": "code",
      "source": [
        "#utiliser la méthode de Tfidfvectorizer avec:\n",
        "\"\"\" le cleaning étant déjà fait on uilise directement les données\"\"\"\n",
        "print('Tweet before vectorization: {}'.format(data_hate['clean_tweet_min'][1]))\n"
      ],
      "metadata": {
        "id": "smsdUUntlBiY",
        "colab": {
          "base_uri": "https://localhost:8080/"
        },
        "outputId": "e7d10b89-b606-4589-9f98-0ac99fda6fab"
      },
      "execution_count": 175,
      "outputs": [
        {
          "output_type": "stream",
          "name": "stdout",
          "text": [
            "Tweet before vectorization: bah oui t'as raison l'autre c'est un mongol.\n"
          ]
        }
      ]
    },
    {
      "cell_type": "code",
      "source": [
        "print('Tweet after vectorization: \\n{}'.format(X[1]))"
      ],
      "metadata": {
        "colab": {
          "base_uri": "https://localhost:8080/"
        },
        "id": "vFuWjzaIB7y2",
        "outputId": "3b9b55c7-195e-4bf2-80fe-fe049c12902f"
      },
      "execution_count": 176,
      "outputs": [
        {
          "output_type": "stream",
          "name": "stdout",
          "text": [
            "Tweet after vectorization: \n",
            "  (0, 4468)\t0.4047772932636133\n",
            "  (0, 5731)\t0.914415301084897\n"
          ]
        }
      ]
    },
    {
      "cell_type": "code",
      "source": [
        "for i, (clf_name,clf) in enumerate(classifiers.items()):\n",
        "    #Fit the data and tag outliers\n",
        "    if clf_name == \"Local Outlier Factor\":\n",
        "        y_pred = clf.fit_predict(X)\n",
        "        scores_prediction = clf.negative_outlier_factor_\n",
        "    elif clf_name == \"Support Vector Machine\":\n",
        "        clf.fit(X)\n",
        "        y_pred = clf.predict(X)\n",
        "    else:    \n",
        "        clf.fit(X)\n",
        "        scores_prediction = clf.decision_function(X)\n",
        "        y_pred = clf.predict(X)\n",
        "    #Reshape the prediction values to 0 for Valid transactions , 1 for Fraud transactions\n",
        "    y_pred[y_pred == 1] = 1\n",
        "    y_pred[y_pred == -1] = 0\n",
        "    n_errors = (y_pred != target).sum()\n",
        "    # Run Classification Metrics\n",
        "    print(\"{}: {}\".format(clf_name,n_errors))\n",
        "    print(\"Accuracy Score : \",accuracy_score(target,y_pred))\n",
        "    print(\"Classification Report :\")\n",
        "    print(classification_report(target,y_pred))"
      ],
      "metadata": {
        "colab": {
          "base_uri": "https://localhost:8080/"
        },
        "id": "F8Ej3n18sQS7",
        "outputId": "52d8cc3c-d354-46ae-bb7c-d13c5fac8c39"
      },
      "execution_count": 179,
      "outputs": [
        {
          "output_type": "stream",
          "name": "stdout",
          "text": [
            "Isolation Forest: 1284\n",
            "Accuracy Score :  0.680119581464873\n",
            "Classification Report :\n",
            "              precision    recall  f1-score   support\n",
            "\n",
            "           0       0.21      0.21      0.21       821\n",
            "           1       0.80      0.80      0.80      3193\n",
            "\n",
            "    accuracy                           0.68      4014\n",
            "   macro avg       0.50      0.50      0.50      4014\n",
            "weighted avg       0.68      0.68      0.68      4014\n",
            "\n",
            "Local Outlier Factor: 1494\n",
            "Accuracy Score :  0.6278026905829597\n",
            "Classification Report :\n",
            "              precision    recall  f1-score   support\n",
            "\n",
            "           0       0.08      0.08      0.08       821\n",
            "           1       0.76      0.77      0.77      3193\n",
            "\n",
            "    accuracy                           0.63      4014\n",
            "   macro avg       0.42      0.42      0.42      4014\n",
            "weighted avg       0.62      0.63      0.63      4014\n",
            "\n",
            "Support Vector Machine: 1201\n",
            "Accuracy Score :  0.7007972097658196\n",
            "Classification Report :\n",
            "              precision    recall  f1-score   support\n",
            "\n",
            "           0       0.26      0.24      0.25       821\n",
            "           1       0.81      0.82      0.81      3193\n",
            "\n",
            "    accuracy                           0.70      4014\n",
            "   macro avg       0.53      0.53      0.53      4014\n",
            "weighted avg       0.69      0.70      0.70      4014\n",
            "\n"
          ]
        }
      ]
    }
  ]
}