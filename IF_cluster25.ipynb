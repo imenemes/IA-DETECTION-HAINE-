{
  "cells": [
    {
      "cell_type": "code",
      "execution_count": 1,
      "metadata": {
        "id": "y-ketQ-qCSy1"
      },
      "outputs": [],
      "source": [
        "import pandas as pd\n",
        "import glob"
      ]
    },
    {
      "cell_type": "code",
      "execution_count": 2,
      "metadata": {
        "colab": {
          "base_uri": "https://localhost:8080/"
        },
        "id": "NC5JlNsXb0Dl",
        "outputId": "8fb193d3-a703-4f41-f80b-516f1a6143a2"
      },
      "outputs": [
        {
          "output_type": "stream",
          "name": "stdout",
          "text": [
            "Mounted at /content/drive\n"
          ]
        }
      ],
      "source": [
        "from google.colab import drive\n",
        "drive.mount('/content/drive')"
      ]
    },
    {
      "cell_type": "code",
      "execution_count": 3,
      "metadata": {
        "id": "eaNKVb9tz_O2"
      },
      "outputs": [],
      "source": [
        "list_cluster= glob.glob('/content/drive/MyDrive/Colab Notebooks/km25/*clean*')"
      ]
    },
    {
      "cell_type": "code",
      "execution_count": null,
      "metadata": {
        "id": "ufrbbAv80bQ7"
      },
      "outputs": [],
      "source": [
        "print(list_cluster)"
      ]
    },
    {
      "cell_type": "code",
      "execution_count": 29,
      "metadata": {
        "id": "R5qyxGfMcJVl"
      },
      "outputs": [],
      "source": [
        "def read_cluster(files):\n",
        "  liste=[]\n",
        "  for i,cluster in enumerate(files):\n",
        "    with open(cluster, \"r\") as file:\n",
        "      liste.append(file.readlines())\n",
        "  return liste"
      ]
    },
    {
      "cell_type": "code",
      "execution_count": 30,
      "metadata": {
        "id": "7DqNmzR820fl",
        "colab": {
          "base_uri": "https://localhost:8080/"
        },
        "outputId": "abcff6fd-333f-47c5-ffa9-7918aa0d5cc9"
      },
      "outputs": [
        {
          "output_type": "stream",
          "name": "stdout",
          "text": [
            "25\n"
          ]
        }
      ],
      "source": [
        "dic= read_cluster(list_cluster)\n",
        "print(len(dic))"
      ]
    },
    {
      "cell_type": "code",
      "execution_count": 31,
      "metadata": {
        "colab": {
          "base_uri": "https://localhost:8080/"
        },
        "id": "JXDAPe8Y7MxJ",
        "outputId": "6a1a273f-f363-4e14-bb1d-61714a1591a9"
      },
      "outputs": [
        {
          "output_type": "stream",
          "name": "stdout",
          "text": [
            "20147\n"
          ]
        }
      ],
      "source": [
        "print(len(dic[24]))"
      ]
    },
    {
      "cell_type": "code",
      "execution_count": 8,
      "metadata": {
        "id": "fMymLS7XCjbx"
      },
      "outputs": [],
      "source": [
        "for i in range(len(list_cluster)):\n",
        "  vars()[\"data_\"+str(i)]=pd.DataFrame(dic[i], columns = ['tweet'])"
      ]
    },
    {
      "cell_type": "code",
      "execution_count": 19,
      "metadata": {
        "colab": {
          "base_uri": "https://localhost:8080/"
        },
        "id": "9kZqrkGnya_N",
        "outputId": "838b8f61-fa15-4b45-bcc0-dcb01dbb6c78"
      },
      "outputs": [
        {
          "output_type": "stream",
          "name": "stdout",
          "text": [
            "                                                tweet\n",
            "0   ethusd dly doublement cadrer ich ratio ext fib...\n",
            "1               policier convaincre lfi côté plaque\\n\n",
            "2                                       heure crime\\n\n",
            "3   mars baye cheikh diop âgé an tuer balle garage...\n",
            "4   mars mansour thiam tuer balle colobane luire v...\n",
            "5                                  fautes ca france\\n\n",
            "6   vidéo élection voler dominion faveur macron pr...\n",
            "7   autorité moral financement étranger national a...\n",
            "8                                         éducation\\n\n",
            "9                                          allemand\\n\n",
            "10                                   final européen\\n\n",
            "11                   lien corruption politique mdrr\\n\n",
            "12  minute temps accorder écologie débat primaire ...\n",
            "13  respect parti politique geopo droit bien viser...\n",
            "14  euro primeinflation pauvre décider sénateur pr...\n",
            "15                   euro prime noël sénateur voter\\n\n",
            "16                     euro étudiant macron arriver\\n\n",
            "17  euro amende requérir eric zemmour eric zemmour...\n",
            "18             euro plan établir politique enrichir\\n\n",
            "19  euro amende requérir injustic frappe vérité la...\n"
          ]
        }
      ],
      "source": [
        "print(data_10.head(20))"
      ]
    },
    {
      "cell_type": "code",
      "execution_count": null,
      "metadata": {
        "id": "vTrhLmsXc-zm"
      },
      "outputs": [],
      "source": [
        "!pip install gensim==4.0\n",
        "!pip install python-Levenshtein"
      ]
    },
    {
      "cell_type": "code",
      "execution_count": 20,
      "metadata": {
        "id": "D7_sV7SbDuhQ"
      },
      "outputs": [],
      "source": [
        "from gensim.models import KeyedVectors"
      ]
    },
    {
      "cell_type": "code",
      "execution_count": 21,
      "metadata": {
        "id": "I1yZQP5dJP8L"
      },
      "outputs": [],
      "source": [
        "w2v = KeyedVectors.load('/content/drive/MyDrive/Colab Notebooks/w2vec_model_d300_1M')"
      ]
    },
    {
      "cell_type": "code",
      "execution_count": 22,
      "metadata": {
        "id": "z8b5pRSDN6eb"
      },
      "outputs": [],
      "source": [
        "import numpy as np"
      ]
    },
    {
      "cell_type": "code",
      "execution_count": 23,
      "metadata": {
        "id": "POuffGvENwVh"
      },
      "outputs": [],
      "source": [
        "#encode un message\n",
        "def encode(msg):\n",
        "    return np.mean([w2v[word] for word in msg if word in w2v] or [np.zeros(300)], axis = 0)"
      ]
    },
    {
      "cell_type": "code",
      "execution_count": null,
      "metadata": {
        "colab": {
          "base_uri": "https://localhost:8080/"
        },
        "id": "QHb_AjRKQsZe",
        "outputId": "a43c873d-5e40-45e0-9b0c-ce280884bed2"
      },
      "outputs": [
        {
          "output_type": "execute_result",
          "data": {
            "text/plain": [
              "[('sal', 0.6782066822052002),\n",
              " ('pvte', 0.629138708114624),\n",
              " ('mèrde', 0.6162537336349487),\n",
              " ('pute', 0.6096962094306946),\n",
              " ('pte', 0.6044666767120361),\n",
              " ('clochard', 0.6014346480369568),\n",
              " ('slp', 0.6004031896591187),\n",
              " ('crasseux', 0.5957321524620056),\n",
              " ('puent', 0.5908592939376831),\n",
              " ('daronn', 0.5900101661682129)]"
            ]
          },
          "metadata": {},
          "execution_count": 36
        }
      ],
      "source": [
        "w2v.similar_by_word(\"sale\")"
      ]
    },
    {
      "cell_type": "code",
      "execution_count": 32,
      "metadata": {
        "id": "SkTP5_y6TtX8"
      },
      "outputs": [],
      "source": [
        "def encoded(liste):\n",
        "  w2v=[]\n",
        "  for i in range(len(liste)):\n",
        "    w2v.append(np.array([encode(msg.split()) for msg in liste[i]]))\n",
        "  return w2v"
      ]
    },
    {
      "cell_type": "code",
      "execution_count": 33,
      "metadata": {
        "colab": {
          "base_uri": "https://localhost:8080/"
        },
        "id": "7-WWO8SbNzow",
        "outputId": "d947de9f-506b-4075-8b21-6caad791bf88"
      },
      "outputs": [
        {
          "output_type": "stream",
          "name": "stdout",
          "text": [
            "CPU times: user 32.4 s, sys: 993 ms, total: 33.4 s\n",
            "Wall time: 32.8 s\n"
          ]
        }
      ],
      "source": [
        "%%time\n",
        "#encodage de l'échantillon pour créer le jeu de données\n",
        "dataset_encoded = encoded(dic)"
      ]
    },
    {
      "cell_type": "code",
      "execution_count": 35,
      "metadata": {
        "colab": {
          "base_uri": "https://localhost:8080/"
        },
        "id": "ffz7YlFYUrnY",
        "outputId": "d2ea64cf-db72-4551-afe9-1ac41ea1fb12"
      },
      "outputs": [
        {
          "output_type": "stream",
          "name": "stdout",
          "text": [
            "20147\n"
          ]
        }
      ],
      "source": [
        "print(len(dataset_encoded[24]))"
      ]
    },
    {
      "cell_type": "code",
      "execution_count": null,
      "metadata": {
        "colab": {
          "background_save": true
        },
        "id": "TXw9vnKQq1rN"
      },
      "outputs": [],
      "source": [
        "#sauvegarder mes embeddings\n",
        "%%time\n",
        "\"\"\"for i in range(len(dataset_encoded)):\n",
        "  with open(f\"w2v/w2v{i}.txt\", 'a') as f:\n",
        "      for row in dataset_encoded[i]:\n",
        "        #np.savetxt(f, row)\"\"\""
      ]
    },
    {
      "cell_type": "code",
      "execution_count": 36,
      "metadata": {
        "id": "L0EXntvo6QhB"
      },
      "outputs": [],
      "source": [
        "from sklearn.ensemble import IsolationForest\n",
        "\n",
        "clf=IsolationForest(n_estimators=100, max_samples='auto', \\\n",
        "                        max_features=1.0, bootstrap=False, n_jobs=-1, random_state=42, verbose=0)\n"
      ]
    },
    {
      "cell_type": "code",
      "execution_count": 37,
      "metadata": {
        "id": "4k51z-ZfV_Ln",
        "colab": {
          "base_uri": "https://localhost:8080/"
        },
        "outputId": "1812e77b-645e-4e8c-8a9d-199b739e4832"
      },
      "outputs": [
        {
          "output_type": "stream",
          "name": "stdout",
          "text": [
            "CPU times: user 2min 44s, sys: 1.67 s, total: 2min 46s\n",
            "Wall time: 1min 27s\n"
          ]
        }
      ],
      "source": [
        "%%time\n",
        "for i in range(len(dataset_encoded)):\n",
        "  clf.fit(dataset_encoded[i])"
      ]
    },
    {
      "cell_type": "code",
      "execution_count": 39,
      "metadata": {
        "colab": {
          "base_uri": "https://localhost:8080/"
        },
        "id": "s7ryXl2tBgSF",
        "outputId": "a50c65d0-736a-4ab1-fb64-bb9fc71bed29"
      },
      "outputs": [
        {
          "output_type": "stream",
          "name": "stdout",
          "text": [
            "CPU times: user 1min 5s, sys: 568 ms, total: 1min 6s\n",
            "Wall time: 1min 6s\n"
          ]
        }
      ],
      "source": [
        "%%time\n",
        "pred=[]\n",
        "for i in range(len(dataset_encoded)):\n",
        "  pred.append(clf.predict(dataset_encoded[i]))"
      ]
    },
    {
      "cell_type": "code",
      "execution_count": 40,
      "metadata": {
        "colab": {
          "base_uri": "https://localhost:8080/"
        },
        "id": "RDImXxsAhFbb",
        "outputId": "4fcb311c-b3e0-433e-dc02-636643877d96"
      },
      "outputs": [
        {
          "output_type": "stream",
          "name": "stdout",
          "text": [
            "[ 1 -1  1 ... -1  1  1]\n"
          ]
        }
      ],
      "source": [
        "print(pred[1])"
      ]
    },
    {
      "cell_type": "code",
      "execution_count": 41,
      "metadata": {
        "id": "196-bkDCB46a"
      },
      "outputs": [],
      "source": [
        "for i in range(len(dataset_encoded)):\n",
        "  vars()[\"data_\"+str(i)]['pred']= pred[i]"
      ]
    },
    {
      "cell_type": "code",
      "execution_count": 42,
      "metadata": {
        "colab": {
          "base_uri": "https://localhost:8080/"
        },
        "id": "UBAkvlMtuBl0",
        "outputId": "de163c76-0787-4b94-a002-ede78eb36a3c"
      },
      "outputs": [
        {
          "output_type": "stream",
          "name": "stdout",
          "text": [
            "                                                tweet  pred\n",
            "0                                            voi lt\\n     1\n",
            "1                         bel douce nuit louaner cc\\n    -1\n",
            "2                            lune incroyablemer bel\\n     1\n",
            "3   excellent technique animalcrossing acnh ninten...    -1\n",
            "4                                         excellent\\n    -1\n",
            "5                                     chance calmer\\n     1\n",
            "6                                     lt ilyyyysmmm\\n    -1\n",
            "7           anniversaire recevoir nude anniversaire\\n    -1\n",
            "8                                       gentil jour\\n    -1\n",
            "9                               soirée dokkanbattle\\n     1\n",
            "10                                  ange gardien lt\\n     1\n",
            "11              an alhamdoulila joyeux anniversaire\\n    -1\n",
            "12                                        chance fé\\n     1\n",
            "13                                        chance fé\\n     1\n",
            "14                                        chance fé\\n     1\n",
            "15                                        chance fé\\n     1\n",
            "16                              end เปปเปอรแกบนไดยง\\n    -1\n",
            "17                       ère dame karmapa bel rumba\\n     1\n",
            "18  excellent tpmp excellent prime kiff magnifique...     1\n",
            "19                                     croise doigt\\n    -1\n"
          ]
        }
      ],
      "source": [
        "print(data_1.head(20))"
      ]
    },
    {
      "cell_type": "code",
      "execution_count": 44,
      "metadata": {
        "colab": {
          "base_uri": "https://localhost:8080/"
        },
        "id": "B6KfbLjeuLmz",
        "outputId": "53405776-c16e-427c-8ec5-d1437fc15730"
      },
      "outputs": [
        {
          "output_type": "stream",
          "name": "stdout",
          "text": [
            "cluster0:\n",
            "\n",
            "-1    3150\n",
            " 1      37\n",
            "Name: pred, dtype: int64\n",
            "\n",
            "\n",
            "cluster1:\n",
            "\n",
            "-1    6915\n",
            " 1    6045\n",
            "Name: pred, dtype: int64\n",
            "\n",
            "\n",
            "cluster2:\n",
            "\n",
            "-1    1453\n",
            " 1     217\n",
            "Name: pred, dtype: int64\n",
            "\n",
            "\n",
            "cluster3:\n",
            "\n",
            "-1    3691\n",
            " 1      68\n",
            "Name: pred, dtype: int64\n",
            "\n",
            "\n",
            "cluster4:\n",
            "\n",
            "1    26684\n",
            "Name: pred, dtype: int64\n",
            "\n",
            "\n",
            "cluster5:\n",
            "\n",
            " 1    24441\n",
            "-1     8845\n",
            "Name: pred, dtype: int64\n",
            "\n",
            "\n",
            "cluster6:\n",
            "\n",
            " 1    36494\n",
            "-1     2093\n",
            "Name: pred, dtype: int64\n",
            "\n",
            "\n",
            "cluster7:\n",
            "\n",
            " 1    89146\n",
            "-1     7568\n",
            "Name: pred, dtype: int64\n",
            "\n",
            "\n",
            "cluster8:\n",
            "\n",
            " 1    19406\n",
            "-1     3228\n",
            "Name: pred, dtype: int64\n",
            "\n",
            "\n",
            "cluster9:\n",
            "\n",
            "-1    1361\n",
            " 1     740\n",
            "Name: pred, dtype: int64\n",
            "\n",
            "\n",
            "cluster10:\n",
            "\n",
            " 1    45714\n",
            "-1     3945\n",
            "Name: pred, dtype: int64\n",
            "\n",
            "\n",
            "cluster11:\n",
            "\n",
            " 1    7539\n",
            "-1    3623\n",
            "Name: pred, dtype: int64\n",
            "\n",
            "\n",
            "cluster12:\n",
            "\n",
            " 1    55396\n",
            "-1     4892\n",
            "Name: pred, dtype: int64\n",
            "\n",
            "\n",
            "cluster13:\n",
            "\n",
            " 1    43742\n",
            "-1     6140\n",
            "Name: pred, dtype: int64\n",
            "\n",
            "\n",
            "cluster14:\n",
            "\n",
            " 1    59078\n",
            "-1     7125\n",
            "Name: pred, dtype: int64\n",
            "\n",
            "\n",
            "cluster15:\n",
            "\n",
            " 1    1759\n",
            "-1    1206\n",
            "Name: pred, dtype: int64\n",
            "\n",
            "\n",
            "cluster16:\n",
            "\n",
            "-1    9182\n",
            " 1    1773\n",
            "Name: pred, dtype: int64\n",
            "\n",
            "\n",
            "cluster17:\n",
            "\n",
            " 1    49676\n",
            "-1     5798\n",
            "Name: pred, dtype: int64\n",
            "\n",
            "\n",
            "cluster18:\n",
            "\n",
            " 1    16143\n",
            "-1     5300\n",
            "Name: pred, dtype: int64\n",
            "\n",
            "\n",
            "cluster19:\n",
            "\n",
            " 1    1804\n",
            "-1    1418\n",
            "Name: pred, dtype: int64\n",
            "\n",
            "\n",
            "cluster20:\n",
            "\n",
            " 1    10670\n",
            "-1     6878\n",
            "Name: pred, dtype: int64\n",
            "\n",
            "\n",
            "cluster21:\n",
            "\n",
            " 1    6397\n",
            "-1    1619\n",
            "Name: pred, dtype: int64\n",
            "\n",
            "\n",
            "cluster22:\n",
            "\n",
            " 1    35048\n",
            "-1     3554\n",
            "Name: pred, dtype: int64\n",
            "\n",
            "\n",
            "cluster23:\n",
            "\n",
            "-1    962\n",
            " 1     22\n",
            "Name: pred, dtype: int64\n",
            "\n",
            "\n",
            "cluster24:\n",
            "\n",
            " 1    18695\n",
            "-1     1452\n",
            "Name: pred, dtype: int64\n",
            "\n",
            "\n"
          ]
        }
      ],
      "source": [
        "# Trouver les outliers de chaque cluster\n",
        "# ceux dont l'index est -1\n",
        "outliers=[]\n",
        "for i in range(len(dataset_encoded)):\n",
        "  outliers.append((vars()[\"data_\"+str(i)].loc[vars()[\"data_\"+str(i)]['pred']==-1]))\n",
        "  outlier_index=list(outliers[i].index)\n",
        "  print(\"cluster\"+str(i)+\":\"+\"\\n\")\n",
        "  print(vars()[\"data_\"+str(i)]['pred'].value_counts())\n",
        "  print(\"\\n\")"
      ]
    },
    {
      "cell_type": "code",
      "source": [
        "for i in range(len(outliers)):\n",
        "  with open(f\"drive/MyDrive/outliers25/outliers{i}\", 'w') as f:\n",
        "    #dfAsString = outliers[i].to_string((justify='justify'))\n",
        "    dfAsString = str(outliers[i]['tweet'])\n",
        "    f.write(dfAsString)"
      ],
      "metadata": {
        "id": "FQIqtbe5L-Je"
      },
      "execution_count": 46,
      "outputs": []
    }
  ],
  "metadata": {
    "colab": {
      "name": "IF_cluster25.ipynb",
      "provenance": []
    },
    "kernelspec": {
      "display_name": "Python 3",
      "name": "python3"
    },
    "language_info": {
      "name": "python"
    }
  },
  "nbformat": 4,
  "nbformat_minor": 0
}