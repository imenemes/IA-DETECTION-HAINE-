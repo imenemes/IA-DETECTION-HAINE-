{
  "cells": [
    {
      "cell_type": "code",
      "execution_count": null,
      "metadata": {
        "id": "y-ketQ-qCSy1"
      },
      "outputs": [],
      "source": [
        "import pandas as pd\n",
        "import glob"
      ]
    },
    {
      "cell_type": "code",
      "execution_count": null,
      "metadata": {
        "colab": {
          "base_uri": "https://localhost:8080/"
        },
        "id": "NC5JlNsXb0Dl",
        "outputId": "e020ac29-b630-4bc9-a6a2-b919eece3257"
      },
      "outputs": [
        {
          "output_type": "stream",
          "name": "stdout",
          "text": [
            "Drive already mounted at /content/drive; to attempt to forcibly remount, call drive.mount(\"/content/drive\", force_remount=True).\n"
          ]
        }
      ],
      "source": [
        "from google.colab import drive\n",
        "drive.mount('/content/drive')"
      ]
    },
    {
      "cell_type": "code",
      "execution_count": null,
      "metadata": {
        "id": "eaNKVb9tz_O2"
      },
      "outputs": [],
      "source": [
        "list_cluster= glob.glob('/content/drive/MyDrive/Colab Notebooks/km25/*clean*')"
      ]
    },
    {
      "cell_type": "code",
      "execution_count": null,
      "metadata": {
        "colab": {
          "base_uri": "https://localhost:8080/"
        },
        "id": "ufrbbAv80bQ7",
        "outputId": "204d2343-8283-4be6-fe21-7b155e9195ee"
      },
      "outputs": [
        {
          "output_type": "stream",
          "name": "stdout",
          "text": [
            "['/content/drive/MyDrive/Colab Notebooks/km25/km_cluster_3_clean_msg.txt', '/content/drive/MyDrive/Colab Notebooks/km25/km_cluster_1_clean_msg.txt', '/content/drive/MyDrive/Colab Notebooks/km25/km_cluster_9_clean_msg.txt', '/content/drive/MyDrive/Colab Notebooks/km25/km_cluster_19_clean_msg.txt', '/content/drive/MyDrive/Colab Notebooks/km25/km_cluster_2_clean_msg.txt', '/content/drive/MyDrive/Colab Notebooks/km25/km_cluster_14_clean_msg.txt', '/content/drive/MyDrive/Colab Notebooks/km25/km_cluster_20_clean_msg.txt', '/content/drive/MyDrive/Colab Notebooks/km25/km_cluster_11_clean_msg.txt', '/content/drive/MyDrive/Colab Notebooks/km25/km_cluster_6_clean_msg.txt', '/content/drive/MyDrive/Colab Notebooks/km25/km_cluster_17_clean_msg.txt', '/content/drive/MyDrive/Colab Notebooks/km25/km_cluster_18_clean_msg.txt', '/content/drive/MyDrive/Colab Notebooks/km25/km_cluster_16_clean_msg.txt', '/content/drive/MyDrive/Colab Notebooks/km25/km_cluster_21_clean_msg.txt', '/content/drive/MyDrive/Colab Notebooks/km25/km_cluster_22_clean_msg.txt', '/content/drive/MyDrive/Colab Notebooks/km25/km_cluster_7_clean_msg.txt', '/content/drive/MyDrive/Colab Notebooks/km25/km_cluster_5_clean_msg.txt', '/content/drive/MyDrive/Colab Notebooks/km25/km_cluster_24_clean_msg.txt', '/content/drive/MyDrive/Colab Notebooks/km25/km_cluster_10_clean_msg.txt', '/content/drive/MyDrive/Colab Notebooks/km25/km_cluster_13_clean_msg.txt', '/content/drive/MyDrive/Colab Notebooks/km25/km_cluster_15_clean_msg.txt', '/content/drive/MyDrive/Colab Notebooks/km25/km_cluster_23_clean_msg.txt', '/content/drive/MyDrive/Colab Notebooks/km25/km_cluster_8_clean_msg.txt', '/content/drive/MyDrive/Colab Notebooks/km25/km_cluster_0_clean_msg.txt', '/content/drive/MyDrive/Colab Notebooks/km25/km_cluster_4_clean_msg.txt', '/content/drive/MyDrive/Colab Notebooks/km25/km_cluster_12_clean_msg.txt']\n"
          ]
        }
      ],
      "source": [
        "print(list_cluster)"
      ]
    },
    {
      "cell_type": "code",
      "execution_count": null,
      "metadata": {
        "id": "R5qyxGfMcJVl"
      },
      "outputs": [],
      "source": [
        "def read_cluster(files):\n",
        "  dic={}\n",
        "  for i,cluster in enumerate(files):\n",
        "    with open(cluster, \"r\") as file:\n",
        "      dic[i] = file.readlines()\n",
        "  return dic"
      ]
    },
    {
      "cell_type": "code",
      "execution_count": null,
      "metadata": {
        "id": "7DqNmzR820fl",
        "colab": {
          "base_uri": "https://localhost:8080/"
        },
        "outputId": "585fffb4-e9fe-4ea9-c33d-3963cd3db9bd"
      },
      "outputs": [
        {
          "output_type": "stream",
          "name": "stdout",
          "text": [
            "25\n"
          ]
        }
      ],
      "source": [
        "dic= read_cluster(list_cluster)\n",
        "print(len(dic))"
      ]
    },
    {
      "cell_type": "code",
      "execution_count": null,
      "metadata": {
        "colab": {
          "base_uri": "https://localhost:8080/"
        },
        "id": "JXDAPe8Y7MxJ",
        "outputId": "ab8a1c4f-61a6-4106-f46a-3fe81ca7931b"
      },
      "outputs": [
        {
          "output_type": "stream",
          "name": "stdout",
          "text": [
            "60288\n"
          ]
        }
      ],
      "source": [
        "print(len(dic[24]))"
      ]
    },
    {
      "cell_type": "code",
      "execution_count": null,
      "metadata": {
        "id": "fMymLS7XCjbx"
      },
      "outputs": [],
      "source": [
        "for i in range(len(list_cluster)):\n",
        "  vars()[\"data_\"+str(i)]=pd.DataFrame(dic[i], columns = ['tweet'])"
      ]
    },
    {
      "cell_type": "code",
      "execution_count": null,
      "metadata": {
        "colab": {
          "base_uri": "https://localhost:8080/"
        },
        "id": "9kZqrkGnya_N",
        "outputId": "da1524ad-1203-4b2c-a4a2-7a7639edfde6"
      },
      "outputs": [
        {
          "output_type": "stream",
          "name": "stdout",
          "text": [
            "                                                tweet\n",
            "0                                          patience\\n\n",
            "1                                      coeur survit\\n\n",
            "2                                             coeur\\n\n",
            "3                    aime elis pouvoir décrir amour\\n\n",
            "4                                           dignité\\n\n",
            "5                                    soutien pleure\\n\n",
            "6      créativité sincérité humour amour incroyable\\n\n",
            "7    demander indemnité séquelle vie mourir bofooxi\\n\n",
            "8             aime cité aller méchantsx amour haine\\n\n",
            "9                                              mort\\n\n",
            "10                              abonné wahou gloire\\n\n",
            "11  meilleur inutile bénéfique pacifier entendre b...\n",
            "12                                             mère\\n\n",
            "13  meilleur verset inutile ligne bénéfique pacifi...\n",
            "14  réciterait stance inutile valoir mieux réciter...\n"
          ]
        }
      ],
      "source": [
        "print(data_3.head(15))"
      ]
    },
    {
      "cell_type": "code",
      "execution_count": null,
      "metadata": {
        "id": "vTrhLmsXc-zm"
      },
      "outputs": [],
      "source": [
        "!pip install gensim==4.0"
      ]
    },
    {
      "cell_type": "code",
      "execution_count": null,
      "metadata": {
        "id": "D7_sV7SbDuhQ"
      },
      "outputs": [],
      "source": [
        "from gensim.models import KeyedVectors"
      ]
    },
    {
      "cell_type": "code",
      "execution_count": null,
      "metadata": {
        "id": "I1yZQP5dJP8L"
      },
      "outputs": [],
      "source": [
        "w2v = KeyedVectors.load('/content/drive/MyDrive/Colab Notebooks/w2vec_model_d300_1M')"
      ]
    },
    {
      "cell_type": "code",
      "execution_count": null,
      "metadata": {
        "id": "z8b5pRSDN6eb"
      },
      "outputs": [],
      "source": [
        "import numpy as np"
      ]
    },
    {
      "cell_type": "code",
      "execution_count": null,
      "metadata": {
        "id": "POuffGvENwVh"
      },
      "outputs": [],
      "source": [
        "#encode un message\n",
        "def encode(msg):\n",
        "    return np.mean([w2v[word] for word in msg if word in w2v] or [np.zeros(300)], axis = 0)"
      ]
    },
    {
      "cell_type": "code",
      "execution_count": null,
      "metadata": {
        "colab": {
          "base_uri": "https://localhost:8080/"
        },
        "id": "QHb_AjRKQsZe",
        "outputId": "a43c873d-5e40-45e0-9b0c-ce280884bed2"
      },
      "outputs": [
        {
          "output_type": "execute_result",
          "data": {
            "text/plain": [
              "[('sal', 0.6782066822052002),\n",
              " ('pvte', 0.629138708114624),\n",
              " ('mèrde', 0.6162537336349487),\n",
              " ('pute', 0.6096962094306946),\n",
              " ('pte', 0.6044666767120361),\n",
              " ('clochard', 0.6014346480369568),\n",
              " ('slp', 0.6004031896591187),\n",
              " ('crasseux', 0.5957321524620056),\n",
              " ('puent', 0.5908592939376831),\n",
              " ('daronn', 0.5900101661682129)]"
            ]
          },
          "metadata": {},
          "execution_count": 36
        }
      ],
      "source": [
        "w2v.similar_by_word(\"sale\")"
      ]
    },
    {
      "cell_type": "code",
      "execution_count": null,
      "metadata": {
        "id": "SkTP5_y6TtX8"
      },
      "outputs": [],
      "source": [
        "def encoded(dic):\n",
        "  w2v={}\n",
        "  for i in range(len(dic)):\n",
        "    w2v[i]=np.array([encode(msg) for msg in dic[i]])\n",
        "  return w2v"
      ]
    },
    {
      "cell_type": "code",
      "execution_count": null,
      "metadata": {
        "colab": {
          "base_uri": "https://localhost:8080/"
        },
        "id": "7-WWO8SbNzow",
        "outputId": "a9ec2a18-fe8a-4f4a-b101-64fcdb95545a"
      },
      "outputs": [
        {
          "output_type": "stream",
          "name": "stdout",
          "text": [
            "CPU times: user 44.9 s, sys: 1.21 s, total: 46.1 s\n",
            "Wall time: 46.1 s\n"
          ]
        }
      ],
      "source": [
        "%%time\n",
        "#encodage de l'échantillon pour créer le jeu de données\n",
        "dataset_encoded = encoded(dic)"
      ]
    },
    {
      "cell_type": "code",
      "execution_count": null,
      "metadata": {
        "colab": {
          "base_uri": "https://localhost:8080/"
        },
        "id": "ffz7YlFYUrnY",
        "outputId": "79eb79e4-0961-45ad-94fc-df1f26dd333b"
      },
      "outputs": [
        {
          "output_type": "stream",
          "name": "stdout",
          "text": [
            "60288\n"
          ]
        }
      ],
      "source": [
        "print(len(dataset_encoded[24]))"
      ]
    },
    {
      "cell_type": "code",
      "execution_count": null,
      "metadata": {
        "colab": {
          "background_save": true
        },
        "id": "TXw9vnKQq1rN"
      },
      "outputs": [],
      "source": [
        "#sauvegarder mes embeddings\n",
        "%%time\n",
        "\"\"\"for i in range(len(dataset_encoded)):\n",
        "  with open(f\"w2v/w2v{i}.txt\", 'a') as f:\n",
        "      for row in dataset_encoded[i]:\n",
        "        #np.savetxt(f, row)\"\"\""
      ]
    },
    {
      "cell_type": "code",
      "execution_count": null,
      "metadata": {
        "id": "L0EXntvo6QhB"
      },
      "outputs": [],
      "source": [
        "from sklearn.ensemble import IsolationForest\n",
        "\n",
        "clf=IsolationForest(n_estimators=100, max_samples='auto', \\\n",
        "                        max_features=1.0, bootstrap=False, n_jobs=-1, random_state=42, verbose=0)\n"
      ]
    },
    {
      "cell_type": "code",
      "execution_count": null,
      "metadata": {
        "id": "4k51z-ZfV_Ln",
        "colab": {
          "base_uri": "https://localhost:8080/"
        },
        "outputId": "7c27f40c-cf52-4642-c0c0-f8f04b89eb67"
      },
      "outputs": [
        {
          "output_type": "stream",
          "name": "stdout",
          "text": [
            "CPU times: user 4min 38s, sys: 3.86 s, total: 4min 42s\n",
            "Wall time: 2min 27s\n"
          ]
        }
      ],
      "source": [
        "%%time\n",
        "for i in range(len(dataset_encoded)):\n",
        "  clf.fit(dataset_encoded[i])"
      ]
    },
    {
      "cell_type": "code",
      "execution_count": null,
      "metadata": {
        "colab": {
          "base_uri": "https://localhost:8080/"
        },
        "id": "s7ryXl2tBgSF",
        "outputId": "591ff8a2-4a79-403b-d0ad-dd08fa16560d"
      },
      "outputs": [
        {
          "output_type": "stream",
          "name": "stdout",
          "text": [
            "CPU times: user 1min 47s, sys: 4.66 s, total: 1min 52s\n",
            "Wall time: 1min 52s\n"
          ]
        }
      ],
      "source": [
        "%%time\n",
        "pred={}\n",
        "for i in range(len(dataset_encoded)):\n",
        "  pred[i] = clf.predict(dataset_encoded[i])"
      ]
    },
    {
      "cell_type": "code",
      "execution_count": null,
      "metadata": {
        "colab": {
          "base_uri": "https://localhost:8080/"
        },
        "id": "RDImXxsAhFbb",
        "outputId": "fee205cb-3e4f-4716-b8b6-12bbf64983fd"
      },
      "outputs": [
        {
          "output_type": "stream",
          "name": "stdout",
          "text": [
            "[1 1 1 ... 1 1 1]\n"
          ]
        }
      ],
      "source": [
        "print(pred[1])"
      ]
    },
    {
      "cell_type": "code",
      "execution_count": null,
      "metadata": {
        "id": "196-bkDCB46a"
      },
      "outputs": [],
      "source": [
        "for i in range(len(dataset_encoded)):\n",
        "  vars()[\"data_\"+str(i)]['pred']= pred[i]"
      ]
    },
    {
      "cell_type": "code",
      "execution_count": null,
      "metadata": {
        "colab": {
          "base_uri": "https://localhost:8080/"
        },
        "id": "UBAkvlMtuBl0",
        "outputId": "d257e6c2-3e1e-4317-cebf-d761549e9584"
      },
      "outputs": [
        {
          "output_type": "stream",
          "name": "stdout",
          "text": [
            "                                                tweet  pred\n",
            "0   ethusd dly doublement cadrer ich ratio ext fib...     1\n",
            "1               policier convaincre lfi côté plaque\\n     1\n",
            "2                                       heure crime\\n     1\n",
            "3   mars baye cheikh diop âgé an tuer balle garage...    -1\n",
            "4   mars mansour thiam tuer balle colobane luire v...     1\n",
            "5                                  fautes ca france\\n     1\n",
            "6   vidéo élection voler dominion faveur macron pr...     1\n",
            "7   autorité moral financement étranger national a...    -1\n",
            "8                                         éducation\\n     1\n",
            "9                                          allemand\\n     1\n",
            "10                                   final européen\\n     1\n",
            "11                   lien corruption politique mdrr\\n     1\n",
            "12  minute temps accorder écologie débat primaire ...     1\n",
            "13  respect parti politique geopo droit bien viser...     1\n",
            "14  euro primeinflation pauvre décider sénateur pr...     1\n",
            "15                   euro prime noël sénateur voter\\n     1\n",
            "16                     euro étudiant macron arriver\\n     1\n",
            "17  euro amende requérir eric zemmour eric zemmour...     1\n",
            "18             euro plan établir politique enrichir\\n     1\n",
            "19  euro amende requérir injustic frappe vérité la...     1\n"
          ]
        }
      ],
      "source": [
        "print(data_1.head(20))"
      ]
    },
    {
      "cell_type": "code",
      "execution_count": null,
      "metadata": {
        "colab": {
          "base_uri": "https://localhost:8080/"
        },
        "id": "B6KfbLjeuLmz",
        "outputId": "42a3a1e6-1920-4fe9-d1c6-15ae675728e1"
      },
      "outputs": [
        {
          "output_type": "stream",
          "name": "stdout",
          "text": [
            "cluster0:\n",
            "\n",
            " 1    10083\n",
            "-1     1079\n",
            "Name: pred, dtype: int64\n",
            "\n",
            "\n",
            "cluster1:\n",
            "\n",
            " 1    36297\n",
            "-1    13362\n",
            "Name: pred, dtype: int64\n",
            "\n",
            "\n",
            "cluster2:\n",
            "\n",
            " 1    10628\n",
            "-1      327\n",
            "Name: pred, dtype: int64\n",
            "\n",
            "\n",
            "cluster3:\n",
            "\n",
            " 1    17147\n",
            "-1     4296\n",
            "Name: pred, dtype: int64\n",
            "\n",
            "\n",
            "cluster4:\n",
            "\n",
            " 1    26157\n",
            "-1      527\n",
            "Name: pred, dtype: int64\n",
            "\n",
            "\n",
            "cluster5:\n",
            "\n",
            " 1    2829\n",
            "-1     136\n",
            "Name: pred, dtype: int64\n",
            "\n",
            "\n",
            "cluster6:\n",
            "\n",
            " 1    969\n",
            "-1     15\n",
            "Name: pred, dtype: int64\n",
            "\n",
            "\n",
            "cluster7:\n",
            "\n",
            " 1    1637\n",
            "-1      33\n",
            "Name: pred, dtype: int64\n",
            "\n",
            "\n",
            "cluster8:\n",
            "\n",
            " 1    12099\n",
            "-1      861\n",
            "Name: pred, dtype: int64\n",
            "\n",
            "\n",
            "cluster9:\n",
            "\n",
            " 1    2043\n",
            "-1      58\n",
            "Name: pred, dtype: int64\n",
            "\n",
            "\n",
            "cluster10:\n",
            "\n",
            " 1    15449\n",
            "-1     4698\n",
            "Name: pred, dtype: int64\n",
            "\n",
            "\n",
            "cluster11:\n",
            "\n",
            " 1    3131\n",
            "-1      56\n",
            "Name: pred, dtype: int64\n",
            "\n",
            "\n",
            "cluster12:\n",
            "\n",
            " 1    7052\n",
            "-1     964\n",
            "Name: pred, dtype: int64\n",
            "\n",
            "\n",
            "cluster13:\n",
            "\n",
            " 1    3095\n",
            "-1     127\n",
            "Name: pred, dtype: int64\n",
            "\n",
            "\n",
            "cluster14:\n",
            "\n",
            " 1    3701\n",
            "-1      58\n",
            "Name: pred, dtype: int64\n",
            "\n",
            "\n",
            "cluster15:\n",
            "\n",
            " 1    31439\n",
            "-1     1847\n",
            "Name: pred, dtype: int64\n",
            "\n",
            "\n",
            "cluster16:\n",
            "\n",
            " 1    16573\n",
            "-1      975\n",
            "Name: pred, dtype: int64\n",
            "\n",
            "\n",
            "cluster17:\n",
            "\n",
            " 1    44227\n",
            "-1     5655\n",
            "Name: pred, dtype: int64\n",
            "\n",
            "\n",
            "cluster18:\n",
            "\n",
            " 1    19175\n",
            "-1     3459\n",
            "Name: pred, dtype: int64\n",
            "\n",
            "\n",
            "cluster19:\n",
            "\n",
            " 1    74746\n",
            "-1    21968\n",
            "Name: pred, dtype: int64\n",
            "\n",
            "\n",
            "cluster20:\n",
            "\n",
            " 1    31914\n",
            "-1     6688\n",
            "Name: pred, dtype: int64\n",
            "\n",
            "\n",
            "cluster21:\n",
            "\n",
            " 1    57226\n",
            "-1     8977\n",
            "Name: pred, dtype: int64\n",
            "\n",
            "\n",
            "cluster22:\n",
            "\n",
            " 1    48454\n",
            "-1     7020\n",
            "Name: pred, dtype: int64\n",
            "\n",
            "\n",
            "cluster23:\n",
            "\n",
            " 1    36360\n",
            "-1     2227\n",
            "Name: pred, dtype: int64\n",
            "\n",
            "\n",
            "cluster24:\n",
            "\n",
            " 1    47138\n",
            "-1    13150\n",
            "Name: pred, dtype: int64\n",
            "\n",
            "\n"
          ]
        }
      ],
      "source": [
        "outliers={}\n",
        "for i in range(len(dataset_encoded)):\n",
        "  outliers[i]=vars()[\"data_\"+str(i)].loc[vars()[\"data_\"+str(i)]['pred']==-1]\n",
        "  outlier_index=list(outliers[i].index)\n",
        "#print(outlier_index)\n",
        "#Find the number of anomalies and normal points here points classified -1 are anomalous\n",
        "  print(\"cluster\"+str(i)+\":\"+\"\\n\")\n",
        "  print(vars()[\"data_\"+str(i)]['pred'].value_counts())\n",
        "  print(\"\\n\")"
      ]
    },
    {
      "cell_type": "code",
      "execution_count": null,
      "metadata": {
        "id": "AgIxwZ1io6d_"
      },
      "outputs": [],
      "source": [
        "for i in range(len(outliers)):\n",
        "  with open(f\"outliers{i}\", 'a') as f:\n",
        "    f.write(str(outliers[i]))"
      ]
    },
    {
      "cell_type": "code",
      "source": [
        "for i in range(len(outliers)):\n",
        "  with open(f\"drive/MyDrive/outliers25/outliers{i}\", 'a') as f:\n",
        "    dfAsString = outliers[i].to_string(header=False, index=False)\n",
        "    f.write(dfAsString)"
      ],
      "metadata": {
        "id": "FQIqtbe5L-Je"
      },
      "execution_count": null,
      "outputs": []
    }
  ],
  "metadata": {
    "colab": {
      "name": "IF_cluster25.ipynb",
      "provenance": []
    },
    "kernelspec": {
      "display_name": "Python 3",
      "name": "python3"
    },
    "language_info": {
      "name": "python"
    }
  },
  "nbformat": 4,
  "nbformat_minor": 0
}