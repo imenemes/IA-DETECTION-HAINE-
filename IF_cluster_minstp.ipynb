{
  "cells": [
    {
      "cell_type": "code",
      "execution_count": 2,
      "metadata": {
        "id": "y-ketQ-qCSy1"
      },
      "outputs": [],
      "source": [
        "import pandas as pd\n",
        "import numpy as np\n",
        "import glob\n",
        "import sys\n",
        "import os"
      ]
    },
    {
      "cell_type": "code",
      "execution_count": 3,
      "metadata": {
        "colab": {
          "base_uri": "https://localhost:8080/"
        },
        "id": "NC5JlNsXb0Dl",
        "outputId": "95f5e900-0998-4613-9f66-f2453242af6d"
      },
      "outputs": [
        {
          "output_type": "stream",
          "name": "stdout",
          "text": [
            "Drive already mounted at /content/drive; to attempt to forcibly remount, call drive.mount(\"/content/drive\", force_remount=True).\n"
          ]
        }
      ],
      "source": [
        "from google.colab import drive\n",
        "drive.mount('/content/drive')"
      ]
    },
    {
      "cell_type": "code",
      "source": [
        "py_file_location = \"/content/drive/MyDrive\"\n",
        "sys.path.append(os.path.abspath(py_file_location))"
      ],
      "metadata": {
        "id": "j-ExSKP-gYT5"
      },
      "execution_count": 83,
      "outputs": []
    },
    {
      "cell_type": "code",
      "source": [
        "from function_tools import *"
      ],
      "metadata": {
        "id": "1fQZrej4ac0S"
      },
      "execution_count": 84,
      "outputs": []
    },
    {
      "cell_type": "code",
      "source": [
        "path_files = r\"/content/drive/MyDrive/Data_M/1M_MinStp_clusters/\""
      ],
      "metadata": {
        "id": "1slR4akM8nZK"
      },
      "execution_count": 85,
      "outputs": []
    },
    {
      "cell_type": "code",
      "execution_count": 86,
      "metadata": {
        "id": "eaNKVb9tz_O2"
      },
      "outputs": [],
      "source": [
        "# récupérer les clusters \n",
        "# glob aide à faire un trie par regex afin d'en choisir les fichiers nettoyés\n",
        "list_file= glob.glob(f\"{path_files}*\")"
      ]
    },
    {
      "cell_type": "code",
      "source": [
        "list_file"
      ],
      "metadata": {
        "colab": {
          "base_uri": "https://localhost:8080/"
        },
        "id": "bV-AceuE8mJA",
        "outputId": "b384225e-7ab1-4d55-f4cf-2f14edf1c4e9"
      },
      "execution_count": 87,
      "outputs": [
        {
          "output_type": "execute_result",
          "data": {
            "text/plain": [
              "['/content/drive/MyDrive/Data_M/1M_MinStp_clusters/som_100',\n",
              " '/content/drive/MyDrive/Data_M/1M_MinStp_clusters/km_25',\n",
              " '/content/drive/MyDrive/Data_M/1M_MinStp_clusters/km_100',\n",
              " '/content/drive/MyDrive/Data_M/1M_MinStp_clusters/som_400',\n",
              " '/content/drive/MyDrive/Data_M/1M_MinStp_clusters/som_225',\n",
              " '/content/drive/MyDrive/Data_M/1M_MinStp_clusters/km_50']"
            ]
          },
          "metadata": {},
          "execution_count": 87
        }
      ]
    },
    {
      "cell_type": "code",
      "source": [
        "liste_clean , liste_brut = make_liste(list_file)"
      ],
      "metadata": {
        "id": "7vnfdB1TcMRv"
      },
      "execution_count": 88,
      "outputs": []
    },
    {
      "cell_type": "code",
      "source": [
        "list_file"
      ],
      "metadata": {
        "colab": {
          "base_uri": "https://localhost:8080/"
        },
        "id": "fAgZ4zZfLV-r",
        "outputId": "0ea39013-1194-4e7f-9c4b-29d4df27fece"
      },
      "execution_count": 81,
      "outputs": [
        {
          "output_type": "execute_result",
          "data": {
            "text/plain": [
              "['/content/drive/MyDrive/Data_M/1M_MinStp_clusters/km_25',\n",
              " '/content/drive/MyDrive/Data_M/1M_MinStp_clusters/km_50',\n",
              " '/content/drive/MyDrive/Data_M/1M_MinStp_clusters/km_100',\n",
              " '/content/drive/MyDrive/Data_M/1M_MinStp_clusters/som_100',\n",
              " '/content/drive/MyDrive/Data_M/1M_MinStp_clusters/som_225',\n",
              " '/content/drive/MyDrive/Data_M/1M_MinStp_clusters/som_400']"
            ]
          },
          "metadata": {},
          "execution_count": 81
        }
      ]
    },
    {
      "cell_type": "code",
      "source": [
        "for i,n in enumerate(liste_clean[5]):\n",
        "      print(n[-17:-14],i)"
      ],
      "metadata": {
        "id": "9FX8SSX9MCsQ"
      },
      "execution_count": null,
      "outputs": []
    },
    {
      "cell_type": "code",
      "source": [
        "%%time\n",
        "clean_cluster= matrice(liste_clean)"
      ],
      "metadata": {
        "id": "g83I9zWrQbij",
        "colab": {
          "base_uri": "https://localhost:8080/"
        },
        "outputId": "9c594f32-eb24-4c39-82d7-c780da5da857"
      },
      "execution_count": 90,
      "outputs": [
        {
          "output_type": "stream",
          "name": "stdout",
          "text": [
            "CPU times: user 1.9 s, sys: 1.06 s, total: 2.96 s\n",
            "Wall time: 4.36 s\n"
          ]
        }
      ]
    },
    {
      "cell_type": "code",
      "source": [
        "len(clean_cluster[5])"
      ],
      "metadata": {
        "colab": {
          "base_uri": "https://localhost:8080/"
        },
        "id": "uyIHwRx0Kcat",
        "outputId": "24877eb5-eabf-4836-dca7-1bef0614c8d4"
      },
      "execution_count": 94,
      "outputs": [
        {
          "output_type": "execute_result",
          "data": {
            "text/plain": [
              "400"
            ]
          },
          "metadata": {},
          "execution_count": 94
        }
      ]
    },
    {
      "cell_type": "code",
      "source": [
        "%%time\n",
        "brut_cluster= matrice(liste_brut)"
      ],
      "metadata": {
        "id": "ykPUhGFiBuk3",
        "colab": {
          "base_uri": "https://localhost:8080/"
        },
        "outputId": "ec6dd9e6-f62f-4a5b-de24-ae8fc391b4ef"
      },
      "execution_count": 95,
      "outputs": [
        {
          "output_type": "stream",
          "name": "stdout",
          "text": [
            "CPU times: user 3.77 s, sys: 2.3 s, total: 6.07 s\n",
            "Wall time: 12.3 s\n"
          ]
        }
      ]
    },
    {
      "cell_type": "code",
      "source": [
        "data = make_df(brut_cluster, clean_cluster)"
      ],
      "metadata": {
        "id": "A0ZbONGmfcwY"
      },
      "execution_count": 98,
      "outputs": []
    },
    {
      "cell_type": "code",
      "source": [
        "data[2][0].head()"
      ],
      "metadata": {
        "id": "eciN-LMWKKC2"
      },
      "execution_count": null,
      "outputs": []
    },
    {
      "cell_type": "markdown",
      "source": [
        "data_km : \n",
        "1.   index 0 : km25\n",
        "2.   index 1: km50\n",
        "3.   index 2: km100\n",
        "\n",
        "data_SOM : \n",
        "1.   index 3 : som100\n",
        "2.   index 4: som225\n",
        "3.   index 5: som400"
      ],
      "metadata": {
        "id": "ZvjvB-QHTg0o"
      }
    },
    {
      "cell_type": "code",
      "source": [
        "!pip install gensim==4.0\n",
        "!pip install python-Levenshtein"
      ],
      "metadata": {
        "id": "8hoNeRjLisbH"
      },
      "execution_count": null,
      "outputs": []
    },
    {
      "cell_type": "code",
      "source": [
        "from gensim.models import KeyedVectors"
      ],
      "metadata": {
        "id": "xzWDRnYViwtM"
      },
      "execution_count": 100,
      "outputs": []
    },
    {
      "cell_type": "code",
      "execution_count": 101,
      "metadata": {
        "id": "I1yZQP5dJP8L"
      },
      "outputs": [],
      "source": [
        "# récupérer les embeddings entrainés sur nos données\n",
        "w2v_min = KeyedVectors.load('/content/drive/MyDrive/Data_M/w2v/w2vec_model_d300_1M_MinStp')"
      ]
    },
    {
      "cell_type": "code",
      "execution_count": 102,
      "metadata": {
        "id": "POuffGvENwVh"
      },
      "outputs": [],
      "source": [
        "#encode un message\n",
        "def encode(msg):\n",
        "    return np.mean([w2v_min[word] for word in msg if word in w2v_min] or [np.zeros(300)], axis = 0)"
      ]
    },
    {
      "cell_type": "code",
      "execution_count": 103,
      "metadata": {
        "id": "SkTP5_y6TtX8"
      },
      "outputs": [],
      "source": [
        "# Encoder une liste de messages \n",
        "def encoded(liste):\n",
        "  w2v=[]\n",
        "  for i in range(len(liste)):\n",
        "    w2v.append(np.array([encode(msg.split()) for msg in liste[i]]))\n",
        "  return w2v"
      ]
    },
    {
      "cell_type": "markdown",
      "source": [
        "Encodage des différents set de clusters"
      ],
      "metadata": {
        "id": "-C6RjNlHwtMQ"
      }
    },
    {
      "cell_type": "code",
      "source": [
        "len(clean_cluster)"
      ],
      "metadata": {
        "colab": {
          "base_uri": "https://localhost:8080/"
        },
        "id": "BZg5exCLSnXx",
        "outputId": "820147de-db9b-4623-ad71-33f9d2781f43"
      },
      "execution_count": 104,
      "outputs": [
        {
          "output_type": "execute_result",
          "data": {
            "text/plain": [
              "6"
            ]
          },
          "metadata": {},
          "execution_count": 104
        }
      ]
    },
    {
      "cell_type": "code",
      "source": [
        "def liste_encoded(liste_cluster):\n",
        "  dataset_encoded=[]\n",
        "  for i in range(len(liste_cluster)):\n",
        "    dataset_encoded.append(encoded(liste_cluster[i]))\n",
        "  return dataset_encoded"
      ],
      "metadata": {
        "id": "y1p8ZaKdR2WH"
      },
      "execution_count": 105,
      "outputs": []
    },
    {
      "cell_type": "code",
      "source": [
        "dataset_encoded= liste_encoded(clean_cluster)"
      ],
      "metadata": {
        "id": "hcQCGJEaSuFy"
      },
      "execution_count": 106,
      "outputs": []
    },
    {
      "cell_type": "code",
      "source": [
        "len(dataset_encoded[0])"
      ],
      "metadata": {
        "colab": {
          "base_uri": "https://localhost:8080/"
        },
        "id": "MYn-E9pE_CFd",
        "outputId": "cdee90fe-1928-4f8d-ce84-b71cbe8a97f7"
      },
      "execution_count": 107,
      "outputs": [
        {
          "output_type": "execute_result",
          "data": {
            "text/plain": [
              "25"
            ]
          },
          "metadata": {},
          "execution_count": 107
        }
      ]
    },
    {
      "cell_type": "markdown",
      "source": [
        "Entrainement des différents set de clusters"
      ],
      "metadata": {
        "id": "tW5Zihz2w-7P"
      }
    },
    {
      "cell_type": "code",
      "execution_count": 108,
      "metadata": {
        "id": "L0EXntvo6QhB"
      },
      "outputs": [],
      "source": [
        "from sklearn.ensemble import IsolationForest\n",
        "\n",
        "# definir le modèle ainsi que ses paramètres\n",
        "if_model=IsolationForest(n_jobs=-1, random_state=42)\n"
      ]
    },
    {
      "cell_type": "markdown",
      "source": [
        "Créer une matrice qui stock les différents models d'IF correspondant aux différents clusters"
      ],
      "metadata": {
        "id": "E_7I5UIicZbR"
      }
    },
    {
      "cell_type": "code",
      "source": [
        "def train_if (dataset):\n",
        "  models=[[] for _ in range(len(dataset))]\n",
        "  for i in range(len(dataset)):\n",
        "    for n in range(len(dataset[i])):\n",
        "      if_model=IsolationForest(n_jobs=-1, random_state=42)\n",
        "      models[i].append(if_model.fit(dataset[i][n]))\n",
        "  return models"
      ],
      "metadata": {
        "id": "HuBZOclLXARE"
      },
      "execution_count": 109,
      "outputs": []
    },
    {
      "cell_type": "markdown",
      "source": [
        "Appliquer IF sur les clusters de Km"
      ],
      "metadata": {
        "id": "ifZKXEnNYpht"
      }
    },
    {
      "cell_type": "code",
      "source": [
        "%%time\n",
        "models = train_if(dataset_encoded)"
      ],
      "metadata": {
        "id": "yFxr0_mnaVt1",
        "colab": {
          "base_uri": "https://localhost:8080/"
        },
        "outputId": "c6ad0f53-0361-49af-df08-400b0c7b2cb3"
      },
      "execution_count": 110,
      "outputs": [
        {
          "output_type": "stream",
          "name": "stdout",
          "text": [
            "CPU times: user 20min 10s, sys: 33.7 s, total: 20min 44s\n",
            "Wall time: 12min 34s\n"
          ]
        }
      ]
    },
    {
      "cell_type": "markdown",
      "source": [
        "Appliquer IF sur les clusters de SOM"
      ],
      "metadata": {
        "id": "IY1sEIZuY4la"
      }
    },
    {
      "cell_type": "markdown",
      "source": [
        "Prédictions pour les différents modèles"
      ],
      "metadata": {
        "id": "VIxce-wMySxp"
      }
    },
    {
      "cell_type": "code",
      "source": [
        "def pred(dataset,model):\n",
        "  preds=[[] for _ in range(len(dataset))]\n",
        "  for i in range(len(dataset)):\n",
        "    for n in range(len(dataset[i])):\n",
        "      preds[i].append(model[i][n].predict(dataset[i][n]))\n",
        "  return preds"
      ],
      "metadata": {
        "id": "e2X74fsfdO6c"
      },
      "execution_count": 111,
      "outputs": []
    },
    {
      "cell_type": "code",
      "source": [
        "pred= pred(dataset_encoded, models)"
      ],
      "metadata": {
        "id": "-M8CAVVCe-3y"
      },
      "execution_count": 112,
      "outputs": []
    },
    {
      "cell_type": "code",
      "source": [
        "def add_pred_to_df(dataset,pred):\n",
        "  for i in range(len(pred)):\n",
        "    for n in range(len(pred[i])):\n",
        "      dataset[i][n]['pred']= pred[i][n]"
      ],
      "metadata": {
        "id": "RSQqOdm-hEHq"
      },
      "execution_count": 113,
      "outputs": []
    },
    {
      "cell_type": "code",
      "source": [
        "add_pred_to_df(data, pred)"
      ],
      "metadata": {
        "id": "u8CyQ2XViEKS"
      },
      "execution_count": 114,
      "outputs": []
    },
    {
      "cell_type": "code",
      "source": [
        "data[0][0]"
      ],
      "metadata": {
        "colab": {
          "base_uri": "https://localhost:8080/",
          "height": 424
        },
        "id": "vYVNV26C0Jwe",
        "outputId": "539d2a98-90c2-415e-c7a1-ba766bf708a5"
      },
      "execution_count": 115,
      "outputs": [
        {
          "output_type": "execute_result",
          "data": {
            "text/plain": [
              "                                                  tweet  \\\n",
              "0                              L’ogre danois bien sûr\\n   \n",
              "1                           J aimerais bien l avoir 😁\\n   \n",
              "2                    Parce que vous les valez bien ☺️\\n   \n",
              "3                                         Il est bien\\n   \n",
              "4     Elle doit être bien fatiguée d'avoir, depuis s...   \n",
              "...                                                 ...   \n",
              "6559  J’aime bien French Montana, depuis Datpiff. Il...   \n",
              "6560                  Il peut bien aller se faire....\\n   \n",
              "6561                                      Bien sur...\\n   \n",
              "6562  Lache rien , j'aime bien les gens cohérent com...   \n",
              "6563                                 La bien nommée !\\n   \n",
              "\n",
              "                                              clean_twt  pred  \n",
              "0                                ogre danois bien sûr\\n     1  \n",
              "1                                 aimerais bien avoir\\n     1  \n",
              "2                                          valez bien\\n     1  \n",
              "3                                                bien\\n     1  \n",
              "4                  être bien fatiguée d'avoir,, tête.\\n     1  \n",
              "...                                                 ...   ...  \n",
              "6559  aime bien french montana, datpiff. super bien ...     1  \n",
              "6560                       peut bien aller faire ....\\n     1  \n",
              "6561                                         bien ...\\n     1  \n",
              "6562                       lache, aime bien cohérent.\\n     1  \n",
              "6563                                     bien nommée!\\n     1  \n",
              "\n",
              "[6564 rows x 3 columns]"
            ],
            "text/html": [
              "\n",
              "  <div id=\"df-f724511b-a02b-44fb-aafa-00775d2080ef\">\n",
              "    <div class=\"colab-df-container\">\n",
              "      <div>\n",
              "<style scoped>\n",
              "    .dataframe tbody tr th:only-of-type {\n",
              "        vertical-align: middle;\n",
              "    }\n",
              "\n",
              "    .dataframe tbody tr th {\n",
              "        vertical-align: top;\n",
              "    }\n",
              "\n",
              "    .dataframe thead th {\n",
              "        text-align: right;\n",
              "    }\n",
              "</style>\n",
              "<table border=\"1\" class=\"dataframe\">\n",
              "  <thead>\n",
              "    <tr style=\"text-align: right;\">\n",
              "      <th></th>\n",
              "      <th>tweet</th>\n",
              "      <th>clean_twt</th>\n",
              "      <th>pred</th>\n",
              "    </tr>\n",
              "  </thead>\n",
              "  <tbody>\n",
              "    <tr>\n",
              "      <th>0</th>\n",
              "      <td>L’ogre danois bien sûr\\n</td>\n",
              "      <td>ogre danois bien sûr\\n</td>\n",
              "      <td>1</td>\n",
              "    </tr>\n",
              "    <tr>\n",
              "      <th>1</th>\n",
              "      <td>J aimerais bien l avoir 😁\\n</td>\n",
              "      <td>aimerais bien avoir\\n</td>\n",
              "      <td>1</td>\n",
              "    </tr>\n",
              "    <tr>\n",
              "      <th>2</th>\n",
              "      <td>Parce que vous les valez bien ☺️\\n</td>\n",
              "      <td>valez bien\\n</td>\n",
              "      <td>1</td>\n",
              "    </tr>\n",
              "    <tr>\n",
              "      <th>3</th>\n",
              "      <td>Il est bien\\n</td>\n",
              "      <td>bien\\n</td>\n",
              "      <td>1</td>\n",
              "    </tr>\n",
              "    <tr>\n",
              "      <th>4</th>\n",
              "      <td>Elle doit être bien fatiguée d'avoir, depuis s...</td>\n",
              "      <td>être bien fatiguée d'avoir,, tête.\\n</td>\n",
              "      <td>1</td>\n",
              "    </tr>\n",
              "    <tr>\n",
              "      <th>...</th>\n",
              "      <td>...</td>\n",
              "      <td>...</td>\n",
              "      <td>...</td>\n",
              "    </tr>\n",
              "    <tr>\n",
              "      <th>6559</th>\n",
              "      <td>J’aime bien French Montana, depuis Datpiff. Il...</td>\n",
              "      <td>aime bien french montana, datpiff. super bien ...</td>\n",
              "      <td>1</td>\n",
              "    </tr>\n",
              "    <tr>\n",
              "      <th>6560</th>\n",
              "      <td>Il peut bien aller se faire....\\n</td>\n",
              "      <td>peut bien aller faire ....\\n</td>\n",
              "      <td>1</td>\n",
              "    </tr>\n",
              "    <tr>\n",
              "      <th>6561</th>\n",
              "      <td>Bien sur...\\n</td>\n",
              "      <td>bien ...\\n</td>\n",
              "      <td>1</td>\n",
              "    </tr>\n",
              "    <tr>\n",
              "      <th>6562</th>\n",
              "      <td>Lache rien , j'aime bien les gens cohérent com...</td>\n",
              "      <td>lache, aime bien cohérent.\\n</td>\n",
              "      <td>1</td>\n",
              "    </tr>\n",
              "    <tr>\n",
              "      <th>6563</th>\n",
              "      <td>La bien nommée !\\n</td>\n",
              "      <td>bien nommée!\\n</td>\n",
              "      <td>1</td>\n",
              "    </tr>\n",
              "  </tbody>\n",
              "</table>\n",
              "<p>6564 rows × 3 columns</p>\n",
              "</div>\n",
              "      <button class=\"colab-df-convert\" onclick=\"convertToInteractive('df-f724511b-a02b-44fb-aafa-00775d2080ef')\"\n",
              "              title=\"Convert this dataframe to an interactive table.\"\n",
              "              style=\"display:none;\">\n",
              "        \n",
              "  <svg xmlns=\"http://www.w3.org/2000/svg\" height=\"24px\"viewBox=\"0 0 24 24\"\n",
              "       width=\"24px\">\n",
              "    <path d=\"M0 0h24v24H0V0z\" fill=\"none\"/>\n",
              "    <path d=\"M18.56 5.44l.94 2.06.94-2.06 2.06-.94-2.06-.94-.94-2.06-.94 2.06-2.06.94zm-11 1L8.5 8.5l.94-2.06 2.06-.94-2.06-.94L8.5 2.5l-.94 2.06-2.06.94zm10 10l.94 2.06.94-2.06 2.06-.94-2.06-.94-.94-2.06-.94 2.06-2.06.94z\"/><path d=\"M17.41 7.96l-1.37-1.37c-.4-.4-.92-.59-1.43-.59-.52 0-1.04.2-1.43.59L10.3 9.45l-7.72 7.72c-.78.78-.78 2.05 0 2.83L4 21.41c.39.39.9.59 1.41.59.51 0 1.02-.2 1.41-.59l7.78-7.78 2.81-2.81c.8-.78.8-2.07 0-2.86zM5.41 20L4 18.59l7.72-7.72 1.47 1.35L5.41 20z\"/>\n",
              "  </svg>\n",
              "      </button>\n",
              "      \n",
              "  <style>\n",
              "    .colab-df-container {\n",
              "      display:flex;\n",
              "      flex-wrap:wrap;\n",
              "      gap: 12px;\n",
              "    }\n",
              "\n",
              "    .colab-df-convert {\n",
              "      background-color: #E8F0FE;\n",
              "      border: none;\n",
              "      border-radius: 50%;\n",
              "      cursor: pointer;\n",
              "      display: none;\n",
              "      fill: #1967D2;\n",
              "      height: 32px;\n",
              "      padding: 0 0 0 0;\n",
              "      width: 32px;\n",
              "    }\n",
              "\n",
              "    .colab-df-convert:hover {\n",
              "      background-color: #E2EBFA;\n",
              "      box-shadow: 0px 1px 2px rgba(60, 64, 67, 0.3), 0px 1px 3px 1px rgba(60, 64, 67, 0.15);\n",
              "      fill: #174EA6;\n",
              "    }\n",
              "\n",
              "    [theme=dark] .colab-df-convert {\n",
              "      background-color: #3B4455;\n",
              "      fill: #D2E3FC;\n",
              "    }\n",
              "\n",
              "    [theme=dark] .colab-df-convert:hover {\n",
              "      background-color: #434B5C;\n",
              "      box-shadow: 0px 1px 3px 1px rgba(0, 0, 0, 0.15);\n",
              "      filter: drop-shadow(0px 1px 2px rgba(0, 0, 0, 0.3));\n",
              "      fill: #FFFFFF;\n",
              "    }\n",
              "  </style>\n",
              "\n",
              "      <script>\n",
              "        const buttonEl =\n",
              "          document.querySelector('#df-f724511b-a02b-44fb-aafa-00775d2080ef button.colab-df-convert');\n",
              "        buttonEl.style.display =\n",
              "          google.colab.kernel.accessAllowed ? 'block' : 'none';\n",
              "\n",
              "        async function convertToInteractive(key) {\n",
              "          const element = document.querySelector('#df-f724511b-a02b-44fb-aafa-00775d2080ef');\n",
              "          const dataTable =\n",
              "            await google.colab.kernel.invokeFunction('convertToInteractive',\n",
              "                                                     [key], {});\n",
              "          if (!dataTable) return;\n",
              "\n",
              "          const docLinkHtml = 'Like what you see? Visit the ' +\n",
              "            '<a target=\"_blank\" href=https://colab.research.google.com/notebooks/data_table.ipynb>data table notebook</a>'\n",
              "            + ' to learn more about interactive tables.';\n",
              "          element.innerHTML = '';\n",
              "          dataTable['output_type'] = 'display_data';\n",
              "          await google.colab.output.renderOutput(dataTable, element);\n",
              "          const docLink = document.createElement('div');\n",
              "          docLink.innerHTML = docLinkHtml;\n",
              "          element.appendChild(docLink);\n",
              "        }\n",
              "      </script>\n",
              "    </div>\n",
              "  </div>\n",
              "  "
            ]
          },
          "metadata": {},
          "execution_count": 115
        }
      ]
    },
    {
      "cell_type": "code",
      "source": [
        "# Trouver les outliers de chaque cluster\n",
        "# ceux dont l'index est -1\n",
        "def outliers(df):\n",
        "  outliers=[]\n",
        "  for i in range(len(df)):\n",
        "    outliers.append(df[i]['tweet'].loc[df[i]['pred']==-1])\n",
        "  return outliers"
      ],
      "metadata": {
        "id": "pf6ZCC9jm0jW"
      },
      "execution_count": 116,
      "outputs": []
    },
    {
      "cell_type": "code",
      "source": [
        "liste_cluster=[\"km25\",\"km50\",\"km100\",\"som100\",\"som225\",\"som400\"]"
      ],
      "metadata": {
        "id": "qtfRwW1omB8P"
      },
      "execution_count": 117,
      "outputs": []
    },
    {
      "cell_type": "code",
      "execution_count": 119,
      "metadata": {
        "id": "MjIFW46YAzB5"
      },
      "outputs": [],
      "source": [
        "def save_outliers(outliers,string):\n",
        "  for i in range(len(outliers)):\n",
        "    with open(f\"drive/MyDrive/minstp/\"+string+f\"/outliers_{i}\", 'w') as f:\n",
        "      for line in outliers[i]:\n",
        "        f.write(line)"
      ]
    },
    {
      "cell_type": "code",
      "source": [
        "def loop_outliers(data, liste):\n",
        "  for i in range(len(data)):\n",
        "    save_outliers(outliers(data[i]),liste[i])"
      ],
      "metadata": {
        "id": "uxQ1z7hKkqqd"
      },
      "execution_count": 120,
      "outputs": []
    },
    {
      "cell_type": "code",
      "source": [
        "loop_outliers(data, liste_cluster)"
      ],
      "metadata": {
        "id": "emM_byAcmblu"
      },
      "execution_count": 121,
      "outputs": []
    }
  ],
  "metadata": {
    "colab": {
      "name": "IF_cluster_minstp.ipynb",
      "provenance": []
    },
    "kernelspec": {
      "display_name": "Python 3",
      "name": "python3"
    },
    "language_info": {
      "name": "python"
    }
  },
  "nbformat": 4,
  "nbformat_minor": 0
}